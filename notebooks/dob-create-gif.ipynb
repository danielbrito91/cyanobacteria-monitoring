{
 "cells": [
  {
   "cell_type": "code",
   "execution_count": 1,
   "metadata": {},
   "outputs": [
    {
     "name": "stdout",
     "output_type": "stream",
     "text": [
      "/Users/danieloliveiradebrito/Projetos/cyanobacteria-monitoring\n"
     ]
    }
   ],
   "source": [
    "%cd .."
   ]
  },
  {
   "cell_type": "code",
   "execution_count": 8,
   "metadata": {},
   "outputs": [],
   "source": [
    "import ee\n",
    "import geemap\n",
    "\n",
    "from src.data import make_s2a_dataset"
   ]
  },
  {
   "cell_type": "code",
   "execution_count": 4,
   "metadata": {},
   "outputs": [],
   "source": [
    "ee.Initialize()"
   ]
  },
  {
   "cell_type": "code",
   "execution_count": 21,
   "metadata": {},
   "outputs": [],
   "source": [
    "aoi = ee.Geometry.Polygon(\n",
    "   [[-51.37092752773506,-30.39967600502302],\n",
    "    [-50.98365946132881,-30.39967600502302],\n",
    "    [-50.98365946132881,-29.96995333552994],\n",
    "    [-51.37092752773506,-29.96995333552994],\n",
    "    ],\n",
    "    None,\n",
    "    False\n",
    ") "
   ]
  },
  {
   "cell_type": "code",
   "execution_count": 44,
   "metadata": {},
   "outputs": [
    {
     "name": "stdout",
     "output_type": "stream",
     "text": [
      "Generating URL...\n",
      "Downloading GIF image from https://earthengine.googleapis.com/v1/projects/earthengine-legacy/videoThumbnails/593c2e7cbbf3858be99b54f28c98b356-04f03ec25c5c4aec262539fe15c9bef5:getPixels\n",
      "Please wait ...\n",
      "The GIF image has been saved to: /Users/danieloliveiradebrito/Projetos/cyanobacteria-monitoring/reports/figs/guaiba.gif\n",
      "ffmpeg is not installed on your computer.\n"
     ]
    },
    {
     "data": {
      "text/plain": [
       "'/Users/danieloliveiradebrito/Projetos/cyanobacteria-monitoring/reports/figs/guaiba.gif'"
      ]
     },
     "execution_count": 44,
     "metadata": {},
     "output_type": "execute_result"
    }
   ],
   "source": [
    "geemap.sentinel2_timelapse(aoi,\n",
    "                           start_year=2018, \n",
    "                           end_year=2022,\n",
    "                           frequency=\"month\",\n",
    "                           bands=['Red', 'Green', 'Blue'],\n",
    "                           dimensions=614,\n",
    "                           #vis_params={\"min\": 0, \"max\": 0.4},\n",
    "                           out_gif=\"reports/figs/guaiba.gif\")"
   ]
  }
 ],
 "metadata": {
  "kernelspec": {
   "display_name": "venv",
   "language": "python",
   "name": "python3"
  },
  "language_info": {
   "codemirror_mode": {
    "name": "ipython",
    "version": 3
   },
   "file_extension": ".py",
   "mimetype": "text/x-python",
   "name": "python",
   "nbconvert_exporter": "python",
   "pygments_lexer": "ipython3",
   "version": "3.9.6"
  }
 },
 "nbformat": 4,
 "nbformat_minor": 2
}
