{
 "cells": [
  {
   "cell_type": "code",
   "execution_count": 1,
   "metadata": {},
   "outputs": [
    {
     "name": "stdout",
     "output_type": "stream",
     "text": [
      "c:\\Users\\Daniel\\cyanobacteria-monitoring\n"
     ]
    }
   ],
   "source": [
    "%cd .."
   ]
  },
  {
   "cell_type": "code",
   "execution_count": 18,
   "metadata": {},
   "outputs": [],
   "source": [
    "import gspread as gs\n",
    "from gspread_dataframe import set_with_dataframe\n",
    "import pandas as pd\n",
    "import yaml\n",
    "\n",
    "from src.data import label_gee"
   ]
  },
  {
   "cell_type": "code",
   "execution_count": 6,
   "metadata": {},
   "outputs": [],
   "source": [
    "with open(\"params.yaml\") as config_file:\n",
    "    config = yaml.safe_load(config_file)"
   ]
  },
  {
   "cell_type": "code",
   "execution_count": 10,
   "metadata": {},
   "outputs": [],
   "source": [
    "gc = gs.service_account(filename=\"config/service-account.json\")\n",
    "sh = gc.open_by_url(\"https://docs.google.com/spreadsheets/d/1HL9PO6TMQRHW3Z641zERfDRrscGpgXUf6ErpMOEUVLc/edit#gid=0\")\n",
    "ws = sh.worksheet(\"previsto\")\n",
    "\n",
    "ws.clear()\n",
    "\n",
    "preds = pd.read_csv(config[\"evaluate\"][\"final_predictions_file\"])\n",
    "\n",
    "set_with_dataframe(\n",
    "    worksheet=ws,\n",
    "    dataframe=preds,\n",
    "    include_index=False,\n",
    "    include_column_header=True,\n",
    "    resize=True)"
   ]
  },
  {
   "cell_type": "code",
   "execution_count": null,
   "metadata": {},
   "outputs": [],
   "source": [
    "gc = gs.service_account(filename=\"config/service-account.json\")\n",
    "sh = gc.open_by_url(\"https://docs.google.com/spreadsheets/d/1HL9PO6TMQRHW3Z641zERfDRrscGpgXUf6ErpMOEUVLc/edit#gid=0\")\n",
    "ws = sh.worksheet(\"previsto\")\n",
    "\n",
    "ws.clear()\n",
    "\n",
    "preds = pd.read_csv(config[\"evaluate\"][\"final_predictions_file\"])\n",
    "\n",
    "set_with_dataframe(\n",
    "    worksheet=ws,\n",
    "    dataframe=preds,\n",
    "    include_index=False,\n",
    "    include_column_header=True,\n",
    "    resize=True)"
   ]
  },
  {
   "cell_type": "code",
   "execution_count": 17,
   "metadata": {},
   "outputs": [
    {
     "data": {
      "text/html": [
       "<div>\n",
       "<style scoped>\n",
       "    .dataframe tbody tr th:only-of-type {\n",
       "        vertical-align: middle;\n",
       "    }\n",
       "\n",
       "    .dataframe tbody tr th {\n",
       "        vertical-align: top;\n",
       "    }\n",
       "\n",
       "    .dataframe thead th {\n",
       "        text-align: right;\n",
       "    }\n",
       "</style>\n",
       "<table border=\"1\" class=\"dataframe\">\n",
       "  <thead>\n",
       "    <tr style=\"text-align: right;\">\n",
       "      <th></th>\n",
       "      <th>date</th>\n",
       "      <th>y_pred</th>\n",
       "    </tr>\n",
       "  </thead>\n",
       "  <tbody>\n",
       "    <tr>\n",
       "      <th>0</th>\n",
       "      <td>2018-12-26 13:30:43</td>\n",
       "      <td>1514.905831</td>\n",
       "    </tr>\n",
       "    <tr>\n",
       "      <th>1</th>\n",
       "      <td>2019-01-25 13:30:47</td>\n",
       "      <td>69.762965</td>\n",
       "    </tr>\n",
       "    <tr>\n",
       "      <th>2</th>\n",
       "      <td>2019-01-28 13:40:43</td>\n",
       "      <td>199.751282</td>\n",
       "    </tr>\n",
       "    <tr>\n",
       "      <th>3</th>\n",
       "      <td>2019-01-30 13:30:51</td>\n",
       "      <td>176.383358</td>\n",
       "    </tr>\n",
       "    <tr>\n",
       "      <th>4</th>\n",
       "      <td>2019-02-04 13:30:48</td>\n",
       "      <td>163.824003</td>\n",
       "    </tr>\n",
       "    <tr>\n",
       "      <th>...</th>\n",
       "      <td>...</td>\n",
       "      <td>...</td>\n",
       "    </tr>\n",
       "    <tr>\n",
       "      <th>222</th>\n",
       "      <td>2022-12-25 13:30:49</td>\n",
       "      <td>844.809366</td>\n",
       "    </tr>\n",
       "    <tr>\n",
       "      <th>223</th>\n",
       "      <td>2022-12-30 13:30:50</td>\n",
       "      <td>558.340662</td>\n",
       "    </tr>\n",
       "    <tr>\n",
       "      <th>224</th>\n",
       "      <td>2023-01-04 13:30:50</td>\n",
       "      <td>1114.869545</td>\n",
       "    </tr>\n",
       "    <tr>\n",
       "      <th>225</th>\n",
       "      <td>2023-01-09 13:30:47</td>\n",
       "      <td>839.658329</td>\n",
       "    </tr>\n",
       "    <tr>\n",
       "      <th>226</th>\n",
       "      <td>2023-01-14 13:30:48</td>\n",
       "      <td>2007.258289</td>\n",
       "    </tr>\n",
       "  </tbody>\n",
       "</table>\n",
       "<p>227 rows × 2 columns</p>\n",
       "</div>"
      ],
      "text/plain": [
       "                    date       y_pred\n",
       "0    2018-12-26 13:30:43  1514.905831\n",
       "1    2019-01-25 13:30:47    69.762965\n",
       "2    2019-01-28 13:40:43   199.751282\n",
       "3    2019-01-30 13:30:51   176.383358\n",
       "4    2019-02-04 13:30:48   163.824003\n",
       "..                   ...          ...\n",
       "222  2022-12-25 13:30:49   844.809366\n",
       "223  2022-12-30 13:30:50   558.340662\n",
       "224  2023-01-04 13:30:50  1114.869545\n",
       "225  2023-01-09 13:30:47   839.658329\n",
       "226  2023-01-14 13:30:48  2007.258289\n",
       "\n",
       "[227 rows x 2 columns]"
      ]
     },
     "execution_count": 17,
     "metadata": {},
     "output_type": "execute_result"
    }
   ],
   "source": [
    "sheet_url = \"https://docs.google.com/spreadsheets/d/1HL9PO6TMQRHW3Z641zERfDRrscGpgXUf6ErpMOEUVLc/edit#gid=0\"\n",
    "url_1 = sheet_url.replace('/edit#gid=', '/export?format=csv&gid=')\n",
    "\n",
    "pd.read_csv(url_1, encoding=\"latin1\", decimal=\",\")"
   ]
  },
  {
   "cell_type": "code",
   "execution_count": 21,
   "metadata": {},
   "outputs": [
    {
     "name": "stderr",
     "output_type": "stream",
     "text": [
      "c:\\Users\\Daniel\\cyanobacteria-monitoring\\src\\data\\label_gee.py:25: SettingWithCopyWarning: \n",
      "A value is trying to be set on a copy of a slice from a DataFrame.\n",
      "Try using .loc[row_indexer,col_indexer] = value instead\n",
      "\n",
      "See the caveats in the documentation: https://pandas.pydata.org/pandas-docs/stable/user_guide/indexing.html#returning-a-view-versus-a-copy\n",
      "  ciano_labels.loc[:, \"Data da coleta\"] = pd.to_datetime(\n",
      "c:\\Users\\Daniel\\cyanobacteria-monitoring\\src\\data\\label_gee.py:28: SettingWithCopyWarning: \n",
      "A value is trying to be set on a copy of a slice from a DataFrame.\n",
      "Try using .loc[row_indexer,col_indexer] = value instead\n",
      "\n",
      "See the caveats in the documentation: https://pandas.pydata.org/pandas-docs/stable/user_guide/indexing.html#returning-a-view-versus-a-copy\n",
      "  ciano_labels.loc[:, \"Resultado\"] = pd.to_numeric(ciano_labels[\"Resultado\"])\n"
     ]
    }
   ],
   "source": [
    "sh_ciano = gc.open_by_url(\"https://docs.google.com/spreadsheets/d/1HL9PO6TMQRHW3Z641zERfDRrscGpgXUf6ErpMOEUVLc/edit#gid=1074409459\")\n",
    "ws_ciano = sh.worksheet(\"vigi\")\n",
    "\n",
    "ws_ciano.clear()\n",
    "\n",
    "_, ciano = label_gee.load_data(config)\n",
    "\n",
    "set_with_dataframe(\n",
    "    worksheet=ws_ciano,\n",
    "    dataframe=ciano,\n",
    "    include_index=False,\n",
    "    include_column_header=True,\n",
    "    resize=True)"
   ]
  }
 ],
 "metadata": {
  "kernelspec": {
   "display_name": "venv",
   "language": "python",
   "name": "python3"
  },
  "language_info": {
   "codemirror_mode": {
    "name": "ipython",
    "version": 3
   },
   "file_extension": ".py",
   "mimetype": "text/x-python",
   "name": "python",
   "nbconvert_exporter": "python",
   "pygments_lexer": "ipython3",
   "version": "3.10.0"
  },
  "orig_nbformat": 4,
  "vscode": {
   "interpreter": {
    "hash": "bea6f214db0c84ba1d605d7831ff73fdd276b23b770cc907ce79b7d66bebf2cb"
   }
  }
 },
 "nbformat": 4,
 "nbformat_minor": 2
}
