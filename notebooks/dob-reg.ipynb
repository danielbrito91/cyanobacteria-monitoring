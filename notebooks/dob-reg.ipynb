{
 "cells": [
  {
   "cell_type": "code",
   "execution_count": 1,
   "metadata": {},
   "outputs": [
    {
     "name": "stdout",
     "output_type": "stream",
     "text": [
      "c:\\Users\\Daniel\\cyanobacteria-monitoring\n"
     ]
    }
   ],
   "source": [
    "%cd .."
   ]
  },
  {
   "cell_type": "code",
   "execution_count": 2,
   "metadata": {},
   "outputs": [
    {
     "name": "stderr",
     "output_type": "stream",
     "text": [
      "c:\\Users\\Daniel\\cyanobacteria-monitoring\\venv\\lib\\site-packages\\tqdm\\auto.py:22: TqdmWarning: IProgress not found. Please update jupyter and ipywidgets. See https://ipywidgets.readthedocs.io/en/stable/user_install.html\n",
      "  from .autonotebook import tqdm as notebook_tqdm\n"
     ]
    }
   ],
   "source": [
    "import yaml\n",
    "import pandas as pd\n",
    "\n",
    "from sklearn.model_selection import RepeatedKFold\n",
    "from sklearn.model_selection import train_test_split\n",
    "from sklearn.model_selection import cross_val_score\n",
    "from sklearn.pipeline import Pipeline\n",
    "from sklearn.preprocessing import PolynomialFeatures\n",
    "from sklearn.linear_model import Ridge\n",
    "from sklearn.metrics import mean_absolute_error\n",
    "from sklearn.preprocessing import PowerTransformer\n",
    "from sklearn.compose import TransformedTargetRegressor\n",
    "\n",
    "from sklearn.ensemble import RandomForestRegressor\n",
    "import xgboost\n",
    "from sklearn.model_selection import KFold\n",
    "\n",
    "import plotly.express as px\n",
    "\n",
    "import numpy as np\n",
    "\n",
    "import optuna\n",
    "from optuna.visualization import plot_param_importances\n",
    "from optuna.visualization import plot_optimization_history"
   ]
  },
  {
   "cell_type": "code",
   "execution_count": 5,
   "metadata": {},
   "outputs": [],
   "source": [
    "import requests\n",
    "from bs4 import BeautifulSoup\n",
    "\n",
    "url = \"https://dados.gov.br/dataset/sisagua-controle-mensal-resultado-de-analises\"\n",
    "data = requests.get(url).text\n",
    "soup = BeautifulSoup(data, \"html.parser\")\n"
   ]
  },
  {
   "cell_type": "code",
   "execution_count": 64,
   "metadata": {},
   "outputs": [],
   "source": [
    "from lib2to3.pgen2.token import COLONEQUAL\n",
    "\n",
    "\n",
    "table = soup.find(\"table\", {\"class\": \"table table-striped table-bordered table-condensed\"})\n",
    "\n",
    "row_headers = []\n",
    "table_values = []\n",
    "\n",
    "for x in table.find_all(\"tr\"):\n",
    "    for y in x.find_all(\"th\"):\n",
    "        if y.text not in [\"Campo\", \"Valor\"]:\n",
    "            row_headers.append(y.text)\n",
    "\n",
    "for x in table.find_all(\"tr\")[1:]:\n",
    "    td_tags = x.find_all(\"td\")\n",
    "    td_text = [y.text for y in td_tags]\n",
    "    table_values.append(td_text)\n",
    "\n",
    "resultado = []\n",
    "for (header, val) in zip(row_headers, table_values):\n",
    "    resultado.append((header, val[0]))\n",
    "\n",
    "resultado = pd.DataFrame(resultado, columns=[\"Campo\", \"Valor\"])"
   ]
  },
  {
   "cell_type": "code",
   "execution_count": 84,
   "metadata": {},
   "outputs": [
    {
     "data": {
      "text/plain": [
       "3    2 de Setembro de 2022, 02:54 (BRT)\n",
       "Name: Valor, dtype: object"
      ]
     },
     "execution_count": 84,
     "metadata": {},
     "output_type": "execute_result"
    }
   ],
   "source": [
    "resultado.loc[resultado[\"Campo\"] == \"Última Atualização\", \"Valor\"].str.replace(\"\\n\", \"\").str.strip()"
   ]
  },
  {
   "cell_type": "code",
   "execution_count": 101,
   "metadata": {},
   "outputs": [],
   "source": [
    "with open(\"params.yaml\") as config_file:\n",
    "    config = yaml.safe_load(config_file)\n",
    "\n",
    "xgb_p = config[\"train\"][\"estimators\"][\"xgboost\"][\"params\"]"
   ]
  },
  {
   "cell_type": "code",
   "execution_count": 106,
   "metadata": {},
   "outputs": [
    {
     "name": "stdout",
     "output_type": "stream",
     "text": [
      "n_estimators 1000\n",
      "learning_rate 0.5\n",
      "max_depth 16\n",
      "subsample 0.8\n",
      "colsample_bytree 0.9\n",
      "colsample_bylevel 0.4\n",
      "scale_pos_weight 85\n"
     ]
    }
   ],
   "source": [
    "for k, v in xgb_p.items():\n",
    "    print(k, v)"
   ]
  },
  {
   "cell_type": "markdown",
   "metadata": {},
   "source": [
    "# Load Data"
   ]
  },
  {
   "cell_type": "code",
   "execution_count": 3,
   "metadata": {},
   "outputs": [
    {
     "name": "stdout",
     "output_type": "stream",
     "text": [
      "2022-09-25 10:58:47,674 — DATA_LOAD — INFO — Reading data from SISAGUA (Datagov)\n",
      "2022-09-25 10:59:04,591 — DATA_LOAD — INFO — Save data from SISAGUA (Datagov)\n",
      "2022-09-25 10:59:04,792 — DATA_LOAD — INFO — Reading data from GEE\n",
      "2022-09-25 11:04:20,425 — DATA_LOAD — INFO — Save data from GEE\n"
     ]
    }
   ],
   "source": [
    "from src.stages.data_load import data_load\n",
    "\n",
    "data_load(\"params.yaml\")"
   ]
  },
  {
   "cell_type": "code",
   "execution_count": 5,
   "metadata": {},
   "outputs": [
    {
     "ename": "ParserError",
     "evalue": "while parsing a block mapping\n  in \"params.yaml\", line 41, column 9\nexpected <block end>, but found ','\n  in \"params.yaml\", line 45, column 32",
     "output_type": "error",
     "traceback": [
      "\u001b[1;31m---------------------------------------------------------------------------\u001b[0m",
      "\u001b[1;31mParserError\u001b[0m                               Traceback (most recent call last)",
      "\u001b[1;32mc:\\Users\\Daniel\\cyanobacteria-monitoring\\notebooks\\dob-reg.ipynb Célula: 5\u001b[0m in \u001b[0;36m<cell line: 3>\u001b[1;34m()\u001b[0m\n\u001b[0;32m      <a href='vscode-notebook-cell:/c%3A/Users/Daniel/cyanobacteria-monitoring/notebooks/dob-reg.ipynb#W4sZmlsZQ%3D%3D?line=0'>1</a>\u001b[0m \u001b[39mfrom\u001b[39;00m \u001b[39msrc\u001b[39;00m\u001b[39m.\u001b[39;00m\u001b[39mstages\u001b[39;00m\u001b[39m.\u001b[39;00m\u001b[39mdata_label\u001b[39;00m \u001b[39mimport\u001b[39;00m data_label\n\u001b[1;32m----> <a href='vscode-notebook-cell:/c%3A/Users/Daniel/cyanobacteria-monitoring/notebooks/dob-reg.ipynb#W4sZmlsZQ%3D%3D?line=2'>3</a>\u001b[0m data_label(\u001b[39m\"\u001b[39;49m\u001b[39mparams.yaml\u001b[39;49m\u001b[39m\"\u001b[39;49m)\n",
      "File \u001b[1;32mc:\\Users\\Daniel\\cyanobacteria-monitoring\\src\\stages\\data_label.py:88\u001b[0m, in \u001b[0;36mdata_label\u001b[1;34m(config_path)\u001b[0m\n\u001b[0;32m     85\u001b[0m \u001b[39mdef\u001b[39;00m \u001b[39mdata_label\u001b[39m(config_path: Text) \u001b[39m-\u001b[39m\u001b[39m>\u001b[39m \u001b[39mNone\u001b[39;00m:\n\u001b[0;32m     87\u001b[0m     \u001b[39mwith\u001b[39;00m \u001b[39mopen\u001b[39m(config_path) \u001b[39mas\u001b[39;00m config_file:\n\u001b[1;32m---> 88\u001b[0m         config \u001b[39m=\u001b[39m yaml\u001b[39m.\u001b[39;49msafe_load(config_file)\n\u001b[0;32m     90\u001b[0m     logger \u001b[39m=\u001b[39m get_logger(\u001b[39m\"\u001b[39m\u001b[39mDATA_LABEL\u001b[39m\u001b[39m\"\u001b[39m, log_level\u001b[39m=\u001b[39mconfig[\u001b[39m\"\u001b[39m\u001b[39mbase\u001b[39m\u001b[39m\"\u001b[39m][\u001b[39m\"\u001b[39m\u001b[39mlog_level\u001b[39m\u001b[39m\"\u001b[39m])\n\u001b[0;32m     92\u001b[0m     gee, ciano_labels \u001b[39m=\u001b[39m load_data(config)\n",
      "File \u001b[1;32mc:\\Users\\Daniel\\cyanobacteria-monitoring\\venv\\lib\\site-packages\\yaml\\__init__.py:125\u001b[0m, in \u001b[0;36msafe_load\u001b[1;34m(stream)\u001b[0m\n\u001b[0;32m    117\u001b[0m \u001b[39mdef\u001b[39;00m \u001b[39msafe_load\u001b[39m(stream):\n\u001b[0;32m    118\u001b[0m     \u001b[39m\"\"\"\u001b[39;00m\n\u001b[0;32m    119\u001b[0m \u001b[39m    Parse the first YAML document in a stream\u001b[39;00m\n\u001b[0;32m    120\u001b[0m \u001b[39m    and produce the corresponding Python object.\u001b[39;00m\n\u001b[1;32m   (...)\u001b[0m\n\u001b[0;32m    123\u001b[0m \u001b[39m    to be safe for untrusted input.\u001b[39;00m\n\u001b[0;32m    124\u001b[0m \u001b[39m    \"\"\"\u001b[39;00m\n\u001b[1;32m--> 125\u001b[0m     \u001b[39mreturn\u001b[39;00m load(stream, SafeLoader)\n",
      "File \u001b[1;32mc:\\Users\\Daniel\\cyanobacteria-monitoring\\venv\\lib\\site-packages\\yaml\\__init__.py:81\u001b[0m, in \u001b[0;36mload\u001b[1;34m(stream, Loader)\u001b[0m\n\u001b[0;32m     79\u001b[0m loader \u001b[39m=\u001b[39m Loader(stream)\n\u001b[0;32m     80\u001b[0m \u001b[39mtry\u001b[39;00m:\n\u001b[1;32m---> 81\u001b[0m     \u001b[39mreturn\u001b[39;00m loader\u001b[39m.\u001b[39;49mget_single_data()\n\u001b[0;32m     82\u001b[0m \u001b[39mfinally\u001b[39;00m:\n\u001b[0;32m     83\u001b[0m     loader\u001b[39m.\u001b[39mdispose()\n",
      "File \u001b[1;32mc:\\Users\\Daniel\\cyanobacteria-monitoring\\venv\\lib\\site-packages\\yaml\\constructor.py:49\u001b[0m, in \u001b[0;36mBaseConstructor.get_single_data\u001b[1;34m(self)\u001b[0m\n\u001b[0;32m     47\u001b[0m \u001b[39mdef\u001b[39;00m \u001b[39mget_single_data\u001b[39m(\u001b[39mself\u001b[39m):\n\u001b[0;32m     48\u001b[0m     \u001b[39m# Ensure that the stream contains a single document and construct it.\u001b[39;00m\n\u001b[1;32m---> 49\u001b[0m     node \u001b[39m=\u001b[39m \u001b[39mself\u001b[39;49m\u001b[39m.\u001b[39;49mget_single_node()\n\u001b[0;32m     50\u001b[0m     \u001b[39mif\u001b[39;00m node \u001b[39mis\u001b[39;00m \u001b[39mnot\u001b[39;00m \u001b[39mNone\u001b[39;00m:\n\u001b[0;32m     51\u001b[0m         \u001b[39mreturn\u001b[39;00m \u001b[39mself\u001b[39m\u001b[39m.\u001b[39mconstruct_document(node)\n",
      "File \u001b[1;32mc:\\Users\\Daniel\\cyanobacteria-monitoring\\venv\\lib\\site-packages\\yaml\\composer.py:36\u001b[0m, in \u001b[0;36mComposer.get_single_node\u001b[1;34m(self)\u001b[0m\n\u001b[0;32m     34\u001b[0m document \u001b[39m=\u001b[39m \u001b[39mNone\u001b[39;00m\n\u001b[0;32m     35\u001b[0m \u001b[39mif\u001b[39;00m \u001b[39mnot\u001b[39;00m \u001b[39mself\u001b[39m\u001b[39m.\u001b[39mcheck_event(StreamEndEvent):\n\u001b[1;32m---> 36\u001b[0m     document \u001b[39m=\u001b[39m \u001b[39mself\u001b[39;49m\u001b[39m.\u001b[39;49mcompose_document()\n\u001b[0;32m     38\u001b[0m \u001b[39m# Ensure that the stream contains no more documents.\u001b[39;00m\n\u001b[0;32m     39\u001b[0m \u001b[39mif\u001b[39;00m \u001b[39mnot\u001b[39;00m \u001b[39mself\u001b[39m\u001b[39m.\u001b[39mcheck_event(StreamEndEvent):\n",
      "File \u001b[1;32mc:\\Users\\Daniel\\cyanobacteria-monitoring\\venv\\lib\\site-packages\\yaml\\composer.py:55\u001b[0m, in \u001b[0;36mComposer.compose_document\u001b[1;34m(self)\u001b[0m\n\u001b[0;32m     52\u001b[0m \u001b[39mself\u001b[39m\u001b[39m.\u001b[39mget_event()\n\u001b[0;32m     54\u001b[0m \u001b[39m# Compose the root node.\u001b[39;00m\n\u001b[1;32m---> 55\u001b[0m node \u001b[39m=\u001b[39m \u001b[39mself\u001b[39;49m\u001b[39m.\u001b[39;49mcompose_node(\u001b[39mNone\u001b[39;49;00m, \u001b[39mNone\u001b[39;49;00m)\n\u001b[0;32m     57\u001b[0m \u001b[39m# Drop the DOCUMENT-END event.\u001b[39;00m\n\u001b[0;32m     58\u001b[0m \u001b[39mself\u001b[39m\u001b[39m.\u001b[39mget_event()\n",
      "File \u001b[1;32mc:\\Users\\Daniel\\cyanobacteria-monitoring\\venv\\lib\\site-packages\\yaml\\composer.py:84\u001b[0m, in \u001b[0;36mComposer.compose_node\u001b[1;34m(self, parent, index)\u001b[0m\n\u001b[0;32m     82\u001b[0m     node \u001b[39m=\u001b[39m \u001b[39mself\u001b[39m\u001b[39m.\u001b[39mcompose_sequence_node(anchor)\n\u001b[0;32m     83\u001b[0m \u001b[39melif\u001b[39;00m \u001b[39mself\u001b[39m\u001b[39m.\u001b[39mcheck_event(MappingStartEvent):\n\u001b[1;32m---> 84\u001b[0m     node \u001b[39m=\u001b[39m \u001b[39mself\u001b[39;49m\u001b[39m.\u001b[39;49mcompose_mapping_node(anchor)\n\u001b[0;32m     85\u001b[0m \u001b[39mself\u001b[39m\u001b[39m.\u001b[39mascend_resolver()\n\u001b[0;32m     86\u001b[0m \u001b[39mreturn\u001b[39;00m node\n",
      "File \u001b[1;32mc:\\Users\\Daniel\\cyanobacteria-monitoring\\venv\\lib\\site-packages\\yaml\\composer.py:133\u001b[0m, in \u001b[0;36mComposer.compose_mapping_node\u001b[1;34m(self, anchor)\u001b[0m\n\u001b[0;32m    129\u001b[0m item_key \u001b[39m=\u001b[39m \u001b[39mself\u001b[39m\u001b[39m.\u001b[39mcompose_node(node, \u001b[39mNone\u001b[39;00m)\n\u001b[0;32m    130\u001b[0m \u001b[39m#if item_key in node.value:\u001b[39;00m\n\u001b[0;32m    131\u001b[0m \u001b[39m#    raise ComposerError(\"while composing a mapping\", start_event.start_mark,\u001b[39;00m\n\u001b[0;32m    132\u001b[0m \u001b[39m#            \"found duplicate key\", key_event.start_mark)\u001b[39;00m\n\u001b[1;32m--> 133\u001b[0m item_value \u001b[39m=\u001b[39m \u001b[39mself\u001b[39;49m\u001b[39m.\u001b[39;49mcompose_node(node, item_key)\n\u001b[0;32m    134\u001b[0m \u001b[39m#node.value[item_key] = item_value\u001b[39;00m\n\u001b[0;32m    135\u001b[0m node\u001b[39m.\u001b[39mvalue\u001b[39m.\u001b[39mappend((item_key, item_value))\n",
      "File \u001b[1;32mc:\\Users\\Daniel\\cyanobacteria-monitoring\\venv\\lib\\site-packages\\yaml\\composer.py:84\u001b[0m, in \u001b[0;36mComposer.compose_node\u001b[1;34m(self, parent, index)\u001b[0m\n\u001b[0;32m     82\u001b[0m     node \u001b[39m=\u001b[39m \u001b[39mself\u001b[39m\u001b[39m.\u001b[39mcompose_sequence_node(anchor)\n\u001b[0;32m     83\u001b[0m \u001b[39melif\u001b[39;00m \u001b[39mself\u001b[39m\u001b[39m.\u001b[39mcheck_event(MappingStartEvent):\n\u001b[1;32m---> 84\u001b[0m     node \u001b[39m=\u001b[39m \u001b[39mself\u001b[39;49m\u001b[39m.\u001b[39;49mcompose_mapping_node(anchor)\n\u001b[0;32m     85\u001b[0m \u001b[39mself\u001b[39m\u001b[39m.\u001b[39mascend_resolver()\n\u001b[0;32m     86\u001b[0m \u001b[39mreturn\u001b[39;00m node\n",
      "File \u001b[1;32mc:\\Users\\Daniel\\cyanobacteria-monitoring\\venv\\lib\\site-packages\\yaml\\composer.py:133\u001b[0m, in \u001b[0;36mComposer.compose_mapping_node\u001b[1;34m(self, anchor)\u001b[0m\n\u001b[0;32m    129\u001b[0m item_key \u001b[39m=\u001b[39m \u001b[39mself\u001b[39m\u001b[39m.\u001b[39mcompose_node(node, \u001b[39mNone\u001b[39;00m)\n\u001b[0;32m    130\u001b[0m \u001b[39m#if item_key in node.value:\u001b[39;00m\n\u001b[0;32m    131\u001b[0m \u001b[39m#    raise ComposerError(\"while composing a mapping\", start_event.start_mark,\u001b[39;00m\n\u001b[0;32m    132\u001b[0m \u001b[39m#            \"found duplicate key\", key_event.start_mark)\u001b[39;00m\n\u001b[1;32m--> 133\u001b[0m item_value \u001b[39m=\u001b[39m \u001b[39mself\u001b[39;49m\u001b[39m.\u001b[39;49mcompose_node(node, item_key)\n\u001b[0;32m    134\u001b[0m \u001b[39m#node.value[item_key] = item_value\u001b[39;00m\n\u001b[0;32m    135\u001b[0m node\u001b[39m.\u001b[39mvalue\u001b[39m.\u001b[39mappend((item_key, item_value))\n",
      "    \u001b[1;31m[... skipping similar frames: Composer.compose_node at line 84 (2 times), Composer.compose_mapping_node at line 133 (1 times)]\u001b[0m\n",
      "File \u001b[1;32mc:\\Users\\Daniel\\cyanobacteria-monitoring\\venv\\lib\\site-packages\\yaml\\composer.py:133\u001b[0m, in \u001b[0;36mComposer.compose_mapping_node\u001b[1;34m(self, anchor)\u001b[0m\n\u001b[0;32m    129\u001b[0m item_key \u001b[39m=\u001b[39m \u001b[39mself\u001b[39m\u001b[39m.\u001b[39mcompose_node(node, \u001b[39mNone\u001b[39;00m)\n\u001b[0;32m    130\u001b[0m \u001b[39m#if item_key in node.value:\u001b[39;00m\n\u001b[0;32m    131\u001b[0m \u001b[39m#    raise ComposerError(\"while composing a mapping\", start_event.start_mark,\u001b[39;00m\n\u001b[0;32m    132\u001b[0m \u001b[39m#            \"found duplicate key\", key_event.start_mark)\u001b[39;00m\n\u001b[1;32m--> 133\u001b[0m item_value \u001b[39m=\u001b[39m \u001b[39mself\u001b[39;49m\u001b[39m.\u001b[39;49mcompose_node(node, item_key)\n\u001b[0;32m    134\u001b[0m \u001b[39m#node.value[item_key] = item_value\u001b[39;00m\n\u001b[0;32m    135\u001b[0m node\u001b[39m.\u001b[39mvalue\u001b[39m.\u001b[39mappend((item_key, item_value))\n",
      "File \u001b[1;32mc:\\Users\\Daniel\\cyanobacteria-monitoring\\venv\\lib\\site-packages\\yaml\\composer.py:84\u001b[0m, in \u001b[0;36mComposer.compose_node\u001b[1;34m(self, parent, index)\u001b[0m\n\u001b[0;32m     82\u001b[0m     node \u001b[39m=\u001b[39m \u001b[39mself\u001b[39m\u001b[39m.\u001b[39mcompose_sequence_node(anchor)\n\u001b[0;32m     83\u001b[0m \u001b[39melif\u001b[39;00m \u001b[39mself\u001b[39m\u001b[39m.\u001b[39mcheck_event(MappingStartEvent):\n\u001b[1;32m---> 84\u001b[0m     node \u001b[39m=\u001b[39m \u001b[39mself\u001b[39;49m\u001b[39m.\u001b[39;49mcompose_mapping_node(anchor)\n\u001b[0;32m     85\u001b[0m \u001b[39mself\u001b[39m\u001b[39m.\u001b[39mascend_resolver()\n\u001b[0;32m     86\u001b[0m \u001b[39mreturn\u001b[39;00m node\n",
      "File \u001b[1;32mc:\\Users\\Daniel\\cyanobacteria-monitoring\\venv\\lib\\site-packages\\yaml\\composer.py:127\u001b[0m, in \u001b[0;36mComposer.compose_mapping_node\u001b[1;34m(self, anchor)\u001b[0m\n\u001b[0;32m    125\u001b[0m \u001b[39mif\u001b[39;00m anchor \u001b[39mis\u001b[39;00m \u001b[39mnot\u001b[39;00m \u001b[39mNone\u001b[39;00m:\n\u001b[0;32m    126\u001b[0m     \u001b[39mself\u001b[39m\u001b[39m.\u001b[39manchors[anchor] \u001b[39m=\u001b[39m node\n\u001b[1;32m--> 127\u001b[0m \u001b[39mwhile\u001b[39;00m \u001b[39mnot\u001b[39;00m \u001b[39mself\u001b[39;49m\u001b[39m.\u001b[39;49mcheck_event(MappingEndEvent):\n\u001b[0;32m    128\u001b[0m     \u001b[39m#key_event = self.peek_event()\u001b[39;00m\n\u001b[0;32m    129\u001b[0m     item_key \u001b[39m=\u001b[39m \u001b[39mself\u001b[39m\u001b[39m.\u001b[39mcompose_node(node, \u001b[39mNone\u001b[39;00m)\n\u001b[0;32m    130\u001b[0m     \u001b[39m#if item_key in node.value:\u001b[39;00m\n\u001b[0;32m    131\u001b[0m     \u001b[39m#    raise ComposerError(\"while composing a mapping\", start_event.start_mark,\u001b[39;00m\n\u001b[0;32m    132\u001b[0m     \u001b[39m#            \"found duplicate key\", key_event.start_mark)\u001b[39;00m\n",
      "File \u001b[1;32mc:\\Users\\Daniel\\cyanobacteria-monitoring\\venv\\lib\\site-packages\\yaml\\parser.py:98\u001b[0m, in \u001b[0;36mParser.check_event\u001b[1;34m(self, *choices)\u001b[0m\n\u001b[0;32m     96\u001b[0m \u001b[39mif\u001b[39;00m \u001b[39mself\u001b[39m\u001b[39m.\u001b[39mcurrent_event \u001b[39mis\u001b[39;00m \u001b[39mNone\u001b[39;00m:\n\u001b[0;32m     97\u001b[0m     \u001b[39mif\u001b[39;00m \u001b[39mself\u001b[39m\u001b[39m.\u001b[39mstate:\n\u001b[1;32m---> 98\u001b[0m         \u001b[39mself\u001b[39m\u001b[39m.\u001b[39mcurrent_event \u001b[39m=\u001b[39m \u001b[39mself\u001b[39;49m\u001b[39m.\u001b[39;49mstate()\n\u001b[0;32m     99\u001b[0m \u001b[39mif\u001b[39;00m \u001b[39mself\u001b[39m\u001b[39m.\u001b[39mcurrent_event \u001b[39mis\u001b[39;00m \u001b[39mnot\u001b[39;00m \u001b[39mNone\u001b[39;00m:\n\u001b[0;32m    100\u001b[0m     \u001b[39mif\u001b[39;00m \u001b[39mnot\u001b[39;00m choices:\n",
      "File \u001b[1;32mc:\\Users\\Daniel\\cyanobacteria-monitoring\\venv\\lib\\site-packages\\yaml\\parser.py:438\u001b[0m, in \u001b[0;36mParser.parse_block_mapping_key\u001b[1;34m(self)\u001b[0m\n\u001b[0;32m    436\u001b[0m \u001b[39mif\u001b[39;00m \u001b[39mnot\u001b[39;00m \u001b[39mself\u001b[39m\u001b[39m.\u001b[39mcheck_token(BlockEndToken):\n\u001b[0;32m    437\u001b[0m     token \u001b[39m=\u001b[39m \u001b[39mself\u001b[39m\u001b[39m.\u001b[39mpeek_token()\n\u001b[1;32m--> 438\u001b[0m     \u001b[39mraise\u001b[39;00m ParserError(\u001b[39m\"\u001b[39m\u001b[39mwhile parsing a block mapping\u001b[39m\u001b[39m\"\u001b[39m, \u001b[39mself\u001b[39m\u001b[39m.\u001b[39mmarks[\u001b[39m-\u001b[39m\u001b[39m1\u001b[39m],\n\u001b[0;32m    439\u001b[0m             \u001b[39m\"\u001b[39m\u001b[39mexpected <block end>, but found \u001b[39m\u001b[39m%r\u001b[39;00m\u001b[39m\"\u001b[39m \u001b[39m%\u001b[39m token\u001b[39m.\u001b[39mid, token\u001b[39m.\u001b[39mstart_mark)\n\u001b[0;32m    440\u001b[0m token \u001b[39m=\u001b[39m \u001b[39mself\u001b[39m\u001b[39m.\u001b[39mget_token()\n\u001b[0;32m    441\u001b[0m event \u001b[39m=\u001b[39m MappingEndEvent(token\u001b[39m.\u001b[39mstart_mark, token\u001b[39m.\u001b[39mend_mark)\n",
      "\u001b[1;31mParserError\u001b[0m: while parsing a block mapping\n  in \"params.yaml\", line 41, column 9\nexpected <block end>, but found ','\n  in \"params.yaml\", line 45, column 32"
     ]
    }
   ],
   "source": [
    "from src.stages.data_label import data_label\n",
    "\n",
    "data_label(\"params.yaml\")"
   ]
  },
  {
   "cell_type": "code",
   "execution_count": 17,
   "metadata": {},
   "outputs": [
    {
     "name": "stdout",
     "output_type": "stream",
     "text": [
      "2022-08-23 15:46:35,086 — DATA_SPLIT — INFO — Load features\n",
      "2022-08-23 15:46:35,095 — DATA_SPLIT — INFO — Split data into train and test\n",
      "2022-08-23 15:46:35,098 — DATA_SPLIT — INFO — Oversampling training data\n"
     ]
    },
    {
     "name": "stderr",
     "output_type": "stream",
     "text": [
      "c:\\Users\\Daniel\\cyanobacteria-monitoring\\venv\\lib\\site-packages\\smogn\\over_sampling.py:128: SettingWithCopyWarning: \n",
      "A value is trying to be set on a copy of a slice from a DataFrame.\n",
      "Try using .loc[row_indexer,col_indexer] = value instead\n",
      "\n",
      "See the caveats in the documentation: https://pandas.pydata.org/pandas-docs/stable/user_guide/indexing.html#returning-a-view-versus-a-copy\n",
      "  data.iloc[:, j] = pd.Categorical(pd.factorize(\n",
      "c:\\Users\\Daniel\\cyanobacteria-monitoring\\venv\\lib\\site-packages\\smogn\\over_sampling.py:128: SettingWithCopyWarning: \n",
      "A value is trying to be set on a copy of a slice from a DataFrame.\n",
      "Try using .loc[row_indexer,col_indexer] = value instead\n",
      "\n",
      "See the caveats in the documentation: https://pandas.pydata.org/pandas-docs/stable/user_guide/indexing.html#returning-a-view-versus-a-copy\n",
      "  data.iloc[:, j] = pd.Categorical(pd.factorize(\n",
      "dist_matrix: 100%|##########| 6/6 [00:00<00:00, 153.84it/s]\n",
      "synth_matrix: 100%|##########| 6/6 [00:00<00:00, 36.09it/s]\n"
     ]
    },
    {
     "name": "stdout",
     "output_type": "stream",
     "text": [
      "2022-08-23 15:46:35,384 — DATA_SPLIT — INFO — Save train and test sets\n"
     ]
    }
   ],
   "source": [
    "from src.stages.data_split import data_split\n",
    "\n",
    "data_split(\"params.yaml\")\n"
   ]
  },
  {
   "cell_type": "code",
   "execution_count": 12,
   "metadata": {},
   "outputs": [],
   "source": [
    "with open(\"params.yaml\") as config_file:\n",
    "        config = yaml.safe_load(config_file)\n",
    "    \n",
    "\n",
    "df = pd.read_csv(config[\"data_load\"][\"labeled_df\"])"
   ]
  },
  {
   "cell_type": "code",
   "execution_count": 41,
   "metadata": {},
   "outputs": [],
   "source": [
    "from sklearn.model_selection import TimeSeriesSplit\n",
    "\n",
    "df_train = df.loc[pd.to_datetime(df[\"date\"]) <= \"2022-01-28\"].reset_index(drop=True)\n",
    "\n",
    "tscv = TimeSeriesSplit(n_splits=3)\n",
    "for train_index, val_index in tscv.split(df_train):\n",
    "        df_train_2, df_val = df_train.iloc[train_index], df_train.iloc[val_index]"
   ]
  },
  {
   "cell_type": "code",
   "execution_count": 43,
   "metadata": {},
   "outputs": [
    {
     "data": {
      "text/html": [
       "<div>\n",
       "<style scoped>\n",
       "    .dataframe tbody tr th:only-of-type {\n",
       "        vertical-align: middle;\n",
       "    }\n",
       "\n",
       "    .dataframe tbody tr th {\n",
       "        vertical-align: top;\n",
       "    }\n",
       "\n",
       "    .dataframe thead th {\n",
       "        text-align: right;\n",
       "    }\n",
       "</style>\n",
       "<table border=\"1\" class=\"dataframe\">\n",
       "  <thead>\n",
       "    <tr style=\"text-align: right;\">\n",
       "      <th></th>\n",
       "      <th>date</th>\n",
       "      <th>NDVI_median</th>\n",
       "      <th>NDCI_median</th>\n",
       "      <th>B1_median</th>\n",
       "      <th>B2_median</th>\n",
       "      <th>B3_median</th>\n",
       "      <th>B4_median</th>\n",
       "      <th>B5_median</th>\n",
       "      <th>B6_median</th>\n",
       "      <th>B7_median</th>\n",
       "      <th>B8_median</th>\n",
       "      <th>B8A_median</th>\n",
       "      <th>B9_median</th>\n",
       "      <th>B11_median</th>\n",
       "      <th>B12_median</th>\n",
       "      <th>Resultado</th>\n",
       "      <th>Data da coleta</th>\n",
       "      <th>interval</th>\n",
       "    </tr>\n",
       "  </thead>\n",
       "  <tbody>\n",
       "    <tr>\n",
       "      <th>0</th>\n",
       "      <td>2019-01-28</td>\n",
       "      <td>-0.396403</td>\n",
       "      <td>-0.034596</td>\n",
       "      <td>0.0419</td>\n",
       "      <td>0.0560</td>\n",
       "      <td>0.0794</td>\n",
       "      <td>0.0870</td>\n",
       "      <td>0.0830</td>\n",
       "      <td>0.0431</td>\n",
       "      <td>0.0422</td>\n",
       "      <td>0.0378</td>\n",
       "      <td>0.0322</td>\n",
       "      <td>0.0120</td>\n",
       "      <td>0.0245</td>\n",
       "      <td>0.0212</td>\n",
       "      <td>251</td>\n",
       "      <td>2019-01-28</td>\n",
       "      <td>9</td>\n",
       "    </tr>\n",
       "    <tr>\n",
       "      <th>1</th>\n",
       "      <td>2019-01-30</td>\n",
       "      <td>-0.523918</td>\n",
       "      <td>-0.040864</td>\n",
       "      <td>0.0267</td>\n",
       "      <td>0.0418</td>\n",
       "      <td>0.0617</td>\n",
       "      <td>0.0671</td>\n",
       "      <td>0.0618</td>\n",
       "      <td>0.0243</td>\n",
       "      <td>0.0269</td>\n",
       "      <td>0.0209</td>\n",
       "      <td>0.0169</td>\n",
       "      <td>0.0406</td>\n",
       "      <td>0.0137</td>\n",
       "      <td>0.0132</td>\n",
       "      <td>251</td>\n",
       "      <td>2019-01-28</td>\n",
       "      <td>9</td>\n",
       "    </tr>\n",
       "    <tr>\n",
       "      <th>2</th>\n",
       "      <td>2019-02-14</td>\n",
       "      <td>-0.700468</td>\n",
       "      <td>-0.101957</td>\n",
       "      <td>0.0263</td>\n",
       "      <td>0.0337</td>\n",
       "      <td>0.0592</td>\n",
       "      <td>0.0544</td>\n",
       "      <td>0.0443</td>\n",
       "      <td>0.0120</td>\n",
       "      <td>0.0122</td>\n",
       "      <td>0.0096</td>\n",
       "      <td>0.0066</td>\n",
       "      <td>0.0001</td>\n",
       "      <td>0.0053</td>\n",
       "      <td>0.0052</td>\n",
       "      <td>335</td>\n",
       "      <td>2019-02-11</td>\n",
       "      <td>12</td>\n",
       "    </tr>\n",
       "    <tr>\n",
       "      <th>3</th>\n",
       "      <td>2019-03-01</td>\n",
       "      <td>-0.775967</td>\n",
       "      <td>-0.138781</td>\n",
       "      <td>0.0224</td>\n",
       "      <td>0.0353</td>\n",
       "      <td>0.0557</td>\n",
       "      <td>0.0446</td>\n",
       "      <td>0.0336</td>\n",
       "      <td>0.0070</td>\n",
       "      <td>0.0086</td>\n",
       "      <td>0.0056</td>\n",
       "      <td>0.0026</td>\n",
       "      <td>0.0001</td>\n",
       "      <td>0.0032</td>\n",
       "      <td>0.0035</td>\n",
       "      <td>298</td>\n",
       "      <td>2019-02-25</td>\n",
       "      <td>15</td>\n",
       "    </tr>\n",
       "    <tr>\n",
       "      <th>4</th>\n",
       "      <td>2019-03-21</td>\n",
       "      <td>-0.608315</td>\n",
       "      <td>-0.103394</td>\n",
       "      <td>0.0353</td>\n",
       "      <td>0.0489</td>\n",
       "      <td>0.0744</td>\n",
       "      <td>0.0733</td>\n",
       "      <td>0.0595</td>\n",
       "      <td>0.0207</td>\n",
       "      <td>0.0224</td>\n",
       "      <td>0.0177</td>\n",
       "      <td>0.0125</td>\n",
       "      <td>0.0055</td>\n",
       "      <td>0.0086</td>\n",
       "      <td>0.0078</td>\n",
       "      <td>76</td>\n",
       "      <td>2019-03-18</td>\n",
       "      <td>19</td>\n",
       "    </tr>\n",
       "    <tr>\n",
       "      <th>5</th>\n",
       "      <td>2019-03-24</td>\n",
       "      <td>-0.614657</td>\n",
       "      <td>-0.095912</td>\n",
       "      <td>0.0285</td>\n",
       "      <td>0.0432</td>\n",
       "      <td>0.0675</td>\n",
       "      <td>0.0682</td>\n",
       "      <td>0.0562</td>\n",
       "      <td>0.0199</td>\n",
       "      <td>0.0212</td>\n",
       "      <td>0.0162</td>\n",
       "      <td>0.0122</td>\n",
       "      <td>0.0012</td>\n",
       "      <td>0.0055</td>\n",
       "      <td>0.0042</td>\n",
       "      <td>186</td>\n",
       "      <td>2019-03-26</td>\n",
       "      <td>20</td>\n",
       "    </tr>\n",
       "    <tr>\n",
       "      <th>6</th>\n",
       "      <td>2019-03-26</td>\n",
       "      <td>-0.596131</td>\n",
       "      <td>-0.088013</td>\n",
       "      <td>0.0397</td>\n",
       "      <td>0.0449</td>\n",
       "      <td>0.0702</td>\n",
       "      <td>0.0661</td>\n",
       "      <td>0.0555</td>\n",
       "      <td>0.0199</td>\n",
       "      <td>0.0199</td>\n",
       "      <td>0.0167</td>\n",
       "      <td>0.0122</td>\n",
       "      <td>0.0036</td>\n",
       "      <td>0.0076</td>\n",
       "      <td>0.0066</td>\n",
       "      <td>186</td>\n",
       "      <td>2019-03-26</td>\n",
       "      <td>20</td>\n",
       "    </tr>\n",
       "    <tr>\n",
       "      <th>7</th>\n",
       "      <td>2019-04-10</td>\n",
       "      <td>-0.674556</td>\n",
       "      <td>-0.117098</td>\n",
       "      <td>0.0235</td>\n",
       "      <td>0.0386</td>\n",
       "      <td>0.0609</td>\n",
       "      <td>0.0555</td>\n",
       "      <td>0.0435</td>\n",
       "      <td>0.0130</td>\n",
       "      <td>0.0145</td>\n",
       "      <td>0.0109</td>\n",
       "      <td>0.0079</td>\n",
       "      <td>0.0007</td>\n",
       "      <td>0.0051</td>\n",
       "      <td>0.0044</td>\n",
       "      <td>26</td>\n",
       "      <td>2019-04-09</td>\n",
       "      <td>23</td>\n",
       "    </tr>\n",
       "    <tr>\n",
       "      <th>8</th>\n",
       "      <td>2019-05-18</td>\n",
       "      <td>-0.584843</td>\n",
       "      <td>-0.047411</td>\n",
       "      <td>0.0317</td>\n",
       "      <td>0.0441</td>\n",
       "      <td>0.0770</td>\n",
       "      <td>0.0961</td>\n",
       "      <td>0.0870</td>\n",
       "      <td>0.0331</td>\n",
       "      <td>0.0324</td>\n",
       "      <td>0.0251</td>\n",
       "      <td>0.0174</td>\n",
       "      <td>0.0001</td>\n",
       "      <td>0.0059</td>\n",
       "      <td>0.0059</td>\n",
       "      <td>374</td>\n",
       "      <td>2019-05-20</td>\n",
       "      <td>31</td>\n",
       "    </tr>\n",
       "    <tr>\n",
       "      <th>9</th>\n",
       "      <td>2019-06-17</td>\n",
       "      <td>-0.639456</td>\n",
       "      <td>-0.061181</td>\n",
       "      <td>0.0468</td>\n",
       "      <td>0.0405</td>\n",
       "      <td>0.0482</td>\n",
       "      <td>0.0502</td>\n",
       "      <td>0.0445</td>\n",
       "      <td>0.0163</td>\n",
       "      <td>0.0147</td>\n",
       "      <td>0.0112</td>\n",
       "      <td>0.0085</td>\n",
       "      <td>0.0001</td>\n",
       "      <td>0.0055</td>\n",
       "      <td>0.0076</td>\n",
       "      <td>134</td>\n",
       "      <td>2019-06-17</td>\n",
       "      <td>37</td>\n",
       "    </tr>\n",
       "    <tr>\n",
       "      <th>10</th>\n",
       "      <td>2019-07-04</td>\n",
       "      <td>-0.685393</td>\n",
       "      <td>-0.134783</td>\n",
       "      <td>0.0187</td>\n",
       "      <td>0.0271</td>\n",
       "      <td>0.0517</td>\n",
       "      <td>0.0522</td>\n",
       "      <td>0.0399</td>\n",
       "      <td>0.0114</td>\n",
       "      <td>0.0117</td>\n",
       "      <td>0.0096</td>\n",
       "      <td>0.0062</td>\n",
       "      <td>0.0001</td>\n",
       "      <td>0.0041</td>\n",
       "      <td>0.0045</td>\n",
       "      <td>600</td>\n",
       "      <td>2019-07-01</td>\n",
       "      <td>40</td>\n",
       "    </tr>\n",
       "    <tr>\n",
       "      <th>11</th>\n",
       "      <td>2019-07-17</td>\n",
       "      <td>-0.053365</td>\n",
       "      <td>-0.003940</td>\n",
       "      <td>0.2673</td>\n",
       "      <td>0.2502</td>\n",
       "      <td>0.2469</td>\n",
       "      <td>0.2414</td>\n",
       "      <td>0.2382</td>\n",
       "      <td>0.2138</td>\n",
       "      <td>0.2121</td>\n",
       "      <td>0.2159</td>\n",
       "      <td>0.2113</td>\n",
       "      <td>0.1880</td>\n",
       "      <td>0.2135</td>\n",
       "      <td>0.1895</td>\n",
       "      <td>20</td>\n",
       "      <td>2019-07-15</td>\n",
       "      <td>43</td>\n",
       "    </tr>\n",
       "    <tr>\n",
       "      <th>12</th>\n",
       "      <td>2019-07-29</td>\n",
       "      <td>-0.146604</td>\n",
       "      <td>0.016092</td>\n",
       "      <td>0.0687</td>\n",
       "      <td>0.0781</td>\n",
       "      <td>0.0810</td>\n",
       "      <td>0.0956</td>\n",
       "      <td>0.0987</td>\n",
       "      <td>0.0669</td>\n",
       "      <td>0.0703</td>\n",
       "      <td>0.0725</td>\n",
       "      <td>0.0748</td>\n",
       "      <td>0.2087</td>\n",
       "      <td>0.0537</td>\n",
       "      <td>0.0839</td>\n",
       "      <td>70</td>\n",
       "      <td>2019-07-29</td>\n",
       "      <td>45</td>\n",
       "    </tr>\n",
       "    <tr>\n",
       "      <th>13</th>\n",
       "      <td>2019-09-02</td>\n",
       "      <td>-0.562945</td>\n",
       "      <td>-0.078176</td>\n",
       "      <td>0.0402</td>\n",
       "      <td>0.0449</td>\n",
       "      <td>0.0656</td>\n",
       "      <td>0.0659</td>\n",
       "      <td>0.0565</td>\n",
       "      <td>0.0223</td>\n",
       "      <td>0.0219</td>\n",
       "      <td>0.0183</td>\n",
       "      <td>0.0124</td>\n",
       "      <td>0.0055</td>\n",
       "      <td>0.0058</td>\n",
       "      <td>0.0041</td>\n",
       "      <td>0</td>\n",
       "      <td>2019-09-02</td>\n",
       "      <td>52</td>\n",
       "    </tr>\n",
       "    <tr>\n",
       "      <th>14</th>\n",
       "      <td>2019-09-25</td>\n",
       "      <td>-0.516765</td>\n",
       "      <td>-0.045144</td>\n",
       "      <td>0.0395</td>\n",
       "      <td>0.0464</td>\n",
       "      <td>0.0678</td>\n",
       "      <td>0.0778</td>\n",
       "      <td>0.0709</td>\n",
       "      <td>0.0302</td>\n",
       "      <td>0.0294</td>\n",
       "      <td>0.0247</td>\n",
       "      <td>0.0173</td>\n",
       "      <td>0.0050</td>\n",
       "      <td>0.0053</td>\n",
       "      <td>0.0048</td>\n",
       "      <td>8</td>\n",
       "      <td>2019-09-23</td>\n",
       "      <td>57</td>\n",
       "    </tr>\n",
       "    <tr>\n",
       "      <th>15</th>\n",
       "      <td>2019-09-27</td>\n",
       "      <td>-0.408027</td>\n",
       "      <td>-0.019152</td>\n",
       "      <td>0.0704</td>\n",
       "      <td>0.0681</td>\n",
       "      <td>0.0796</td>\n",
       "      <td>0.0855</td>\n",
       "      <td>0.0817</td>\n",
       "      <td>0.0421</td>\n",
       "      <td>0.0419</td>\n",
       "      <td>0.0359</td>\n",
       "      <td>0.0281</td>\n",
       "      <td>0.0471</td>\n",
       "      <td>0.0153</td>\n",
       "      <td>0.0141</td>\n",
       "      <td>8</td>\n",
       "      <td>2019-09-23</td>\n",
       "      <td>57</td>\n",
       "    </tr>\n",
       "    <tr>\n",
       "      <th>16</th>\n",
       "      <td>2019-09-30</td>\n",
       "      <td>-0.495633</td>\n",
       "      <td>-0.036390</td>\n",
       "      <td>0.0387</td>\n",
       "      <td>0.0497</td>\n",
       "      <td>0.0666</td>\n",
       "      <td>0.0711</td>\n",
       "      <td>0.0659</td>\n",
       "      <td>0.0298</td>\n",
       "      <td>0.0297</td>\n",
       "      <td>0.0241</td>\n",
       "      <td>0.0179</td>\n",
       "      <td>0.0074</td>\n",
       "      <td>0.0075</td>\n",
       "      <td>0.0063</td>\n",
       "      <td>0</td>\n",
       "      <td>2019-09-30</td>\n",
       "      <td>58</td>\n",
       "    </tr>\n",
       "    <tr>\n",
       "      <th>17</th>\n",
       "      <td>2019-11-06</td>\n",
       "      <td>-0.351319</td>\n",
       "      <td>0.007826</td>\n",
       "      <td>0.0350</td>\n",
       "      <td>0.0497</td>\n",
       "      <td>0.0801</td>\n",
       "      <td>0.1155</td>\n",
       "      <td>0.1181</td>\n",
       "      <td>0.0646</td>\n",
       "      <td>0.0652</td>\n",
       "      <td>0.0558</td>\n",
       "      <td>0.0392</td>\n",
       "      <td>0.0125</td>\n",
       "      <td>0.0091</td>\n",
       "      <td>0.0081</td>\n",
       "      <td>0</td>\n",
       "      <td>2019-11-04</td>\n",
       "      <td>65</td>\n",
       "    </tr>\n",
       "    <tr>\n",
       "      <th>18</th>\n",
       "      <td>2019-11-19</td>\n",
       "      <td>-0.159927</td>\n",
       "      <td>-0.014474</td>\n",
       "      <td>0.0989</td>\n",
       "      <td>0.1258</td>\n",
       "      <td>0.1447</td>\n",
       "      <td>0.1533</td>\n",
       "      <td>0.1499</td>\n",
       "      <td>0.1111</td>\n",
       "      <td>0.1106</td>\n",
       "      <td>0.1122</td>\n",
       "      <td>0.0986</td>\n",
       "      <td>0.0828</td>\n",
       "      <td>0.0973</td>\n",
       "      <td>0.0862</td>\n",
       "      <td>0</td>\n",
       "      <td>2019-11-18</td>\n",
       "      <td>68</td>\n",
       "    </tr>\n",
       "    <tr>\n",
       "      <th>19</th>\n",
       "      <td>2019-11-21</td>\n",
       "      <td>-0.500734</td>\n",
       "      <td>-0.021318</td>\n",
       "      <td>0.0308</td>\n",
       "      <td>0.0318</td>\n",
       "      <td>0.0465</td>\n",
       "      <td>0.0506</td>\n",
       "      <td>0.0483</td>\n",
       "      <td>0.0206</td>\n",
       "      <td>0.0206</td>\n",
       "      <td>0.0168</td>\n",
       "      <td>0.0125</td>\n",
       "      <td>0.0095</td>\n",
       "      <td>0.0061</td>\n",
       "      <td>0.0059</td>\n",
       "      <td>0</td>\n",
       "      <td>2019-11-18</td>\n",
       "      <td>68</td>\n",
       "    </tr>\n",
       "    <tr>\n",
       "      <th>20</th>\n",
       "      <td>2019-12-04</td>\n",
       "      <td>-0.140501</td>\n",
       "      <td>-0.008413</td>\n",
       "      <td>0.1060</td>\n",
       "      <td>0.1455</td>\n",
       "      <td>0.1707</td>\n",
       "      <td>0.1685</td>\n",
       "      <td>0.1651</td>\n",
       "      <td>0.1229</td>\n",
       "      <td>0.1164</td>\n",
       "      <td>0.1277</td>\n",
       "      <td>0.1059</td>\n",
       "      <td>0.0719</td>\n",
       "      <td>0.1024</td>\n",
       "      <td>0.0845</td>\n",
       "      <td>0</td>\n",
       "      <td>2019-12-02</td>\n",
       "      <td>71</td>\n",
       "    </tr>\n",
       "    <tr>\n",
       "      <th>21</th>\n",
       "      <td>2019-12-06</td>\n",
       "      <td>-0.650602</td>\n",
       "      <td>-0.076923</td>\n",
       "      <td>0.0281</td>\n",
       "      <td>0.0412</td>\n",
       "      <td>0.0620</td>\n",
       "      <td>0.0550</td>\n",
       "      <td>0.0473</td>\n",
       "      <td>0.0135</td>\n",
       "      <td>0.0157</td>\n",
       "      <td>0.0116</td>\n",
       "      <td>0.0073</td>\n",
       "      <td>0.0039</td>\n",
       "      <td>0.0066</td>\n",
       "      <td>0.0062</td>\n",
       "      <td>0</td>\n",
       "      <td>2019-12-02</td>\n",
       "      <td>71</td>\n",
       "    </tr>\n",
       "    <tr>\n",
       "      <th>22</th>\n",
       "      <td>2019-12-19</td>\n",
       "      <td>-0.150457</td>\n",
       "      <td>-0.013174</td>\n",
       "      <td>0.1029</td>\n",
       "      <td>0.1319</td>\n",
       "      <td>0.1513</td>\n",
       "      <td>0.1426</td>\n",
       "      <td>0.1371</td>\n",
       "      <td>0.1054</td>\n",
       "      <td>0.1041</td>\n",
       "      <td>0.1048</td>\n",
       "      <td>0.0952</td>\n",
       "      <td>0.0813</td>\n",
       "      <td>0.0936</td>\n",
       "      <td>0.0831</td>\n",
       "      <td>0</td>\n",
       "      <td>2019-12-20</td>\n",
       "      <td>74</td>\n",
       "    </tr>\n",
       "    <tr>\n",
       "      <th>23</th>\n",
       "      <td>2020-01-10</td>\n",
       "      <td>-0.714286</td>\n",
       "      <td>0.026874</td>\n",
       "      <td>0.0247</td>\n",
       "      <td>0.0296</td>\n",
       "      <td>0.0520</td>\n",
       "      <td>0.0357</td>\n",
       "      <td>0.0376</td>\n",
       "      <td>0.0092</td>\n",
       "      <td>0.0096</td>\n",
       "      <td>0.0059</td>\n",
       "      <td>0.0040</td>\n",
       "      <td>0.0034</td>\n",
       "      <td>0.0047</td>\n",
       "      <td>0.0054</td>\n",
       "      <td>1404</td>\n",
       "      <td>2020-01-06</td>\n",
       "      <td>78</td>\n",
       "    </tr>\n",
       "    <tr>\n",
       "      <th>24</th>\n",
       "      <td>2020-01-23</td>\n",
       "      <td>-0.225347</td>\n",
       "      <td>-0.023546</td>\n",
       "      <td>0.1194</td>\n",
       "      <td>0.1393</td>\n",
       "      <td>0.1636</td>\n",
       "      <td>0.1533</td>\n",
       "      <td>0.1466</td>\n",
       "      <td>0.1008</td>\n",
       "      <td>0.1001</td>\n",
       "      <td>0.0964</td>\n",
       "      <td>0.0897</td>\n",
       "      <td>0.0807</td>\n",
       "      <td>0.0835</td>\n",
       "      <td>0.0722</td>\n",
       "      <td>150</td>\n",
       "      <td>2020-01-21</td>\n",
       "      <td>81</td>\n",
       "    </tr>\n",
       "    <tr>\n",
       "      <th>25</th>\n",
       "      <td>2020-01-25</td>\n",
       "      <td>-0.247113</td>\n",
       "      <td>-0.007812</td>\n",
       "      <td>0.0498</td>\n",
       "      <td>0.0678</td>\n",
       "      <td>0.0919</td>\n",
       "      <td>0.0878</td>\n",
       "      <td>0.0844</td>\n",
       "      <td>0.0522</td>\n",
       "      <td>0.0548</td>\n",
       "      <td>0.0532</td>\n",
       "      <td>0.0462</td>\n",
       "      <td>0.0406</td>\n",
       "      <td>0.0352</td>\n",
       "      <td>0.0276</td>\n",
       "      <td>150</td>\n",
       "      <td>2020-01-21</td>\n",
       "      <td>81</td>\n",
       "    </tr>\n",
       "    <tr>\n",
       "      <th>26</th>\n",
       "      <td>2020-02-27</td>\n",
       "      <td>-0.468208</td>\n",
       "      <td>-0.062762</td>\n",
       "      <td>0.0239</td>\n",
       "      <td>0.0378</td>\n",
       "      <td>0.0561</td>\n",
       "      <td>0.0391</td>\n",
       "      <td>0.0346</td>\n",
       "      <td>0.0152</td>\n",
       "      <td>0.0167</td>\n",
       "      <td>0.0138</td>\n",
       "      <td>0.0123</td>\n",
       "      <td>0.0073</td>\n",
       "      <td>0.0099</td>\n",
       "      <td>0.0086</td>\n",
       "      <td>360</td>\n",
       "      <td>2020-02-26</td>\n",
       "      <td>88</td>\n",
       "    </tr>\n",
       "    <tr>\n",
       "      <th>27</th>\n",
       "      <td>2020-02-29</td>\n",
       "      <td>-0.603093</td>\n",
       "      <td>-0.036066</td>\n",
       "      <td>0.0205</td>\n",
       "      <td>0.0253</td>\n",
       "      <td>0.0440</td>\n",
       "      <td>0.0315</td>\n",
       "      <td>0.0291</td>\n",
       "      <td>0.0091</td>\n",
       "      <td>0.0094</td>\n",
       "      <td>0.0078</td>\n",
       "      <td>0.0057</td>\n",
       "      <td>0.0003</td>\n",
       "      <td>0.0036</td>\n",
       "      <td>0.0040</td>\n",
       "      <td>360</td>\n",
       "      <td>2020-02-26</td>\n",
       "      <td>88</td>\n",
       "    </tr>\n",
       "    <tr>\n",
       "      <th>28</th>\n",
       "      <td>2020-03-20</td>\n",
       "      <td>-0.471074</td>\n",
       "      <td>-0.083845</td>\n",
       "      <td>0.0516</td>\n",
       "      <td>0.0383</td>\n",
       "      <td>0.0415</td>\n",
       "      <td>0.0285</td>\n",
       "      <td>0.0254</td>\n",
       "      <td>0.0132</td>\n",
       "      <td>0.0133</td>\n",
       "      <td>0.0108</td>\n",
       "      <td>0.0090</td>\n",
       "      <td>0.0082</td>\n",
       "      <td>0.0067</td>\n",
       "      <td>0.0048</td>\n",
       "      <td>40</td>\n",
       "      <td>2020-03-16</td>\n",
       "      <td>92</td>\n",
       "    </tr>\n",
       "    <tr>\n",
       "      <th>29</th>\n",
       "      <td>2020-05-27</td>\n",
       "      <td>-0.724665</td>\n",
       "      <td>-0.124845</td>\n",
       "      <td>0.0167</td>\n",
       "      <td>0.0355</td>\n",
       "      <td>0.0571</td>\n",
       "      <td>0.0453</td>\n",
       "      <td>0.0353</td>\n",
       "      <td>0.0090</td>\n",
       "      <td>0.0095</td>\n",
       "      <td>0.0072</td>\n",
       "      <td>0.0047</td>\n",
       "      <td>0.0001</td>\n",
       "      <td>0.0030</td>\n",
       "      <td>0.0030</td>\n",
       "      <td>1897</td>\n",
       "      <td>2020-05-26</td>\n",
       "      <td>106</td>\n",
       "    </tr>\n",
       "    <tr>\n",
       "      <th>30</th>\n",
       "      <td>2020-05-29</td>\n",
       "      <td>-0.671078</td>\n",
       "      <td>-0.120690</td>\n",
       "      <td>0.0264</td>\n",
       "      <td>0.0345</td>\n",
       "      <td>0.0573</td>\n",
       "      <td>0.0451</td>\n",
       "      <td>0.0355</td>\n",
       "      <td>0.0101</td>\n",
       "      <td>0.0106</td>\n",
       "      <td>0.0089</td>\n",
       "      <td>0.0063</td>\n",
       "      <td>0.0001</td>\n",
       "      <td>0.0029</td>\n",
       "      <td>0.0030</td>\n",
       "      <td>1897</td>\n",
       "      <td>2020-05-26</td>\n",
       "      <td>106</td>\n",
       "    </tr>\n",
       "    <tr>\n",
       "      <th>31</th>\n",
       "      <td>2020-06-21</td>\n",
       "      <td>-0.614583</td>\n",
       "      <td>-0.074007</td>\n",
       "      <td>0.0192</td>\n",
       "      <td>0.0336</td>\n",
       "      <td>0.0588</td>\n",
       "      <td>0.0595</td>\n",
       "      <td>0.0511</td>\n",
       "      <td>0.0181</td>\n",
       "      <td>0.0185</td>\n",
       "      <td>0.0139</td>\n",
       "      <td>0.0106</td>\n",
       "      <td>0.0003</td>\n",
       "      <td>0.0068</td>\n",
       "      <td>0.0065</td>\n",
       "      <td>556</td>\n",
       "      <td>2020-06-23</td>\n",
       "      <td>111</td>\n",
       "    </tr>\n",
       "    <tr>\n",
       "      <th>32</th>\n",
       "      <td>2020-06-23</td>\n",
       "      <td>-0.645455</td>\n",
       "      <td>-0.058939</td>\n",
       "      <td>0.0199</td>\n",
       "      <td>0.0352</td>\n",
       "      <td>0.0527</td>\n",
       "      <td>0.0546</td>\n",
       "      <td>0.0485</td>\n",
       "      <td>0.0150</td>\n",
       "      <td>0.0169</td>\n",
       "      <td>0.0116</td>\n",
       "      <td>0.0083</td>\n",
       "      <td>0.0001</td>\n",
       "      <td>0.0041</td>\n",
       "      <td>0.0037</td>\n",
       "      <td>556</td>\n",
       "      <td>2020-06-23</td>\n",
       "      <td>111</td>\n",
       "    </tr>\n",
       "    <tr>\n",
       "      <th>33</th>\n",
       "      <td>2020-08-05</td>\n",
       "      <td>-0.522698</td>\n",
       "      <td>-0.041704</td>\n",
       "      <td>0.0208</td>\n",
       "      <td>0.0345</td>\n",
       "      <td>0.0503</td>\n",
       "      <td>0.0587</td>\n",
       "      <td>0.0536</td>\n",
       "      <td>0.0232</td>\n",
       "      <td>0.0232</td>\n",
       "      <td>0.0184</td>\n",
       "      <td>0.0132</td>\n",
       "      <td>0.0041</td>\n",
       "      <td>0.0059</td>\n",
       "      <td>0.0046</td>\n",
       "      <td>364</td>\n",
       "      <td>2020-08-06</td>\n",
       "      <td>120</td>\n",
       "    </tr>\n",
       "    <tr>\n",
       "      <th>34</th>\n",
       "      <td>2020-08-07</td>\n",
       "      <td>-0.434606</td>\n",
       "      <td>-0.047619</td>\n",
       "      <td>0.1520</td>\n",
       "      <td>0.1017</td>\n",
       "      <td>0.0935</td>\n",
       "      <td>0.0813</td>\n",
       "      <td>0.0735</td>\n",
       "      <td>0.0529</td>\n",
       "      <td>0.0462</td>\n",
       "      <td>0.0333</td>\n",
       "      <td>0.0436</td>\n",
       "      <td>0.0455</td>\n",
       "      <td>0.0435</td>\n",
       "      <td>0.0472</td>\n",
       "      <td>364</td>\n",
       "      <td>2020-08-06</td>\n",
       "      <td>120</td>\n",
       "    </tr>\n",
       "    <tr>\n",
       "      <th>35</th>\n",
       "      <td>2020-09-24</td>\n",
       "      <td>-0.587467</td>\n",
       "      <td>-0.030859</td>\n",
       "      <td>0.0223</td>\n",
       "      <td>0.0358</td>\n",
       "      <td>0.0528</td>\n",
       "      <td>0.0622</td>\n",
       "      <td>0.0582</td>\n",
       "      <td>0.0217</td>\n",
       "      <td>0.0218</td>\n",
       "      <td>0.0160</td>\n",
       "      <td>0.0099</td>\n",
       "      <td>0.0001</td>\n",
       "      <td>0.0046</td>\n",
       "      <td>0.0048</td>\n",
       "      <td>0</td>\n",
       "      <td>2020-09-24</td>\n",
       "      <td>130</td>\n",
       "    </tr>\n",
       "    <tr>\n",
       "      <th>36</th>\n",
       "      <td>2020-10-06</td>\n",
       "      <td>-0.332874</td>\n",
       "      <td>-0.012880</td>\n",
       "      <td>0.0581</td>\n",
       "      <td>0.0592</td>\n",
       "      <td>0.0846</td>\n",
       "      <td>0.0963</td>\n",
       "      <td>0.0939</td>\n",
       "      <td>0.0580</td>\n",
       "      <td>0.0609</td>\n",
       "      <td>0.0489</td>\n",
       "      <td>0.0511</td>\n",
       "      <td>0.0518</td>\n",
       "      <td>0.0301</td>\n",
       "      <td>0.0294</td>\n",
       "      <td>216</td>\n",
       "      <td>2020-10-06</td>\n",
       "      <td>132</td>\n",
       "    </tr>\n",
       "    <tr>\n",
       "      <th>37</th>\n",
       "      <td>2020-12-08</td>\n",
       "      <td>-0.124937</td>\n",
       "      <td>-0.014207</td>\n",
       "      <td>0.1640</td>\n",
       "      <td>0.2063</td>\n",
       "      <td>0.2292</td>\n",
       "      <td>0.2123</td>\n",
       "      <td>0.2113</td>\n",
       "      <td>0.1657</td>\n",
       "      <td>0.1622</td>\n",
       "      <td>0.1666</td>\n",
       "      <td>0.1498</td>\n",
       "      <td>0.1461</td>\n",
       "      <td>0.1425</td>\n",
       "      <td>0.1221</td>\n",
       "      <td>1486</td>\n",
       "      <td>2020-12-09</td>\n",
       "      <td>145</td>\n",
       "    </tr>\n",
       "    <tr>\n",
       "      <th>38</th>\n",
       "      <td>2020-12-10</td>\n",
       "      <td>-0.434371</td>\n",
       "      <td>0.019084</td>\n",
       "      <td>0.0336</td>\n",
       "      <td>0.0472</td>\n",
       "      <td>0.0660</td>\n",
       "      <td>0.0523</td>\n",
       "      <td>0.0545</td>\n",
       "      <td>0.0230</td>\n",
       "      <td>0.0239</td>\n",
       "      <td>0.0207</td>\n",
       "      <td>0.0164</td>\n",
       "      <td>0.0116</td>\n",
       "      <td>0.0137</td>\n",
       "      <td>0.0122</td>\n",
       "      <td>1486</td>\n",
       "      <td>2020-12-09</td>\n",
       "      <td>145</td>\n",
       "    </tr>\n",
       "    <tr>\n",
       "      <th>39</th>\n",
       "      <td>2020-12-23</td>\n",
       "      <td>-0.070166</td>\n",
       "      <td>0.018219</td>\n",
       "      <td>0.0917</td>\n",
       "      <td>0.1255</td>\n",
       "      <td>0.1425</td>\n",
       "      <td>0.1296</td>\n",
       "      <td>0.1337</td>\n",
       "      <td>0.1047</td>\n",
       "      <td>0.1059</td>\n",
       "      <td>0.1125</td>\n",
       "      <td>0.0938</td>\n",
       "      <td>0.0747</td>\n",
       "      <td>0.0940</td>\n",
       "      <td>0.0814</td>\n",
       "      <td>25659</td>\n",
       "      <td>2020-12-23</td>\n",
       "      <td>148</td>\n",
       "    </tr>\n",
       "    <tr>\n",
       "      <th>40</th>\n",
       "      <td>2020-12-28</td>\n",
       "      <td>-0.229167</td>\n",
       "      <td>-0.013428</td>\n",
       "      <td>0.0509</td>\n",
       "      <td>0.0443</td>\n",
       "      <td>0.0460</td>\n",
       "      <td>0.0372</td>\n",
       "      <td>0.0356</td>\n",
       "      <td>0.0240</td>\n",
       "      <td>0.0244</td>\n",
       "      <td>0.0224</td>\n",
       "      <td>0.0207</td>\n",
       "      <td>0.0252</td>\n",
       "      <td>0.0207</td>\n",
       "      <td>0.0168</td>\n",
       "      <td>1766</td>\n",
       "      <td>2020-12-30</td>\n",
       "      <td>149</td>\n",
       "    </tr>\n",
       "    <tr>\n",
       "      <th>41</th>\n",
       "      <td>2020-12-30</td>\n",
       "      <td>-0.460145</td>\n",
       "      <td>0.038902</td>\n",
       "      <td>0.0288</td>\n",
       "      <td>0.0394</td>\n",
       "      <td>0.0551</td>\n",
       "      <td>0.0413</td>\n",
       "      <td>0.0448</td>\n",
       "      <td>0.0182</td>\n",
       "      <td>0.0201</td>\n",
       "      <td>0.0154</td>\n",
       "      <td>0.0125</td>\n",
       "      <td>0.0066</td>\n",
       "      <td>0.0098</td>\n",
       "      <td>0.0083</td>\n",
       "      <td>1766</td>\n",
       "      <td>2020-12-30</td>\n",
       "      <td>149</td>\n",
       "    </tr>\n",
       "    <tr>\n",
       "      <th>42</th>\n",
       "      <td>2021-02-26</td>\n",
       "      <td>-0.491358</td>\n",
       "      <td>-0.039490</td>\n",
       "      <td>0.0282</td>\n",
       "      <td>0.0404</td>\n",
       "      <td>0.0650</td>\n",
       "      <td>0.0624</td>\n",
       "      <td>0.0570</td>\n",
       "      <td>0.0237</td>\n",
       "      <td>0.0236</td>\n",
       "      <td>0.0212</td>\n",
       "      <td>0.0154</td>\n",
       "      <td>0.0088</td>\n",
       "      <td>0.0123</td>\n",
       "      <td>0.0110</td>\n",
       "      <td>612</td>\n",
       "      <td>2021-02-25</td>\n",
       "      <td>161</td>\n",
       "    </tr>\n",
       "    <tr>\n",
       "      <th>43</th>\n",
       "      <td>2021-03-08</td>\n",
       "      <td>-0.424042</td>\n",
       "      <td>-0.024482</td>\n",
       "      <td>0.0420</td>\n",
       "      <td>0.0476</td>\n",
       "      <td>0.0660</td>\n",
       "      <td>0.0534</td>\n",
       "      <td>0.0509</td>\n",
       "      <td>0.0250</td>\n",
       "      <td>0.0245</td>\n",
       "      <td>0.0217</td>\n",
       "      <td>0.0179</td>\n",
       "      <td>0.0136</td>\n",
       "      <td>0.0128</td>\n",
       "      <td>0.0109</td>\n",
       "      <td>10387</td>\n",
       "      <td>2021-03-10</td>\n",
       "      <td>163</td>\n",
       "    </tr>\n",
       "    <tr>\n",
       "      <th>44</th>\n",
       "      <td>2021-03-10</td>\n",
       "      <td>-0.517832</td>\n",
       "      <td>-0.028626</td>\n",
       "      <td>0.0378</td>\n",
       "      <td>0.0476</td>\n",
       "      <td>0.0638</td>\n",
       "      <td>0.0534</td>\n",
       "      <td>0.0506</td>\n",
       "      <td>0.0194</td>\n",
       "      <td>0.0218</td>\n",
       "      <td>0.0170</td>\n",
       "      <td>0.0137</td>\n",
       "      <td>0.0115</td>\n",
       "      <td>0.0106</td>\n",
       "      <td>0.0104</td>\n",
       "      <td>10387</td>\n",
       "      <td>2021-03-10</td>\n",
       "      <td>163</td>\n",
       "    </tr>\n",
       "    <tr>\n",
       "      <th>45</th>\n",
       "      <td>2021-04-14</td>\n",
       "      <td>-0.590664</td>\n",
       "      <td>-0.090686</td>\n",
       "      <td>0.0250</td>\n",
       "      <td>0.0314</td>\n",
       "      <td>0.0524</td>\n",
       "      <td>0.0442</td>\n",
       "      <td>0.0368</td>\n",
       "      <td>0.0133</td>\n",
       "      <td>0.0144</td>\n",
       "      <td>0.0114</td>\n",
       "      <td>0.0095</td>\n",
       "      <td>0.0055</td>\n",
       "      <td>0.0070</td>\n",
       "      <td>0.0066</td>\n",
       "      <td>0</td>\n",
       "      <td>2021-04-12</td>\n",
       "      <td>170</td>\n",
       "    </tr>\n",
       "    <tr>\n",
       "      <th>46</th>\n",
       "      <td>2021-04-14</td>\n",
       "      <td>-0.590664</td>\n",
       "      <td>-0.090686</td>\n",
       "      <td>0.0250</td>\n",
       "      <td>0.0314</td>\n",
       "      <td>0.0524</td>\n",
       "      <td>0.0442</td>\n",
       "      <td>0.0368</td>\n",
       "      <td>0.0133</td>\n",
       "      <td>0.0144</td>\n",
       "      <td>0.0114</td>\n",
       "      <td>0.0095</td>\n",
       "      <td>0.0055</td>\n",
       "      <td>0.0070</td>\n",
       "      <td>0.0066</td>\n",
       "      <td>2228</td>\n",
       "      <td>2021-04-14</td>\n",
       "      <td>170</td>\n",
       "    </tr>\n",
       "    <tr>\n",
       "      <th>47</th>\n",
       "      <td>2021-05-12</td>\n",
       "      <td>-0.629490</td>\n",
       "      <td>-0.057179</td>\n",
       "      <td>0.0174</td>\n",
       "      <td>0.0347</td>\n",
       "      <td>0.0522</td>\n",
       "      <td>0.0415</td>\n",
       "      <td>0.0372</td>\n",
       "      <td>0.0101</td>\n",
       "      <td>0.0114</td>\n",
       "      <td>0.0097</td>\n",
       "      <td>0.0058</td>\n",
       "      <td>0.0001</td>\n",
       "      <td>0.0044</td>\n",
       "      <td>0.0037</td>\n",
       "      <td>6997</td>\n",
       "      <td>2021-05-13</td>\n",
       "      <td>176</td>\n",
       "    </tr>\n",
       "  </tbody>\n",
       "</table>\n",
       "</div>"
      ],
      "text/plain": [
       "          date  NDVI_median  NDCI_median  B1_median  B2_median  B3_median  \\\n",
       "0   2019-01-28    -0.396403    -0.034596     0.0419     0.0560     0.0794   \n",
       "1   2019-01-30    -0.523918    -0.040864     0.0267     0.0418     0.0617   \n",
       "2   2019-02-14    -0.700468    -0.101957     0.0263     0.0337     0.0592   \n",
       "3   2019-03-01    -0.775967    -0.138781     0.0224     0.0353     0.0557   \n",
       "4   2019-03-21    -0.608315    -0.103394     0.0353     0.0489     0.0744   \n",
       "5   2019-03-24    -0.614657    -0.095912     0.0285     0.0432     0.0675   \n",
       "6   2019-03-26    -0.596131    -0.088013     0.0397     0.0449     0.0702   \n",
       "7   2019-04-10    -0.674556    -0.117098     0.0235     0.0386     0.0609   \n",
       "8   2019-05-18    -0.584843    -0.047411     0.0317     0.0441     0.0770   \n",
       "9   2019-06-17    -0.639456    -0.061181     0.0468     0.0405     0.0482   \n",
       "10  2019-07-04    -0.685393    -0.134783     0.0187     0.0271     0.0517   \n",
       "11  2019-07-17    -0.053365    -0.003940     0.2673     0.2502     0.2469   \n",
       "12  2019-07-29    -0.146604     0.016092     0.0687     0.0781     0.0810   \n",
       "13  2019-09-02    -0.562945    -0.078176     0.0402     0.0449     0.0656   \n",
       "14  2019-09-25    -0.516765    -0.045144     0.0395     0.0464     0.0678   \n",
       "15  2019-09-27    -0.408027    -0.019152     0.0704     0.0681     0.0796   \n",
       "16  2019-09-30    -0.495633    -0.036390     0.0387     0.0497     0.0666   \n",
       "17  2019-11-06    -0.351319     0.007826     0.0350     0.0497     0.0801   \n",
       "18  2019-11-19    -0.159927    -0.014474     0.0989     0.1258     0.1447   \n",
       "19  2019-11-21    -0.500734    -0.021318     0.0308     0.0318     0.0465   \n",
       "20  2019-12-04    -0.140501    -0.008413     0.1060     0.1455     0.1707   \n",
       "21  2019-12-06    -0.650602    -0.076923     0.0281     0.0412     0.0620   \n",
       "22  2019-12-19    -0.150457    -0.013174     0.1029     0.1319     0.1513   \n",
       "23  2020-01-10    -0.714286     0.026874     0.0247     0.0296     0.0520   \n",
       "24  2020-01-23    -0.225347    -0.023546     0.1194     0.1393     0.1636   \n",
       "25  2020-01-25    -0.247113    -0.007812     0.0498     0.0678     0.0919   \n",
       "26  2020-02-27    -0.468208    -0.062762     0.0239     0.0378     0.0561   \n",
       "27  2020-02-29    -0.603093    -0.036066     0.0205     0.0253     0.0440   \n",
       "28  2020-03-20    -0.471074    -0.083845     0.0516     0.0383     0.0415   \n",
       "29  2020-05-27    -0.724665    -0.124845     0.0167     0.0355     0.0571   \n",
       "30  2020-05-29    -0.671078    -0.120690     0.0264     0.0345     0.0573   \n",
       "31  2020-06-21    -0.614583    -0.074007     0.0192     0.0336     0.0588   \n",
       "32  2020-06-23    -0.645455    -0.058939     0.0199     0.0352     0.0527   \n",
       "33  2020-08-05    -0.522698    -0.041704     0.0208     0.0345     0.0503   \n",
       "34  2020-08-07    -0.434606    -0.047619     0.1520     0.1017     0.0935   \n",
       "35  2020-09-24    -0.587467    -0.030859     0.0223     0.0358     0.0528   \n",
       "36  2020-10-06    -0.332874    -0.012880     0.0581     0.0592     0.0846   \n",
       "37  2020-12-08    -0.124937    -0.014207     0.1640     0.2063     0.2292   \n",
       "38  2020-12-10    -0.434371     0.019084     0.0336     0.0472     0.0660   \n",
       "39  2020-12-23    -0.070166     0.018219     0.0917     0.1255     0.1425   \n",
       "40  2020-12-28    -0.229167    -0.013428     0.0509     0.0443     0.0460   \n",
       "41  2020-12-30    -0.460145     0.038902     0.0288     0.0394     0.0551   \n",
       "42  2021-02-26    -0.491358    -0.039490     0.0282     0.0404     0.0650   \n",
       "43  2021-03-08    -0.424042    -0.024482     0.0420     0.0476     0.0660   \n",
       "44  2021-03-10    -0.517832    -0.028626     0.0378     0.0476     0.0638   \n",
       "45  2021-04-14    -0.590664    -0.090686     0.0250     0.0314     0.0524   \n",
       "46  2021-04-14    -0.590664    -0.090686     0.0250     0.0314     0.0524   \n",
       "47  2021-05-12    -0.629490    -0.057179     0.0174     0.0347     0.0522   \n",
       "\n",
       "    B4_median  B5_median  B6_median  B7_median  B8_median  B8A_median  \\\n",
       "0      0.0870     0.0830     0.0431     0.0422     0.0378      0.0322   \n",
       "1      0.0671     0.0618     0.0243     0.0269     0.0209      0.0169   \n",
       "2      0.0544     0.0443     0.0120     0.0122     0.0096      0.0066   \n",
       "3      0.0446     0.0336     0.0070     0.0086     0.0056      0.0026   \n",
       "4      0.0733     0.0595     0.0207     0.0224     0.0177      0.0125   \n",
       "5      0.0682     0.0562     0.0199     0.0212     0.0162      0.0122   \n",
       "6      0.0661     0.0555     0.0199     0.0199     0.0167      0.0122   \n",
       "7      0.0555     0.0435     0.0130     0.0145     0.0109      0.0079   \n",
       "8      0.0961     0.0870     0.0331     0.0324     0.0251      0.0174   \n",
       "9      0.0502     0.0445     0.0163     0.0147     0.0112      0.0085   \n",
       "10     0.0522     0.0399     0.0114     0.0117     0.0096      0.0062   \n",
       "11     0.2414     0.2382     0.2138     0.2121     0.2159      0.2113   \n",
       "12     0.0956     0.0987     0.0669     0.0703     0.0725      0.0748   \n",
       "13     0.0659     0.0565     0.0223     0.0219     0.0183      0.0124   \n",
       "14     0.0778     0.0709     0.0302     0.0294     0.0247      0.0173   \n",
       "15     0.0855     0.0817     0.0421     0.0419     0.0359      0.0281   \n",
       "16     0.0711     0.0659     0.0298     0.0297     0.0241      0.0179   \n",
       "17     0.1155     0.1181     0.0646     0.0652     0.0558      0.0392   \n",
       "18     0.1533     0.1499     0.1111     0.1106     0.1122      0.0986   \n",
       "19     0.0506     0.0483     0.0206     0.0206     0.0168      0.0125   \n",
       "20     0.1685     0.1651     0.1229     0.1164     0.1277      0.1059   \n",
       "21     0.0550     0.0473     0.0135     0.0157     0.0116      0.0073   \n",
       "22     0.1426     0.1371     0.1054     0.1041     0.1048      0.0952   \n",
       "23     0.0357     0.0376     0.0092     0.0096     0.0059      0.0040   \n",
       "24     0.1533     0.1466     0.1008     0.1001     0.0964      0.0897   \n",
       "25     0.0878     0.0844     0.0522     0.0548     0.0532      0.0462   \n",
       "26     0.0391     0.0346     0.0152     0.0167     0.0138      0.0123   \n",
       "27     0.0315     0.0291     0.0091     0.0094     0.0078      0.0057   \n",
       "28     0.0285     0.0254     0.0132     0.0133     0.0108      0.0090   \n",
       "29     0.0453     0.0353     0.0090     0.0095     0.0072      0.0047   \n",
       "30     0.0451     0.0355     0.0101     0.0106     0.0089      0.0063   \n",
       "31     0.0595     0.0511     0.0181     0.0185     0.0139      0.0106   \n",
       "32     0.0546     0.0485     0.0150     0.0169     0.0116      0.0083   \n",
       "33     0.0587     0.0536     0.0232     0.0232     0.0184      0.0132   \n",
       "34     0.0813     0.0735     0.0529     0.0462     0.0333      0.0436   \n",
       "35     0.0622     0.0582     0.0217     0.0218     0.0160      0.0099   \n",
       "36     0.0963     0.0939     0.0580     0.0609     0.0489      0.0511   \n",
       "37     0.2123     0.2113     0.1657     0.1622     0.1666      0.1498   \n",
       "38     0.0523     0.0545     0.0230     0.0239     0.0207      0.0164   \n",
       "39     0.1296     0.1337     0.1047     0.1059     0.1125      0.0938   \n",
       "40     0.0372     0.0356     0.0240     0.0244     0.0224      0.0207   \n",
       "41     0.0413     0.0448     0.0182     0.0201     0.0154      0.0125   \n",
       "42     0.0624     0.0570     0.0237     0.0236     0.0212      0.0154   \n",
       "43     0.0534     0.0509     0.0250     0.0245     0.0217      0.0179   \n",
       "44     0.0534     0.0506     0.0194     0.0218     0.0170      0.0137   \n",
       "45     0.0442     0.0368     0.0133     0.0144     0.0114      0.0095   \n",
       "46     0.0442     0.0368     0.0133     0.0144     0.0114      0.0095   \n",
       "47     0.0415     0.0372     0.0101     0.0114     0.0097      0.0058   \n",
       "\n",
       "    B9_median  B11_median  B12_median  Resultado Data da coleta  interval  \n",
       "0      0.0120      0.0245      0.0212        251     2019-01-28         9  \n",
       "1      0.0406      0.0137      0.0132        251     2019-01-28         9  \n",
       "2      0.0001      0.0053      0.0052        335     2019-02-11        12  \n",
       "3      0.0001      0.0032      0.0035        298     2019-02-25        15  \n",
       "4      0.0055      0.0086      0.0078         76     2019-03-18        19  \n",
       "5      0.0012      0.0055      0.0042        186     2019-03-26        20  \n",
       "6      0.0036      0.0076      0.0066        186     2019-03-26        20  \n",
       "7      0.0007      0.0051      0.0044         26     2019-04-09        23  \n",
       "8      0.0001      0.0059      0.0059        374     2019-05-20        31  \n",
       "9      0.0001      0.0055      0.0076        134     2019-06-17        37  \n",
       "10     0.0001      0.0041      0.0045        600     2019-07-01        40  \n",
       "11     0.1880      0.2135      0.1895         20     2019-07-15        43  \n",
       "12     0.2087      0.0537      0.0839         70     2019-07-29        45  \n",
       "13     0.0055      0.0058      0.0041          0     2019-09-02        52  \n",
       "14     0.0050      0.0053      0.0048          8     2019-09-23        57  \n",
       "15     0.0471      0.0153      0.0141          8     2019-09-23        57  \n",
       "16     0.0074      0.0075      0.0063          0     2019-09-30        58  \n",
       "17     0.0125      0.0091      0.0081          0     2019-11-04        65  \n",
       "18     0.0828      0.0973      0.0862          0     2019-11-18        68  \n",
       "19     0.0095      0.0061      0.0059          0     2019-11-18        68  \n",
       "20     0.0719      0.1024      0.0845          0     2019-12-02        71  \n",
       "21     0.0039      0.0066      0.0062          0     2019-12-02        71  \n",
       "22     0.0813      0.0936      0.0831          0     2019-12-20        74  \n",
       "23     0.0034      0.0047      0.0054       1404     2020-01-06        78  \n",
       "24     0.0807      0.0835      0.0722        150     2020-01-21        81  \n",
       "25     0.0406      0.0352      0.0276        150     2020-01-21        81  \n",
       "26     0.0073      0.0099      0.0086        360     2020-02-26        88  \n",
       "27     0.0003      0.0036      0.0040        360     2020-02-26        88  \n",
       "28     0.0082      0.0067      0.0048         40     2020-03-16        92  \n",
       "29     0.0001      0.0030      0.0030       1897     2020-05-26       106  \n",
       "30     0.0001      0.0029      0.0030       1897     2020-05-26       106  \n",
       "31     0.0003      0.0068      0.0065        556     2020-06-23       111  \n",
       "32     0.0001      0.0041      0.0037        556     2020-06-23       111  \n",
       "33     0.0041      0.0059      0.0046        364     2020-08-06       120  \n",
       "34     0.0455      0.0435      0.0472        364     2020-08-06       120  \n",
       "35     0.0001      0.0046      0.0048          0     2020-09-24       130  \n",
       "36     0.0518      0.0301      0.0294        216     2020-10-06       132  \n",
       "37     0.1461      0.1425      0.1221       1486     2020-12-09       145  \n",
       "38     0.0116      0.0137      0.0122       1486     2020-12-09       145  \n",
       "39     0.0747      0.0940      0.0814      25659     2020-12-23       148  \n",
       "40     0.0252      0.0207      0.0168       1766     2020-12-30       149  \n",
       "41     0.0066      0.0098      0.0083       1766     2020-12-30       149  \n",
       "42     0.0088      0.0123      0.0110        612     2021-02-25       161  \n",
       "43     0.0136      0.0128      0.0109      10387     2021-03-10       163  \n",
       "44     0.0115      0.0106      0.0104      10387     2021-03-10       163  \n",
       "45     0.0055      0.0070      0.0066          0     2021-04-12       170  \n",
       "46     0.0055      0.0070      0.0066       2228     2021-04-14       170  \n",
       "47     0.0001      0.0044      0.0037       6997     2021-05-13       176  "
      ]
     },
     "execution_count": 43,
     "metadata": {},
     "output_type": "execute_result"
    }
   ],
   "source": [
    "df_train_2"
   ]
  },
  {
   "cell_type": "code",
   "execution_count": 45,
   "metadata": {},
   "outputs": [
    {
     "ename": "TypeError",
     "evalue": "InteractiveShell.system_raw() missing 1 required positional argument: 'cmd'",
     "output_type": "error",
     "traceback": [
      "\u001b[1;31m---------------------------------------------------------------------------\u001b[0m",
      "\u001b[1;31mTypeError\u001b[0m                                 Traceback (most recent call last)",
      "Cell \u001b[1;32mIn [45], line 1\u001b[0m\n\u001b[1;32m----> 1\u001b[0m \u001b[43mget_ipython\u001b[49m\u001b[43m(\u001b[49m\u001b[43m)\u001b[49m\u001b[38;5;241;43m.\u001b[39;49m\u001b[43msystem_raw\u001b[49m\u001b[43m(\u001b[49m\u001b[43m)\u001b[49m\n",
      "\u001b[1;31mTypeError\u001b[0m: InteractiveShell.system_raw() missing 1 required positional argument: 'cmd'"
     ]
    }
   ],
   "source": [
    "get_ipython().system_raw()"
   ]
  },
  {
   "cell_type": "code",
   "execution_count": 4,
   "metadata": {},
   "outputs": [
    {
     "ename": "ModuleNotFoundError",
     "evalue": "No module named 'src.features.create_ratios'",
     "output_type": "error",
     "traceback": [
      "\u001b[1;31m---------------------------------------------------------------------------\u001b[0m",
      "\u001b[1;31mModuleNotFoundError\u001b[0m                       Traceback (most recent call last)",
      "Cell \u001b[1;32mIn [4], line 1\u001b[0m\n\u001b[1;32m----> 1\u001b[0m \u001b[38;5;28;01mfrom\u001b[39;00m \u001b[38;5;21;01msrc\u001b[39;00m\u001b[38;5;21;01m.\u001b[39;00m\u001b[38;5;21;01mfeatures\u001b[39;00m\u001b[38;5;21;01m.\u001b[39;00m\u001b[38;5;21;01mcreate_ratios\u001b[39;00m \u001b[38;5;28;01mimport\u001b[39;00m create_ratios\n\u001b[0;32m      3\u001b[0m \u001b[38;5;28;01mwith\u001b[39;00m \u001b[38;5;28mopen\u001b[39m(\u001b[38;5;124m\"\u001b[39m\u001b[38;5;124mparams.yaml\u001b[39m\u001b[38;5;124m\"\u001b[39m) \u001b[38;5;28;01mas\u001b[39;00m config_file:\n\u001b[0;32m      4\u001b[0m         config \u001b[38;5;241m=\u001b[39m yaml\u001b[38;5;241m.\u001b[39msafe_load(config_file)\n",
      "\u001b[1;31mModuleNotFoundError\u001b[0m: No module named 'src.features.create_ratios'"
     ]
    }
   ],
   "source": [
    "from src.features.create_ratios import create_ratios\n",
    "\n",
    "with open(\"params.yaml\") as config_file:\n",
    "        config = yaml.safe_load(config_file)\n",
    "    \n",
    "df_train = pd.read_csv(config[\"data_split\"][\"trainset_path\"])\n",
    "df_test = pd.read_csv(config[\"data_split\"][\"testset_path\"])\n",
    "\n",
    "df_train = create_ratios(df_train)\n",
    "df_test = create_ratios(df_test)\n",
    "\n",
    "features = config[\"featurize\"][\"selected_features\"]\n",
    "\n",
    "X_train = df_train[features]\n",
    "X_test = df_test[features]\n",
    "y_train = df_train[config[\"featurize\"][\"target_column\"]]\n",
    "y_test = df_test[config[\"featurize\"][\"target_column\"]]\n"
   ]
  },
  {
   "cell_type": "markdown",
   "metadata": {},
   "source": [
    "# Train"
   ]
  },
  {
   "cell_type": "markdown",
   "metadata": {},
   "source": [
    "## Ridge"
   ]
  },
  {
   "cell_type": "code",
   "execution_count": 48,
   "metadata": {},
   "outputs": [
    {
     "name": "stderr",
     "output_type": "stream",
     "text": [
      "\u001b[32m[I 2022-08-23 17:01:26,467]\u001b[0m A new study created in memory with name: Ridge\u001b[0m\n",
      "\u001b[32m[I 2022-08-23 17:01:26,536]\u001b[0m Trial 0 finished with value: 4352.396913628209 and parameters: {'alpha': 1.3221624241053715, 'degree': 3}. Best is trial 0 with value: 4352.396913628209.\u001b[0m\n",
      "\u001b[32m[I 2022-08-23 17:01:26,603]\u001b[0m Trial 1 finished with value: 4060.1721660702146 and parameters: {'alpha': 14.893994389666315, 'degree': 5}. Best is trial 1 with value: 4060.1721660702146.\u001b[0m\n",
      "\u001b[32m[I 2022-08-23 17:01:26,655]\u001b[0m Trial 2 finished with value: 4404.238905677783 and parameters: {'alpha': 38.93428750544299, 'degree': 2}. Best is trial 1 with value: 4060.1721660702146.\u001b[0m\n",
      "\u001b[32m[I 2022-08-23 17:01:26,716]\u001b[0m Trial 3 finished with value: 4438.45420266832 and parameters: {'alpha': 1.7726220386260472, 'degree': 2}. Best is trial 1 with value: 4060.1721660702146.\u001b[0m\n",
      "\u001b[32m[I 2022-08-23 17:01:26,785]\u001b[0m Trial 4 finished with value: 4370.8078660547035 and parameters: {'alpha': 1.522671159498604, 'degree': 3}. Best is trial 1 with value: 4060.1721660702146.\u001b[0m\n",
      "\u001b[32m[I 2022-08-23 17:01:26,841]\u001b[0m Trial 5 finished with value: 4427.4086581317415 and parameters: {'alpha': 61.49849606929222, 'degree': 2}. Best is trial 1 with value: 4060.1721660702146.\u001b[0m\n",
      "\u001b[32m[I 2022-08-23 17:01:26,905]\u001b[0m Trial 6 finished with value: 4026.12327577828 and parameters: {'alpha': 24.029795611574773, 'degree': 5}. Best is trial 6 with value: 4026.12327577828.\u001b[0m\n",
      "\u001b[32m[I 2022-08-23 17:01:26,964]\u001b[0m Trial 7 finished with value: 4392.694415394387 and parameters: {'alpha': 38.21953056904462, 'degree': 4}. Best is trial 6 with value: 4026.12327577828.\u001b[0m\n",
      "\u001b[32m[I 2022-08-23 17:01:27,018]\u001b[0m Trial 8 finished with value: 4394.9902764382605 and parameters: {'alpha': 19.75733574061009, 'degree': 3}. Best is trial 6 with value: 4026.12327577828.\u001b[0m\n",
      "\u001b[32m[I 2022-08-23 17:01:27,074]\u001b[0m Trial 9 finished with value: 4323.303913512361 and parameters: {'alpha': 53.316749123787595, 'degree': 3}. Best is trial 6 with value: 4026.12327577828.\u001b[0m\n",
      "\u001b[32m[I 2022-08-23 17:01:27,140]\u001b[0m Trial 10 finished with value: 4265.637630590706 and parameters: {'alpha': 98.5691928203542, 'degree': 5}. Best is trial 6 with value: 4026.12327577828.\u001b[0m\n",
      "\u001b[32m[I 2022-08-23 17:01:27,204]\u001b[0m Trial 11 finished with value: 4015.835853300178 and parameters: {'alpha': 25.49139802087847, 'degree': 5}. Best is trial 11 with value: 4015.835853300178.\u001b[0m\n",
      "\u001b[32m[I 2022-08-23 17:01:27,268]\u001b[0m Trial 12 finished with value: 4000.118098151797 and parameters: {'alpha': 28.843207323966904, 'degree': 5}. Best is trial 12 with value: 4000.118098151797.\u001b[0m\n",
      "\u001b[32m[I 2022-08-23 17:01:27,330]\u001b[0m Trial 13 finished with value: 4373.006540545951 and parameters: {'alpha': 67.61611757512432, 'degree': 4}. Best is trial 12 with value: 4000.118098151797.\u001b[0m\n",
      "\u001b[32m[I 2022-08-23 17:01:27,394]\u001b[0m Trial 14 finished with value: 4395.5288000739 and parameters: {'alpha': 34.16221597591597, 'degree': 4}. Best is trial 12 with value: 4000.118098151797.\u001b[0m\n",
      "\u001b[32m[I 2022-08-23 17:01:27,456]\u001b[0m Trial 15 finished with value: 4232.1232302155295 and parameters: {'alpha': 82.3367087616856, 'degree': 5}. Best is trial 12 with value: 4000.118098151797.\u001b[0m\n",
      "\u001b[32m[I 2022-08-23 17:01:27,520]\u001b[0m Trial 16 finished with value: 4400.270213802842 and parameters: {'alpha': 28.068423403580674, 'degree': 4}. Best is trial 12 with value: 4000.118098151797.\u001b[0m\n",
      "\u001b[32m[I 2022-08-23 17:01:27,582]\u001b[0m Trial 17 finished with value: 4085.4484612541746 and parameters: {'alpha': 47.24287300788969, 'degree': 5}. Best is trial 12 with value: 4000.118098151797.\u001b[0m\n",
      "\u001b[32m[I 2022-08-23 17:01:27,647]\u001b[0m Trial 18 finished with value: 4054.282816143865 and parameters: {'alpha': 13.58691388096003, 'degree': 5}. Best is trial 12 with value: 4000.118098151797.\u001b[0m\n",
      "\u001b[32m[I 2022-08-23 17:01:27,705]\u001b[0m Trial 19 finished with value: 4384.885933247223 and parameters: {'alpha': 48.04386663309049, 'degree': 4}. Best is trial 12 with value: 4000.118098151797.\u001b[0m\n",
      "\u001b[32m[I 2022-08-23 17:01:27,771]\u001b[0m Trial 20 finished with value: 3997.8494712973015 and parameters: {'alpha': 29.572716830739452, 'degree': 5}. Best is trial 20 with value: 3997.8494712973015.\u001b[0m\n",
      "\u001b[32m[I 2022-08-23 17:01:27,836]\u001b[0m Trial 21 finished with value: 3998.5500681863823 and parameters: {'alpha': 29.326602843244014, 'degree': 5}. Best is trial 20 with value: 3997.8494712973015.\u001b[0m\n",
      "\u001b[32m[I 2022-08-23 17:01:27,907]\u001b[0m Trial 22 finished with value: 4009.966588863981 and parameters: {'alpha': 34.205439095028, 'degree': 5}. Best is trial 20 with value: 3997.8494712973015.\u001b[0m\n",
      "\u001b[32m[I 2022-08-23 17:01:27,967]\u001b[0m Trial 23 finished with value: 4370.554110409357 and parameters: {'alpha': 12.90139556329002, 'degree': 4}. Best is trial 20 with value: 3997.8494712973015.\u001b[0m\n",
      "\u001b[32m[I 2022-08-23 17:01:28,051]\u001b[0m Trial 24 finished with value: 4055.8088495128513 and parameters: {'alpha': 43.0680723131851, 'degree': 5}. Best is trial 20 with value: 3997.8494712973015.\u001b[0m\n",
      "\u001b[32m[I 2022-08-23 17:01:28,129]\u001b[0m Trial 25 finished with value: 4140.074151143837 and parameters: {'alpha': 56.685945292016534, 'degree': 5}. Best is trial 20 with value: 3997.8494712973015.\u001b[0m\n",
      "\u001b[32m[I 2022-08-23 17:01:28,212]\u001b[0m Trial 26 finished with value: 4400.27468458821 and parameters: {'alpha': 28.063378083960284, 'degree': 4}. Best is trial 20 with value: 3997.8494712973015.\u001b[0m\n",
      "\u001b[32m[I 2022-08-23 17:01:28,304]\u001b[0m Trial 27 finished with value: 4002.8776974892944 and parameters: {'alpha': 31.988860668816265, 'degree': 5}. Best is trial 20 with value: 3997.8494712973015.\u001b[0m\n",
      "\u001b[32m[I 2022-08-23 17:01:28,385]\u001b[0m Trial 28 finished with value: 4399.478340065796 and parameters: {'alpha': 18.91742686606971, 'degree': 4}. Best is trial 20 with value: 3997.8494712973015.\u001b[0m\n",
      "\u001b[32m[I 2022-08-23 17:01:28,460]\u001b[0m Trial 29 finished with value: 4148.340526525165 and parameters: {'alpha': 8.725571164412216, 'degree': 5}. Best is trial 20 with value: 3997.8494712973015.\u001b[0m\n",
      "\u001b[32m[I 2022-08-23 17:01:28,547]\u001b[0m Trial 30 finished with value: 4199.047500474373 and parameters: {'alpha': 71.0198023325218, 'degree': 5}. Best is trial 20 with value: 3997.8494712973015.\u001b[0m\n",
      "\u001b[32m[I 2022-08-23 17:01:28,623]\u001b[0m Trial 31 finished with value: 4003.559447048908 and parameters: {'alpha': 32.25744058935888, 'degree': 5}. Best is trial 20 with value: 3997.8494712973015.\u001b[0m\n",
      "\u001b[32m[I 2022-08-23 17:01:28,698]\u001b[0m Trial 32 finished with value: 4052.3860268490466 and parameters: {'alpha': 42.619378507516075, 'degree': 5}. Best is trial 20 with value: 3997.8494712973015.\u001b[0m\n",
      "\u001b[32m[I 2022-08-23 17:01:28,781]\u001b[0m Trial 33 finished with value: 4067.091277873049 and parameters: {'alpha': 20.468031060143492, 'degree': 5}. Best is trial 20 with value: 3997.8494712973015.\u001b[0m\n",
      "\u001b[32m[I 2022-08-23 17:01:28,860]\u001b[0m Trial 34 finished with value: 4001.4070840487593 and parameters: {'alpha': 31.377352153606548, 'degree': 5}. Best is trial 20 with value: 3997.8494712973015.\u001b[0m\n",
      "\u001b[32m[I 2022-08-23 17:01:28,938]\u001b[0m Trial 35 finished with value: 4131.203780500278 and parameters: {'alpha': 8.985205083167862, 'degree': 5}. Best is trial 20 with value: 3997.8494712973015.\u001b[0m\n",
      "\u001b[32m[I 2022-08-23 17:01:29,008]\u001b[0m Trial 36 finished with value: 4389.925766571769 and parameters: {'alpha': 41.77390633164559, 'degree': 4}. Best is trial 20 with value: 3997.8494712973015.\u001b[0m\n",
      "\u001b[32m[I 2022-08-23 17:01:29,078]\u001b[0m Trial 37 finished with value: 4401.267406507044 and parameters: {'alpha': 36.91279196265508, 'degree': 2}. Best is trial 20 with value: 3997.8494712973015.\u001b[0m\n",
      "\u001b[32m[I 2022-08-23 17:01:29,158]\u001b[0m Trial 38 finished with value: 4029.864702190224 and parameters: {'alpha': 23.57583048525364, 'degree': 5}. Best is trial 20 with value: 3997.8494712973015.\u001b[0m\n",
      "\u001b[32m[I 2022-08-23 17:01:29,238]\u001b[0m Trial 39 finished with value: 4221.581256558256 and parameters: {'alpha': 6.458912015298999, 'degree': 4}. Best is trial 20 with value: 3997.8494712973015.\u001b[0m\n",
      "\u001b[32m[I 2022-08-23 17:01:29,336]\u001b[0m Trial 40 finished with value: 4401.188669971672 and parameters: {'alpha': 18.06163989437731, 'degree': 3}. Best is trial 20 with value: 3997.8494712973015.\u001b[0m\n",
      "\u001b[32m[I 2022-08-23 17:01:29,452]\u001b[0m Trial 41 finished with value: 3998.3110319433945 and parameters: {'alpha': 29.850709691124585, 'degree': 5}. Best is trial 20 with value: 3997.8494712973015.\u001b[0m\n",
      "\u001b[32m[I 2022-08-23 17:01:29,531]\u001b[0m Trial 42 finished with value: 3999.042414427825 and parameters: {'alpha': 30.25508499603624, 'degree': 5}. Best is trial 20 with value: 3997.8494712973015.\u001b[0m\n",
      "\u001b[32m[I 2022-08-23 17:01:29,597]\u001b[0m Trial 43 finished with value: 4006.885439001785 and parameters: {'alpha': 27.150447493206677, 'degree': 5}. Best is trial 20 with value: 3997.8494712973015.\u001b[0m\n",
      "\u001b[32m[I 2022-08-23 17:01:29,667]\u001b[0m Trial 44 finished with value: 4042.964973663053 and parameters: {'alpha': 40.90145923602083, 'degree': 5}. Best is trial 20 with value: 3997.8494712973015.\u001b[0m\n",
      "\u001b[32m[I 2022-08-23 17:01:29,739]\u001b[0m Trial 45 finished with value: 4041.51361263827 and parameters: {'alpha': 22.430292330543324, 'degree': 5}. Best is trial 20 with value: 3997.8494712973015.\u001b[0m\n",
      "\u001b[32m[I 2022-08-23 17:01:29,810]\u001b[0m Trial 46 finished with value: 4024.4014807536364 and parameters: {'alpha': 37.5319604647654, 'degree': 5}. Best is trial 20 with value: 3997.8494712973015.\u001b[0m\n",
      "\u001b[32m[I 2022-08-23 17:01:29,868]\u001b[0m Trial 47 finished with value: 4419.772839469384 and parameters: {'alpha': 52.36999850485746, 'degree': 2}. Best is trial 20 with value: 3997.8494712973015.\u001b[0m\n",
      "\u001b[32m[I 2022-08-23 17:01:29,930]\u001b[0m Trial 48 finished with value: 4389.158468424258 and parameters: {'alpha': 15.615561091294085, 'degree': 4}. Best is trial 20 with value: 3997.8494712973015.\u001b[0m\n",
      "\u001b[32m[I 2022-08-23 17:01:30,002]\u001b[0m Trial 49 finished with value: 4078.1518839085084 and parameters: {'alpha': 46.163689406798426, 'degree': 5}. Best is trial 20 with value: 3997.8494712973015.\u001b[0m\n"
     ]
    }
   ],
   "source": [
    "# Poly Ridge\n",
    "\n",
    "\n",
    "\n",
    "RANDOM = config[\"base\"][\"random_state\"]\n",
    "\n",
    "def objective(trial, X, y):\n",
    "\n",
    "    param_grid = {\n",
    "        \"alpha\": trial.suggest_float(\"alpha\", .5, 100),\n",
    "        \"degree\": trial.suggest_int(\"degree\", 2, 5)\n",
    "    }\n",
    "\n",
    "    poly = PolynomialFeatures(degree=param_grid[\"degree\"], include_bias=False)\n",
    "    ridge_reg = Ridge(param_grid[\"alpha\"])\n",
    "\n",
    "    poly_ridge = Pipeline([\n",
    "        (\"poly\", poly),\n",
    "        (\"regressor\", ridge_reg)\n",
    "    ])\n",
    "\n",
    "    model = TransformedTargetRegressor(regressor = poly_ridge, transformer=PowerTransformer(method=\"yeo-johnson\"))\n",
    "\n",
    "    cv = RepeatedKFold(n_repeats=2, n_splits=3, random_state=RANDOM)\n",
    "\n",
    "    cv_scores = []\n",
    "    for (train_index, val_index) in cv.split(X, y):\n",
    "    #print(train_index, val_index)\n",
    "        X_train, X_val = X.iloc[train_index], X.iloc[val_index]\n",
    "        y_train, y_val = y.iloc[train_index], y.iloc[val_index]\n",
    "        \n",
    "        model.fit(X_train, y_train)\n",
    "                \n",
    "        preds = model.predict(X_val)\n",
    "        cv_scores.append(mean_absolute_error(preds, y_val))\n",
    "    \n",
    "    return np.median(cv_scores)\n",
    "\n",
    "study = optuna.create_study(direction=\"minimize\", study_name=\"Ridge\")\n",
    "func = lambda trial: objective(trial, X_train, y_train)\n",
    "study.optimize(func, n_trials=50)"
   ]
  },
  {
   "cell_type": "code",
   "execution_count": 51,
   "metadata": {},
   "outputs": [
    {
     "data": {
      "application/vnd.plotly.v1+json": {
       "config": {
        "plotlyServerURL": "https://plot.ly"
       },
       "data": [
        {
         "mode": "markers",
         "name": "Objective Value",
         "type": "scatter",
         "x": [
          0,
          1,
          2,
          3,
          4,
          5,
          6,
          7,
          8,
          9,
          10,
          11,
          12,
          13,
          14,
          15,
          16,
          17,
          18,
          19,
          20,
          21,
          22,
          23,
          24,
          25,
          26,
          27,
          28,
          29,
          30,
          31,
          32,
          33,
          34,
          35,
          36,
          37,
          38,
          39,
          40,
          41,
          42,
          43,
          44,
          45,
          46,
          47,
          48,
          49
         ],
         "y": [
          4352.396913628209,
          4060.1721660702146,
          4404.238905677783,
          4438.45420266832,
          4370.8078660547035,
          4427.4086581317415,
          4026.12327577828,
          4392.694415394387,
          4394.9902764382605,
          4323.303913512361,
          4265.637630590706,
          4015.835853300178,
          4000.118098151797,
          4373.006540545951,
          4395.5288000739,
          4232.1232302155295,
          4400.270213802842,
          4085.4484612541746,
          4054.282816143865,
          4384.885933247223,
          3997.8494712973015,
          3998.5500681863823,
          4009.966588863981,
          4370.554110409357,
          4055.8088495128513,
          4140.074151143837,
          4400.27468458821,
          4002.8776974892944,
          4399.478340065796,
          4148.340526525165,
          4199.047500474373,
          4003.559447048908,
          4052.3860268490466,
          4067.091277873049,
          4001.4070840487593,
          4131.203780500278,
          4389.925766571769,
          4401.267406507044,
          4029.864702190224,
          4221.581256558256,
          4401.188669971672,
          3998.3110319433945,
          3999.042414427825,
          4006.885439001785,
          4042.964973663053,
          4041.51361263827,
          4024.4014807536364,
          4419.772839469384,
          4389.158468424258,
          4078.1518839085084
         ]
        },
        {
         "name": "Best Value",
         "type": "scatter",
         "x": [
          0,
          1,
          2,
          3,
          4,
          5,
          6,
          7,
          8,
          9,
          10,
          11,
          12,
          13,
          14,
          15,
          16,
          17,
          18,
          19,
          20,
          21,
          22,
          23,
          24,
          25,
          26,
          27,
          28,
          29,
          30,
          31,
          32,
          33,
          34,
          35,
          36,
          37,
          38,
          39,
          40,
          41,
          42,
          43,
          44,
          45,
          46,
          47,
          48,
          49
         ],
         "y": [
          4352.396913628209,
          4060.1721660702146,
          4060.1721660702146,
          4060.1721660702146,
          4060.1721660702146,
          4060.1721660702146,
          4026.12327577828,
          4026.12327577828,
          4026.12327577828,
          4026.12327577828,
          4026.12327577828,
          4015.835853300178,
          4000.118098151797,
          4000.118098151797,
          4000.118098151797,
          4000.118098151797,
          4000.118098151797,
          4000.118098151797,
          4000.118098151797,
          4000.118098151797,
          3997.8494712973015,
          3997.8494712973015,
          3997.8494712973015,
          3997.8494712973015,
          3997.8494712973015,
          3997.8494712973015,
          3997.8494712973015,
          3997.8494712973015,
          3997.8494712973015,
          3997.8494712973015,
          3997.8494712973015,
          3997.8494712973015,
          3997.8494712973015,
          3997.8494712973015,
          3997.8494712973015,
          3997.8494712973015,
          3997.8494712973015,
          3997.8494712973015,
          3997.8494712973015,
          3997.8494712973015,
          3997.8494712973015,
          3997.8494712973015,
          3997.8494712973015,
          3997.8494712973015,
          3997.8494712973015,
          3997.8494712973015,
          3997.8494712973015,
          3997.8494712973015,
          3997.8494712973015,
          3997.8494712973015
         ]
        }
       ],
       "layout": {
        "template": {
         "data": {
          "bar": [
           {
            "error_x": {
             "color": "#2a3f5f"
            },
            "error_y": {
             "color": "#2a3f5f"
            },
            "marker": {
             "line": {
              "color": "#E5ECF6",
              "width": 0.5
             },
             "pattern": {
              "fillmode": "overlay",
              "size": 10,
              "solidity": 0.2
             }
            },
            "type": "bar"
           }
          ],
          "barpolar": [
           {
            "marker": {
             "line": {
              "color": "#E5ECF6",
              "width": 0.5
             },
             "pattern": {
              "fillmode": "overlay",
              "size": 10,
              "solidity": 0.2
             }
            },
            "type": "barpolar"
           }
          ],
          "carpet": [
           {
            "aaxis": {
             "endlinecolor": "#2a3f5f",
             "gridcolor": "white",
             "linecolor": "white",
             "minorgridcolor": "white",
             "startlinecolor": "#2a3f5f"
            },
            "baxis": {
             "endlinecolor": "#2a3f5f",
             "gridcolor": "white",
             "linecolor": "white",
             "minorgridcolor": "white",
             "startlinecolor": "#2a3f5f"
            },
            "type": "carpet"
           }
          ],
          "choropleth": [
           {
            "colorbar": {
             "outlinewidth": 0,
             "ticks": ""
            },
            "type": "choropleth"
           }
          ],
          "contour": [
           {
            "colorbar": {
             "outlinewidth": 0,
             "ticks": ""
            },
            "colorscale": [
             [
              0,
              "#0d0887"
             ],
             [
              0.1111111111111111,
              "#46039f"
             ],
             [
              0.2222222222222222,
              "#7201a8"
             ],
             [
              0.3333333333333333,
              "#9c179e"
             ],
             [
              0.4444444444444444,
              "#bd3786"
             ],
             [
              0.5555555555555556,
              "#d8576b"
             ],
             [
              0.6666666666666666,
              "#ed7953"
             ],
             [
              0.7777777777777778,
              "#fb9f3a"
             ],
             [
              0.8888888888888888,
              "#fdca26"
             ],
             [
              1,
              "#f0f921"
             ]
            ],
            "type": "contour"
           }
          ],
          "contourcarpet": [
           {
            "colorbar": {
             "outlinewidth": 0,
             "ticks": ""
            },
            "type": "contourcarpet"
           }
          ],
          "heatmap": [
           {
            "colorbar": {
             "outlinewidth": 0,
             "ticks": ""
            },
            "colorscale": [
             [
              0,
              "#0d0887"
             ],
             [
              0.1111111111111111,
              "#46039f"
             ],
             [
              0.2222222222222222,
              "#7201a8"
             ],
             [
              0.3333333333333333,
              "#9c179e"
             ],
             [
              0.4444444444444444,
              "#bd3786"
             ],
             [
              0.5555555555555556,
              "#d8576b"
             ],
             [
              0.6666666666666666,
              "#ed7953"
             ],
             [
              0.7777777777777778,
              "#fb9f3a"
             ],
             [
              0.8888888888888888,
              "#fdca26"
             ],
             [
              1,
              "#f0f921"
             ]
            ],
            "type": "heatmap"
           }
          ],
          "heatmapgl": [
           {
            "colorbar": {
             "outlinewidth": 0,
             "ticks": ""
            },
            "colorscale": [
             [
              0,
              "#0d0887"
             ],
             [
              0.1111111111111111,
              "#46039f"
             ],
             [
              0.2222222222222222,
              "#7201a8"
             ],
             [
              0.3333333333333333,
              "#9c179e"
             ],
             [
              0.4444444444444444,
              "#bd3786"
             ],
             [
              0.5555555555555556,
              "#d8576b"
             ],
             [
              0.6666666666666666,
              "#ed7953"
             ],
             [
              0.7777777777777778,
              "#fb9f3a"
             ],
             [
              0.8888888888888888,
              "#fdca26"
             ],
             [
              1,
              "#f0f921"
             ]
            ],
            "type": "heatmapgl"
           }
          ],
          "histogram": [
           {
            "marker": {
             "pattern": {
              "fillmode": "overlay",
              "size": 10,
              "solidity": 0.2
             }
            },
            "type": "histogram"
           }
          ],
          "histogram2d": [
           {
            "colorbar": {
             "outlinewidth": 0,
             "ticks": ""
            },
            "colorscale": [
             [
              0,
              "#0d0887"
             ],
             [
              0.1111111111111111,
              "#46039f"
             ],
             [
              0.2222222222222222,
              "#7201a8"
             ],
             [
              0.3333333333333333,
              "#9c179e"
             ],
             [
              0.4444444444444444,
              "#bd3786"
             ],
             [
              0.5555555555555556,
              "#d8576b"
             ],
             [
              0.6666666666666666,
              "#ed7953"
             ],
             [
              0.7777777777777778,
              "#fb9f3a"
             ],
             [
              0.8888888888888888,
              "#fdca26"
             ],
             [
              1,
              "#f0f921"
             ]
            ],
            "type": "histogram2d"
           }
          ],
          "histogram2dcontour": [
           {
            "colorbar": {
             "outlinewidth": 0,
             "ticks": ""
            },
            "colorscale": [
             [
              0,
              "#0d0887"
             ],
             [
              0.1111111111111111,
              "#46039f"
             ],
             [
              0.2222222222222222,
              "#7201a8"
             ],
             [
              0.3333333333333333,
              "#9c179e"
             ],
             [
              0.4444444444444444,
              "#bd3786"
             ],
             [
              0.5555555555555556,
              "#d8576b"
             ],
             [
              0.6666666666666666,
              "#ed7953"
             ],
             [
              0.7777777777777778,
              "#fb9f3a"
             ],
             [
              0.8888888888888888,
              "#fdca26"
             ],
             [
              1,
              "#f0f921"
             ]
            ],
            "type": "histogram2dcontour"
           }
          ],
          "mesh3d": [
           {
            "colorbar": {
             "outlinewidth": 0,
             "ticks": ""
            },
            "type": "mesh3d"
           }
          ],
          "parcoords": [
           {
            "line": {
             "colorbar": {
              "outlinewidth": 0,
              "ticks": ""
             }
            },
            "type": "parcoords"
           }
          ],
          "pie": [
           {
            "automargin": true,
            "type": "pie"
           }
          ],
          "scatter": [
           {
            "fillpattern": {
             "fillmode": "overlay",
             "size": 10,
             "solidity": 0.2
            },
            "type": "scatter"
           }
          ],
          "scatter3d": [
           {
            "line": {
             "colorbar": {
              "outlinewidth": 0,
              "ticks": ""
             }
            },
            "marker": {
             "colorbar": {
              "outlinewidth": 0,
              "ticks": ""
             }
            },
            "type": "scatter3d"
           }
          ],
          "scattercarpet": [
           {
            "marker": {
             "colorbar": {
              "outlinewidth": 0,
              "ticks": ""
             }
            },
            "type": "scattercarpet"
           }
          ],
          "scattergeo": [
           {
            "marker": {
             "colorbar": {
              "outlinewidth": 0,
              "ticks": ""
             }
            },
            "type": "scattergeo"
           }
          ],
          "scattergl": [
           {
            "marker": {
             "colorbar": {
              "outlinewidth": 0,
              "ticks": ""
             }
            },
            "type": "scattergl"
           }
          ],
          "scattermapbox": [
           {
            "marker": {
             "colorbar": {
              "outlinewidth": 0,
              "ticks": ""
             }
            },
            "type": "scattermapbox"
           }
          ],
          "scatterpolar": [
           {
            "marker": {
             "colorbar": {
              "outlinewidth": 0,
              "ticks": ""
             }
            },
            "type": "scatterpolar"
           }
          ],
          "scatterpolargl": [
           {
            "marker": {
             "colorbar": {
              "outlinewidth": 0,
              "ticks": ""
             }
            },
            "type": "scatterpolargl"
           }
          ],
          "scatterternary": [
           {
            "marker": {
             "colorbar": {
              "outlinewidth": 0,
              "ticks": ""
             }
            },
            "type": "scatterternary"
           }
          ],
          "surface": [
           {
            "colorbar": {
             "outlinewidth": 0,
             "ticks": ""
            },
            "colorscale": [
             [
              0,
              "#0d0887"
             ],
             [
              0.1111111111111111,
              "#46039f"
             ],
             [
              0.2222222222222222,
              "#7201a8"
             ],
             [
              0.3333333333333333,
              "#9c179e"
             ],
             [
              0.4444444444444444,
              "#bd3786"
             ],
             [
              0.5555555555555556,
              "#d8576b"
             ],
             [
              0.6666666666666666,
              "#ed7953"
             ],
             [
              0.7777777777777778,
              "#fb9f3a"
             ],
             [
              0.8888888888888888,
              "#fdca26"
             ],
             [
              1,
              "#f0f921"
             ]
            ],
            "type": "surface"
           }
          ],
          "table": [
           {
            "cells": {
             "fill": {
              "color": "#EBF0F8"
             },
             "line": {
              "color": "white"
             }
            },
            "header": {
             "fill": {
              "color": "#C8D4E3"
             },
             "line": {
              "color": "white"
             }
            },
            "type": "table"
           }
          ]
         },
         "layout": {
          "annotationdefaults": {
           "arrowcolor": "#2a3f5f",
           "arrowhead": 0,
           "arrowwidth": 1
          },
          "autotypenumbers": "strict",
          "coloraxis": {
           "colorbar": {
            "outlinewidth": 0,
            "ticks": ""
           }
          },
          "colorscale": {
           "diverging": [
            [
             0,
             "#8e0152"
            ],
            [
             0.1,
             "#c51b7d"
            ],
            [
             0.2,
             "#de77ae"
            ],
            [
             0.3,
             "#f1b6da"
            ],
            [
             0.4,
             "#fde0ef"
            ],
            [
             0.5,
             "#f7f7f7"
            ],
            [
             0.6,
             "#e6f5d0"
            ],
            [
             0.7,
             "#b8e186"
            ],
            [
             0.8,
             "#7fbc41"
            ],
            [
             0.9,
             "#4d9221"
            ],
            [
             1,
             "#276419"
            ]
           ],
           "sequential": [
            [
             0,
             "#0d0887"
            ],
            [
             0.1111111111111111,
             "#46039f"
            ],
            [
             0.2222222222222222,
             "#7201a8"
            ],
            [
             0.3333333333333333,
             "#9c179e"
            ],
            [
             0.4444444444444444,
             "#bd3786"
            ],
            [
             0.5555555555555556,
             "#d8576b"
            ],
            [
             0.6666666666666666,
             "#ed7953"
            ],
            [
             0.7777777777777778,
             "#fb9f3a"
            ],
            [
             0.8888888888888888,
             "#fdca26"
            ],
            [
             1,
             "#f0f921"
            ]
           ],
           "sequentialminus": [
            [
             0,
             "#0d0887"
            ],
            [
             0.1111111111111111,
             "#46039f"
            ],
            [
             0.2222222222222222,
             "#7201a8"
            ],
            [
             0.3333333333333333,
             "#9c179e"
            ],
            [
             0.4444444444444444,
             "#bd3786"
            ],
            [
             0.5555555555555556,
             "#d8576b"
            ],
            [
             0.6666666666666666,
             "#ed7953"
            ],
            [
             0.7777777777777778,
             "#fb9f3a"
            ],
            [
             0.8888888888888888,
             "#fdca26"
            ],
            [
             1,
             "#f0f921"
            ]
           ]
          },
          "colorway": [
           "#636efa",
           "#EF553B",
           "#00cc96",
           "#ab63fa",
           "#FFA15A",
           "#19d3f3",
           "#FF6692",
           "#B6E880",
           "#FF97FF",
           "#FECB52"
          ],
          "font": {
           "color": "#2a3f5f"
          },
          "geo": {
           "bgcolor": "white",
           "lakecolor": "white",
           "landcolor": "#E5ECF6",
           "showlakes": true,
           "showland": true,
           "subunitcolor": "white"
          },
          "hoverlabel": {
           "align": "left"
          },
          "hovermode": "closest",
          "mapbox": {
           "style": "light"
          },
          "paper_bgcolor": "white",
          "plot_bgcolor": "#E5ECF6",
          "polar": {
           "angularaxis": {
            "gridcolor": "white",
            "linecolor": "white",
            "ticks": ""
           },
           "bgcolor": "#E5ECF6",
           "radialaxis": {
            "gridcolor": "white",
            "linecolor": "white",
            "ticks": ""
           }
          },
          "scene": {
           "xaxis": {
            "backgroundcolor": "#E5ECF6",
            "gridcolor": "white",
            "gridwidth": 2,
            "linecolor": "white",
            "showbackground": true,
            "ticks": "",
            "zerolinecolor": "white"
           },
           "yaxis": {
            "backgroundcolor": "#E5ECF6",
            "gridcolor": "white",
            "gridwidth": 2,
            "linecolor": "white",
            "showbackground": true,
            "ticks": "",
            "zerolinecolor": "white"
           },
           "zaxis": {
            "backgroundcolor": "#E5ECF6",
            "gridcolor": "white",
            "gridwidth": 2,
            "linecolor": "white",
            "showbackground": true,
            "ticks": "",
            "zerolinecolor": "white"
           }
          },
          "shapedefaults": {
           "line": {
            "color": "#2a3f5f"
           }
          },
          "ternary": {
           "aaxis": {
            "gridcolor": "white",
            "linecolor": "white",
            "ticks": ""
           },
           "baxis": {
            "gridcolor": "white",
            "linecolor": "white",
            "ticks": ""
           },
           "bgcolor": "#E5ECF6",
           "caxis": {
            "gridcolor": "white",
            "linecolor": "white",
            "ticks": ""
           }
          },
          "title": {
           "x": 0.05
          },
          "xaxis": {
           "automargin": true,
           "gridcolor": "white",
           "linecolor": "white",
           "ticks": "",
           "title": {
            "standoff": 15
           },
           "zerolinecolor": "white",
           "zerolinewidth": 2
          },
          "yaxis": {
           "automargin": true,
           "gridcolor": "white",
           "linecolor": "white",
           "ticks": "",
           "title": {
            "standoff": 15
           },
           "zerolinecolor": "white",
           "zerolinewidth": 2
          }
         }
        },
        "title": {
         "text": "Optimization History Plot"
        },
        "xaxis": {
         "title": {
          "text": "#Trials"
         }
        },
        "yaxis": {
         "title": {
          "text": "Objective Value"
         }
        }
       }
      }
     },
     "metadata": {},
     "output_type": "display_data"
    }
   ],
   "source": [
    "plot_optimization_history(study)"
   ]
  },
  {
   "cell_type": "code",
   "execution_count": 46,
   "metadata": {},
   "outputs": [
    {
     "data": {
      "application/vnd.plotly.v1+json": {
       "config": {
        "plotlyServerURL": "https://plot.ly"
       },
       "data": [
        {
         "cliponaxis": false,
         "hovertemplate": [
          "alpha (UniformDistribution): 0.18948682871392572<extra></extra>",
          "degree (IntUniformDistribution): 0.8105131712860743<extra></extra>"
         ],
         "marker": {
          "color": "rgb(66,146,198)"
         },
         "orientation": "h",
         "text": [
          "0.18948682871392572",
          "0.8105131712860743"
         ],
         "textposition": "outside",
         "texttemplate": "%{text:.2f}",
         "type": "bar",
         "x": [
          0.18948682871392572,
          0.8105131712860743
         ],
         "y": [
          "alpha",
          "degree"
         ]
        }
       ],
       "layout": {
        "showlegend": false,
        "template": {
         "data": {
          "bar": [
           {
            "error_x": {
             "color": "#2a3f5f"
            },
            "error_y": {
             "color": "#2a3f5f"
            },
            "marker": {
             "line": {
              "color": "#E5ECF6",
              "width": 0.5
             },
             "pattern": {
              "fillmode": "overlay",
              "size": 10,
              "solidity": 0.2
             }
            },
            "type": "bar"
           }
          ],
          "barpolar": [
           {
            "marker": {
             "line": {
              "color": "#E5ECF6",
              "width": 0.5
             },
             "pattern": {
              "fillmode": "overlay",
              "size": 10,
              "solidity": 0.2
             }
            },
            "type": "barpolar"
           }
          ],
          "carpet": [
           {
            "aaxis": {
             "endlinecolor": "#2a3f5f",
             "gridcolor": "white",
             "linecolor": "white",
             "minorgridcolor": "white",
             "startlinecolor": "#2a3f5f"
            },
            "baxis": {
             "endlinecolor": "#2a3f5f",
             "gridcolor": "white",
             "linecolor": "white",
             "minorgridcolor": "white",
             "startlinecolor": "#2a3f5f"
            },
            "type": "carpet"
           }
          ],
          "choropleth": [
           {
            "colorbar": {
             "outlinewidth": 0,
             "ticks": ""
            },
            "type": "choropleth"
           }
          ],
          "contour": [
           {
            "colorbar": {
             "outlinewidth": 0,
             "ticks": ""
            },
            "colorscale": [
             [
              0,
              "#0d0887"
             ],
             [
              0.1111111111111111,
              "#46039f"
             ],
             [
              0.2222222222222222,
              "#7201a8"
             ],
             [
              0.3333333333333333,
              "#9c179e"
             ],
             [
              0.4444444444444444,
              "#bd3786"
             ],
             [
              0.5555555555555556,
              "#d8576b"
             ],
             [
              0.6666666666666666,
              "#ed7953"
             ],
             [
              0.7777777777777778,
              "#fb9f3a"
             ],
             [
              0.8888888888888888,
              "#fdca26"
             ],
             [
              1,
              "#f0f921"
             ]
            ],
            "type": "contour"
           }
          ],
          "contourcarpet": [
           {
            "colorbar": {
             "outlinewidth": 0,
             "ticks": ""
            },
            "type": "contourcarpet"
           }
          ],
          "heatmap": [
           {
            "colorbar": {
             "outlinewidth": 0,
             "ticks": ""
            },
            "colorscale": [
             [
              0,
              "#0d0887"
             ],
             [
              0.1111111111111111,
              "#46039f"
             ],
             [
              0.2222222222222222,
              "#7201a8"
             ],
             [
              0.3333333333333333,
              "#9c179e"
             ],
             [
              0.4444444444444444,
              "#bd3786"
             ],
             [
              0.5555555555555556,
              "#d8576b"
             ],
             [
              0.6666666666666666,
              "#ed7953"
             ],
             [
              0.7777777777777778,
              "#fb9f3a"
             ],
             [
              0.8888888888888888,
              "#fdca26"
             ],
             [
              1,
              "#f0f921"
             ]
            ],
            "type": "heatmap"
           }
          ],
          "heatmapgl": [
           {
            "colorbar": {
             "outlinewidth": 0,
             "ticks": ""
            },
            "colorscale": [
             [
              0,
              "#0d0887"
             ],
             [
              0.1111111111111111,
              "#46039f"
             ],
             [
              0.2222222222222222,
              "#7201a8"
             ],
             [
              0.3333333333333333,
              "#9c179e"
             ],
             [
              0.4444444444444444,
              "#bd3786"
             ],
             [
              0.5555555555555556,
              "#d8576b"
             ],
             [
              0.6666666666666666,
              "#ed7953"
             ],
             [
              0.7777777777777778,
              "#fb9f3a"
             ],
             [
              0.8888888888888888,
              "#fdca26"
             ],
             [
              1,
              "#f0f921"
             ]
            ],
            "type": "heatmapgl"
           }
          ],
          "histogram": [
           {
            "marker": {
             "pattern": {
              "fillmode": "overlay",
              "size": 10,
              "solidity": 0.2
             }
            },
            "type": "histogram"
           }
          ],
          "histogram2d": [
           {
            "colorbar": {
             "outlinewidth": 0,
             "ticks": ""
            },
            "colorscale": [
             [
              0,
              "#0d0887"
             ],
             [
              0.1111111111111111,
              "#46039f"
             ],
             [
              0.2222222222222222,
              "#7201a8"
             ],
             [
              0.3333333333333333,
              "#9c179e"
             ],
             [
              0.4444444444444444,
              "#bd3786"
             ],
             [
              0.5555555555555556,
              "#d8576b"
             ],
             [
              0.6666666666666666,
              "#ed7953"
             ],
             [
              0.7777777777777778,
              "#fb9f3a"
             ],
             [
              0.8888888888888888,
              "#fdca26"
             ],
             [
              1,
              "#f0f921"
             ]
            ],
            "type": "histogram2d"
           }
          ],
          "histogram2dcontour": [
           {
            "colorbar": {
             "outlinewidth": 0,
             "ticks": ""
            },
            "colorscale": [
             [
              0,
              "#0d0887"
             ],
             [
              0.1111111111111111,
              "#46039f"
             ],
             [
              0.2222222222222222,
              "#7201a8"
             ],
             [
              0.3333333333333333,
              "#9c179e"
             ],
             [
              0.4444444444444444,
              "#bd3786"
             ],
             [
              0.5555555555555556,
              "#d8576b"
             ],
             [
              0.6666666666666666,
              "#ed7953"
             ],
             [
              0.7777777777777778,
              "#fb9f3a"
             ],
             [
              0.8888888888888888,
              "#fdca26"
             ],
             [
              1,
              "#f0f921"
             ]
            ],
            "type": "histogram2dcontour"
           }
          ],
          "mesh3d": [
           {
            "colorbar": {
             "outlinewidth": 0,
             "ticks": ""
            },
            "type": "mesh3d"
           }
          ],
          "parcoords": [
           {
            "line": {
             "colorbar": {
              "outlinewidth": 0,
              "ticks": ""
             }
            },
            "type": "parcoords"
           }
          ],
          "pie": [
           {
            "automargin": true,
            "type": "pie"
           }
          ],
          "scatter": [
           {
            "fillpattern": {
             "fillmode": "overlay",
             "size": 10,
             "solidity": 0.2
            },
            "type": "scatter"
           }
          ],
          "scatter3d": [
           {
            "line": {
             "colorbar": {
              "outlinewidth": 0,
              "ticks": ""
             }
            },
            "marker": {
             "colorbar": {
              "outlinewidth": 0,
              "ticks": ""
             }
            },
            "type": "scatter3d"
           }
          ],
          "scattercarpet": [
           {
            "marker": {
             "colorbar": {
              "outlinewidth": 0,
              "ticks": ""
             }
            },
            "type": "scattercarpet"
           }
          ],
          "scattergeo": [
           {
            "marker": {
             "colorbar": {
              "outlinewidth": 0,
              "ticks": ""
             }
            },
            "type": "scattergeo"
           }
          ],
          "scattergl": [
           {
            "marker": {
             "colorbar": {
              "outlinewidth": 0,
              "ticks": ""
             }
            },
            "type": "scattergl"
           }
          ],
          "scattermapbox": [
           {
            "marker": {
             "colorbar": {
              "outlinewidth": 0,
              "ticks": ""
             }
            },
            "type": "scattermapbox"
           }
          ],
          "scatterpolar": [
           {
            "marker": {
             "colorbar": {
              "outlinewidth": 0,
              "ticks": ""
             }
            },
            "type": "scatterpolar"
           }
          ],
          "scatterpolargl": [
           {
            "marker": {
             "colorbar": {
              "outlinewidth": 0,
              "ticks": ""
             }
            },
            "type": "scatterpolargl"
           }
          ],
          "scatterternary": [
           {
            "marker": {
             "colorbar": {
              "outlinewidth": 0,
              "ticks": ""
             }
            },
            "type": "scatterternary"
           }
          ],
          "surface": [
           {
            "colorbar": {
             "outlinewidth": 0,
             "ticks": ""
            },
            "colorscale": [
             [
              0,
              "#0d0887"
             ],
             [
              0.1111111111111111,
              "#46039f"
             ],
             [
              0.2222222222222222,
              "#7201a8"
             ],
             [
              0.3333333333333333,
              "#9c179e"
             ],
             [
              0.4444444444444444,
              "#bd3786"
             ],
             [
              0.5555555555555556,
              "#d8576b"
             ],
             [
              0.6666666666666666,
              "#ed7953"
             ],
             [
              0.7777777777777778,
              "#fb9f3a"
             ],
             [
              0.8888888888888888,
              "#fdca26"
             ],
             [
              1,
              "#f0f921"
             ]
            ],
            "type": "surface"
           }
          ],
          "table": [
           {
            "cells": {
             "fill": {
              "color": "#EBF0F8"
             },
             "line": {
              "color": "white"
             }
            },
            "header": {
             "fill": {
              "color": "#C8D4E3"
             },
             "line": {
              "color": "white"
             }
            },
            "type": "table"
           }
          ]
         },
         "layout": {
          "annotationdefaults": {
           "arrowcolor": "#2a3f5f",
           "arrowhead": 0,
           "arrowwidth": 1
          },
          "autotypenumbers": "strict",
          "coloraxis": {
           "colorbar": {
            "outlinewidth": 0,
            "ticks": ""
           }
          },
          "colorscale": {
           "diverging": [
            [
             0,
             "#8e0152"
            ],
            [
             0.1,
             "#c51b7d"
            ],
            [
             0.2,
             "#de77ae"
            ],
            [
             0.3,
             "#f1b6da"
            ],
            [
             0.4,
             "#fde0ef"
            ],
            [
             0.5,
             "#f7f7f7"
            ],
            [
             0.6,
             "#e6f5d0"
            ],
            [
             0.7,
             "#b8e186"
            ],
            [
             0.8,
             "#7fbc41"
            ],
            [
             0.9,
             "#4d9221"
            ],
            [
             1,
             "#276419"
            ]
           ],
           "sequential": [
            [
             0,
             "#0d0887"
            ],
            [
             0.1111111111111111,
             "#46039f"
            ],
            [
             0.2222222222222222,
             "#7201a8"
            ],
            [
             0.3333333333333333,
             "#9c179e"
            ],
            [
             0.4444444444444444,
             "#bd3786"
            ],
            [
             0.5555555555555556,
             "#d8576b"
            ],
            [
             0.6666666666666666,
             "#ed7953"
            ],
            [
             0.7777777777777778,
             "#fb9f3a"
            ],
            [
             0.8888888888888888,
             "#fdca26"
            ],
            [
             1,
             "#f0f921"
            ]
           ],
           "sequentialminus": [
            [
             0,
             "#0d0887"
            ],
            [
             0.1111111111111111,
             "#46039f"
            ],
            [
             0.2222222222222222,
             "#7201a8"
            ],
            [
             0.3333333333333333,
             "#9c179e"
            ],
            [
             0.4444444444444444,
             "#bd3786"
            ],
            [
             0.5555555555555556,
             "#d8576b"
            ],
            [
             0.6666666666666666,
             "#ed7953"
            ],
            [
             0.7777777777777778,
             "#fb9f3a"
            ],
            [
             0.8888888888888888,
             "#fdca26"
            ],
            [
             1,
             "#f0f921"
            ]
           ]
          },
          "colorway": [
           "#636efa",
           "#EF553B",
           "#00cc96",
           "#ab63fa",
           "#FFA15A",
           "#19d3f3",
           "#FF6692",
           "#B6E880",
           "#FF97FF",
           "#FECB52"
          ],
          "font": {
           "color": "#2a3f5f"
          },
          "geo": {
           "bgcolor": "white",
           "lakecolor": "white",
           "landcolor": "#E5ECF6",
           "showlakes": true,
           "showland": true,
           "subunitcolor": "white"
          },
          "hoverlabel": {
           "align": "left"
          },
          "hovermode": "closest",
          "mapbox": {
           "style": "light"
          },
          "paper_bgcolor": "white",
          "plot_bgcolor": "#E5ECF6",
          "polar": {
           "angularaxis": {
            "gridcolor": "white",
            "linecolor": "white",
            "ticks": ""
           },
           "bgcolor": "#E5ECF6",
           "radialaxis": {
            "gridcolor": "white",
            "linecolor": "white",
            "ticks": ""
           }
          },
          "scene": {
           "xaxis": {
            "backgroundcolor": "#E5ECF6",
            "gridcolor": "white",
            "gridwidth": 2,
            "linecolor": "white",
            "showbackground": true,
            "ticks": "",
            "zerolinecolor": "white"
           },
           "yaxis": {
            "backgroundcolor": "#E5ECF6",
            "gridcolor": "white",
            "gridwidth": 2,
            "linecolor": "white",
            "showbackground": true,
            "ticks": "",
            "zerolinecolor": "white"
           },
           "zaxis": {
            "backgroundcolor": "#E5ECF6",
            "gridcolor": "white",
            "gridwidth": 2,
            "linecolor": "white",
            "showbackground": true,
            "ticks": "",
            "zerolinecolor": "white"
           }
          },
          "shapedefaults": {
           "line": {
            "color": "#2a3f5f"
           }
          },
          "ternary": {
           "aaxis": {
            "gridcolor": "white",
            "linecolor": "white",
            "ticks": ""
           },
           "baxis": {
            "gridcolor": "white",
            "linecolor": "white",
            "ticks": ""
           },
           "bgcolor": "#E5ECF6",
           "caxis": {
            "gridcolor": "white",
            "linecolor": "white",
            "ticks": ""
           }
          },
          "title": {
           "x": 0.05
          },
          "xaxis": {
           "automargin": true,
           "gridcolor": "white",
           "linecolor": "white",
           "ticks": "",
           "title": {
            "standoff": 15
           },
           "zerolinecolor": "white",
           "zerolinewidth": 2
          },
          "yaxis": {
           "automargin": true,
           "gridcolor": "white",
           "linecolor": "white",
           "ticks": "",
           "title": {
            "standoff": 15
           },
           "zerolinecolor": "white",
           "zerolinewidth": 2
          }
         }
        },
        "title": {
         "text": "Hyperparameter Importances"
        },
        "xaxis": {
         "title": {
          "text": "Importance for Objective Value"
         }
        },
        "yaxis": {
         "title": {
          "text": "Hyperparameter"
         }
        }
       }
      }
     },
     "metadata": {},
     "output_type": "display_data"
    }
   ],
   "source": [
    "plot_param_importances(study)"
   ]
  },
  {
   "cell_type": "code",
   "execution_count": 52,
   "metadata": {},
   "outputs": [
    {
     "data": {
      "text/plain": [
       "{'alpha': 29.572716830739452, 'degree': 5}"
      ]
     },
     "execution_count": 52,
     "metadata": {},
     "output_type": "execute_result"
    }
   ],
   "source": [
    "study.best_params"
   ]
  },
  {
   "cell_type": "code",
   "execution_count": 75,
   "metadata": {},
   "outputs": [
    {
     "data": {
      "text/plain": [
       "array([-4159.22145147, -6818.81278819, -5402.80259775])"
      ]
     },
     "execution_count": 75,
     "metadata": {},
     "output_type": "execute_result"
    }
   ],
   "source": [
    "poly = PolynomialFeatures(degree=3, include_bias=False)\n",
    "ridge_reg = Ridge(alpha=30)\n",
    "\n",
    "poly_ridge = Pipeline([\n",
    "        (\"poly\", poly),\n",
    "        (\"regressor\", ridge_reg)\n",
    "    ])\n",
    "\n",
    "model = TransformedTargetRegressor(regressor = poly_ridge, transformer=PowerTransformer(method=\"yeo-johnson\"))\n",
    "\n",
    "cross_val_score(model, X_train, y_train, cv=3, scoring=\"neg_mean_absolute_error\")"
   ]
  },
  {
   "cell_type": "code",
   "execution_count": 147,
   "metadata": {},
   "outputs": [
    {
     "name": "stderr",
     "output_type": "stream",
     "text": [
      "\u001b[32m[I 2022-08-27 18:11:08,302]\u001b[0m A new study created in memory with name: XGBoost Regression\u001b[0m\n",
      "c:\\Users\\Daniel\\cyanobacteria-monitoring\\venv\\lib\\site-packages\\optuna\\distributions.py:560: UserWarning:\n",
      "\n",
      "The distribution is specified by [1e-09, 100] and step=1, but the range is not divisible by `step`. It will be replaced by [1e-09, 99.000000001].\n",
      "\n"
     ]
    },
    {
     "name": "stdout",
     "output_type": "stream",
     "text": [
      "[18:11:09] WARNING: C:/Users/Administrator/workspace/xgboost-win64_release_1.6.0/src/learner.cc:627: \n",
      "Parameters: { \"num_leaves\" } might not be used.\n",
      "\n",
      "  This could be a false alarm, with some parameters getting used by language bindings but\n",
      "  then being mistakenly passed down to XGBoost core, or some parameter actually being used\n",
      "  but getting flagged wrongly here. Please open an issue if you find any such cases.\n",
      "\n",
      "\n",
      "[18:11:10] WARNING: C:/Users/Administrator/workspace/xgboost-win64_release_1.6.0/src/learner.cc:627: \n",
      "Parameters: { \"num_leaves\" } might not be used.\n",
      "\n",
      "  This could be a false alarm, with some parameters getting used by language bindings but\n",
      "  then being mistakenly passed down to XGBoost core, or some parameter actually being used\n",
      "  but getting flagged wrongly here. Please open an issue if you find any such cases.\n",
      "\n",
      "\n",
      "[18:11:11] WARNING: C:/Users/Administrator/workspace/xgboost-win64_release_1.6.0/src/learner.cc:627: \n",
      "Parameters: { \"num_leaves\" } might not be used.\n",
      "\n",
      "  This could be a false alarm, with some parameters getting used by language bindings but\n",
      "  then being mistakenly passed down to XGBoost core, or some parameter actually being used\n",
      "  but getting flagged wrongly here. Please open an issue if you find any such cases.\n",
      "\n",
      "\n"
     ]
    },
    {
     "name": "stderr",
     "output_type": "stream",
     "text": [
      "\u001b[32m[I 2022-08-27 18:11:11,804]\u001b[0m Trial 0 finished with value: 1.8081622068266074 and parameters: {'n_estimators': 1000, 'learning_rate': 0.5244833451738737, 'min_child_weigth': 6, 'max_depth': 11, 'subsample': 0.1590678072629185, 'colsample_bytree': 0.9646018587786769, 'colsample_bylevel': 0.10142224171198755, 'num_leaves': 45016, 'lambda_l2': 13, 'lambda_l1': 59, 'min_gain_to_split': 0.06064324214888158, 'scale_pos_weight': 96.77069303534391}. Best is trial 0 with value: 1.8081622068266074.\u001b[0m\n",
      "c:\\Users\\Daniel\\cyanobacteria-monitoring\\venv\\lib\\site-packages\\optuna\\distributions.py:560: UserWarning:\n",
      "\n",
      "The distribution is specified by [1e-09, 100] and step=1, but the range is not divisible by `step`. It will be replaced by [1e-09, 99.000000001].\n",
      "\n"
     ]
    },
    {
     "name": "stdout",
     "output_type": "stream",
     "text": [
      "[18:11:11] WARNING: C:/Users/Administrator/workspace/xgboost-win64_release_1.6.0/src/learner.cc:627: \n",
      "Parameters: { \"num_leaves\" } might not be used.\n",
      "\n",
      "  This could be a false alarm, with some parameters getting used by language bindings but\n",
      "  then being mistakenly passed down to XGBoost core, or some parameter actually being used\n",
      "  but getting flagged wrongly here. Please open an issue if you find any such cases.\n",
      "\n",
      "\n",
      "[18:11:12] WARNING: C:/Users/Administrator/workspace/xgboost-win64_release_1.6.0/src/learner.cc:627: \n",
      "Parameters: { \"num_leaves\" } might not be used.\n",
      "\n",
      "  This could be a false alarm, with some parameters getting used by language bindings but\n",
      "  then being mistakenly passed down to XGBoost core, or some parameter actually being used\n",
      "  but getting flagged wrongly here. Please open an issue if you find any such cases.\n",
      "\n",
      "\n",
      "[18:11:12] WARNING: C:/Users/Administrator/workspace/xgboost-win64_release_1.6.0/src/learner.cc:627: \n",
      "Parameters: { \"num_leaves\" } might not be used.\n",
      "\n",
      "  This could be a false alarm, with some parameters getting used by language bindings but\n",
      "  then being mistakenly passed down to XGBoost core, or some parameter actually being used\n",
      "  but getting flagged wrongly here. Please open an issue if you find any such cases.\n",
      "\n",
      "\n"
     ]
    },
    {
     "name": "stderr",
     "output_type": "stream",
     "text": [
      "\u001b[32m[I 2022-08-27 18:11:13,216]\u001b[0m Trial 1 finished with value: 1.8081622068266074 and parameters: {'n_estimators': 1000, 'learning_rate': 0.7242830377148217, 'min_child_weigth': 4, 'max_depth': 21, 'subsample': 0.5107314111828498, 'colsample_bytree': 0.12751718979247625, 'colsample_bylevel': 0.1389399017618696, 'num_leaves': 41116, 'lambda_l2': 79, 'lambda_l1': 81, 'min_gain_to_split': 0.3740246801510778, 'scale_pos_weight': 55.384797315543956}. Best is trial 0 with value: 1.8081622068266074.\u001b[0m\n",
      "c:\\Users\\Daniel\\cyanobacteria-monitoring\\venv\\lib\\site-packages\\optuna\\distributions.py:560: UserWarning:\n",
      "\n",
      "The distribution is specified by [1e-09, 100] and step=1, but the range is not divisible by `step`. It will be replaced by [1e-09, 99.000000001].\n",
      "\n"
     ]
    },
    {
     "name": "stdout",
     "output_type": "stream",
     "text": [
      "[18:11:13] WARNING: C:/Users/Administrator/workspace/xgboost-win64_release_1.6.0/src/learner.cc:627: \n",
      "Parameters: { \"num_leaves\" } might not be used.\n",
      "\n",
      "  This could be a false alarm, with some parameters getting used by language bindings but\n",
      "  then being mistakenly passed down to XGBoost core, or some parameter actually being used\n",
      "  but getting flagged wrongly here. Please open an issue if you find any such cases.\n",
      "\n",
      "\n",
      "[18:11:13] WARNING: C:/Users/Administrator/workspace/xgboost-win64_release_1.6.0/src/learner.cc:627: \n",
      "Parameters: { \"num_leaves\" } might not be used.\n",
      "\n",
      "  This could be a false alarm, with some parameters getting used by language bindings but\n",
      "  then being mistakenly passed down to XGBoost core, or some parameter actually being used\n",
      "  but getting flagged wrongly here. Please open an issue if you find any such cases.\n",
      "\n",
      "\n",
      "[18:11:14] WARNING: C:/Users/Administrator/workspace/xgboost-win64_release_1.6.0/src/learner.cc:627: \n",
      "Parameters: { \"num_leaves\" } might not be used.\n",
      "\n",
      "  This could be a false alarm, with some parameters getting used by language bindings but\n",
      "  then being mistakenly passed down to XGBoost core, or some parameter actually being used\n",
      "  but getting flagged wrongly here. Please open an issue if you find any such cases.\n",
      "\n",
      "\n"
     ]
    },
    {
     "name": "stderr",
     "output_type": "stream",
     "text": [
      "\u001b[32m[I 2022-08-27 18:11:14,603]\u001b[0m Trial 2 finished with value: 1.8081622068266074 and parameters: {'n_estimators': 1000, 'learning_rate': 0.2067987248366758, 'min_child_weigth': 6, 'max_depth': 15, 'subsample': 0.2256667913453403, 'colsample_bytree': 0.1570007989197404, 'colsample_bylevel': 0.2085536050504288, 'num_leaves': 37856, 'lambda_l2': 81, 'lambda_l1': 26, 'min_gain_to_split': 0.49386410408519604, 'scale_pos_weight': 107.28467852933547}. Best is trial 0 with value: 1.8081622068266074.\u001b[0m\n",
      "c:\\Users\\Daniel\\cyanobacteria-monitoring\\venv\\lib\\site-packages\\optuna\\distributions.py:560: UserWarning:\n",
      "\n",
      "The distribution is specified by [1e-09, 100] and step=1, but the range is not divisible by `step`. It will be replaced by [1e-09, 99.000000001].\n",
      "\n"
     ]
    },
    {
     "name": "stdout",
     "output_type": "stream",
     "text": [
      "[18:11:14] WARNING: C:/Users/Administrator/workspace/xgboost-win64_release_1.6.0/src/learner.cc:627: \n",
      "Parameters: { \"num_leaves\" } might not be used.\n",
      "\n",
      "  This could be a false alarm, with some parameters getting used by language bindings but\n",
      "  then being mistakenly passed down to XGBoost core, or some parameter actually being used\n",
      "  but getting flagged wrongly here. Please open an issue if you find any such cases.\n",
      "\n",
      "\n",
      "[18:11:15] WARNING: C:/Users/Administrator/workspace/xgboost-win64_release_1.6.0/src/learner.cc:627: \n",
      "Parameters: { \"num_leaves\" } might not be used.\n",
      "\n",
      "  This could be a false alarm, with some parameters getting used by language bindings but\n",
      "  then being mistakenly passed down to XGBoost core, or some parameter actually being used\n",
      "  but getting flagged wrongly here. Please open an issue if you find any such cases.\n",
      "\n",
      "\n",
      "[18:11:15] WARNING: C:/Users/Administrator/workspace/xgboost-win64_release_1.6.0/src/learner.cc:627: \n",
      "Parameters: { \"num_leaves\" } might not be used.\n",
      "\n",
      "  This could be a false alarm, with some parameters getting used by language bindings but\n",
      "  then being mistakenly passed down to XGBoost core, or some parameter actually being used\n",
      "  but getting flagged wrongly here. Please open an issue if you find any such cases.\n",
      "\n",
      "\n"
     ]
    },
    {
     "name": "stderr",
     "output_type": "stream",
     "text": [
      "\u001b[32m[I 2022-08-27 18:11:16,031]\u001b[0m Trial 3 finished with value: 1.8081622068266074 and parameters: {'n_estimators': 1000, 'learning_rate': 0.5068853977569725, 'min_child_weigth': 2, 'max_depth': 23, 'subsample': 0.8995012772896166, 'colsample_bytree': 0.3959253676569974, 'colsample_bylevel': 0.7550108046554238, 'num_leaves': 55056, 'lambda_l2': 38, 'lambda_l1': 49, 'min_gain_to_split': 0.018042501041350686, 'scale_pos_weight': 359.45888567114605}. Best is trial 0 with value: 1.8081622068266074.\u001b[0m\n",
      "c:\\Users\\Daniel\\cyanobacteria-monitoring\\venv\\lib\\site-packages\\optuna\\distributions.py:560: UserWarning:\n",
      "\n",
      "The distribution is specified by [1e-09, 100] and step=1, but the range is not divisible by `step`. It will be replaced by [1e-09, 99.000000001].\n",
      "\n"
     ]
    },
    {
     "name": "stdout",
     "output_type": "stream",
     "text": [
      "[18:11:16] WARNING: C:/Users/Administrator/workspace/xgboost-win64_release_1.6.0/src/learner.cc:627: \n",
      "Parameters: { \"num_leaves\" } might not be used.\n",
      "\n",
      "  This could be a false alarm, with some parameters getting used by language bindings but\n",
      "  then being mistakenly passed down to XGBoost core, or some parameter actually being used\n",
      "  but getting flagged wrongly here. Please open an issue if you find any such cases.\n",
      "\n",
      "\n",
      "[18:11:16] WARNING: C:/Users/Administrator/workspace/xgboost-win64_release_1.6.0/src/learner.cc:627: \n",
      "Parameters: { \"num_leaves\" } might not be used.\n",
      "\n",
      "  This could be a false alarm, with some parameters getting used by language bindings but\n",
      "  then being mistakenly passed down to XGBoost core, or some parameter actually being used\n",
      "  but getting flagged wrongly here. Please open an issue if you find any such cases.\n",
      "\n",
      "\n",
      "[18:11:16] WARNING: C:/Users/Administrator/workspace/xgboost-win64_release_1.6.0/src/learner.cc:627: \n",
      "Parameters: { \"num_leaves\" } might not be used.\n",
      "\n",
      "  This could be a false alarm, with some parameters getting used by language bindings but\n",
      "  then being mistakenly passed down to XGBoost core, or some parameter actually being used\n",
      "  but getting flagged wrongly here. Please open an issue if you find any such cases.\n",
      "\n",
      "\n"
     ]
    },
    {
     "name": "stderr",
     "output_type": "stream",
     "text": [
      "\u001b[32m[I 2022-08-27 18:11:17,418]\u001b[0m Trial 4 finished with value: 1.8081622068266074 and parameters: {'n_estimators': 1000, 'learning_rate': 0.5831582812354327, 'min_child_weigth': 6, 'max_depth': 10, 'subsample': 0.9735508887946619, 'colsample_bytree': 0.5487867242047743, 'colsample_bylevel': 0.7303028496771814, 'num_leaves': 9356, 'lambda_l2': 75, 'lambda_l1': 35, 'min_gain_to_split': 0.22921670875850159, 'scale_pos_weight': 107.76746432181719}. Best is trial 0 with value: 1.8081622068266074.\u001b[0m\n",
      "c:\\Users\\Daniel\\cyanobacteria-monitoring\\venv\\lib\\site-packages\\optuna\\distributions.py:560: UserWarning:\n",
      "\n",
      "The distribution is specified by [1e-09, 100] and step=1, but the range is not divisible by `step`. It will be replaced by [1e-09, 99.000000001].\n",
      "\n"
     ]
    },
    {
     "name": "stdout",
     "output_type": "stream",
     "text": [
      "[18:11:17] WARNING: C:/Users/Administrator/workspace/xgboost-win64_release_1.6.0/src/learner.cc:627: \n",
      "Parameters: { \"num_leaves\" } might not be used.\n",
      "\n",
      "  This could be a false alarm, with some parameters getting used by language bindings but\n",
      "  then being mistakenly passed down to XGBoost core, or some parameter actually being used\n",
      "  but getting flagged wrongly here. Please open an issue if you find any such cases.\n",
      "\n",
      "\n",
      "[18:11:17] WARNING: C:/Users/Administrator/workspace/xgboost-win64_release_1.6.0/src/learner.cc:627: \n",
      "Parameters: { \"num_leaves\" } might not be used.\n",
      "\n",
      "  This could be a false alarm, with some parameters getting used by language bindings but\n",
      "  then being mistakenly passed down to XGBoost core, or some parameter actually being used\n",
      "  but getting flagged wrongly here. Please open an issue if you find any such cases.\n",
      "\n",
      "\n",
      "[18:11:18] WARNING: C:/Users/Administrator/workspace/xgboost-win64_release_1.6.0/src/learner.cc:627: \n",
      "Parameters: { \"num_leaves\" } might not be used.\n",
      "\n",
      "  This could be a false alarm, with some parameters getting used by language bindings but\n",
      "  then being mistakenly passed down to XGBoost core, or some parameter actually being used\n",
      "  but getting flagged wrongly here. Please open an issue if you find any such cases.\n",
      "\n",
      "\n"
     ]
    },
    {
     "name": "stderr",
     "output_type": "stream",
     "text": [
      "\u001b[32m[I 2022-08-27 18:11:18,753]\u001b[0m Trial 5 finished with value: 1.8081622068266074 and parameters: {'n_estimators': 1000, 'learning_rate': 0.7612936450735139, 'min_child_weigth': 6, 'max_depth': 24, 'subsample': 0.700991454938971, 'colsample_bytree': 0.4642783428845294, 'colsample_bylevel': 0.4388660794224807, 'num_leaves': 32876, 'lambda_l2': 7, 'lambda_l1': 66, 'min_gain_to_split': 0.04408918998357947, 'scale_pos_weight': 172.49943148965832}. Best is trial 0 with value: 1.8081622068266074.\u001b[0m\n",
      "c:\\Users\\Daniel\\cyanobacteria-monitoring\\venv\\lib\\site-packages\\optuna\\distributions.py:560: UserWarning:\n",
      "\n",
      "The distribution is specified by [1e-09, 100] and step=1, but the range is not divisible by `step`. It will be replaced by [1e-09, 99.000000001].\n",
      "\n"
     ]
    },
    {
     "name": "stdout",
     "output_type": "stream",
     "text": [
      "[18:11:18] WARNING: C:/Users/Administrator/workspace/xgboost-win64_release_1.6.0/src/learner.cc:627: \n",
      "Parameters: { \"num_leaves\" } might not be used.\n",
      "\n",
      "  This could be a false alarm, with some parameters getting used by language bindings but\n",
      "  then being mistakenly passed down to XGBoost core, or some parameter actually being used\n",
      "  but getting flagged wrongly here. Please open an issue if you find any such cases.\n",
      "\n",
      "\n",
      "[18:11:19] WARNING: C:/Users/Administrator/workspace/xgboost-win64_release_1.6.0/src/learner.cc:627: \n",
      "Parameters: { \"num_leaves\" } might not be used.\n",
      "\n",
      "  This could be a false alarm, with some parameters getting used by language bindings but\n",
      "  then being mistakenly passed down to XGBoost core, or some parameter actually being used\n",
      "  but getting flagged wrongly here. Please open an issue if you find any such cases.\n",
      "\n",
      "\n",
      "[18:11:19] WARNING: C:/Users/Administrator/workspace/xgboost-win64_release_1.6.0/src/learner.cc:627: \n",
      "Parameters: { \"num_leaves\" } might not be used.\n",
      "\n",
      "  This could be a false alarm, with some parameters getting used by language bindings but\n",
      "  then being mistakenly passed down to XGBoost core, or some parameter actually being used\n",
      "  but getting flagged wrongly here. Please open an issue if you find any such cases.\n",
      "\n",
      "\n"
     ]
    },
    {
     "name": "stderr",
     "output_type": "stream",
     "text": [
      "\u001b[32m[I 2022-08-27 18:11:20,159]\u001b[0m Trial 6 finished with value: 1.8081622068266074 and parameters: {'n_estimators': 1000, 'learning_rate': 0.8709134843044525, 'min_child_weigth': 7, 'max_depth': 12, 'subsample': 0.2504292979794218, 'colsample_bytree': 0.9626890869024637, 'colsample_bylevel': 0.46033253275461916, 'num_leaves': 39256, 'lambda_l2': 38, 'lambda_l1': 87, 'min_gain_to_split': 0.15806330178983607, 'scale_pos_weight': 442.56225622896585}. Best is trial 0 with value: 1.8081622068266074.\u001b[0m\n",
      "c:\\Users\\Daniel\\cyanobacteria-monitoring\\venv\\lib\\site-packages\\optuna\\distributions.py:560: UserWarning:\n",
      "\n",
      "The distribution is specified by [1e-09, 100] and step=1, but the range is not divisible by `step`. It will be replaced by [1e-09, 99.000000001].\n",
      "\n"
     ]
    },
    {
     "name": "stdout",
     "output_type": "stream",
     "text": [
      "[18:11:20] WARNING: C:/Users/Administrator/workspace/xgboost-win64_release_1.6.0/src/learner.cc:627: \n",
      "Parameters: { \"num_leaves\" } might not be used.\n",
      "\n",
      "  This could be a false alarm, with some parameters getting used by language bindings but\n",
      "  then being mistakenly passed down to XGBoost core, or some parameter actually being used\n",
      "  but getting flagged wrongly here. Please open an issue if you find any such cases.\n",
      "\n",
      "\n",
      "[18:11:20] WARNING: C:/Users/Administrator/workspace/xgboost-win64_release_1.6.0/src/learner.cc:627: \n",
      "Parameters: { \"num_leaves\" } might not be used.\n",
      "\n",
      "  This could be a false alarm, with some parameters getting used by language bindings but\n",
      "  then being mistakenly passed down to XGBoost core, or some parameter actually being used\n",
      "  but getting flagged wrongly here. Please open an issue if you find any such cases.\n",
      "\n",
      "\n",
      "[18:11:21] WARNING: C:/Users/Administrator/workspace/xgboost-win64_release_1.6.0/src/learner.cc:627: \n",
      "Parameters: { \"num_leaves\" } might not be used.\n",
      "\n",
      "  This could be a false alarm, with some parameters getting used by language bindings but\n",
      "  then being mistakenly passed down to XGBoost core, or some parameter actually being used\n",
      "  but getting flagged wrongly here. Please open an issue if you find any such cases.\n",
      "\n",
      "\n"
     ]
    },
    {
     "name": "stderr",
     "output_type": "stream",
     "text": [
      "\u001b[32m[I 2022-08-27 18:11:21,673]\u001b[0m Trial 7 finished with value: 1.8081622068266074 and parameters: {'n_estimators': 1000, 'learning_rate': 0.8928741165145556, 'min_child_weigth': 10, 'max_depth': 23, 'subsample': 0.8466289662476475, 'colsample_bytree': 0.6602107088563329, 'colsample_bylevel': 0.96311892165544, 'num_leaves': 52996, 'lambda_l2': 92, 'lambda_l1': 92, 'min_gain_to_split': 0.05820663694589264, 'scale_pos_weight': 89.8965444007171}. Best is trial 0 with value: 1.8081622068266074.\u001b[0m\n",
      "c:\\Users\\Daniel\\cyanobacteria-monitoring\\venv\\lib\\site-packages\\optuna\\distributions.py:560: UserWarning:\n",
      "\n",
      "The distribution is specified by [1e-09, 100] and step=1, but the range is not divisible by `step`. It will be replaced by [1e-09, 99.000000001].\n",
      "\n"
     ]
    },
    {
     "name": "stdout",
     "output_type": "stream",
     "text": [
      "[18:11:21] WARNING: C:/Users/Administrator/workspace/xgboost-win64_release_1.6.0/src/learner.cc:627: \n",
      "Parameters: { \"num_leaves\" } might not be used.\n",
      "\n",
      "  This could be a false alarm, with some parameters getting used by language bindings but\n",
      "  then being mistakenly passed down to XGBoost core, or some parameter actually being used\n",
      "  but getting flagged wrongly here. Please open an issue if you find any such cases.\n",
      "\n",
      "\n",
      "[18:11:22] WARNING: C:/Users/Administrator/workspace/xgboost-win64_release_1.6.0/src/learner.cc:627: \n",
      "Parameters: { \"num_leaves\" } might not be used.\n",
      "\n",
      "  This could be a false alarm, with some parameters getting used by language bindings but\n",
      "  then being mistakenly passed down to XGBoost core, or some parameter actually being used\n",
      "  but getting flagged wrongly here. Please open an issue if you find any such cases.\n",
      "\n",
      "\n",
      "[18:11:23] WARNING: C:/Users/Administrator/workspace/xgboost-win64_release_1.6.0/src/learner.cc:627: \n",
      "Parameters: { \"num_leaves\" } might not be used.\n",
      "\n",
      "  This could be a false alarm, with some parameters getting used by language bindings but\n",
      "  then being mistakenly passed down to XGBoost core, or some parameter actually being used\n",
      "  but getting flagged wrongly here. Please open an issue if you find any such cases.\n",
      "\n",
      "\n"
     ]
    },
    {
     "name": "stderr",
     "output_type": "stream",
     "text": [
      "\u001b[32m[I 2022-08-27 18:11:23,745]\u001b[0m Trial 8 finished with value: 1.4418149769475688 and parameters: {'n_estimators': 1000, 'learning_rate': 0.42050273703535285, 'min_child_weigth': 1, 'max_depth': 36, 'subsample': 0.26669193258590684, 'colsample_bytree': 0.8605080438025066, 'colsample_bylevel': 0.6426006292013553, 'num_leaves': 14436, 'lambda_l2': 96, 'lambda_l1': 0, 'min_gain_to_split': 0.2940908943604894, 'scale_pos_weight': 378.2309650841137}. Best is trial 8 with value: 1.4418149769475688.\u001b[0m\n",
      "c:\\Users\\Daniel\\cyanobacteria-monitoring\\venv\\lib\\site-packages\\optuna\\distributions.py:560: UserWarning:\n",
      "\n",
      "The distribution is specified by [1e-09, 100] and step=1, but the range is not divisible by `step`. It will be replaced by [1e-09, 99.000000001].\n",
      "\n"
     ]
    },
    {
     "name": "stdout",
     "output_type": "stream",
     "text": [
      "[18:11:23] WARNING: C:/Users/Administrator/workspace/xgboost-win64_release_1.6.0/src/learner.cc:627: \n",
      "Parameters: { \"num_leaves\" } might not be used.\n",
      "\n",
      "  This could be a false alarm, with some parameters getting used by language bindings but\n",
      "  then being mistakenly passed down to XGBoost core, or some parameter actually being used\n",
      "  but getting flagged wrongly here. Please open an issue if you find any such cases.\n",
      "\n",
      "\n",
      "[18:11:24] WARNING: C:/Users/Administrator/workspace/xgboost-win64_release_1.6.0/src/learner.cc:627: \n",
      "Parameters: { \"num_leaves\" } might not be used.\n",
      "\n",
      "  This could be a false alarm, with some parameters getting used by language bindings but\n",
      "  then being mistakenly passed down to XGBoost core, or some parameter actually being used\n",
      "  but getting flagged wrongly here. Please open an issue if you find any such cases.\n",
      "\n",
      "\n",
      "[18:11:24] WARNING: C:/Users/Administrator/workspace/xgboost-win64_release_1.6.0/src/learner.cc:627: \n",
      "Parameters: { \"num_leaves\" } might not be used.\n",
      "\n",
      "  This could be a false alarm, with some parameters getting used by language bindings but\n",
      "  then being mistakenly passed down to XGBoost core, or some parameter actually being used\n",
      "  but getting flagged wrongly here. Please open an issue if you find any such cases.\n",
      "\n",
      "\n"
     ]
    },
    {
     "name": "stderr",
     "output_type": "stream",
     "text": [
      "\u001b[32m[I 2022-08-27 18:11:25,113]\u001b[0m Trial 9 finished with value: 1.8081622068266074 and parameters: {'n_estimators': 1000, 'learning_rate': 0.7068735725483543, 'min_child_weigth': 9, 'max_depth': 45, 'subsample': 0.1973256059973661, 'colsample_bytree': 0.9565613950713538, 'colsample_bylevel': 0.5333742259470317, 'num_leaves': 46396, 'lambda_l2': 35, 'lambda_l1': 90, 'min_gain_to_split': 0.3573395452119271, 'scale_pos_weight': 291.6090543947632}. Best is trial 8 with value: 1.4418149769475688.\u001b[0m\n",
      "c:\\Users\\Daniel\\cyanobacteria-monitoring\\venv\\lib\\site-packages\\optuna\\distributions.py:560: UserWarning:\n",
      "\n",
      "The distribution is specified by [1e-09, 100] and step=1, but the range is not divisible by `step`. It will be replaced by [1e-09, 99.000000001].\n",
      "\n"
     ]
    },
    {
     "name": "stdout",
     "output_type": "stream",
     "text": [
      "[18:11:25] WARNING: C:/Users/Administrator/workspace/xgboost-win64_release_1.6.0/src/learner.cc:627: \n",
      "Parameters: { \"num_leaves\" } might not be used.\n",
      "\n",
      "  This could be a false alarm, with some parameters getting used by language bindings but\n",
      "  then being mistakenly passed down to XGBoost core, or some parameter actually being used\n",
      "  but getting flagged wrongly here. Please open an issue if you find any such cases.\n",
      "\n",
      "\n",
      "[18:11:25] WARNING: C:/Users/Administrator/workspace/xgboost-win64_release_1.6.0/src/learner.cc:627: \n",
      "Parameters: { \"num_leaves\" } might not be used.\n",
      "\n",
      "  This could be a false alarm, with some parameters getting used by language bindings but\n",
      "  then being mistakenly passed down to XGBoost core, or some parameter actually being used\n",
      "  but getting flagged wrongly here. Please open an issue if you find any such cases.\n",
      "\n",
      "\n",
      "[18:11:26] WARNING: C:/Users/Administrator/workspace/xgboost-win64_release_1.6.0/src/learner.cc:627: \n",
      "Parameters: { \"num_leaves\" } might not be used.\n",
      "\n",
      "  This could be a false alarm, with some parameters getting used by language bindings but\n",
      "  then being mistakenly passed down to XGBoost core, or some parameter actually being used\n",
      "  but getting flagged wrongly here. Please open an issue if you find any such cases.\n",
      "\n",
      "\n"
     ]
    },
    {
     "name": "stderr",
     "output_type": "stream",
     "text": [
      "\u001b[32m[I 2022-08-27 18:11:27,190]\u001b[0m Trial 10 finished with value: 2.1281885746632465 and parameters: {'n_estimators': 1000, 'learning_rate': 0.22883632711461438, 'min_child_weigth': 1, 'max_depth': 38, 'subsample': 0.4365829167311345, 'colsample_bytree': 0.7498164021680483, 'colsample_bylevel': 0.7312837066784682, 'num_leaves': 6936, 'lambda_l2': 58, 'lambda_l1': 5, 'min_gain_to_split': 0.31663318642079, 'scale_pos_weight': 485.52803573636777}. Best is trial 8 with value: 1.4418149769475688.\u001b[0m\n",
      "c:\\Users\\Daniel\\cyanobacteria-monitoring\\venv\\lib\\site-packages\\optuna\\distributions.py:560: UserWarning:\n",
      "\n",
      "The distribution is specified by [1e-09, 100] and step=1, but the range is not divisible by `step`. It will be replaced by [1e-09, 99.000000001].\n",
      "\n"
     ]
    },
    {
     "name": "stdout",
     "output_type": "stream",
     "text": [
      "[18:11:27] WARNING: C:/Users/Administrator/workspace/xgboost-win64_release_1.6.0/src/learner.cc:627: \n",
      "Parameters: { \"num_leaves\" } might not be used.\n",
      "\n",
      "  This could be a false alarm, with some parameters getting used by language bindings but\n",
      "  then being mistakenly passed down to XGBoost core, or some parameter actually being used\n",
      "  but getting flagged wrongly here. Please open an issue if you find any such cases.\n",
      "\n",
      "\n",
      "[18:11:27] WARNING: C:/Users/Administrator/workspace/xgboost-win64_release_1.6.0/src/learner.cc:627: \n",
      "Parameters: { \"num_leaves\" } might not be used.\n",
      "\n",
      "  This could be a false alarm, with some parameters getting used by language bindings but\n",
      "  then being mistakenly passed down to XGBoost core, or some parameter actually being used\n",
      "  but getting flagged wrongly here. Please open an issue if you find any such cases.\n",
      "\n",
      "\n",
      "[18:11:28] WARNING: C:/Users/Administrator/workspace/xgboost-win64_release_1.6.0/src/learner.cc:627: \n",
      "Parameters: { \"num_leaves\" } might not be used.\n",
      "\n",
      "  This could be a false alarm, with some parameters getting used by language bindings but\n",
      "  then being mistakenly passed down to XGBoost core, or some parameter actually being used\n",
      "  but getting flagged wrongly here. Please open an issue if you find any such cases.\n",
      "\n",
      "\n"
     ]
    },
    {
     "name": "stderr",
     "output_type": "stream",
     "text": [
      "\u001b[32m[I 2022-08-27 18:11:28,731]\u001b[0m Trial 11 finished with value: 1.5521467299028384 and parameters: {'n_estimators': 1000, 'learning_rate': 0.369873004016481, 'min_child_weigth': 3, 'max_depth': 1, 'subsample': 0.33982048774239115, 'colsample_bytree': 0.8043158881645556, 'colsample_bylevel': 0.3029055708957533, 'num_leaves': 23096, 'lambda_l2': 13, 'lambda_l1': 5, 'min_gain_to_split': 0.14283669975142732, 'scale_pos_weight': 220.01953973181895}. Best is trial 8 with value: 1.4418149769475688.\u001b[0m\n",
      "c:\\Users\\Daniel\\cyanobacteria-monitoring\\venv\\lib\\site-packages\\optuna\\distributions.py:560: UserWarning:\n",
      "\n",
      "The distribution is specified by [1e-09, 100] and step=1, but the range is not divisible by `step`. It will be replaced by [1e-09, 99.000000001].\n",
      "\n"
     ]
    },
    {
     "name": "stdout",
     "output_type": "stream",
     "text": [
      "[18:11:28] WARNING: C:/Users/Administrator/workspace/xgboost-win64_release_1.6.0/src/learner.cc:627: \n",
      "Parameters: { \"num_leaves\" } might not be used.\n",
      "\n",
      "  This could be a false alarm, with some parameters getting used by language bindings but\n",
      "  then being mistakenly passed down to XGBoost core, or some parameter actually being used\n",
      "  but getting flagged wrongly here. Please open an issue if you find any such cases.\n",
      "\n",
      "\n",
      "[18:11:29] WARNING: C:/Users/Administrator/workspace/xgboost-win64_release_1.6.0/src/learner.cc:627: \n",
      "Parameters: { \"num_leaves\" } might not be used.\n",
      "\n",
      "  This could be a false alarm, with some parameters getting used by language bindings but\n",
      "  then being mistakenly passed down to XGBoost core, or some parameter actually being used\n",
      "  but getting flagged wrongly here. Please open an issue if you find any such cases.\n",
      "\n",
      "\n",
      "[18:11:29] WARNING: C:/Users/Administrator/workspace/xgboost-win64_release_1.6.0/src/learner.cc:627: \n",
      "Parameters: { \"num_leaves\" } might not be used.\n",
      "\n",
      "  This could be a false alarm, with some parameters getting used by language bindings but\n",
      "  then being mistakenly passed down to XGBoost core, or some parameter actually being used\n",
      "  but getting flagged wrongly here. Please open an issue if you find any such cases.\n",
      "\n",
      "\n"
     ]
    },
    {
     "name": "stderr",
     "output_type": "stream",
     "text": [
      "\u001b[32m[I 2022-08-27 18:11:30,497]\u001b[0m Trial 12 finished with value: 1.4911342758740724 and parameters: {'n_estimators': 1000, 'learning_rate': 0.3084740933326031, 'min_child_weigth': 3, 'max_depth': 2, 'subsample': 0.36067998117563044, 'colsample_bytree': 0.7972024507453971, 'colsample_bylevel': 0.3449664243659805, 'num_leaves': 21996, 'lambda_l2': 58, 'lambda_l1': 1, 'min_gain_to_split': 0.1621611354817137, 'scale_pos_weight': 256.54092969416513}. Best is trial 8 with value: 1.4418149769475688.\u001b[0m\n",
      "c:\\Users\\Daniel\\cyanobacteria-monitoring\\venv\\lib\\site-packages\\optuna\\distributions.py:560: UserWarning:\n",
      "\n",
      "The distribution is specified by [1e-09, 100] and step=1, but the range is not divisible by `step`. It will be replaced by [1e-09, 99.000000001].\n",
      "\n"
     ]
    },
    {
     "name": "stdout",
     "output_type": "stream",
     "text": [
      "[18:11:30] WARNING: C:/Users/Administrator/workspace/xgboost-win64_release_1.6.0/src/learner.cc:627: \n",
      "Parameters: { \"num_leaves\" } might not be used.\n",
      "\n",
      "  This could be a false alarm, with some parameters getting used by language bindings but\n",
      "  then being mistakenly passed down to XGBoost core, or some parameter actually being used\n",
      "  but getting flagged wrongly here. Please open an issue if you find any such cases.\n",
      "\n",
      "\n",
      "[18:11:31] WARNING: C:/Users/Administrator/workspace/xgboost-win64_release_1.6.0/src/learner.cc:627: \n",
      "Parameters: { \"num_leaves\" } might not be used.\n",
      "\n",
      "  This could be a false alarm, with some parameters getting used by language bindings but\n",
      "  then being mistakenly passed down to XGBoost core, or some parameter actually being used\n",
      "  but getting flagged wrongly here. Please open an issue if you find any such cases.\n",
      "\n",
      "\n",
      "[18:11:31] WARNING: C:/Users/Administrator/workspace/xgboost-win64_release_1.6.0/src/learner.cc:627: \n",
      "Parameters: { \"num_leaves\" } might not be used.\n",
      "\n",
      "  This could be a false alarm, with some parameters getting used by language bindings but\n",
      "  then being mistakenly passed down to XGBoost core, or some parameter actually being used\n",
      "  but getting flagged wrongly here. Please open an issue if you find any such cases.\n",
      "\n",
      "\n"
     ]
    },
    {
     "name": "stderr",
     "output_type": "stream",
     "text": [
      "\u001b[32m[I 2022-08-27 18:11:32,428]\u001b[0m Trial 13 finished with value: 1.8294990332875254 and parameters: {'n_estimators': 1000, 'learning_rate': 0.057354093617321134, 'min_child_weigth': 1, 'max_depth': 35, 'subsample': 0.4101635665762926, 'colsample_bytree': 0.8104129509067676, 'colsample_bylevel': 0.30030763340448463, 'num_leaves': 17896, 'lambda_l2': 98, 'lambda_l1': 20, 'min_gain_to_split': 0.24739814966049395, 'scale_pos_weight': 379.0659673513391}. Best is trial 8 with value: 1.4418149769475688.\u001b[0m\n",
      "c:\\Users\\Daniel\\cyanobacteria-monitoring\\venv\\lib\\site-packages\\optuna\\distributions.py:560: UserWarning:\n",
      "\n",
      "The distribution is specified by [1e-09, 100] and step=1, but the range is not divisible by `step`. It will be replaced by [1e-09, 99.000000001].\n",
      "\n"
     ]
    },
    {
     "name": "stdout",
     "output_type": "stream",
     "text": [
      "[18:11:32] WARNING: C:/Users/Administrator/workspace/xgboost-win64_release_1.6.0/src/learner.cc:627: \n",
      "Parameters: { \"num_leaves\" } might not be used.\n",
      "\n",
      "  This could be a false alarm, with some parameters getting used by language bindings but\n",
      "  then being mistakenly passed down to XGBoost core, or some parameter actually being used\n",
      "  but getting flagged wrongly here. Please open an issue if you find any such cases.\n",
      "\n",
      "\n",
      "[18:11:33] WARNING: C:/Users/Administrator/workspace/xgboost-win64_release_1.6.0/src/learner.cc:627: \n",
      "Parameters: { \"num_leaves\" } might not be used.\n",
      "\n",
      "  This could be a false alarm, with some parameters getting used by language bindings but\n",
      "  then being mistakenly passed down to XGBoost core, or some parameter actually being used\n",
      "  but getting flagged wrongly here. Please open an issue if you find any such cases.\n",
      "\n",
      "\n",
      "[18:11:33] WARNING: C:/Users/Administrator/workspace/xgboost-win64_release_1.6.0/src/learner.cc:627: \n",
      "Parameters: { \"num_leaves\" } might not be used.\n",
      "\n",
      "  This could be a false alarm, with some parameters getting used by language bindings but\n",
      "  then being mistakenly passed down to XGBoost core, or some parameter actually being used\n",
      "  but getting flagged wrongly here. Please open an issue if you find any such cases.\n",
      "\n",
      "\n"
     ]
    },
    {
     "name": "stderr",
     "output_type": "stream",
     "text": [
      "\u001b[32m[I 2022-08-27 18:11:34,613]\u001b[0m Trial 14 finished with value: 1.4435772359357182 and parameters: {'n_estimators': 1000, 'learning_rate': 0.34203218328588153, 'min_child_weigth': 4, 'max_depth': 35, 'subsample': 0.6490666361280413, 'colsample_bytree': 0.6733117932379111, 'colsample_bylevel': 0.6411458703112825, 'num_leaves': 22376, 'lambda_l2': 63, 'lambda_l1': 1, 'min_gain_to_split': 0.16678582453497048, 'scale_pos_weight': 305.69345168924747}. Best is trial 8 with value: 1.4418149769475688.\u001b[0m\n",
      "c:\\Users\\Daniel\\cyanobacteria-monitoring\\venv\\lib\\site-packages\\optuna\\distributions.py:560: UserWarning:\n",
      "\n",
      "The distribution is specified by [1e-09, 100] and step=1, but the range is not divisible by `step`. It will be replaced by [1e-09, 99.000000001].\n",
      "\n"
     ]
    },
    {
     "name": "stdout",
     "output_type": "stream",
     "text": [
      "[18:11:34] WARNING: C:/Users/Administrator/workspace/xgboost-win64_release_1.6.0/src/learner.cc:627: \n",
      "Parameters: { \"num_leaves\" } might not be used.\n",
      "\n",
      "  This could be a false alarm, with some parameters getting used by language bindings but\n",
      "  then being mistakenly passed down to XGBoost core, or some parameter actually being used\n",
      "  but getting flagged wrongly here. Please open an issue if you find any such cases.\n",
      "\n",
      "\n",
      "[18:11:35] WARNING: C:/Users/Administrator/workspace/xgboost-win64_release_1.6.0/src/learner.cc:627: \n",
      "Parameters: { \"num_leaves\" } might not be used.\n",
      "\n",
      "  This could be a false alarm, with some parameters getting used by language bindings but\n",
      "  then being mistakenly passed down to XGBoost core, or some parameter actually being used\n",
      "  but getting flagged wrongly here. Please open an issue if you find any such cases.\n",
      "\n",
      "\n",
      "[18:11:35] WARNING: C:/Users/Administrator/workspace/xgboost-win64_release_1.6.0/src/learner.cc:627: \n",
      "Parameters: { \"num_leaves\" } might not be used.\n",
      "\n",
      "  This could be a false alarm, with some parameters getting used by language bindings but\n",
      "  then being mistakenly passed down to XGBoost core, or some parameter actually being used\n",
      "  but getting flagged wrongly here. Please open an issue if you find any such cases.\n",
      "\n",
      "\n"
     ]
    },
    {
     "name": "stderr",
     "output_type": "stream",
     "text": [
      "\u001b[32m[I 2022-08-27 18:11:36,434]\u001b[0m Trial 15 finished with value: 2.440126559048544 and parameters: {'n_estimators': 1000, 'learning_rate': 0.4309159952375822, 'min_child_weigth': 4, 'max_depth': 35, 'subsample': 0.6252188630917478, 'colsample_bytree': 0.6831949419441823, 'colsample_bylevel': 0.6466189209786981, 'num_leaves': 29356, 'lambda_l2': 63, 'lambda_l1': 18, 'min_gain_to_split': 0.4469112420350685, 'scale_pos_weight': 339.4790735102474}. Best is trial 8 with value: 1.4418149769475688.\u001b[0m\n",
      "c:\\Users\\Daniel\\cyanobacteria-monitoring\\venv\\lib\\site-packages\\optuna\\distributions.py:560: UserWarning:\n",
      "\n",
      "The distribution is specified by [1e-09, 100] and step=1, but the range is not divisible by `step`. It will be replaced by [1e-09, 99.000000001].\n",
      "\n"
     ]
    },
    {
     "name": "stdout",
     "output_type": "stream",
     "text": [
      "[18:11:36] WARNING: C:/Users/Administrator/workspace/xgboost-win64_release_1.6.0/src/learner.cc:627: \n",
      "Parameters: { \"num_leaves\" } might not be used.\n",
      "\n",
      "  This could be a false alarm, with some parameters getting used by language bindings but\n",
      "  then being mistakenly passed down to XGBoost core, or some parameter actually being used\n",
      "  but getting flagged wrongly here. Please open an issue if you find any such cases.\n",
      "\n",
      "\n",
      "[18:11:37] WARNING: C:/Users/Administrator/workspace/xgboost-win64_release_1.6.0/src/learner.cc:627: \n",
      "Parameters: { \"num_leaves\" } might not be used.\n",
      "\n",
      "  This could be a false alarm, with some parameters getting used by language bindings but\n",
      "  then being mistakenly passed down to XGBoost core, or some parameter actually being used\n",
      "  but getting flagged wrongly here. Please open an issue if you find any such cases.\n",
      "\n",
      "\n",
      "[18:11:37] WARNING: C:/Users/Administrator/workspace/xgboost-win64_release_1.6.0/src/learner.cc:627: \n",
      "Parameters: { \"num_leaves\" } might not be used.\n",
      "\n",
      "  This could be a false alarm, with some parameters getting used by language bindings but\n",
      "  then being mistakenly passed down to XGBoost core, or some parameter actually being used\n",
      "  but getting flagged wrongly here. Please open an issue if you find any such cases.\n",
      "\n",
      "\n"
     ]
    },
    {
     "name": "stderr",
     "output_type": "stream",
     "text": [
      "\u001b[32m[I 2022-08-27 18:11:38,006]\u001b[0m Trial 16 finished with value: 1.8081622068266074 and parameters: {'n_estimators': 1000, 'learning_rate': 0.03755823757391208, 'min_child_weigth': 8, 'max_depth': 50, 'subsample': 0.714457257692904, 'colsample_bytree': 0.6096327652918031, 'colsample_bylevel': 0.9032188052349559, 'num_leaves': 14416, 'lambda_l2': 72, 'lambda_l1': 39, 'min_gain_to_split': 0.29432353875582723, 'scale_pos_weight': 400.1243673901895}. Best is trial 8 with value: 1.4418149769475688.\u001b[0m\n",
      "c:\\Users\\Daniel\\cyanobacteria-monitoring\\venv\\lib\\site-packages\\optuna\\distributions.py:560: UserWarning:\n",
      "\n",
      "The distribution is specified by [1e-09, 100] and step=1, but the range is not divisible by `step`. It will be replaced by [1e-09, 99.000000001].\n",
      "\n"
     ]
    },
    {
     "name": "stdout",
     "output_type": "stream",
     "text": [
      "[18:11:38] WARNING: C:/Users/Administrator/workspace/xgboost-win64_release_1.6.0/src/learner.cc:627: \n",
      "Parameters: { \"num_leaves\" } might not be used.\n",
      "\n",
      "  This could be a false alarm, with some parameters getting used by language bindings but\n",
      "  then being mistakenly passed down to XGBoost core, or some parameter actually being used\n",
      "  but getting flagged wrongly here. Please open an issue if you find any such cases.\n",
      "\n",
      "\n",
      "[18:11:38] WARNING: C:/Users/Administrator/workspace/xgboost-win64_release_1.6.0/src/learner.cc:627: \n",
      "Parameters: { \"num_leaves\" } might not be used.\n",
      "\n",
      "  This could be a false alarm, with some parameters getting used by language bindings but\n",
      "  then being mistakenly passed down to XGBoost core, or some parameter actually being used\n",
      "  but getting flagged wrongly here. Please open an issue if you find any such cases.\n",
      "\n",
      "\n",
      "[18:11:39] WARNING: C:/Users/Administrator/workspace/xgboost-win64_release_1.6.0/src/learner.cc:627: \n",
      "Parameters: { \"num_leaves\" } might not be used.\n",
      "\n",
      "  This could be a false alarm, with some parameters getting used by language bindings but\n",
      "  then being mistakenly passed down to XGBoost core, or some parameter actually being used\n",
      "  but getting flagged wrongly here. Please open an issue if you find any such cases.\n",
      "\n",
      "\n"
     ]
    },
    {
     "name": "stderr",
     "output_type": "stream",
     "text": [
      "\u001b[32m[I 2022-08-27 18:11:39,537]\u001b[0m Trial 17 finished with value: 2.2340250813483706 and parameters: {'n_estimators': 1000, 'learning_rate': 0.21049012174695794, 'min_child_weigth': 4, 'max_depth': 30, 'subsample': 0.5624298589817123, 'colsample_bytree': 0.3106306077151232, 'colsample_bylevel': 0.5967873636764627, 'num_leaves': 64116, 'lambda_l2': 86, 'lambda_l1': 14, 'min_gain_to_split': 0.2056976714116902, 'scale_pos_weight': 285.56886090984057}. Best is trial 8 with value: 1.4418149769475688.\u001b[0m\n",
      "c:\\Users\\Daniel\\cyanobacteria-monitoring\\venv\\lib\\site-packages\\optuna\\distributions.py:560: UserWarning:\n",
      "\n",
      "The distribution is specified by [1e-09, 100] and step=1, but the range is not divisible by `step`. It will be replaced by [1e-09, 99.000000001].\n",
      "\n"
     ]
    },
    {
     "name": "stdout",
     "output_type": "stream",
     "text": [
      "[18:11:39] WARNING: C:/Users/Administrator/workspace/xgboost-win64_release_1.6.0/src/learner.cc:627: \n",
      "Parameters: { \"num_leaves\" } might not be used.\n",
      "\n",
      "  This could be a false alarm, with some parameters getting used by language bindings but\n",
      "  then being mistakenly passed down to XGBoost core, or some parameter actually being used\n",
      "  but getting flagged wrongly here. Please open an issue if you find any such cases.\n",
      "\n",
      "\n",
      "[18:11:40] WARNING: C:/Users/Administrator/workspace/xgboost-win64_release_1.6.0/src/learner.cc:627: \n",
      "Parameters: { \"num_leaves\" } might not be used.\n",
      "\n",
      "  This could be a false alarm, with some parameters getting used by language bindings but\n",
      "  then being mistakenly passed down to XGBoost core, or some parameter actually being used\n",
      "  but getting flagged wrongly here. Please open an issue if you find any such cases.\n",
      "\n",
      "\n",
      "[18:11:40] WARNING: C:/Users/Administrator/workspace/xgboost-win64_release_1.6.0/src/learner.cc:627: \n",
      "Parameters: { \"num_leaves\" } might not be used.\n",
      "\n",
      "  This could be a false alarm, with some parameters getting used by language bindings but\n",
      "  then being mistakenly passed down to XGBoost core, or some parameter actually being used\n",
      "  but getting flagged wrongly here. Please open an issue if you find any such cases.\n",
      "\n",
      "\n"
     ]
    },
    {
     "name": "stderr",
     "output_type": "stream",
     "text": [
      "\u001b[32m[I 2022-08-27 18:11:41,410]\u001b[0m Trial 18 finished with value: 1.8091052365168692 and parameters: {'n_estimators': 1000, 'learning_rate': 0.6096090876081194, 'min_child_weigth': 2, 'max_depth': 41, 'subsample': 0.7566367887753926, 'colsample_bytree': 0.8766599719514117, 'colsample_bylevel': 0.8421569589030714, 'num_leaves': 12636, 'lambda_l2': 50, 'lambda_l1': 30, 'min_gain_to_split': 0.1079839761496563, 'scale_pos_weight': 194.00892702538818}. Best is trial 8 with value: 1.4418149769475688.\u001b[0m\n",
      "c:\\Users\\Daniel\\cyanobacteria-monitoring\\venv\\lib\\site-packages\\optuna\\distributions.py:560: UserWarning:\n",
      "\n",
      "The distribution is specified by [1e-09, 100] and step=1, but the range is not divisible by `step`. It will be replaced by [1e-09, 99.000000001].\n",
      "\n"
     ]
    },
    {
     "name": "stdout",
     "output_type": "stream",
     "text": [
      "[18:11:41] WARNING: C:/Users/Administrator/workspace/xgboost-win64_release_1.6.0/src/learner.cc:627: \n",
      "Parameters: { \"num_leaves\" } might not be used.\n",
      "\n",
      "  This could be a false alarm, with some parameters getting used by language bindings but\n",
      "  then being mistakenly passed down to XGBoost core, or some parameter actually being used\n",
      "  but getting flagged wrongly here. Please open an issue if you find any such cases.\n",
      "\n",
      "\n",
      "[18:11:42] WARNING: C:/Users/Administrator/workspace/xgboost-win64_release_1.6.0/src/learner.cc:627: \n",
      "Parameters: { \"num_leaves\" } might not be used.\n",
      "\n",
      "  This could be a false alarm, with some parameters getting used by language bindings but\n",
      "  then being mistakenly passed down to XGBoost core, or some parameter actually being used\n",
      "  but getting flagged wrongly here. Please open an issue if you find any such cases.\n",
      "\n",
      "\n",
      "[18:11:42] WARNING: C:/Users/Administrator/workspace/xgboost-win64_release_1.6.0/src/learner.cc:627: \n",
      "Parameters: { \"num_leaves\" } might not be used.\n",
      "\n",
      "  This could be a false alarm, with some parameters getting used by language bindings but\n",
      "  then being mistakenly passed down to XGBoost core, or some parameter actually being used\n",
      "  but getting flagged wrongly here. Please open an issue if you find any such cases.\n",
      "\n",
      "\n"
     ]
    },
    {
     "name": "stderr",
     "output_type": "stream",
     "text": [
      "\u001b[32m[I 2022-08-27 18:11:43,023]\u001b[0m Trial 19 finished with value: 2.0545810281272363 and parameters: {'n_estimators': 1000, 'learning_rate': 0.3995741269870353, 'min_child_weigth': 2, 'max_depth': 29, 'subsample': 0.5365921121831501, 'colsample_bytree': 0.5391708202892497, 'colsample_bylevel': 0.6372199110230073, 'num_leaves': 24656, 'lambda_l2': 25, 'lambda_l1': 11, 'min_gain_to_split': 0.3025208583799043, 'scale_pos_weight': 0.21641450318767852}. Best is trial 8 with value: 1.4418149769475688.\u001b[0m\n",
      "c:\\Users\\Daniel\\cyanobacteria-monitoring\\venv\\lib\\site-packages\\optuna\\distributions.py:560: UserWarning:\n",
      "\n",
      "The distribution is specified by [1e-09, 100] and step=1, but the range is not divisible by `step`. It will be replaced by [1e-09, 99.000000001].\n",
      "\n"
     ]
    },
    {
     "name": "stdout",
     "output_type": "stream",
     "text": [
      "[18:11:43] WARNING: C:/Users/Administrator/workspace/xgboost-win64_release_1.6.0/src/learner.cc:627: \n",
      "Parameters: { \"num_leaves\" } might not be used.\n",
      "\n",
      "  This could be a false alarm, with some parameters getting used by language bindings but\n",
      "  then being mistakenly passed down to XGBoost core, or some parameter actually being used\n",
      "  but getting flagged wrongly here. Please open an issue if you find any such cases.\n",
      "\n",
      "\n",
      "[18:11:43] WARNING: C:/Users/Administrator/workspace/xgboost-win64_release_1.6.0/src/learner.cc:627: \n",
      "Parameters: { \"num_leaves\" } might not be used.\n",
      "\n",
      "  This could be a false alarm, with some parameters getting used by language bindings but\n",
      "  then being mistakenly passed down to XGBoost core, or some parameter actually being used\n",
      "  but getting flagged wrongly here. Please open an issue if you find any such cases.\n",
      "\n",
      "\n",
      "[18:11:44] WARNING: C:/Users/Administrator/workspace/xgboost-win64_release_1.6.0/src/learner.cc:627: \n",
      "Parameters: { \"num_leaves\" } might not be used.\n",
      "\n",
      "  This could be a false alarm, with some parameters getting used by language bindings but\n",
      "  then being mistakenly passed down to XGBoost core, or some parameter actually being used\n",
      "  but getting flagged wrongly here. Please open an issue if you find any such cases.\n",
      "\n",
      "\n"
     ]
    },
    {
     "name": "stderr",
     "output_type": "stream",
     "text": [
      "\u001b[32m[I 2022-08-27 18:11:44,556]\u001b[0m Trial 20 finished with value: 1.8081622068266074 and parameters: {'n_estimators': 1000, 'learning_rate': 0.3212338868118914, 'min_child_weigth': 5, 'max_depth': 44, 'subsample': 0.6194315755825108, 'colsample_bytree': 0.7193699557650932, 'colsample_bylevel': 0.5041342681148767, 'num_leaves': 29396, 'lambda_l2': 67, 'lambda_l1': 43, 'min_gain_to_split': 0.39643480021173094, 'scale_pos_weight': 321.0876571309048}. Best is trial 8 with value: 1.4418149769475688.\u001b[0m\n",
      "c:\\Users\\Daniel\\cyanobacteria-monitoring\\venv\\lib\\site-packages\\optuna\\distributions.py:560: UserWarning:\n",
      "\n",
      "The distribution is specified by [1e-09, 100] and step=1, but the range is not divisible by `step`. It will be replaced by [1e-09, 99.000000001].\n",
      "\n"
     ]
    },
    {
     "name": "stdout",
     "output_type": "stream",
     "text": [
      "[18:11:44] WARNING: C:/Users/Administrator/workspace/xgboost-win64_release_1.6.0/src/learner.cc:627: \n",
      "Parameters: { \"num_leaves\" } might not be used.\n",
      "\n",
      "  This could be a false alarm, with some parameters getting used by language bindings but\n",
      "  then being mistakenly passed down to XGBoost core, or some parameter actually being used\n",
      "  but getting flagged wrongly here. Please open an issue if you find any such cases.\n",
      "\n",
      "\n",
      "[18:11:45] WARNING: C:/Users/Administrator/workspace/xgboost-win64_release_1.6.0/src/learner.cc:627: \n",
      "Parameters: { \"num_leaves\" } might not be used.\n",
      "\n",
      "  This could be a false alarm, with some parameters getting used by language bindings but\n",
      "  then being mistakenly passed down to XGBoost core, or some parameter actually being used\n",
      "  but getting flagged wrongly here. Please open an issue if you find any such cases.\n",
      "\n",
      "\n",
      "[18:11:45] WARNING: C:/Users/Administrator/workspace/xgboost-win64_release_1.6.0/src/learner.cc:627: \n",
      "Parameters: { \"num_leaves\" } might not be used.\n",
      "\n",
      "  This could be a false alarm, with some parameters getting used by language bindings but\n",
      "  then being mistakenly passed down to XGBoost core, or some parameter actually being used\n",
      "  but getting flagged wrongly here. Please open an issue if you find any such cases.\n",
      "\n",
      "\n"
     ]
    },
    {
     "name": "stderr",
     "output_type": "stream",
     "text": [
      "\u001b[32m[I 2022-08-27 18:11:46,143]\u001b[0m Trial 21 finished with value: 1.724636985662413 and parameters: {'n_estimators': 1000, 'learning_rate': 0.2962090718322521, 'min_child_weigth': 3, 'max_depth': 1, 'subsample': 0.3453198529538764, 'colsample_bytree': 0.8444557299331196, 'colsample_bylevel': 0.36994160378826835, 'num_leaves': 18316, 'lambda_l2': 57, 'lambda_l1': 2, 'min_gain_to_split': 0.1902855638948516, 'scale_pos_weight': 253.5904516711548}. Best is trial 8 with value: 1.4418149769475688.\u001b[0m\n",
      "c:\\Users\\Daniel\\cyanobacteria-monitoring\\venv\\lib\\site-packages\\optuna\\distributions.py:560: UserWarning:\n",
      "\n",
      "The distribution is specified by [1e-09, 100] and step=1, but the range is not divisible by `step`. It will be replaced by [1e-09, 99.000000001].\n",
      "\n"
     ]
    },
    {
     "name": "stdout",
     "output_type": "stream",
     "text": [
      "[18:11:46] WARNING: C:/Users/Administrator/workspace/xgboost-win64_release_1.6.0/src/learner.cc:627: \n",
      "Parameters: { \"num_leaves\" } might not be used.\n",
      "\n",
      "  This could be a false alarm, with some parameters getting used by language bindings but\n",
      "  then being mistakenly passed down to XGBoost core, or some parameter actually being used\n",
      "  but getting flagged wrongly here. Please open an issue if you find any such cases.\n",
      "\n",
      "\n",
      "[18:11:46] WARNING: C:/Users/Administrator/workspace/xgboost-win64_release_1.6.0/src/learner.cc:627: \n",
      "Parameters: { \"num_leaves\" } might not be used.\n",
      "\n",
      "  This could be a false alarm, with some parameters getting used by language bindings but\n",
      "  then being mistakenly passed down to XGBoost core, or some parameter actually being used\n",
      "  but getting flagged wrongly here. Please open an issue if you find any such cases.\n",
      "\n",
      "\n",
      "[18:11:47] WARNING: C:/Users/Administrator/workspace/xgboost-win64_release_1.6.0/src/learner.cc:627: \n",
      "Parameters: { \"num_leaves\" } might not be used.\n",
      "\n",
      "  This could be a false alarm, with some parameters getting used by language bindings but\n",
      "  then being mistakenly passed down to XGBoost core, or some parameter actually being used\n",
      "  but getting flagged wrongly here. Please open an issue if you find any such cases.\n",
      "\n",
      "\n"
     ]
    },
    {
     "name": "stderr",
     "output_type": "stream",
     "text": [
      "\u001b[32m[I 2022-08-27 18:11:48,206]\u001b[0m Trial 22 finished with value: 1.2379315193259377 and parameters: {'n_estimators': 1000, 'learning_rate': 0.14824661917643814, 'min_child_weigth': 3, 'max_depth': 29, 'subsample': 0.3217545375987914, 'colsample_bytree': 0.8952500949645406, 'colsample_bylevel': 0.5893468503698519, 'num_leaves': 22136, 'lambda_l2': 47, 'lambda_l1': 1, 'min_gain_to_split': 0.09820533759648438, 'scale_pos_weight': 419.8657420889605}. Best is trial 22 with value: 1.2379315193259377.\u001b[0m\n",
      "c:\\Users\\Daniel\\cyanobacteria-monitoring\\venv\\lib\\site-packages\\optuna\\distributions.py:560: UserWarning:\n",
      "\n",
      "The distribution is specified by [1e-09, 100] and step=1, but the range is not divisible by `step`. It will be replaced by [1e-09, 99.000000001].\n",
      "\n"
     ]
    },
    {
     "name": "stdout",
     "output_type": "stream",
     "text": [
      "[18:11:48] WARNING: C:/Users/Administrator/workspace/xgboost-win64_release_1.6.0/src/learner.cc:627: \n",
      "Parameters: { \"num_leaves\" } might not be used.\n",
      "\n",
      "  This could be a false alarm, with some parameters getting used by language bindings but\n",
      "  then being mistakenly passed down to XGBoost core, or some parameter actually being used\n",
      "  but getting flagged wrongly here. Please open an issue if you find any such cases.\n",
      "\n",
      "\n",
      "[18:11:48] WARNING: C:/Users/Administrator/workspace/xgboost-win64_release_1.6.0/src/learner.cc:627: \n",
      "Parameters: { \"num_leaves\" } might not be used.\n",
      "\n",
      "  This could be a false alarm, with some parameters getting used by language bindings but\n",
      "  then being mistakenly passed down to XGBoost core, or some parameter actually being used\n",
      "  but getting flagged wrongly here. Please open an issue if you find any such cases.\n",
      "\n",
      "\n",
      "[18:11:49] WARNING: C:/Users/Administrator/workspace/xgboost-win64_release_1.6.0/src/learner.cc:627: \n",
      "Parameters: { \"num_leaves\" } might not be used.\n",
      "\n",
      "  This could be a false alarm, with some parameters getting used by language bindings but\n",
      "  then being mistakenly passed down to XGBoost core, or some parameter actually being used\n",
      "  but getting flagged wrongly here. Please open an issue if you find any such cases.\n",
      "\n",
      "\n"
     ]
    },
    {
     "name": "stderr",
     "output_type": "stream",
     "text": [
      "\u001b[32m[I 2022-08-27 18:11:50,052]\u001b[0m Trial 23 finished with value: 1.8253189281094804 and parameters: {'n_estimators': 1000, 'learning_rate': 0.12178206627175375, 'min_child_weigth': 1, 'max_depth': 30, 'subsample': 0.11155572180530815, 'colsample_bytree': 0.8971942904769181, 'colsample_bylevel': 0.8036104378122464, 'num_leaves': 26736, 'lambda_l2': 46, 'lambda_l1': 11, 'min_gain_to_split': 0.0928655605048056, 'scale_pos_weight': 416.8717575780794}. Best is trial 22 with value: 1.2379315193259377.\u001b[0m\n",
      "c:\\Users\\Daniel\\cyanobacteria-monitoring\\venv\\lib\\site-packages\\optuna\\distributions.py:560: UserWarning:\n",
      "\n",
      "The distribution is specified by [1e-09, 100] and step=1, but the range is not divisible by `step`. It will be replaced by [1e-09, 99.000000001].\n",
      "\n"
     ]
    },
    {
     "name": "stdout",
     "output_type": "stream",
     "text": [
      "[18:11:50] WARNING: C:/Users/Administrator/workspace/xgboost-win64_release_1.6.0/src/learner.cc:627: \n",
      "Parameters: { \"num_leaves\" } might not be used.\n",
      "\n",
      "  This could be a false alarm, with some parameters getting used by language bindings but\n",
      "  then being mistakenly passed down to XGBoost core, or some parameter actually being used\n",
      "  but getting flagged wrongly here. Please open an issue if you find any such cases.\n",
      "\n",
      "\n",
      "[18:11:50] WARNING: C:/Users/Administrator/workspace/xgboost-win64_release_1.6.0/src/learner.cc:627: \n",
      "Parameters: { \"num_leaves\" } might not be used.\n",
      "\n",
      "  This could be a false alarm, with some parameters getting used by language bindings but\n",
      "  then being mistakenly passed down to XGBoost core, or some parameter actually being used\n",
      "  but getting flagged wrongly here. Please open an issue if you find any such cases.\n",
      "\n",
      "\n",
      "[18:11:51] WARNING: C:/Users/Administrator/workspace/xgboost-win64_release_1.6.0/src/learner.cc:627: \n",
      "Parameters: { \"num_leaves\" } might not be used.\n",
      "\n",
      "  This could be a false alarm, with some parameters getting used by language bindings but\n",
      "  then being mistakenly passed down to XGBoost core, or some parameter actually being used\n",
      "  but getting flagged wrongly here. Please open an issue if you find any such cases.\n",
      "\n",
      "\n"
     ]
    },
    {
     "name": "stderr",
     "output_type": "stream",
     "text": [
      "\u001b[32m[I 2022-08-27 18:11:51,574]\u001b[0m Trial 24 finished with value: 1.8258364418678736 and parameters: {'n_estimators': 1000, 'learning_rate': 0.17078765242623, 'min_child_weigth': 5, 'max_depth': 34, 'subsample': 0.48024157801353745, 'colsample_bytree': 0.6174544999402296, 'colsample_bylevel': 0.6692063835757945, 'num_leaves': 4576, 'lambda_l2': 26, 'lambda_l1': 24, 'min_gain_to_split': 0.10471471099175042, 'scale_pos_weight': 464.2886056576022}. Best is trial 22 with value: 1.2379315193259377.\u001b[0m\n",
      "c:\\Users\\Daniel\\cyanobacteria-monitoring\\venv\\lib\\site-packages\\optuna\\distributions.py:560: UserWarning:\n",
      "\n",
      "The distribution is specified by [1e-09, 100] and step=1, but the range is not divisible by `step`. It will be replaced by [1e-09, 99.000000001].\n",
      "\n"
     ]
    },
    {
     "name": "stdout",
     "output_type": "stream",
     "text": [
      "[18:11:51] WARNING: C:/Users/Administrator/workspace/xgboost-win64_release_1.6.0/src/learner.cc:627: \n",
      "Parameters: { \"num_leaves\" } might not be used.\n",
      "\n",
      "  This could be a false alarm, with some parameters getting used by language bindings but\n",
      "  then being mistakenly passed down to XGBoost core, or some parameter actually being used\n",
      "  but getting flagged wrongly here. Please open an issue if you find any such cases.\n",
      "\n",
      "\n",
      "[18:11:52] WARNING: C:/Users/Administrator/workspace/xgboost-win64_release_1.6.0/src/learner.cc:627: \n",
      "Parameters: { \"num_leaves\" } might not be used.\n",
      "\n",
      "  This could be a false alarm, with some parameters getting used by language bindings but\n",
      "  then being mistakenly passed down to XGBoost core, or some parameter actually being used\n",
      "  but getting flagged wrongly here. Please open an issue if you find any such cases.\n",
      "\n",
      "\n",
      "[18:11:52] WARNING: C:/Users/Administrator/workspace/xgboost-win64_release_1.6.0/src/learner.cc:627: \n",
      "Parameters: { \"num_leaves\" } might not be used.\n",
      "\n",
      "  This could be a false alarm, with some parameters getting used by language bindings but\n",
      "  then being mistakenly passed down to XGBoost core, or some parameter actually being used\n",
      "  but getting flagged wrongly here. Please open an issue if you find any such cases.\n",
      "\n",
      "\n"
     ]
    },
    {
     "name": "stderr",
     "output_type": "stream",
     "text": [
      "\u001b[32m[I 2022-08-27 18:11:53,264]\u001b[0m Trial 25 finished with value: 3.385619284131134 and parameters: {'n_estimators': 1000, 'learning_rate': 0.45114217487924413, 'min_child_weigth': 2, 'max_depth': 29, 'subsample': 0.2594461464170089, 'colsample_bytree': 0.8969242702502723, 'colsample_bylevel': 0.5582406379329032, 'num_leaves': 17396, 'lambda_l2': 99, 'lambda_l1': 10, 'min_gain_to_split': 0.26889335121866137, 'scale_pos_weight': 424.6228739163687}. Best is trial 22 with value: 1.2379315193259377.\u001b[0m\n",
      "c:\\Users\\Daniel\\cyanobacteria-monitoring\\venv\\lib\\site-packages\\optuna\\distributions.py:560: UserWarning:\n",
      "\n",
      "The distribution is specified by [1e-09, 100] and step=1, but the range is not divisible by `step`. It will be replaced by [1e-09, 99.000000001].\n",
      "\n"
     ]
    },
    {
     "name": "stdout",
     "output_type": "stream",
     "text": [
      "[18:11:53] WARNING: C:/Users/Administrator/workspace/xgboost-win64_release_1.6.0/src/learner.cc:627: \n",
      "Parameters: { \"num_leaves\" } might not be used.\n",
      "\n",
      "  This could be a false alarm, with some parameters getting used by language bindings but\n",
      "  then being mistakenly passed down to XGBoost core, or some parameter actually being used\n",
      "  but getting flagged wrongly here. Please open an issue if you find any such cases.\n",
      "\n",
      "\n",
      "[18:11:54] WARNING: C:/Users/Administrator/workspace/xgboost-win64_release_1.6.0/src/learner.cc:627: \n",
      "Parameters: { \"num_leaves\" } might not be used.\n",
      "\n",
      "  This could be a false alarm, with some parameters getting used by language bindings but\n",
      "  then being mistakenly passed down to XGBoost core, or some parameter actually being used\n",
      "  but getting flagged wrongly here. Please open an issue if you find any such cases.\n",
      "\n",
      "\n",
      "[18:11:55] WARNING: C:/Users/Administrator/workspace/xgboost-win64_release_1.6.0/src/learner.cc:627: \n",
      "Parameters: { \"num_leaves\" } might not be used.\n",
      "\n",
      "  This could be a false alarm, with some parameters getting used by language bindings but\n",
      "  then being mistakenly passed down to XGBoost core, or some parameter actually being used\n",
      "  but getting flagged wrongly here. Please open an issue if you find any such cases.\n",
      "\n",
      "\n"
     ]
    },
    {
     "name": "stderr",
     "output_type": "stream",
     "text": [
      "\u001b[32m[I 2022-08-27 18:11:55,798]\u001b[0m Trial 26 finished with value: 1.1763986195005263 and parameters: {'n_estimators': 1000, 'learning_rate': 0.11121077961202619, 'min_child_weigth': 3, 'max_depth': 39, 'subsample': 0.3193453032097763, 'colsample_bytree': 0.7361104020463589, 'colsample_bylevel': 0.5778346271697666, 'num_leaves': 10076, 'lambda_l2': 50, 'lambda_l1': 0, 'min_gain_to_split': 0.19690691838817925, 'scale_pos_weight': 323.7555866356388}. Best is trial 26 with value: 1.1763986195005263.\u001b[0m\n",
      "c:\\Users\\Daniel\\cyanobacteria-monitoring\\venv\\lib\\site-packages\\optuna\\distributions.py:560: UserWarning:\n",
      "\n",
      "The distribution is specified by [1e-09, 100] and step=1, but the range is not divisible by `step`. It will be replaced by [1e-09, 99.000000001].\n",
      "\n"
     ]
    },
    {
     "name": "stdout",
     "output_type": "stream",
     "text": [
      "[18:11:55] WARNING: C:/Users/Administrator/workspace/xgboost-win64_release_1.6.0/src/learner.cc:627: \n",
      "Parameters: { \"num_leaves\" } might not be used.\n",
      "\n",
      "  This could be a false alarm, with some parameters getting used by language bindings but\n",
      "  then being mistakenly passed down to XGBoost core, or some parameter actually being used\n",
      "  but getting flagged wrongly here. Please open an issue if you find any such cases.\n",
      "\n",
      "\n",
      "[18:11:56] WARNING: C:/Users/Administrator/workspace/xgboost-win64_release_1.6.0/src/learner.cc:627: \n",
      "Parameters: { \"num_leaves\" } might not be used.\n",
      "\n",
      "  This could be a false alarm, with some parameters getting used by language bindings but\n",
      "  then being mistakenly passed down to XGBoost core, or some parameter actually being used\n",
      "  but getting flagged wrongly here. Please open an issue if you find any such cases.\n",
      "\n",
      "\n",
      "[18:11:56] WARNING: C:/Users/Administrator/workspace/xgboost-win64_release_1.6.0/src/learner.cc:627: \n",
      "Parameters: { \"num_leaves\" } might not be used.\n",
      "\n",
      "  This could be a false alarm, with some parameters getting used by language bindings but\n",
      "  then being mistakenly passed down to XGBoost core, or some parameter actually being used\n",
      "  but getting flagged wrongly here. Please open an issue if you find any such cases.\n",
      "\n",
      "\n"
     ]
    },
    {
     "name": "stderr",
     "output_type": "stream",
     "text": [
      "\u001b[32m[I 2022-08-27 18:11:57,336]\u001b[0m Trial 27 finished with value: 1.8386131384449511 and parameters: {'n_estimators': 1000, 'learning_rate': 0.10551490927068449, 'min_child_weigth': 3, 'max_depth': 40, 'subsample': 0.27354190080519375, 'colsample_bytree': 0.7553156739371264, 'colsample_bylevel': 0.4625507652076759, 'num_leaves': 11096, 'lambda_l2': 47, 'lambda_l1': 17, 'min_gain_to_split': 0.2157268473140483, 'scale_pos_weight': 376.30047071327607}. Best is trial 26 with value: 1.1763986195005263.\u001b[0m\n",
      "c:\\Users\\Daniel\\cyanobacteria-monitoring\\venv\\lib\\site-packages\\optuna\\distributions.py:560: UserWarning:\n",
      "\n",
      "The distribution is specified by [1e-09, 100] and step=1, but the range is not divisible by `step`. It will be replaced by [1e-09, 99.000000001].\n",
      "\n"
     ]
    },
    {
     "name": "stdout",
     "output_type": "stream",
     "text": [
      "[18:11:57] WARNING: C:/Users/Administrator/workspace/xgboost-win64_release_1.6.0/src/learner.cc:627: \n",
      "Parameters: { \"num_leaves\" } might not be used.\n",
      "\n",
      "  This could be a false alarm, with some parameters getting used by language bindings but\n",
      "  then being mistakenly passed down to XGBoost core, or some parameter actually being used\n",
      "  but getting flagged wrongly here. Please open an issue if you find any such cases.\n",
      "\n",
      "\n",
      "[18:11:57] WARNING: C:/Users/Administrator/workspace/xgboost-win64_release_1.6.0/src/learner.cc:627: \n",
      "Parameters: { \"num_leaves\" } might not be used.\n",
      "\n",
      "  This could be a false alarm, with some parameters getting used by language bindings but\n",
      "  then being mistakenly passed down to XGBoost core, or some parameter actually being used\n",
      "  but getting flagged wrongly here. Please open an issue if you find any such cases.\n",
      "\n",
      "\n",
      "[18:11:58] WARNING: C:/Users/Administrator/workspace/xgboost-win64_release_1.6.0/src/learner.cc:627: \n",
      "Parameters: { \"num_leaves\" } might not be used.\n",
      "\n",
      "  This could be a false alarm, with some parameters getting used by language bindings but\n",
      "  then being mistakenly passed down to XGBoost core, or some parameter actually being used\n",
      "  but getting flagged wrongly here. Please open an issue if you find any such cases.\n",
      "\n",
      "\n"
     ]
    },
    {
     "name": "stderr",
     "output_type": "stream",
     "text": [
      "\u001b[32m[I 2022-08-27 18:11:58,886]\u001b[0m Trial 28 finished with value: 1.8081622068266074 and parameters: {'n_estimators': 1000, 'learning_rate': 0.024277579522452353, 'min_child_weigth': 1, 'max_depth': 49, 'subsample': 0.30417293116460986, 'colsample_bytree': 0.9090127897899687, 'colsample_bylevel': 0.5619099152782303, 'num_leaves': 15616, 'lambda_l2': 27, 'lambda_l1': 75, 'min_gain_to_split': 0.33703044807590865, 'scale_pos_weight': 342.38261535466324}. Best is trial 26 with value: 1.1763986195005263.\u001b[0m\n",
      "c:\\Users\\Daniel\\cyanobacteria-monitoring\\venv\\lib\\site-packages\\optuna\\distributions.py:560: UserWarning:\n",
      "\n",
      "The distribution is specified by [1e-09, 100] and step=1, but the range is not divisible by `step`. It will be replaced by [1e-09, 99.000000001].\n",
      "\n"
     ]
    },
    {
     "name": "stdout",
     "output_type": "stream",
     "text": [
      "[18:11:58] WARNING: C:/Users/Administrator/workspace/xgboost-win64_release_1.6.0/src/learner.cc:627: \n",
      "Parameters: { \"num_leaves\" } might not be used.\n",
      "\n",
      "  This could be a false alarm, with some parameters getting used by language bindings but\n",
      "  then being mistakenly passed down to XGBoost core, or some parameter actually being used\n",
      "  but getting flagged wrongly here. Please open an issue if you find any such cases.\n",
      "\n",
      "\n",
      "[18:11:59] WARNING: C:/Users/Administrator/workspace/xgboost-win64_release_1.6.0/src/learner.cc:627: \n",
      "Parameters: { \"num_leaves\" } might not be used.\n",
      "\n",
      "  This could be a false alarm, with some parameters getting used by language bindings but\n",
      "  then being mistakenly passed down to XGBoost core, or some parameter actually being used\n",
      "  but getting flagged wrongly here. Please open an issue if you find any such cases.\n",
      "\n",
      "\n",
      "[18:11:59] WARNING: C:/Users/Administrator/workspace/xgboost-win64_release_1.6.0/src/learner.cc:627: \n",
      "Parameters: { \"num_leaves\" } might not be used.\n",
      "\n",
      "  This could be a false alarm, with some parameters getting used by language bindings but\n",
      "  then being mistakenly passed down to XGBoost core, or some parameter actually being used\n",
      "  but getting flagged wrongly here. Please open an issue if you find any such cases.\n",
      "\n",
      "\n"
     ]
    },
    {
     "name": "stderr",
     "output_type": "stream",
     "text": [
      "\u001b[32m[I 2022-08-27 18:12:00,452]\u001b[0m Trial 29 finished with value: 1.8081622068266074 and parameters: {'n_estimators': 1000, 'learning_rate': 0.1350661206398097, 'min_child_weigth': 2, 'max_depth': 18, 'subsample': 0.15282381696711056, 'colsample_bytree': 0.9821888450307082, 'colsample_bylevel': 0.6969244734996684, 'num_leaves': 8276, 'lambda_l2': 1, 'lambda_l1': 58, 'min_gain_to_split': 0.26628767058127406, 'scale_pos_weight': 495.9533552024406}. Best is trial 26 with value: 1.1763986195005263.\u001b[0m\n",
      "c:\\Users\\Daniel\\cyanobacteria-monitoring\\venv\\lib\\site-packages\\optuna\\distributions.py:560: UserWarning:\n",
      "\n",
      "The distribution is specified by [1e-09, 100] and step=1, but the range is not divisible by `step`. It will be replaced by [1e-09, 99.000000001].\n",
      "\n"
     ]
    },
    {
     "name": "stdout",
     "output_type": "stream",
     "text": [
      "[18:12:00] WARNING: C:/Users/Administrator/workspace/xgboost-win64_release_1.6.0/src/learner.cc:627: \n",
      "Parameters: { \"num_leaves\" } might not be used.\n",
      "\n",
      "  This could be a false alarm, with some parameters getting used by language bindings but\n",
      "  then being mistakenly passed down to XGBoost core, or some parameter actually being used\n",
      "  but getting flagged wrongly here. Please open an issue if you find any such cases.\n",
      "\n",
      "\n",
      "[18:12:01] WARNING: C:/Users/Administrator/workspace/xgboost-win64_release_1.6.0/src/learner.cc:627: \n",
      "Parameters: { \"num_leaves\" } might not be used.\n",
      "\n",
      "  This could be a false alarm, with some parameters getting used by language bindings but\n",
      "  then being mistakenly passed down to XGBoost core, or some parameter actually being used\n",
      "  but getting flagged wrongly here. Please open an issue if you find any such cases.\n",
      "\n",
      "\n",
      "[18:12:01] WARNING: C:/Users/Administrator/workspace/xgboost-win64_release_1.6.0/src/learner.cc:627: \n",
      "Parameters: { \"num_leaves\" } might not be used.\n",
      "\n",
      "  This could be a false alarm, with some parameters getting used by language bindings but\n",
      "  then being mistakenly passed down to XGBoost core, or some parameter actually being used\n",
      "  but getting flagged wrongly here. Please open an issue if you find any such cases.\n",
      "\n",
      "\n"
     ]
    },
    {
     "name": "stderr",
     "output_type": "stream",
     "text": [
      "\u001b[32m[I 2022-08-27 18:12:02,196]\u001b[0m Trial 30 finished with value: 1.990590622836753 and parameters: {'n_estimators': 1000, 'learning_rate': 0.5735359462622376, 'min_child_weigth': 5, 'max_depth': 45, 'subsample': 0.39849323728864583, 'colsample_bytree': 0.8282807528093604, 'colsample_bylevel': 0.7960640197889021, 'num_leaves': 4756, 'lambda_l2': 14, 'lambda_l1': 8, 'min_gain_to_split': 0.12765613763538047, 'scale_pos_weight': 379.44839129798623}. Best is trial 26 with value: 1.1763986195005263.\u001b[0m\n",
      "c:\\Users\\Daniel\\cyanobacteria-monitoring\\venv\\lib\\site-packages\\optuna\\distributions.py:560: UserWarning:\n",
      "\n",
      "The distribution is specified by [1e-09, 100] and step=1, but the range is not divisible by `step`. It will be replaced by [1e-09, 99.000000001].\n",
      "\n"
     ]
    },
    {
     "name": "stdout",
     "output_type": "stream",
     "text": [
      "[18:12:02] WARNING: C:/Users/Administrator/workspace/xgboost-win64_release_1.6.0/src/learner.cc:627: \n",
      "Parameters: { \"num_leaves\" } might not be used.\n",
      "\n",
      "  This could be a false alarm, with some parameters getting used by language bindings but\n",
      "  then being mistakenly passed down to XGBoost core, or some parameter actually being used\n",
      "  but getting flagged wrongly here. Please open an issue if you find any such cases.\n",
      "\n",
      "\n",
      "[18:12:02] WARNING: C:/Users/Administrator/workspace/xgboost-win64_release_1.6.0/src/learner.cc:627: \n",
      "Parameters: { \"num_leaves\" } might not be used.\n",
      "\n",
      "  This could be a false alarm, with some parameters getting used by language bindings but\n",
      "  then being mistakenly passed down to XGBoost core, or some parameter actually being used\n",
      "  but getting flagged wrongly here. Please open an issue if you find any such cases.\n",
      "\n",
      "\n",
      "[18:12:03] WARNING: C:/Users/Administrator/workspace/xgboost-win64_release_1.6.0/src/learner.cc:627: \n",
      "Parameters: { \"num_leaves\" } might not be used.\n",
      "\n",
      "  This could be a false alarm, with some parameters getting used by language bindings but\n",
      "  then being mistakenly passed down to XGBoost core, or some parameter actually being used\n",
      "  but getting flagged wrongly here. Please open an issue if you find any such cases.\n",
      "\n",
      "\n"
     ]
    },
    {
     "name": "stderr",
     "output_type": "stream",
     "text": [
      "\u001b[32m[I 2022-08-27 18:12:03,942]\u001b[0m Trial 31 finished with value: 1.2890866451078595 and parameters: {'n_estimators': 1000, 'learning_rate': 0.2557975856692768, 'min_child_weigth': 4, 'max_depth': 33, 'subsample': 0.16950165570557094, 'colsample_bytree': 0.7046220307466865, 'colsample_bylevel': 0.5762644956546265, 'num_leaves': 20176, 'lambda_l2': 53, 'lambda_l1': 0, 'min_gain_to_split': 0.18325892740162653, 'scale_pos_weight': 309.8737102560673}. Best is trial 26 with value: 1.1763986195005263.\u001b[0m\n",
      "c:\\Users\\Daniel\\cyanobacteria-monitoring\\venv\\lib\\site-packages\\optuna\\distributions.py:560: UserWarning:\n",
      "\n",
      "The distribution is specified by [1e-09, 100] and step=1, but the range is not divisible by `step`. It will be replaced by [1e-09, 99.000000001].\n",
      "\n"
     ]
    },
    {
     "name": "stdout",
     "output_type": "stream",
     "text": [
      "[18:12:04] WARNING: C:/Users/Administrator/workspace/xgboost-win64_release_1.6.0/src/learner.cc:627: \n",
      "Parameters: { \"num_leaves\" } might not be used.\n",
      "\n",
      "  This could be a false alarm, with some parameters getting used by language bindings but\n",
      "  then being mistakenly passed down to XGBoost core, or some parameter actually being used\n",
      "  but getting flagged wrongly here. Please open an issue if you find any such cases.\n",
      "\n",
      "\n",
      "[18:12:04] WARNING: C:/Users/Administrator/workspace/xgboost-win64_release_1.6.0/src/learner.cc:627: \n",
      "Parameters: { \"num_leaves\" } might not be used.\n",
      "\n",
      "  This could be a false alarm, with some parameters getting used by language bindings but\n",
      "  then being mistakenly passed down to XGBoost core, or some parameter actually being used\n",
      "  but getting flagged wrongly here. Please open an issue if you find any such cases.\n",
      "\n",
      "\n",
      "[18:12:05] WARNING: C:/Users/Administrator/workspace/xgboost-win64_release_1.6.0/src/learner.cc:627: \n",
      "Parameters: { \"num_leaves\" } might not be used.\n",
      "\n",
      "  This could be a false alarm, with some parameters getting used by language bindings but\n",
      "  then being mistakenly passed down to XGBoost core, or some parameter actually being used\n",
      "  but getting flagged wrongly here. Please open an issue if you find any such cases.\n",
      "\n",
      "\n"
     ]
    },
    {
     "name": "stderr",
     "output_type": "stream",
     "text": [
      "\u001b[32m[I 2022-08-27 18:12:05,498]\u001b[0m Trial 32 finished with value: 3.375783819268805 and parameters: {'n_estimators': 1000, 'learning_rate': 0.2592437355078137, 'min_child_weigth': 3, 'max_depth': 27, 'subsample': 0.17823730030699494, 'colsample_bytree': 0.7544544192779019, 'colsample_bylevel': 0.5911686231882711, 'num_leaves': 19176, 'lambda_l2': 50, 'lambda_l1': 7, 'min_gain_to_split': 0.18505493798473951, 'scale_pos_weight': 449.3775522741947}. Best is trial 26 with value: 1.1763986195005263.\u001b[0m\n",
      "c:\\Users\\Daniel\\cyanobacteria-monitoring\\venv\\lib\\site-packages\\optuna\\distributions.py:560: UserWarning:\n",
      "\n",
      "The distribution is specified by [1e-09, 100] and step=1, but the range is not divisible by `step`. It will be replaced by [1e-09, 99.000000001].\n",
      "\n"
     ]
    },
    {
     "name": "stdout",
     "output_type": "stream",
     "text": [
      "[18:12:05] WARNING: C:/Users/Administrator/workspace/xgboost-win64_release_1.6.0/src/learner.cc:627: \n",
      "Parameters: { \"num_leaves\" } might not be used.\n",
      "\n",
      "  This could be a false alarm, with some parameters getting used by language bindings but\n",
      "  then being mistakenly passed down to XGBoost core, or some parameter actually being used\n",
      "  but getting flagged wrongly here. Please open an issue if you find any such cases.\n",
      "\n",
      "\n",
      "[18:12:06] WARNING: C:/Users/Administrator/workspace/xgboost-win64_release_1.6.0/src/learner.cc:627: \n",
      "Parameters: { \"num_leaves\" } might not be used.\n",
      "\n",
      "  This could be a false alarm, with some parameters getting used by language bindings but\n",
      "  then being mistakenly passed down to XGBoost core, or some parameter actually being used\n",
      "  but getting flagged wrongly here. Please open an issue if you find any such cases.\n",
      "\n",
      "\n",
      "[18:12:06] WARNING: C:/Users/Administrator/workspace/xgboost-win64_release_1.6.0/src/learner.cc:627: \n",
      "Parameters: { \"num_leaves\" } might not be used.\n",
      "\n",
      "  This could be a false alarm, with some parameters getting used by language bindings but\n",
      "  then being mistakenly passed down to XGBoost core, or some parameter actually being used\n",
      "  but getting flagged wrongly here. Please open an issue if you find any such cases.\n",
      "\n",
      "\n"
     ]
    },
    {
     "name": "stderr",
     "output_type": "stream",
     "text": [
      "\u001b[32m[I 2022-08-27 18:12:06,977]\u001b[0m Trial 33 finished with value: 1.8081622068266074 and parameters: {'n_estimators': 1000, 'learning_rate': 0.15844311993784077, 'min_child_weigth': 4, 'max_depth': 33, 'subsample': 0.10483657153767967, 'colsample_bytree': 0.6195240586541149, 'colsample_bylevel': 0.5074486155173972, 'num_leaves': 13076, 'lambda_l2': 41, 'lambda_l1': 23, 'min_gain_to_split': 0.08276270082685486, 'scale_pos_weight': 403.89430056657363}. Best is trial 26 with value: 1.1763986195005263.\u001b[0m\n",
      "c:\\Users\\Daniel\\cyanobacteria-monitoring\\venv\\lib\\site-packages\\optuna\\distributions.py:560: UserWarning:\n",
      "\n",
      "The distribution is specified by [1e-09, 100] and step=1, but the range is not divisible by `step`. It will be replaced by [1e-09, 99.000000001].\n",
      "\n"
     ]
    },
    {
     "name": "stdout",
     "output_type": "stream",
     "text": [
      "[18:12:07] WARNING: C:/Users/Administrator/workspace/xgboost-win64_release_1.6.0/src/learner.cc:627: \n",
      "Parameters: { \"num_leaves\" } might not be used.\n",
      "\n",
      "  This could be a false alarm, with some parameters getting used by language bindings but\n",
      "  then being mistakenly passed down to XGBoost core, or some parameter actually being used\n",
      "  but getting flagged wrongly here. Please open an issue if you find any such cases.\n",
      "\n",
      "\n",
      "[18:12:07] WARNING: C:/Users/Administrator/workspace/xgboost-win64_release_1.6.0/src/learner.cc:627: \n",
      "Parameters: { \"num_leaves\" } might not be used.\n",
      "\n",
      "  This could be a false alarm, with some parameters getting used by language bindings but\n",
      "  then being mistakenly passed down to XGBoost core, or some parameter actually being used\n",
      "  but getting flagged wrongly here. Please open an issue if you find any such cases.\n",
      "\n",
      "\n",
      "[18:12:08] WARNING: C:/Users/Administrator/workspace/xgboost-win64_release_1.6.0/src/learner.cc:627: \n",
      "Parameters: { \"num_leaves\" } might not be used.\n",
      "\n",
      "  This could be a false alarm, with some parameters getting used by language bindings but\n",
      "  then being mistakenly passed down to XGBoost core, or some parameter actually being used\n",
      "  but getting flagged wrongly here. Please open an issue if you find any such cases.\n",
      "\n",
      "\n"
     ]
    },
    {
     "name": "stderr",
     "output_type": "stream",
     "text": [
      "\u001b[32m[I 2022-08-27 18:12:08,724]\u001b[0m Trial 34 finished with value: 2.200147669294467 and parameters: {'n_estimators': 1000, 'learning_rate': 0.07835771680517514, 'min_child_weigth': 5, 'max_depth': 38, 'subsample': 0.2155669336227693, 'colsample_bytree': 0.9978061803562611, 'colsample_bylevel': 0.41354171142962487, 'num_leaves': 35496, 'lambda_l2': 85, 'lambda_l1': 1, 'min_gain_to_split': 0.25032184069640095, 'scale_pos_weight': 331.21210335250305}. Best is trial 26 with value: 1.1763986195005263.\u001b[0m\n",
      "c:\\Users\\Daniel\\cyanobacteria-monitoring\\venv\\lib\\site-packages\\optuna\\distributions.py:560: UserWarning:\n",
      "\n",
      "The distribution is specified by [1e-09, 100] and step=1, but the range is not divisible by `step`. It will be replaced by [1e-09, 99.000000001].\n",
      "\n"
     ]
    },
    {
     "name": "stdout",
     "output_type": "stream",
     "text": [
      "[18:12:08] WARNING: C:/Users/Administrator/workspace/xgboost-win64_release_1.6.0/src/learner.cc:627: \n",
      "Parameters: { \"num_leaves\" } might not be used.\n",
      "\n",
      "  This could be a false alarm, with some parameters getting used by language bindings but\n",
      "  then being mistakenly passed down to XGBoost core, or some parameter actually being used\n",
      "  but getting flagged wrongly here. Please open an issue if you find any such cases.\n",
      "\n",
      "\n",
      "[18:12:09] WARNING: C:/Users/Administrator/workspace/xgboost-win64_release_1.6.0/src/learner.cc:627: \n",
      "Parameters: { \"num_leaves\" } might not be used.\n",
      "\n",
      "  This could be a false alarm, with some parameters getting used by language bindings but\n",
      "  then being mistakenly passed down to XGBoost core, or some parameter actually being used\n",
      "  but getting flagged wrongly here. Please open an issue if you find any such cases.\n",
      "\n",
      "\n",
      "[18:12:09] WARNING: C:/Users/Administrator/workspace/xgboost-win64_release_1.6.0/src/learner.cc:627: \n",
      "Parameters: { \"num_leaves\" } might not be used.\n",
      "\n",
      "  This could be a false alarm, with some parameters getting used by language bindings but\n",
      "  then being mistakenly passed down to XGBoost core, or some parameter actually being used\n",
      "  but getting flagged wrongly here. Please open an issue if you find any such cases.\n",
      "\n",
      "\n"
     ]
    },
    {
     "name": "stderr",
     "output_type": "stream",
     "text": [
      "\u001b[32m[I 2022-08-27 18:12:10,233]\u001b[0m Trial 35 finished with value: 1.8081622068266074 and parameters: {'n_estimators': 1000, 'learning_rate': 0.19267457292716117, 'min_child_weigth': 2, 'max_depth': 20, 'subsample': 0.16121134578728621, 'colsample_bytree': 0.8499937948654666, 'colsample_bylevel': 0.616331696817275, 'num_leaves': 10876, 'lambda_l2': 32, 'lambda_l1': 99, 'min_gain_to_split': 0.024919196137440647, 'scale_pos_weight': 351.44819103434236}. Best is trial 26 with value: 1.1763986195005263.\u001b[0m\n",
      "c:\\Users\\Daniel\\cyanobacteria-monitoring\\venv\\lib\\site-packages\\optuna\\distributions.py:560: UserWarning:\n",
      "\n",
      "The distribution is specified by [1e-09, 100] and step=1, but the range is not divisible by `step`. It will be replaced by [1e-09, 99.000000001].\n",
      "\n"
     ]
    },
    {
     "name": "stdout",
     "output_type": "stream",
     "text": [
      "[18:12:10] WARNING: C:/Users/Administrator/workspace/xgboost-win64_release_1.6.0/src/learner.cc:627: \n",
      "Parameters: { \"num_leaves\" } might not be used.\n",
      "\n",
      "  This could be a false alarm, with some parameters getting used by language bindings but\n",
      "  then being mistakenly passed down to XGBoost core, or some parameter actually being used\n",
      "  but getting flagged wrongly here. Please open an issue if you find any such cases.\n",
      "\n",
      "\n",
      "[18:12:10] WARNING: C:/Users/Administrator/workspace/xgboost-win64_release_1.6.0/src/learner.cc:627: \n",
      "Parameters: { \"num_leaves\" } might not be used.\n",
      "\n",
      "  This could be a false alarm, with some parameters getting used by language bindings but\n",
      "  then being mistakenly passed down to XGBoost core, or some parameter actually being used\n",
      "  but getting flagged wrongly here. Please open an issue if you find any such cases.\n",
      "\n",
      "\n",
      "[18:12:11] WARNING: C:/Users/Administrator/workspace/xgboost-win64_release_1.6.0/src/learner.cc:627: \n",
      "Parameters: { \"num_leaves\" } might not be used.\n",
      "\n",
      "  This could be a false alarm, with some parameters getting used by language bindings but\n",
      "  then being mistakenly passed down to XGBoost core, or some parameter actually being used\n",
      "  but getting flagged wrongly here. Please open an issue if you find any such cases.\n",
      "\n",
      "\n"
     ]
    },
    {
     "name": "stderr",
     "output_type": "stream",
     "text": [
      "\u001b[32m[I 2022-08-27 18:12:12,124]\u001b[0m Trial 36 finished with value: 1.8081622068266074 and parameters: {'n_estimators': 1000, 'learning_rate': 0.2716967798564534, 'min_child_weigth': 4, 'max_depth': 32, 'subsample': 0.30887008723297443, 'colsample_bytree': 0.4824603677871075, 'colsample_bylevel': 0.7178573466385727, 'num_leaves': 28136, 'lambda_l2': 73, 'lambda_l1': 29, 'min_gain_to_split': 0.13292394121190448, 'scale_pos_weight': 287.5052907989192}. Best is trial 26 with value: 1.1763986195005263.\u001b[0m\n",
      "c:\\Users\\Daniel\\cyanobacteria-monitoring\\venv\\lib\\site-packages\\optuna\\distributions.py:560: UserWarning:\n",
      "\n",
      "The distribution is specified by [1e-09, 100] and step=1, but the range is not divisible by `step`. It will be replaced by [1e-09, 99.000000001].\n",
      "\n"
     ]
    },
    {
     "name": "stdout",
     "output_type": "stream",
     "text": [
      "[18:12:12] WARNING: C:/Users/Administrator/workspace/xgboost-win64_release_1.6.0/src/learner.cc:627: \n",
      "Parameters: { \"num_leaves\" } might not be used.\n",
      "\n",
      "  This could be a false alarm, with some parameters getting used by language bindings but\n",
      "  then being mistakenly passed down to XGBoost core, or some parameter actually being used\n",
      "  but getting flagged wrongly here. Please open an issue if you find any such cases.\n",
      "\n",
      "\n",
      "[18:12:12] WARNING: C:/Users/Administrator/workspace/xgboost-win64_release_1.6.0/src/learner.cc:627: \n",
      "Parameters: { \"num_leaves\" } might not be used.\n",
      "\n",
      "  This could be a false alarm, with some parameters getting used by language bindings but\n",
      "  then being mistakenly passed down to XGBoost core, or some parameter actually being used\n",
      "  but getting flagged wrongly here. Please open an issue if you find any such cases.\n",
      "\n",
      "\n",
      "[18:12:13] WARNING: C:/Users/Administrator/workspace/xgboost-win64_release_1.6.0/src/learner.cc:627: \n",
      "Parameters: { \"num_leaves\" } might not be used.\n",
      "\n",
      "  This could be a false alarm, with some parameters getting used by language bindings but\n",
      "  then being mistakenly passed down to XGBoost core, or some parameter actually being used\n",
      "  but getting flagged wrongly here. Please open an issue if you find any such cases.\n",
      "\n",
      "\n"
     ]
    },
    {
     "name": "stderr",
     "output_type": "stream",
     "text": [
      "\u001b[32m[I 2022-08-27 18:12:13,808]\u001b[0m Trial 37 finished with value: 2.012708881499727 and parameters: {'n_estimators': 1000, 'learning_rate': 0.47839187658546567, 'min_child_weigth': 3, 'max_depth': 26, 'subsample': 0.23425499809292422, 'colsample_bytree': 0.9325082218046579, 'colsample_bylevel': 0.1545537609880726, 'num_leaves': 20716, 'lambda_l2': 43, 'lambda_l1': 15, 'min_gain_to_split': 0.2295749537291052, 'scale_pos_weight': 364.90548120941065}. Best is trial 26 with value: 1.1763986195005263.\u001b[0m\n",
      "c:\\Users\\Daniel\\cyanobacteria-monitoring\\venv\\lib\\site-packages\\optuna\\distributions.py:560: UserWarning:\n",
      "\n",
      "The distribution is specified by [1e-09, 100] and step=1, but the range is not divisible by `step`. It will be replaced by [1e-09, 99.000000001].\n",
      "\n"
     ]
    },
    {
     "name": "stdout",
     "output_type": "stream",
     "text": [
      "[18:12:13] WARNING: C:/Users/Administrator/workspace/xgboost-win64_release_1.6.0/src/learner.cc:627: \n",
      "Parameters: { \"num_leaves\" } might not be used.\n",
      "\n",
      "  This could be a false alarm, with some parameters getting used by language bindings but\n",
      "  then being mistakenly passed down to XGBoost core, or some parameter actually being used\n",
      "  but getting flagged wrongly here. Please open an issue if you find any such cases.\n",
      "\n",
      "\n",
      "[18:12:14] WARNING: C:/Users/Administrator/workspace/xgboost-win64_release_1.6.0/src/learner.cc:627: \n",
      "Parameters: { \"num_leaves\" } might not be used.\n",
      "\n",
      "  This could be a false alarm, with some parameters getting used by language bindings but\n",
      "  then being mistakenly passed down to XGBoost core, or some parameter actually being used\n",
      "  but getting flagged wrongly here. Please open an issue if you find any such cases.\n",
      "\n",
      "\n",
      "[18:12:15] WARNING: C:/Users/Administrator/workspace/xgboost-win64_release_1.6.0/src/learner.cc:627: \n",
      "Parameters: { \"num_leaves\" } might not be used.\n",
      "\n",
      "  This could be a false alarm, with some parameters getting used by language bindings but\n",
      "  then being mistakenly passed down to XGBoost core, or some parameter actually being used\n",
      "  but getting flagged wrongly here. Please open an issue if you find any such cases.\n",
      "\n",
      "\n"
     ]
    },
    {
     "name": "stderr",
     "output_type": "stream",
     "text": [
      "\u001b[32m[I 2022-08-27 18:12:15,592]\u001b[0m Trial 38 finished with value: 1.7764036356161585 and parameters: {'n_estimators': 1000, 'learning_rate': 0.24167290011001274, 'min_child_weigth': 7, 'max_depth': 38, 'subsample': 0.2849435951934122, 'colsample_bytree': 0.26865441643363236, 'colsample_bylevel': 0.5089867983498276, 'num_leaves': 33476, 'lambda_l2': 53, 'lambda_l1': 0, 'min_gain_to_split': 0.3827377552811877, 'scale_pos_weight': 226.58809810694495}. Best is trial 26 with value: 1.1763986195005263.\u001b[0m\n",
      "c:\\Users\\Daniel\\cyanobacteria-monitoring\\venv\\lib\\site-packages\\optuna\\distributions.py:560: UserWarning:\n",
      "\n",
      "The distribution is specified by [1e-09, 100] and step=1, but the range is not divisible by `step`. It will be replaced by [1e-09, 99.000000001].\n",
      "\n"
     ]
    },
    {
     "name": "stdout",
     "output_type": "stream",
     "text": [
      "[18:12:15] WARNING: C:/Users/Administrator/workspace/xgboost-win64_release_1.6.0/src/learner.cc:627: \n",
      "Parameters: { \"num_leaves\" } might not be used.\n",
      "\n",
      "  This could be a false alarm, with some parameters getting used by language bindings but\n",
      "  then being mistakenly passed down to XGBoost core, or some parameter actually being used\n",
      "  but getting flagged wrongly here. Please open an issue if you find any such cases.\n",
      "\n",
      "\n",
      "[18:12:16] WARNING: C:/Users/Administrator/workspace/xgboost-win64_release_1.6.0/src/learner.cc:627: \n",
      "Parameters: { \"num_leaves\" } might not be used.\n",
      "\n",
      "  This could be a false alarm, with some parameters getting used by language bindings but\n",
      "  then being mistakenly passed down to XGBoost core, or some parameter actually being used\n",
      "  but getting flagged wrongly here. Please open an issue if you find any such cases.\n",
      "\n",
      "\n",
      "[18:12:16] WARNING: C:/Users/Administrator/workspace/xgboost-win64_release_1.6.0/src/learner.cc:627: \n",
      "Parameters: { \"num_leaves\" } might not be used.\n",
      "\n",
      "  This could be a false alarm, with some parameters getting used by language bindings but\n",
      "  then being mistakenly passed down to XGBoost core, or some parameter actually being used\n",
      "  but getting flagged wrongly here. Please open an issue if you find any such cases.\n",
      "\n",
      "\n"
     ]
    },
    {
     "name": "stderr",
     "output_type": "stream",
     "text": [
      "\u001b[32m[I 2022-08-27 18:12:17,173]\u001b[0m Trial 39 finished with value: 1.8081622068266074 and parameters: {'n_estimators': 1000, 'learning_rate': 0.3819419320397134, 'min_child_weigth': 2, 'max_depth': 40, 'subsample': 0.47411239315123593, 'colsample_bytree': 0.7165199870555019, 'colsample_bylevel': 0.7690921086404713, 'num_leaves': 15976, 'lambda_l2': 19, 'lambda_l1': 51, 'min_gain_to_split': 0.00325057046734481, 'scale_pos_weight': 266.5950708663896}. Best is trial 26 with value: 1.1763986195005263.\u001b[0m\n",
      "c:\\Users\\Daniel\\cyanobacteria-monitoring\\venv\\lib\\site-packages\\optuna\\distributions.py:560: UserWarning:\n",
      "\n",
      "The distribution is specified by [1e-09, 100] and step=1, but the range is not divisible by `step`. It will be replaced by [1e-09, 99.000000001].\n",
      "\n"
     ]
    },
    {
     "name": "stdout",
     "output_type": "stream",
     "text": [
      "[18:12:17] WARNING: C:/Users/Administrator/workspace/xgboost-win64_release_1.6.0/src/learner.cc:627: \n",
      "Parameters: { \"num_leaves\" } might not be used.\n",
      "\n",
      "  This could be a false alarm, with some parameters getting used by language bindings but\n",
      "  then being mistakenly passed down to XGBoost core, or some parameter actually being used\n",
      "  but getting flagged wrongly here. Please open an issue if you find any such cases.\n",
      "\n",
      "\n",
      "[18:12:17] WARNING: C:/Users/Administrator/workspace/xgboost-win64_release_1.6.0/src/learner.cc:627: \n",
      "Parameters: { \"num_leaves\" } might not be used.\n",
      "\n",
      "  This could be a false alarm, with some parameters getting used by language bindings but\n",
      "  then being mistakenly passed down to XGBoost core, or some parameter actually being used\n",
      "  but getting flagged wrongly here. Please open an issue if you find any such cases.\n",
      "\n",
      "\n",
      "[18:12:18] WARNING: C:/Users/Administrator/workspace/xgboost-win64_release_1.6.0/src/learner.cc:627: \n",
      "Parameters: { \"num_leaves\" } might not be used.\n",
      "\n",
      "  This could be a false alarm, with some parameters getting used by language bindings but\n",
      "  then being mistakenly passed down to XGBoost core, or some parameter actually being used\n",
      "  but getting flagged wrongly here. Please open an issue if you find any such cases.\n",
      "\n",
      "\n"
     ]
    },
    {
     "name": "stderr",
     "output_type": "stream",
     "text": [
      "\u001b[32m[I 2022-08-27 18:12:18,641]\u001b[0m Trial 40 finished with value: 1.8081622068266074 and parameters: {'n_estimators': 1000, 'learning_rate': 0.9684638458090293, 'min_child_weigth': 1, 'max_depth': 43, 'subsample': 0.37886319333042207, 'colsample_bytree': 0.5743935610296016, 'colsample_bylevel': 0.6886332235931532, 'num_leaves': 43376, 'lambda_l2': 79, 'lambda_l1': 32, 'min_gain_to_split': 0.18859319982032155, 'scale_pos_weight': 314.494557718589}. Best is trial 26 with value: 1.1763986195005263.\u001b[0m\n",
      "c:\\Users\\Daniel\\cyanobacteria-monitoring\\venv\\lib\\site-packages\\optuna\\distributions.py:560: UserWarning:\n",
      "\n",
      "The distribution is specified by [1e-09, 100] and step=1, but the range is not divisible by `step`. It will be replaced by [1e-09, 99.000000001].\n",
      "\n"
     ]
    },
    {
     "name": "stdout",
     "output_type": "stream",
     "text": [
      "[18:12:18] WARNING: C:/Users/Administrator/workspace/xgboost-win64_release_1.6.0/src/learner.cc:627: \n",
      "Parameters: { \"num_leaves\" } might not be used.\n",
      "\n",
      "  This could be a false alarm, with some parameters getting used by language bindings but\n",
      "  then being mistakenly passed down to XGBoost core, or some parameter actually being used\n",
      "  but getting flagged wrongly here. Please open an issue if you find any such cases.\n",
      "\n",
      "\n",
      "[18:12:19] WARNING: C:/Users/Administrator/workspace/xgboost-win64_release_1.6.0/src/learner.cc:627: \n",
      "Parameters: { \"num_leaves\" } might not be used.\n",
      "\n",
      "  This could be a false alarm, with some parameters getting used by language bindings but\n",
      "  then being mistakenly passed down to XGBoost core, or some parameter actually being used\n",
      "  but getting flagged wrongly here. Please open an issue if you find any such cases.\n",
      "\n",
      "\n",
      "[18:12:20] WARNING: C:/Users/Administrator/workspace/xgboost-win64_release_1.6.0/src/learner.cc:627: \n",
      "Parameters: { \"num_leaves\" } might not be used.\n",
      "\n",
      "  This could be a false alarm, with some parameters getting used by language bindings but\n",
      "  then being mistakenly passed down to XGBoost core, or some parameter actually being used\n",
      "  but getting flagged wrongly here. Please open an issue if you find any such cases.\n",
      "\n",
      "\n"
     ]
    },
    {
     "name": "stderr",
     "output_type": "stream",
     "text": [
      "\u001b[32m[I 2022-08-27 18:12:20,843]\u001b[0m Trial 41 finished with value: 1.603706486061699 and parameters: {'n_estimators': 1000, 'learning_rate': 0.3542354521272407, 'min_child_weigth': 4, 'max_depth': 36, 'subsample': 0.5999605919891895, 'colsample_bytree': 0.670234254898609, 'colsample_bylevel': 0.5851092198042779, 'num_leaves': 24096, 'lambda_l2': 62, 'lambda_l1': 0, 'min_gain_to_split': 0.16584726340053652, 'scale_pos_weight': 301.0794349363762}. Best is trial 26 with value: 1.1763986195005263.\u001b[0m\n",
      "c:\\Users\\Daniel\\cyanobacteria-monitoring\\venv\\lib\\site-packages\\optuna\\distributions.py:560: UserWarning:\n",
      "\n",
      "The distribution is specified by [1e-09, 100] and step=1, but the range is not divisible by `step`. It will be replaced by [1e-09, 99.000000001].\n",
      "\n"
     ]
    },
    {
     "name": "stdout",
     "output_type": "stream",
     "text": [
      "[18:12:20] WARNING: C:/Users/Administrator/workspace/xgboost-win64_release_1.6.0/src/learner.cc:627: \n",
      "Parameters: { \"num_leaves\" } might not be used.\n",
      "\n",
      "  This could be a false alarm, with some parameters getting used by language bindings but\n",
      "  then being mistakenly passed down to XGBoost core, or some parameter actually being used\n",
      "  but getting flagged wrongly here. Please open an issue if you find any such cases.\n",
      "\n",
      "\n",
      "[18:12:21] WARNING: C:/Users/Administrator/workspace/xgboost-win64_release_1.6.0/src/learner.cc:627: \n",
      "Parameters: { \"num_leaves\" } might not be used.\n",
      "\n",
      "  This could be a false alarm, with some parameters getting used by language bindings but\n",
      "  then being mistakenly passed down to XGBoost core, or some parameter actually being used\n",
      "  but getting flagged wrongly here. Please open an issue if you find any such cases.\n",
      "\n",
      "\n",
      "[18:12:22] WARNING: C:/Users/Administrator/workspace/xgboost-win64_release_1.6.0/src/learner.cc:627: \n",
      "Parameters: { \"num_leaves\" } might not be used.\n",
      "\n",
      "  This could be a false alarm, with some parameters getting used by language bindings but\n",
      "  then being mistakenly passed down to XGBoost core, or some parameter actually being used\n",
      "  but getting flagged wrongly here. Please open an issue if you find any such cases.\n",
      "\n",
      "\n"
     ]
    },
    {
     "name": "stderr",
     "output_type": "stream",
     "text": [
      "\u001b[32m[I 2022-08-27 18:12:22,923]\u001b[0m Trial 42 finished with value: 1.1470220166393397 and parameters: {'n_estimators': 1000, 'learning_rate': 0.5409414565521509, 'min_child_weigth': 4, 'max_depth': 32, 'subsample': 0.8057465447688237, 'colsample_bytree': 0.7854617735000387, 'colsample_bylevel': 0.6210777163800008, 'num_leaves': 21036, 'lambda_l2': 67, 'lambda_l1': 5, 'min_gain_to_split': 0.0718009712229911, 'scale_pos_weight': 147.44995936428654}. Best is trial 42 with value: 1.1470220166393397.\u001b[0m\n",
      "c:\\Users\\Daniel\\cyanobacteria-monitoring\\venv\\lib\\site-packages\\optuna\\distributions.py:560: UserWarning:\n",
      "\n",
      "The distribution is specified by [1e-09, 100] and step=1, but the range is not divisible by `step`. It will be replaced by [1e-09, 99.000000001].\n",
      "\n"
     ]
    },
    {
     "name": "stdout",
     "output_type": "stream",
     "text": [
      "[18:12:23] WARNING: C:/Users/Administrator/workspace/xgboost-win64_release_1.6.0/src/learner.cc:627: \n",
      "Parameters: { \"num_leaves\" } might not be used.\n",
      "\n",
      "  This could be a false alarm, with some parameters getting used by language bindings but\n",
      "  then being mistakenly passed down to XGBoost core, or some parameter actually being used\n",
      "  but getting flagged wrongly here. Please open an issue if you find any such cases.\n",
      "\n",
      "\n",
      "[18:12:23] WARNING: C:/Users/Administrator/workspace/xgboost-win64_release_1.6.0/src/learner.cc:627: \n",
      "Parameters: { \"num_leaves\" } might not be used.\n",
      "\n",
      "  This could be a false alarm, with some parameters getting used by language bindings but\n",
      "  then being mistakenly passed down to XGBoost core, or some parameter actually being used\n",
      "  but getting flagged wrongly here. Please open an issue if you find any such cases.\n",
      "\n",
      "\n",
      "[18:12:24] WARNING: C:/Users/Administrator/workspace/xgboost-win64_release_1.6.0/src/learner.cc:627: \n",
      "Parameters: { \"num_leaves\" } might not be used.\n",
      "\n",
      "  This could be a false alarm, with some parameters getting used by language bindings but\n",
      "  then being mistakenly passed down to XGBoost core, or some parameter actually being used\n",
      "  but getting flagged wrongly here. Please open an issue if you find any such cases.\n",
      "\n",
      "\n"
     ]
    },
    {
     "name": "stderr",
     "output_type": "stream",
     "text": [
      "\u001b[32m[I 2022-08-27 18:12:24,885]\u001b[0m Trial 43 finished with value: 1.2644795089216563 and parameters: {'n_estimators': 1000, 'learning_rate': 0.6744424092672154, 'min_child_weigth': 6, 'max_depth': 32, 'subsample': 0.8214208382594848, 'colsample_bytree': 0.7764203542451058, 'colsample_bylevel': 0.536314803417354, 'num_leaves': 8776, 'lambda_l2': 68, 'lambda_l1': 6, 'min_gain_to_split': 0.06908540497979773, 'scale_pos_weight': 151.6769299650241}. Best is trial 42 with value: 1.1470220166393397.\u001b[0m\n",
      "c:\\Users\\Daniel\\cyanobacteria-monitoring\\venv\\lib\\site-packages\\optuna\\distributions.py:560: UserWarning:\n",
      "\n",
      "The distribution is specified by [1e-09, 100] and step=1, but the range is not divisible by `step`. It will be replaced by [1e-09, 99.000000001].\n",
      "\n"
     ]
    },
    {
     "name": "stdout",
     "output_type": "stream",
     "text": [
      "[18:12:25] WARNING: C:/Users/Administrator/workspace/xgboost-win64_release_1.6.0/src/learner.cc:627: \n",
      "Parameters: { \"num_leaves\" } might not be used.\n",
      "\n",
      "  This could be a false alarm, with some parameters getting used by language bindings but\n",
      "  then being mistakenly passed down to XGBoost core, or some parameter actually being used\n",
      "  but getting flagged wrongly here. Please open an issue if you find any such cases.\n",
      "\n",
      "\n",
      "[18:12:25] WARNING: C:/Users/Administrator/workspace/xgboost-win64_release_1.6.0/src/learner.cc:627: \n",
      "Parameters: { \"num_leaves\" } might not be used.\n",
      "\n",
      "  This could be a false alarm, with some parameters getting used by language bindings but\n",
      "  then being mistakenly passed down to XGBoost core, or some parameter actually being used\n",
      "  but getting flagged wrongly here. Please open an issue if you find any such cases.\n",
      "\n",
      "\n",
      "[18:12:26] WARNING: C:/Users/Administrator/workspace/xgboost-win64_release_1.6.0/src/learner.cc:627: \n",
      "Parameters: { \"num_leaves\" } might not be used.\n",
      "\n",
      "  This could be a false alarm, with some parameters getting used by language bindings but\n",
      "  then being mistakenly passed down to XGBoost core, or some parameter actually being used\n",
      "  but getting flagged wrongly here. Please open an issue if you find any such cases.\n",
      "\n",
      "\n"
     ]
    },
    {
     "name": "stderr",
     "output_type": "stream",
     "text": [
      "\u001b[32m[I 2022-08-27 18:12:27,084]\u001b[0m Trial 44 finished with value: 1.2912044254779491 and parameters: {'n_estimators': 1000, 'learning_rate': 0.7344237329395489, 'min_child_weigth': 7, 'max_depth': 24, 'subsample': 0.8587192575819275, 'colsample_bytree': 0.7801383780517342, 'colsample_bylevel': 0.4765934211936401, 'num_leaves': 31476, 'lambda_l2': 54, 'lambda_l1': 6, 'min_gain_to_split': 0.065759601443289, 'scale_pos_weight': 157.61400099306843}. Best is trial 42 with value: 1.1470220166393397.\u001b[0m\n",
      "c:\\Users\\Daniel\\cyanobacteria-monitoring\\venv\\lib\\site-packages\\optuna\\distributions.py:560: UserWarning:\n",
      "\n",
      "The distribution is specified by [1e-09, 100] and step=1, but the range is not divisible by `step`. It will be replaced by [1e-09, 99.000000001].\n",
      "\n"
     ]
    },
    {
     "name": "stdout",
     "output_type": "stream",
     "text": [
      "[18:12:27] WARNING: C:/Users/Administrator/workspace/xgboost-win64_release_1.6.0/src/learner.cc:627: \n",
      "Parameters: { \"num_leaves\" } might not be used.\n",
      "\n",
      "  This could be a false alarm, with some parameters getting used by language bindings but\n",
      "  then being mistakenly passed down to XGBoost core, or some parameter actually being used\n",
      "  but getting flagged wrongly here. Please open an issue if you find any such cases.\n",
      "\n",
      "\n",
      "[18:12:27] WARNING: C:/Users/Administrator/workspace/xgboost-win64_release_1.6.0/src/learner.cc:627: \n",
      "Parameters: { \"num_leaves\" } might not be used.\n",
      "\n",
      "  This could be a false alarm, with some parameters getting used by language bindings but\n",
      "  then being mistakenly passed down to XGBoost core, or some parameter actually being used\n",
      "  but getting flagged wrongly here. Please open an issue if you find any such cases.\n",
      "\n",
      "\n",
      "[18:12:28] WARNING: C:/Users/Administrator/workspace/xgboost-win64_release_1.6.0/src/learner.cc:627: \n",
      "Parameters: { \"num_leaves\" } might not be used.\n",
      "\n",
      "  This could be a false alarm, with some parameters getting used by language bindings but\n",
      "  then being mistakenly passed down to XGBoost core, or some parameter actually being used\n",
      "  but getting flagged wrongly here. Please open an issue if you find any such cases.\n",
      "\n",
      "\n"
     ]
    },
    {
     "name": "stderr",
     "output_type": "stream",
     "text": [
      "\u001b[32m[I 2022-08-27 18:12:29,200]\u001b[0m Trial 45 finished with value: 1.9199124560399743 and parameters: {'n_estimators': 1000, 'learning_rate': 0.6637306913617325, 'min_child_weigth': 6, 'max_depth': 31, 'subsample': 0.9988309596683391, 'colsample_bytree': 0.7105994751379667, 'colsample_bylevel': 0.429001372272726, 'num_leaves': 7776, 'lambda_l2': 68, 'lambda_l1': 14, 'min_gain_to_split': 0.049849865336627, 'scale_pos_weight': 138.40442774612558}. Best is trial 42 with value: 1.1470220166393397.\u001b[0m\n",
      "c:\\Users\\Daniel\\cyanobacteria-monitoring\\venv\\lib\\site-packages\\optuna\\distributions.py:560: UserWarning:\n",
      "\n",
      "The distribution is specified by [1e-09, 100] and step=1, but the range is not divisible by `step`. It will be replaced by [1e-09, 99.000000001].\n",
      "\n"
     ]
    },
    {
     "name": "stdout",
     "output_type": "stream",
     "text": [
      "[18:12:29] WARNING: C:/Users/Administrator/workspace/xgboost-win64_release_1.6.0/src/learner.cc:627: \n",
      "Parameters: { \"num_leaves\" } might not be used.\n",
      "\n",
      "  This could be a false alarm, with some parameters getting used by language bindings but\n",
      "  then being mistakenly passed down to XGBoost core, or some parameter actually being used\n",
      "  but getting flagged wrongly here. Please open an issue if you find any such cases.\n",
      "\n",
      "\n",
      "[18:12:29] WARNING: C:/Users/Administrator/workspace/xgboost-win64_release_1.6.0/src/learner.cc:627: \n",
      "Parameters: { \"num_leaves\" } might not be used.\n",
      "\n",
      "  This could be a false alarm, with some parameters getting used by language bindings but\n",
      "  then being mistakenly passed down to XGBoost core, or some parameter actually being used\n",
      "  but getting flagged wrongly here. Please open an issue if you find any such cases.\n",
      "\n",
      "\n",
      "[18:12:30] WARNING: C:/Users/Administrator/workspace/xgboost-win64_release_1.6.0/src/learner.cc:627: \n",
      "Parameters: { \"num_leaves\" } might not be used.\n",
      "\n",
      "  This could be a false alarm, with some parameters getting used by language bindings but\n",
      "  then being mistakenly passed down to XGBoost core, or some parameter actually being used\n",
      "  but getting flagged wrongly here. Please open an issue if you find any such cases.\n",
      "\n",
      "\n"
     ]
    },
    {
     "name": "stderr",
     "output_type": "stream",
     "text": [
      "\u001b[32m[I 2022-08-27 18:12:31,065]\u001b[0m Trial 46 finished with value: 1.8120954923844115 and parameters: {'n_estimators': 1000, 'learning_rate': 0.8024595520854886, 'min_child_weigth': 5, 'max_depth': 28, 'subsample': 0.933829291866502, 'colsample_bytree': 0.7837800040251248, 'colsample_bylevel': 0.5249096263047376, 'num_leaves': 9576, 'lambda_l2': 69, 'lambda_l1': 21, 'min_gain_to_split': 0.07745719000914161, 'scale_pos_weight': 61.88283372846192}. Best is trial 42 with value: 1.1470220166393397.\u001b[0m\n",
      "c:\\Users\\Daniel\\cyanobacteria-monitoring\\venv\\lib\\site-packages\\optuna\\distributions.py:560: UserWarning:\n",
      "\n",
      "The distribution is specified by [1e-09, 100] and step=1, but the range is not divisible by `step`. It will be replaced by [1e-09, 99.000000001].\n",
      "\n"
     ]
    },
    {
     "name": "stdout",
     "output_type": "stream",
     "text": [
      "[18:12:31] WARNING: C:/Users/Administrator/workspace/xgboost-win64_release_1.6.0/src/learner.cc:627: \n",
      "Parameters: { \"num_leaves\" } might not be used.\n",
      "\n",
      "  This could be a false alarm, with some parameters getting used by language bindings but\n",
      "  then being mistakenly passed down to XGBoost core, or some parameter actually being used\n",
      "  but getting flagged wrongly here. Please open an issue if you find any such cases.\n",
      "\n",
      "\n",
      "[18:12:31] WARNING: C:/Users/Administrator/workspace/xgboost-win64_release_1.6.0/src/learner.cc:627: \n",
      "Parameters: { \"num_leaves\" } might not be used.\n",
      "\n",
      "  This could be a false alarm, with some parameters getting used by language bindings but\n",
      "  then being mistakenly passed down to XGBoost core, or some parameter actually being used\n",
      "  but getting flagged wrongly here. Please open an issue if you find any such cases.\n",
      "\n",
      "\n",
      "[18:12:32] WARNING: C:/Users/Administrator/workspace/xgboost-win64_release_1.6.0/src/learner.cc:627: \n",
      "Parameters: { \"num_leaves\" } might not be used.\n",
      "\n",
      "  This could be a false alarm, with some parameters getting used by language bindings but\n",
      "  then being mistakenly passed down to XGBoost core, or some parameter actually being used\n",
      "  but getting flagged wrongly here. Please open an issue if you find any such cases.\n",
      "\n",
      "\n"
     ]
    },
    {
     "name": "stderr",
     "output_type": "stream",
     "text": [
      "\u001b[32m[I 2022-08-27 18:12:32,847]\u001b[0m Trial 47 finished with value: 1.2740521031889995 and parameters: {'n_estimators': 1000, 'learning_rate': 0.5372497353608804, 'min_child_weigth': 6, 'max_depth': 22, 'subsample': 0.7621337007368627, 'colsample_bytree': 0.7232081846711338, 'colsample_bylevel': 0.5589616270924025, 'num_leaves': 20776, 'lambda_l2': 61, 'lambda_l1': 5, 'min_gain_to_split': 0.03568392128313911, 'scale_pos_weight': 112.24842236325338}. Best is trial 42 with value: 1.1470220166393397.\u001b[0m\n",
      "c:\\Users\\Daniel\\cyanobacteria-monitoring\\venv\\lib\\site-packages\\optuna\\distributions.py:560: UserWarning:\n",
      "\n",
      "The distribution is specified by [1e-09, 100] and step=1, but the range is not divisible by `step`. It will be replaced by [1e-09, 99.000000001].\n",
      "\n"
     ]
    },
    {
     "name": "stdout",
     "output_type": "stream",
     "text": [
      "[18:12:32] WARNING: C:/Users/Administrator/workspace/xgboost-win64_release_1.6.0/src/learner.cc:627: \n",
      "Parameters: { \"num_leaves\" } might not be used.\n",
      "\n",
      "  This could be a false alarm, with some parameters getting used by language bindings but\n",
      "  then being mistakenly passed down to XGBoost core, or some parameter actually being used\n",
      "  but getting flagged wrongly here. Please open an issue if you find any such cases.\n",
      "\n",
      "\n",
      "[18:12:33] WARNING: C:/Users/Administrator/workspace/xgboost-win64_release_1.6.0/src/learner.cc:627: \n",
      "Parameters: { \"num_leaves\" } might not be used.\n",
      "\n",
      "  This could be a false alarm, with some parameters getting used by language bindings but\n",
      "  then being mistakenly passed down to XGBoost core, or some parameter actually being used\n",
      "  but getting flagged wrongly here. Please open an issue if you find any such cases.\n",
      "\n",
      "\n",
      "[18:12:34] WARNING: C:/Users/Administrator/workspace/xgboost-win64_release_1.6.0/src/learner.cc:627: \n",
      "Parameters: { \"num_leaves\" } might not be used.\n",
      "\n",
      "  This could be a false alarm, with some parameters getting used by language bindings but\n",
      "  then being mistakenly passed down to XGBoost core, or some parameter actually being used\n",
      "  but getting flagged wrongly here. Please open an issue if you find any such cases.\n",
      "\n",
      "\n"
     ]
    },
    {
     "name": "stderr",
     "output_type": "stream",
     "text": [
      "\u001b[32m[I 2022-08-27 18:12:34,592]\u001b[0m Trial 48 finished with value: 1.1244175424875673 and parameters: {'n_estimators': 1000, 'learning_rate': 0.5289870001243008, 'min_child_weigth': 8, 'max_depth': 16, 'subsample': 0.7989955238950287, 'colsample_bytree': 0.940169248271379, 'colsample_bylevel': 0.40301969074782595, 'num_leaves': 35876, 'lambda_l2': 76, 'lambda_l1': 5, 'min_gain_to_split': 0.030750040500424965, 'scale_pos_weight': 85.35389688127495}. Best is trial 48 with value: 1.1244175424875673.\u001b[0m\n",
      "c:\\Users\\Daniel\\cyanobacteria-monitoring\\venv\\lib\\site-packages\\optuna\\distributions.py:560: UserWarning:\n",
      "\n",
      "The distribution is specified by [1e-09, 100] and step=1, but the range is not divisible by `step`. It will be replaced by [1e-09, 99.000000001].\n",
      "\n"
     ]
    },
    {
     "name": "stdout",
     "output_type": "stream",
     "text": [
      "[18:12:34] WARNING: C:/Users/Administrator/workspace/xgboost-win64_release_1.6.0/src/learner.cc:627: \n",
      "Parameters: { \"num_leaves\" } might not be used.\n",
      "\n",
      "  This could be a false alarm, with some parameters getting used by language bindings but\n",
      "  then being mistakenly passed down to XGBoost core, or some parameter actually being used\n",
      "  but getting flagged wrongly here. Please open an issue if you find any such cases.\n",
      "\n",
      "\n",
      "[18:12:35] WARNING: C:/Users/Administrator/workspace/xgboost-win64_release_1.6.0/src/learner.cc:627: \n",
      "Parameters: { \"num_leaves\" } might not be used.\n",
      "\n",
      "  This could be a false alarm, with some parameters getting used by language bindings but\n",
      "  then being mistakenly passed down to XGBoost core, or some parameter actually being used\n",
      "  but getting flagged wrongly here. Please open an issue if you find any such cases.\n",
      "\n",
      "\n",
      "[18:12:35] WARNING: C:/Users/Administrator/workspace/xgboost-win64_release_1.6.0/src/learner.cc:627: \n",
      "Parameters: { \"num_leaves\" } might not be used.\n",
      "\n",
      "  This could be a false alarm, with some parameters getting used by language bindings but\n",
      "  then being mistakenly passed down to XGBoost core, or some parameter actually being used\n",
      "  but getting flagged wrongly here. Please open an issue if you find any such cases.\n",
      "\n",
      "\n"
     ]
    },
    {
     "name": "stderr",
     "output_type": "stream",
     "text": [
      "\u001b[32m[I 2022-08-27 18:12:36,225]\u001b[0m Trial 49 finished with value: 2.0176808511194406 and parameters: {'n_estimators': 1000, 'learning_rate': 0.6663147101057207, 'min_child_weigth': 10, 'max_depth': 6, 'subsample': 0.8361320702600631, 'colsample_bytree': 0.9489048983138414, 'colsample_bylevel': 0.3155737127199245, 'num_leaves': 48056, 'lambda_l2': 86, 'lambda_l1': 12, 'min_gain_to_split': 0.022174008424312795, 'scale_pos_weight': 79.2167285968666}. Best is trial 48 with value: 1.1244175424875673.\u001b[0m\n"
     ]
    }
   ],
   "source": [
    "from sklearn.metrics import mean_absolute_percentage_error\n",
    "\n",
    "RANDOM = 42\n",
    "\n",
    "def objective_xgb(trial, X, y):\n",
    "\n",
    "    param_grid = {\n",
    "        \"n_estimators\": trial.suggest_categorical(\"n_estimators\", [1000]),\n",
    "        \"learning_rate\": trial.suggest_float(\"learning_rate\", 0.01, 1),\n",
    "        \"min_child_weight\": trial.suggest_int(\"min_child_weigth\", 1, 10),\n",
    "        \"max_depth\": trial.suggest_int(\"max_depth\", 1, 50),\n",
    "        \"subsample\": trial.suggest_float(\"subsample\", .1, 1),\n",
    "        \"colsample_bytree\": trial.suggest_float(\"colsample_bytree\", .1, 1),\n",
    "        \"colsample_bylevel\": trial.suggest_float(\"colsample_bylevel\", .1, 1),\n",
    "        \"num_leaves\": trial.suggest_int(\"num_leaves\", 2**12, 2**16, step=20), \n",
    "        \"reg_lambda\": trial.suggest_int(\"lambda_l2\", 1e-9, 100),\n",
    "        \"reg_alpha\": trial.suggest_int(\"lambda_l1\", 1e-9, 100),\n",
    "        \"gamma\": trial.suggest_float(\"min_gain_to_split\", 1e-9, .5),\n",
    "        \"scale_pos_weight\": trial.suggest_float(\"scale_pos_weight\", 1e-6, 500),\n",
    "        \"random_state\": RANDOM\n",
    "        }\n",
    "\n",
    "    cv = KFold(n_splits=3, random_state=RANDOM, shuffle=True)\n",
    "    cv_scores = []\n",
    "\n",
    "    xgb = xgboost.XGBRegressor(**param_grid)\n",
    "\n",
    "    poly = PolynomialFeatures(degree=3, include_bias=False)\n",
    "\n",
    "    poly_reg = Pipeline([\n",
    "        (\"poly\", poly),\n",
    "        (\"regressor\", xgb)\n",
    "    ])\n",
    "\n",
    "    model = TransformedTargetRegressor(\n",
    "        regressor = poly_reg,\n",
    "        transformer=PowerTransformer(method=\"yeo-johnson\")\n",
    "        )\n",
    "    \n",
    "    for (train_index, val_index) in cv.split(X, y):\n",
    "        X_train, X_val = X.iloc[train_index], X.iloc[val_index]\n",
    "        y_train, y_val = y.iloc[train_index], y.iloc[val_index]    \n",
    "\n",
    "        model.fit(\n",
    "            X_train,\n",
    "            y_train\n",
    "        )\n",
    "\n",
    "        preds = model.predict(X_val)\n",
    "        cv_scores.append(mean_absolute_percentage_error(preds, y_val))\n",
    "    \n",
    "    return np.median(cv_scores)\n",
    "\n",
    "study_xgb = optuna.create_study(direction=\"minimize\", study_name=\"XGBoost Regression\")\n",
    "func_xgb = lambda trial: objective_xgb(trial, X_train, y_train)\n",
    "study_xgb.optimize(func_xgb, n_trials=50)"
   ]
  },
  {
   "cell_type": "code",
   "execution_count": 148,
   "metadata": {},
   "outputs": [
    {
     "data": {
      "application/vnd.plotly.v1+json": {
       "config": {
        "plotlyServerURL": "https://plot.ly"
       },
       "data": [
        {
         "mode": "markers",
         "name": "Objective Value",
         "type": "scatter",
         "x": [
          0,
          1,
          2,
          3,
          4,
          5,
          6,
          7,
          8,
          9,
          10,
          11,
          12,
          13,
          14,
          15,
          16,
          17,
          18,
          19,
          20,
          21,
          22,
          23,
          24,
          25,
          26,
          27,
          28,
          29,
          30,
          31,
          32,
          33,
          34,
          35,
          36,
          37,
          38,
          39,
          40,
          41,
          42,
          43,
          44,
          45,
          46,
          47,
          48,
          49
         ],
         "y": [
          1.8081622068266074,
          1.8081622068266074,
          1.8081622068266074,
          1.8081622068266074,
          1.8081622068266074,
          1.8081622068266074,
          1.8081622068266074,
          1.8081622068266074,
          1.4418149769475688,
          1.8081622068266074,
          2.1281885746632465,
          1.5521467299028384,
          1.4911342758740724,
          1.8294990332875254,
          1.4435772359357182,
          2.440126559048544,
          1.8081622068266074,
          2.2340250813483706,
          1.8091052365168692,
          2.0545810281272363,
          1.8081622068266074,
          1.724636985662413,
          1.2379315193259377,
          1.8253189281094804,
          1.8258364418678736,
          3.385619284131134,
          1.1763986195005263,
          1.8386131384449511,
          1.8081622068266074,
          1.8081622068266074,
          1.990590622836753,
          1.2890866451078595,
          3.375783819268805,
          1.8081622068266074,
          2.200147669294467,
          1.8081622068266074,
          1.8081622068266074,
          2.012708881499727,
          1.7764036356161585,
          1.8081622068266074,
          1.8081622068266074,
          1.603706486061699,
          1.1470220166393397,
          1.2644795089216563,
          1.2912044254779491,
          1.9199124560399743,
          1.8120954923844115,
          1.2740521031889995,
          1.1244175424875673,
          2.0176808511194406
         ]
        },
        {
         "name": "Best Value",
         "type": "scatter",
         "x": [
          0,
          1,
          2,
          3,
          4,
          5,
          6,
          7,
          8,
          9,
          10,
          11,
          12,
          13,
          14,
          15,
          16,
          17,
          18,
          19,
          20,
          21,
          22,
          23,
          24,
          25,
          26,
          27,
          28,
          29,
          30,
          31,
          32,
          33,
          34,
          35,
          36,
          37,
          38,
          39,
          40,
          41,
          42,
          43,
          44,
          45,
          46,
          47,
          48,
          49
         ],
         "y": [
          1.8081622068266074,
          1.8081622068266074,
          1.8081622068266074,
          1.8081622068266074,
          1.8081622068266074,
          1.8081622068266074,
          1.8081622068266074,
          1.8081622068266074,
          1.4418149769475688,
          1.4418149769475688,
          1.4418149769475688,
          1.4418149769475688,
          1.4418149769475688,
          1.4418149769475688,
          1.4418149769475688,
          1.4418149769475688,
          1.4418149769475688,
          1.4418149769475688,
          1.4418149769475688,
          1.4418149769475688,
          1.4418149769475688,
          1.4418149769475688,
          1.2379315193259377,
          1.2379315193259377,
          1.2379315193259377,
          1.2379315193259377,
          1.1763986195005263,
          1.1763986195005263,
          1.1763986195005263,
          1.1763986195005263,
          1.1763986195005263,
          1.1763986195005263,
          1.1763986195005263,
          1.1763986195005263,
          1.1763986195005263,
          1.1763986195005263,
          1.1763986195005263,
          1.1763986195005263,
          1.1763986195005263,
          1.1763986195005263,
          1.1763986195005263,
          1.1763986195005263,
          1.1470220166393397,
          1.1470220166393397,
          1.1470220166393397,
          1.1470220166393397,
          1.1470220166393397,
          1.1470220166393397,
          1.1244175424875673,
          1.1244175424875673
         ]
        }
       ],
       "layout": {
        "template": {
         "data": {
          "bar": [
           {
            "error_x": {
             "color": "#2a3f5f"
            },
            "error_y": {
             "color": "#2a3f5f"
            },
            "marker": {
             "line": {
              "color": "#E5ECF6",
              "width": 0.5
             },
             "pattern": {
              "fillmode": "overlay",
              "size": 10,
              "solidity": 0.2
             }
            },
            "type": "bar"
           }
          ],
          "barpolar": [
           {
            "marker": {
             "line": {
              "color": "#E5ECF6",
              "width": 0.5
             },
             "pattern": {
              "fillmode": "overlay",
              "size": 10,
              "solidity": 0.2
             }
            },
            "type": "barpolar"
           }
          ],
          "carpet": [
           {
            "aaxis": {
             "endlinecolor": "#2a3f5f",
             "gridcolor": "white",
             "linecolor": "white",
             "minorgridcolor": "white",
             "startlinecolor": "#2a3f5f"
            },
            "baxis": {
             "endlinecolor": "#2a3f5f",
             "gridcolor": "white",
             "linecolor": "white",
             "minorgridcolor": "white",
             "startlinecolor": "#2a3f5f"
            },
            "type": "carpet"
           }
          ],
          "choropleth": [
           {
            "colorbar": {
             "outlinewidth": 0,
             "ticks": ""
            },
            "type": "choropleth"
           }
          ],
          "contour": [
           {
            "colorbar": {
             "outlinewidth": 0,
             "ticks": ""
            },
            "colorscale": [
             [
              0,
              "#0d0887"
             ],
             [
              0.1111111111111111,
              "#46039f"
             ],
             [
              0.2222222222222222,
              "#7201a8"
             ],
             [
              0.3333333333333333,
              "#9c179e"
             ],
             [
              0.4444444444444444,
              "#bd3786"
             ],
             [
              0.5555555555555556,
              "#d8576b"
             ],
             [
              0.6666666666666666,
              "#ed7953"
             ],
             [
              0.7777777777777778,
              "#fb9f3a"
             ],
             [
              0.8888888888888888,
              "#fdca26"
             ],
             [
              1,
              "#f0f921"
             ]
            ],
            "type": "contour"
           }
          ],
          "contourcarpet": [
           {
            "colorbar": {
             "outlinewidth": 0,
             "ticks": ""
            },
            "type": "contourcarpet"
           }
          ],
          "heatmap": [
           {
            "colorbar": {
             "outlinewidth": 0,
             "ticks": ""
            },
            "colorscale": [
             [
              0,
              "#0d0887"
             ],
             [
              0.1111111111111111,
              "#46039f"
             ],
             [
              0.2222222222222222,
              "#7201a8"
             ],
             [
              0.3333333333333333,
              "#9c179e"
             ],
             [
              0.4444444444444444,
              "#bd3786"
             ],
             [
              0.5555555555555556,
              "#d8576b"
             ],
             [
              0.6666666666666666,
              "#ed7953"
             ],
             [
              0.7777777777777778,
              "#fb9f3a"
             ],
             [
              0.8888888888888888,
              "#fdca26"
             ],
             [
              1,
              "#f0f921"
             ]
            ],
            "type": "heatmap"
           }
          ],
          "heatmapgl": [
           {
            "colorbar": {
             "outlinewidth": 0,
             "ticks": ""
            },
            "colorscale": [
             [
              0,
              "#0d0887"
             ],
             [
              0.1111111111111111,
              "#46039f"
             ],
             [
              0.2222222222222222,
              "#7201a8"
             ],
             [
              0.3333333333333333,
              "#9c179e"
             ],
             [
              0.4444444444444444,
              "#bd3786"
             ],
             [
              0.5555555555555556,
              "#d8576b"
             ],
             [
              0.6666666666666666,
              "#ed7953"
             ],
             [
              0.7777777777777778,
              "#fb9f3a"
             ],
             [
              0.8888888888888888,
              "#fdca26"
             ],
             [
              1,
              "#f0f921"
             ]
            ],
            "type": "heatmapgl"
           }
          ],
          "histogram": [
           {
            "marker": {
             "pattern": {
              "fillmode": "overlay",
              "size": 10,
              "solidity": 0.2
             }
            },
            "type": "histogram"
           }
          ],
          "histogram2d": [
           {
            "colorbar": {
             "outlinewidth": 0,
             "ticks": ""
            },
            "colorscale": [
             [
              0,
              "#0d0887"
             ],
             [
              0.1111111111111111,
              "#46039f"
             ],
             [
              0.2222222222222222,
              "#7201a8"
             ],
             [
              0.3333333333333333,
              "#9c179e"
             ],
             [
              0.4444444444444444,
              "#bd3786"
             ],
             [
              0.5555555555555556,
              "#d8576b"
             ],
             [
              0.6666666666666666,
              "#ed7953"
             ],
             [
              0.7777777777777778,
              "#fb9f3a"
             ],
             [
              0.8888888888888888,
              "#fdca26"
             ],
             [
              1,
              "#f0f921"
             ]
            ],
            "type": "histogram2d"
           }
          ],
          "histogram2dcontour": [
           {
            "colorbar": {
             "outlinewidth": 0,
             "ticks": ""
            },
            "colorscale": [
             [
              0,
              "#0d0887"
             ],
             [
              0.1111111111111111,
              "#46039f"
             ],
             [
              0.2222222222222222,
              "#7201a8"
             ],
             [
              0.3333333333333333,
              "#9c179e"
             ],
             [
              0.4444444444444444,
              "#bd3786"
             ],
             [
              0.5555555555555556,
              "#d8576b"
             ],
             [
              0.6666666666666666,
              "#ed7953"
             ],
             [
              0.7777777777777778,
              "#fb9f3a"
             ],
             [
              0.8888888888888888,
              "#fdca26"
             ],
             [
              1,
              "#f0f921"
             ]
            ],
            "type": "histogram2dcontour"
           }
          ],
          "mesh3d": [
           {
            "colorbar": {
             "outlinewidth": 0,
             "ticks": ""
            },
            "type": "mesh3d"
           }
          ],
          "parcoords": [
           {
            "line": {
             "colorbar": {
              "outlinewidth": 0,
              "ticks": ""
             }
            },
            "type": "parcoords"
           }
          ],
          "pie": [
           {
            "automargin": true,
            "type": "pie"
           }
          ],
          "scatter": [
           {
            "fillpattern": {
             "fillmode": "overlay",
             "size": 10,
             "solidity": 0.2
            },
            "type": "scatter"
           }
          ],
          "scatter3d": [
           {
            "line": {
             "colorbar": {
              "outlinewidth": 0,
              "ticks": ""
             }
            },
            "marker": {
             "colorbar": {
              "outlinewidth": 0,
              "ticks": ""
             }
            },
            "type": "scatter3d"
           }
          ],
          "scattercarpet": [
           {
            "marker": {
             "colorbar": {
              "outlinewidth": 0,
              "ticks": ""
             }
            },
            "type": "scattercarpet"
           }
          ],
          "scattergeo": [
           {
            "marker": {
             "colorbar": {
              "outlinewidth": 0,
              "ticks": ""
             }
            },
            "type": "scattergeo"
           }
          ],
          "scattergl": [
           {
            "marker": {
             "colorbar": {
              "outlinewidth": 0,
              "ticks": ""
             }
            },
            "type": "scattergl"
           }
          ],
          "scattermapbox": [
           {
            "marker": {
             "colorbar": {
              "outlinewidth": 0,
              "ticks": ""
             }
            },
            "type": "scattermapbox"
           }
          ],
          "scatterpolar": [
           {
            "marker": {
             "colorbar": {
              "outlinewidth": 0,
              "ticks": ""
             }
            },
            "type": "scatterpolar"
           }
          ],
          "scatterpolargl": [
           {
            "marker": {
             "colorbar": {
              "outlinewidth": 0,
              "ticks": ""
             }
            },
            "type": "scatterpolargl"
           }
          ],
          "scatterternary": [
           {
            "marker": {
             "colorbar": {
              "outlinewidth": 0,
              "ticks": ""
             }
            },
            "type": "scatterternary"
           }
          ],
          "surface": [
           {
            "colorbar": {
             "outlinewidth": 0,
             "ticks": ""
            },
            "colorscale": [
             [
              0,
              "#0d0887"
             ],
             [
              0.1111111111111111,
              "#46039f"
             ],
             [
              0.2222222222222222,
              "#7201a8"
             ],
             [
              0.3333333333333333,
              "#9c179e"
             ],
             [
              0.4444444444444444,
              "#bd3786"
             ],
             [
              0.5555555555555556,
              "#d8576b"
             ],
             [
              0.6666666666666666,
              "#ed7953"
             ],
             [
              0.7777777777777778,
              "#fb9f3a"
             ],
             [
              0.8888888888888888,
              "#fdca26"
             ],
             [
              1,
              "#f0f921"
             ]
            ],
            "type": "surface"
           }
          ],
          "table": [
           {
            "cells": {
             "fill": {
              "color": "#EBF0F8"
             },
             "line": {
              "color": "white"
             }
            },
            "header": {
             "fill": {
              "color": "#C8D4E3"
             },
             "line": {
              "color": "white"
             }
            },
            "type": "table"
           }
          ]
         },
         "layout": {
          "annotationdefaults": {
           "arrowcolor": "#2a3f5f",
           "arrowhead": 0,
           "arrowwidth": 1
          },
          "autotypenumbers": "strict",
          "coloraxis": {
           "colorbar": {
            "outlinewidth": 0,
            "ticks": ""
           }
          },
          "colorscale": {
           "diverging": [
            [
             0,
             "#8e0152"
            ],
            [
             0.1,
             "#c51b7d"
            ],
            [
             0.2,
             "#de77ae"
            ],
            [
             0.3,
             "#f1b6da"
            ],
            [
             0.4,
             "#fde0ef"
            ],
            [
             0.5,
             "#f7f7f7"
            ],
            [
             0.6,
             "#e6f5d0"
            ],
            [
             0.7,
             "#b8e186"
            ],
            [
             0.8,
             "#7fbc41"
            ],
            [
             0.9,
             "#4d9221"
            ],
            [
             1,
             "#276419"
            ]
           ],
           "sequential": [
            [
             0,
             "#0d0887"
            ],
            [
             0.1111111111111111,
             "#46039f"
            ],
            [
             0.2222222222222222,
             "#7201a8"
            ],
            [
             0.3333333333333333,
             "#9c179e"
            ],
            [
             0.4444444444444444,
             "#bd3786"
            ],
            [
             0.5555555555555556,
             "#d8576b"
            ],
            [
             0.6666666666666666,
             "#ed7953"
            ],
            [
             0.7777777777777778,
             "#fb9f3a"
            ],
            [
             0.8888888888888888,
             "#fdca26"
            ],
            [
             1,
             "#f0f921"
            ]
           ],
           "sequentialminus": [
            [
             0,
             "#0d0887"
            ],
            [
             0.1111111111111111,
             "#46039f"
            ],
            [
             0.2222222222222222,
             "#7201a8"
            ],
            [
             0.3333333333333333,
             "#9c179e"
            ],
            [
             0.4444444444444444,
             "#bd3786"
            ],
            [
             0.5555555555555556,
             "#d8576b"
            ],
            [
             0.6666666666666666,
             "#ed7953"
            ],
            [
             0.7777777777777778,
             "#fb9f3a"
            ],
            [
             0.8888888888888888,
             "#fdca26"
            ],
            [
             1,
             "#f0f921"
            ]
           ]
          },
          "colorway": [
           "#636efa",
           "#EF553B",
           "#00cc96",
           "#ab63fa",
           "#FFA15A",
           "#19d3f3",
           "#FF6692",
           "#B6E880",
           "#FF97FF",
           "#FECB52"
          ],
          "font": {
           "color": "#2a3f5f"
          },
          "geo": {
           "bgcolor": "white",
           "lakecolor": "white",
           "landcolor": "#E5ECF6",
           "showlakes": true,
           "showland": true,
           "subunitcolor": "white"
          },
          "hoverlabel": {
           "align": "left"
          },
          "hovermode": "closest",
          "mapbox": {
           "style": "light"
          },
          "paper_bgcolor": "white",
          "plot_bgcolor": "#E5ECF6",
          "polar": {
           "angularaxis": {
            "gridcolor": "white",
            "linecolor": "white",
            "ticks": ""
           },
           "bgcolor": "#E5ECF6",
           "radialaxis": {
            "gridcolor": "white",
            "linecolor": "white",
            "ticks": ""
           }
          },
          "scene": {
           "xaxis": {
            "backgroundcolor": "#E5ECF6",
            "gridcolor": "white",
            "gridwidth": 2,
            "linecolor": "white",
            "showbackground": true,
            "ticks": "",
            "zerolinecolor": "white"
           },
           "yaxis": {
            "backgroundcolor": "#E5ECF6",
            "gridcolor": "white",
            "gridwidth": 2,
            "linecolor": "white",
            "showbackground": true,
            "ticks": "",
            "zerolinecolor": "white"
           },
           "zaxis": {
            "backgroundcolor": "#E5ECF6",
            "gridcolor": "white",
            "gridwidth": 2,
            "linecolor": "white",
            "showbackground": true,
            "ticks": "",
            "zerolinecolor": "white"
           }
          },
          "shapedefaults": {
           "line": {
            "color": "#2a3f5f"
           }
          },
          "ternary": {
           "aaxis": {
            "gridcolor": "white",
            "linecolor": "white",
            "ticks": ""
           },
           "baxis": {
            "gridcolor": "white",
            "linecolor": "white",
            "ticks": ""
           },
           "bgcolor": "#E5ECF6",
           "caxis": {
            "gridcolor": "white",
            "linecolor": "white",
            "ticks": ""
           }
          },
          "title": {
           "x": 0.05
          },
          "xaxis": {
           "automargin": true,
           "gridcolor": "white",
           "linecolor": "white",
           "ticks": "",
           "title": {
            "standoff": 15
           },
           "zerolinecolor": "white",
           "zerolinewidth": 2
          },
          "yaxis": {
           "automargin": true,
           "gridcolor": "white",
           "linecolor": "white",
           "ticks": "",
           "title": {
            "standoff": 15
           },
           "zerolinecolor": "white",
           "zerolinewidth": 2
          }
         }
        },
        "title": {
         "text": "Optimization History Plot"
        },
        "xaxis": {
         "title": {
          "text": "#Trials"
         }
        },
        "yaxis": {
         "title": {
          "text": "Objective Value"
         }
        }
       }
      }
     },
     "metadata": {},
     "output_type": "display_data"
    }
   ],
   "source": [
    "plot_optimization_history(study_xgb)"
   ]
  },
  {
   "cell_type": "code",
   "execution_count": 149,
   "metadata": {},
   "outputs": [
    {
     "data": {
      "application/vnd.plotly.v1+json": {
       "config": {
        "plotlyServerURL": "https://plot.ly"
       },
       "data": [
        {
         "cliponaxis": false,
         "hovertemplate": [
          "n_estimators (CategoricalDistribution): 0.0<extra></extra>",
          "min_child_weigth (IntUniformDistribution): 0.0005756706171595853<extra></extra>",
          "learning_rate (UniformDistribution): 0.002082138111663251<extra></extra>",
          "max_depth (IntUniformDistribution): 0.0026067070015200924<extra></extra>",
          "colsample_bylevel (UniformDistribution): 0.007356600083902291<extra></extra>",
          "subsample (UniformDistribution): 0.012425479564026697<extra></extra>",
          "colsample_bytree (UniformDistribution): 0.01343215943054666<extra></extra>",
          "num_leaves (IntUniformDistribution): 0.01644595705621655<extra></extra>",
          "min_gain_to_split (UniformDistribution): 0.14293427293230676<extra></extra>",
          "lambda_l2 (IntUniformDistribution): 0.16578265126642275<extra></extra>",
          "scale_pos_weight (UniformDistribution): 0.20662271123724663<extra></extra>",
          "lambda_l1 (IntUniformDistribution): 0.4297356526989886<extra></extra>"
         ],
         "marker": {
          "color": "rgb(66,146,198)"
         },
         "orientation": "h",
         "text": [
          "0.0",
          "0.0005756706171595853",
          "0.002082138111663251",
          "0.0026067070015200924",
          "0.007356600083902291",
          "0.012425479564026697",
          "0.01343215943054666",
          "0.01644595705621655",
          "0.14293427293230676",
          "0.16578265126642275",
          "0.20662271123724663",
          "0.4297356526989886"
         ],
         "textposition": "outside",
         "texttemplate": "%{text:.2f}",
         "type": "bar",
         "x": [
          0,
          0.0005756706171595853,
          0.002082138111663251,
          0.0026067070015200924,
          0.007356600083902291,
          0.012425479564026697,
          0.01343215943054666,
          0.01644595705621655,
          0.14293427293230676,
          0.16578265126642275,
          0.20662271123724663,
          0.4297356526989886
         ],
         "y": [
          "n_estimators",
          "min_child_weigth",
          "learning_rate",
          "max_depth",
          "colsample_bylevel",
          "subsample",
          "colsample_bytree",
          "num_leaves",
          "min_gain_to_split",
          "lambda_l2",
          "scale_pos_weight",
          "lambda_l1"
         ]
        }
       ],
       "layout": {
        "showlegend": false,
        "template": {
         "data": {
          "bar": [
           {
            "error_x": {
             "color": "#2a3f5f"
            },
            "error_y": {
             "color": "#2a3f5f"
            },
            "marker": {
             "line": {
              "color": "#E5ECF6",
              "width": 0.5
             },
             "pattern": {
              "fillmode": "overlay",
              "size": 10,
              "solidity": 0.2
             }
            },
            "type": "bar"
           }
          ],
          "barpolar": [
           {
            "marker": {
             "line": {
              "color": "#E5ECF6",
              "width": 0.5
             },
             "pattern": {
              "fillmode": "overlay",
              "size": 10,
              "solidity": 0.2
             }
            },
            "type": "barpolar"
           }
          ],
          "carpet": [
           {
            "aaxis": {
             "endlinecolor": "#2a3f5f",
             "gridcolor": "white",
             "linecolor": "white",
             "minorgridcolor": "white",
             "startlinecolor": "#2a3f5f"
            },
            "baxis": {
             "endlinecolor": "#2a3f5f",
             "gridcolor": "white",
             "linecolor": "white",
             "minorgridcolor": "white",
             "startlinecolor": "#2a3f5f"
            },
            "type": "carpet"
           }
          ],
          "choropleth": [
           {
            "colorbar": {
             "outlinewidth": 0,
             "ticks": ""
            },
            "type": "choropleth"
           }
          ],
          "contour": [
           {
            "colorbar": {
             "outlinewidth": 0,
             "ticks": ""
            },
            "colorscale": [
             [
              0,
              "#0d0887"
             ],
             [
              0.1111111111111111,
              "#46039f"
             ],
             [
              0.2222222222222222,
              "#7201a8"
             ],
             [
              0.3333333333333333,
              "#9c179e"
             ],
             [
              0.4444444444444444,
              "#bd3786"
             ],
             [
              0.5555555555555556,
              "#d8576b"
             ],
             [
              0.6666666666666666,
              "#ed7953"
             ],
             [
              0.7777777777777778,
              "#fb9f3a"
             ],
             [
              0.8888888888888888,
              "#fdca26"
             ],
             [
              1,
              "#f0f921"
             ]
            ],
            "type": "contour"
           }
          ],
          "contourcarpet": [
           {
            "colorbar": {
             "outlinewidth": 0,
             "ticks": ""
            },
            "type": "contourcarpet"
           }
          ],
          "heatmap": [
           {
            "colorbar": {
             "outlinewidth": 0,
             "ticks": ""
            },
            "colorscale": [
             [
              0,
              "#0d0887"
             ],
             [
              0.1111111111111111,
              "#46039f"
             ],
             [
              0.2222222222222222,
              "#7201a8"
             ],
             [
              0.3333333333333333,
              "#9c179e"
             ],
             [
              0.4444444444444444,
              "#bd3786"
             ],
             [
              0.5555555555555556,
              "#d8576b"
             ],
             [
              0.6666666666666666,
              "#ed7953"
             ],
             [
              0.7777777777777778,
              "#fb9f3a"
             ],
             [
              0.8888888888888888,
              "#fdca26"
             ],
             [
              1,
              "#f0f921"
             ]
            ],
            "type": "heatmap"
           }
          ],
          "heatmapgl": [
           {
            "colorbar": {
             "outlinewidth": 0,
             "ticks": ""
            },
            "colorscale": [
             [
              0,
              "#0d0887"
             ],
             [
              0.1111111111111111,
              "#46039f"
             ],
             [
              0.2222222222222222,
              "#7201a8"
             ],
             [
              0.3333333333333333,
              "#9c179e"
             ],
             [
              0.4444444444444444,
              "#bd3786"
             ],
             [
              0.5555555555555556,
              "#d8576b"
             ],
             [
              0.6666666666666666,
              "#ed7953"
             ],
             [
              0.7777777777777778,
              "#fb9f3a"
             ],
             [
              0.8888888888888888,
              "#fdca26"
             ],
             [
              1,
              "#f0f921"
             ]
            ],
            "type": "heatmapgl"
           }
          ],
          "histogram": [
           {
            "marker": {
             "pattern": {
              "fillmode": "overlay",
              "size": 10,
              "solidity": 0.2
             }
            },
            "type": "histogram"
           }
          ],
          "histogram2d": [
           {
            "colorbar": {
             "outlinewidth": 0,
             "ticks": ""
            },
            "colorscale": [
             [
              0,
              "#0d0887"
             ],
             [
              0.1111111111111111,
              "#46039f"
             ],
             [
              0.2222222222222222,
              "#7201a8"
             ],
             [
              0.3333333333333333,
              "#9c179e"
             ],
             [
              0.4444444444444444,
              "#bd3786"
             ],
             [
              0.5555555555555556,
              "#d8576b"
             ],
             [
              0.6666666666666666,
              "#ed7953"
             ],
             [
              0.7777777777777778,
              "#fb9f3a"
             ],
             [
              0.8888888888888888,
              "#fdca26"
             ],
             [
              1,
              "#f0f921"
             ]
            ],
            "type": "histogram2d"
           }
          ],
          "histogram2dcontour": [
           {
            "colorbar": {
             "outlinewidth": 0,
             "ticks": ""
            },
            "colorscale": [
             [
              0,
              "#0d0887"
             ],
             [
              0.1111111111111111,
              "#46039f"
             ],
             [
              0.2222222222222222,
              "#7201a8"
             ],
             [
              0.3333333333333333,
              "#9c179e"
             ],
             [
              0.4444444444444444,
              "#bd3786"
             ],
             [
              0.5555555555555556,
              "#d8576b"
             ],
             [
              0.6666666666666666,
              "#ed7953"
             ],
             [
              0.7777777777777778,
              "#fb9f3a"
             ],
             [
              0.8888888888888888,
              "#fdca26"
             ],
             [
              1,
              "#f0f921"
             ]
            ],
            "type": "histogram2dcontour"
           }
          ],
          "mesh3d": [
           {
            "colorbar": {
             "outlinewidth": 0,
             "ticks": ""
            },
            "type": "mesh3d"
           }
          ],
          "parcoords": [
           {
            "line": {
             "colorbar": {
              "outlinewidth": 0,
              "ticks": ""
             }
            },
            "type": "parcoords"
           }
          ],
          "pie": [
           {
            "automargin": true,
            "type": "pie"
           }
          ],
          "scatter": [
           {
            "fillpattern": {
             "fillmode": "overlay",
             "size": 10,
             "solidity": 0.2
            },
            "type": "scatter"
           }
          ],
          "scatter3d": [
           {
            "line": {
             "colorbar": {
              "outlinewidth": 0,
              "ticks": ""
             }
            },
            "marker": {
             "colorbar": {
              "outlinewidth": 0,
              "ticks": ""
             }
            },
            "type": "scatter3d"
           }
          ],
          "scattercarpet": [
           {
            "marker": {
             "colorbar": {
              "outlinewidth": 0,
              "ticks": ""
             }
            },
            "type": "scattercarpet"
           }
          ],
          "scattergeo": [
           {
            "marker": {
             "colorbar": {
              "outlinewidth": 0,
              "ticks": ""
             }
            },
            "type": "scattergeo"
           }
          ],
          "scattergl": [
           {
            "marker": {
             "colorbar": {
              "outlinewidth": 0,
              "ticks": ""
             }
            },
            "type": "scattergl"
           }
          ],
          "scattermapbox": [
           {
            "marker": {
             "colorbar": {
              "outlinewidth": 0,
              "ticks": ""
             }
            },
            "type": "scattermapbox"
           }
          ],
          "scatterpolar": [
           {
            "marker": {
             "colorbar": {
              "outlinewidth": 0,
              "ticks": ""
             }
            },
            "type": "scatterpolar"
           }
          ],
          "scatterpolargl": [
           {
            "marker": {
             "colorbar": {
              "outlinewidth": 0,
              "ticks": ""
             }
            },
            "type": "scatterpolargl"
           }
          ],
          "scatterternary": [
           {
            "marker": {
             "colorbar": {
              "outlinewidth": 0,
              "ticks": ""
             }
            },
            "type": "scatterternary"
           }
          ],
          "surface": [
           {
            "colorbar": {
             "outlinewidth": 0,
             "ticks": ""
            },
            "colorscale": [
             [
              0,
              "#0d0887"
             ],
             [
              0.1111111111111111,
              "#46039f"
             ],
             [
              0.2222222222222222,
              "#7201a8"
             ],
             [
              0.3333333333333333,
              "#9c179e"
             ],
             [
              0.4444444444444444,
              "#bd3786"
             ],
             [
              0.5555555555555556,
              "#d8576b"
             ],
             [
              0.6666666666666666,
              "#ed7953"
             ],
             [
              0.7777777777777778,
              "#fb9f3a"
             ],
             [
              0.8888888888888888,
              "#fdca26"
             ],
             [
              1,
              "#f0f921"
             ]
            ],
            "type": "surface"
           }
          ],
          "table": [
           {
            "cells": {
             "fill": {
              "color": "#EBF0F8"
             },
             "line": {
              "color": "white"
             }
            },
            "header": {
             "fill": {
              "color": "#C8D4E3"
             },
             "line": {
              "color": "white"
             }
            },
            "type": "table"
           }
          ]
         },
         "layout": {
          "annotationdefaults": {
           "arrowcolor": "#2a3f5f",
           "arrowhead": 0,
           "arrowwidth": 1
          },
          "autotypenumbers": "strict",
          "coloraxis": {
           "colorbar": {
            "outlinewidth": 0,
            "ticks": ""
           }
          },
          "colorscale": {
           "diverging": [
            [
             0,
             "#8e0152"
            ],
            [
             0.1,
             "#c51b7d"
            ],
            [
             0.2,
             "#de77ae"
            ],
            [
             0.3,
             "#f1b6da"
            ],
            [
             0.4,
             "#fde0ef"
            ],
            [
             0.5,
             "#f7f7f7"
            ],
            [
             0.6,
             "#e6f5d0"
            ],
            [
             0.7,
             "#b8e186"
            ],
            [
             0.8,
             "#7fbc41"
            ],
            [
             0.9,
             "#4d9221"
            ],
            [
             1,
             "#276419"
            ]
           ],
           "sequential": [
            [
             0,
             "#0d0887"
            ],
            [
             0.1111111111111111,
             "#46039f"
            ],
            [
             0.2222222222222222,
             "#7201a8"
            ],
            [
             0.3333333333333333,
             "#9c179e"
            ],
            [
             0.4444444444444444,
             "#bd3786"
            ],
            [
             0.5555555555555556,
             "#d8576b"
            ],
            [
             0.6666666666666666,
             "#ed7953"
            ],
            [
             0.7777777777777778,
             "#fb9f3a"
            ],
            [
             0.8888888888888888,
             "#fdca26"
            ],
            [
             1,
             "#f0f921"
            ]
           ],
           "sequentialminus": [
            [
             0,
             "#0d0887"
            ],
            [
             0.1111111111111111,
             "#46039f"
            ],
            [
             0.2222222222222222,
             "#7201a8"
            ],
            [
             0.3333333333333333,
             "#9c179e"
            ],
            [
             0.4444444444444444,
             "#bd3786"
            ],
            [
             0.5555555555555556,
             "#d8576b"
            ],
            [
             0.6666666666666666,
             "#ed7953"
            ],
            [
             0.7777777777777778,
             "#fb9f3a"
            ],
            [
             0.8888888888888888,
             "#fdca26"
            ],
            [
             1,
             "#f0f921"
            ]
           ]
          },
          "colorway": [
           "#636efa",
           "#EF553B",
           "#00cc96",
           "#ab63fa",
           "#FFA15A",
           "#19d3f3",
           "#FF6692",
           "#B6E880",
           "#FF97FF",
           "#FECB52"
          ],
          "font": {
           "color": "#2a3f5f"
          },
          "geo": {
           "bgcolor": "white",
           "lakecolor": "white",
           "landcolor": "#E5ECF6",
           "showlakes": true,
           "showland": true,
           "subunitcolor": "white"
          },
          "hoverlabel": {
           "align": "left"
          },
          "hovermode": "closest",
          "mapbox": {
           "style": "light"
          },
          "paper_bgcolor": "white",
          "plot_bgcolor": "#E5ECF6",
          "polar": {
           "angularaxis": {
            "gridcolor": "white",
            "linecolor": "white",
            "ticks": ""
           },
           "bgcolor": "#E5ECF6",
           "radialaxis": {
            "gridcolor": "white",
            "linecolor": "white",
            "ticks": ""
           }
          },
          "scene": {
           "xaxis": {
            "backgroundcolor": "#E5ECF6",
            "gridcolor": "white",
            "gridwidth": 2,
            "linecolor": "white",
            "showbackground": true,
            "ticks": "",
            "zerolinecolor": "white"
           },
           "yaxis": {
            "backgroundcolor": "#E5ECF6",
            "gridcolor": "white",
            "gridwidth": 2,
            "linecolor": "white",
            "showbackground": true,
            "ticks": "",
            "zerolinecolor": "white"
           },
           "zaxis": {
            "backgroundcolor": "#E5ECF6",
            "gridcolor": "white",
            "gridwidth": 2,
            "linecolor": "white",
            "showbackground": true,
            "ticks": "",
            "zerolinecolor": "white"
           }
          },
          "shapedefaults": {
           "line": {
            "color": "#2a3f5f"
           }
          },
          "ternary": {
           "aaxis": {
            "gridcolor": "white",
            "linecolor": "white",
            "ticks": ""
           },
           "baxis": {
            "gridcolor": "white",
            "linecolor": "white",
            "ticks": ""
           },
           "bgcolor": "#E5ECF6",
           "caxis": {
            "gridcolor": "white",
            "linecolor": "white",
            "ticks": ""
           }
          },
          "title": {
           "x": 0.05
          },
          "xaxis": {
           "automargin": true,
           "gridcolor": "white",
           "linecolor": "white",
           "ticks": "",
           "title": {
            "standoff": 15
           },
           "zerolinecolor": "white",
           "zerolinewidth": 2
          },
          "yaxis": {
           "automargin": true,
           "gridcolor": "white",
           "linecolor": "white",
           "ticks": "",
           "title": {
            "standoff": 15
           },
           "zerolinecolor": "white",
           "zerolinewidth": 2
          }
         }
        },
        "title": {
         "text": "Hyperparameter Importances"
        },
        "xaxis": {
         "title": {
          "text": "Importance for Objective Value"
         }
        },
        "yaxis": {
         "title": {
          "text": "Hyperparameter"
         }
        }
       }
      }
     },
     "metadata": {},
     "output_type": "display_data"
    }
   ],
   "source": [
    "plot_param_importances(study_xgb)"
   ]
  },
  {
   "cell_type": "code",
   "execution_count": 150,
   "metadata": {},
   "outputs": [
    {
     "data": {
      "text/plain": [
       "{'n_estimators': 1000,\n",
       " 'learning_rate': 0.5289870001243008,\n",
       " 'min_child_weigth': 8,\n",
       " 'max_depth': 16,\n",
       " 'subsample': 0.7989955238950287,\n",
       " 'colsample_bytree': 0.940169248271379,\n",
       " 'colsample_bylevel': 0.40301969074782595,\n",
       " 'num_leaves': 35876,\n",
       " 'lambda_l2': 76,\n",
       " 'lambda_l1': 5,\n",
       " 'min_gain_to_split': 0.030750040500424965,\n",
       " 'scale_pos_weight': 85.35389688127495}"
      ]
     },
     "execution_count": 150,
     "metadata": {},
     "output_type": "execute_result"
    }
   ],
   "source": [
    "study_xgb.best_params"
   ]
  },
  {
   "cell_type": "code",
   "execution_count": 151,
   "metadata": {},
   "outputs": [
    {
     "data": {
      "text/plain": [
       "array([-17086.41525252,   -478.63838412,  -2857.60446042])"
      ]
     },
     "execution_count": 151,
     "metadata": {},
     "output_type": "execute_result"
    }
   ],
   "source": [
    "poly = PolynomialFeatures(degree=3, include_bias=False)\n",
    "\n",
    "xgb_best_params = {\n",
    "    'n_estimators': 1000,\n",
    "    'learning_rate': 0.5,\n",
    "    'max_depth': 16,\n",
    "    'subsample': 0.8,\n",
    "    'colsample_bytree': 0.9,\n",
    "    'colsample_bylevel': 0.4,\n",
    "    'scale_pos_weight': 85\n",
    "}\n",
    "\n",
    "reg = xgboost.XGBRegressor(**xgb_best_params)\n",
    "\n",
    "poly_reg = Pipeline([\n",
    "        (\"poly\", poly),\n",
    "        (\"regressor\", reg)\n",
    "    ])\n",
    "\n",
    "model = TransformedTargetRegressor(\n",
    "    regressor = poly_reg,\n",
    "    transformer=PowerTransformer(method=\"yeo-johnson\")\n",
    ")\n",
    "\n",
    "cross_val_score(model, X_train, y_train, cv=3, scoring=\"neg_mean_absolute_error\")"
   ]
  },
  {
   "cell_type": "code",
   "execution_count": 152,
   "metadata": {},
   "outputs": [
    {
     "data": {
      "application/vnd.plotly.v1+json": {
       "config": {
        "plotlyServerURL": "https://plot.ly"
       },
       "data": [
        {
         "hovertemplate": "x=%{x}<br>y=%{y}<extra></extra>",
         "legendgroup": "",
         "marker": {
          "color": "#636efa",
          "symbol": "circle"
         },
         "mode": "markers",
         "name": "",
         "orientation": "v",
         "showlegend": false,
         "type": "scatter",
         "x": [
          25589,
          1902,
          10457,
          25771,
          10373,
          10633,
          1841,
          1486,
          2166,
          2176,
          8,
          25590,
          364,
          25714,
          0,
          600
         ],
         "xaxis": "x",
         "y": [
          20008.23046875,
          2517.172119140625,
          10301.1845703125,
          19444.083984375,
          9020.009765625,
          10522.529296875,
          2082.509765625,
          10963.1904296875,
          2916.88623046875,
          1848.896484375,
          90.58855438232422,
          17944.484375,
          453.7572021484375,
          25586.42578125,
          242.32867431640625,
          124884.40625
         ],
         "yaxis": "y"
        }
       ],
       "layout": {
        "legend": {
         "tracegroupgap": 0
        },
        "margin": {
         "t": 60
        },
        "shapes": [
         {
          "type": "line",
          "x0": 0,
          "x1": 124884.40625,
          "y0": 0,
          "y1": 124884.40625
         }
        ],
        "template": {
         "data": {
          "bar": [
           {
            "error_x": {
             "color": "#2a3f5f"
            },
            "error_y": {
             "color": "#2a3f5f"
            },
            "marker": {
             "line": {
              "color": "#E5ECF6",
              "width": 0.5
             },
             "pattern": {
              "fillmode": "overlay",
              "size": 10,
              "solidity": 0.2
             }
            },
            "type": "bar"
           }
          ],
          "barpolar": [
           {
            "marker": {
             "line": {
              "color": "#E5ECF6",
              "width": 0.5
             },
             "pattern": {
              "fillmode": "overlay",
              "size": 10,
              "solidity": 0.2
             }
            },
            "type": "barpolar"
           }
          ],
          "carpet": [
           {
            "aaxis": {
             "endlinecolor": "#2a3f5f",
             "gridcolor": "white",
             "linecolor": "white",
             "minorgridcolor": "white",
             "startlinecolor": "#2a3f5f"
            },
            "baxis": {
             "endlinecolor": "#2a3f5f",
             "gridcolor": "white",
             "linecolor": "white",
             "minorgridcolor": "white",
             "startlinecolor": "#2a3f5f"
            },
            "type": "carpet"
           }
          ],
          "choropleth": [
           {
            "colorbar": {
             "outlinewidth": 0,
             "ticks": ""
            },
            "type": "choropleth"
           }
          ],
          "contour": [
           {
            "colorbar": {
             "outlinewidth": 0,
             "ticks": ""
            },
            "colorscale": [
             [
              0,
              "#0d0887"
             ],
             [
              0.1111111111111111,
              "#46039f"
             ],
             [
              0.2222222222222222,
              "#7201a8"
             ],
             [
              0.3333333333333333,
              "#9c179e"
             ],
             [
              0.4444444444444444,
              "#bd3786"
             ],
             [
              0.5555555555555556,
              "#d8576b"
             ],
             [
              0.6666666666666666,
              "#ed7953"
             ],
             [
              0.7777777777777778,
              "#fb9f3a"
             ],
             [
              0.8888888888888888,
              "#fdca26"
             ],
             [
              1,
              "#f0f921"
             ]
            ],
            "type": "contour"
           }
          ],
          "contourcarpet": [
           {
            "colorbar": {
             "outlinewidth": 0,
             "ticks": ""
            },
            "type": "contourcarpet"
           }
          ],
          "heatmap": [
           {
            "colorbar": {
             "outlinewidth": 0,
             "ticks": ""
            },
            "colorscale": [
             [
              0,
              "#0d0887"
             ],
             [
              0.1111111111111111,
              "#46039f"
             ],
             [
              0.2222222222222222,
              "#7201a8"
             ],
             [
              0.3333333333333333,
              "#9c179e"
             ],
             [
              0.4444444444444444,
              "#bd3786"
             ],
             [
              0.5555555555555556,
              "#d8576b"
             ],
             [
              0.6666666666666666,
              "#ed7953"
             ],
             [
              0.7777777777777778,
              "#fb9f3a"
             ],
             [
              0.8888888888888888,
              "#fdca26"
             ],
             [
              1,
              "#f0f921"
             ]
            ],
            "type": "heatmap"
           }
          ],
          "heatmapgl": [
           {
            "colorbar": {
             "outlinewidth": 0,
             "ticks": ""
            },
            "colorscale": [
             [
              0,
              "#0d0887"
             ],
             [
              0.1111111111111111,
              "#46039f"
             ],
             [
              0.2222222222222222,
              "#7201a8"
             ],
             [
              0.3333333333333333,
              "#9c179e"
             ],
             [
              0.4444444444444444,
              "#bd3786"
             ],
             [
              0.5555555555555556,
              "#d8576b"
             ],
             [
              0.6666666666666666,
              "#ed7953"
             ],
             [
              0.7777777777777778,
              "#fb9f3a"
             ],
             [
              0.8888888888888888,
              "#fdca26"
             ],
             [
              1,
              "#f0f921"
             ]
            ],
            "type": "heatmapgl"
           }
          ],
          "histogram": [
           {
            "marker": {
             "pattern": {
              "fillmode": "overlay",
              "size": 10,
              "solidity": 0.2
             }
            },
            "type": "histogram"
           }
          ],
          "histogram2d": [
           {
            "colorbar": {
             "outlinewidth": 0,
             "ticks": ""
            },
            "colorscale": [
             [
              0,
              "#0d0887"
             ],
             [
              0.1111111111111111,
              "#46039f"
             ],
             [
              0.2222222222222222,
              "#7201a8"
             ],
             [
              0.3333333333333333,
              "#9c179e"
             ],
             [
              0.4444444444444444,
              "#bd3786"
             ],
             [
              0.5555555555555556,
              "#d8576b"
             ],
             [
              0.6666666666666666,
              "#ed7953"
             ],
             [
              0.7777777777777778,
              "#fb9f3a"
             ],
             [
              0.8888888888888888,
              "#fdca26"
             ],
             [
              1,
              "#f0f921"
             ]
            ],
            "type": "histogram2d"
           }
          ],
          "histogram2dcontour": [
           {
            "colorbar": {
             "outlinewidth": 0,
             "ticks": ""
            },
            "colorscale": [
             [
              0,
              "#0d0887"
             ],
             [
              0.1111111111111111,
              "#46039f"
             ],
             [
              0.2222222222222222,
              "#7201a8"
             ],
             [
              0.3333333333333333,
              "#9c179e"
             ],
             [
              0.4444444444444444,
              "#bd3786"
             ],
             [
              0.5555555555555556,
              "#d8576b"
             ],
             [
              0.6666666666666666,
              "#ed7953"
             ],
             [
              0.7777777777777778,
              "#fb9f3a"
             ],
             [
              0.8888888888888888,
              "#fdca26"
             ],
             [
              1,
              "#f0f921"
             ]
            ],
            "type": "histogram2dcontour"
           }
          ],
          "mesh3d": [
           {
            "colorbar": {
             "outlinewidth": 0,
             "ticks": ""
            },
            "type": "mesh3d"
           }
          ],
          "parcoords": [
           {
            "line": {
             "colorbar": {
              "outlinewidth": 0,
              "ticks": ""
             }
            },
            "type": "parcoords"
           }
          ],
          "pie": [
           {
            "automargin": true,
            "type": "pie"
           }
          ],
          "scatter": [
           {
            "fillpattern": {
             "fillmode": "overlay",
             "size": 10,
             "solidity": 0.2
            },
            "type": "scatter"
           }
          ],
          "scatter3d": [
           {
            "line": {
             "colorbar": {
              "outlinewidth": 0,
              "ticks": ""
             }
            },
            "marker": {
             "colorbar": {
              "outlinewidth": 0,
              "ticks": ""
             }
            },
            "type": "scatter3d"
           }
          ],
          "scattercarpet": [
           {
            "marker": {
             "colorbar": {
              "outlinewidth": 0,
              "ticks": ""
             }
            },
            "type": "scattercarpet"
           }
          ],
          "scattergeo": [
           {
            "marker": {
             "colorbar": {
              "outlinewidth": 0,
              "ticks": ""
             }
            },
            "type": "scattergeo"
           }
          ],
          "scattergl": [
           {
            "marker": {
             "colorbar": {
              "outlinewidth": 0,
              "ticks": ""
             }
            },
            "type": "scattergl"
           }
          ],
          "scattermapbox": [
           {
            "marker": {
             "colorbar": {
              "outlinewidth": 0,
              "ticks": ""
             }
            },
            "type": "scattermapbox"
           }
          ],
          "scatterpolar": [
           {
            "marker": {
             "colorbar": {
              "outlinewidth": 0,
              "ticks": ""
             }
            },
            "type": "scatterpolar"
           }
          ],
          "scatterpolargl": [
           {
            "marker": {
             "colorbar": {
              "outlinewidth": 0,
              "ticks": ""
             }
            },
            "type": "scatterpolargl"
           }
          ],
          "scatterternary": [
           {
            "marker": {
             "colorbar": {
              "outlinewidth": 0,
              "ticks": ""
             }
            },
            "type": "scatterternary"
           }
          ],
          "surface": [
           {
            "colorbar": {
             "outlinewidth": 0,
             "ticks": ""
            },
            "colorscale": [
             [
              0,
              "#0d0887"
             ],
             [
              0.1111111111111111,
              "#46039f"
             ],
             [
              0.2222222222222222,
              "#7201a8"
             ],
             [
              0.3333333333333333,
              "#9c179e"
             ],
             [
              0.4444444444444444,
              "#bd3786"
             ],
             [
              0.5555555555555556,
              "#d8576b"
             ],
             [
              0.6666666666666666,
              "#ed7953"
             ],
             [
              0.7777777777777778,
              "#fb9f3a"
             ],
             [
              0.8888888888888888,
              "#fdca26"
             ],
             [
              1,
              "#f0f921"
             ]
            ],
            "type": "surface"
           }
          ],
          "table": [
           {
            "cells": {
             "fill": {
              "color": "#EBF0F8"
             },
             "line": {
              "color": "white"
             }
            },
            "header": {
             "fill": {
              "color": "#C8D4E3"
             },
             "line": {
              "color": "white"
             }
            },
            "type": "table"
           }
          ]
         },
         "layout": {
          "annotationdefaults": {
           "arrowcolor": "#2a3f5f",
           "arrowhead": 0,
           "arrowwidth": 1
          },
          "autotypenumbers": "strict",
          "coloraxis": {
           "colorbar": {
            "outlinewidth": 0,
            "ticks": ""
           }
          },
          "colorscale": {
           "diverging": [
            [
             0,
             "#8e0152"
            ],
            [
             0.1,
             "#c51b7d"
            ],
            [
             0.2,
             "#de77ae"
            ],
            [
             0.3,
             "#f1b6da"
            ],
            [
             0.4,
             "#fde0ef"
            ],
            [
             0.5,
             "#f7f7f7"
            ],
            [
             0.6,
             "#e6f5d0"
            ],
            [
             0.7,
             "#b8e186"
            ],
            [
             0.8,
             "#7fbc41"
            ],
            [
             0.9,
             "#4d9221"
            ],
            [
             1,
             "#276419"
            ]
           ],
           "sequential": [
            [
             0,
             "#0d0887"
            ],
            [
             0.1111111111111111,
             "#46039f"
            ],
            [
             0.2222222222222222,
             "#7201a8"
            ],
            [
             0.3333333333333333,
             "#9c179e"
            ],
            [
             0.4444444444444444,
             "#bd3786"
            ],
            [
             0.5555555555555556,
             "#d8576b"
            ],
            [
             0.6666666666666666,
             "#ed7953"
            ],
            [
             0.7777777777777778,
             "#fb9f3a"
            ],
            [
             0.8888888888888888,
             "#fdca26"
            ],
            [
             1,
             "#f0f921"
            ]
           ],
           "sequentialminus": [
            [
             0,
             "#0d0887"
            ],
            [
             0.1111111111111111,
             "#46039f"
            ],
            [
             0.2222222222222222,
             "#7201a8"
            ],
            [
             0.3333333333333333,
             "#9c179e"
            ],
            [
             0.4444444444444444,
             "#bd3786"
            ],
            [
             0.5555555555555556,
             "#d8576b"
            ],
            [
             0.6666666666666666,
             "#ed7953"
            ],
            [
             0.7777777777777778,
             "#fb9f3a"
            ],
            [
             0.8888888888888888,
             "#fdca26"
            ],
            [
             1,
             "#f0f921"
            ]
           ]
          },
          "colorway": [
           "#636efa",
           "#EF553B",
           "#00cc96",
           "#ab63fa",
           "#FFA15A",
           "#19d3f3",
           "#FF6692",
           "#B6E880",
           "#FF97FF",
           "#FECB52"
          ],
          "font": {
           "color": "#2a3f5f"
          },
          "geo": {
           "bgcolor": "white",
           "lakecolor": "white",
           "landcolor": "#E5ECF6",
           "showlakes": true,
           "showland": true,
           "subunitcolor": "white"
          },
          "hoverlabel": {
           "align": "left"
          },
          "hovermode": "closest",
          "mapbox": {
           "style": "light"
          },
          "paper_bgcolor": "white",
          "plot_bgcolor": "#E5ECF6",
          "polar": {
           "angularaxis": {
            "gridcolor": "white",
            "linecolor": "white",
            "ticks": ""
           },
           "bgcolor": "#E5ECF6",
           "radialaxis": {
            "gridcolor": "white",
            "linecolor": "white",
            "ticks": ""
           }
          },
          "scene": {
           "xaxis": {
            "backgroundcolor": "#E5ECF6",
            "gridcolor": "white",
            "gridwidth": 2,
            "linecolor": "white",
            "showbackground": true,
            "ticks": "",
            "zerolinecolor": "white"
           },
           "yaxis": {
            "backgroundcolor": "#E5ECF6",
            "gridcolor": "white",
            "gridwidth": 2,
            "linecolor": "white",
            "showbackground": true,
            "ticks": "",
            "zerolinecolor": "white"
           },
           "zaxis": {
            "backgroundcolor": "#E5ECF6",
            "gridcolor": "white",
            "gridwidth": 2,
            "linecolor": "white",
            "showbackground": true,
            "ticks": "",
            "zerolinecolor": "white"
           }
          },
          "shapedefaults": {
           "line": {
            "color": "#2a3f5f"
           }
          },
          "ternary": {
           "aaxis": {
            "gridcolor": "white",
            "linecolor": "white",
            "ticks": ""
           },
           "baxis": {
            "gridcolor": "white",
            "linecolor": "white",
            "ticks": ""
           },
           "bgcolor": "#E5ECF6",
           "caxis": {
            "gridcolor": "white",
            "linecolor": "white",
            "ticks": ""
           }
          },
          "title": {
           "x": 0.05
          },
          "xaxis": {
           "automargin": true,
           "gridcolor": "white",
           "linecolor": "white",
           "ticks": "",
           "title": {
            "standoff": 15
           },
           "zerolinecolor": "white",
           "zerolinewidth": 2
          },
          "yaxis": {
           "automargin": true,
           "gridcolor": "white",
           "linecolor": "white",
           "ticks": "",
           "title": {
            "standoff": 15
           },
           "zerolinecolor": "white",
           "zerolinewidth": 2
          }
         }
        },
        "xaxis": {
         "anchor": "y",
         "domain": [
          0,
          1
         ],
         "title": {
          "text": "x"
         }
        },
        "yaxis": {
         "anchor": "x",
         "domain": [
          0,
          1
         ],
         "title": {
          "text": "y"
         }
        }
       }
      }
     },
     "metadata": {},
     "output_type": "display_data"
    }
   ],
   "source": [
    "import plotly.express as px\n",
    "from sklearn.model_selection import train_test_split\n",
    "\n",
    "X_train_train, X_train_val, y_train_train, y_train_val = train_test_split(\n",
    "    X_train, y_train, test_size=.2, random_state=RANDOM\n",
    ")\n",
    "\n",
    "model.fit(X_train_train, y_train_train)\n",
    "y_pred_val = model.predict(X_train_val)\n",
    "\n",
    "fig = px.scatter(x = y_train_val, y = y_pred_val)\n",
    "fig.update_layout(shapes=[{\"type\": \"line\", \"y0\":0, \"y1\":max(y_pred_val), \"x0\":0, \"x1\": max(y_pred_val)}])\n"
   ]
  },
  {
   "cell_type": "code",
   "execution_count": 128,
   "metadata": {},
   "outputs": [
    {
     "data": {
      "application/vnd.plotly.v1+json": {
       "config": {
        "plotlyServerURL": "https://plot.ly"
       },
       "data": [
        {
         "hovertemplate": "x=%{x}<br>y=%{y}<extra></extra>",
         "legendgroup": "",
         "marker": {
          "color": "#636efa",
          "symbol": "circle"
         },
         "mode": "markers",
         "name": "",
         "orientation": "v",
         "showlegend": false,
         "type": "scatter",
         "x": [
          25589,
          1902,
          10457,
          25771,
          10373,
          10633,
          1841,
          1486,
          2166,
          2176,
          8,
          25590,
          364,
          25714,
          0,
          600
         ],
         "xaxis": "x",
         "y": [
          22954.5078125,
          1969.081787109375,
          9612.927734375,
          23717.39453125,
          9683.509765625,
          9888.958984375,
          2040.601806640625,
          4458.93212890625,
          2094.712158203125,
          2036.576416015625,
          118.07868194580078,
          19974.76171875,
          159.97866821289062,
          26755.896484375,
          148.41639709472656,
          610.4794921875
         ],
         "yaxis": "y"
        }
       ],
       "layout": {
        "legend": {
         "tracegroupgap": 0
        },
        "margin": {
         "t": 60
        },
        "shapes": [
         {
          "type": "line",
          "x0": 0,
          "x1": 26755.896484375,
          "y0": 0,
          "y1": 26755.896484375
         }
        ],
        "template": {
         "data": {
          "bar": [
           {
            "error_x": {
             "color": "#2a3f5f"
            },
            "error_y": {
             "color": "#2a3f5f"
            },
            "marker": {
             "line": {
              "color": "#E5ECF6",
              "width": 0.5
             },
             "pattern": {
              "fillmode": "overlay",
              "size": 10,
              "solidity": 0.2
             }
            },
            "type": "bar"
           }
          ],
          "barpolar": [
           {
            "marker": {
             "line": {
              "color": "#E5ECF6",
              "width": 0.5
             },
             "pattern": {
              "fillmode": "overlay",
              "size": 10,
              "solidity": 0.2
             }
            },
            "type": "barpolar"
           }
          ],
          "carpet": [
           {
            "aaxis": {
             "endlinecolor": "#2a3f5f",
             "gridcolor": "white",
             "linecolor": "white",
             "minorgridcolor": "white",
             "startlinecolor": "#2a3f5f"
            },
            "baxis": {
             "endlinecolor": "#2a3f5f",
             "gridcolor": "white",
             "linecolor": "white",
             "minorgridcolor": "white",
             "startlinecolor": "#2a3f5f"
            },
            "type": "carpet"
           }
          ],
          "choropleth": [
           {
            "colorbar": {
             "outlinewidth": 0,
             "ticks": ""
            },
            "type": "choropleth"
           }
          ],
          "contour": [
           {
            "colorbar": {
             "outlinewidth": 0,
             "ticks": ""
            },
            "colorscale": [
             [
              0,
              "#0d0887"
             ],
             [
              0.1111111111111111,
              "#46039f"
             ],
             [
              0.2222222222222222,
              "#7201a8"
             ],
             [
              0.3333333333333333,
              "#9c179e"
             ],
             [
              0.4444444444444444,
              "#bd3786"
             ],
             [
              0.5555555555555556,
              "#d8576b"
             ],
             [
              0.6666666666666666,
              "#ed7953"
             ],
             [
              0.7777777777777778,
              "#fb9f3a"
             ],
             [
              0.8888888888888888,
              "#fdca26"
             ],
             [
              1,
              "#f0f921"
             ]
            ],
            "type": "contour"
           }
          ],
          "contourcarpet": [
           {
            "colorbar": {
             "outlinewidth": 0,
             "ticks": ""
            },
            "type": "contourcarpet"
           }
          ],
          "heatmap": [
           {
            "colorbar": {
             "outlinewidth": 0,
             "ticks": ""
            },
            "colorscale": [
             [
              0,
              "#0d0887"
             ],
             [
              0.1111111111111111,
              "#46039f"
             ],
             [
              0.2222222222222222,
              "#7201a8"
             ],
             [
              0.3333333333333333,
              "#9c179e"
             ],
             [
              0.4444444444444444,
              "#bd3786"
             ],
             [
              0.5555555555555556,
              "#d8576b"
             ],
             [
              0.6666666666666666,
              "#ed7953"
             ],
             [
              0.7777777777777778,
              "#fb9f3a"
             ],
             [
              0.8888888888888888,
              "#fdca26"
             ],
             [
              1,
              "#f0f921"
             ]
            ],
            "type": "heatmap"
           }
          ],
          "heatmapgl": [
           {
            "colorbar": {
             "outlinewidth": 0,
             "ticks": ""
            },
            "colorscale": [
             [
              0,
              "#0d0887"
             ],
             [
              0.1111111111111111,
              "#46039f"
             ],
             [
              0.2222222222222222,
              "#7201a8"
             ],
             [
              0.3333333333333333,
              "#9c179e"
             ],
             [
              0.4444444444444444,
              "#bd3786"
             ],
             [
              0.5555555555555556,
              "#d8576b"
             ],
             [
              0.6666666666666666,
              "#ed7953"
             ],
             [
              0.7777777777777778,
              "#fb9f3a"
             ],
             [
              0.8888888888888888,
              "#fdca26"
             ],
             [
              1,
              "#f0f921"
             ]
            ],
            "type": "heatmapgl"
           }
          ],
          "histogram": [
           {
            "marker": {
             "pattern": {
              "fillmode": "overlay",
              "size": 10,
              "solidity": 0.2
             }
            },
            "type": "histogram"
           }
          ],
          "histogram2d": [
           {
            "colorbar": {
             "outlinewidth": 0,
             "ticks": ""
            },
            "colorscale": [
             [
              0,
              "#0d0887"
             ],
             [
              0.1111111111111111,
              "#46039f"
             ],
             [
              0.2222222222222222,
              "#7201a8"
             ],
             [
              0.3333333333333333,
              "#9c179e"
             ],
             [
              0.4444444444444444,
              "#bd3786"
             ],
             [
              0.5555555555555556,
              "#d8576b"
             ],
             [
              0.6666666666666666,
              "#ed7953"
             ],
             [
              0.7777777777777778,
              "#fb9f3a"
             ],
             [
              0.8888888888888888,
              "#fdca26"
             ],
             [
              1,
              "#f0f921"
             ]
            ],
            "type": "histogram2d"
           }
          ],
          "histogram2dcontour": [
           {
            "colorbar": {
             "outlinewidth": 0,
             "ticks": ""
            },
            "colorscale": [
             [
              0,
              "#0d0887"
             ],
             [
              0.1111111111111111,
              "#46039f"
             ],
             [
              0.2222222222222222,
              "#7201a8"
             ],
             [
              0.3333333333333333,
              "#9c179e"
             ],
             [
              0.4444444444444444,
              "#bd3786"
             ],
             [
              0.5555555555555556,
              "#d8576b"
             ],
             [
              0.6666666666666666,
              "#ed7953"
             ],
             [
              0.7777777777777778,
              "#fb9f3a"
             ],
             [
              0.8888888888888888,
              "#fdca26"
             ],
             [
              1,
              "#f0f921"
             ]
            ],
            "type": "histogram2dcontour"
           }
          ],
          "mesh3d": [
           {
            "colorbar": {
             "outlinewidth": 0,
             "ticks": ""
            },
            "type": "mesh3d"
           }
          ],
          "parcoords": [
           {
            "line": {
             "colorbar": {
              "outlinewidth": 0,
              "ticks": ""
             }
            },
            "type": "parcoords"
           }
          ],
          "pie": [
           {
            "automargin": true,
            "type": "pie"
           }
          ],
          "scatter": [
           {
            "fillpattern": {
             "fillmode": "overlay",
             "size": 10,
             "solidity": 0.2
            },
            "type": "scatter"
           }
          ],
          "scatter3d": [
           {
            "line": {
             "colorbar": {
              "outlinewidth": 0,
              "ticks": ""
             }
            },
            "marker": {
             "colorbar": {
              "outlinewidth": 0,
              "ticks": ""
             }
            },
            "type": "scatter3d"
           }
          ],
          "scattercarpet": [
           {
            "marker": {
             "colorbar": {
              "outlinewidth": 0,
              "ticks": ""
             }
            },
            "type": "scattercarpet"
           }
          ],
          "scattergeo": [
           {
            "marker": {
             "colorbar": {
              "outlinewidth": 0,
              "ticks": ""
             }
            },
            "type": "scattergeo"
           }
          ],
          "scattergl": [
           {
            "marker": {
             "colorbar": {
              "outlinewidth": 0,
              "ticks": ""
             }
            },
            "type": "scattergl"
           }
          ],
          "scattermapbox": [
           {
            "marker": {
             "colorbar": {
              "outlinewidth": 0,
              "ticks": ""
             }
            },
            "type": "scattermapbox"
           }
          ],
          "scatterpolar": [
           {
            "marker": {
             "colorbar": {
              "outlinewidth": 0,
              "ticks": ""
             }
            },
            "type": "scatterpolar"
           }
          ],
          "scatterpolargl": [
           {
            "marker": {
             "colorbar": {
              "outlinewidth": 0,
              "ticks": ""
             }
            },
            "type": "scatterpolargl"
           }
          ],
          "scatterternary": [
           {
            "marker": {
             "colorbar": {
              "outlinewidth": 0,
              "ticks": ""
             }
            },
            "type": "scatterternary"
           }
          ],
          "surface": [
           {
            "colorbar": {
             "outlinewidth": 0,
             "ticks": ""
            },
            "colorscale": [
             [
              0,
              "#0d0887"
             ],
             [
              0.1111111111111111,
              "#46039f"
             ],
             [
              0.2222222222222222,
              "#7201a8"
             ],
             [
              0.3333333333333333,
              "#9c179e"
             ],
             [
              0.4444444444444444,
              "#bd3786"
             ],
             [
              0.5555555555555556,
              "#d8576b"
             ],
             [
              0.6666666666666666,
              "#ed7953"
             ],
             [
              0.7777777777777778,
              "#fb9f3a"
             ],
             [
              0.8888888888888888,
              "#fdca26"
             ],
             [
              1,
              "#f0f921"
             ]
            ],
            "type": "surface"
           }
          ],
          "table": [
           {
            "cells": {
             "fill": {
              "color": "#EBF0F8"
             },
             "line": {
              "color": "white"
             }
            },
            "header": {
             "fill": {
              "color": "#C8D4E3"
             },
             "line": {
              "color": "white"
             }
            },
            "type": "table"
           }
          ]
         },
         "layout": {
          "annotationdefaults": {
           "arrowcolor": "#2a3f5f",
           "arrowhead": 0,
           "arrowwidth": 1
          },
          "autotypenumbers": "strict",
          "coloraxis": {
           "colorbar": {
            "outlinewidth": 0,
            "ticks": ""
           }
          },
          "colorscale": {
           "diverging": [
            [
             0,
             "#8e0152"
            ],
            [
             0.1,
             "#c51b7d"
            ],
            [
             0.2,
             "#de77ae"
            ],
            [
             0.3,
             "#f1b6da"
            ],
            [
             0.4,
             "#fde0ef"
            ],
            [
             0.5,
             "#f7f7f7"
            ],
            [
             0.6,
             "#e6f5d0"
            ],
            [
             0.7,
             "#b8e186"
            ],
            [
             0.8,
             "#7fbc41"
            ],
            [
             0.9,
             "#4d9221"
            ],
            [
             1,
             "#276419"
            ]
           ],
           "sequential": [
            [
             0,
             "#0d0887"
            ],
            [
             0.1111111111111111,
             "#46039f"
            ],
            [
             0.2222222222222222,
             "#7201a8"
            ],
            [
             0.3333333333333333,
             "#9c179e"
            ],
            [
             0.4444444444444444,
             "#bd3786"
            ],
            [
             0.5555555555555556,
             "#d8576b"
            ],
            [
             0.6666666666666666,
             "#ed7953"
            ],
            [
             0.7777777777777778,
             "#fb9f3a"
            ],
            [
             0.8888888888888888,
             "#fdca26"
            ],
            [
             1,
             "#f0f921"
            ]
           ],
           "sequentialminus": [
            [
             0,
             "#0d0887"
            ],
            [
             0.1111111111111111,
             "#46039f"
            ],
            [
             0.2222222222222222,
             "#7201a8"
            ],
            [
             0.3333333333333333,
             "#9c179e"
            ],
            [
             0.4444444444444444,
             "#bd3786"
            ],
            [
             0.5555555555555556,
             "#d8576b"
            ],
            [
             0.6666666666666666,
             "#ed7953"
            ],
            [
             0.7777777777777778,
             "#fb9f3a"
            ],
            [
             0.8888888888888888,
             "#fdca26"
            ],
            [
             1,
             "#f0f921"
            ]
           ]
          },
          "colorway": [
           "#636efa",
           "#EF553B",
           "#00cc96",
           "#ab63fa",
           "#FFA15A",
           "#19d3f3",
           "#FF6692",
           "#B6E880",
           "#FF97FF",
           "#FECB52"
          ],
          "font": {
           "color": "#2a3f5f"
          },
          "geo": {
           "bgcolor": "white",
           "lakecolor": "white",
           "landcolor": "#E5ECF6",
           "showlakes": true,
           "showland": true,
           "subunitcolor": "white"
          },
          "hoverlabel": {
           "align": "left"
          },
          "hovermode": "closest",
          "mapbox": {
           "style": "light"
          },
          "paper_bgcolor": "white",
          "plot_bgcolor": "#E5ECF6",
          "polar": {
           "angularaxis": {
            "gridcolor": "white",
            "linecolor": "white",
            "ticks": ""
           },
           "bgcolor": "#E5ECF6",
           "radialaxis": {
            "gridcolor": "white",
            "linecolor": "white",
            "ticks": ""
           }
          },
          "scene": {
           "xaxis": {
            "backgroundcolor": "#E5ECF6",
            "gridcolor": "white",
            "gridwidth": 2,
            "linecolor": "white",
            "showbackground": true,
            "ticks": "",
            "zerolinecolor": "white"
           },
           "yaxis": {
            "backgroundcolor": "#E5ECF6",
            "gridcolor": "white",
            "gridwidth": 2,
            "linecolor": "white",
            "showbackground": true,
            "ticks": "",
            "zerolinecolor": "white"
           },
           "zaxis": {
            "backgroundcolor": "#E5ECF6",
            "gridcolor": "white",
            "gridwidth": 2,
            "linecolor": "white",
            "showbackground": true,
            "ticks": "",
            "zerolinecolor": "white"
           }
          },
          "shapedefaults": {
           "line": {
            "color": "#2a3f5f"
           }
          },
          "ternary": {
           "aaxis": {
            "gridcolor": "white",
            "linecolor": "white",
            "ticks": ""
           },
           "baxis": {
            "gridcolor": "white",
            "linecolor": "white",
            "ticks": ""
           },
           "bgcolor": "#E5ECF6",
           "caxis": {
            "gridcolor": "white",
            "linecolor": "white",
            "ticks": ""
           }
          },
          "title": {
           "x": 0.05
          },
          "xaxis": {
           "automargin": true,
           "gridcolor": "white",
           "linecolor": "white",
           "ticks": "",
           "title": {
            "standoff": 15
           },
           "zerolinecolor": "white",
           "zerolinewidth": 2
          },
          "yaxis": {
           "automargin": true,
           "gridcolor": "white",
           "linecolor": "white",
           "ticks": "",
           "title": {
            "standoff": 15
           },
           "zerolinecolor": "white",
           "zerolinewidth": 2
          }
         }
        },
        "xaxis": {
         "anchor": "y",
         "domain": [
          0,
          1
         ],
         "title": {
          "text": "x"
         }
        },
        "yaxis": {
         "anchor": "x",
         "domain": [
          0,
          1
         ],
         "title": {
          "text": "y"
         }
        }
       }
      }
     },
     "metadata": {},
     "output_type": "display_data"
    }
   ],
   "source": [
    "X_train_train, X_train_val, y_train_train, y_train_val = train_test_split(\n",
    "    X_train, y_train, test_size=.2, random_state=RANDOM\n",
    ")\n",
    "\n",
    "model.fit(X_train_train, y_train_train)\n",
    "y_pred_val = model.predict(X_train_val)\n",
    "\n",
    "fig = px.scatter(x = y_train_val, y = y_pred_val)\n",
    "fig.update_layout(shapes=[{\"type\": \"line\", \"y0\":0, \"y1\":max(y_pred_val), \"x0\":0, \"x1\": max(y_pred_val)}])"
   ]
  },
  {
   "cell_type": "code",
   "execution_count": 16,
   "metadata": {},
   "outputs": [
    {
     "name": "stderr",
     "output_type": "stream",
     "text": [
      "\u001b[32m[I 2022-08-23 18:25:25,727]\u001b[0m A new study created in memory with name: Random Forest Regression\u001b[0m\n",
      "\u001b[32m[I 2022-08-23 18:25:41,108]\u001b[0m Trial 0 finished with value: 2206.904739255515 and parameters: {'max_features': None, 'min_samples_leaf': 4, 'n_estimators': 1869}. Best is trial 0 with value: 2206.904739255515.\u001b[0m\n",
      "\u001b[32m[I 2022-08-23 18:25:47,457]\u001b[0m Trial 1 finished with value: 2378.816600496039 and parameters: {'max_features': 'sqrt', 'min_samples_leaf': 5, 'n_estimators': 1622}. Best is trial 0 with value: 2206.904739255515.\u001b[0m\n",
      "\u001b[32m[I 2022-08-23 18:25:49,837]\u001b[0m Trial 2 finished with value: 2941.439498822139 and parameters: {'max_features': 'sqrt', 'min_samples_leaf': 8, 'n_estimators': 620}. Best is trial 0 with value: 2206.904739255515.\u001b[0m\n",
      "\u001b[32m[I 2022-08-23 18:25:59,129]\u001b[0m Trial 3 finished with value: 1495.7780019428 and parameters: {'max_features': None, 'min_samples_leaf': 1, 'n_estimators': 723}. Best is trial 3 with value: 1495.7780019428.\u001b[0m\n",
      "\u001b[32m[I 2022-08-23 18:26:00,951]\u001b[0m Trial 4 finished with value: 1491.6432353063256 and parameters: {'max_features': 'sqrt', 'min_samples_leaf': 1, 'n_estimators': 371}. Best is trial 4 with value: 1491.6432353063256.\u001b[0m\n",
      "\u001b[32m[I 2022-08-23 18:26:04,350]\u001b[0m Trial 5 finished with value: 1425.51089790904 and parameters: {'max_features': 'log2', 'min_samples_leaf': 1, 'n_estimators': 759}. Best is trial 5 with value: 1425.51089790904.\u001b[0m\n",
      "\u001b[32m[I 2022-08-23 18:26:14,245]\u001b[0m Trial 6 finished with value: 3496.8381476108098 and parameters: {'max_features': None, 'min_samples_leaf': 9, 'n_estimators': 1731}. Best is trial 5 with value: 1425.51089790904.\u001b[0m\n",
      "\u001b[32m[I 2022-08-23 18:26:29,318]\u001b[0m Trial 7 finished with value: 2220.6292011769697 and parameters: {'max_features': None, 'min_samples_leaf': 4, 'n_estimators': 1862}. Best is trial 5 with value: 1425.51089790904.\u001b[0m\n",
      "\u001b[32m[I 2022-08-23 18:26:31,104]\u001b[0m Trial 8 finished with value: 2617.7324671228143 and parameters: {'max_features': 'log2', 'min_samples_leaf': 7, 'n_estimators': 491}. Best is trial 5 with value: 1425.51089790904.\u001b[0m\n",
      "\u001b[32m[I 2022-08-23 18:26:44,411]\u001b[0m Trial 9 finished with value: 1476.263674681587 and parameters: {'max_features': None, 'min_samples_leaf': 1, 'n_estimators': 1073}. Best is trial 5 with value: 1425.51089790904.\u001b[0m\n",
      "\u001b[32m[I 2022-08-23 18:26:54,781]\u001b[0m Trial 10 finished with value: 1977.760696338236 and parameters: {'max_features': None, 'min_samples_leaf': 3, 'n_estimators': 1169}. Best is trial 5 with value: 1425.51089790904.\u001b[0m\n",
      "\u001b[32m[I 2022-08-23 18:27:05,485]\u001b[0m Trial 11 finished with value: 2076.4552832170198 and parameters: {'max_features': None, 'min_samples_leaf': 2, 'n_estimators': 1054}. Best is trial 5 with value: 1425.51089790904.\u001b[0m\n",
      "\u001b[32m[I 2022-08-23 18:27:23,074]\u001b[0m Trial 12 finished with value: 1512.305440503379 and parameters: {'max_features': None, 'min_samples_leaf': 1, 'n_estimators': 1399}. Best is trial 5 with value: 1425.51089790904.\u001b[0m\n",
      "\u001b[32m[I 2022-08-23 18:27:24,293]\u001b[0m Trial 13 finished with value: 1833.875654396178 and parameters: {'max_features': None, 'min_samples_leaf': 3, 'n_estimators': 134}. Best is trial 5 with value: 1425.51089790904.\u001b[0m\n",
      "\u001b[32m[I 2022-08-23 18:27:30,100]\u001b[0m Trial 14 finished with value: 2859.5786442133785 and parameters: {'max_features': None, 'min_samples_leaf': 6, 'n_estimators': 860}. Best is trial 5 with value: 1425.51089790904.\u001b[0m\n",
      "\u001b[32m[I 2022-08-23 18:27:43,654]\u001b[0m Trial 15 finished with value: 2079.596029865134 and parameters: {'max_features': None, 'min_samples_leaf': 2, 'n_estimators': 1332}. Best is trial 5 with value: 1425.51089790904.\u001b[0m\n",
      "\u001b[32m[I 2022-08-23 18:27:48,362]\u001b[0m Trial 16 finished with value: 3893.885966853676 and parameters: {'max_features': None, 'min_samples_leaf': 10, 'n_estimators': 884}. Best is trial 5 with value: 1425.51089790904.\u001b[0m\n",
      "\u001b[32m[I 2022-08-23 18:27:59,652]\u001b[0m Trial 17 finished with value: 2042.8639462587464 and parameters: {'max_features': None, 'min_samples_leaf': 3, 'n_estimators': 1260}. Best is trial 5 with value: 1425.51089790904.\u001b[0m\n",
      "\u001b[32m[I 2022-08-23 18:28:06,580]\u001b[0m Trial 18 finished with value: 2386.0976403607483 and parameters: {'max_features': None, 'min_samples_leaf': 5, 'n_estimators': 928}. Best is trial 5 with value: 1425.51089790904.\u001b[0m\n",
      "\u001b[32m[I 2022-08-23 18:28:22,680]\u001b[0m Trial 19 finished with value: 1954.1234689357714 and parameters: {'max_features': None, 'min_samples_leaf': 2, 'n_estimators': 1544}. Best is trial 5 with value: 1425.51089790904.\u001b[0m\n",
      "\u001b[32m[I 2022-08-23 18:28:24,917]\u001b[0m Trial 20 finished with value: 2233.5215241926094 and parameters: {'max_features': None, 'min_samples_leaf': 4, 'n_estimators': 278}. Best is trial 5 with value: 1425.51089790904.\u001b[0m\n",
      "\u001b[32m[I 2022-08-23 18:28:30,984]\u001b[0m Trial 21 finished with value: 1490.1777423510548 and parameters: {'max_features': None, 'min_samples_leaf': 1, 'n_estimators': 479}. Best is trial 5 with value: 1425.51089790904.\u001b[0m\n",
      "\u001b[32m[I 2022-08-23 18:28:39,112]\u001b[0m Trial 22 finished with value: 1487.3251309498469 and parameters: {'max_features': None, 'min_samples_leaf': 1, 'n_estimators': 647}. Best is trial 5 with value: 1425.51089790904.\u001b[0m\n",
      "\u001b[32m[I 2022-08-23 18:28:46,607]\u001b[0m Trial 23 finished with value: 2101.315283656184 and parameters: {'max_features': None, 'min_samples_leaf': 2, 'n_estimators': 723}. Best is trial 5 with value: 1425.51089790904.\u001b[0m\n",
      "\u001b[32m[I 2022-08-23 18:28:59,336]\u001b[0m Trial 24 finished with value: 1512.1835255864755 and parameters: {'max_features': None, 'min_samples_leaf': 1, 'n_estimators': 1015}. Best is trial 5 with value: 1425.51089790904.\u001b[0m\n",
      "\u001b[32m[I 2022-08-23 18:29:05,462]\u001b[0m Trial 25 finished with value: 2095.6920509999836 and parameters: {'max_features': None, 'min_samples_leaf': 3, 'n_estimators': 679}. Best is trial 5 with value: 1425.51089790904.\u001b[0m\n",
      "\u001b[32m[I 2022-08-23 18:29:17,351]\u001b[0m Trial 26 finished with value: 2072.1577913407773 and parameters: {'max_features': None, 'min_samples_leaf': 2, 'n_estimators': 1163}. Best is trial 5 with value: 1425.51089790904.\u001b[0m\n",
      "\u001b[32m[I 2022-08-23 18:29:24,452]\u001b[0m Trial 27 finished with value: 1451.7483708186212 and parameters: {'max_features': None, 'min_samples_leaf': 1, 'n_estimators': 567}. Best is trial 5 with value: 1425.51089790904.\u001b[0m\n",
      "\u001b[32m[I 2022-08-23 18:29:32,593]\u001b[0m Trial 28 finished with value: 2050.303221468952 and parameters: {'max_features': None, 'min_samples_leaf': 2, 'n_estimators': 811}. Best is trial 5 with value: 1425.51089790904.\u001b[0m\n",
      "\u001b[32m[I 2022-08-23 18:29:37,362]\u001b[0m Trial 29 finished with value: 2087.2006231325145 and parameters: {'max_features': None, 'min_samples_leaf': 4, 'n_estimators': 490}. Best is trial 5 with value: 1425.51089790904.\u001b[0m\n",
      "\u001b[32m[I 2022-08-23 18:29:45,957]\u001b[0m Trial 30 finished with value: 3071.3629791343387 and parameters: {'max_features': None, 'min_samples_leaf': 7, 'n_estimators': 1057}. Best is trial 5 with value: 1425.51089790904.\u001b[0m\n",
      "\u001b[32m[I 2022-08-23 18:29:54,421]\u001b[0m Trial 31 finished with value: 1453.2663090957676 and parameters: {'max_features': None, 'min_samples_leaf': 1, 'n_estimators': 632}. Best is trial 5 with value: 1425.51089790904.\u001b[0m\n",
      "\u001b[32m[I 2022-08-23 18:30:03,085]\u001b[0m Trial 32 finished with value: 1507.7458842703725 and parameters: {'max_features': None, 'min_samples_leaf': 1, 'n_estimators': 551}. Best is trial 5 with value: 1425.51089790904.\u001b[0m\n",
      "\u001b[32m[I 2022-08-23 18:30:05,859]\u001b[0m Trial 33 finished with value: 1942.111567931734 and parameters: {'max_features': None, 'min_samples_leaf': 3, 'n_estimators': 239}. Best is trial 5 with value: 1425.51089790904.\u001b[0m\n",
      "\u001b[32m[I 2022-08-23 18:30:15,906]\u001b[0m Trial 34 finished with value: 2148.1350373631713 and parameters: {'max_features': None, 'min_samples_leaf': 2, 'n_estimators': 777}. Best is trial 5 with value: 1425.51089790904.\u001b[0m\n",
      "\u001b[32m[I 2022-08-23 18:30:21,752]\u001b[0m Trial 35 finished with value: 1579.883332756538 and parameters: {'max_features': None, 'min_samples_leaf': 1, 'n_estimators': 372}. Best is trial 5 with value: 1425.51089790904.\u001b[0m\n",
      "\u001b[32m[I 2022-08-23 18:30:25,925]\u001b[0m Trial 36 finished with value: 2534.091070262609 and parameters: {'max_features': None, 'min_samples_leaf': 5, 'n_estimators': 567}. Best is trial 5 with value: 1425.51089790904.\u001b[0m\n",
      "\u001b[32m[I 2022-08-23 18:30:38,044]\u001b[0m Trial 37 finished with value: 1439.0322651259864 and parameters: {'max_features': None, 'min_samples_leaf': 1, 'n_estimators': 968}. Best is trial 5 with value: 1425.51089790904.\u001b[0m\n",
      "\u001b[32m[I 2022-08-23 18:30:47,627]\u001b[0m Trial 38 finished with value: 2102.0215945888435 and parameters: {'max_features': None, 'min_samples_leaf': 2, 'n_estimators': 964}. Best is trial 5 with value: 1425.51089790904.\u001b[0m\n",
      "\u001b[32m[I 2022-08-23 18:31:12,744]\u001b[0m Trial 39 finished with value: 1468.604894972094 and parameters: {'max_features': None, 'min_samples_leaf': 1, 'n_estimators': 1998}. Best is trial 5 with value: 1425.51089790904.\u001b[0m\n",
      "\u001b[32m[I 2022-08-23 18:31:15,767]\u001b[0m Trial 40 finished with value: 2307.3281794358836 and parameters: {'max_features': None, 'min_samples_leaf': 4, 'n_estimators': 383}. Best is trial 5 with value: 1425.51089790904.\u001b[0m\n",
      "\u001b[32m[I 2022-08-23 18:31:24,613]\u001b[0m Trial 41 finished with value: 1512.783950879365 and parameters: {'max_features': None, 'min_samples_leaf': 1, 'n_estimators': 713}. Best is trial 5 with value: 1425.51089790904.\u001b[0m\n",
      "\u001b[32m[I 2022-08-23 18:31:45,669]\u001b[0m Trial 42 finished with value: 1466.8694293891863 and parameters: {'max_features': None, 'min_samples_leaf': 1, 'n_estimators': 1713}. Best is trial 5 with value: 1425.51089790904.\u001b[0m\n",
      "\u001b[32m[I 2022-08-23 18:32:02,462]\u001b[0m Trial 43 finished with value: 2059.0836755433947 and parameters: {'max_features': None, 'min_samples_leaf': 2, 'n_estimators': 1681}. Best is trial 5 with value: 1425.51089790904.\u001b[0m\n",
      "\u001b[32m[I 2022-08-23 18:32:19,960]\u001b[0m Trial 44 finished with value: 1436.9075596359767 and parameters: {'max_features': None, 'min_samples_leaf': 1, 'n_estimators': 1427}. Best is trial 5 with value: 1425.51089790904.\u001b[0m\n",
      "\u001b[32m[I 2022-08-23 18:32:32,854]\u001b[0m Trial 45 finished with value: 2033.8574001129348 and parameters: {'max_features': None, 'min_samples_leaf': 3, 'n_estimators': 1470}. Best is trial 5 with value: 1425.51089790904.\u001b[0m\n",
      "\u001b[32m[I 2022-08-23 18:32:44,535]\u001b[0m Trial 46 finished with value: 2126.5222705262686 and parameters: {'max_features': None, 'min_samples_leaf': 2, 'n_estimators': 1161}. Best is trial 5 with value: 1425.51089790904.\u001b[0m\n",
      "\u001b[32m[I 2022-08-23 18:32:49,212]\u001b[0m Trial 47 finished with value: 3312.2694946035404 and parameters: {'max_features': None, 'min_samples_leaf': 8, 'n_estimators': 811}. Best is trial 5 with value: 1425.51089790904.\u001b[0m\n",
      "\u001b[32m[I 2022-08-23 18:32:56,693]\u001b[0m Trial 48 finished with value: 1401.469282465349 and parameters: {'max_features': None, 'min_samples_leaf': 1, 'n_estimators': 615}. Best is trial 48 with value: 1401.469282465349.\u001b[0m\n",
      "\u001b[32m[I 2022-08-23 18:33:07,626]\u001b[0m Trial 49 finished with value: 2040.9970537968234 and parameters: {'max_features': None, 'min_samples_leaf': 3, 'n_estimators': 1278}. Best is trial 48 with value: 1401.469282465349.\u001b[0m\n"
     ]
    }
   ],
   "source": [
    "def objective_rf(trial, X, y):\n",
    "\n",
    "    param_grid = {\n",
    "        \"max_features\": trial.suggest_categorical(\"max_features\", [\"sqrt\", \"log2\", None]),\n",
    "        \"min_samples_leaf\": trial.suggest_int(\"min_samples_leaf\", 1, 10),\n",
    "        \"n_estimators\": trial.suggest_int(\"n_estimators\", 100, 2000)\n",
    "        }\n",
    "\n",
    "    cv = KFold(n_splits=3, random_state=42, shuffle=True)\n",
    "    cv_scores = []\n",
    "\n",
    "    rf = RandomForestRegressor(**param_grid, criterion=\"absolute_error\")\n",
    "\n",
    "    poly = PolynomialFeatures(degree=3, include_bias=False)\n",
    "\n",
    "    poly_reg = Pipeline([\n",
    "        (\"poly\", poly),\n",
    "        (\"regressor\", rf)\n",
    "    ])\n",
    "\n",
    "    model = TransformedTargetRegressor(\n",
    "        regressor = poly_reg,\n",
    "        transformer=PowerTransformer(method=\"yeo-johnson\")\n",
    "        )\n",
    "    \n",
    "    for (train_index, val_index) in cv.split(X, y):\n",
    "        X_train, X_val = X.iloc[train_index], X.iloc[val_index]\n",
    "        y_train, y_val = y.iloc[train_index], y.iloc[val_index]    \n",
    "\n",
    "        model.fit(\n",
    "            X_train,\n",
    "            y_train\n",
    "        )\n",
    "\n",
    "        preds = model.predict(X_val)\n",
    "        cv_scores.append(mean_absolute_error(preds, y_val))\n",
    "    \n",
    "    return np.median(cv_scores)\n",
    "\n",
    "study_rf = optuna.create_study(direction=\"minimize\", study_name=\"Random Forest Regression\")\n",
    "func_rf = lambda trial: objective_rf(trial, X_train, y_train)\n",
    "study_rf.optimize(func_rf, n_trials=50)"
   ]
  },
  {
   "cell_type": "code",
   "execution_count": 25,
   "metadata": {},
   "outputs": [
    {
     "data": {
      "text/plain": [
       "{'max_features': None, 'min_samples_leaf': 1, 'n_estimators': 615}"
      ]
     },
     "execution_count": 25,
     "metadata": {},
     "output_type": "execute_result"
    }
   ],
   "source": [
    "study_rf.best_params"
   ]
  },
  {
   "cell_type": "code",
   "execution_count": 37,
   "metadata": {},
   "outputs": [
    {
     "data": {
      "text/plain": [
       "array([-1855.54242931, -4206.29827522, -3154.08488835])"
      ]
     },
     "execution_count": 37,
     "metadata": {},
     "output_type": "execute_result"
    }
   ],
   "source": [
    "poly = PolynomialFeatures(degree=3, include_bias=False)\n",
    "\n",
    "rf_best_params = {\n",
    "    'max_features': \"sqrt\",\n",
    "    'min_samples_leaf': 1,\n",
    "    'n_estimators': 615\n",
    "    }\n",
    "\n",
    "\n",
    "reg = RandomForestRegressor(**rf_best_params, criterion=\"absolute_error\")\n",
    "\n",
    "poly_reg = Pipeline([\n",
    "        (\"poly\", poly),\n",
    "        (\"regressor\", reg)\n",
    "    ])\n",
    "\n",
    "model = TransformedTargetRegressor(\n",
    "    regressor = poly_reg,\n",
    "    transformer=PowerTransformer(method=\"yeo-johnson\")\n",
    ")\n",
    "\n",
    "cross_val_score(model, X_train, y_train, cv=3, scoring=\"neg_mean_absolute_error\")"
   ]
  },
  {
   "cell_type": "code",
   "execution_count": 33,
   "metadata": {},
   "outputs": [
    {
     "data": {
      "application/vnd.plotly.v1+json": {
       "config": {
        "plotlyServerURL": "https://plot.ly"
       },
       "data": [
        {
         "hovertemplate": "x=%{x}<br>y=%{y}<extra></extra>",
         "legendgroup": "",
         "marker": {
          "color": "#636efa",
          "symbol": "circle"
         },
         "mode": "markers",
         "name": "",
         "orientation": "v",
         "showlegend": false,
         "type": "scatter",
         "x": [
          25589,
          1902,
          10457,
          25771,
          10373,
          10633,
          1841,
          1486,
          2166,
          2176,
          8,
          25590,
          364,
          25714,
          0,
          600
         ],
         "xaxis": "x",
         "y": [
          20096.486793575303,
          1898.0413907930356,
          10339.145449216408,
          17031.943143896475,
          10250.94210057256,
          9482.849076279683,
          1907.9696444799117,
          4886.43980305965,
          1890.8847566618795,
          2002.71031101594,
          122.85870097784591,
          14760.010107602351,
          138.67565682284467,
          20152.197154066285,
          154.77407648074276,
          263.4731140455442
         ],
         "yaxis": "y"
        }
       ],
       "layout": {
        "legend": {
         "tracegroupgap": 0
        },
        "margin": {
         "t": 60
        },
        "shapes": [
         {
          "type": "line",
          "x0": 0,
          "x1": 20152.197154066285,
          "y0": 0,
          "y1": 20152.197154066285
         }
        ],
        "template": {
         "data": {
          "bar": [
           {
            "error_x": {
             "color": "#2a3f5f"
            },
            "error_y": {
             "color": "#2a3f5f"
            },
            "marker": {
             "line": {
              "color": "#E5ECF6",
              "width": 0.5
             },
             "pattern": {
              "fillmode": "overlay",
              "size": 10,
              "solidity": 0.2
             }
            },
            "type": "bar"
           }
          ],
          "barpolar": [
           {
            "marker": {
             "line": {
              "color": "#E5ECF6",
              "width": 0.5
             },
             "pattern": {
              "fillmode": "overlay",
              "size": 10,
              "solidity": 0.2
             }
            },
            "type": "barpolar"
           }
          ],
          "carpet": [
           {
            "aaxis": {
             "endlinecolor": "#2a3f5f",
             "gridcolor": "white",
             "linecolor": "white",
             "minorgridcolor": "white",
             "startlinecolor": "#2a3f5f"
            },
            "baxis": {
             "endlinecolor": "#2a3f5f",
             "gridcolor": "white",
             "linecolor": "white",
             "minorgridcolor": "white",
             "startlinecolor": "#2a3f5f"
            },
            "type": "carpet"
           }
          ],
          "choropleth": [
           {
            "colorbar": {
             "outlinewidth": 0,
             "ticks": ""
            },
            "type": "choropleth"
           }
          ],
          "contour": [
           {
            "colorbar": {
             "outlinewidth": 0,
             "ticks": ""
            },
            "colorscale": [
             [
              0,
              "#0d0887"
             ],
             [
              0.1111111111111111,
              "#46039f"
             ],
             [
              0.2222222222222222,
              "#7201a8"
             ],
             [
              0.3333333333333333,
              "#9c179e"
             ],
             [
              0.4444444444444444,
              "#bd3786"
             ],
             [
              0.5555555555555556,
              "#d8576b"
             ],
             [
              0.6666666666666666,
              "#ed7953"
             ],
             [
              0.7777777777777778,
              "#fb9f3a"
             ],
             [
              0.8888888888888888,
              "#fdca26"
             ],
             [
              1,
              "#f0f921"
             ]
            ],
            "type": "contour"
           }
          ],
          "contourcarpet": [
           {
            "colorbar": {
             "outlinewidth": 0,
             "ticks": ""
            },
            "type": "contourcarpet"
           }
          ],
          "heatmap": [
           {
            "colorbar": {
             "outlinewidth": 0,
             "ticks": ""
            },
            "colorscale": [
             [
              0,
              "#0d0887"
             ],
             [
              0.1111111111111111,
              "#46039f"
             ],
             [
              0.2222222222222222,
              "#7201a8"
             ],
             [
              0.3333333333333333,
              "#9c179e"
             ],
             [
              0.4444444444444444,
              "#bd3786"
             ],
             [
              0.5555555555555556,
              "#d8576b"
             ],
             [
              0.6666666666666666,
              "#ed7953"
             ],
             [
              0.7777777777777778,
              "#fb9f3a"
             ],
             [
              0.8888888888888888,
              "#fdca26"
             ],
             [
              1,
              "#f0f921"
             ]
            ],
            "type": "heatmap"
           }
          ],
          "heatmapgl": [
           {
            "colorbar": {
             "outlinewidth": 0,
             "ticks": ""
            },
            "colorscale": [
             [
              0,
              "#0d0887"
             ],
             [
              0.1111111111111111,
              "#46039f"
             ],
             [
              0.2222222222222222,
              "#7201a8"
             ],
             [
              0.3333333333333333,
              "#9c179e"
             ],
             [
              0.4444444444444444,
              "#bd3786"
             ],
             [
              0.5555555555555556,
              "#d8576b"
             ],
             [
              0.6666666666666666,
              "#ed7953"
             ],
             [
              0.7777777777777778,
              "#fb9f3a"
             ],
             [
              0.8888888888888888,
              "#fdca26"
             ],
             [
              1,
              "#f0f921"
             ]
            ],
            "type": "heatmapgl"
           }
          ],
          "histogram": [
           {
            "marker": {
             "pattern": {
              "fillmode": "overlay",
              "size": 10,
              "solidity": 0.2
             }
            },
            "type": "histogram"
           }
          ],
          "histogram2d": [
           {
            "colorbar": {
             "outlinewidth": 0,
             "ticks": ""
            },
            "colorscale": [
             [
              0,
              "#0d0887"
             ],
             [
              0.1111111111111111,
              "#46039f"
             ],
             [
              0.2222222222222222,
              "#7201a8"
             ],
             [
              0.3333333333333333,
              "#9c179e"
             ],
             [
              0.4444444444444444,
              "#bd3786"
             ],
             [
              0.5555555555555556,
              "#d8576b"
             ],
             [
              0.6666666666666666,
              "#ed7953"
             ],
             [
              0.7777777777777778,
              "#fb9f3a"
             ],
             [
              0.8888888888888888,
              "#fdca26"
             ],
             [
              1,
              "#f0f921"
             ]
            ],
            "type": "histogram2d"
           }
          ],
          "histogram2dcontour": [
           {
            "colorbar": {
             "outlinewidth": 0,
             "ticks": ""
            },
            "colorscale": [
             [
              0,
              "#0d0887"
             ],
             [
              0.1111111111111111,
              "#46039f"
             ],
             [
              0.2222222222222222,
              "#7201a8"
             ],
             [
              0.3333333333333333,
              "#9c179e"
             ],
             [
              0.4444444444444444,
              "#bd3786"
             ],
             [
              0.5555555555555556,
              "#d8576b"
             ],
             [
              0.6666666666666666,
              "#ed7953"
             ],
             [
              0.7777777777777778,
              "#fb9f3a"
             ],
             [
              0.8888888888888888,
              "#fdca26"
             ],
             [
              1,
              "#f0f921"
             ]
            ],
            "type": "histogram2dcontour"
           }
          ],
          "mesh3d": [
           {
            "colorbar": {
             "outlinewidth": 0,
             "ticks": ""
            },
            "type": "mesh3d"
           }
          ],
          "parcoords": [
           {
            "line": {
             "colorbar": {
              "outlinewidth": 0,
              "ticks": ""
             }
            },
            "type": "parcoords"
           }
          ],
          "pie": [
           {
            "automargin": true,
            "type": "pie"
           }
          ],
          "scatter": [
           {
            "fillpattern": {
             "fillmode": "overlay",
             "size": 10,
             "solidity": 0.2
            },
            "type": "scatter"
           }
          ],
          "scatter3d": [
           {
            "line": {
             "colorbar": {
              "outlinewidth": 0,
              "ticks": ""
             }
            },
            "marker": {
             "colorbar": {
              "outlinewidth": 0,
              "ticks": ""
             }
            },
            "type": "scatter3d"
           }
          ],
          "scattercarpet": [
           {
            "marker": {
             "colorbar": {
              "outlinewidth": 0,
              "ticks": ""
             }
            },
            "type": "scattercarpet"
           }
          ],
          "scattergeo": [
           {
            "marker": {
             "colorbar": {
              "outlinewidth": 0,
              "ticks": ""
             }
            },
            "type": "scattergeo"
           }
          ],
          "scattergl": [
           {
            "marker": {
             "colorbar": {
              "outlinewidth": 0,
              "ticks": ""
             }
            },
            "type": "scattergl"
           }
          ],
          "scattermapbox": [
           {
            "marker": {
             "colorbar": {
              "outlinewidth": 0,
              "ticks": ""
             }
            },
            "type": "scattermapbox"
           }
          ],
          "scatterpolar": [
           {
            "marker": {
             "colorbar": {
              "outlinewidth": 0,
              "ticks": ""
             }
            },
            "type": "scatterpolar"
           }
          ],
          "scatterpolargl": [
           {
            "marker": {
             "colorbar": {
              "outlinewidth": 0,
              "ticks": ""
             }
            },
            "type": "scatterpolargl"
           }
          ],
          "scatterternary": [
           {
            "marker": {
             "colorbar": {
              "outlinewidth": 0,
              "ticks": ""
             }
            },
            "type": "scatterternary"
           }
          ],
          "surface": [
           {
            "colorbar": {
             "outlinewidth": 0,
             "ticks": ""
            },
            "colorscale": [
             [
              0,
              "#0d0887"
             ],
             [
              0.1111111111111111,
              "#46039f"
             ],
             [
              0.2222222222222222,
              "#7201a8"
             ],
             [
              0.3333333333333333,
              "#9c179e"
             ],
             [
              0.4444444444444444,
              "#bd3786"
             ],
             [
              0.5555555555555556,
              "#d8576b"
             ],
             [
              0.6666666666666666,
              "#ed7953"
             ],
             [
              0.7777777777777778,
              "#fb9f3a"
             ],
             [
              0.8888888888888888,
              "#fdca26"
             ],
             [
              1,
              "#f0f921"
             ]
            ],
            "type": "surface"
           }
          ],
          "table": [
           {
            "cells": {
             "fill": {
              "color": "#EBF0F8"
             },
             "line": {
              "color": "white"
             }
            },
            "header": {
             "fill": {
              "color": "#C8D4E3"
             },
             "line": {
              "color": "white"
             }
            },
            "type": "table"
           }
          ]
         },
         "layout": {
          "annotationdefaults": {
           "arrowcolor": "#2a3f5f",
           "arrowhead": 0,
           "arrowwidth": 1
          },
          "autotypenumbers": "strict",
          "coloraxis": {
           "colorbar": {
            "outlinewidth": 0,
            "ticks": ""
           }
          },
          "colorscale": {
           "diverging": [
            [
             0,
             "#8e0152"
            ],
            [
             0.1,
             "#c51b7d"
            ],
            [
             0.2,
             "#de77ae"
            ],
            [
             0.3,
             "#f1b6da"
            ],
            [
             0.4,
             "#fde0ef"
            ],
            [
             0.5,
             "#f7f7f7"
            ],
            [
             0.6,
             "#e6f5d0"
            ],
            [
             0.7,
             "#b8e186"
            ],
            [
             0.8,
             "#7fbc41"
            ],
            [
             0.9,
             "#4d9221"
            ],
            [
             1,
             "#276419"
            ]
           ],
           "sequential": [
            [
             0,
             "#0d0887"
            ],
            [
             0.1111111111111111,
             "#46039f"
            ],
            [
             0.2222222222222222,
             "#7201a8"
            ],
            [
             0.3333333333333333,
             "#9c179e"
            ],
            [
             0.4444444444444444,
             "#bd3786"
            ],
            [
             0.5555555555555556,
             "#d8576b"
            ],
            [
             0.6666666666666666,
             "#ed7953"
            ],
            [
             0.7777777777777778,
             "#fb9f3a"
            ],
            [
             0.8888888888888888,
             "#fdca26"
            ],
            [
             1,
             "#f0f921"
            ]
           ],
           "sequentialminus": [
            [
             0,
             "#0d0887"
            ],
            [
             0.1111111111111111,
             "#46039f"
            ],
            [
             0.2222222222222222,
             "#7201a8"
            ],
            [
             0.3333333333333333,
             "#9c179e"
            ],
            [
             0.4444444444444444,
             "#bd3786"
            ],
            [
             0.5555555555555556,
             "#d8576b"
            ],
            [
             0.6666666666666666,
             "#ed7953"
            ],
            [
             0.7777777777777778,
             "#fb9f3a"
            ],
            [
             0.8888888888888888,
             "#fdca26"
            ],
            [
             1,
             "#f0f921"
            ]
           ]
          },
          "colorway": [
           "#636efa",
           "#EF553B",
           "#00cc96",
           "#ab63fa",
           "#FFA15A",
           "#19d3f3",
           "#FF6692",
           "#B6E880",
           "#FF97FF",
           "#FECB52"
          ],
          "font": {
           "color": "#2a3f5f"
          },
          "geo": {
           "bgcolor": "white",
           "lakecolor": "white",
           "landcolor": "#E5ECF6",
           "showlakes": true,
           "showland": true,
           "subunitcolor": "white"
          },
          "hoverlabel": {
           "align": "left"
          },
          "hovermode": "closest",
          "mapbox": {
           "style": "light"
          },
          "paper_bgcolor": "white",
          "plot_bgcolor": "#E5ECF6",
          "polar": {
           "angularaxis": {
            "gridcolor": "white",
            "linecolor": "white",
            "ticks": ""
           },
           "bgcolor": "#E5ECF6",
           "radialaxis": {
            "gridcolor": "white",
            "linecolor": "white",
            "ticks": ""
           }
          },
          "scene": {
           "xaxis": {
            "backgroundcolor": "#E5ECF6",
            "gridcolor": "white",
            "gridwidth": 2,
            "linecolor": "white",
            "showbackground": true,
            "ticks": "",
            "zerolinecolor": "white"
           },
           "yaxis": {
            "backgroundcolor": "#E5ECF6",
            "gridcolor": "white",
            "gridwidth": 2,
            "linecolor": "white",
            "showbackground": true,
            "ticks": "",
            "zerolinecolor": "white"
           },
           "zaxis": {
            "backgroundcolor": "#E5ECF6",
            "gridcolor": "white",
            "gridwidth": 2,
            "linecolor": "white",
            "showbackground": true,
            "ticks": "",
            "zerolinecolor": "white"
           }
          },
          "shapedefaults": {
           "line": {
            "color": "#2a3f5f"
           }
          },
          "ternary": {
           "aaxis": {
            "gridcolor": "white",
            "linecolor": "white",
            "ticks": ""
           },
           "baxis": {
            "gridcolor": "white",
            "linecolor": "white",
            "ticks": ""
           },
           "bgcolor": "#E5ECF6",
           "caxis": {
            "gridcolor": "white",
            "linecolor": "white",
            "ticks": ""
           }
          },
          "title": {
           "x": 0.05
          },
          "xaxis": {
           "automargin": true,
           "gridcolor": "white",
           "linecolor": "white",
           "ticks": "",
           "title": {
            "standoff": 15
           },
           "zerolinecolor": "white",
           "zerolinewidth": 2
          },
          "yaxis": {
           "automargin": true,
           "gridcolor": "white",
           "linecolor": "white",
           "ticks": "",
           "title": {
            "standoff": 15
           },
           "zerolinecolor": "white",
           "zerolinewidth": 2
          }
         }
        },
        "xaxis": {
         "anchor": "y",
         "domain": [
          0,
          1
         ],
         "title": {
          "text": "x"
         }
        },
        "yaxis": {
         "anchor": "x",
         "domain": [
          0,
          1
         ],
         "title": {
          "text": "y"
         }
        }
       }
      }
     },
     "metadata": {},
     "output_type": "display_data"
    }
   ],
   "source": [
    "X_train_train, X_train_val, y_train_train, y_train_val = train_test_split(\n",
    "    X_train, y_train, test_size=.2, random_state=42\n",
    ")\n",
    "\n",
    "model.fit(X_train_train, y_train_train)\n",
    "y_pred_val = model.predict(X_train_val)\n",
    "\n",
    "fig = px.scatter(x = y_train_val, y = y_pred_val)\n",
    "fig.update_layout(shapes=[{\"type\": \"line\", \"y0\":0, \"y1\":max(y_pred_val), \"x0\":0, \"x1\": max(y_pred_val)}])"
   ]
  },
  {
   "cell_type": "code",
   "execution_count": 59,
   "metadata": {},
   "outputs": [],
   "source": [
    "with open(\"params.yaml\") as config_file:\n",
    "        config = yaml.safe_load(config_file)\n",
    "\n",
    "poly = PolynomialFeatures(degree=config[\"featurize\"][\"poly_degree\"], include_bias=False)\n",
    "\n",
    "xgb_params = config[\"train\"][\"estimators\"][\"xgboost\"][\"params\"]\n",
    "rf_params = config[\"train\"][\"estimators\"][\"random_forest\"][\"params\"]\n",
    "ridge_params = config[\"train\"][\"estimators\"][\"ridge\"][\"params\"]\n",
    "\n",
    "xgb_reg = xgboost.XGBRegressor(**xgb_params)\n",
    "rf_reg = RandomForestRegressor(**rf_params)\n",
    "ridge_reg = Ridge(**ridge_params)\n",
    "\n",
    "def create_model(reg):\n",
    "    poly_reg = Pipeline([\n",
    "            (\"poly\", poly),\n",
    "            (\"regressor\", reg)\n",
    "        ])\n",
    "\n",
    "    model = TransformedTargetRegressor(\n",
    "        regressor = poly_reg,\n",
    "        transformer=PowerTransformer(method=\"yeo-johnson\")\n",
    "    )\n",
    "\n",
    "    return model\n",
    "\n",
    "xgb_model = create_model(xgb_reg)\n",
    "rf_model = create_model(rf_reg)\n",
    "ridge_reg = create_model(ridge_reg)"
   ]
  },
  {
   "cell_type": "code",
   "execution_count": 62,
   "metadata": {},
   "outputs": [
    {
     "data": {
      "text/html": [
       "<style>#sk-container-id-3 {color: black;background-color: white;}#sk-container-id-3 pre{padding: 0;}#sk-container-id-3 div.sk-toggleable {background-color: white;}#sk-container-id-3 label.sk-toggleable__label {cursor: pointer;display: block;width: 100%;margin-bottom: 0;padding: 0.3em;box-sizing: border-box;text-align: center;}#sk-container-id-3 label.sk-toggleable__label-arrow:before {content: \"▸\";float: left;margin-right: 0.25em;color: #696969;}#sk-container-id-3 label.sk-toggleable__label-arrow:hover:before {color: black;}#sk-container-id-3 div.sk-estimator:hover label.sk-toggleable__label-arrow:before {color: black;}#sk-container-id-3 div.sk-toggleable__content {max-height: 0;max-width: 0;overflow: hidden;text-align: left;background-color: #f0f8ff;}#sk-container-id-3 div.sk-toggleable__content pre {margin: 0.2em;color: black;border-radius: 0.25em;background-color: #f0f8ff;}#sk-container-id-3 input.sk-toggleable__control:checked~div.sk-toggleable__content {max-height: 200px;max-width: 100%;overflow: auto;}#sk-container-id-3 input.sk-toggleable__control:checked~label.sk-toggleable__label-arrow:before {content: \"▾\";}#sk-container-id-3 div.sk-estimator input.sk-toggleable__control:checked~label.sk-toggleable__label {background-color: #d4ebff;}#sk-container-id-3 div.sk-label input.sk-toggleable__control:checked~label.sk-toggleable__label {background-color: #d4ebff;}#sk-container-id-3 input.sk-hidden--visually {border: 0;clip: rect(1px 1px 1px 1px);clip: rect(1px, 1px, 1px, 1px);height: 1px;margin: -1px;overflow: hidden;padding: 0;position: absolute;width: 1px;}#sk-container-id-3 div.sk-estimator {font-family: monospace;background-color: #f0f8ff;border: 1px dotted black;border-radius: 0.25em;box-sizing: border-box;margin-bottom: 0.5em;}#sk-container-id-3 div.sk-estimator:hover {background-color: #d4ebff;}#sk-container-id-3 div.sk-parallel-item::after {content: \"\";width: 100%;border-bottom: 1px solid gray;flex-grow: 1;}#sk-container-id-3 div.sk-label:hover label.sk-toggleable__label {background-color: #d4ebff;}#sk-container-id-3 div.sk-serial::before {content: \"\";position: absolute;border-left: 1px solid gray;box-sizing: border-box;top: 0;bottom: 0;left: 50%;z-index: 0;}#sk-container-id-3 div.sk-serial {display: flex;flex-direction: column;align-items: center;background-color: white;padding-right: 0.2em;padding-left: 0.2em;position: relative;}#sk-container-id-3 div.sk-item {position: relative;z-index: 1;}#sk-container-id-3 div.sk-parallel {display: flex;align-items: stretch;justify-content: center;background-color: white;position: relative;}#sk-container-id-3 div.sk-item::before, #sk-container-id-3 div.sk-parallel-item::before {content: \"\";position: absolute;border-left: 1px solid gray;box-sizing: border-box;top: 0;bottom: 0;left: 50%;z-index: -1;}#sk-container-id-3 div.sk-parallel-item {display: flex;flex-direction: column;z-index: 1;position: relative;background-color: white;}#sk-container-id-3 div.sk-parallel-item:first-child::after {align-self: flex-end;width: 50%;}#sk-container-id-3 div.sk-parallel-item:last-child::after {align-self: flex-start;width: 50%;}#sk-container-id-3 div.sk-parallel-item:only-child::after {width: 0;}#sk-container-id-3 div.sk-dashed-wrapped {border: 1px dashed gray;margin: 0 0.4em 0.5em 0.4em;box-sizing: border-box;padding-bottom: 0.4em;background-color: white;}#sk-container-id-3 div.sk-label label {font-family: monospace;font-weight: bold;display: inline-block;line-height: 1.2em;}#sk-container-id-3 div.sk-label-container {text-align: center;}#sk-container-id-3 div.sk-container {/* jupyter's `normalize.less` sets `[hidden] { display: none; }` but bootstrap.min.css set `[hidden] { display: none !important; }` so we also need the `!important` here to be able to override the default hidden behavior on the sphinx rendered scikit-learn.org. See: https://github.com/scikit-learn/scikit-learn/issues/21755 */display: inline-block !important;position: relative;}#sk-container-id-3 div.sk-text-repr-fallback {display: none;}</style><div id=\"sk-container-id-3\" class=\"sk-top-container\"><div class=\"sk-text-repr-fallback\"><pre>TransformedTargetRegressor(regressor=Pipeline(steps=[(&#x27;poly&#x27;,\n",
       "                                                      PolynomialFeatures(degree=3,\n",
       "                                                                         include_bias=False)),\n",
       "                                                     (&#x27;regressor&#x27;,\n",
       "                                                      Ridge(alpha=30))]),\n",
       "                           transformer=PowerTransformer())</pre><b>In a Jupyter environment, please rerun this cell to show the HTML representation or trust the notebook. <br />On GitHub, the HTML representation is unable to render, please try loading this page with nbviewer.org.</b></div><div class=\"sk-container\" hidden><div class=\"sk-item sk-dashed-wrapped\"><div class=\"sk-label-container\"><div class=\"sk-label sk-toggleable\"><input class=\"sk-toggleable__control sk-hidden--visually\" id=\"sk-estimator-id-13\" type=\"checkbox\" ><label for=\"sk-estimator-id-13\" class=\"sk-toggleable__label sk-toggleable__label-arrow\">TransformedTargetRegressor</label><div class=\"sk-toggleable__content\"><pre>TransformedTargetRegressor(regressor=Pipeline(steps=[(&#x27;poly&#x27;,\n",
       "                                                      PolynomialFeatures(degree=3,\n",
       "                                                                         include_bias=False)),\n",
       "                                                     (&#x27;regressor&#x27;,\n",
       "                                                      Ridge(alpha=30))]),\n",
       "                           transformer=PowerTransformer())</pre></div></div></div><div class=\"sk-parallel\"><div class=\"sk-parallel-item\"><div class=\"sk-item\"><div class=\"sk-label-container\"><div class=\"sk-label sk-toggleable\"><input class=\"sk-toggleable__control sk-hidden--visually\" id=\"sk-estimator-id-14\" type=\"checkbox\" ><label for=\"sk-estimator-id-14\" class=\"sk-toggleable__label sk-toggleable__label-arrow\">regressor: Pipeline</label><div class=\"sk-toggleable__content\"><pre>Pipeline(steps=[(&#x27;poly&#x27;, PolynomialFeatures(degree=3, include_bias=False)),\n",
       "                (&#x27;regressor&#x27;, Ridge(alpha=30))])</pre></div></div></div><div class=\"sk-serial\"><div class=\"sk-item\"><div class=\"sk-serial\"><div class=\"sk-item\"><div class=\"sk-estimator sk-toggleable\"><input class=\"sk-toggleable__control sk-hidden--visually\" id=\"sk-estimator-id-15\" type=\"checkbox\" ><label for=\"sk-estimator-id-15\" class=\"sk-toggleable__label sk-toggleable__label-arrow\">PolynomialFeatures</label><div class=\"sk-toggleable__content\"><pre>PolynomialFeatures(degree=3, include_bias=False)</pre></div></div></div><div class=\"sk-item\"><div class=\"sk-estimator sk-toggleable\"><input class=\"sk-toggleable__control sk-hidden--visually\" id=\"sk-estimator-id-16\" type=\"checkbox\" ><label for=\"sk-estimator-id-16\" class=\"sk-toggleable__label sk-toggleable__label-arrow\">Ridge</label><div class=\"sk-toggleable__content\"><pre>Ridge(alpha=30)</pre></div></div></div></div></div></div></div></div><div class=\"sk-parallel-item\"><div class=\"sk-item\"><div class=\"sk-label-container\"><div class=\"sk-label sk-toggleable\"><input class=\"sk-toggleable__control sk-hidden--visually\" id=\"sk-estimator-id-17\" type=\"checkbox\" ><label for=\"sk-estimator-id-17\" class=\"sk-toggleable__label sk-toggleable__label-arrow\">transformer: PowerTransformer</label><div class=\"sk-toggleable__content\"><pre>PowerTransformer()</pre></div></div></div><div class=\"sk-serial\"><div class=\"sk-item\"><div class=\"sk-estimator sk-toggleable\"><input class=\"sk-toggleable__control sk-hidden--visually\" id=\"sk-estimator-id-18\" type=\"checkbox\" ><label for=\"sk-estimator-id-18\" class=\"sk-toggleable__label sk-toggleable__label-arrow\">PowerTransformer</label><div class=\"sk-toggleable__content\"><pre>PowerTransformer()</pre></div></div></div></div></div></div></div></div></div></div>"
      ],
      "text/plain": [
       "TransformedTargetRegressor(regressor=Pipeline(steps=[('poly',\n",
       "                                                      PolynomialFeatures(degree=3,\n",
       "                                                                         include_bias=False)),\n",
       "                                                     ('regressor',\n",
       "                                                      Ridge(alpha=30))]),\n",
       "                           transformer=PowerTransformer())"
      ]
     },
     "execution_count": 62,
     "metadata": {},
     "output_type": "execute_result"
    }
   ],
   "source": [
    "xgb_model.fit(X_train, y_train)\n",
    "rf_model.fit(X_train, y_train)\n",
    "ridge_reg.fit(X_train, y_train)"
   ]
  },
  {
   "cell_type": "code",
   "execution_count": 63,
   "metadata": {},
   "outputs": [],
   "source": [
    "y_pred_xgb = xgb_model.predict(X_test)\n",
    "y_pred_rf = rf_model.predict(X_test)\n",
    "y_pred_ridge = ridge_reg.predict(X_test)"
   ]
  },
  {
   "cell_type": "code",
   "execution_count": 68,
   "metadata": {},
   "outputs": [
    {
     "data": {
      "text/plain": [
       "4480.714920787811"
      ]
     },
     "execution_count": 68,
     "metadata": {},
     "output_type": "execute_result"
    }
   ],
   "source": [
    "mean_absolute_error(y_test, y_pred_xgb)"
   ]
  },
  {
   "cell_type": "code",
   "execution_count": 73,
   "metadata": {},
   "outputs": [
    {
     "data": {
      "application/vnd.plotly.v1+json": {
       "config": {
        "plotlyServerURL": "https://plot.ly"
       },
       "data": [
        {
         "hovertemplate": "x=%{x}<br>y=%{y}<extra></extra>",
         "legendgroup": "",
         "marker": {
          "color": "#636efa",
          "symbol": "circle"
         },
         "mode": "markers",
         "name": "",
         "orientation": "v",
         "showlegend": false,
         "type": "scatter",
         "x": [
          1455.697460962528,
          168.90350941648802,
          22.3357241858197,
          332.1341258014411,
          82.75163461355096,
          1200.9666426406516,
          182.42184128590162,
          1308.686085493576,
          1382.5370406146003,
          902.061889447072,
          1630.981755172192,
          2107.761857782763,
          3473.685622073036,
          4168.0103579037295,
          11498.069576608992,
          4651.938593216364,
          868.848971513315,
          3583.1762108579283,
          1488.5872889720974,
          1182.9150645137347,
          1164.1992975244439,
          2392.738253185599,
          2857.089428384178,
          360.7301710840061,
          185.26614186848664
         ],
         "xaxis": "x",
         "y": [
          6997,
          1529,
          1529,
          0,
          0,
          1664,
          594,
          1836,
          8323,
          9667,
          2772,
          2772,
          1783,
          28508,
          28508,
          10674,
          6142,
          10557,
          1793,
          1793,
          3077,
          3077,
          614,
          1436,
          3083
         ],
         "yaxis": "y"
        }
       ],
       "layout": {
        "legend": {
         "tracegroupgap": 0
        },
        "margin": {
         "t": 60
        },
        "shapes": [
         {
          "type": "line",
          "x0": 0,
          "x1": 11498.069576608992,
          "y0": 0,
          "y1": 11498.069576608992
         }
        ],
        "template": {
         "data": {
          "bar": [
           {
            "error_x": {
             "color": "#2a3f5f"
            },
            "error_y": {
             "color": "#2a3f5f"
            },
            "marker": {
             "line": {
              "color": "#E5ECF6",
              "width": 0.5
             },
             "pattern": {
              "fillmode": "overlay",
              "size": 10,
              "solidity": 0.2
             }
            },
            "type": "bar"
           }
          ],
          "barpolar": [
           {
            "marker": {
             "line": {
              "color": "#E5ECF6",
              "width": 0.5
             },
             "pattern": {
              "fillmode": "overlay",
              "size": 10,
              "solidity": 0.2
             }
            },
            "type": "barpolar"
           }
          ],
          "carpet": [
           {
            "aaxis": {
             "endlinecolor": "#2a3f5f",
             "gridcolor": "white",
             "linecolor": "white",
             "minorgridcolor": "white",
             "startlinecolor": "#2a3f5f"
            },
            "baxis": {
             "endlinecolor": "#2a3f5f",
             "gridcolor": "white",
             "linecolor": "white",
             "minorgridcolor": "white",
             "startlinecolor": "#2a3f5f"
            },
            "type": "carpet"
           }
          ],
          "choropleth": [
           {
            "colorbar": {
             "outlinewidth": 0,
             "ticks": ""
            },
            "type": "choropleth"
           }
          ],
          "contour": [
           {
            "colorbar": {
             "outlinewidth": 0,
             "ticks": ""
            },
            "colorscale": [
             [
              0,
              "#0d0887"
             ],
             [
              0.1111111111111111,
              "#46039f"
             ],
             [
              0.2222222222222222,
              "#7201a8"
             ],
             [
              0.3333333333333333,
              "#9c179e"
             ],
             [
              0.4444444444444444,
              "#bd3786"
             ],
             [
              0.5555555555555556,
              "#d8576b"
             ],
             [
              0.6666666666666666,
              "#ed7953"
             ],
             [
              0.7777777777777778,
              "#fb9f3a"
             ],
             [
              0.8888888888888888,
              "#fdca26"
             ],
             [
              1,
              "#f0f921"
             ]
            ],
            "type": "contour"
           }
          ],
          "contourcarpet": [
           {
            "colorbar": {
             "outlinewidth": 0,
             "ticks": ""
            },
            "type": "contourcarpet"
           }
          ],
          "heatmap": [
           {
            "colorbar": {
             "outlinewidth": 0,
             "ticks": ""
            },
            "colorscale": [
             [
              0,
              "#0d0887"
             ],
             [
              0.1111111111111111,
              "#46039f"
             ],
             [
              0.2222222222222222,
              "#7201a8"
             ],
             [
              0.3333333333333333,
              "#9c179e"
             ],
             [
              0.4444444444444444,
              "#bd3786"
             ],
             [
              0.5555555555555556,
              "#d8576b"
             ],
             [
              0.6666666666666666,
              "#ed7953"
             ],
             [
              0.7777777777777778,
              "#fb9f3a"
             ],
             [
              0.8888888888888888,
              "#fdca26"
             ],
             [
              1,
              "#f0f921"
             ]
            ],
            "type": "heatmap"
           }
          ],
          "heatmapgl": [
           {
            "colorbar": {
             "outlinewidth": 0,
             "ticks": ""
            },
            "colorscale": [
             [
              0,
              "#0d0887"
             ],
             [
              0.1111111111111111,
              "#46039f"
             ],
             [
              0.2222222222222222,
              "#7201a8"
             ],
             [
              0.3333333333333333,
              "#9c179e"
             ],
             [
              0.4444444444444444,
              "#bd3786"
             ],
             [
              0.5555555555555556,
              "#d8576b"
             ],
             [
              0.6666666666666666,
              "#ed7953"
             ],
             [
              0.7777777777777778,
              "#fb9f3a"
             ],
             [
              0.8888888888888888,
              "#fdca26"
             ],
             [
              1,
              "#f0f921"
             ]
            ],
            "type": "heatmapgl"
           }
          ],
          "histogram": [
           {
            "marker": {
             "pattern": {
              "fillmode": "overlay",
              "size": 10,
              "solidity": 0.2
             }
            },
            "type": "histogram"
           }
          ],
          "histogram2d": [
           {
            "colorbar": {
             "outlinewidth": 0,
             "ticks": ""
            },
            "colorscale": [
             [
              0,
              "#0d0887"
             ],
             [
              0.1111111111111111,
              "#46039f"
             ],
             [
              0.2222222222222222,
              "#7201a8"
             ],
             [
              0.3333333333333333,
              "#9c179e"
             ],
             [
              0.4444444444444444,
              "#bd3786"
             ],
             [
              0.5555555555555556,
              "#d8576b"
             ],
             [
              0.6666666666666666,
              "#ed7953"
             ],
             [
              0.7777777777777778,
              "#fb9f3a"
             ],
             [
              0.8888888888888888,
              "#fdca26"
             ],
             [
              1,
              "#f0f921"
             ]
            ],
            "type": "histogram2d"
           }
          ],
          "histogram2dcontour": [
           {
            "colorbar": {
             "outlinewidth": 0,
             "ticks": ""
            },
            "colorscale": [
             [
              0,
              "#0d0887"
             ],
             [
              0.1111111111111111,
              "#46039f"
             ],
             [
              0.2222222222222222,
              "#7201a8"
             ],
             [
              0.3333333333333333,
              "#9c179e"
             ],
             [
              0.4444444444444444,
              "#bd3786"
             ],
             [
              0.5555555555555556,
              "#d8576b"
             ],
             [
              0.6666666666666666,
              "#ed7953"
             ],
             [
              0.7777777777777778,
              "#fb9f3a"
             ],
             [
              0.8888888888888888,
              "#fdca26"
             ],
             [
              1,
              "#f0f921"
             ]
            ],
            "type": "histogram2dcontour"
           }
          ],
          "mesh3d": [
           {
            "colorbar": {
             "outlinewidth": 0,
             "ticks": ""
            },
            "type": "mesh3d"
           }
          ],
          "parcoords": [
           {
            "line": {
             "colorbar": {
              "outlinewidth": 0,
              "ticks": ""
             }
            },
            "type": "parcoords"
           }
          ],
          "pie": [
           {
            "automargin": true,
            "type": "pie"
           }
          ],
          "scatter": [
           {
            "fillpattern": {
             "fillmode": "overlay",
             "size": 10,
             "solidity": 0.2
            },
            "type": "scatter"
           }
          ],
          "scatter3d": [
           {
            "line": {
             "colorbar": {
              "outlinewidth": 0,
              "ticks": ""
             }
            },
            "marker": {
             "colorbar": {
              "outlinewidth": 0,
              "ticks": ""
             }
            },
            "type": "scatter3d"
           }
          ],
          "scattercarpet": [
           {
            "marker": {
             "colorbar": {
              "outlinewidth": 0,
              "ticks": ""
             }
            },
            "type": "scattercarpet"
           }
          ],
          "scattergeo": [
           {
            "marker": {
             "colorbar": {
              "outlinewidth": 0,
              "ticks": ""
             }
            },
            "type": "scattergeo"
           }
          ],
          "scattergl": [
           {
            "marker": {
             "colorbar": {
              "outlinewidth": 0,
              "ticks": ""
             }
            },
            "type": "scattergl"
           }
          ],
          "scattermapbox": [
           {
            "marker": {
             "colorbar": {
              "outlinewidth": 0,
              "ticks": ""
             }
            },
            "type": "scattermapbox"
           }
          ],
          "scatterpolar": [
           {
            "marker": {
             "colorbar": {
              "outlinewidth": 0,
              "ticks": ""
             }
            },
            "type": "scatterpolar"
           }
          ],
          "scatterpolargl": [
           {
            "marker": {
             "colorbar": {
              "outlinewidth": 0,
              "ticks": ""
             }
            },
            "type": "scatterpolargl"
           }
          ],
          "scatterternary": [
           {
            "marker": {
             "colorbar": {
              "outlinewidth": 0,
              "ticks": ""
             }
            },
            "type": "scatterternary"
           }
          ],
          "surface": [
           {
            "colorbar": {
             "outlinewidth": 0,
             "ticks": ""
            },
            "colorscale": [
             [
              0,
              "#0d0887"
             ],
             [
              0.1111111111111111,
              "#46039f"
             ],
             [
              0.2222222222222222,
              "#7201a8"
             ],
             [
              0.3333333333333333,
              "#9c179e"
             ],
             [
              0.4444444444444444,
              "#bd3786"
             ],
             [
              0.5555555555555556,
              "#d8576b"
             ],
             [
              0.6666666666666666,
              "#ed7953"
             ],
             [
              0.7777777777777778,
              "#fb9f3a"
             ],
             [
              0.8888888888888888,
              "#fdca26"
             ],
             [
              1,
              "#f0f921"
             ]
            ],
            "type": "surface"
           }
          ],
          "table": [
           {
            "cells": {
             "fill": {
              "color": "#EBF0F8"
             },
             "line": {
              "color": "white"
             }
            },
            "header": {
             "fill": {
              "color": "#C8D4E3"
             },
             "line": {
              "color": "white"
             }
            },
            "type": "table"
           }
          ]
         },
         "layout": {
          "annotationdefaults": {
           "arrowcolor": "#2a3f5f",
           "arrowhead": 0,
           "arrowwidth": 1
          },
          "autotypenumbers": "strict",
          "coloraxis": {
           "colorbar": {
            "outlinewidth": 0,
            "ticks": ""
           }
          },
          "colorscale": {
           "diverging": [
            [
             0,
             "#8e0152"
            ],
            [
             0.1,
             "#c51b7d"
            ],
            [
             0.2,
             "#de77ae"
            ],
            [
             0.3,
             "#f1b6da"
            ],
            [
             0.4,
             "#fde0ef"
            ],
            [
             0.5,
             "#f7f7f7"
            ],
            [
             0.6,
             "#e6f5d0"
            ],
            [
             0.7,
             "#b8e186"
            ],
            [
             0.8,
             "#7fbc41"
            ],
            [
             0.9,
             "#4d9221"
            ],
            [
             1,
             "#276419"
            ]
           ],
           "sequential": [
            [
             0,
             "#0d0887"
            ],
            [
             0.1111111111111111,
             "#46039f"
            ],
            [
             0.2222222222222222,
             "#7201a8"
            ],
            [
             0.3333333333333333,
             "#9c179e"
            ],
            [
             0.4444444444444444,
             "#bd3786"
            ],
            [
             0.5555555555555556,
             "#d8576b"
            ],
            [
             0.6666666666666666,
             "#ed7953"
            ],
            [
             0.7777777777777778,
             "#fb9f3a"
            ],
            [
             0.8888888888888888,
             "#fdca26"
            ],
            [
             1,
             "#f0f921"
            ]
           ],
           "sequentialminus": [
            [
             0,
             "#0d0887"
            ],
            [
             0.1111111111111111,
             "#46039f"
            ],
            [
             0.2222222222222222,
             "#7201a8"
            ],
            [
             0.3333333333333333,
             "#9c179e"
            ],
            [
             0.4444444444444444,
             "#bd3786"
            ],
            [
             0.5555555555555556,
             "#d8576b"
            ],
            [
             0.6666666666666666,
             "#ed7953"
            ],
            [
             0.7777777777777778,
             "#fb9f3a"
            ],
            [
             0.8888888888888888,
             "#fdca26"
            ],
            [
             1,
             "#f0f921"
            ]
           ]
          },
          "colorway": [
           "#636efa",
           "#EF553B",
           "#00cc96",
           "#ab63fa",
           "#FFA15A",
           "#19d3f3",
           "#FF6692",
           "#B6E880",
           "#FF97FF",
           "#FECB52"
          ],
          "font": {
           "color": "#2a3f5f"
          },
          "geo": {
           "bgcolor": "white",
           "lakecolor": "white",
           "landcolor": "#E5ECF6",
           "showlakes": true,
           "showland": true,
           "subunitcolor": "white"
          },
          "hoverlabel": {
           "align": "left"
          },
          "hovermode": "closest",
          "mapbox": {
           "style": "light"
          },
          "paper_bgcolor": "white",
          "plot_bgcolor": "#E5ECF6",
          "polar": {
           "angularaxis": {
            "gridcolor": "white",
            "linecolor": "white",
            "ticks": ""
           },
           "bgcolor": "#E5ECF6",
           "radialaxis": {
            "gridcolor": "white",
            "linecolor": "white",
            "ticks": ""
           }
          },
          "scene": {
           "xaxis": {
            "backgroundcolor": "#E5ECF6",
            "gridcolor": "white",
            "gridwidth": 2,
            "linecolor": "white",
            "showbackground": true,
            "ticks": "",
            "zerolinecolor": "white"
           },
           "yaxis": {
            "backgroundcolor": "#E5ECF6",
            "gridcolor": "white",
            "gridwidth": 2,
            "linecolor": "white",
            "showbackground": true,
            "ticks": "",
            "zerolinecolor": "white"
           },
           "zaxis": {
            "backgroundcolor": "#E5ECF6",
            "gridcolor": "white",
            "gridwidth": 2,
            "linecolor": "white",
            "showbackground": true,
            "ticks": "",
            "zerolinecolor": "white"
           }
          },
          "shapedefaults": {
           "line": {
            "color": "#2a3f5f"
           }
          },
          "ternary": {
           "aaxis": {
            "gridcolor": "white",
            "linecolor": "white",
            "ticks": ""
           },
           "baxis": {
            "gridcolor": "white",
            "linecolor": "white",
            "ticks": ""
           },
           "bgcolor": "#E5ECF6",
           "caxis": {
            "gridcolor": "white",
            "linecolor": "white",
            "ticks": ""
           }
          },
          "title": {
           "x": 0.05
          },
          "xaxis": {
           "automargin": true,
           "gridcolor": "white",
           "linecolor": "white",
           "ticks": "",
           "title": {
            "standoff": 15
           },
           "zerolinecolor": "white",
           "zerolinewidth": 2
          },
          "yaxis": {
           "automargin": true,
           "gridcolor": "white",
           "linecolor": "white",
           "ticks": "",
           "title": {
            "standoff": 15
           },
           "zerolinecolor": "white",
           "zerolinewidth": 2
          }
         }
        },
        "xaxis": {
         "anchor": "y",
         "domain": [
          0,
          1
         ],
         "title": {
          "text": "x"
         }
        },
        "yaxis": {
         "anchor": "x",
         "domain": [
          0,
          1
         ],
         "title": {
          "text": "y"
         }
        }
       }
      }
     },
     "metadata": {},
     "output_type": "display_data"
    }
   ],
   "source": [
    "y_pred = y_pred_ridge\n",
    "\n",
    "fig = px.scatter(x = y_pred, y = y_test)\n",
    "fig.update_layout(shapes=[{\"type\": \"line\", \"y0\":0, \"y1\":max(y_pred), \"x0\":0, \"x1\": max(y_pred)}])"
   ]
  },
  {
   "cell_type": "code",
   "execution_count": 93,
   "metadata": {},
   "outputs": [
    {
     "data": {
      "text/plain": [
       "5"
      ]
     },
     "execution_count": 93,
     "metadata": {},
     "output_type": "execute_result"
    }
   ],
   "source": [
    "max(max([1, 2]), max([2, 5]))"
   ]
  },
  {
   "cell_type": "code",
   "execution_count": 97,
   "metadata": {},
   "outputs": [
    {
     "data": {
      "text/plain": [
       "plotly.graph_objs._figure.Figure"
      ]
     },
     "execution_count": 97,
     "metadata": {},
     "output_type": "execute_result"
    }
   ],
   "source": [
    "type(px.scatter(x=[1], y=[2]))"
   ]
  },
  {
   "cell_type": "code",
   "execution_count": null,
   "metadata": {},
   "outputs": [],
   "source": [
    "rf_params\n",
    "\n",
    "reg = RandomForestRegressor(**rf_best_params, criterion=\"absolute_error\")\n",
    "\n",
    "poly_reg = Pipeline([\n",
    "        (\"poly\", poly),\n",
    "        (\"regressor\", reg)\n",
    "    ])\n",
    "\n",
    "model = TransformedTargetRegressor(\n",
    "    regressor = poly_reg,\n",
    "    transformer=PowerTransformer(method=\"yeo-johnson\")\n",
    ")\n",
    "\n",
    "cross_val_score(model, X_train, y_train, cv=3, scoring=\"neg_mean_absolute_error\")"
   ]
  },
  {
   "cell_type": "code",
   "execution_count": 86,
   "metadata": {},
   "outputs": [
    {
     "data": {
      "text/plain": [
       "array([-3545.84301486, -4014.6469351 , -1942.49528751])"
      ]
     },
     "execution_count": 86,
     "metadata": {},
     "output_type": "execute_result"
    }
   ],
   "source": [
    "from sklearn.ensemble import StackingRegressor\n",
    "from sklearn.linear_model import RidgeCV\n",
    "from sklearn.neighbors import KNeighborsRegressor\n",
    "from sklearn.linear_model import Lasso\n",
    "\n",
    "estimators = [\n",
    "    ('ridge', ridge_reg),\n",
    "    ('xgboost', xgb_reg),\n",
    "    ('lasso', Lasso())\n",
    "    #('knr', KNeighborsRegressor(n_neighbors=4, metric='minkowski'))\n",
    "    ]\n",
    "\n",
    "stack_reg = StackingRegressor(\n",
    "    estimators = estimators,\n",
    "    final_estimator=RidgeCV()\n",
    ")\n",
    "\n",
    "stack_model = create_model(stack_reg)\n",
    "\n",
    "cross_val_score(stack_model, X_train, y_train, cv=3, scoring=\"neg_mean_absolute_error\")"
   ]
  },
  {
   "cell_type": "code",
   "execution_count": 87,
   "metadata": {},
   "outputs": [
    {
     "data": {
      "text/plain": [
       "4699.349422840397"
      ]
     },
     "execution_count": 87,
     "metadata": {},
     "output_type": "execute_result"
    }
   ],
   "source": [
    "stack_model.fit(X_train, y_train)\n",
    "y_stack = stack_model.predict(X_test)\n",
    "mean_absolute_error(y_test, y_stack)"
   ]
  },
  {
   "cell_type": "code",
   "execution_count": 88,
   "metadata": {},
   "outputs": [
    {
     "data": {
      "application/vnd.plotly.v1+json": {
       "config": {
        "plotlyServerURL": "https://plot.ly"
       },
       "data": [
        {
         "hovertemplate": "x=%{x}<br>y=%{y}<extra></extra>",
         "legendgroup": "",
         "marker": {
          "color": "#636efa",
          "symbol": "circle"
         },
         "mode": "markers",
         "name": "",
         "orientation": "v",
         "showlegend": false,
         "type": "scatter",
         "x": [
          710.089906393218,
          50.81339343541855,
          821.0723898119517,
          20.93759450994575,
          171.7732248856869,
          76.91706089159672,
          51.24145583401785,
          12.487659876498707,
          1333.915184542339,
          631.503147452276,
          370.81233725582683,
          698.987278179415,
          7603.2359379317095,
          7244.069943158311,
          1768.9358160769325,
          4165.33641716828,
          201.502520463654,
          3671.2537841079957,
          573.9810789190457,
          269.91929966649855,
          77.36629041271858,
          1653.3457977763637,
          394.87552398738404,
          663.5016484718419,
          32.28325243583051
         ],
         "xaxis": "x",
         "y": [
          6997,
          1529,
          1529,
          0,
          0,
          1664,
          594,
          1836,
          8323,
          9667,
          2772,
          2772,
          1783,
          28508,
          28508,
          10674,
          6142,
          10557,
          1793,
          1793,
          3077,
          3077,
          614,
          1436,
          3083
         ],
         "yaxis": "y"
        }
       ],
       "layout": {
        "legend": {
         "tracegroupgap": 0
        },
        "margin": {
         "t": 60
        },
        "shapes": [
         {
          "type": "line",
          "x0": 0,
          "x1": 7603.2359379317095,
          "y0": 0,
          "y1": 7603.2359379317095
         }
        ],
        "template": {
         "data": {
          "bar": [
           {
            "error_x": {
             "color": "#2a3f5f"
            },
            "error_y": {
             "color": "#2a3f5f"
            },
            "marker": {
             "line": {
              "color": "#E5ECF6",
              "width": 0.5
             },
             "pattern": {
              "fillmode": "overlay",
              "size": 10,
              "solidity": 0.2
             }
            },
            "type": "bar"
           }
          ],
          "barpolar": [
           {
            "marker": {
             "line": {
              "color": "#E5ECF6",
              "width": 0.5
             },
             "pattern": {
              "fillmode": "overlay",
              "size": 10,
              "solidity": 0.2
             }
            },
            "type": "barpolar"
           }
          ],
          "carpet": [
           {
            "aaxis": {
             "endlinecolor": "#2a3f5f",
             "gridcolor": "white",
             "linecolor": "white",
             "minorgridcolor": "white",
             "startlinecolor": "#2a3f5f"
            },
            "baxis": {
             "endlinecolor": "#2a3f5f",
             "gridcolor": "white",
             "linecolor": "white",
             "minorgridcolor": "white",
             "startlinecolor": "#2a3f5f"
            },
            "type": "carpet"
           }
          ],
          "choropleth": [
           {
            "colorbar": {
             "outlinewidth": 0,
             "ticks": ""
            },
            "type": "choropleth"
           }
          ],
          "contour": [
           {
            "colorbar": {
             "outlinewidth": 0,
             "ticks": ""
            },
            "colorscale": [
             [
              0,
              "#0d0887"
             ],
             [
              0.1111111111111111,
              "#46039f"
             ],
             [
              0.2222222222222222,
              "#7201a8"
             ],
             [
              0.3333333333333333,
              "#9c179e"
             ],
             [
              0.4444444444444444,
              "#bd3786"
             ],
             [
              0.5555555555555556,
              "#d8576b"
             ],
             [
              0.6666666666666666,
              "#ed7953"
             ],
             [
              0.7777777777777778,
              "#fb9f3a"
             ],
             [
              0.8888888888888888,
              "#fdca26"
             ],
             [
              1,
              "#f0f921"
             ]
            ],
            "type": "contour"
           }
          ],
          "contourcarpet": [
           {
            "colorbar": {
             "outlinewidth": 0,
             "ticks": ""
            },
            "type": "contourcarpet"
           }
          ],
          "heatmap": [
           {
            "colorbar": {
             "outlinewidth": 0,
             "ticks": ""
            },
            "colorscale": [
             [
              0,
              "#0d0887"
             ],
             [
              0.1111111111111111,
              "#46039f"
             ],
             [
              0.2222222222222222,
              "#7201a8"
             ],
             [
              0.3333333333333333,
              "#9c179e"
             ],
             [
              0.4444444444444444,
              "#bd3786"
             ],
             [
              0.5555555555555556,
              "#d8576b"
             ],
             [
              0.6666666666666666,
              "#ed7953"
             ],
             [
              0.7777777777777778,
              "#fb9f3a"
             ],
             [
              0.8888888888888888,
              "#fdca26"
             ],
             [
              1,
              "#f0f921"
             ]
            ],
            "type": "heatmap"
           }
          ],
          "heatmapgl": [
           {
            "colorbar": {
             "outlinewidth": 0,
             "ticks": ""
            },
            "colorscale": [
             [
              0,
              "#0d0887"
             ],
             [
              0.1111111111111111,
              "#46039f"
             ],
             [
              0.2222222222222222,
              "#7201a8"
             ],
             [
              0.3333333333333333,
              "#9c179e"
             ],
             [
              0.4444444444444444,
              "#bd3786"
             ],
             [
              0.5555555555555556,
              "#d8576b"
             ],
             [
              0.6666666666666666,
              "#ed7953"
             ],
             [
              0.7777777777777778,
              "#fb9f3a"
             ],
             [
              0.8888888888888888,
              "#fdca26"
             ],
             [
              1,
              "#f0f921"
             ]
            ],
            "type": "heatmapgl"
           }
          ],
          "histogram": [
           {
            "marker": {
             "pattern": {
              "fillmode": "overlay",
              "size": 10,
              "solidity": 0.2
             }
            },
            "type": "histogram"
           }
          ],
          "histogram2d": [
           {
            "colorbar": {
             "outlinewidth": 0,
             "ticks": ""
            },
            "colorscale": [
             [
              0,
              "#0d0887"
             ],
             [
              0.1111111111111111,
              "#46039f"
             ],
             [
              0.2222222222222222,
              "#7201a8"
             ],
             [
              0.3333333333333333,
              "#9c179e"
             ],
             [
              0.4444444444444444,
              "#bd3786"
             ],
             [
              0.5555555555555556,
              "#d8576b"
             ],
             [
              0.6666666666666666,
              "#ed7953"
             ],
             [
              0.7777777777777778,
              "#fb9f3a"
             ],
             [
              0.8888888888888888,
              "#fdca26"
             ],
             [
              1,
              "#f0f921"
             ]
            ],
            "type": "histogram2d"
           }
          ],
          "histogram2dcontour": [
           {
            "colorbar": {
             "outlinewidth": 0,
             "ticks": ""
            },
            "colorscale": [
             [
              0,
              "#0d0887"
             ],
             [
              0.1111111111111111,
              "#46039f"
             ],
             [
              0.2222222222222222,
              "#7201a8"
             ],
             [
              0.3333333333333333,
              "#9c179e"
             ],
             [
              0.4444444444444444,
              "#bd3786"
             ],
             [
              0.5555555555555556,
              "#d8576b"
             ],
             [
              0.6666666666666666,
              "#ed7953"
             ],
             [
              0.7777777777777778,
              "#fb9f3a"
             ],
             [
              0.8888888888888888,
              "#fdca26"
             ],
             [
              1,
              "#f0f921"
             ]
            ],
            "type": "histogram2dcontour"
           }
          ],
          "mesh3d": [
           {
            "colorbar": {
             "outlinewidth": 0,
             "ticks": ""
            },
            "type": "mesh3d"
           }
          ],
          "parcoords": [
           {
            "line": {
             "colorbar": {
              "outlinewidth": 0,
              "ticks": ""
             }
            },
            "type": "parcoords"
           }
          ],
          "pie": [
           {
            "automargin": true,
            "type": "pie"
           }
          ],
          "scatter": [
           {
            "fillpattern": {
             "fillmode": "overlay",
             "size": 10,
             "solidity": 0.2
            },
            "type": "scatter"
           }
          ],
          "scatter3d": [
           {
            "line": {
             "colorbar": {
              "outlinewidth": 0,
              "ticks": ""
             }
            },
            "marker": {
             "colorbar": {
              "outlinewidth": 0,
              "ticks": ""
             }
            },
            "type": "scatter3d"
           }
          ],
          "scattercarpet": [
           {
            "marker": {
             "colorbar": {
              "outlinewidth": 0,
              "ticks": ""
             }
            },
            "type": "scattercarpet"
           }
          ],
          "scattergeo": [
           {
            "marker": {
             "colorbar": {
              "outlinewidth": 0,
              "ticks": ""
             }
            },
            "type": "scattergeo"
           }
          ],
          "scattergl": [
           {
            "marker": {
             "colorbar": {
              "outlinewidth": 0,
              "ticks": ""
             }
            },
            "type": "scattergl"
           }
          ],
          "scattermapbox": [
           {
            "marker": {
             "colorbar": {
              "outlinewidth": 0,
              "ticks": ""
             }
            },
            "type": "scattermapbox"
           }
          ],
          "scatterpolar": [
           {
            "marker": {
             "colorbar": {
              "outlinewidth": 0,
              "ticks": ""
             }
            },
            "type": "scatterpolar"
           }
          ],
          "scatterpolargl": [
           {
            "marker": {
             "colorbar": {
              "outlinewidth": 0,
              "ticks": ""
             }
            },
            "type": "scatterpolargl"
           }
          ],
          "scatterternary": [
           {
            "marker": {
             "colorbar": {
              "outlinewidth": 0,
              "ticks": ""
             }
            },
            "type": "scatterternary"
           }
          ],
          "surface": [
           {
            "colorbar": {
             "outlinewidth": 0,
             "ticks": ""
            },
            "colorscale": [
             [
              0,
              "#0d0887"
             ],
             [
              0.1111111111111111,
              "#46039f"
             ],
             [
              0.2222222222222222,
              "#7201a8"
             ],
             [
              0.3333333333333333,
              "#9c179e"
             ],
             [
              0.4444444444444444,
              "#bd3786"
             ],
             [
              0.5555555555555556,
              "#d8576b"
             ],
             [
              0.6666666666666666,
              "#ed7953"
             ],
             [
              0.7777777777777778,
              "#fb9f3a"
             ],
             [
              0.8888888888888888,
              "#fdca26"
             ],
             [
              1,
              "#f0f921"
             ]
            ],
            "type": "surface"
           }
          ],
          "table": [
           {
            "cells": {
             "fill": {
              "color": "#EBF0F8"
             },
             "line": {
              "color": "white"
             }
            },
            "header": {
             "fill": {
              "color": "#C8D4E3"
             },
             "line": {
              "color": "white"
             }
            },
            "type": "table"
           }
          ]
         },
         "layout": {
          "annotationdefaults": {
           "arrowcolor": "#2a3f5f",
           "arrowhead": 0,
           "arrowwidth": 1
          },
          "autotypenumbers": "strict",
          "coloraxis": {
           "colorbar": {
            "outlinewidth": 0,
            "ticks": ""
           }
          },
          "colorscale": {
           "diverging": [
            [
             0,
             "#8e0152"
            ],
            [
             0.1,
             "#c51b7d"
            ],
            [
             0.2,
             "#de77ae"
            ],
            [
             0.3,
             "#f1b6da"
            ],
            [
             0.4,
             "#fde0ef"
            ],
            [
             0.5,
             "#f7f7f7"
            ],
            [
             0.6,
             "#e6f5d0"
            ],
            [
             0.7,
             "#b8e186"
            ],
            [
             0.8,
             "#7fbc41"
            ],
            [
             0.9,
             "#4d9221"
            ],
            [
             1,
             "#276419"
            ]
           ],
           "sequential": [
            [
             0,
             "#0d0887"
            ],
            [
             0.1111111111111111,
             "#46039f"
            ],
            [
             0.2222222222222222,
             "#7201a8"
            ],
            [
             0.3333333333333333,
             "#9c179e"
            ],
            [
             0.4444444444444444,
             "#bd3786"
            ],
            [
             0.5555555555555556,
             "#d8576b"
            ],
            [
             0.6666666666666666,
             "#ed7953"
            ],
            [
             0.7777777777777778,
             "#fb9f3a"
            ],
            [
             0.8888888888888888,
             "#fdca26"
            ],
            [
             1,
             "#f0f921"
            ]
           ],
           "sequentialminus": [
            [
             0,
             "#0d0887"
            ],
            [
             0.1111111111111111,
             "#46039f"
            ],
            [
             0.2222222222222222,
             "#7201a8"
            ],
            [
             0.3333333333333333,
             "#9c179e"
            ],
            [
             0.4444444444444444,
             "#bd3786"
            ],
            [
             0.5555555555555556,
             "#d8576b"
            ],
            [
             0.6666666666666666,
             "#ed7953"
            ],
            [
             0.7777777777777778,
             "#fb9f3a"
            ],
            [
             0.8888888888888888,
             "#fdca26"
            ],
            [
             1,
             "#f0f921"
            ]
           ]
          },
          "colorway": [
           "#636efa",
           "#EF553B",
           "#00cc96",
           "#ab63fa",
           "#FFA15A",
           "#19d3f3",
           "#FF6692",
           "#B6E880",
           "#FF97FF",
           "#FECB52"
          ],
          "font": {
           "color": "#2a3f5f"
          },
          "geo": {
           "bgcolor": "white",
           "lakecolor": "white",
           "landcolor": "#E5ECF6",
           "showlakes": true,
           "showland": true,
           "subunitcolor": "white"
          },
          "hoverlabel": {
           "align": "left"
          },
          "hovermode": "closest",
          "mapbox": {
           "style": "light"
          },
          "paper_bgcolor": "white",
          "plot_bgcolor": "#E5ECF6",
          "polar": {
           "angularaxis": {
            "gridcolor": "white",
            "linecolor": "white",
            "ticks": ""
           },
           "bgcolor": "#E5ECF6",
           "radialaxis": {
            "gridcolor": "white",
            "linecolor": "white",
            "ticks": ""
           }
          },
          "scene": {
           "xaxis": {
            "backgroundcolor": "#E5ECF6",
            "gridcolor": "white",
            "gridwidth": 2,
            "linecolor": "white",
            "showbackground": true,
            "ticks": "",
            "zerolinecolor": "white"
           },
           "yaxis": {
            "backgroundcolor": "#E5ECF6",
            "gridcolor": "white",
            "gridwidth": 2,
            "linecolor": "white",
            "showbackground": true,
            "ticks": "",
            "zerolinecolor": "white"
           },
           "zaxis": {
            "backgroundcolor": "#E5ECF6",
            "gridcolor": "white",
            "gridwidth": 2,
            "linecolor": "white",
            "showbackground": true,
            "ticks": "",
            "zerolinecolor": "white"
           }
          },
          "shapedefaults": {
           "line": {
            "color": "#2a3f5f"
           }
          },
          "ternary": {
           "aaxis": {
            "gridcolor": "white",
            "linecolor": "white",
            "ticks": ""
           },
           "baxis": {
            "gridcolor": "white",
            "linecolor": "white",
            "ticks": ""
           },
           "bgcolor": "#E5ECF6",
           "caxis": {
            "gridcolor": "white",
            "linecolor": "white",
            "ticks": ""
           }
          },
          "title": {
           "x": 0.05
          },
          "xaxis": {
           "automargin": true,
           "gridcolor": "white",
           "linecolor": "white",
           "ticks": "",
           "title": {
            "standoff": 15
           },
           "zerolinecolor": "white",
           "zerolinewidth": 2
          },
          "yaxis": {
           "automargin": true,
           "gridcolor": "white",
           "linecolor": "white",
           "ticks": "",
           "title": {
            "standoff": 15
           },
           "zerolinecolor": "white",
           "zerolinewidth": 2
          }
         }
        },
        "xaxis": {
         "anchor": "y",
         "domain": [
          0,
          1
         ],
         "title": {
          "text": "x"
         }
        },
        "yaxis": {
         "anchor": "x",
         "domain": [
          0,
          1
         ],
         "title": {
          "text": "y"
         }
        }
       }
      }
     },
     "metadata": {},
     "output_type": "display_data"
    }
   ],
   "source": [
    "y_pred = y_stack\n",
    "\n",
    "fig = px.scatter(x = y_pred, y = y_test)\n",
    "fig.update_layout(shapes=[{\"type\": \"line\", \"y0\":0, \"y1\":max(y_pred), \"x0\":0, \"x1\": max(y_pred)}])"
   ]
  },
  {
   "cell_type": "code",
   "execution_count": 89,
   "metadata": {},
   "outputs": [
    {
     "data": {
      "text/plain": [
       "array([-3930.46262618, -4177.41226852, -2474.57205878])"
      ]
     },
     "execution_count": 89,
     "metadata": {},
     "output_type": "execute_result"
    }
   ],
   "source": [
    "from sklearn.ensemble import VotingRegressor\n",
    "\n",
    "vr = VotingRegressor(estimators=estimators)\n",
    "\n",
    "voting_model = create_model(vr)\n",
    "\n",
    "cross_val_score(voting_model, X_train, y_train, cv=3, scoring=\"neg_mean_absolute_error\")"
   ]
  },
  {
   "cell_type": "code",
   "execution_count": 90,
   "metadata": {},
   "outputs": [
    {
     "name": "stdout",
     "output_type": "stream",
     "text": [
      "4699.349422840397\n"
     ]
    },
    {
     "data": {
      "application/vnd.plotly.v1+json": {
       "config": {
        "plotlyServerURL": "https://plot.ly"
       },
       "data": [
        {
         "hovertemplate": "x=%{x}<br>y=%{y}<extra></extra>",
         "legendgroup": "",
         "marker": {
          "color": "#636efa",
          "symbol": "circle"
         },
         "mode": "markers",
         "name": "",
         "orientation": "v",
         "showlegend": false,
         "type": "scatter",
         "x": [
          710.089906393218,
          50.81339343541855,
          821.0723898119517,
          20.93759450994575,
          171.7732248856869,
          76.91706089159672,
          51.24145583401785,
          12.487659876498707,
          1333.915184542339,
          631.503147452276,
          370.81233725582683,
          698.987278179415,
          7603.2359379317095,
          7244.069943158311,
          1768.9358160769325,
          4165.33641716828,
          201.502520463654,
          3671.2537841079957,
          573.9810789190457,
          269.91929966649855,
          77.36629041271858,
          1653.3457977763637,
          394.87552398738404,
          663.5016484718419,
          32.28325243583051
         ],
         "xaxis": "x",
         "y": [
          6997,
          1529,
          1529,
          0,
          0,
          1664,
          594,
          1836,
          8323,
          9667,
          2772,
          2772,
          1783,
          28508,
          28508,
          10674,
          6142,
          10557,
          1793,
          1793,
          3077,
          3077,
          614,
          1436,
          3083
         ],
         "yaxis": "y"
        }
       ],
       "layout": {
        "legend": {
         "tracegroupgap": 0
        },
        "margin": {
         "t": 60
        },
        "shapes": [
         {
          "type": "line",
          "x0": 0,
          "x1": 7603.2359379317095,
          "y0": 0,
          "y1": 7603.2359379317095
         }
        ],
        "template": {
         "data": {
          "bar": [
           {
            "error_x": {
             "color": "#2a3f5f"
            },
            "error_y": {
             "color": "#2a3f5f"
            },
            "marker": {
             "line": {
              "color": "#E5ECF6",
              "width": 0.5
             },
             "pattern": {
              "fillmode": "overlay",
              "size": 10,
              "solidity": 0.2
             }
            },
            "type": "bar"
           }
          ],
          "barpolar": [
           {
            "marker": {
             "line": {
              "color": "#E5ECF6",
              "width": 0.5
             },
             "pattern": {
              "fillmode": "overlay",
              "size": 10,
              "solidity": 0.2
             }
            },
            "type": "barpolar"
           }
          ],
          "carpet": [
           {
            "aaxis": {
             "endlinecolor": "#2a3f5f",
             "gridcolor": "white",
             "linecolor": "white",
             "minorgridcolor": "white",
             "startlinecolor": "#2a3f5f"
            },
            "baxis": {
             "endlinecolor": "#2a3f5f",
             "gridcolor": "white",
             "linecolor": "white",
             "minorgridcolor": "white",
             "startlinecolor": "#2a3f5f"
            },
            "type": "carpet"
           }
          ],
          "choropleth": [
           {
            "colorbar": {
             "outlinewidth": 0,
             "ticks": ""
            },
            "type": "choropleth"
           }
          ],
          "contour": [
           {
            "colorbar": {
             "outlinewidth": 0,
             "ticks": ""
            },
            "colorscale": [
             [
              0,
              "#0d0887"
             ],
             [
              0.1111111111111111,
              "#46039f"
             ],
             [
              0.2222222222222222,
              "#7201a8"
             ],
             [
              0.3333333333333333,
              "#9c179e"
             ],
             [
              0.4444444444444444,
              "#bd3786"
             ],
             [
              0.5555555555555556,
              "#d8576b"
             ],
             [
              0.6666666666666666,
              "#ed7953"
             ],
             [
              0.7777777777777778,
              "#fb9f3a"
             ],
             [
              0.8888888888888888,
              "#fdca26"
             ],
             [
              1,
              "#f0f921"
             ]
            ],
            "type": "contour"
           }
          ],
          "contourcarpet": [
           {
            "colorbar": {
             "outlinewidth": 0,
             "ticks": ""
            },
            "type": "contourcarpet"
           }
          ],
          "heatmap": [
           {
            "colorbar": {
             "outlinewidth": 0,
             "ticks": ""
            },
            "colorscale": [
             [
              0,
              "#0d0887"
             ],
             [
              0.1111111111111111,
              "#46039f"
             ],
             [
              0.2222222222222222,
              "#7201a8"
             ],
             [
              0.3333333333333333,
              "#9c179e"
             ],
             [
              0.4444444444444444,
              "#bd3786"
             ],
             [
              0.5555555555555556,
              "#d8576b"
             ],
             [
              0.6666666666666666,
              "#ed7953"
             ],
             [
              0.7777777777777778,
              "#fb9f3a"
             ],
             [
              0.8888888888888888,
              "#fdca26"
             ],
             [
              1,
              "#f0f921"
             ]
            ],
            "type": "heatmap"
           }
          ],
          "heatmapgl": [
           {
            "colorbar": {
             "outlinewidth": 0,
             "ticks": ""
            },
            "colorscale": [
             [
              0,
              "#0d0887"
             ],
             [
              0.1111111111111111,
              "#46039f"
             ],
             [
              0.2222222222222222,
              "#7201a8"
             ],
             [
              0.3333333333333333,
              "#9c179e"
             ],
             [
              0.4444444444444444,
              "#bd3786"
             ],
             [
              0.5555555555555556,
              "#d8576b"
             ],
             [
              0.6666666666666666,
              "#ed7953"
             ],
             [
              0.7777777777777778,
              "#fb9f3a"
             ],
             [
              0.8888888888888888,
              "#fdca26"
             ],
             [
              1,
              "#f0f921"
             ]
            ],
            "type": "heatmapgl"
           }
          ],
          "histogram": [
           {
            "marker": {
             "pattern": {
              "fillmode": "overlay",
              "size": 10,
              "solidity": 0.2
             }
            },
            "type": "histogram"
           }
          ],
          "histogram2d": [
           {
            "colorbar": {
             "outlinewidth": 0,
             "ticks": ""
            },
            "colorscale": [
             [
              0,
              "#0d0887"
             ],
             [
              0.1111111111111111,
              "#46039f"
             ],
             [
              0.2222222222222222,
              "#7201a8"
             ],
             [
              0.3333333333333333,
              "#9c179e"
             ],
             [
              0.4444444444444444,
              "#bd3786"
             ],
             [
              0.5555555555555556,
              "#d8576b"
             ],
             [
              0.6666666666666666,
              "#ed7953"
             ],
             [
              0.7777777777777778,
              "#fb9f3a"
             ],
             [
              0.8888888888888888,
              "#fdca26"
             ],
             [
              1,
              "#f0f921"
             ]
            ],
            "type": "histogram2d"
           }
          ],
          "histogram2dcontour": [
           {
            "colorbar": {
             "outlinewidth": 0,
             "ticks": ""
            },
            "colorscale": [
             [
              0,
              "#0d0887"
             ],
             [
              0.1111111111111111,
              "#46039f"
             ],
             [
              0.2222222222222222,
              "#7201a8"
             ],
             [
              0.3333333333333333,
              "#9c179e"
             ],
             [
              0.4444444444444444,
              "#bd3786"
             ],
             [
              0.5555555555555556,
              "#d8576b"
             ],
             [
              0.6666666666666666,
              "#ed7953"
             ],
             [
              0.7777777777777778,
              "#fb9f3a"
             ],
             [
              0.8888888888888888,
              "#fdca26"
             ],
             [
              1,
              "#f0f921"
             ]
            ],
            "type": "histogram2dcontour"
           }
          ],
          "mesh3d": [
           {
            "colorbar": {
             "outlinewidth": 0,
             "ticks": ""
            },
            "type": "mesh3d"
           }
          ],
          "parcoords": [
           {
            "line": {
             "colorbar": {
              "outlinewidth": 0,
              "ticks": ""
             }
            },
            "type": "parcoords"
           }
          ],
          "pie": [
           {
            "automargin": true,
            "type": "pie"
           }
          ],
          "scatter": [
           {
            "fillpattern": {
             "fillmode": "overlay",
             "size": 10,
             "solidity": 0.2
            },
            "type": "scatter"
           }
          ],
          "scatter3d": [
           {
            "line": {
             "colorbar": {
              "outlinewidth": 0,
              "ticks": ""
             }
            },
            "marker": {
             "colorbar": {
              "outlinewidth": 0,
              "ticks": ""
             }
            },
            "type": "scatter3d"
           }
          ],
          "scattercarpet": [
           {
            "marker": {
             "colorbar": {
              "outlinewidth": 0,
              "ticks": ""
             }
            },
            "type": "scattercarpet"
           }
          ],
          "scattergeo": [
           {
            "marker": {
             "colorbar": {
              "outlinewidth": 0,
              "ticks": ""
             }
            },
            "type": "scattergeo"
           }
          ],
          "scattergl": [
           {
            "marker": {
             "colorbar": {
              "outlinewidth": 0,
              "ticks": ""
             }
            },
            "type": "scattergl"
           }
          ],
          "scattermapbox": [
           {
            "marker": {
             "colorbar": {
              "outlinewidth": 0,
              "ticks": ""
             }
            },
            "type": "scattermapbox"
           }
          ],
          "scatterpolar": [
           {
            "marker": {
             "colorbar": {
              "outlinewidth": 0,
              "ticks": ""
             }
            },
            "type": "scatterpolar"
           }
          ],
          "scatterpolargl": [
           {
            "marker": {
             "colorbar": {
              "outlinewidth": 0,
              "ticks": ""
             }
            },
            "type": "scatterpolargl"
           }
          ],
          "scatterternary": [
           {
            "marker": {
             "colorbar": {
              "outlinewidth": 0,
              "ticks": ""
             }
            },
            "type": "scatterternary"
           }
          ],
          "surface": [
           {
            "colorbar": {
             "outlinewidth": 0,
             "ticks": ""
            },
            "colorscale": [
             [
              0,
              "#0d0887"
             ],
             [
              0.1111111111111111,
              "#46039f"
             ],
             [
              0.2222222222222222,
              "#7201a8"
             ],
             [
              0.3333333333333333,
              "#9c179e"
             ],
             [
              0.4444444444444444,
              "#bd3786"
             ],
             [
              0.5555555555555556,
              "#d8576b"
             ],
             [
              0.6666666666666666,
              "#ed7953"
             ],
             [
              0.7777777777777778,
              "#fb9f3a"
             ],
             [
              0.8888888888888888,
              "#fdca26"
             ],
             [
              1,
              "#f0f921"
             ]
            ],
            "type": "surface"
           }
          ],
          "table": [
           {
            "cells": {
             "fill": {
              "color": "#EBF0F8"
             },
             "line": {
              "color": "white"
             }
            },
            "header": {
             "fill": {
              "color": "#C8D4E3"
             },
             "line": {
              "color": "white"
             }
            },
            "type": "table"
           }
          ]
         },
         "layout": {
          "annotationdefaults": {
           "arrowcolor": "#2a3f5f",
           "arrowhead": 0,
           "arrowwidth": 1
          },
          "autotypenumbers": "strict",
          "coloraxis": {
           "colorbar": {
            "outlinewidth": 0,
            "ticks": ""
           }
          },
          "colorscale": {
           "diverging": [
            [
             0,
             "#8e0152"
            ],
            [
             0.1,
             "#c51b7d"
            ],
            [
             0.2,
             "#de77ae"
            ],
            [
             0.3,
             "#f1b6da"
            ],
            [
             0.4,
             "#fde0ef"
            ],
            [
             0.5,
             "#f7f7f7"
            ],
            [
             0.6,
             "#e6f5d0"
            ],
            [
             0.7,
             "#b8e186"
            ],
            [
             0.8,
             "#7fbc41"
            ],
            [
             0.9,
             "#4d9221"
            ],
            [
             1,
             "#276419"
            ]
           ],
           "sequential": [
            [
             0,
             "#0d0887"
            ],
            [
             0.1111111111111111,
             "#46039f"
            ],
            [
             0.2222222222222222,
             "#7201a8"
            ],
            [
             0.3333333333333333,
             "#9c179e"
            ],
            [
             0.4444444444444444,
             "#bd3786"
            ],
            [
             0.5555555555555556,
             "#d8576b"
            ],
            [
             0.6666666666666666,
             "#ed7953"
            ],
            [
             0.7777777777777778,
             "#fb9f3a"
            ],
            [
             0.8888888888888888,
             "#fdca26"
            ],
            [
             1,
             "#f0f921"
            ]
           ],
           "sequentialminus": [
            [
             0,
             "#0d0887"
            ],
            [
             0.1111111111111111,
             "#46039f"
            ],
            [
             0.2222222222222222,
             "#7201a8"
            ],
            [
             0.3333333333333333,
             "#9c179e"
            ],
            [
             0.4444444444444444,
             "#bd3786"
            ],
            [
             0.5555555555555556,
             "#d8576b"
            ],
            [
             0.6666666666666666,
             "#ed7953"
            ],
            [
             0.7777777777777778,
             "#fb9f3a"
            ],
            [
             0.8888888888888888,
             "#fdca26"
            ],
            [
             1,
             "#f0f921"
            ]
           ]
          },
          "colorway": [
           "#636efa",
           "#EF553B",
           "#00cc96",
           "#ab63fa",
           "#FFA15A",
           "#19d3f3",
           "#FF6692",
           "#B6E880",
           "#FF97FF",
           "#FECB52"
          ],
          "font": {
           "color": "#2a3f5f"
          },
          "geo": {
           "bgcolor": "white",
           "lakecolor": "white",
           "landcolor": "#E5ECF6",
           "showlakes": true,
           "showland": true,
           "subunitcolor": "white"
          },
          "hoverlabel": {
           "align": "left"
          },
          "hovermode": "closest",
          "mapbox": {
           "style": "light"
          },
          "paper_bgcolor": "white",
          "plot_bgcolor": "#E5ECF6",
          "polar": {
           "angularaxis": {
            "gridcolor": "white",
            "linecolor": "white",
            "ticks": ""
           },
           "bgcolor": "#E5ECF6",
           "radialaxis": {
            "gridcolor": "white",
            "linecolor": "white",
            "ticks": ""
           }
          },
          "scene": {
           "xaxis": {
            "backgroundcolor": "#E5ECF6",
            "gridcolor": "white",
            "gridwidth": 2,
            "linecolor": "white",
            "showbackground": true,
            "ticks": "",
            "zerolinecolor": "white"
           },
           "yaxis": {
            "backgroundcolor": "#E5ECF6",
            "gridcolor": "white",
            "gridwidth": 2,
            "linecolor": "white",
            "showbackground": true,
            "ticks": "",
            "zerolinecolor": "white"
           },
           "zaxis": {
            "backgroundcolor": "#E5ECF6",
            "gridcolor": "white",
            "gridwidth": 2,
            "linecolor": "white",
            "showbackground": true,
            "ticks": "",
            "zerolinecolor": "white"
           }
          },
          "shapedefaults": {
           "line": {
            "color": "#2a3f5f"
           }
          },
          "ternary": {
           "aaxis": {
            "gridcolor": "white",
            "linecolor": "white",
            "ticks": ""
           },
           "baxis": {
            "gridcolor": "white",
            "linecolor": "white",
            "ticks": ""
           },
           "bgcolor": "#E5ECF6",
           "caxis": {
            "gridcolor": "white",
            "linecolor": "white",
            "ticks": ""
           }
          },
          "title": {
           "x": 0.05
          },
          "xaxis": {
           "automargin": true,
           "gridcolor": "white",
           "linecolor": "white",
           "ticks": "",
           "title": {
            "standoff": 15
           },
           "zerolinecolor": "white",
           "zerolinewidth": 2
          },
          "yaxis": {
           "automargin": true,
           "gridcolor": "white",
           "linecolor": "white",
           "ticks": "",
           "title": {
            "standoff": 15
           },
           "zerolinecolor": "white",
           "zerolinewidth": 2
          }
         }
        },
        "xaxis": {
         "anchor": "y",
         "domain": [
          0,
          1
         ],
         "title": {
          "text": "x"
         }
        },
        "yaxis": {
         "anchor": "x",
         "domain": [
          0,
          1
         ],
         "title": {
          "text": "y"
         }
        }
       }
      }
     },
     "metadata": {},
     "output_type": "display_data"
    }
   ],
   "source": [
    "voting_model.fit(X_train, y_train)\n",
    "y_voting = stack_model.predict(X_test)\n",
    "print(mean_absolute_error(y_test, y_voting))\n",
    "\n",
    "y_pred = y_voting\n",
    "\n",
    "fig = px.scatter(x = y_pred, y = y_test)\n",
    "fig.update_layout(shapes=[{\"type\": \"line\", \"y0\":0, \"y1\":max(y_pred), \"x0\":0, \"x1\": max(y_pred)}])"
   ]
  },
  {
   "cell_type": "code",
   "execution_count": 116,
   "metadata": {},
   "outputs": [
    {
     "data": {
      "text/html": [
       "<div>\n",
       "<style scoped>\n",
       "    .dataframe tbody tr th:only-of-type {\n",
       "        vertical-align: middle;\n",
       "    }\n",
       "\n",
       "    .dataframe tbody tr th {\n",
       "        vertical-align: top;\n",
       "    }\n",
       "\n",
       "    .dataframe thead th {\n",
       "        text-align: right;\n",
       "    }\n",
       "</style>\n",
       "<table border=\"1\" class=\"dataframe\">\n",
       "  <thead>\n",
       "    <tr style=\"text-align: right;\">\n",
       "      <th></th>\n",
       "      <th>date</th>\n",
       "      <th>y_pred</th>\n",
       "    </tr>\n",
       "  </thead>\n",
       "  <tbody>\n",
       "    <tr>\n",
       "      <th>0</th>\n",
       "      <td>2018-12-24 13:40:42</td>\n",
       "      <td>316.016800</td>\n",
       "    </tr>\n",
       "    <tr>\n",
       "      <th>1</th>\n",
       "      <td>2018-12-26 13:30:43</td>\n",
       "      <td>47.188125</td>\n",
       "    </tr>\n",
       "    <tr>\n",
       "      <th>2</th>\n",
       "      <td>2018-12-29 13:40:40</td>\n",
       "      <td>311.473424</td>\n",
       "    </tr>\n",
       "    <tr>\n",
       "      <th>3</th>\n",
       "      <td>2019-01-25 13:30:47</td>\n",
       "      <td>72.442495</td>\n",
       "    </tr>\n",
       "    <tr>\n",
       "      <th>4</th>\n",
       "      <td>2019-01-28 13:40:43</td>\n",
       "      <td>220.278946</td>\n",
       "    </tr>\n",
       "  </tbody>\n",
       "</table>\n",
       "</div>"
      ],
      "text/plain": [
       "                  date      y_pred\n",
       "0  2018-12-24 13:40:42  316.016800\n",
       "1  2018-12-26 13:30:43   47.188125\n",
       "2  2018-12-29 13:40:40  311.473424\n",
       "3  2019-01-25 13:30:47   72.442495\n",
       "4  2019-01-28 13:40:43  220.278946"
      ]
     },
     "execution_count": 116,
     "metadata": {},
     "output_type": "execute_result"
    }
   ],
   "source": [
    "with open(\"params.yaml\") as config_file:\n",
    "    config = yaml.safe_load(config_file)\n",
    "\n",
    "pred = pd.read_csv(config[\"evaluate\"][\"final_predictions_file\"])\n",
    "\n",
    "pred.head()"
   ]
  },
  {
   "cell_type": "code",
   "execution_count": 123,
   "metadata": {},
   "outputs": [
    {
     "name": "stdout",
     "output_type": "stream",
     "text": [
      "2022-08-27 13:50:41,454 — DATA_LABEL — INFO — Reading data\n",
      "2022-08-27 13:50:41,505 — DATA_LABEL — INFO — Filtering data\n"
     ]
    },
    {
     "name": "stderr",
     "output_type": "stream",
     "text": [
      "c:\\Users\\Daniel\\cyanobacteria-monitoring\\src\\data\\label_gee.py:30: SettingWithCopyWarning:\n",
      "\n",
      "\n",
      "A value is trying to be set on a copy of a slice from a DataFrame.\n",
      "Try using .loc[row_indexer,col_indexer] = value instead\n",
      "\n",
      "See the caveats in the documentation: https://pandas.pydata.org/pandas-docs/stable/user_guide/indexing.html#returning-a-view-versus-a-copy\n",
      "\n",
      "c:\\Users\\Daniel\\cyanobacteria-monitoring\\src\\data\\label_gee.py:31: SettingWithCopyWarning:\n",
      "\n",
      "\n",
      "A value is trying to be set on a copy of a slice from a DataFrame.\n",
      "Try using .loc[row_indexer,col_indexer] = value instead\n",
      "\n",
      "See the caveats in the documentation: https://pandas.pydata.org/pandas-docs/stable/user_guide/indexing.html#returning-a-view-versus-a-copy\n",
      "\n"
     ]
    }
   ],
   "source": [
    "from src.data.label_gee import load_data\n",
    "\n",
    "_, ciano = load_data(\"params.yaml\")"
   ]
  },
  {
   "cell_type": "code",
   "execution_count": 126,
   "metadata": {},
   "outputs": [
    {
     "data": {
      "text/html": [
       "<div>\n",
       "<style scoped>\n",
       "    .dataframe tbody tr th:only-of-type {\n",
       "        vertical-align: middle;\n",
       "    }\n",
       "\n",
       "    .dataframe tbody tr th {\n",
       "        vertical-align: top;\n",
       "    }\n",
       "\n",
       "    .dataframe thead th {\n",
       "        text-align: right;\n",
       "    }\n",
       "</style>\n",
       "<table border=\"1\" class=\"dataframe\">\n",
       "  <thead>\n",
       "    <tr style=\"text-align: right;\">\n",
       "      <th></th>\n",
       "      <th>Data da coleta</th>\n",
       "      <th>Resultado</th>\n",
       "    </tr>\n",
       "  </thead>\n",
       "  <tbody>\n",
       "    <tr>\n",
       "      <th>4873</th>\n",
       "      <td>2018-12-19</td>\n",
       "      <td>719</td>\n",
       "    </tr>\n",
       "    <tr>\n",
       "      <th>2949</th>\n",
       "      <td>2019-01-18</td>\n",
       "      <td>0</td>\n",
       "    </tr>\n",
       "    <tr>\n",
       "      <th>2538</th>\n",
       "      <td>2019-01-28</td>\n",
       "      <td>251</td>\n",
       "    </tr>\n",
       "    <tr>\n",
       "      <th>4881</th>\n",
       "      <td>2019-02-11</td>\n",
       "      <td>335</td>\n",
       "    </tr>\n",
       "    <tr>\n",
       "      <th>3723</th>\n",
       "      <td>2019-02-25</td>\n",
       "      <td>298</td>\n",
       "    </tr>\n",
       "  </tbody>\n",
       "</table>\n",
       "</div>"
      ],
      "text/plain": [
       "     Data da coleta  Resultado\n",
       "4873     2018-12-19        719\n",
       "2949     2019-01-18          0\n",
       "2538     2019-01-28        251\n",
       "4881     2019-02-11        335\n",
       "3723     2019-02-25        298"
      ]
     },
     "execution_count": 126,
     "metadata": {},
     "output_type": "execute_result"
    }
   ],
   "source": [
    "ciano.head()"
   ]
  },
  {
   "cell_type": "code",
   "execution_count": 154,
   "metadata": {},
   "outputs": [
    {
     "data": {
      "application/vnd.plotly.v1+json": {
       "config": {
        "plotlyServerURL": "https://plot.ly"
       },
       "data": [
        {
         "name": "Predicted values",
         "type": "scatter",
         "x": [
          "2018-12-24 13:40:42",
          "2018-12-26 13:30:43",
          "2018-12-29 13:40:40",
          "2019-01-25 13:30:47",
          "2019-01-28 13:40:43",
          "2019-01-30 13:30:51",
          "2019-02-04 13:30:48",
          "2019-02-07 13:40:43",
          "2019-02-09 13:30:51",
          "2019-02-14 13:30:47",
          "2019-02-19 13:30:50",
          "2019-02-22 13:40:45",
          "2019-03-01 13:30:49",
          "2019-03-04 13:40:44",
          "2019-03-14 13:40:44",
          "2019-03-16 13:30:47",
          "2019-03-21 13:30:50",
          "2019-03-24 13:40:47",
          "2019-03-26 13:30:50",
          "2019-04-03 13:40:49",
          "2019-04-10 13:30:55",
          "2019-04-13 13:40:51",
          "2019-04-30 13:30:58",
          "2019-05-03 13:40:53",
          "2019-05-05 13:30:54",
          "2019-05-18 13:40:50",
          "2019-05-25 13:30:54",
          "2019-06-09 13:30:58",
          "2019-06-17 13:40:50",
          "2019-07-04 13:30:56",
          "2019-07-07 13:40:51",
          "2019-07-09 13:30:59",
          "2019-07-12 13:40:55",
          "2019-07-17 13:40:51",
          "2019-07-29 13:30:59",
          "2019-08-03 13:30:55",
          "2019-08-06 13:40:50",
          "2019-08-08 13:30:58",
          "2019-08-11 13:40:53",
          "2019-08-26 13:40:48",
          "2019-08-28 13:30:55",
          "2019-09-02 13:30:51",
          "2019-09-15 13:40:45",
          "2019-09-22 13:30:51",
          "2019-09-25 13:40:47",
          "2019-09-27 13:30:51",
          "2019-09-30 13:40:47",
          "2019-10-07 13:30:52",
          "2019-10-10 13:40:47",
          "2019-10-12 13:30:53",
          "2019-11-06 13:30:51",
          "2019-11-19 13:40:44",
          "2019-11-21 13:30:52",
          "2019-11-29 13:40:42",
          "2019-12-01 13:30:49",
          "2019-12-04 13:40:44",
          "2019-12-06 13:30:45",
          "2019-12-09 13:40:40",
          "2019-12-11 13:30:47",
          "2019-12-14 13:40:41",
          "2019-12-19 13:40:41",
          "2019-12-24 13:40:40",
          "2019-12-26 13:30:46",
          "2020-01-05 13:30:46",
          "2020-01-10 13:30:45",
          "2020-01-13 13:40:40",
          "2020-01-18 13:40:40",
          "2020-01-23 13:40:40",
          "2020-01-25 13:30:44",
          "2020-02-02 13:40:38",
          "2020-02-07 13:40:40",
          "2020-02-09 13:30:43",
          "2020-02-12 13:40:39",
          "2020-02-19 13:30:45",
          "2020-02-24 13:30:47",
          "2020-02-27 13:40:43",
          "2020-02-29 13:30:46",
          "2020-03-03 13:40:42",
          "2020-03-05 13:30:48",
          "2020-03-08 13:40:44",
          "2020-03-10 13:30:47",
          "2020-03-13 13:40:42",
          "2020-03-20 13:30:47",
          "2020-03-23 13:40:42",
          "2020-03-25 13:30:48",
          "2020-03-30 13:30:47",
          "2020-04-04 13:30:42",
          "2020-04-04 13:30:49",
          "2020-04-07 13:40:43",
          "2020-04-09 13:30:49",
          "2020-04-12 13:40:45",
          "2020-04-14 13:30:46",
          "2020-04-19 13:30:51",
          "2020-04-22 13:40:47",
          "2020-05-02 13:40:49",
          "2020-05-04 13:30:48",
          "2020-05-07 13:40:44",
          "2020-05-09 13:30:55",
          "2020-05-14 13:30:50",
          "2020-05-17 13:40:46",
          "2020-05-19 13:30:56",
          "2020-05-27 13:40:47",
          "2020-05-29 13:30:57",
          "2020-06-01 13:40:52",
          "2020-06-03 13:30:52",
          "2020-06-16 13:40:49",
          "2020-06-21 13:40:52",
          "2020-06-23 13:30:53",
          "2020-06-28 13:30:56",
          "2020-07-03 13:30:53",
          "2020-07-13 13:30:52",
          "2020-07-18 13:30:56",
          "2020-07-26 13:40:49",
          "2020-07-31 13:40:52",
          "2020-08-02 13:30:54",
          "2020-08-05 13:40:49",
          "2020-08-07 13:30:57",
          "2020-08-10 13:40:52",
          "2020-08-17 13:30:56",
          "2020-08-20 13:40:52",
          "2020-08-22 13:30:54",
          "2020-08-27 13:30:56",
          "2020-09-09 13:40:50",
          "2020-09-11 13:30:53",
          "2020-09-21 13:30:53",
          "2020-09-24 13:40:49",
          "2020-09-29 13:40:52",
          "2020-10-06 13:30:56",
          "2020-10-09 13:40:52",
          "2020-10-11 13:30:54",
          "2020-10-14 13:40:50",
          "2020-10-19 13:40:52",
          "2020-10-21 13:30:54",
          "2020-11-10 13:30:52",
          "2020-11-23 13:40:46",
          "2020-11-25 13:30:52",
          "2020-12-03 13:40:45",
          "2020-12-08 13:40:43",
          "2020-12-10 13:30:48",
          "2020-12-15 13:30:48",
          "2020-12-18 13:40:44",
          "2020-12-20 13:30:47",
          "2020-12-23 13:40:43",
          "2020-12-28 13:40:46",
          "2020-12-30 13:30:49",
          "2021-01-02 13:40:45",
          "2021-01-04 13:30:51",
          "2021-01-07 13:40:47",
          "2021-01-09 13:30:50",
          "2021-01-14 13:30:51",
          "2021-01-19 13:30:50",
          "2021-01-22 13:40:46",
          "2021-01-24 13:30:51",
          "2021-02-01 13:40:46",
          "2021-02-06 13:40:45",
          "2021-02-08 13:30:50",
          "2021-02-13 13:30:49",
          "2021-02-21 13:40:44",
          "2021-02-26 13:40:46",
          "2021-03-08 13:40:46",
          "2021-03-10 13:30:50",
          "2021-03-13 13:40:45",
          "2021-03-20 13:30:50",
          "2021-03-25 13:30:49",
          "2021-04-04 13:30:47",
          "2021-04-07 13:40:42",
          "2021-04-09 13:30:48",
          "2021-04-14 13:30:45",
          "2021-04-19 13:30:46",
          "2021-04-22 13:40:40",
          "2021-04-27 13:40:43",
          "2021-04-29 13:30:46",
          "2021-05-02 13:40:43",
          "2021-05-09 13:30:49",
          "2021-05-12 13:40:45",
          "2021-05-22 13:40:46",
          "2021-05-24 13:30:51",
          "2021-05-27 13:40:47",
          "2021-05-29 13:30:51",
          "2021-06-01 13:40:47",
          "2021-06-03 13:30:51",
          "2021-06-11 13:40:47",
          "2021-06-13 13:30:51",
          "2021-06-16 13:40:46",
          "2021-07-03 13:30:53",
          "2021-07-08 13:30:52",
          "2021-07-11 13:40:48",
          "2021-07-16 13:40:49",
          "2021-07-18 13:30:53",
          "2021-07-21 13:40:48",
          "2021-07-23 13:30:54",
          "2021-07-31 13:40:48",
          "2021-08-02 13:30:54",
          "2021-08-07 13:30:52",
          "2021-08-15 13:40:49",
          "2021-08-17 13:30:50",
          "2021-08-22 13:30:53",
          "2021-08-30 13:40:43",
          "2021-09-01 13:30:52",
          "2021-09-09 13:40:43",
          "2021-09-26 13:30:49",
          "2021-10-06 13:30:51",
          "2021-10-14 13:40:45",
          "2021-10-14 13:40:52",
          "2021-10-21 13:30:56",
          "2021-10-24 13:40:51",
          "2021-10-26 13:30:52",
          "2021-10-29 13:40:47",
          "2021-10-31 13:30:55",
          "2021-11-08 13:40:46",
          "2021-11-13 13:40:48",
          "2021-11-20 13:30:51",
          "2021-11-30 13:30:50",
          "2021-12-03 13:40:46",
          "2021-12-10 13:30:49",
          "2021-12-20 13:30:52",
          "2021-12-25 13:30:46",
          "2021-12-28 13:40:42",
          "2021-12-30 13:30:52",
          "2022-01-07 13:40:42",
          "2022-01-12 13:40:47",
          "2022-01-14 13:30:46",
          "2022-01-17 13:40:42",
          "2022-01-19 13:30:51",
          "2022-01-24 13:30:45",
          "2022-01-29 13:30:51",
          "2022-02-11 13:40:45",
          "2022-02-16 13:40:40",
          "2022-02-18 13:30:52",
          "2022-02-26 13:40:42",
          "2022-03-03 13:40:50",
          "2022-03-05 13:30:48",
          "2022-03-18 13:40:44",
          "2022-03-28 13:40:43",
          "2022-04-02 13:40:48",
          "2022-04-14 13:30:47",
          "2022-04-19 13:30:55",
          "2022-04-22 13:40:51",
          "2022-04-24 13:30:45",
          "2022-04-27 13:40:39",
          "2022-04-29 13:30:56",
          "2022-05-07 13:40:43",
          "2022-05-09 13:30:55",
          "2022-05-12 13:40:49",
          "2022-05-24 13:30:51",
          "2022-06-03 13:30:50",
          "2022-06-11 13:40:56",
          "2022-06-16 13:40:50",
          "2022-06-18 13:31:02",
          "2022-06-26 13:40:51",
          "2022-06-28 13:31:03",
          "2022-07-01 13:40:59",
          "2022-07-11 13:40:59",
          "2022-07-13 13:30:55",
          "2022-07-18 13:31:03",
          "2022-08-07 13:31:02",
          "2022-08-12 13:30:52",
          "2022-08-17 13:31:03",
          "2022-08-20 13:40:59"
         ],
         "y": [
          316.0168004533882,
          47.18812450914589,
          311.4734243709799,
          72.44249453648912,
          220.2789457117689,
          177.7818557823399,
          314.3124560416472,
          617.5472539976926,
          495.6284889699065,
          486.1888628971913,
          487.5013358683077,
          853.8435217377987,
          552.1558904182389,
          1737.5530437086609,
          163.9135553984055,
          191.6842406386945,
          233.4822049894381,
          216.73503321579128,
          379.9374311734924,
          850.2267277201034,
          341.34088237485105,
          709.0220127516845,
          317.4709861994335,
          32.54149522280347,
          -2.839656926111129,
          26.634558521253936,
          129.96265885829794,
          310.7533365711016,
          121.12523349234066,
          261.4068620202426,
          127.38088627157428,
          181.6739230771664,
          160.99384145078997,
          323.4952435807775,
          170.89292302892346,
          13.175205549013215,
          80.88124889743703,
          151.6479418914787,
          94.6353669778096,
          76.13847646329029,
          126.22750997560144,
          235.35924097526703,
          1431.7941227422489,
          95.55110436149803,
          112.29858492089328,
          180.784512182622,
          188.07467762820724,
          6.028616092934021,
          128.56187380160696,
          126.91007658300194,
          1.425091078942259,
          285.30334641548507,
          199.92095611748428,
          205.14965448126992,
          368.5155617249494,
          435.0068646817989,
          481.5968877598337,
          567.7178516325523,
          1072.3883621629232,
          405.1513905620235,
          464.718722897329,
          600.9793743162259,
          2840.0963548482027,
          1170.4628124320302,
          9611.887411886695,
          981.1032327081442,
          733.1016647388126,
          455.647315913253,
          634.9397671066057,
          867.1555984534106,
          838.5054374312646,
          474.14695977516345,
          993.0973084320592,
          1138.1200990810048,
          1452.1437740853946,
          2604.778055676842,
          4611.631988791395,
          2519.314338883855,
          614.366105446935,
          1864.426658996059,
          4369.856830606638,
          2345.416689274693,
          882.8694022017493,
          1625.9924442751285,
          1155.852724268819,
          3058.2219728355785,
          834.8728389107846,
          819.530149950073,
          989.3103264234992,
          1171.6031291027746,
          2767.584938739128,
          591.7762522714247,
          1055.1074689009938,
          1234.3526857276058,
          1027.2260252187723,
          879.3129337844438,
          837.8180305245331,
          1371.5762589078006,
          1727.889893768392,
          1725.2437107915766,
          2514.03861165208,
          759.3126157198244,
          1019.145127050151,
          355.29423374724684,
          303.31343500784413,
          365.23631001950696,
          308.9623121332265,
          187.6793663907308,
          261.83074389871973,
          -0.2478993318074394,
          5.349462605271848,
          83.16828957860953,
          115.81127305713238,
          35.881277866130105,
          164.47167672058544,
          96.02255363327453,
          216.25165218281484,
          145.33081754018383,
          73.61475989172067,
          356.7917511273656,
          98.12154185247113,
          405.9173815932378,
          523.3505525787706,
          376.44993965690463,
          83.8450443292066,
          76.99588307069833,
          232.9197915838244,
          200.69624877865704,
          300.1613392755448,
          93.27875124781532,
          251.76596324641235,
          200.2151402532721,
          372.5301453817608,
          459.2570654964341,
          521.442108353576,
          872.3002567096972,
          509.2065218316381,
          530.34054716875,
          2095.8194329085754,
          10284.621957271533,
          976.6143081915128,
          1679.1572639501517,
          763.8799114668236,
          607.6984473757481,
          3331.165298760075,
          695.3841410625765,
          2859.4691273291805,
          5986.134967257064,
          1154.5667383432765,
          567.6807978186248,
          1296.770654517407,
          658.7553791606565,
          1515.3035569415752,
          322.71847019756177,
          205.66295619405437,
          76.55910575152299,
          338.08432198512145,
          424.3213850758784,
          574.15698263001,
          1256.780394699896,
          802.1242720209935,
          2578.0442660360554,
          560.7759825615735,
          1162.565592311992,
          1447.0886183182631,
          2719.7447999490923,
          1063.5919786614008,
          941.9131599195772,
          775.3464974647012,
          566.4574416597266,
          819.5941802153122,
          311.0110619238073,
          405.1723977620465,
          764.9544078203548,
          1108.73193980315,
          633.3004021646817,
          316.13535517484314,
          325.0763977041653,
          274.8513816400123,
          -2.3638319412473456,
          173.8197152978411,
          117.53112687418763,
          88.64993713568478,
          148.20889220591744,
          47.36572123311583,
          67.63214593308935,
          287.5596537284094,
          175.1107291491597,
          88.20935184540906,
          84.14102778009757,
          196.72021305030745,
          192.37841512226427,
          253.87928165931987,
          191.15588740702293,
          390.63030560651487,
          289.68085008224483,
          428.3792286481783,
          50.057098681382726,
          32.94666783014112,
          154.13099174903124,
          124.06346793584704,
          117.21477363450364,
          191.37015392194496,
          197.46613680883488,
          151.29176134385696,
          220.4625389378733,
          108.425966149896,
          259.31060025529774,
          192.58386745545727,
          449.4620764971783,
          379.3522165535388,
          628.5628811315045,
          452.3103560414388,
          501.9641505778496,
          726.121355651514,
          931.7990679610932,
          653.2755942595223,
          478.6734108713056,
          1511.92619603928,
          747.819542008378,
          1011.923269739751,
          6581.055431226017,
          962.2931039846871,
          6251.162554770757,
          2012.32775521303,
          430.2733495345888,
          2006.793197760292,
          901.853150694686,
          762.3308926837738,
          1316.6336063407914,
          975.4081688220872,
          1619.7079804269663,
          1416.724050991846,
          78.2574846239843,
          418.81105168033525,
          134.47116284099843,
          252.65062888759132,
          487.2852030118736,
          229.99325240733097,
          450.88163536573177,
          281.53304589187206,
          148.89356535652044,
          50.76283112505618,
          133.5715995784842,
          130.5049499509752,
          55.16477129350626,
          35.13383018771365,
          120.94818497354592,
          93.26951651404188,
          201.1144295154174,
          186.85484936681056,
          108.04277308326996,
          450.0777591260972,
          103.83135462184666,
          52.49361976264802,
          314.256464675758,
          20.246347792212443,
          221.07081581587133,
          81.8895347917059
         ]
        },
        {
         "mode": "markers",
         "name": "SISAGUA",
         "type": "scatter",
         "x": [
          "2018-12-19",
          "2019-01-18",
          "2019-01-28",
          "2019-02-11",
          "2019-02-25",
          "2019-03-18",
          "2019-03-26",
          "2019-04-09",
          "2019-04-23",
          "2019-05-13",
          "2019-05-20",
          "2019-06-03",
          "2019-06-17",
          "2019-07-01",
          "2019-07-15",
          "2019-07-29",
          "2019-08-19",
          "2019-09-02",
          "2019-09-23",
          "2019-09-30",
          "2019-10-14",
          "2019-11-04",
          "2019-11-18",
          "2019-12-02",
          "2019-12-20",
          "2020-01-06",
          "2020-01-21",
          "2020-02-26",
          "2020-03-16",
          "2020-04-29",
          "2020-05-26",
          "2020-06-23",
          "2020-07-21",
          "2020-08-06",
          "2020-09-24",
          "2020-10-06",
          "2020-12-09",
          "2020-12-23",
          "2020-12-30",
          "2021-01-26",
          "2021-02-25",
          "2021-03-10",
          "2021-04-12",
          "2021-04-14",
          "2021-05-13",
          "2021-06-10",
          "2021-07-14",
          "2021-08-19",
          "2021-09-15",
          "2021-10-06",
          "2021-11-15",
          "2021-12-09",
          "2021-12-13",
          "2021-12-17",
          "2021-12-29",
          "2022-01-05",
          "2022-01-11",
          "2022-01-20",
          "2022-01-26",
          "2022-02-10",
          "2022-02-16",
          "2022-02-23",
          "2022-03-03",
          "2022-03-09",
          "2022-03-16",
          "2022-03-23",
          "2022-04-01",
          "2022-04-13",
          "2022-05-26",
          "2022-06-08"
         ],
         "y": [
          719,
          0,
          251,
          335,
          298,
          76,
          186,
          26,
          0,
          12,
          374,
          102,
          134,
          600,
          20,
          70,
          65,
          0,
          8,
          0,
          0,
          0,
          0,
          0,
          0,
          1404,
          150,
          360,
          40,
          386,
          1897,
          556,
          129,
          364,
          0,
          216,
          1486,
          25659,
          1766,
          364,
          612,
          10387,
          0,
          2228,
          6997,
          1529,
          0,
          1664,
          1716,
          594,
          1836,
          8323,
          13889,
          9667,
          2772,
          1783,
          28508,
          10674,
          6142,
          10557,
          1793,
          4915,
          3077,
          9023,
          614,
          3446,
          1436,
          3083,
          1409,
          1179
         ]
        }
       ],
       "layout": {
        "template": {
         "data": {
          "bar": [
           {
            "error_x": {
             "color": "#2a3f5f"
            },
            "error_y": {
             "color": "#2a3f5f"
            },
            "marker": {
             "line": {
              "color": "#E5ECF6",
              "width": 0.5
             },
             "pattern": {
              "fillmode": "overlay",
              "size": 10,
              "solidity": 0.2
             }
            },
            "type": "bar"
           }
          ],
          "barpolar": [
           {
            "marker": {
             "line": {
              "color": "#E5ECF6",
              "width": 0.5
             },
             "pattern": {
              "fillmode": "overlay",
              "size": 10,
              "solidity": 0.2
             }
            },
            "type": "barpolar"
           }
          ],
          "carpet": [
           {
            "aaxis": {
             "endlinecolor": "#2a3f5f",
             "gridcolor": "white",
             "linecolor": "white",
             "minorgridcolor": "white",
             "startlinecolor": "#2a3f5f"
            },
            "baxis": {
             "endlinecolor": "#2a3f5f",
             "gridcolor": "white",
             "linecolor": "white",
             "minorgridcolor": "white",
             "startlinecolor": "#2a3f5f"
            },
            "type": "carpet"
           }
          ],
          "choropleth": [
           {
            "colorbar": {
             "outlinewidth": 0,
             "ticks": ""
            },
            "type": "choropleth"
           }
          ],
          "contour": [
           {
            "colorbar": {
             "outlinewidth": 0,
             "ticks": ""
            },
            "colorscale": [
             [
              0,
              "#0d0887"
             ],
             [
              0.1111111111111111,
              "#46039f"
             ],
             [
              0.2222222222222222,
              "#7201a8"
             ],
             [
              0.3333333333333333,
              "#9c179e"
             ],
             [
              0.4444444444444444,
              "#bd3786"
             ],
             [
              0.5555555555555556,
              "#d8576b"
             ],
             [
              0.6666666666666666,
              "#ed7953"
             ],
             [
              0.7777777777777778,
              "#fb9f3a"
             ],
             [
              0.8888888888888888,
              "#fdca26"
             ],
             [
              1,
              "#f0f921"
             ]
            ],
            "type": "contour"
           }
          ],
          "contourcarpet": [
           {
            "colorbar": {
             "outlinewidth": 0,
             "ticks": ""
            },
            "type": "contourcarpet"
           }
          ],
          "heatmap": [
           {
            "colorbar": {
             "outlinewidth": 0,
             "ticks": ""
            },
            "colorscale": [
             [
              0,
              "#0d0887"
             ],
             [
              0.1111111111111111,
              "#46039f"
             ],
             [
              0.2222222222222222,
              "#7201a8"
             ],
             [
              0.3333333333333333,
              "#9c179e"
             ],
             [
              0.4444444444444444,
              "#bd3786"
             ],
             [
              0.5555555555555556,
              "#d8576b"
             ],
             [
              0.6666666666666666,
              "#ed7953"
             ],
             [
              0.7777777777777778,
              "#fb9f3a"
             ],
             [
              0.8888888888888888,
              "#fdca26"
             ],
             [
              1,
              "#f0f921"
             ]
            ],
            "type": "heatmap"
           }
          ],
          "heatmapgl": [
           {
            "colorbar": {
             "outlinewidth": 0,
             "ticks": ""
            },
            "colorscale": [
             [
              0,
              "#0d0887"
             ],
             [
              0.1111111111111111,
              "#46039f"
             ],
             [
              0.2222222222222222,
              "#7201a8"
             ],
             [
              0.3333333333333333,
              "#9c179e"
             ],
             [
              0.4444444444444444,
              "#bd3786"
             ],
             [
              0.5555555555555556,
              "#d8576b"
             ],
             [
              0.6666666666666666,
              "#ed7953"
             ],
             [
              0.7777777777777778,
              "#fb9f3a"
             ],
             [
              0.8888888888888888,
              "#fdca26"
             ],
             [
              1,
              "#f0f921"
             ]
            ],
            "type": "heatmapgl"
           }
          ],
          "histogram": [
           {
            "marker": {
             "pattern": {
              "fillmode": "overlay",
              "size": 10,
              "solidity": 0.2
             }
            },
            "type": "histogram"
           }
          ],
          "histogram2d": [
           {
            "colorbar": {
             "outlinewidth": 0,
             "ticks": ""
            },
            "colorscale": [
             [
              0,
              "#0d0887"
             ],
             [
              0.1111111111111111,
              "#46039f"
             ],
             [
              0.2222222222222222,
              "#7201a8"
             ],
             [
              0.3333333333333333,
              "#9c179e"
             ],
             [
              0.4444444444444444,
              "#bd3786"
             ],
             [
              0.5555555555555556,
              "#d8576b"
             ],
             [
              0.6666666666666666,
              "#ed7953"
             ],
             [
              0.7777777777777778,
              "#fb9f3a"
             ],
             [
              0.8888888888888888,
              "#fdca26"
             ],
             [
              1,
              "#f0f921"
             ]
            ],
            "type": "histogram2d"
           }
          ],
          "histogram2dcontour": [
           {
            "colorbar": {
             "outlinewidth": 0,
             "ticks": ""
            },
            "colorscale": [
             [
              0,
              "#0d0887"
             ],
             [
              0.1111111111111111,
              "#46039f"
             ],
             [
              0.2222222222222222,
              "#7201a8"
             ],
             [
              0.3333333333333333,
              "#9c179e"
             ],
             [
              0.4444444444444444,
              "#bd3786"
             ],
             [
              0.5555555555555556,
              "#d8576b"
             ],
             [
              0.6666666666666666,
              "#ed7953"
             ],
             [
              0.7777777777777778,
              "#fb9f3a"
             ],
             [
              0.8888888888888888,
              "#fdca26"
             ],
             [
              1,
              "#f0f921"
             ]
            ],
            "type": "histogram2dcontour"
           }
          ],
          "mesh3d": [
           {
            "colorbar": {
             "outlinewidth": 0,
             "ticks": ""
            },
            "type": "mesh3d"
           }
          ],
          "parcoords": [
           {
            "line": {
             "colorbar": {
              "outlinewidth": 0,
              "ticks": ""
             }
            },
            "type": "parcoords"
           }
          ],
          "pie": [
           {
            "automargin": true,
            "type": "pie"
           }
          ],
          "scatter": [
           {
            "fillpattern": {
             "fillmode": "overlay",
             "size": 10,
             "solidity": 0.2
            },
            "type": "scatter"
           }
          ],
          "scatter3d": [
           {
            "line": {
             "colorbar": {
              "outlinewidth": 0,
              "ticks": ""
             }
            },
            "marker": {
             "colorbar": {
              "outlinewidth": 0,
              "ticks": ""
             }
            },
            "type": "scatter3d"
           }
          ],
          "scattercarpet": [
           {
            "marker": {
             "colorbar": {
              "outlinewidth": 0,
              "ticks": ""
             }
            },
            "type": "scattercarpet"
           }
          ],
          "scattergeo": [
           {
            "marker": {
             "colorbar": {
              "outlinewidth": 0,
              "ticks": ""
             }
            },
            "type": "scattergeo"
           }
          ],
          "scattergl": [
           {
            "marker": {
             "colorbar": {
              "outlinewidth": 0,
              "ticks": ""
             }
            },
            "type": "scattergl"
           }
          ],
          "scattermapbox": [
           {
            "marker": {
             "colorbar": {
              "outlinewidth": 0,
              "ticks": ""
             }
            },
            "type": "scattermapbox"
           }
          ],
          "scatterpolar": [
           {
            "marker": {
             "colorbar": {
              "outlinewidth": 0,
              "ticks": ""
             }
            },
            "type": "scatterpolar"
           }
          ],
          "scatterpolargl": [
           {
            "marker": {
             "colorbar": {
              "outlinewidth": 0,
              "ticks": ""
             }
            },
            "type": "scatterpolargl"
           }
          ],
          "scatterternary": [
           {
            "marker": {
             "colorbar": {
              "outlinewidth": 0,
              "ticks": ""
             }
            },
            "type": "scatterternary"
           }
          ],
          "surface": [
           {
            "colorbar": {
             "outlinewidth": 0,
             "ticks": ""
            },
            "colorscale": [
             [
              0,
              "#0d0887"
             ],
             [
              0.1111111111111111,
              "#46039f"
             ],
             [
              0.2222222222222222,
              "#7201a8"
             ],
             [
              0.3333333333333333,
              "#9c179e"
             ],
             [
              0.4444444444444444,
              "#bd3786"
             ],
             [
              0.5555555555555556,
              "#d8576b"
             ],
             [
              0.6666666666666666,
              "#ed7953"
             ],
             [
              0.7777777777777778,
              "#fb9f3a"
             ],
             [
              0.8888888888888888,
              "#fdca26"
             ],
             [
              1,
              "#f0f921"
             ]
            ],
            "type": "surface"
           }
          ],
          "table": [
           {
            "cells": {
             "fill": {
              "color": "#EBF0F8"
             },
             "line": {
              "color": "white"
             }
            },
            "header": {
             "fill": {
              "color": "#C8D4E3"
             },
             "line": {
              "color": "white"
             }
            },
            "type": "table"
           }
          ]
         },
         "layout": {
          "annotationdefaults": {
           "arrowcolor": "#2a3f5f",
           "arrowhead": 0,
           "arrowwidth": 1
          },
          "autotypenumbers": "strict",
          "coloraxis": {
           "colorbar": {
            "outlinewidth": 0,
            "ticks": ""
           }
          },
          "colorscale": {
           "diverging": [
            [
             0,
             "#8e0152"
            ],
            [
             0.1,
             "#c51b7d"
            ],
            [
             0.2,
             "#de77ae"
            ],
            [
             0.3,
             "#f1b6da"
            ],
            [
             0.4,
             "#fde0ef"
            ],
            [
             0.5,
             "#f7f7f7"
            ],
            [
             0.6,
             "#e6f5d0"
            ],
            [
             0.7,
             "#b8e186"
            ],
            [
             0.8,
             "#7fbc41"
            ],
            [
             0.9,
             "#4d9221"
            ],
            [
             1,
             "#276419"
            ]
           ],
           "sequential": [
            [
             0,
             "#0d0887"
            ],
            [
             0.1111111111111111,
             "#46039f"
            ],
            [
             0.2222222222222222,
             "#7201a8"
            ],
            [
             0.3333333333333333,
             "#9c179e"
            ],
            [
             0.4444444444444444,
             "#bd3786"
            ],
            [
             0.5555555555555556,
             "#d8576b"
            ],
            [
             0.6666666666666666,
             "#ed7953"
            ],
            [
             0.7777777777777778,
             "#fb9f3a"
            ],
            [
             0.8888888888888888,
             "#fdca26"
            ],
            [
             1,
             "#f0f921"
            ]
           ],
           "sequentialminus": [
            [
             0,
             "#0d0887"
            ],
            [
             0.1111111111111111,
             "#46039f"
            ],
            [
             0.2222222222222222,
             "#7201a8"
            ],
            [
             0.3333333333333333,
             "#9c179e"
            ],
            [
             0.4444444444444444,
             "#bd3786"
            ],
            [
             0.5555555555555556,
             "#d8576b"
            ],
            [
             0.6666666666666666,
             "#ed7953"
            ],
            [
             0.7777777777777778,
             "#fb9f3a"
            ],
            [
             0.8888888888888888,
             "#fdca26"
            ],
            [
             1,
             "#f0f921"
            ]
           ]
          },
          "colorway": [
           "#636efa",
           "#EF553B",
           "#00cc96",
           "#ab63fa",
           "#FFA15A",
           "#19d3f3",
           "#FF6692",
           "#B6E880",
           "#FF97FF",
           "#FECB52"
          ],
          "font": {
           "color": "#2a3f5f"
          },
          "geo": {
           "bgcolor": "white",
           "lakecolor": "white",
           "landcolor": "#E5ECF6",
           "showlakes": true,
           "showland": true,
           "subunitcolor": "white"
          },
          "hoverlabel": {
           "align": "left"
          },
          "hovermode": "closest",
          "mapbox": {
           "style": "light"
          },
          "paper_bgcolor": "white",
          "plot_bgcolor": "#E5ECF6",
          "polar": {
           "angularaxis": {
            "gridcolor": "white",
            "linecolor": "white",
            "ticks": ""
           },
           "bgcolor": "#E5ECF6",
           "radialaxis": {
            "gridcolor": "white",
            "linecolor": "white",
            "ticks": ""
           }
          },
          "scene": {
           "xaxis": {
            "backgroundcolor": "#E5ECF6",
            "gridcolor": "white",
            "gridwidth": 2,
            "linecolor": "white",
            "showbackground": true,
            "ticks": "",
            "zerolinecolor": "white"
           },
           "yaxis": {
            "backgroundcolor": "#E5ECF6",
            "gridcolor": "white",
            "gridwidth": 2,
            "linecolor": "white",
            "showbackground": true,
            "ticks": "",
            "zerolinecolor": "white"
           },
           "zaxis": {
            "backgroundcolor": "#E5ECF6",
            "gridcolor": "white",
            "gridwidth": 2,
            "linecolor": "white",
            "showbackground": true,
            "ticks": "",
            "zerolinecolor": "white"
           }
          },
          "shapedefaults": {
           "line": {
            "color": "#2a3f5f"
           }
          },
          "ternary": {
           "aaxis": {
            "gridcolor": "white",
            "linecolor": "white",
            "ticks": ""
           },
           "baxis": {
            "gridcolor": "white",
            "linecolor": "white",
            "ticks": ""
           },
           "bgcolor": "#E5ECF6",
           "caxis": {
            "gridcolor": "white",
            "linecolor": "white",
            "ticks": ""
           }
          },
          "title": {
           "x": 0.05
          },
          "xaxis": {
           "automargin": true,
           "gridcolor": "white",
           "linecolor": "white",
           "ticks": "",
           "title": {
            "standoff": 15
           },
           "zerolinecolor": "white",
           "zerolinewidth": 2
          },
          "yaxis": {
           "automargin": true,
           "gridcolor": "white",
           "linecolor": "white",
           "ticks": "",
           "title": {
            "standoff": 15
           },
           "zerolinecolor": "white",
           "zerolinewidth": 2
          }
         }
        },
        "xaxis": {
         "anchor": "y",
         "domain": [
          0,
          1
         ]
        },
        "yaxis": {
         "anchor": "x",
         "domain": [
          0,
          1
         ]
        }
       }
      }
     },
     "metadata": {},
     "output_type": "display_data"
    }
   ],
   "source": [
    "#https://stackoverflow.com/questions/62287001/how-to-overlay-two-plots-in-same-figure-in-plotly-create-pareto-chart-in-plotl\n",
    "\n",
    "\n",
    "import plotly.graph_objects as go\n",
    "from plotly.subplots import make_subplots\n",
    "\n",
    "gee_plot = go.Scatter(\n",
    "    x=pred[\"date\"],\n",
    "    y=pred[\"y_pred\"],\n",
    "    name=\"Predicted values\")\n",
    "\n",
    "vigi_plot = go.Scatter(\n",
    "    x=ciano[\"Data da coleta\"],\n",
    "    y=ciano[\"Resultado\"],\n",
    "    mode=\"markers\",\n",
    "    name = \"SISAGUA\")\n",
    "\n",
    "fig = make_subplots()\n",
    "fig.add_trace(gee_plot)\n",
    "fig.add_trace(vigi_plot)\n",
    "\n",
    "#fig.add_trace(px.scatter(ciano, x=\"Data da coleta\", y = \"Resultado\"))"
   ]
  },
  {
   "cell_type": "code",
   "execution_count": 156,
   "metadata": {},
   "outputs": [
    {
     "name": "stdout",
     "output_type": "stream",
     "text": [
      "2022-08-27 18:46:35,583 — DATA_LABEL — INFO — Reading data\n",
      "2022-08-27 18:46:35,643 — DATA_LABEL — INFO — Filtering data\n"
     ]
    },
    {
     "name": "stderr",
     "output_type": "stream",
     "text": [
      "c:\\Users\\Daniel\\cyanobacteria-monitoring\\src\\data\\label_gee.py:30: SettingWithCopyWarning:\n",
      "\n",
      "\n",
      "A value is trying to be set on a copy of a slice from a DataFrame.\n",
      "Try using .loc[row_indexer,col_indexer] = value instead\n",
      "\n",
      "See the caveats in the documentation: https://pandas.pydata.org/pandas-docs/stable/user_guide/indexing.html#returning-a-view-versus-a-copy\n",
      "\n",
      "c:\\Users\\Daniel\\cyanobacteria-monitoring\\src\\data\\label_gee.py:31: SettingWithCopyWarning:\n",
      "\n",
      "\n",
      "A value is trying to be set on a copy of a slice from a DataFrame.\n",
      "Try using .loc[row_indexer,col_indexer] = value instead\n",
      "\n",
      "See the caveats in the documentation: https://pandas.pydata.org/pandas-docs/stable/user_guide/indexing.html#returning-a-view-versus-a-copy\n",
      "\n"
     ]
    },
    {
     "data": {
      "application/vnd.plotly.v1+json": {
       "config": {
        "plotlyServerURL": "https://plot.ly"
       },
       "data": [
        {
         "name": "Predicted values",
         "type": "scatter",
         "x": [
          "2018-12-24 13:40:42",
          "2018-12-26 13:30:43",
          "2018-12-29 13:40:40",
          "2019-01-25 13:30:47",
          "2019-01-28 13:40:43",
          "2019-01-30 13:30:51",
          "2019-02-04 13:30:48",
          "2019-02-07 13:40:43",
          "2019-02-09 13:30:51",
          "2019-02-14 13:30:47",
          "2019-02-19 13:30:50",
          "2019-02-22 13:40:45",
          "2019-03-01 13:30:49",
          "2019-03-04 13:40:44",
          "2019-03-14 13:40:44",
          "2019-03-16 13:30:47",
          "2019-03-21 13:30:50",
          "2019-03-24 13:40:47",
          "2019-03-26 13:30:50",
          "2019-04-03 13:40:49",
          "2019-04-10 13:30:55",
          "2019-04-13 13:40:51",
          "2019-04-30 13:30:58",
          "2019-05-03 13:40:53",
          "2019-05-05 13:30:54",
          "2019-05-18 13:40:50",
          "2019-05-25 13:30:54",
          "2019-06-09 13:30:58",
          "2019-06-17 13:40:50",
          "2019-07-04 13:30:56",
          "2019-07-07 13:40:51",
          "2019-07-09 13:30:59",
          "2019-07-12 13:40:55",
          "2019-07-17 13:40:51",
          "2019-07-29 13:30:59",
          "2019-08-03 13:30:55",
          "2019-08-06 13:40:50",
          "2019-08-08 13:30:58",
          "2019-08-11 13:40:53",
          "2019-08-26 13:40:48",
          "2019-08-28 13:30:55",
          "2019-09-02 13:30:51",
          "2019-09-15 13:40:45",
          "2019-09-22 13:30:51",
          "2019-09-25 13:40:47",
          "2019-09-27 13:30:51",
          "2019-09-30 13:40:47",
          "2019-10-07 13:30:52",
          "2019-10-10 13:40:47",
          "2019-10-12 13:30:53",
          "2019-11-06 13:30:51",
          "2019-11-19 13:40:44",
          "2019-11-21 13:30:52",
          "2019-11-29 13:40:42",
          "2019-12-01 13:30:49",
          "2019-12-04 13:40:44",
          "2019-12-06 13:30:45",
          "2019-12-09 13:40:40",
          "2019-12-11 13:30:47",
          "2019-12-14 13:40:41",
          "2019-12-19 13:40:41",
          "2019-12-24 13:40:40",
          "2019-12-26 13:30:46",
          "2020-01-05 13:30:46",
          "2020-01-10 13:30:45",
          "2020-01-13 13:40:40",
          "2020-01-18 13:40:40",
          "2020-01-23 13:40:40",
          "2020-01-25 13:30:44",
          "2020-02-02 13:40:38",
          "2020-02-07 13:40:40",
          "2020-02-09 13:30:43",
          "2020-02-12 13:40:39",
          "2020-02-19 13:30:45",
          "2020-02-24 13:30:47",
          "2020-02-27 13:40:43",
          "2020-02-29 13:30:46",
          "2020-03-03 13:40:42",
          "2020-03-05 13:30:48",
          "2020-03-08 13:40:44",
          "2020-03-10 13:30:47",
          "2020-03-13 13:40:42",
          "2020-03-20 13:30:47",
          "2020-03-23 13:40:42",
          "2020-03-25 13:30:48",
          "2020-03-30 13:30:47",
          "2020-04-04 13:30:42",
          "2020-04-04 13:30:49",
          "2020-04-07 13:40:43",
          "2020-04-09 13:30:49",
          "2020-04-12 13:40:45",
          "2020-04-14 13:30:46",
          "2020-04-19 13:30:51",
          "2020-04-22 13:40:47",
          "2020-05-02 13:40:49",
          "2020-05-04 13:30:48",
          "2020-05-07 13:40:44",
          "2020-05-09 13:30:55",
          "2020-05-14 13:30:50",
          "2020-05-17 13:40:46",
          "2020-05-19 13:30:56",
          "2020-05-27 13:40:47",
          "2020-05-29 13:30:57",
          "2020-06-01 13:40:52",
          "2020-06-03 13:30:52",
          "2020-06-16 13:40:49",
          "2020-06-21 13:40:52",
          "2020-06-23 13:30:53",
          "2020-06-28 13:30:56",
          "2020-07-03 13:30:53",
          "2020-07-13 13:30:52",
          "2020-07-18 13:30:56",
          "2020-07-26 13:40:49",
          "2020-07-31 13:40:52",
          "2020-08-02 13:30:54",
          "2020-08-05 13:40:49",
          "2020-08-07 13:30:57",
          "2020-08-10 13:40:52",
          "2020-08-17 13:30:56",
          "2020-08-20 13:40:52",
          "2020-08-22 13:30:54",
          "2020-08-27 13:30:56",
          "2020-09-09 13:40:50",
          "2020-09-11 13:30:53",
          "2020-09-21 13:30:53",
          "2020-09-24 13:40:49",
          "2020-09-29 13:40:52",
          "2020-10-06 13:30:56",
          "2020-10-09 13:40:52",
          "2020-10-11 13:30:54",
          "2020-10-14 13:40:50",
          "2020-10-19 13:40:52",
          "2020-10-21 13:30:54",
          "2020-11-10 13:30:52",
          "2020-11-23 13:40:46",
          "2020-11-25 13:30:52",
          "2020-12-03 13:40:45",
          "2020-12-08 13:40:43",
          "2020-12-10 13:30:48",
          "2020-12-15 13:30:48",
          "2020-12-18 13:40:44",
          "2020-12-20 13:30:47",
          "2020-12-23 13:40:43",
          "2020-12-28 13:40:46",
          "2020-12-30 13:30:49",
          "2021-01-02 13:40:45",
          "2021-01-04 13:30:51",
          "2021-01-07 13:40:47",
          "2021-01-09 13:30:50",
          "2021-01-14 13:30:51",
          "2021-01-19 13:30:50",
          "2021-01-22 13:40:46",
          "2021-01-24 13:30:51",
          "2021-02-01 13:40:46",
          "2021-02-06 13:40:45",
          "2021-02-08 13:30:50",
          "2021-02-13 13:30:49",
          "2021-02-21 13:40:44",
          "2021-02-26 13:40:46",
          "2021-03-08 13:40:46",
          "2021-03-10 13:30:50",
          "2021-03-13 13:40:45",
          "2021-03-20 13:30:50",
          "2021-03-25 13:30:49",
          "2021-04-04 13:30:47",
          "2021-04-07 13:40:42",
          "2021-04-09 13:30:48",
          "2021-04-14 13:30:45",
          "2021-04-19 13:30:46",
          "2021-04-22 13:40:40",
          "2021-04-27 13:40:43",
          "2021-04-29 13:30:46",
          "2021-05-02 13:40:43",
          "2021-05-09 13:30:49",
          "2021-05-12 13:40:45",
          "2021-05-22 13:40:46",
          "2021-05-24 13:30:51",
          "2021-05-27 13:40:47",
          "2021-05-29 13:30:51",
          "2021-06-01 13:40:47",
          "2021-06-03 13:30:51",
          "2021-06-11 13:40:47",
          "2021-06-13 13:30:51",
          "2021-06-16 13:40:46",
          "2021-07-03 13:30:53",
          "2021-07-08 13:30:52",
          "2021-07-11 13:40:48",
          "2021-07-16 13:40:49",
          "2021-07-18 13:30:53",
          "2021-07-21 13:40:48",
          "2021-07-23 13:30:54",
          "2021-07-31 13:40:48",
          "2021-08-02 13:30:54",
          "2021-08-07 13:30:52",
          "2021-08-15 13:40:49",
          "2021-08-17 13:30:50",
          "2021-08-22 13:30:53",
          "2021-08-30 13:40:43",
          "2021-09-01 13:30:52",
          "2021-09-09 13:40:43",
          "2021-09-26 13:30:49",
          "2021-10-06 13:30:51",
          "2021-10-14 13:40:45",
          "2021-10-14 13:40:52",
          "2021-10-21 13:30:56",
          "2021-10-24 13:40:51",
          "2021-10-26 13:30:52",
          "2021-10-29 13:40:47",
          "2021-10-31 13:30:55",
          "2021-11-08 13:40:46",
          "2021-11-13 13:40:48",
          "2021-11-20 13:30:51",
          "2021-11-30 13:30:50",
          "2021-12-03 13:40:46",
          "2021-12-10 13:30:49",
          "2021-12-20 13:30:52",
          "2021-12-25 13:30:46",
          "2021-12-28 13:40:42",
          "2021-12-30 13:30:52",
          "2022-01-07 13:40:42",
          "2022-01-12 13:40:47",
          "2022-01-14 13:30:46",
          "2022-01-17 13:40:42",
          "2022-01-19 13:30:51",
          "2022-01-24 13:30:45",
          "2022-01-29 13:30:51",
          "2022-02-11 13:40:45",
          "2022-02-16 13:40:40",
          "2022-02-18 13:30:52",
          "2022-02-26 13:40:42",
          "2022-03-03 13:40:50",
          "2022-03-05 13:30:48",
          "2022-03-18 13:40:44",
          "2022-03-28 13:40:43",
          "2022-04-02 13:40:48",
          "2022-04-14 13:30:47",
          "2022-04-19 13:30:55",
          "2022-04-22 13:40:51",
          "2022-04-24 13:30:45",
          "2022-04-27 13:40:39",
          "2022-04-29 13:30:56",
          "2022-05-07 13:40:43",
          "2022-05-09 13:30:55",
          "2022-05-12 13:40:49",
          "2022-05-24 13:30:51",
          "2022-06-03 13:30:50",
          "2022-06-11 13:40:56",
          "2022-06-16 13:40:50",
          "2022-06-18 13:31:02",
          "2022-06-26 13:40:51",
          "2022-06-28 13:31:03",
          "2022-07-01 13:40:59",
          "2022-07-11 13:40:59",
          "2022-07-13 13:30:55",
          "2022-07-18 13:31:03",
          "2022-08-07 13:31:02",
          "2022-08-12 13:30:52",
          "2022-08-17 13:31:03",
          "2022-08-20 13:40:59"
         ],
         "y": [
          316.0168004533882,
          47.18812450914589,
          311.4734243709799,
          72.44249453648912,
          220.2789457117689,
          177.7818557823399,
          314.3124560416472,
          617.5472539976926,
          495.6284889699065,
          486.1888628971913,
          487.5013358683077,
          853.8435217377987,
          552.1558904182389,
          1737.5530437086609,
          163.9135553984055,
          191.6842406386945,
          233.4822049894381,
          216.73503321579128,
          379.9374311734924,
          850.2267277201034,
          341.34088237485105,
          709.0220127516845,
          317.4709861994335,
          32.54149522280347,
          -2.839656926111129,
          26.634558521253936,
          129.96265885829794,
          310.7533365711016,
          121.12523349234066,
          261.4068620202426,
          127.38088627157428,
          181.6739230771664,
          160.99384145078997,
          323.4952435807775,
          170.89292302892346,
          13.175205549013215,
          80.88124889743703,
          151.6479418914787,
          94.6353669778096,
          76.13847646329029,
          126.22750997560144,
          235.35924097526703,
          1431.7941227422489,
          95.55110436149803,
          112.29858492089328,
          180.784512182622,
          188.07467762820724,
          6.028616092934021,
          128.56187380160696,
          126.91007658300194,
          1.425091078942259,
          285.30334641548507,
          199.92095611748428,
          205.14965448126992,
          368.5155617249494,
          435.0068646817989,
          481.5968877598337,
          567.7178516325523,
          1072.3883621629232,
          405.1513905620235,
          464.718722897329,
          600.9793743162259,
          2840.0963548482027,
          1170.4628124320302,
          9611.887411886695,
          981.1032327081442,
          733.1016647388126,
          455.647315913253,
          634.9397671066057,
          867.1555984534106,
          838.5054374312646,
          474.14695977516345,
          993.0973084320592,
          1138.1200990810048,
          1452.1437740853946,
          2604.778055676842,
          4611.631988791395,
          2519.314338883855,
          614.366105446935,
          1864.426658996059,
          4369.856830606638,
          2345.416689274693,
          882.8694022017493,
          1625.9924442751285,
          1155.852724268819,
          3058.2219728355785,
          834.8728389107846,
          819.530149950073,
          989.3103264234992,
          1171.6031291027746,
          2767.584938739128,
          591.7762522714247,
          1055.1074689009938,
          1234.3526857276058,
          1027.2260252187723,
          879.3129337844438,
          837.8180305245331,
          1371.5762589078006,
          1727.889893768392,
          1725.2437107915766,
          2514.03861165208,
          759.3126157198244,
          1019.145127050151,
          355.29423374724684,
          303.31343500784413,
          365.23631001950696,
          308.9623121332265,
          187.6793663907308,
          261.83074389871973,
          -0.2478993318074394,
          5.349462605271848,
          83.16828957860953,
          115.81127305713238,
          35.881277866130105,
          164.47167672058544,
          96.02255363327453,
          216.25165218281484,
          145.33081754018383,
          73.61475989172067,
          356.7917511273656,
          98.12154185247113,
          405.9173815932378,
          523.3505525787706,
          376.44993965690463,
          83.8450443292066,
          76.99588307069833,
          232.9197915838244,
          200.69624877865704,
          300.1613392755448,
          93.27875124781532,
          251.76596324641235,
          200.2151402532721,
          372.5301453817608,
          459.2570654964341,
          521.442108353576,
          872.3002567096972,
          509.2065218316381,
          530.34054716875,
          2095.8194329085754,
          10284.621957271533,
          976.6143081915128,
          1679.1572639501517,
          763.8799114668236,
          607.6984473757481,
          3331.165298760075,
          695.3841410625765,
          2859.4691273291805,
          5986.134967257064,
          1154.5667383432765,
          567.6807978186248,
          1296.770654517407,
          658.7553791606565,
          1515.3035569415752,
          322.71847019756177,
          205.66295619405437,
          76.55910575152299,
          338.08432198512145,
          424.3213850758784,
          574.15698263001,
          1256.780394699896,
          802.1242720209935,
          2578.0442660360554,
          560.7759825615735,
          1162.565592311992,
          1447.0886183182631,
          2719.7447999490923,
          1063.5919786614008,
          941.9131599195772,
          775.3464974647012,
          566.4574416597266,
          819.5941802153122,
          311.0110619238073,
          405.1723977620465,
          764.9544078203548,
          1108.73193980315,
          633.3004021646817,
          316.13535517484314,
          325.0763977041653,
          274.8513816400123,
          -2.3638319412473456,
          173.8197152978411,
          117.53112687418763,
          88.64993713568478,
          148.20889220591744,
          47.36572123311583,
          67.63214593308935,
          287.5596537284094,
          175.1107291491597,
          88.20935184540906,
          84.14102778009757,
          196.72021305030745,
          192.37841512226427,
          253.87928165931987,
          191.15588740702293,
          390.63030560651487,
          289.68085008224483,
          428.3792286481783,
          50.057098681382726,
          32.94666783014112,
          154.13099174903124,
          124.06346793584704,
          117.21477363450364,
          191.37015392194496,
          197.46613680883488,
          151.29176134385696,
          220.4625389378733,
          108.425966149896,
          259.31060025529774,
          192.58386745545727,
          449.4620764971783,
          379.3522165535388,
          628.5628811315045,
          452.3103560414388,
          501.9641505778496,
          726.121355651514,
          931.7990679610932,
          653.2755942595223,
          478.6734108713056,
          1511.92619603928,
          747.819542008378,
          1011.923269739751,
          6581.055431226017,
          962.2931039846871,
          6251.162554770757,
          2012.32775521303,
          430.2733495345888,
          2006.793197760292,
          901.853150694686,
          762.3308926837738,
          1316.6336063407914,
          975.4081688220872,
          1619.7079804269663,
          1416.724050991846,
          78.2574846239843,
          418.81105168033525,
          134.47116284099843,
          252.65062888759132,
          487.2852030118736,
          229.99325240733097,
          450.88163536573177,
          281.53304589187206,
          148.89356535652044,
          50.76283112505618,
          133.5715995784842,
          130.5049499509752,
          55.16477129350626,
          35.13383018771365,
          120.94818497354592,
          93.26951651404188,
          201.1144295154174,
          186.85484936681056,
          108.04277308326996,
          450.0777591260972,
          103.83135462184666,
          52.49361976264802,
          314.256464675758,
          20.246347792212443,
          221.07081581587133,
          81.8895347917059
         ]
        },
        {
         "mode": "markers",
         "name": "SISAGUA",
         "type": "scatter",
         "x": [
          "2018-12-19",
          "2019-01-18",
          "2019-01-28",
          "2019-02-11",
          "2019-02-25",
          "2019-03-18",
          "2019-03-26",
          "2019-04-09",
          "2019-04-23",
          "2019-05-13",
          "2019-05-20",
          "2019-06-03",
          "2019-06-17",
          "2019-07-01",
          "2019-07-15",
          "2019-07-29",
          "2019-08-19",
          "2019-09-02",
          "2019-09-23",
          "2019-09-30",
          "2019-10-14",
          "2019-11-04",
          "2019-11-18",
          "2019-12-02",
          "2019-12-20",
          "2020-01-06",
          "2020-01-21",
          "2020-02-26",
          "2020-03-16",
          "2020-04-29",
          "2020-05-26",
          "2020-06-23",
          "2020-07-21",
          "2020-08-06",
          "2020-09-24",
          "2020-10-06",
          "2020-12-09",
          "2020-12-23",
          "2020-12-30",
          "2021-01-26",
          "2021-02-25",
          "2021-03-10",
          "2021-04-12",
          "2021-04-14",
          "2021-05-13",
          "2021-06-10",
          "2021-07-14",
          "2021-08-19",
          "2021-09-15",
          "2021-10-06",
          "2021-11-15",
          "2021-12-09",
          "2021-12-13",
          "2021-12-17",
          "2021-12-29",
          "2022-01-05",
          "2022-01-11",
          "2022-01-20",
          "2022-01-26",
          "2022-02-10",
          "2022-02-16",
          "2022-02-23",
          "2022-03-03",
          "2022-03-09",
          "2022-03-16",
          "2022-03-23",
          "2022-04-01",
          "2022-04-13",
          "2022-05-26",
          "2022-06-08"
         ],
         "y": [
          719,
          0,
          251,
          335,
          298,
          76,
          186,
          26,
          0,
          12,
          374,
          102,
          134,
          600,
          20,
          70,
          65,
          0,
          8,
          0,
          0,
          0,
          0,
          0,
          0,
          1404,
          150,
          360,
          40,
          386,
          1897,
          556,
          129,
          364,
          0,
          216,
          1486,
          25659,
          1766,
          364,
          612,
          10387,
          0,
          2228,
          6997,
          1529,
          0,
          1664,
          1716,
          594,
          1836,
          8323,
          13889,
          9667,
          2772,
          1783,
          28508,
          10674,
          6142,
          10557,
          1793,
          4915,
          3077,
          9023,
          614,
          3446,
          1436,
          3083,
          1409,
          1179
         ]
        }
       ],
       "layout": {
        "template": {
         "data": {
          "bar": [
           {
            "error_x": {
             "color": "#2a3f5f"
            },
            "error_y": {
             "color": "#2a3f5f"
            },
            "marker": {
             "line": {
              "color": "white",
              "width": 0.5
             },
             "pattern": {
              "fillmode": "overlay",
              "size": 10,
              "solidity": 0.2
             }
            },
            "type": "bar"
           }
          ],
          "barpolar": [
           {
            "marker": {
             "line": {
              "color": "white",
              "width": 0.5
             },
             "pattern": {
              "fillmode": "overlay",
              "size": 10,
              "solidity": 0.2
             }
            },
            "type": "barpolar"
           }
          ],
          "carpet": [
           {
            "aaxis": {
             "endlinecolor": "#2a3f5f",
             "gridcolor": "#C8D4E3",
             "linecolor": "#C8D4E3",
             "minorgridcolor": "#C8D4E3",
             "startlinecolor": "#2a3f5f"
            },
            "baxis": {
             "endlinecolor": "#2a3f5f",
             "gridcolor": "#C8D4E3",
             "linecolor": "#C8D4E3",
             "minorgridcolor": "#C8D4E3",
             "startlinecolor": "#2a3f5f"
            },
            "type": "carpet"
           }
          ],
          "choropleth": [
           {
            "colorbar": {
             "outlinewidth": 0,
             "ticks": ""
            },
            "type": "choropleth"
           }
          ],
          "contour": [
           {
            "colorbar": {
             "outlinewidth": 0,
             "ticks": ""
            },
            "colorscale": [
             [
              0,
              "#0d0887"
             ],
             [
              0.1111111111111111,
              "#46039f"
             ],
             [
              0.2222222222222222,
              "#7201a8"
             ],
             [
              0.3333333333333333,
              "#9c179e"
             ],
             [
              0.4444444444444444,
              "#bd3786"
             ],
             [
              0.5555555555555556,
              "#d8576b"
             ],
             [
              0.6666666666666666,
              "#ed7953"
             ],
             [
              0.7777777777777778,
              "#fb9f3a"
             ],
             [
              0.8888888888888888,
              "#fdca26"
             ],
             [
              1,
              "#f0f921"
             ]
            ],
            "type": "contour"
           }
          ],
          "contourcarpet": [
           {
            "colorbar": {
             "outlinewidth": 0,
             "ticks": ""
            },
            "type": "contourcarpet"
           }
          ],
          "heatmap": [
           {
            "colorbar": {
             "outlinewidth": 0,
             "ticks": ""
            },
            "colorscale": [
             [
              0,
              "#0d0887"
             ],
             [
              0.1111111111111111,
              "#46039f"
             ],
             [
              0.2222222222222222,
              "#7201a8"
             ],
             [
              0.3333333333333333,
              "#9c179e"
             ],
             [
              0.4444444444444444,
              "#bd3786"
             ],
             [
              0.5555555555555556,
              "#d8576b"
             ],
             [
              0.6666666666666666,
              "#ed7953"
             ],
             [
              0.7777777777777778,
              "#fb9f3a"
             ],
             [
              0.8888888888888888,
              "#fdca26"
             ],
             [
              1,
              "#f0f921"
             ]
            ],
            "type": "heatmap"
           }
          ],
          "heatmapgl": [
           {
            "colorbar": {
             "outlinewidth": 0,
             "ticks": ""
            },
            "colorscale": [
             [
              0,
              "#0d0887"
             ],
             [
              0.1111111111111111,
              "#46039f"
             ],
             [
              0.2222222222222222,
              "#7201a8"
             ],
             [
              0.3333333333333333,
              "#9c179e"
             ],
             [
              0.4444444444444444,
              "#bd3786"
             ],
             [
              0.5555555555555556,
              "#d8576b"
             ],
             [
              0.6666666666666666,
              "#ed7953"
             ],
             [
              0.7777777777777778,
              "#fb9f3a"
             ],
             [
              0.8888888888888888,
              "#fdca26"
             ],
             [
              1,
              "#f0f921"
             ]
            ],
            "type": "heatmapgl"
           }
          ],
          "histogram": [
           {
            "marker": {
             "pattern": {
              "fillmode": "overlay",
              "size": 10,
              "solidity": 0.2
             }
            },
            "type": "histogram"
           }
          ],
          "histogram2d": [
           {
            "colorbar": {
             "outlinewidth": 0,
             "ticks": ""
            },
            "colorscale": [
             [
              0,
              "#0d0887"
             ],
             [
              0.1111111111111111,
              "#46039f"
             ],
             [
              0.2222222222222222,
              "#7201a8"
             ],
             [
              0.3333333333333333,
              "#9c179e"
             ],
             [
              0.4444444444444444,
              "#bd3786"
             ],
             [
              0.5555555555555556,
              "#d8576b"
             ],
             [
              0.6666666666666666,
              "#ed7953"
             ],
             [
              0.7777777777777778,
              "#fb9f3a"
             ],
             [
              0.8888888888888888,
              "#fdca26"
             ],
             [
              1,
              "#f0f921"
             ]
            ],
            "type": "histogram2d"
           }
          ],
          "histogram2dcontour": [
           {
            "colorbar": {
             "outlinewidth": 0,
             "ticks": ""
            },
            "colorscale": [
             [
              0,
              "#0d0887"
             ],
             [
              0.1111111111111111,
              "#46039f"
             ],
             [
              0.2222222222222222,
              "#7201a8"
             ],
             [
              0.3333333333333333,
              "#9c179e"
             ],
             [
              0.4444444444444444,
              "#bd3786"
             ],
             [
              0.5555555555555556,
              "#d8576b"
             ],
             [
              0.6666666666666666,
              "#ed7953"
             ],
             [
              0.7777777777777778,
              "#fb9f3a"
             ],
             [
              0.8888888888888888,
              "#fdca26"
             ],
             [
              1,
              "#f0f921"
             ]
            ],
            "type": "histogram2dcontour"
           }
          ],
          "mesh3d": [
           {
            "colorbar": {
             "outlinewidth": 0,
             "ticks": ""
            },
            "type": "mesh3d"
           }
          ],
          "parcoords": [
           {
            "line": {
             "colorbar": {
              "outlinewidth": 0,
              "ticks": ""
             }
            },
            "type": "parcoords"
           }
          ],
          "pie": [
           {
            "automargin": true,
            "type": "pie"
           }
          ],
          "scatter": [
           {
            "fillpattern": {
             "fillmode": "overlay",
             "size": 10,
             "solidity": 0.2
            },
            "type": "scatter"
           }
          ],
          "scatter3d": [
           {
            "line": {
             "colorbar": {
              "outlinewidth": 0,
              "ticks": ""
             }
            },
            "marker": {
             "colorbar": {
              "outlinewidth": 0,
              "ticks": ""
             }
            },
            "type": "scatter3d"
           }
          ],
          "scattercarpet": [
           {
            "marker": {
             "colorbar": {
              "outlinewidth": 0,
              "ticks": ""
             }
            },
            "type": "scattercarpet"
           }
          ],
          "scattergeo": [
           {
            "marker": {
             "colorbar": {
              "outlinewidth": 0,
              "ticks": ""
             }
            },
            "type": "scattergeo"
           }
          ],
          "scattergl": [
           {
            "marker": {
             "colorbar": {
              "outlinewidth": 0,
              "ticks": ""
             }
            },
            "type": "scattergl"
           }
          ],
          "scattermapbox": [
           {
            "marker": {
             "colorbar": {
              "outlinewidth": 0,
              "ticks": ""
             }
            },
            "type": "scattermapbox"
           }
          ],
          "scatterpolar": [
           {
            "marker": {
             "colorbar": {
              "outlinewidth": 0,
              "ticks": ""
             }
            },
            "type": "scatterpolar"
           }
          ],
          "scatterpolargl": [
           {
            "marker": {
             "colorbar": {
              "outlinewidth": 0,
              "ticks": ""
             }
            },
            "type": "scatterpolargl"
           }
          ],
          "scatterternary": [
           {
            "marker": {
             "colorbar": {
              "outlinewidth": 0,
              "ticks": ""
             }
            },
            "type": "scatterternary"
           }
          ],
          "surface": [
           {
            "colorbar": {
             "outlinewidth": 0,
             "ticks": ""
            },
            "colorscale": [
             [
              0,
              "#0d0887"
             ],
             [
              0.1111111111111111,
              "#46039f"
             ],
             [
              0.2222222222222222,
              "#7201a8"
             ],
             [
              0.3333333333333333,
              "#9c179e"
             ],
             [
              0.4444444444444444,
              "#bd3786"
             ],
             [
              0.5555555555555556,
              "#d8576b"
             ],
             [
              0.6666666666666666,
              "#ed7953"
             ],
             [
              0.7777777777777778,
              "#fb9f3a"
             ],
             [
              0.8888888888888888,
              "#fdca26"
             ],
             [
              1,
              "#f0f921"
             ]
            ],
            "type": "surface"
           }
          ],
          "table": [
           {
            "cells": {
             "fill": {
              "color": "#EBF0F8"
             },
             "line": {
              "color": "white"
             }
            },
            "header": {
             "fill": {
              "color": "#C8D4E3"
             },
             "line": {
              "color": "white"
             }
            },
            "type": "table"
           }
          ]
         },
         "layout": {
          "annotationdefaults": {
           "arrowcolor": "#2a3f5f",
           "arrowhead": 0,
           "arrowwidth": 1
          },
          "autotypenumbers": "strict",
          "coloraxis": {
           "colorbar": {
            "outlinewidth": 0,
            "ticks": ""
           }
          },
          "colorscale": {
           "diverging": [
            [
             0,
             "#8e0152"
            ],
            [
             0.1,
             "#c51b7d"
            ],
            [
             0.2,
             "#de77ae"
            ],
            [
             0.3,
             "#f1b6da"
            ],
            [
             0.4,
             "#fde0ef"
            ],
            [
             0.5,
             "#f7f7f7"
            ],
            [
             0.6,
             "#e6f5d0"
            ],
            [
             0.7,
             "#b8e186"
            ],
            [
             0.8,
             "#7fbc41"
            ],
            [
             0.9,
             "#4d9221"
            ],
            [
             1,
             "#276419"
            ]
           ],
           "sequential": [
            [
             0,
             "#0d0887"
            ],
            [
             0.1111111111111111,
             "#46039f"
            ],
            [
             0.2222222222222222,
             "#7201a8"
            ],
            [
             0.3333333333333333,
             "#9c179e"
            ],
            [
             0.4444444444444444,
             "#bd3786"
            ],
            [
             0.5555555555555556,
             "#d8576b"
            ],
            [
             0.6666666666666666,
             "#ed7953"
            ],
            [
             0.7777777777777778,
             "#fb9f3a"
            ],
            [
             0.8888888888888888,
             "#fdca26"
            ],
            [
             1,
             "#f0f921"
            ]
           ],
           "sequentialminus": [
            [
             0,
             "#0d0887"
            ],
            [
             0.1111111111111111,
             "#46039f"
            ],
            [
             0.2222222222222222,
             "#7201a8"
            ],
            [
             0.3333333333333333,
             "#9c179e"
            ],
            [
             0.4444444444444444,
             "#bd3786"
            ],
            [
             0.5555555555555556,
             "#d8576b"
            ],
            [
             0.6666666666666666,
             "#ed7953"
            ],
            [
             0.7777777777777778,
             "#fb9f3a"
            ],
            [
             0.8888888888888888,
             "#fdca26"
            ],
            [
             1,
             "#f0f921"
            ]
           ]
          },
          "colorway": [
           "#636efa",
           "#EF553B",
           "#00cc96",
           "#ab63fa",
           "#FFA15A",
           "#19d3f3",
           "#FF6692",
           "#B6E880",
           "#FF97FF",
           "#FECB52"
          ],
          "font": {
           "color": "#2a3f5f"
          },
          "geo": {
           "bgcolor": "white",
           "lakecolor": "white",
           "landcolor": "white",
           "showlakes": true,
           "showland": true,
           "subunitcolor": "#C8D4E3"
          },
          "hoverlabel": {
           "align": "left"
          },
          "hovermode": "closest",
          "mapbox": {
           "style": "light"
          },
          "paper_bgcolor": "white",
          "plot_bgcolor": "white",
          "polar": {
           "angularaxis": {
            "gridcolor": "#EBF0F8",
            "linecolor": "#EBF0F8",
            "ticks": ""
           },
           "bgcolor": "white",
           "radialaxis": {
            "gridcolor": "#EBF0F8",
            "linecolor": "#EBF0F8",
            "ticks": ""
           }
          },
          "scene": {
           "xaxis": {
            "backgroundcolor": "white",
            "gridcolor": "#DFE8F3",
            "gridwidth": 2,
            "linecolor": "#EBF0F8",
            "showbackground": true,
            "ticks": "",
            "zerolinecolor": "#EBF0F8"
           },
           "yaxis": {
            "backgroundcolor": "white",
            "gridcolor": "#DFE8F3",
            "gridwidth": 2,
            "linecolor": "#EBF0F8",
            "showbackground": true,
            "ticks": "",
            "zerolinecolor": "#EBF0F8"
           },
           "zaxis": {
            "backgroundcolor": "white",
            "gridcolor": "#DFE8F3",
            "gridwidth": 2,
            "linecolor": "#EBF0F8",
            "showbackground": true,
            "ticks": "",
            "zerolinecolor": "#EBF0F8"
           }
          },
          "shapedefaults": {
           "line": {
            "color": "#2a3f5f"
           }
          },
          "ternary": {
           "aaxis": {
            "gridcolor": "#DFE8F3",
            "linecolor": "#A2B1C6",
            "ticks": ""
           },
           "baxis": {
            "gridcolor": "#DFE8F3",
            "linecolor": "#A2B1C6",
            "ticks": ""
           },
           "bgcolor": "white",
           "caxis": {
            "gridcolor": "#DFE8F3",
            "linecolor": "#A2B1C6",
            "ticks": ""
           }
          },
          "title": {
           "x": 0.05
          },
          "xaxis": {
           "automargin": true,
           "gridcolor": "#EBF0F8",
           "linecolor": "#EBF0F8",
           "ticks": "",
           "title": {
            "standoff": 15
           },
           "zerolinecolor": "#EBF0F8",
           "zerolinewidth": 2
          },
          "yaxis": {
           "automargin": true,
           "gridcolor": "#EBF0F8",
           "linecolor": "#EBF0F8",
           "ticks": "",
           "title": {
            "standoff": 15
           },
           "zerolinecolor": "#EBF0F8",
           "zerolinewidth": 2
          }
         }
        },
        "title": {
         "text": "GUAIBA - WTP MOINHOS DE VENTO<br>Cyanobacteria monitoring"
        },
        "xaxis": {
         "anchor": "y",
         "domain": [
          0,
          1
         ],
         "title": {
          "text": "Date"
         }
        },
        "yaxis": {
         "anchor": "x",
         "domain": [
          0,
          1
         ],
         "title": {
          "text": "Cyanobacteria (cells mL−1)"
         }
        }
       }
      }
     },
     "metadata": {},
     "output_type": "display_data"
    }
   ],
   "source": [
    "from src.report.plot_predicted_values import plot_predicted_values\n",
    "\n",
    "plot_predicted_values(\"params.yaml\")"
   ]
  },
  {
   "cell_type": "code",
   "execution_count": 12,
   "metadata": {},
   "outputs": [],
   "source": [
    "import yaml\n",
    "\n",
    "with open(\"params.yaml\") as config_file:\n",
    "    config = yaml.safe_load(config_file)"
   ]
  },
  {
   "cell_type": "code",
   "execution_count": 9,
   "metadata": {},
   "outputs": [
    {
     "data": {
      "text/plain": [
       "['date',\n",
       " 'NDVI_median',\n",
       " 'NDCI_median',\n",
       " 'B1_median',\n",
       " 'B2_median',\n",
       " 'B3_median',\n",
       " 'B4_median',\n",
       " 'B5_median',\n",
       " 'B6_median',\n",
       " 'B7_median',\n",
       " 'B8_median',\n",
       " 'B8A_median',\n",
       " 'B9_median',\n",
       " 'B11_median',\n",
       " 'B12_median',\n",
       " ['Resultado', 'Data da coleta', 'interval'],\n",
       " ['Resultado', 'Data da coleta', 'interval'],\n",
       " ['Resultado', 'Data da coleta', 'interval'],\n",
       " 'Resultado',\n",
       " 'Data da coleta',\n",
       " 'interval']"
      ]
     },
     "execution_count": 9,
     "metadata": {},
     "output_type": "execute_result"
    }
   ],
   "source": [
    "x = config[\"featurize\"][\"selected_clean_columns\"]\n",
    "\n",
    "x + ['Resultado', 'Data da coleta', 'interval']"
   ]
  },
  {
   "cell_type": "code",
   "execution_count": 14,
   "metadata": {},
   "outputs": [
    {
     "data": {
      "text/plain": [
       "['date',\n",
       " 'NDVI_median',\n",
       " 'NDCI_median',\n",
       " 'B1_median',\n",
       " 'B2_median',\n",
       " 'B3_median',\n",
       " 'B4_median',\n",
       " 'B5_median',\n",
       " 'B6_median',\n",
       " 'B7_median',\n",
       " 'B8_median',\n",
       " 'B8A_median',\n",
       " 'B9_median',\n",
       " 'B11_median',\n",
       " 'B12_median',\n",
       " 'Resultado',\n",
       " 'Data da coleta',\n",
       " 'interval',\n",
       " 'Resultado',\n",
       " 'Data da coleta',\n",
       " 'interval']"
      ]
     },
     "execution_count": 14,
     "metadata": {},
     "output_type": "execute_result"
    }
   ],
   "source": [
    "selected_columns = config[\"featurize\"][\"selected_clean_columns\"] \n",
    "selected_columns"
   ]
  },
  {
   "cell_type": "markdown",
   "metadata": {},
   "source": []
  },
  {
   "cell_type": "code",
   "execution_count": null,
   "metadata": {},
   "outputs": [],
   "source": []
  }
 ],
 "metadata": {
  "kernelspec": {
   "display_name": "Python 3.8.5 ('venv': venv)",
   "language": "python",
   "name": "python3"
  },
  "language_info": {
   "codemirror_mode": {
    "name": "ipython",
    "version": 3
   },
   "file_extension": ".py",
   "mimetype": "text/x-python",
   "name": "python",
   "nbconvert_exporter": "python",
   "pygments_lexer": "ipython3",
   "version": "3.10.0"
  },
  "orig_nbformat": 4,
  "vscode": {
   "interpreter": {
    "hash": "bea6f214db0c84ba1d605d7831ff73fdd276b23b770cc907ce79b7d66bebf2cb"
   }
  }
 },
 "nbformat": 4,
 "nbformat_minor": 2
}
