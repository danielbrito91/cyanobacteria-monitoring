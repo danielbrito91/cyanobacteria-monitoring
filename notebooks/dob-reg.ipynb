{
 "cells": [
  {
   "cell_type": "code",
   "execution_count": 1,
   "metadata": {},
   "outputs": [
    {
     "name": "stdout",
     "output_type": "stream",
     "text": [
      "/Users/danieloliveiradebrito/Projetos/cyanobacteria-monitoring\n"
     ]
    }
   ],
   "source": [
    "%cd .."
   ]
  },
  {
   "cell_type": "code",
   "execution_count": 2,
   "metadata": {},
   "outputs": [],
   "source": [
    "%load_ext autoreload\n",
    "%autoreload 2"
   ]
  },
  {
   "cell_type": "code",
   "execution_count": 3,
   "metadata": {},
   "outputs": [],
   "source": [
    "import yaml\n",
    "import pandas as pd\n",
    "\n",
    "from sklearn.model_selection import RepeatedKFold\n",
    "from sklearn.model_selection import train_test_split\n",
    "from sklearn.model_selection import cross_val_score\n",
    "from sklearn.pipeline import Pipeline\n",
    "from sklearn.preprocessing import PolynomialFeatures\n",
    "from sklearn.linear_model import Ridge\n",
    "from sklearn.metrics import mean_absolute_error\n",
    "from sklearn.preprocessing import PowerTransformer\n",
    "from sklearn.compose import TransformedTargetRegressor\n",
    "\n",
    "from sklearn.ensemble import RandomForestRegressor\n",
    "import xgboost\n",
    "from sklearn.model_selection import KFold\n",
    "\n",
    "import plotly.express as px\n",
    "\n",
    "import numpy as np\n",
    "\n",
    "from src.data import preprocess\n",
    "\n",
    "import optuna\n",
    "from optuna.visualization import plot_param_importances\n",
    "from optuna.visualization import plot_optimization_history\n",
    "\n",
    "import s3fs"
   ]
  },
  {
   "cell_type": "code",
   "execution_count": 4,
   "metadata": {},
   "outputs": [],
   "source": [
    "with open(\"params.yaml\") as config_file:\n",
    "    config = yaml.safe_load(config_file)\n",
    "\n",
    "xgb_p = config[\"train\"][\"estimators\"][\"xgboost\"][\"params\"]\n",
    "\n",
    "fs = s3fs.S3FileSystem()"
   ]
  },
  {
   "cell_type": "code",
   "execution_count": 5,
   "metadata": {},
   "outputs": [
    {
     "name": "stdout",
     "output_type": "stream",
     "text": [
      "n_estimators 1000\n",
      "learning_rate 0.5\n",
      "max_depth 16\n",
      "subsample 0.8\n",
      "colsample_bytree 0.9\n",
      "colsample_bylevel 0.4\n",
      "scale_pos_weight 85\n"
     ]
    }
   ],
   "source": [
    "for k, v in xgb_p.items():\n",
    "    print(k, v)"
   ]
  },
  {
   "cell_type": "markdown",
   "metadata": {},
   "source": [
    "# Load Data"
   ]
  },
  {
   "cell_type": "code",
   "execution_count": 6,
   "metadata": {},
   "outputs": [],
   "source": [
    "df = pd.read_parquet(fs.open(config[\"featurize\"][\"ft_data_path\"]))"
   ]
  },
  {
   "cell_type": "code",
   "execution_count": 7,
   "metadata": {},
   "outputs": [
    {
     "name": "stdout",
     "output_type": "stream",
     "text": [
      "22.52% dos dados utilizados para teste\n"
     ]
    }
   ],
   "source": [
    "df_train, df_test = preprocess.train_test_split_ts(df, config)"
   ]
  },
  {
   "cell_type": "code",
   "execution_count": 8,
   "metadata": {},
   "outputs": [],
   "source": [
    "from sklearn.model_selection import TimeSeriesSplit\n",
    "\n",
    "tscv = TimeSeriesSplit(n_splits=3)\n",
    "for train_index, val_index in tscv.split(df_train):\n",
    "        df_train_2, df_val = df_train.iloc[train_index], df_train.iloc[val_index]"
   ]
  },
  {
   "cell_type": "code",
   "execution_count": 11,
   "metadata": {},
   "outputs": [],
   "source": [
    "from src.data import preprocess\n",
    "\n",
    "features = config[\"featurize\"][\"selected_features\"]\n",
    "\n",
    "X_train = df_train[features]\n",
    "X_test = df_test[features]\n",
    "y_train = df_train[config[\"featurize\"][\"target_column\"]]\n",
    "y_test = df_test[config[\"featurize\"][\"target_column\"]]\n"
   ]
  },
  {
   "cell_type": "markdown",
   "metadata": {},
   "source": [
    "# Train"
   ]
  },
  {
   "cell_type": "markdown",
   "metadata": {},
   "source": [
    "## Ridge"
   ]
  },
  {
   "cell_type": "code",
   "execution_count": 25,
   "metadata": {},
   "outputs": [
    {
     "name": "stderr",
     "output_type": "stream",
     "text": [
      "[I 2024-01-06 12:19:55,208] A new study created in memory with name: Ridge\n",
      "[I 2024-01-06 12:19:55,241] Trial 0 finished with value: 3444.8965674487063 and parameters: {'alpha': 94.32737153398172, 'degree': 2}. Best is trial 0 with value: 3444.8965674487063.\n"
     ]
    },
    {
     "name": "stderr",
     "output_type": "stream",
     "text": [
      "[I 2024-01-06 12:19:55,317] Trial 1 finished with value: 10530.601014736014 and parameters: {'alpha': 65.25797515889998, 'degree': 4}. Best is trial 0 with value: 3444.8965674487063.\n",
      "[I 2024-01-06 12:19:55,346] Trial 2 finished with value: 3436.38525178056 and parameters: {'alpha': 75.14070322519837, 'degree': 2}. Best is trial 2 with value: 3436.38525178056.\n",
      "[I 2024-01-06 12:19:55,381] Trial 3 finished with value: 3475.936796889435 and parameters: {'alpha': 16.1087641748673, 'degree': 2}. Best is trial 2 with value: 3436.38525178056.\n",
      "[I 2024-01-06 12:19:55,427] Trial 4 finished with value: 3430.509995964729 and parameters: {'alpha': 51.49420785702814, 'degree': 2}. Best is trial 4 with value: 3430.509995964729.\n",
      "[I 2024-01-06 12:19:55,596] Trial 5 finished with value: 41244.128050966785 and parameters: {'alpha': 78.12743529030092, 'degree': 5}. Best is trial 4 with value: 3430.509995964729.\n",
      "[I 2024-01-06 12:19:55,679] Trial 6 finished with value: 12970.552852472749 and parameters: {'alpha': 13.628626927098527, 'degree': 4}. Best is trial 4 with value: 3430.509995964729.\n",
      "[I 2024-01-06 12:19:55,756] Trial 7 finished with value: 11101.346410129667 and parameters: {'alpha': 47.99105233116188, 'degree': 4}. Best is trial 4 with value: 3430.509995964729.\n",
      "[I 2024-01-06 12:19:55,781] Trial 8 finished with value: 3464.0196670370397 and parameters: {'alpha': 17.678996499721205, 'degree': 2}. Best is trial 4 with value: 3430.509995964729.\n",
      "[I 2024-01-06 12:19:55,817] Trial 9 finished with value: 3430.9491940395746 and parameters: {'alpha': 53.44302020078006, 'degree': 2}. Best is trial 4 with value: 3430.509995964729.\n",
      "[I 2024-01-06 12:19:55,865] Trial 10 finished with value: 4864.584176004792 and parameters: {'alpha': 35.478782651004735, 'degree': 3}. Best is trial 4 with value: 3430.509995964729.\n",
      "[I 2024-01-06 12:19:55,935] Trial 11 finished with value: 4679.346762296534 and parameters: {'alpha': 46.036419323983985, 'degree': 3}. Best is trial 4 with value: 3430.509995964729.\n",
      "[I 2024-01-06 12:19:56,016] Trial 12 finished with value: 4495.996309482765 and parameters: {'alpha': 61.17307491240486, 'degree': 3}. Best is trial 4 with value: 3430.509995964729.\n",
      "[I 2024-01-06 12:19:56,064] Trial 13 finished with value: 3435.385322397462 and parameters: {'alpha': 33.12258179337417, 'degree': 2}. Best is trial 4 with value: 3430.509995964729.\n",
      "[I 2024-01-06 12:19:56,112] Trial 14 finished with value: 4947.955056779668 and parameters: {'alpha': 31.618386925012448, 'degree': 3}. Best is trial 4 with value: 3430.509995964729.\n",
      "[I 2024-01-06 12:19:56,328] Trial 15 finished with value: 42079.55408057233 and parameters: {'alpha': 59.316848729810395, 'degree': 5}. Best is trial 4 with value: 3430.509995964729.\n",
      "[I 2024-01-06 12:19:56,366] Trial 16 finished with value: 3446.7416092719 and parameters: {'alpha': 98.72811356667546, 'degree': 2}. Best is trial 4 with value: 3430.509995964729.\n",
      "[I 2024-01-06 12:19:56,421] Trial 17 finished with value: 7198.263711159389 and parameters: {'alpha': 3.6059242379655103, 'degree': 3}. Best is trial 4 with value: 3430.509995964729.\n",
      "[I 2024-01-06 12:19:56,467] Trial 18 finished with value: 3437.249224475963 and parameters: {'alpha': 76.87174060643459, 'degree': 2}. Best is trial 4 with value: 3430.509995964729.\n",
      "[I 2024-01-06 12:19:56,530] Trial 19 finished with value: 4758.148163886764 and parameters: {'alpha': 41.1664282822187, 'degree': 3}. Best is trial 4 with value: 3430.509995964729.\n",
      "[I 2024-01-06 12:19:56,573] Trial 20 finished with value: 3431.062484111009 and parameters: {'alpha': 53.98700775893082, 'degree': 2}. Best is trial 4 with value: 3430.509995964729.\n",
      "[I 2024-01-06 12:19:56,658] Trial 21 finished with value: 3431.631623975747 and parameters: {'alpha': 57.04390065289572, 'degree': 2}. Best is trial 4 with value: 3430.509995964729.\n",
      "[I 2024-01-06 12:19:56,707] Trial 22 finished with value: 3430.755000755569 and parameters: {'alpha': 52.55178248211939, 'degree': 2}. Best is trial 4 with value: 3430.509995964729.\n",
      "[I 2024-01-06 12:19:56,745] Trial 23 finished with value: 3432.8645548186987 and parameters: {'alpha': 66.94325544382991, 'degree': 2}. Best is trial 4 with value: 3430.509995964729.\n",
      "[I 2024-01-06 12:19:56,813] Trial 24 finished with value: 4740.181661487839 and parameters: {'alpha': 42.22307074789928, 'degree': 3}. Best is trial 4 with value: 3430.509995964729.\n",
      "[I 2024-01-06 12:19:56,881] Trial 25 finished with value: 3435.2754262923254 and parameters: {'alpha': 27.749433295088718, 'degree': 2}. Best is trial 4 with value: 3430.509995964729.\n",
      "[I 2024-01-06 12:19:56,944] Trial 26 finished with value: 4351.689657587736 and parameters: {'alpha': 86.21875712295028, 'degree': 3}. Best is trial 4 with value: 3430.509995964729.\n",
      "[I 2024-01-06 12:19:56,978] Trial 27 finished with value: 3430.631120998945 and parameters: {'alpha': 52.00826833443174, 'degree': 2}. Best is trial 4 with value: 3430.509995964729.\n",
      "[I 2024-01-06 12:19:57,053] Trial 28 finished with value: 10356.907571797823 and parameters: {'alpha': 71.4332033705158, 'degree': 4}. Best is trial 4 with value: 3430.509995964729.\n",
      "[I 2024-01-06 12:19:57,109] Trial 29 finished with value: 3430.5112161259613 and parameters: {'alpha': 49.867095958480085, 'degree': 2}. Best is trial 4 with value: 3430.509995964729.\n",
      "[I 2024-01-06 12:19:57,153] Trial 30 finished with value: 3441.9805567056555 and parameters: {'alpha': 87.51825166045037, 'degree': 2}. Best is trial 4 with value: 3430.509995964729.\n",
      "[I 2024-01-06 12:19:57,214] Trial 31 finished with value: 3430.5254336644966 and parameters: {'alpha': 49.68215641862672, 'degree': 2}. Best is trial 4 with value: 3430.509995964729.\n",
      "[I 2024-01-06 12:19:57,266] Trial 32 finished with value: 3433.6777931252154 and parameters: {'alpha': 40.65446335835935, 'degree': 2}. Best is trial 4 with value: 3430.509995964729.\n",
      "[I 2024-01-06 12:19:57,297] Trial 33 finished with value: 3432.908350094611 and parameters: {'alpha': 67.45062630752567, 'degree': 2}. Best is trial 4 with value: 3430.509995964729.\n",
      "[I 2024-01-06 12:19:57,337] Trial 34 finished with value: 3431.4662153606396 and parameters: {'alpha': 46.90590804828657, 'degree': 2}. Best is trial 4 with value: 3430.509995964729.\n",
      "[I 2024-01-06 12:19:57,373] Trial 35 finished with value: 3435.257178312807 and parameters: {'alpha': 23.406521310919803, 'degree': 2}. Best is trial 4 with value: 3430.509995964729.\n",
      "[I 2024-01-06 12:19:57,409] Trial 36 finished with value: 4494.52568162181 and parameters: {'alpha': 61.38110387825367, 'degree': 3}. Best is trial 4 with value: 3430.509995964729.\n",
      "[I 2024-01-06 12:19:57,549] Trial 37 finished with value: 43150.36444175147 and parameters: {'alpha': 37.00961614064704, 'degree': 5}. Best is trial 4 with value: 3430.509995964729.\n",
      "[I 2024-01-06 12:19:57,588] Trial 38 finished with value: 3430.5457732073833 and parameters: {'alpha': 49.407452400245994, 'degree': 2}. Best is trial 4 with value: 3430.509995964729.\n",
      "[I 2024-01-06 12:19:57,656] Trial 39 finished with value: 11192.025623796257 and parameters: {'alpha': 45.57894443955643, 'degree': 4}. Best is trial 4 with value: 3430.509995964729.\n",
      "[I 2024-01-06 12:19:57,689] Trial 40 finished with value: 3434.415146930356 and parameters: {'alpha': 71.40716782915942, 'degree': 2}. Best is trial 4 with value: 3430.509995964729.\n",
      "[I 2024-01-06 12:19:57,731] Trial 41 finished with value: 3430.7891718081664 and parameters: {'alpha': 52.70503152592964, 'degree': 2}. Best is trial 4 with value: 3430.509995964729.\n",
      "[I 2024-01-06 12:19:57,777] Trial 42 finished with value: 3430.7590522631745 and parameters: {'alpha': 48.71128117428009, 'degree': 2}. Best is trial 4 with value: 3430.509995964729.\n",
      "[I 2024-01-06 12:19:57,817] Trial 43 finished with value: 3431.6313902464453 and parameters: {'alpha': 57.04251569273248, 'degree': 2}. Best is trial 4 with value: 3430.509995964729.\n",
      "[I 2024-01-06 12:19:57,938] Trial 44 finished with value: 3434.347381707662 and parameters: {'alpha': 38.358898606820276, 'degree': 2}. Best is trial 4 with value: 3430.509995964729.\n",
      "[I 2024-01-06 12:19:57,983] Trial 45 finished with value: 3432.6982443059132 and parameters: {'alpha': 65.16421342481387, 'degree': 2}. Best is trial 4 with value: 3430.509995964729.\n",
      "[I 2024-01-06 12:19:58,031] Trial 46 finished with value: 4698.09497804391 and parameters: {'alpha': 44.820761006366084, 'degree': 3}. Best is trial 4 with value: 3430.509995964729.\n",
      "[I 2024-01-06 12:19:58,063] Trial 47 finished with value: 3430.4853453349237 and parameters: {'alpha': 50.19069909493011, 'degree': 2}. Best is trial 47 with value: 3430.4853453349237.\n",
      "[I 2024-01-06 12:19:58,114] Trial 48 finished with value: 4478.303733609808 and parameters: {'alpha': 63.73178614708967, 'degree': 3}. Best is trial 47 with value: 3430.4853453349237.\n",
      "[I 2024-01-06 12:19:58,144] Trial 49 finished with value: 3435.5002766489706 and parameters: {'alpha': 31.74142794319236, 'degree': 2}. Best is trial 47 with value: 3430.4853453349237.\n"
     ]
    }
   ],
   "source": [
    "# Poly Ridge\n",
    "RANDOM = config[\"base\"][\"random_state\"]\n",
    "\n",
    "def objective(trial, X, y):\n",
    "\n",
    "    param_grid = {\n",
    "        \"alpha\": trial.suggest_float(\"alpha\", .5, 100),\n",
    "        \"degree\": trial.suggest_int(\"degree\", 2, 5)\n",
    "    }\n",
    "\n",
    "    poly = PolynomialFeatures(degree=param_grid[\"degree\"], include_bias=False)\n",
    "    ridge_reg = Ridge(param_grid[\"alpha\"])\n",
    "\n",
    "    poly_ridge = Pipeline([\n",
    "        (\"poly\", poly),\n",
    "        (\"regressor\", ridge_reg)\n",
    "    ])\n",
    "\n",
    "    model = TransformedTargetRegressor(regressor = poly_ridge)\n",
    "\n",
    "    cv = RepeatedKFold(n_repeats=2, n_splits=3, random_state=RANDOM)\n",
    "\n",
    "    cv_scores = []\n",
    "    for (train_index, val_index) in cv.split(X, y):\n",
    "    #print(train_index, val_index)\n",
    "        X_train, X_val = X.iloc[train_index], X.iloc[val_index]\n",
    "        y_train, y_val = y.iloc[train_index], y.iloc[val_index]\n",
    "        \n",
    "        model.fit(X_train, y_train)\n",
    "                \n",
    "        preds = model.predict(X_val)\n",
    "        cv_scores.append(mean_absolute_error(preds, y_val))\n",
    "    \n",
    "    return np.median(cv_scores)\n",
    "\n",
    "study = optuna.create_study(direction=\"minimize\", study_name=\"Ridge\")\n",
    "func = lambda trial: objective(trial, X_train, y_train)\n",
    "study.optimize(func, n_trials=50)"
   ]
  },
  {
   "cell_type": "code",
   "execution_count": 26,
   "metadata": {},
   "outputs": [
    {
     "data": {
      "application/vnd.plotly.v1+json": {
       "config": {
        "plotlyServerURL": "https://plot.ly"
       },
       "data": [
        {
         "cliponaxis": false,
         "hovertemplate": [
          "alpha (FloatDistribution): 0.003225887945586463<extra></extra>",
          "degree (IntDistribution): 0.9967741120544136<extra></extra>"
         ],
         "name": "Objective Value",
         "orientation": "h",
         "text": [
          "<0.01",
          "1.00"
         ],
         "textposition": "outside",
         "type": "bar",
         "x": [
          0.003225887945586463,
          0.9967741120544136
         ],
         "y": [
          "alpha",
          "degree"
         ]
        }
       ],
       "layout": {
        "template": {
         "data": {
          "bar": [
           {
            "error_x": {
             "color": "#2a3f5f"
            },
            "error_y": {
             "color": "#2a3f5f"
            },
            "marker": {
             "line": {
              "color": "#E5ECF6",
              "width": 0.5
             },
             "pattern": {
              "fillmode": "overlay",
              "size": 10,
              "solidity": 0.2
             }
            },
            "type": "bar"
           }
          ],
          "barpolar": [
           {
            "marker": {
             "line": {
              "color": "#E5ECF6",
              "width": 0.5
             },
             "pattern": {
              "fillmode": "overlay",
              "size": 10,
              "solidity": 0.2
             }
            },
            "type": "barpolar"
           }
          ],
          "carpet": [
           {
            "aaxis": {
             "endlinecolor": "#2a3f5f",
             "gridcolor": "white",
             "linecolor": "white",
             "minorgridcolor": "white",
             "startlinecolor": "#2a3f5f"
            },
            "baxis": {
             "endlinecolor": "#2a3f5f",
             "gridcolor": "white",
             "linecolor": "white",
             "minorgridcolor": "white",
             "startlinecolor": "#2a3f5f"
            },
            "type": "carpet"
           }
          ],
          "choropleth": [
           {
            "colorbar": {
             "outlinewidth": 0,
             "ticks": ""
            },
            "type": "choropleth"
           }
          ],
          "contour": [
           {
            "colorbar": {
             "outlinewidth": 0,
             "ticks": ""
            },
            "colorscale": [
             [
              0,
              "#0d0887"
             ],
             [
              0.1111111111111111,
              "#46039f"
             ],
             [
              0.2222222222222222,
              "#7201a8"
             ],
             [
              0.3333333333333333,
              "#9c179e"
             ],
             [
              0.4444444444444444,
              "#bd3786"
             ],
             [
              0.5555555555555556,
              "#d8576b"
             ],
             [
              0.6666666666666666,
              "#ed7953"
             ],
             [
              0.7777777777777778,
              "#fb9f3a"
             ],
             [
              0.8888888888888888,
              "#fdca26"
             ],
             [
              1,
              "#f0f921"
             ]
            ],
            "type": "contour"
           }
          ],
          "contourcarpet": [
           {
            "colorbar": {
             "outlinewidth": 0,
             "ticks": ""
            },
            "type": "contourcarpet"
           }
          ],
          "heatmap": [
           {
            "colorbar": {
             "outlinewidth": 0,
             "ticks": ""
            },
            "colorscale": [
             [
              0,
              "#0d0887"
             ],
             [
              0.1111111111111111,
              "#46039f"
             ],
             [
              0.2222222222222222,
              "#7201a8"
             ],
             [
              0.3333333333333333,
              "#9c179e"
             ],
             [
              0.4444444444444444,
              "#bd3786"
             ],
             [
              0.5555555555555556,
              "#d8576b"
             ],
             [
              0.6666666666666666,
              "#ed7953"
             ],
             [
              0.7777777777777778,
              "#fb9f3a"
             ],
             [
              0.8888888888888888,
              "#fdca26"
             ],
             [
              1,
              "#f0f921"
             ]
            ],
            "type": "heatmap"
           }
          ],
          "heatmapgl": [
           {
            "colorbar": {
             "outlinewidth": 0,
             "ticks": ""
            },
            "colorscale": [
             [
              0,
              "#0d0887"
             ],
             [
              0.1111111111111111,
              "#46039f"
             ],
             [
              0.2222222222222222,
              "#7201a8"
             ],
             [
              0.3333333333333333,
              "#9c179e"
             ],
             [
              0.4444444444444444,
              "#bd3786"
             ],
             [
              0.5555555555555556,
              "#d8576b"
             ],
             [
              0.6666666666666666,
              "#ed7953"
             ],
             [
              0.7777777777777778,
              "#fb9f3a"
             ],
             [
              0.8888888888888888,
              "#fdca26"
             ],
             [
              1,
              "#f0f921"
             ]
            ],
            "type": "heatmapgl"
           }
          ],
          "histogram": [
           {
            "marker": {
             "pattern": {
              "fillmode": "overlay",
              "size": 10,
              "solidity": 0.2
             }
            },
            "type": "histogram"
           }
          ],
          "histogram2d": [
           {
            "colorbar": {
             "outlinewidth": 0,
             "ticks": ""
            },
            "colorscale": [
             [
              0,
              "#0d0887"
             ],
             [
              0.1111111111111111,
              "#46039f"
             ],
             [
              0.2222222222222222,
              "#7201a8"
             ],
             [
              0.3333333333333333,
              "#9c179e"
             ],
             [
              0.4444444444444444,
              "#bd3786"
             ],
             [
              0.5555555555555556,
              "#d8576b"
             ],
             [
              0.6666666666666666,
              "#ed7953"
             ],
             [
              0.7777777777777778,
              "#fb9f3a"
             ],
             [
              0.8888888888888888,
              "#fdca26"
             ],
             [
              1,
              "#f0f921"
             ]
            ],
            "type": "histogram2d"
           }
          ],
          "histogram2dcontour": [
           {
            "colorbar": {
             "outlinewidth": 0,
             "ticks": ""
            },
            "colorscale": [
             [
              0,
              "#0d0887"
             ],
             [
              0.1111111111111111,
              "#46039f"
             ],
             [
              0.2222222222222222,
              "#7201a8"
             ],
             [
              0.3333333333333333,
              "#9c179e"
             ],
             [
              0.4444444444444444,
              "#bd3786"
             ],
             [
              0.5555555555555556,
              "#d8576b"
             ],
             [
              0.6666666666666666,
              "#ed7953"
             ],
             [
              0.7777777777777778,
              "#fb9f3a"
             ],
             [
              0.8888888888888888,
              "#fdca26"
             ],
             [
              1,
              "#f0f921"
             ]
            ],
            "type": "histogram2dcontour"
           }
          ],
          "mesh3d": [
           {
            "colorbar": {
             "outlinewidth": 0,
             "ticks": ""
            },
            "type": "mesh3d"
           }
          ],
          "parcoords": [
           {
            "line": {
             "colorbar": {
              "outlinewidth": 0,
              "ticks": ""
             }
            },
            "type": "parcoords"
           }
          ],
          "pie": [
           {
            "automargin": true,
            "type": "pie"
           }
          ],
          "scatter": [
           {
            "fillpattern": {
             "fillmode": "overlay",
             "size": 10,
             "solidity": 0.2
            },
            "type": "scatter"
           }
          ],
          "scatter3d": [
           {
            "line": {
             "colorbar": {
              "outlinewidth": 0,
              "ticks": ""
             }
            },
            "marker": {
             "colorbar": {
              "outlinewidth": 0,
              "ticks": ""
             }
            },
            "type": "scatter3d"
           }
          ],
          "scattercarpet": [
           {
            "marker": {
             "colorbar": {
              "outlinewidth": 0,
              "ticks": ""
             }
            },
            "type": "scattercarpet"
           }
          ],
          "scattergeo": [
           {
            "marker": {
             "colorbar": {
              "outlinewidth": 0,
              "ticks": ""
             }
            },
            "type": "scattergeo"
           }
          ],
          "scattergl": [
           {
            "marker": {
             "colorbar": {
              "outlinewidth": 0,
              "ticks": ""
             }
            },
            "type": "scattergl"
           }
          ],
          "scattermapbox": [
           {
            "marker": {
             "colorbar": {
              "outlinewidth": 0,
              "ticks": ""
             }
            },
            "type": "scattermapbox"
           }
          ],
          "scatterpolar": [
           {
            "marker": {
             "colorbar": {
              "outlinewidth": 0,
              "ticks": ""
             }
            },
            "type": "scatterpolar"
           }
          ],
          "scatterpolargl": [
           {
            "marker": {
             "colorbar": {
              "outlinewidth": 0,
              "ticks": ""
             }
            },
            "type": "scatterpolargl"
           }
          ],
          "scatterternary": [
           {
            "marker": {
             "colorbar": {
              "outlinewidth": 0,
              "ticks": ""
             }
            },
            "type": "scatterternary"
           }
          ],
          "surface": [
           {
            "colorbar": {
             "outlinewidth": 0,
             "ticks": ""
            },
            "colorscale": [
             [
              0,
              "#0d0887"
             ],
             [
              0.1111111111111111,
              "#46039f"
             ],
             [
              0.2222222222222222,
              "#7201a8"
             ],
             [
              0.3333333333333333,
              "#9c179e"
             ],
             [
              0.4444444444444444,
              "#bd3786"
             ],
             [
              0.5555555555555556,
              "#d8576b"
             ],
             [
              0.6666666666666666,
              "#ed7953"
             ],
             [
              0.7777777777777778,
              "#fb9f3a"
             ],
             [
              0.8888888888888888,
              "#fdca26"
             ],
             [
              1,
              "#f0f921"
             ]
            ],
            "type": "surface"
           }
          ],
          "table": [
           {
            "cells": {
             "fill": {
              "color": "#EBF0F8"
             },
             "line": {
              "color": "white"
             }
            },
            "header": {
             "fill": {
              "color": "#C8D4E3"
             },
             "line": {
              "color": "white"
             }
            },
            "type": "table"
           }
          ]
         },
         "layout": {
          "annotationdefaults": {
           "arrowcolor": "#2a3f5f",
           "arrowhead": 0,
           "arrowwidth": 1
          },
          "autotypenumbers": "strict",
          "coloraxis": {
           "colorbar": {
            "outlinewidth": 0,
            "ticks": ""
           }
          },
          "colorscale": {
           "diverging": [
            [
             0,
             "#8e0152"
            ],
            [
             0.1,
             "#c51b7d"
            ],
            [
             0.2,
             "#de77ae"
            ],
            [
             0.3,
             "#f1b6da"
            ],
            [
             0.4,
             "#fde0ef"
            ],
            [
             0.5,
             "#f7f7f7"
            ],
            [
             0.6,
             "#e6f5d0"
            ],
            [
             0.7,
             "#b8e186"
            ],
            [
             0.8,
             "#7fbc41"
            ],
            [
             0.9,
             "#4d9221"
            ],
            [
             1,
             "#276419"
            ]
           ],
           "sequential": [
            [
             0,
             "#0d0887"
            ],
            [
             0.1111111111111111,
             "#46039f"
            ],
            [
             0.2222222222222222,
             "#7201a8"
            ],
            [
             0.3333333333333333,
             "#9c179e"
            ],
            [
             0.4444444444444444,
             "#bd3786"
            ],
            [
             0.5555555555555556,
             "#d8576b"
            ],
            [
             0.6666666666666666,
             "#ed7953"
            ],
            [
             0.7777777777777778,
             "#fb9f3a"
            ],
            [
             0.8888888888888888,
             "#fdca26"
            ],
            [
             1,
             "#f0f921"
            ]
           ],
           "sequentialminus": [
            [
             0,
             "#0d0887"
            ],
            [
             0.1111111111111111,
             "#46039f"
            ],
            [
             0.2222222222222222,
             "#7201a8"
            ],
            [
             0.3333333333333333,
             "#9c179e"
            ],
            [
             0.4444444444444444,
             "#bd3786"
            ],
            [
             0.5555555555555556,
             "#d8576b"
            ],
            [
             0.6666666666666666,
             "#ed7953"
            ],
            [
             0.7777777777777778,
             "#fb9f3a"
            ],
            [
             0.8888888888888888,
             "#fdca26"
            ],
            [
             1,
             "#f0f921"
            ]
           ]
          },
          "colorway": [
           "#636efa",
           "#EF553B",
           "#00cc96",
           "#ab63fa",
           "#FFA15A",
           "#19d3f3",
           "#FF6692",
           "#B6E880",
           "#FF97FF",
           "#FECB52"
          ],
          "font": {
           "color": "#2a3f5f"
          },
          "geo": {
           "bgcolor": "white",
           "lakecolor": "white",
           "landcolor": "#E5ECF6",
           "showlakes": true,
           "showland": true,
           "subunitcolor": "white"
          },
          "hoverlabel": {
           "align": "left"
          },
          "hovermode": "closest",
          "mapbox": {
           "style": "light"
          },
          "paper_bgcolor": "white",
          "plot_bgcolor": "#E5ECF6",
          "polar": {
           "angularaxis": {
            "gridcolor": "white",
            "linecolor": "white",
            "ticks": ""
           },
           "bgcolor": "#E5ECF6",
           "radialaxis": {
            "gridcolor": "white",
            "linecolor": "white",
            "ticks": ""
           }
          },
          "scene": {
           "xaxis": {
            "backgroundcolor": "#E5ECF6",
            "gridcolor": "white",
            "gridwidth": 2,
            "linecolor": "white",
            "showbackground": true,
            "ticks": "",
            "zerolinecolor": "white"
           },
           "yaxis": {
            "backgroundcolor": "#E5ECF6",
            "gridcolor": "white",
            "gridwidth": 2,
            "linecolor": "white",
            "showbackground": true,
            "ticks": "",
            "zerolinecolor": "white"
           },
           "zaxis": {
            "backgroundcolor": "#E5ECF6",
            "gridcolor": "white",
            "gridwidth": 2,
            "linecolor": "white",
            "showbackground": true,
            "ticks": "",
            "zerolinecolor": "white"
           }
          },
          "shapedefaults": {
           "line": {
            "color": "#2a3f5f"
           }
          },
          "ternary": {
           "aaxis": {
            "gridcolor": "white",
            "linecolor": "white",
            "ticks": ""
           },
           "baxis": {
            "gridcolor": "white",
            "linecolor": "white",
            "ticks": ""
           },
           "bgcolor": "#E5ECF6",
           "caxis": {
            "gridcolor": "white",
            "linecolor": "white",
            "ticks": ""
           }
          },
          "title": {
           "x": 0.05
          },
          "xaxis": {
           "automargin": true,
           "gridcolor": "white",
           "linecolor": "white",
           "ticks": "",
           "title": {
            "standoff": 15
           },
           "zerolinecolor": "white",
           "zerolinewidth": 2
          },
          "yaxis": {
           "automargin": true,
           "gridcolor": "white",
           "linecolor": "white",
           "ticks": "",
           "title": {
            "standoff": 15
           },
           "zerolinecolor": "white",
           "zerolinewidth": 2
          }
         }
        },
        "title": {
         "text": "Hyperparameter Importances"
        },
        "xaxis": {
         "title": {
          "text": "Hyperparameter Importance"
         }
        },
        "yaxis": {
         "title": {
          "text": "Hyperparameter"
         }
        }
       }
      }
     },
     "metadata": {},
     "output_type": "display_data"
    }
   ],
   "source": [
    "plot_param_importances(study)"
   ]
  },
  {
   "cell_type": "code",
   "execution_count": 27,
   "metadata": {},
   "outputs": [
    {
     "data": {
      "text/plain": [
       "{'alpha': 50.19069909493011, 'degree': 2}"
      ]
     },
     "execution_count": 27,
     "metadata": {},
     "output_type": "execute_result"
    }
   ],
   "source": [
    "study.best_params"
   ]
  },
  {
   "cell_type": "code",
   "execution_count": 28,
   "metadata": {},
   "outputs": [
    {
     "data": {
      "text/plain": [
       "array([-2169.25786867, -5110.53046397, -4504.2498761 ])"
      ]
     },
     "execution_count": 28,
     "metadata": {},
     "output_type": "execute_result"
    }
   ],
   "source": [
    "poly = PolynomialFeatures(degree=study.best_params[\"degree\"], include_bias=False)\n",
    "ridge_reg = Ridge(alpha=study.best_params[\"alpha\"])\n",
    "\n",
    "poly_ridge = Pipeline([\n",
    "        (\"poly\", poly),\n",
    "        (\"regressor\", ridge_reg)\n",
    "    ])\n",
    "\n",
    "model = TransformedTargetRegressor(regressor = poly_ridge)\n",
    "\n",
    "cross_val_score(model, X_train, y_train, cv=3, scoring=\"neg_mean_absolute_error\")"
   ]
  },
  {
   "cell_type": "code",
   "execution_count": 29,
   "metadata": {},
   "outputs": [
    {
     "data": {
      "application/vnd.plotly.v1+json": {
       "config": {
        "plotlyServerURL": "https://plot.ly"
       },
       "data": [
        {
         "hovertemplate": "y_pred=%{x}<br>y_true=%{y}<extra></extra>",
         "legendgroup": "",
         "marker": {
          "color": "#636efa",
          "symbol": "circle"
         },
         "mode": "markers",
         "name": "",
         "orientation": "v",
         "showlegend": false,
         "type": "scatter",
         "x": [
          1977.1207442976888,
          2950.323869074628,
          1686.4833245552675,
          4417.518151684122,
          6667.922192803775,
          5173.96590821086,
          2793.381789320729,
          2377.942977788158,
          5913.336602074278,
          5166.7373489158745,
          5085.820036095308,
          4167.407672514208,
          4433.2756039787855,
          3253.277532853189,
          1686.4055306996033,
          2066.977513995581,
          -680.5051986319759,
          -425.6598579865804,
          -50.328691623840314,
          483.907500431407,
          2186.0084262315027,
          -305.0547665337417,
          853.0279144267295,
          998.1134931070292,
          740.4689584543064
         ],
         "xaxis": "x",
         "y": [
          2756,
          1314,
          4305,
          2616,
          13389,
          16137,
          2306,
          1656,
          2306,
          1656,
          2306,
          1656,
          2306,
          1656,
          2481,
          1272,
          174,
          2760,
          2178,
          1604,
          1604,
          131,
          2715,
          2715,
          23
         ],
         "yaxis": "y"
        }
       ],
       "layout": {
        "legend": {
         "tracegroupgap": 0
        },
        "margin": {
         "t": 60
        },
        "template": {
         "data": {
          "bar": [
           {
            "error_x": {
             "color": "#2a3f5f"
            },
            "error_y": {
             "color": "#2a3f5f"
            },
            "marker": {
             "line": {
              "color": "#E5ECF6",
              "width": 0.5
             },
             "pattern": {
              "fillmode": "overlay",
              "size": 10,
              "solidity": 0.2
             }
            },
            "type": "bar"
           }
          ],
          "barpolar": [
           {
            "marker": {
             "line": {
              "color": "#E5ECF6",
              "width": 0.5
             },
             "pattern": {
              "fillmode": "overlay",
              "size": 10,
              "solidity": 0.2
             }
            },
            "type": "barpolar"
           }
          ],
          "carpet": [
           {
            "aaxis": {
             "endlinecolor": "#2a3f5f",
             "gridcolor": "white",
             "linecolor": "white",
             "minorgridcolor": "white",
             "startlinecolor": "#2a3f5f"
            },
            "baxis": {
             "endlinecolor": "#2a3f5f",
             "gridcolor": "white",
             "linecolor": "white",
             "minorgridcolor": "white",
             "startlinecolor": "#2a3f5f"
            },
            "type": "carpet"
           }
          ],
          "choropleth": [
           {
            "colorbar": {
             "outlinewidth": 0,
             "ticks": ""
            },
            "type": "choropleth"
           }
          ],
          "contour": [
           {
            "colorbar": {
             "outlinewidth": 0,
             "ticks": ""
            },
            "colorscale": [
             [
              0,
              "#0d0887"
             ],
             [
              0.1111111111111111,
              "#46039f"
             ],
             [
              0.2222222222222222,
              "#7201a8"
             ],
             [
              0.3333333333333333,
              "#9c179e"
             ],
             [
              0.4444444444444444,
              "#bd3786"
             ],
             [
              0.5555555555555556,
              "#d8576b"
             ],
             [
              0.6666666666666666,
              "#ed7953"
             ],
             [
              0.7777777777777778,
              "#fb9f3a"
             ],
             [
              0.8888888888888888,
              "#fdca26"
             ],
             [
              1,
              "#f0f921"
             ]
            ],
            "type": "contour"
           }
          ],
          "contourcarpet": [
           {
            "colorbar": {
             "outlinewidth": 0,
             "ticks": ""
            },
            "type": "contourcarpet"
           }
          ],
          "heatmap": [
           {
            "colorbar": {
             "outlinewidth": 0,
             "ticks": ""
            },
            "colorscale": [
             [
              0,
              "#0d0887"
             ],
             [
              0.1111111111111111,
              "#46039f"
             ],
             [
              0.2222222222222222,
              "#7201a8"
             ],
             [
              0.3333333333333333,
              "#9c179e"
             ],
             [
              0.4444444444444444,
              "#bd3786"
             ],
             [
              0.5555555555555556,
              "#d8576b"
             ],
             [
              0.6666666666666666,
              "#ed7953"
             ],
             [
              0.7777777777777778,
              "#fb9f3a"
             ],
             [
              0.8888888888888888,
              "#fdca26"
             ],
             [
              1,
              "#f0f921"
             ]
            ],
            "type": "heatmap"
           }
          ],
          "heatmapgl": [
           {
            "colorbar": {
             "outlinewidth": 0,
             "ticks": ""
            },
            "colorscale": [
             [
              0,
              "#0d0887"
             ],
             [
              0.1111111111111111,
              "#46039f"
             ],
             [
              0.2222222222222222,
              "#7201a8"
             ],
             [
              0.3333333333333333,
              "#9c179e"
             ],
             [
              0.4444444444444444,
              "#bd3786"
             ],
             [
              0.5555555555555556,
              "#d8576b"
             ],
             [
              0.6666666666666666,
              "#ed7953"
             ],
             [
              0.7777777777777778,
              "#fb9f3a"
             ],
             [
              0.8888888888888888,
              "#fdca26"
             ],
             [
              1,
              "#f0f921"
             ]
            ],
            "type": "heatmapgl"
           }
          ],
          "histogram": [
           {
            "marker": {
             "pattern": {
              "fillmode": "overlay",
              "size": 10,
              "solidity": 0.2
             }
            },
            "type": "histogram"
           }
          ],
          "histogram2d": [
           {
            "colorbar": {
             "outlinewidth": 0,
             "ticks": ""
            },
            "colorscale": [
             [
              0,
              "#0d0887"
             ],
             [
              0.1111111111111111,
              "#46039f"
             ],
             [
              0.2222222222222222,
              "#7201a8"
             ],
             [
              0.3333333333333333,
              "#9c179e"
             ],
             [
              0.4444444444444444,
              "#bd3786"
             ],
             [
              0.5555555555555556,
              "#d8576b"
             ],
             [
              0.6666666666666666,
              "#ed7953"
             ],
             [
              0.7777777777777778,
              "#fb9f3a"
             ],
             [
              0.8888888888888888,
              "#fdca26"
             ],
             [
              1,
              "#f0f921"
             ]
            ],
            "type": "histogram2d"
           }
          ],
          "histogram2dcontour": [
           {
            "colorbar": {
             "outlinewidth": 0,
             "ticks": ""
            },
            "colorscale": [
             [
              0,
              "#0d0887"
             ],
             [
              0.1111111111111111,
              "#46039f"
             ],
             [
              0.2222222222222222,
              "#7201a8"
             ],
             [
              0.3333333333333333,
              "#9c179e"
             ],
             [
              0.4444444444444444,
              "#bd3786"
             ],
             [
              0.5555555555555556,
              "#d8576b"
             ],
             [
              0.6666666666666666,
              "#ed7953"
             ],
             [
              0.7777777777777778,
              "#fb9f3a"
             ],
             [
              0.8888888888888888,
              "#fdca26"
             ],
             [
              1,
              "#f0f921"
             ]
            ],
            "type": "histogram2dcontour"
           }
          ],
          "mesh3d": [
           {
            "colorbar": {
             "outlinewidth": 0,
             "ticks": ""
            },
            "type": "mesh3d"
           }
          ],
          "parcoords": [
           {
            "line": {
             "colorbar": {
              "outlinewidth": 0,
              "ticks": ""
             }
            },
            "type": "parcoords"
           }
          ],
          "pie": [
           {
            "automargin": true,
            "type": "pie"
           }
          ],
          "scatter": [
           {
            "fillpattern": {
             "fillmode": "overlay",
             "size": 10,
             "solidity": 0.2
            },
            "type": "scatter"
           }
          ],
          "scatter3d": [
           {
            "line": {
             "colorbar": {
              "outlinewidth": 0,
              "ticks": ""
             }
            },
            "marker": {
             "colorbar": {
              "outlinewidth": 0,
              "ticks": ""
             }
            },
            "type": "scatter3d"
           }
          ],
          "scattercarpet": [
           {
            "marker": {
             "colorbar": {
              "outlinewidth": 0,
              "ticks": ""
             }
            },
            "type": "scattercarpet"
           }
          ],
          "scattergeo": [
           {
            "marker": {
             "colorbar": {
              "outlinewidth": 0,
              "ticks": ""
             }
            },
            "type": "scattergeo"
           }
          ],
          "scattergl": [
           {
            "marker": {
             "colorbar": {
              "outlinewidth": 0,
              "ticks": ""
             }
            },
            "type": "scattergl"
           }
          ],
          "scattermapbox": [
           {
            "marker": {
             "colorbar": {
              "outlinewidth": 0,
              "ticks": ""
             }
            },
            "type": "scattermapbox"
           }
          ],
          "scatterpolar": [
           {
            "marker": {
             "colorbar": {
              "outlinewidth": 0,
              "ticks": ""
             }
            },
            "type": "scatterpolar"
           }
          ],
          "scatterpolargl": [
           {
            "marker": {
             "colorbar": {
              "outlinewidth": 0,
              "ticks": ""
             }
            },
            "type": "scatterpolargl"
           }
          ],
          "scatterternary": [
           {
            "marker": {
             "colorbar": {
              "outlinewidth": 0,
              "ticks": ""
             }
            },
            "type": "scatterternary"
           }
          ],
          "surface": [
           {
            "colorbar": {
             "outlinewidth": 0,
             "ticks": ""
            },
            "colorscale": [
             [
              0,
              "#0d0887"
             ],
             [
              0.1111111111111111,
              "#46039f"
             ],
             [
              0.2222222222222222,
              "#7201a8"
             ],
             [
              0.3333333333333333,
              "#9c179e"
             ],
             [
              0.4444444444444444,
              "#bd3786"
             ],
             [
              0.5555555555555556,
              "#d8576b"
             ],
             [
              0.6666666666666666,
              "#ed7953"
             ],
             [
              0.7777777777777778,
              "#fb9f3a"
             ],
             [
              0.8888888888888888,
              "#fdca26"
             ],
             [
              1,
              "#f0f921"
             ]
            ],
            "type": "surface"
           }
          ],
          "table": [
           {
            "cells": {
             "fill": {
              "color": "#EBF0F8"
             },
             "line": {
              "color": "white"
             }
            },
            "header": {
             "fill": {
              "color": "#C8D4E3"
             },
             "line": {
              "color": "white"
             }
            },
            "type": "table"
           }
          ]
         },
         "layout": {
          "annotationdefaults": {
           "arrowcolor": "#2a3f5f",
           "arrowhead": 0,
           "arrowwidth": 1
          },
          "autotypenumbers": "strict",
          "coloraxis": {
           "colorbar": {
            "outlinewidth": 0,
            "ticks": ""
           }
          },
          "colorscale": {
           "diverging": [
            [
             0,
             "#8e0152"
            ],
            [
             0.1,
             "#c51b7d"
            ],
            [
             0.2,
             "#de77ae"
            ],
            [
             0.3,
             "#f1b6da"
            ],
            [
             0.4,
             "#fde0ef"
            ],
            [
             0.5,
             "#f7f7f7"
            ],
            [
             0.6,
             "#e6f5d0"
            ],
            [
             0.7,
             "#b8e186"
            ],
            [
             0.8,
             "#7fbc41"
            ],
            [
             0.9,
             "#4d9221"
            ],
            [
             1,
             "#276419"
            ]
           ],
           "sequential": [
            [
             0,
             "#0d0887"
            ],
            [
             0.1111111111111111,
             "#46039f"
            ],
            [
             0.2222222222222222,
             "#7201a8"
            ],
            [
             0.3333333333333333,
             "#9c179e"
            ],
            [
             0.4444444444444444,
             "#bd3786"
            ],
            [
             0.5555555555555556,
             "#d8576b"
            ],
            [
             0.6666666666666666,
             "#ed7953"
            ],
            [
             0.7777777777777778,
             "#fb9f3a"
            ],
            [
             0.8888888888888888,
             "#fdca26"
            ],
            [
             1,
             "#f0f921"
            ]
           ],
           "sequentialminus": [
            [
             0,
             "#0d0887"
            ],
            [
             0.1111111111111111,
             "#46039f"
            ],
            [
             0.2222222222222222,
             "#7201a8"
            ],
            [
             0.3333333333333333,
             "#9c179e"
            ],
            [
             0.4444444444444444,
             "#bd3786"
            ],
            [
             0.5555555555555556,
             "#d8576b"
            ],
            [
             0.6666666666666666,
             "#ed7953"
            ],
            [
             0.7777777777777778,
             "#fb9f3a"
            ],
            [
             0.8888888888888888,
             "#fdca26"
            ],
            [
             1,
             "#f0f921"
            ]
           ]
          },
          "colorway": [
           "#636efa",
           "#EF553B",
           "#00cc96",
           "#ab63fa",
           "#FFA15A",
           "#19d3f3",
           "#FF6692",
           "#B6E880",
           "#FF97FF",
           "#FECB52"
          ],
          "font": {
           "color": "#2a3f5f"
          },
          "geo": {
           "bgcolor": "white",
           "lakecolor": "white",
           "landcolor": "#E5ECF6",
           "showlakes": true,
           "showland": true,
           "subunitcolor": "white"
          },
          "hoverlabel": {
           "align": "left"
          },
          "hovermode": "closest",
          "mapbox": {
           "style": "light"
          },
          "paper_bgcolor": "white",
          "plot_bgcolor": "#E5ECF6",
          "polar": {
           "angularaxis": {
            "gridcolor": "white",
            "linecolor": "white",
            "ticks": ""
           },
           "bgcolor": "#E5ECF6",
           "radialaxis": {
            "gridcolor": "white",
            "linecolor": "white",
            "ticks": ""
           }
          },
          "scene": {
           "xaxis": {
            "backgroundcolor": "#E5ECF6",
            "gridcolor": "white",
            "gridwidth": 2,
            "linecolor": "white",
            "showbackground": true,
            "ticks": "",
            "zerolinecolor": "white"
           },
           "yaxis": {
            "backgroundcolor": "#E5ECF6",
            "gridcolor": "white",
            "gridwidth": 2,
            "linecolor": "white",
            "showbackground": true,
            "ticks": "",
            "zerolinecolor": "white"
           },
           "zaxis": {
            "backgroundcolor": "#E5ECF6",
            "gridcolor": "white",
            "gridwidth": 2,
            "linecolor": "white",
            "showbackground": true,
            "ticks": "",
            "zerolinecolor": "white"
           }
          },
          "shapedefaults": {
           "line": {
            "color": "#2a3f5f"
           }
          },
          "ternary": {
           "aaxis": {
            "gridcolor": "white",
            "linecolor": "white",
            "ticks": ""
           },
           "baxis": {
            "gridcolor": "white",
            "linecolor": "white",
            "ticks": ""
           },
           "bgcolor": "#E5ECF6",
           "caxis": {
            "gridcolor": "white",
            "linecolor": "white",
            "ticks": ""
           }
          },
          "title": {
           "x": 0.05
          },
          "xaxis": {
           "automargin": true,
           "gridcolor": "white",
           "linecolor": "white",
           "ticks": "",
           "title": {
            "standoff": 15
           },
           "zerolinecolor": "white",
           "zerolinewidth": 2
          },
          "yaxis": {
           "automargin": true,
           "gridcolor": "white",
           "linecolor": "white",
           "ticks": "",
           "title": {
            "standoff": 15
           },
           "zerolinecolor": "white",
           "zerolinewidth": 2
          }
         }
        },
        "xaxis": {
         "anchor": "y",
         "domain": [
          0,
          1
         ],
         "title": {
          "text": "y_pred"
         }
        },
        "yaxis": {
         "anchor": "x",
         "domain": [
          0,
          1
         ],
         "title": {
          "text": "y_true"
         }
        }
       }
      }
     },
     "metadata": {},
     "output_type": "display_data"
    }
   ],
   "source": [
    "model.fit(X_train, y_train)\n",
    "y_pred = model.predict(X_test)\n",
    "\n",
    "px.scatter(\n",
    "    pd.DataFrame(dict(\n",
    "        y_true=y_test,\n",
    "        y_pred=y_pred\n",
    "    )),\n",
    "    y=\"y_true\",\n",
    "    x=\"y_pred\"\n",
    ")"
   ]
  },
  {
   "cell_type": "code",
   "execution_count": 32,
   "metadata": {},
   "outputs": [
    {
     "name": "stderr",
     "output_type": "stream",
     "text": [
      "[I 2024-01-06 12:26:14,609] A new study created in memory with name: XGBoost Regression\n"
     ]
    },
    {
     "name": "stdout",
     "output_type": "stream",
     "text": [
      "[12:26:14] WARNING: /Users/runner/work/xgboost/xgboost/python-package/build/temp.macosx-11.0-arm64-cpython-38/xgboost/src/learner.cc:627: \n",
      "Parameters: { \"num_leaves\", \"scale_pos_weight\" } might not be used.\n",
      "\n",
      "  This could be a false alarm, with some parameters getting used by language bindings but\n",
      "  then being mistakenly passed down to XGBoost core, or some parameter actually being used\n",
      "  but getting flagged wrongly here. Please open an issue if you find any such cases.\n",
      "\n",
      "\n",
      "[12:26:15] WARNING: /Users/runner/work/xgboost/xgboost/python-package/build/temp.macosx-11.0-arm64-cpython-38/xgboost/src/learner.cc:627: \n",
      "Parameters: { \"num_leaves\", \"scale_pos_weight\" } might not be used.\n",
      "\n",
      "  This could be a false alarm, with some parameters getting used by language bindings but\n",
      "  then being mistakenly passed down to XGBoost core, or some parameter actually being used\n",
      "  but getting flagged wrongly here. Please open an issue if you find any such cases.\n",
      "\n",
      "\n",
      "[12:26:15] WARNING: /Users/runner/work/xgboost/xgboost/python-package/build/temp.macosx-11.0-arm64-cpython-38/xgboost/src/learner.cc:627: \n",
      "Parameters: { \"num_leaves\", \"scale_pos_weight\" } might not be used.\n",
      "\n",
      "  This could be a false alarm, with some parameters getting used by language bindings but\n",
      "  then being mistakenly passed down to XGBoost core, or some parameter actually being used\n",
      "  but getting flagged wrongly here. Please open an issue if you find any such cases.\n",
      "\n",
      "\n"
     ]
    },
    {
     "name": "stderr",
     "output_type": "stream",
     "text": [
      "[I 2024-01-06 12:26:16,031] Trial 0 finished with value: 46552.383831891326 and parameters: {'n_estimators': 1000, 'learning_rate': 0.6422135996948172, 'min_child_weigth': 5, 'max_depth': 8, 'subsample': 0.10980117348722085, 'colsample_bytree': 0.6197809084531036, 'colsample_bylevel': 0.8373464210864315, 'num_leaves': 12456, 'lambda_l2': 73, 'lambda_l1': 25, 'min_gain_to_split': 0.1791944920063653, 'scale_pos_weight': 277.69924059583224}. Best is trial 0 with value: 46552.383831891326.\n"
     ]
    },
    {
     "name": "stdout",
     "output_type": "stream",
     "text": [
      "[12:26:16] WARNING: /Users/runner/work/xgboost/xgboost/python-package/build/temp.macosx-11.0-arm64-cpython-38/xgboost/src/learner.cc:627: \n",
      "Parameters: { \"num_leaves\", \"scale_pos_weight\" } might not be used.\n",
      "\n",
      "  This could be a false alarm, with some parameters getting used by language bindings but\n",
      "  then being mistakenly passed down to XGBoost core, or some parameter actually being used\n",
      "  but getting flagged wrongly here. Please open an issue if you find any such cases.\n",
      "\n",
      "\n",
      "[12:26:16] WARNING: /Users/runner/work/xgboost/xgboost/python-package/build/temp.macosx-11.0-arm64-cpython-38/xgboost/src/learner.cc:627: \n",
      "Parameters: { \"num_leaves\", \"scale_pos_weight\" } might not be used.\n",
      "\n",
      "  This could be a false alarm, with some parameters getting used by language bindings but\n",
      "  then being mistakenly passed down to XGBoost core, or some parameter actually being used\n",
      "  but getting flagged wrongly here. Please open an issue if you find any such cases.\n",
      "\n",
      "\n",
      "[12:26:17] WARNING: /Users/runner/work/xgboost/xgboost/python-package/build/temp.macosx-11.0-arm64-cpython-38/xgboost/src/learner.cc:627: \n",
      "Parameters: { \"num_leaves\", \"scale_pos_weight\" } might not be used.\n",
      "\n",
      "  This could be a false alarm, with some parameters getting used by language bindings but\n",
      "  then being mistakenly passed down to XGBoost core, or some parameter actually being used\n",
      "  but getting flagged wrongly here. Please open an issue if you find any such cases.\n",
      "\n",
      "\n"
     ]
    },
    {
     "name": "stderr",
     "output_type": "stream",
     "text": [
      "[I 2024-01-06 12:26:17,683] Trial 1 finished with value: 3336.4196327371255 and parameters: {'n_estimators': 1000, 'learning_rate': 0.5293477219522555, 'min_child_weigth': 1, 'max_depth': 25, 'subsample': 0.4288718937870074, 'colsample_bytree': 0.5579008526079479, 'colsample_bylevel': 0.7822425160858024, 'num_leaves': 50916, 'lambda_l2': 48, 'lambda_l1': 71, 'min_gain_to_split': 0.08505692226146298, 'scale_pos_weight': 266.5574508464907}. Best is trial 1 with value: 3336.4196327371255.\n"
     ]
    },
    {
     "name": "stdout",
     "output_type": "stream",
     "text": [
      "[12:26:17] WARNING: /Users/runner/work/xgboost/xgboost/python-package/build/temp.macosx-11.0-arm64-cpython-38/xgboost/src/learner.cc:627: \n",
      "Parameters: { \"num_leaves\", \"scale_pos_weight\" } might not be used.\n",
      "\n",
      "  This could be a false alarm, with some parameters getting used by language bindings but\n",
      "  then being mistakenly passed down to XGBoost core, or some parameter actually being used\n",
      "  but getting flagged wrongly here. Please open an issue if you find any such cases.\n",
      "\n",
      "\n",
      "[12:26:18] WARNING: /Users/runner/work/xgboost/xgboost/python-package/build/temp.macosx-11.0-arm64-cpython-38/xgboost/src/learner.cc:627: \n",
      "Parameters: { \"num_leaves\", \"scale_pos_weight\" } might not be used.\n",
      "\n",
      "  This could be a false alarm, with some parameters getting used by language bindings but\n",
      "  then being mistakenly passed down to XGBoost core, or some parameter actually being used\n",
      "  but getting flagged wrongly here. Please open an issue if you find any such cases.\n",
      "\n",
      "\n",
      "[12:26:19] WARNING: /Users/runner/work/xgboost/xgboost/python-package/build/temp.macosx-11.0-arm64-cpython-38/xgboost/src/learner.cc:627: \n",
      "Parameters: { \"num_leaves\", \"scale_pos_weight\" } might not be used.\n",
      "\n",
      "  This could be a false alarm, with some parameters getting used by language bindings but\n",
      "  then being mistakenly passed down to XGBoost core, or some parameter actually being used\n",
      "  but getting flagged wrongly here. Please open an issue if you find any such cases.\n",
      "\n",
      "\n"
     ]
    },
    {
     "name": "stderr",
     "output_type": "stream",
     "text": [
      "[I 2024-01-06 12:26:20,333] Trial 2 finished with value: 3706.039267391994 and parameters: {'n_estimators': 1000, 'learning_rate': 0.8515750244964685, 'min_child_weigth': 5, 'max_depth': 50, 'subsample': 0.5519483184224635, 'colsample_bytree': 0.6589105151470694, 'colsample_bylevel': 0.48862472737007534, 'num_leaves': 21596, 'lambda_l2': 77, 'lambda_l1': 4, 'min_gain_to_split': 0.12590773485201512, 'scale_pos_weight': 373.9937450307916}. Best is trial 1 with value: 3336.4196327371255.\n"
     ]
    },
    {
     "name": "stdout",
     "output_type": "stream",
     "text": [
      "[12:26:20] WARNING: /Users/runner/work/xgboost/xgboost/python-package/build/temp.macosx-11.0-arm64-cpython-38/xgboost/src/learner.cc:627: \n",
      "Parameters: { \"num_leaves\", \"scale_pos_weight\" } might not be used.\n",
      "\n",
      "  This could be a false alarm, with some parameters getting used by language bindings but\n",
      "  then being mistakenly passed down to XGBoost core, or some parameter actually being used\n",
      "  but getting flagged wrongly here. Please open an issue if you find any such cases.\n",
      "\n",
      "\n",
      "[12:26:20] WARNING: /Users/runner/work/xgboost/xgboost/python-package/build/temp.macosx-11.0-arm64-cpython-38/xgboost/src/learner.cc:627: \n",
      "Parameters: { \"num_leaves\", \"scale_pos_weight\" } might not be used.\n",
      "\n",
      "  This could be a false alarm, with some parameters getting used by language bindings but\n",
      "  then being mistakenly passed down to XGBoost core, or some parameter actually being used\n",
      "  but getting flagged wrongly here. Please open an issue if you find any such cases.\n",
      "\n",
      "\n",
      "[12:26:21] WARNING: /Users/runner/work/xgboost/xgboost/python-package/build/temp.macosx-11.0-arm64-cpython-38/xgboost/src/learner.cc:627: \n",
      "Parameters: { \"num_leaves\", \"scale_pos_weight\" } might not be used.\n",
      "\n",
      "  This could be a false alarm, with some parameters getting used by language bindings but\n",
      "  then being mistakenly passed down to XGBoost core, or some parameter actually being used\n",
      "  but getting flagged wrongly here. Please open an issue if you find any such cases.\n",
      "\n",
      "\n"
     ]
    },
    {
     "name": "stderr",
     "output_type": "stream",
     "text": [
      "[I 2024-01-06 12:26:22,093] Trial 3 finished with value: 4131.76614745732 and parameters: {'n_estimators': 1000, 'learning_rate': 0.6311818397269026, 'min_child_weigth': 4, 'max_depth': 16, 'subsample': 0.3099016267007385, 'colsample_bytree': 0.985449987118124, 'colsample_bylevel': 0.24272363773917974, 'num_leaves': 60116, 'lambda_l2': 78, 'lambda_l1': 39, 'min_gain_to_split': 0.23344570349106994, 'scale_pos_weight': 76.56224440717635}. Best is trial 1 with value: 3336.4196327371255.\n"
     ]
    },
    {
     "name": "stdout",
     "output_type": "stream",
     "text": [
      "[12:26:22] WARNING: /Users/runner/work/xgboost/xgboost/python-package/build/temp.macosx-11.0-arm64-cpython-38/xgboost/src/learner.cc:627: \n",
      "Parameters: { \"num_leaves\", \"scale_pos_weight\" } might not be used.\n",
      "\n",
      "  This could be a false alarm, with some parameters getting used by language bindings but\n",
      "  then being mistakenly passed down to XGBoost core, or some parameter actually being used\n",
      "  but getting flagged wrongly here. Please open an issue if you find any such cases.\n",
      "\n",
      "\n",
      "[12:26:22] WARNING: /Users/runner/work/xgboost/xgboost/python-package/build/temp.macosx-11.0-arm64-cpython-38/xgboost/src/learner.cc:627: \n",
      "Parameters: { \"num_leaves\", \"scale_pos_weight\" } might not be used.\n",
      "\n",
      "  This could be a false alarm, with some parameters getting used by language bindings but\n",
      "  then being mistakenly passed down to XGBoost core, or some parameter actually being used\n",
      "  but getting flagged wrongly here. Please open an issue if you find any such cases.\n",
      "\n",
      "\n",
      "[12:26:23] WARNING: /Users/runner/work/xgboost/xgboost/python-package/build/temp.macosx-11.0-arm64-cpython-38/xgboost/src/learner.cc:627: \n",
      "Parameters: { \"num_leaves\", \"scale_pos_weight\" } might not be used.\n",
      "\n",
      "  This could be a false alarm, with some parameters getting used by language bindings but\n",
      "  then being mistakenly passed down to XGBoost core, or some parameter actually being used\n",
      "  but getting flagged wrongly here. Please open an issue if you find any such cases.\n",
      "\n",
      "\n"
     ]
    },
    {
     "name": "stderr",
     "output_type": "stream",
     "text": [
      "[I 2024-01-06 12:26:24,344] Trial 4 finished with value: 3489.6549930380925 and parameters: {'n_estimators': 1000, 'learning_rate': 0.22095328661766117, 'min_child_weigth': 2, 'max_depth': 27, 'subsample': 0.8812957872338281, 'colsample_bytree': 0.6274997748409396, 'colsample_bylevel': 0.12460312953554101, 'num_leaves': 56196, 'lambda_l2': 79, 'lambda_l1': 26, 'min_gain_to_split': 0.12258427871206547, 'scale_pos_weight': 169.5767398421529}. Best is trial 1 with value: 3336.4196327371255.\n"
     ]
    },
    {
     "name": "stdout",
     "output_type": "stream",
     "text": [
      "[12:26:24] WARNING: /Users/runner/work/xgboost/xgboost/python-package/build/temp.macosx-11.0-arm64-cpython-38/xgboost/src/learner.cc:627: \n",
      "Parameters: { \"num_leaves\", \"scale_pos_weight\" } might not be used.\n",
      "\n",
      "  This could be a false alarm, with some parameters getting used by language bindings but\n",
      "  then being mistakenly passed down to XGBoost core, or some parameter actually being used\n",
      "  but getting flagged wrongly here. Please open an issue if you find any such cases.\n",
      "\n",
      "\n",
      "[12:26:25] WARNING: /Users/runner/work/xgboost/xgboost/python-package/build/temp.macosx-11.0-arm64-cpython-38/xgboost/src/learner.cc:627: \n",
      "Parameters: { \"num_leaves\", \"scale_pos_weight\" } might not be used.\n",
      "\n",
      "  This could be a false alarm, with some parameters getting used by language bindings but\n",
      "  then being mistakenly passed down to XGBoost core, or some parameter actually being used\n",
      "  but getting flagged wrongly here. Please open an issue if you find any such cases.\n",
      "\n",
      "\n",
      "[12:26:26] WARNING: /Users/runner/work/xgboost/xgboost/python-package/build/temp.macosx-11.0-arm64-cpython-38/xgboost/src/learner.cc:627: \n",
      "Parameters: { \"num_leaves\", \"scale_pos_weight\" } might not be used.\n",
      "\n",
      "  This could be a false alarm, with some parameters getting used by language bindings but\n",
      "  then being mistakenly passed down to XGBoost core, or some parameter actually being used\n",
      "  but getting flagged wrongly here. Please open an issue if you find any such cases.\n",
      "\n",
      "\n"
     ]
    },
    {
     "name": "stderr",
     "output_type": "stream",
     "text": [
      "[I 2024-01-06 12:26:27,195] Trial 5 finished with value: 3415.544207810291 and parameters: {'n_estimators': 1000, 'learning_rate': 0.5896270505934031, 'min_child_weigth': 1, 'max_depth': 37, 'subsample': 0.8964636464526088, 'colsample_bytree': 0.4281693547445534, 'colsample_bylevel': 0.6548820790956266, 'num_leaves': 38196, 'lambda_l2': 11, 'lambda_l1': 13, 'min_gain_to_split': 0.28334342981657773, 'scale_pos_weight': 24.10973843403606}. Best is trial 1 with value: 3336.4196327371255.\n"
     ]
    },
    {
     "name": "stdout",
     "output_type": "stream",
     "text": [
      "[12:26:27] WARNING: /Users/runner/work/xgboost/xgboost/python-package/build/temp.macosx-11.0-arm64-cpython-38/xgboost/src/learner.cc:627: \n",
      "Parameters: { \"num_leaves\", \"scale_pos_weight\" } might not be used.\n",
      "\n",
      "  This could be a false alarm, with some parameters getting used by language bindings but\n",
      "  then being mistakenly passed down to XGBoost core, or some parameter actually being used\n",
      "  but getting flagged wrongly here. Please open an issue if you find any such cases.\n",
      "\n",
      "\n",
      "[12:26:27] WARNING: /Users/runner/work/xgboost/xgboost/python-package/build/temp.macosx-11.0-arm64-cpython-38/xgboost/src/learner.cc:627: \n",
      "Parameters: { \"num_leaves\", \"scale_pos_weight\" } might not be used.\n",
      "\n",
      "  This could be a false alarm, with some parameters getting used by language bindings but\n",
      "  then being mistakenly passed down to XGBoost core, or some parameter actually being used\n",
      "  but getting flagged wrongly here. Please open an issue if you find any such cases.\n",
      "\n",
      "\n",
      "[12:26:28] WARNING: /Users/runner/work/xgboost/xgboost/python-package/build/temp.macosx-11.0-arm64-cpython-38/xgboost/src/learner.cc:627: \n",
      "Parameters: { \"num_leaves\", \"scale_pos_weight\" } might not be used.\n",
      "\n",
      "  This could be a false alarm, with some parameters getting used by language bindings but\n",
      "  then being mistakenly passed down to XGBoost core, or some parameter actually being used\n",
      "  but getting flagged wrongly here. Please open an issue if you find any such cases.\n",
      "\n",
      "\n"
     ]
    },
    {
     "name": "stderr",
     "output_type": "stream",
     "text": [
      "[I 2024-01-06 12:26:28,992] Trial 6 finished with value: 4925.435748534544 and parameters: {'n_estimators': 1000, 'learning_rate': 0.5111103460084154, 'min_child_weigth': 2, 'max_depth': 21, 'subsample': 0.285026963981181, 'colsample_bytree': 0.6577638782299484, 'colsample_bylevel': 0.5650986505758187, 'num_leaves': 9516, 'lambda_l2': 62, 'lambda_l1': 30, 'min_gain_to_split': 0.3097030672316404, 'scale_pos_weight': 187.53675113433786}. Best is trial 1 with value: 3336.4196327371255.\n"
     ]
    },
    {
     "name": "stdout",
     "output_type": "stream",
     "text": [
      "[12:26:28] WARNING: /Users/runner/work/xgboost/xgboost/python-package/build/temp.macosx-11.0-arm64-cpython-38/xgboost/src/learner.cc:627: \n",
      "Parameters: { \"num_leaves\", \"scale_pos_weight\" } might not be used.\n",
      "\n",
      "  This could be a false alarm, with some parameters getting used by language bindings but\n",
      "  then being mistakenly passed down to XGBoost core, or some parameter actually being used\n",
      "  but getting flagged wrongly here. Please open an issue if you find any such cases.\n",
      "\n",
      "\n",
      "[12:26:29] WARNING: /Users/runner/work/xgboost/xgboost/python-package/build/temp.macosx-11.0-arm64-cpython-38/xgboost/src/learner.cc:627: \n",
      "Parameters: { \"num_leaves\", \"scale_pos_weight\" } might not be used.\n",
      "\n",
      "  This could be a false alarm, with some parameters getting used by language bindings but\n",
      "  then being mistakenly passed down to XGBoost core, or some parameter actually being used\n",
      "  but getting flagged wrongly here. Please open an issue if you find any such cases.\n",
      "\n",
      "\n",
      "[12:26:29] WARNING: /Users/runner/work/xgboost/xgboost/python-package/build/temp.macosx-11.0-arm64-cpython-38/xgboost/src/learner.cc:627: \n",
      "Parameters: { \"num_leaves\", \"scale_pos_weight\" } might not be used.\n",
      "\n",
      "  This could be a false alarm, with some parameters getting used by language bindings but\n",
      "  then being mistakenly passed down to XGBoost core, or some parameter actually being used\n",
      "  but getting flagged wrongly here. Please open an issue if you find any such cases.\n",
      "\n",
      "\n"
     ]
    },
    {
     "name": "stderr",
     "output_type": "stream",
     "text": [
      "[I 2024-01-06 12:26:30,363] Trial 7 finished with value: 6564.919052651951 and parameters: {'n_estimators': 1000, 'learning_rate': 0.7554615698068491, 'min_child_weigth': 6, 'max_depth': 17, 'subsample': 0.27127266090564245, 'colsample_bytree': 0.14584812815047843, 'colsample_bylevel': 0.4651330826002389, 'num_leaves': 45876, 'lambda_l2': 29, 'lambda_l1': 34, 'min_gain_to_split': 0.22010408482919497, 'scale_pos_weight': 400.98184016141}. Best is trial 1 with value: 3336.4196327371255.\n"
     ]
    },
    {
     "name": "stdout",
     "output_type": "stream",
     "text": [
      "[12:26:30] WARNING: /Users/runner/work/xgboost/xgboost/python-package/build/temp.macosx-11.0-arm64-cpython-38/xgboost/src/learner.cc:627: \n",
      "Parameters: { \"num_leaves\", \"scale_pos_weight\" } might not be used.\n",
      "\n",
      "  This could be a false alarm, with some parameters getting used by language bindings but\n",
      "  then being mistakenly passed down to XGBoost core, or some parameter actually being used\n",
      "  but getting flagged wrongly here. Please open an issue if you find any such cases.\n",
      "\n",
      "\n",
      "[12:26:30] WARNING: /Users/runner/work/xgboost/xgboost/python-package/build/temp.macosx-11.0-arm64-cpython-38/xgboost/src/learner.cc:627: \n",
      "Parameters: { \"num_leaves\", \"scale_pos_weight\" } might not be used.\n",
      "\n",
      "  This could be a false alarm, with some parameters getting used by language bindings but\n",
      "  then being mistakenly passed down to XGBoost core, or some parameter actually being used\n",
      "  but getting flagged wrongly here. Please open an issue if you find any such cases.\n",
      "\n",
      "\n",
      "[12:26:31] WARNING: /Users/runner/work/xgboost/xgboost/python-package/build/temp.macosx-11.0-arm64-cpython-38/xgboost/src/learner.cc:627: \n",
      "Parameters: { \"num_leaves\", \"scale_pos_weight\" } might not be used.\n",
      "\n",
      "  This could be a false alarm, with some parameters getting used by language bindings but\n",
      "  then being mistakenly passed down to XGBoost core, or some parameter actually being used\n",
      "  but getting flagged wrongly here. Please open an issue if you find any such cases.\n",
      "\n",
      "\n"
     ]
    },
    {
     "name": "stderr",
     "output_type": "stream",
     "text": [
      "[I 2024-01-06 12:26:31,555] Trial 8 finished with value: 5246.812061523569 and parameters: {'n_estimators': 1000, 'learning_rate': 0.7187513092452683, 'min_child_weigth': 7, 'max_depth': 23, 'subsample': 0.22866113794255485, 'colsample_bytree': 0.3285106425694361, 'colsample_bylevel': 0.8608379250053935, 'num_leaves': 42356, 'lambda_l2': 92, 'lambda_l1': 97, 'min_gain_to_split': 0.3729813152697687, 'scale_pos_weight': 259.47764877900863}. Best is trial 1 with value: 3336.4196327371255.\n"
     ]
    },
    {
     "name": "stdout",
     "output_type": "stream",
     "text": [
      "[12:26:31] WARNING: /Users/runner/work/xgboost/xgboost/python-package/build/temp.macosx-11.0-arm64-cpython-38/xgboost/src/learner.cc:627: \n",
      "Parameters: { \"num_leaves\", \"scale_pos_weight\" } might not be used.\n",
      "\n",
      "  This could be a false alarm, with some parameters getting used by language bindings but\n",
      "  then being mistakenly passed down to XGBoost core, or some parameter actually being used\n",
      "  but getting flagged wrongly here. Please open an issue if you find any such cases.\n",
      "\n",
      "\n",
      "[12:26:32] WARNING: /Users/runner/work/xgboost/xgboost/python-package/build/temp.macosx-11.0-arm64-cpython-38/xgboost/src/learner.cc:627: \n",
      "Parameters: { \"num_leaves\", \"scale_pos_weight\" } might not be used.\n",
      "\n",
      "  This could be a false alarm, with some parameters getting used by language bindings but\n",
      "  then being mistakenly passed down to XGBoost core, or some parameter actually being used\n",
      "  but getting flagged wrongly here. Please open an issue if you find any such cases.\n",
      "\n",
      "\n",
      "[12:26:32] WARNING: /Users/runner/work/xgboost/xgboost/python-package/build/temp.macosx-11.0-arm64-cpython-38/xgboost/src/learner.cc:627: \n",
      "Parameters: { \"num_leaves\", \"scale_pos_weight\" } might not be used.\n",
      "\n",
      "  This could be a false alarm, with some parameters getting used by language bindings but\n",
      "  then being mistakenly passed down to XGBoost core, or some parameter actually being used\n",
      "  but getting flagged wrongly here. Please open an issue if you find any such cases.\n",
      "\n",
      "\n"
     ]
    },
    {
     "name": "stderr",
     "output_type": "stream",
     "text": [
      "[I 2024-01-06 12:26:33,065] Trial 9 finished with value: 3798.0212612833297 and parameters: {'n_estimators': 1000, 'learning_rate': 0.40041671692918757, 'min_child_weigth': 4, 'max_depth': 10, 'subsample': 0.3541143926788687, 'colsample_bytree': 0.6343234378978365, 'colsample_bylevel': 0.9640738579160845, 'num_leaves': 53116, 'lambda_l2': 87, 'lambda_l1': 68, 'min_gain_to_split': 0.09373428239230802, 'scale_pos_weight': 373.63534666461584}. Best is trial 1 with value: 3336.4196327371255.\n"
     ]
    },
    {
     "name": "stdout",
     "output_type": "stream",
     "text": [
      "[12:26:33] WARNING: /Users/runner/work/xgboost/xgboost/python-package/build/temp.macosx-11.0-arm64-cpython-38/xgboost/src/learner.cc:627: \n",
      "Parameters: { \"num_leaves\", \"scale_pos_weight\" } might not be used.\n",
      "\n",
      "  This could be a false alarm, with some parameters getting used by language bindings but\n",
      "  then being mistakenly passed down to XGBoost core, or some parameter actually being used\n",
      "  but getting flagged wrongly here. Please open an issue if you find any such cases.\n",
      "\n",
      "\n",
      "[12:26:33] WARNING: /Users/runner/work/xgboost/xgboost/python-package/build/temp.macosx-11.0-arm64-cpython-38/xgboost/src/learner.cc:627: \n",
      "Parameters: { \"num_leaves\", \"scale_pos_weight\" } might not be used.\n",
      "\n",
      "  This could be a false alarm, with some parameters getting used by language bindings but\n",
      "  then being mistakenly passed down to XGBoost core, or some parameter actually being used\n",
      "  but getting flagged wrongly here. Please open an issue if you find any such cases.\n",
      "\n",
      "\n",
      "[12:26:34] WARNING: /Users/runner/work/xgboost/xgboost/python-package/build/temp.macosx-11.0-arm64-cpython-38/xgboost/src/learner.cc:627: \n",
      "Parameters: { \"num_leaves\", \"scale_pos_weight\" } might not be used.\n",
      "\n",
      "  This could be a false alarm, with some parameters getting used by language bindings but\n",
      "  then being mistakenly passed down to XGBoost core, or some parameter actually being used\n",
      "  but getting flagged wrongly here. Please open an issue if you find any such cases.\n",
      "\n",
      "\n"
     ]
    },
    {
     "name": "stderr",
     "output_type": "stream",
     "text": [
      "[I 2024-01-06 12:26:35,245] Trial 10 finished with value: 3349.748554655484 and parameters: {'n_estimators': 1000, 'learning_rate': 0.01798811540817591, 'min_child_weigth': 10, 'max_depth': 33, 'subsample': 0.599057646259754, 'colsample_bytree': 0.8823116756023242, 'colsample_bylevel': 0.6949529854647517, 'num_leaves': 27456, 'lambda_l2': 43, 'lambda_l1': 66, 'min_gain_to_split': 0.004846549256873056, 'scale_pos_weight': 479.8357859665293}. Best is trial 1 with value: 3336.4196327371255.\n"
     ]
    },
    {
     "name": "stdout",
     "output_type": "stream",
     "text": [
      "[12:26:35] WARNING: /Users/runner/work/xgboost/xgboost/python-package/build/temp.macosx-11.0-arm64-cpython-38/xgboost/src/learner.cc:627: \n",
      "Parameters: { \"num_leaves\", \"scale_pos_weight\" } might not be used.\n",
      "\n",
      "  This could be a false alarm, with some parameters getting used by language bindings but\n",
      "  then being mistakenly passed down to XGBoost core, or some parameter actually being used\n",
      "  but getting flagged wrongly here. Please open an issue if you find any such cases.\n",
      "\n",
      "\n",
      "[12:26:36] WARNING: /Users/runner/work/xgboost/xgboost/python-package/build/temp.macosx-11.0-arm64-cpython-38/xgboost/src/learner.cc:627: \n",
      "Parameters: { \"num_leaves\", \"scale_pos_weight\" } might not be used.\n",
      "\n",
      "  This could be a false alarm, with some parameters getting used by language bindings but\n",
      "  then being mistakenly passed down to XGBoost core, or some parameter actually being used\n",
      "  but getting flagged wrongly here. Please open an issue if you find any such cases.\n",
      "\n",
      "\n",
      "[12:26:36] WARNING: /Users/runner/work/xgboost/xgboost/python-package/build/temp.macosx-11.0-arm64-cpython-38/xgboost/src/learner.cc:627: \n",
      "Parameters: { \"num_leaves\", \"scale_pos_weight\" } might not be used.\n",
      "\n",
      "  This could be a false alarm, with some parameters getting used by language bindings but\n",
      "  then being mistakenly passed down to XGBoost core, or some parameter actually being used\n",
      "  but getting flagged wrongly here. Please open an issue if you find any such cases.\n",
      "\n",
      "\n"
     ]
    },
    {
     "name": "stderr",
     "output_type": "stream",
     "text": [
      "[I 2024-01-06 12:26:37,593] Trial 11 finished with value: 3371.9223365017347 and parameters: {'n_estimators': 1000, 'learning_rate': 0.09438755950228483, 'min_child_weigth': 10, 'max_depth': 34, 'subsample': 0.5881784996049941, 'colsample_bytree': 0.9207374910473386, 'colsample_bylevel': 0.6915670597149478, 'num_leaves': 27296, 'lambda_l2': 42, 'lambda_l1': 67, 'min_gain_to_split': 0.0029065105332584315, 'scale_pos_weight': 487.6618284829009}. Best is trial 1 with value: 3336.4196327371255.\n"
     ]
    },
    {
     "name": "stdout",
     "output_type": "stream",
     "text": [
      "[12:26:37] WARNING: /Users/runner/work/xgboost/xgboost/python-package/build/temp.macosx-11.0-arm64-cpython-38/xgboost/src/learner.cc:627: \n",
      "Parameters: { \"num_leaves\", \"scale_pos_weight\" } might not be used.\n",
      "\n",
      "  This could be a false alarm, with some parameters getting used by language bindings but\n",
      "  then being mistakenly passed down to XGBoost core, or some parameter actually being used\n",
      "  but getting flagged wrongly here. Please open an issue if you find any such cases.\n",
      "\n",
      "\n",
      "[12:26:38] WARNING: /Users/runner/work/xgboost/xgboost/python-package/build/temp.macosx-11.0-arm64-cpython-38/xgboost/src/learner.cc:627: \n",
      "Parameters: { \"num_leaves\", \"scale_pos_weight\" } might not be used.\n",
      "\n",
      "  This could be a false alarm, with some parameters getting used by language bindings but\n",
      "  then being mistakenly passed down to XGBoost core, or some parameter actually being used\n",
      "  but getting flagged wrongly here. Please open an issue if you find any such cases.\n",
      "\n",
      "\n",
      "[12:26:38] WARNING: /Users/runner/work/xgboost/xgboost/python-package/build/temp.macosx-11.0-arm64-cpython-38/xgboost/src/learner.cc:627: \n",
      "Parameters: { \"num_leaves\", \"scale_pos_weight\" } might not be used.\n",
      "\n",
      "  This could be a false alarm, with some parameters getting used by language bindings but\n",
      "  then being mistakenly passed down to XGBoost core, or some parameter actually being used\n",
      "  but getting flagged wrongly here. Please open an issue if you find any such cases.\n",
      "\n",
      "\n"
     ]
    },
    {
     "name": "stderr",
     "output_type": "stream",
     "text": [
      "[I 2024-01-06 12:26:39,484] Trial 12 finished with value: 3306.2597261071205 and parameters: {'n_estimators': 1000, 'learning_rate': 0.3441551841953145, 'min_child_weigth': 10, 'max_depth': 34, 'subsample': 0.6928789128607066, 'colsample_bytree': 0.8070602665168912, 'colsample_bylevel': 0.7318408312522939, 'num_leaves': 27916, 'lambda_l2': 42, 'lambda_l1': 67, 'min_gain_to_split': 0.011317661529990388, 'scale_pos_weight': 492.27059708361753}. Best is trial 12 with value: 3306.2597261071205.\n"
     ]
    },
    {
     "name": "stdout",
     "output_type": "stream",
     "text": [
      "[12:26:39] WARNING: /Users/runner/work/xgboost/xgboost/python-package/build/temp.macosx-11.0-arm64-cpython-38/xgboost/src/learner.cc:627: \n",
      "Parameters: { \"num_leaves\", \"scale_pos_weight\" } might not be used.\n",
      "\n",
      "  This could be a false alarm, with some parameters getting used by language bindings but\n",
      "  then being mistakenly passed down to XGBoost core, or some parameter actually being used\n",
      "  but getting flagged wrongly here. Please open an issue if you find any such cases.\n",
      "\n",
      "\n",
      "[12:26:40] WARNING: /Users/runner/work/xgboost/xgboost/python-package/build/temp.macosx-11.0-arm64-cpython-38/xgboost/src/learner.cc:627: \n",
      "Parameters: { \"num_leaves\", \"scale_pos_weight\" } might not be used.\n",
      "\n",
      "  This could be a false alarm, with some parameters getting used by language bindings but\n",
      "  then being mistakenly passed down to XGBoost core, or some parameter actually being used\n",
      "  but getting flagged wrongly here. Please open an issue if you find any such cases.\n",
      "\n",
      "\n",
      "[12:26:40] WARNING: /Users/runner/work/xgboost/xgboost/python-package/build/temp.macosx-11.0-arm64-cpython-38/xgboost/src/learner.cc:627: \n",
      "Parameters: { \"num_leaves\", \"scale_pos_weight\" } might not be used.\n",
      "\n",
      "  This could be a false alarm, with some parameters getting used by language bindings but\n",
      "  then being mistakenly passed down to XGBoost core, or some parameter actually being used\n",
      "  but getting flagged wrongly here. Please open an issue if you find any such cases.\n",
      "\n",
      "\n"
     ]
    },
    {
     "name": "stderr",
     "output_type": "stream",
     "text": [
      "[I 2024-01-06 12:26:41,692] Trial 13 finished with value: 3453.1559153260855 and parameters: {'n_estimators': 1000, 'learning_rate': 0.34436756696058357, 'min_child_weigth': 8, 'max_depth': 43, 'subsample': 0.7504733269217613, 'colsample_bytree': 0.8126998637113255, 'colsample_bylevel': 0.817074584140756, 'num_leaves': 64996, 'lambda_l2': 25, 'lambda_l1': 89, 'min_gain_to_split': 0.46271848944924765, 'scale_pos_weight': 321.8000231838365}. Best is trial 12 with value: 3306.2597261071205.\n"
     ]
    },
    {
     "name": "stdout",
     "output_type": "stream",
     "text": [
      "[12:26:41] WARNING: /Users/runner/work/xgboost/xgboost/python-package/build/temp.macosx-11.0-arm64-cpython-38/xgboost/src/learner.cc:627: \n",
      "Parameters: { \"num_leaves\", \"scale_pos_weight\" } might not be used.\n",
      "\n",
      "  This could be a false alarm, with some parameters getting used by language bindings but\n",
      "  then being mistakenly passed down to XGBoost core, or some parameter actually being used\n",
      "  but getting flagged wrongly here. Please open an issue if you find any such cases.\n",
      "\n",
      "\n",
      "[12:26:42] WARNING: /Users/runner/work/xgboost/xgboost/python-package/build/temp.macosx-11.0-arm64-cpython-38/xgboost/src/learner.cc:627: \n",
      "Parameters: { \"num_leaves\", \"scale_pos_weight\" } might not be used.\n",
      "\n",
      "  This could be a false alarm, with some parameters getting used by language bindings but\n",
      "  then being mistakenly passed down to XGBoost core, or some parameter actually being used\n",
      "  but getting flagged wrongly here. Please open an issue if you find any such cases.\n",
      "\n",
      "\n",
      "[12:26:42] WARNING: /Users/runner/work/xgboost/xgboost/python-package/build/temp.macosx-11.0-arm64-cpython-38/xgboost/src/learner.cc:627: \n",
      "Parameters: { \"num_leaves\", \"scale_pos_weight\" } might not be used.\n",
      "\n",
      "  This could be a false alarm, with some parameters getting used by language bindings but\n",
      "  then being mistakenly passed down to XGBoost core, or some parameter actually being used\n",
      "  but getting flagged wrongly here. Please open an issue if you find any such cases.\n",
      "\n",
      "\n"
     ]
    },
    {
     "name": "stderr",
     "output_type": "stream",
     "text": [
      "[I 2024-01-06 12:26:43,693] Trial 14 finished with value: 3263.4619164807455 and parameters: {'n_estimators': 1000, 'learning_rate': 0.35626461989860875, 'min_child_weigth': 8, 'max_depth': 28, 'subsample': 0.7302211192720455, 'colsample_bytree': 0.45844711957143724, 'colsample_bylevel': 0.9686893695140585, 'num_leaves': 48016, 'lambda_l2': 55, 'lambda_l1': 54, 'min_gain_to_split': 0.05438690794475241, 'scale_pos_weight': 162.3977867762937}. Best is trial 14 with value: 3263.4619164807455.\n"
     ]
    },
    {
     "name": "stdout",
     "output_type": "stream",
     "text": [
      "[12:26:43] WARNING: /Users/runner/work/xgboost/xgboost/python-package/build/temp.macosx-11.0-arm64-cpython-38/xgboost/src/learner.cc:627: \n",
      "Parameters: { \"num_leaves\", \"scale_pos_weight\" } might not be used.\n",
      "\n",
      "  This could be a false alarm, with some parameters getting used by language bindings but\n",
      "  then being mistakenly passed down to XGBoost core, or some parameter actually being used\n",
      "  but getting flagged wrongly here. Please open an issue if you find any such cases.\n",
      "\n",
      "\n",
      "[12:26:44] WARNING: /Users/runner/work/xgboost/xgboost/python-package/build/temp.macosx-11.0-arm64-cpython-38/xgboost/src/learner.cc:627: \n",
      "Parameters: { \"num_leaves\", \"scale_pos_weight\" } might not be used.\n",
      "\n",
      "  This could be a false alarm, with some parameters getting used by language bindings but\n",
      "  then being mistakenly passed down to XGBoost core, or some parameter actually being used\n",
      "  but getting flagged wrongly here. Please open an issue if you find any such cases.\n",
      "\n",
      "\n",
      "[12:26:45] WARNING: /Users/runner/work/xgboost/xgboost/python-package/build/temp.macosx-11.0-arm64-cpython-38/xgboost/src/learner.cc:627: \n",
      "Parameters: { \"num_leaves\", \"scale_pos_weight\" } might not be used.\n",
      "\n",
      "  This could be a false alarm, with some parameters getting used by language bindings but\n",
      "  then being mistakenly passed down to XGBoost core, or some parameter actually being used\n",
      "  but getting flagged wrongly here. Please open an issue if you find any such cases.\n",
      "\n",
      "\n"
     ]
    },
    {
     "name": "stderr",
     "output_type": "stream",
     "text": [
      "[I 2024-01-06 12:26:45,907] Trial 15 finished with value: 3576.7766442980087 and parameters: {'n_estimators': 1000, 'learning_rate': 0.3180722037982771, 'min_child_weigth': 9, 'max_depth': 41, 'subsample': 0.7061106562605112, 'colsample_bytree': 0.4053468878288541, 'colsample_bylevel': 0.9996024571305206, 'num_leaves': 32156, 'lambda_l2': 62, 'lambda_l1': 51, 'min_gain_to_split': 0.04580418520739943, 'scale_pos_weight': 145.612407644648}. Best is trial 14 with value: 3263.4619164807455.\n"
     ]
    },
    {
     "name": "stdout",
     "output_type": "stream",
     "text": [
      "[12:26:45] WARNING: /Users/runner/work/xgboost/xgboost/python-package/build/temp.macosx-11.0-arm64-cpython-38/xgboost/src/learner.cc:627: \n",
      "Parameters: { \"num_leaves\", \"scale_pos_weight\" } might not be used.\n",
      "\n",
      "  This could be a false alarm, with some parameters getting used by language bindings but\n",
      "  then being mistakenly passed down to XGBoost core, or some parameter actually being used\n",
      "  but getting flagged wrongly here. Please open an issue if you find any such cases.\n",
      "\n",
      "\n",
      "[12:26:46] WARNING: /Users/runner/work/xgboost/xgboost/python-package/build/temp.macosx-11.0-arm64-cpython-38/xgboost/src/learner.cc:627: \n",
      "Parameters: { \"num_leaves\", \"scale_pos_weight\" } might not be used.\n",
      "\n",
      "  This could be a false alarm, with some parameters getting used by language bindings but\n",
      "  then being mistakenly passed down to XGBoost core, or some parameter actually being used\n",
      "  but getting flagged wrongly here. Please open an issue if you find any such cases.\n",
      "\n",
      "\n",
      "[12:26:47] WARNING: /Users/runner/work/xgboost/xgboost/python-package/build/temp.macosx-11.0-arm64-cpython-38/xgboost/src/learner.cc:627: \n",
      "Parameters: { \"num_leaves\", \"scale_pos_weight\" } might not be used.\n",
      "\n",
      "  This could be a false alarm, with some parameters getting used by language bindings but\n",
      "  then being mistakenly passed down to XGBoost core, or some parameter actually being used\n",
      "  but getting flagged wrongly here. Please open an issue if you find any such cases.\n",
      "\n",
      "\n"
     ]
    },
    {
     "name": "stderr",
     "output_type": "stream",
     "text": [
      "[I 2024-01-06 12:26:48,192] Trial 16 finished with value: 3401.771777536188 and parameters: {'n_estimators': 1000, 'learning_rate': 0.17740853421232403, 'min_child_weigth': 8, 'max_depth': 30, 'subsample': 0.9825582835121449, 'colsample_bytree': 0.7895541155469293, 'colsample_bylevel': 0.3384199629182898, 'num_leaves': 18216, 'lambda_l2': 0, 'lambda_l1': 51, 'min_gain_to_split': 0.14963700358491222, 'scale_pos_weight': 105.51508972336279}. Best is trial 14 with value: 3263.4619164807455.\n"
     ]
    },
    {
     "name": "stdout",
     "output_type": "stream",
     "text": [
      "[12:26:48] WARNING: /Users/runner/work/xgboost/xgboost/python-package/build/temp.macosx-11.0-arm64-cpython-38/xgboost/src/learner.cc:627: \n",
      "Parameters: { \"num_leaves\", \"scale_pos_weight\" } might not be used.\n",
      "\n",
      "  This could be a false alarm, with some parameters getting used by language bindings but\n",
      "  then being mistakenly passed down to XGBoost core, or some parameter actually being used\n",
      "  but getting flagged wrongly here. Please open an issue if you find any such cases.\n",
      "\n",
      "\n",
      "[12:26:48] WARNING: /Users/runner/work/xgboost/xgboost/python-package/build/temp.macosx-11.0-arm64-cpython-38/xgboost/src/learner.cc:627: \n",
      "Parameters: { \"num_leaves\", \"scale_pos_weight\" } might not be used.\n",
      "\n",
      "  This could be a false alarm, with some parameters getting used by language bindings but\n",
      "  then being mistakenly passed down to XGBoost core, or some parameter actually being used\n",
      "  but getting flagged wrongly here. Please open an issue if you find any such cases.\n",
      "\n",
      "\n",
      "[12:26:49] WARNING: /Users/runner/work/xgboost/xgboost/python-package/build/temp.macosx-11.0-arm64-cpython-38/xgboost/src/learner.cc:627: \n",
      "Parameters: { \"num_leaves\", \"scale_pos_weight\" } might not be used.\n",
      "\n",
      "  This could be a false alarm, with some parameters getting used by language bindings but\n",
      "  then being mistakenly passed down to XGBoost core, or some parameter actually being used\n",
      "  but getting flagged wrongly here. Please open an issue if you find any such cases.\n",
      "\n",
      "\n"
     ]
    },
    {
     "name": "stderr",
     "output_type": "stream",
     "text": [
      "[I 2024-01-06 12:26:49,691] Trial 17 finished with value: 3405.963493692464 and parameters: {'n_estimators': 1000, 'learning_rate': 0.9914903984051547, 'min_child_weigth': 9, 'max_depth': 47, 'subsample': 0.7349960557466562, 'colsample_bytree': 0.19831835625705302, 'colsample_bylevel': 0.9426660228158303, 'num_leaves': 4156, 'lambda_l2': 59, 'lambda_l1': 80, 'min_gain_to_split': 0.047670480527988585, 'scale_pos_weight': 212.45878085519283}. Best is trial 14 with value: 3263.4619164807455.\n"
     ]
    },
    {
     "name": "stdout",
     "output_type": "stream",
     "text": [
      "[12:26:49] WARNING: /Users/runner/work/xgboost/xgboost/python-package/build/temp.macosx-11.0-arm64-cpython-38/xgboost/src/learner.cc:627: \n",
      "Parameters: { \"num_leaves\", \"scale_pos_weight\" } might not be used.\n",
      "\n",
      "  This could be a false alarm, with some parameters getting used by language bindings but\n",
      "  then being mistakenly passed down to XGBoost core, or some parameter actually being used\n",
      "  but getting flagged wrongly here. Please open an issue if you find any such cases.\n",
      "\n",
      "\n",
      "[12:26:50] WARNING: /Users/runner/work/xgboost/xgboost/python-package/build/temp.macosx-11.0-arm64-cpython-38/xgboost/src/learner.cc:627: \n",
      "Parameters: { \"num_leaves\", \"scale_pos_weight\" } might not be used.\n",
      "\n",
      "  This could be a false alarm, with some parameters getting used by language bindings but\n",
      "  then being mistakenly passed down to XGBoost core, or some parameter actually being used\n",
      "  but getting flagged wrongly here. Please open an issue if you find any such cases.\n",
      "\n",
      "\n",
      "[12:26:50] WARNING: /Users/runner/work/xgboost/xgboost/python-package/build/temp.macosx-11.0-arm64-cpython-38/xgboost/src/learner.cc:627: \n",
      "Parameters: { \"num_leaves\", \"scale_pos_weight\" } might not be used.\n",
      "\n",
      "  This could be a false alarm, with some parameters getting used by language bindings but\n",
      "  then being mistakenly passed down to XGBoost core, or some parameter actually being used\n",
      "  but getting flagged wrongly here. Please open an issue if you find any such cases.\n",
      "\n",
      "\n"
     ]
    },
    {
     "name": "stderr",
     "output_type": "stream",
     "text": [
      "[I 2024-01-06 12:26:51,244] Trial 18 finished with value: 3704.830049070819 and parameters: {'n_estimators': 1000, 'learning_rate': 0.42182256845239646, 'min_child_weigth': 7, 'max_depth': 3, 'subsample': 0.47755505607341703, 'colsample_bytree': 0.755852460170304, 'colsample_bylevel': 0.6067734494068517, 'num_leaves': 37596, 'lambda_l2': 30, 'lambda_l1': 55, 'min_gain_to_split': 0.1841368379029427, 'scale_pos_weight': 438.9622824049173}. Best is trial 14 with value: 3263.4619164807455.\n"
     ]
    },
    {
     "name": "stdout",
     "output_type": "stream",
     "text": [
      "[12:26:51] WARNING: /Users/runner/work/xgboost/xgboost/python-package/build/temp.macosx-11.0-arm64-cpython-38/xgboost/src/learner.cc:627: \n",
      "Parameters: { \"num_leaves\", \"scale_pos_weight\" } might not be used.\n",
      "\n",
      "  This could be a false alarm, with some parameters getting used by language bindings but\n",
      "  then being mistakenly passed down to XGBoost core, or some parameter actually being used\n",
      "  but getting flagged wrongly here. Please open an issue if you find any such cases.\n",
      "\n",
      "\n",
      "[12:26:51] WARNING: /Users/runner/work/xgboost/xgboost/python-package/build/temp.macosx-11.0-arm64-cpython-38/xgboost/src/learner.cc:627: \n",
      "Parameters: { \"num_leaves\", \"scale_pos_weight\" } might not be used.\n",
      "\n",
      "  This could be a false alarm, with some parameters getting used by language bindings but\n",
      "  then being mistakenly passed down to XGBoost core, or some parameter actually being used\n",
      "  but getting flagged wrongly here. Please open an issue if you find any such cases.\n",
      "\n",
      "\n",
      "[12:26:52] WARNING: /Users/runner/work/xgboost/xgboost/python-package/build/temp.macosx-11.0-arm64-cpython-38/xgboost/src/learner.cc:627: \n",
      "Parameters: { \"num_leaves\", \"scale_pos_weight\" } might not be used.\n",
      "\n",
      "  This could be a false alarm, with some parameters getting used by language bindings but\n",
      "  then being mistakenly passed down to XGBoost core, or some parameter actually being used\n",
      "  but getting flagged wrongly here. Please open an issue if you find any such cases.\n",
      "\n",
      "\n"
     ]
    },
    {
     "name": "stderr",
     "output_type": "stream",
     "text": [
      "[I 2024-01-06 12:26:53,372] Trial 19 finished with value: 3556.434988087621 and parameters: {'n_estimators': 1000, 'learning_rate': 0.2720743759167263, 'min_child_weigth': 9, 'max_depth': 30, 'subsample': 0.6618254663592339, 'colsample_bytree': 0.47082024552334595, 'colsample_bylevel': 0.9017797610405085, 'num_leaves': 46696, 'lambda_l2': 35, 'lambda_l1': 41, 'min_gain_to_split': 0.05998281432134041, 'scale_pos_weight': 322.75064022755055}. Best is trial 14 with value: 3263.4619164807455.\n"
     ]
    },
    {
     "name": "stdout",
     "output_type": "stream",
     "text": [
      "[12:26:53] WARNING: /Users/runner/work/xgboost/xgboost/python-package/build/temp.macosx-11.0-arm64-cpython-38/xgboost/src/learner.cc:627: \n",
      "Parameters: { \"num_leaves\", \"scale_pos_weight\" } might not be used.\n",
      "\n",
      "  This could be a false alarm, with some parameters getting used by language bindings but\n",
      "  then being mistakenly passed down to XGBoost core, or some parameter actually being used\n",
      "  but getting flagged wrongly here. Please open an issue if you find any such cases.\n",
      "\n",
      "\n",
      "[12:26:54] WARNING: /Users/runner/work/xgboost/xgboost/python-package/build/temp.macosx-11.0-arm64-cpython-38/xgboost/src/learner.cc:627: \n",
      "Parameters: { \"num_leaves\", \"scale_pos_weight\" } might not be used.\n",
      "\n",
      "  This could be a false alarm, with some parameters getting used by language bindings but\n",
      "  then being mistakenly passed down to XGBoost core, or some parameter actually being used\n",
      "  but getting flagged wrongly here. Please open an issue if you find any such cases.\n",
      "\n",
      "\n",
      "[12:26:54] WARNING: /Users/runner/work/xgboost/xgboost/python-package/build/temp.macosx-11.0-arm64-cpython-38/xgboost/src/learner.cc:627: \n",
      "Parameters: { \"num_leaves\", \"scale_pos_weight\" } might not be used.\n",
      "\n",
      "  This could be a false alarm, with some parameters getting used by language bindings but\n",
      "  then being mistakenly passed down to XGBoost core, or some parameter actually being used\n",
      "  but getting flagged wrongly here. Please open an issue if you find any such cases.\n",
      "\n",
      "\n"
     ]
    },
    {
     "name": "stderr",
     "output_type": "stream",
     "text": [
      "[I 2024-01-06 12:26:55,529] Trial 20 finished with value: 3516.5604829703057 and parameters: {'n_estimators': 1000, 'learning_rate': 0.42674158661151534, 'min_child_weigth': 10, 'max_depth': 39, 'subsample': 0.8271994488553409, 'colsample_bytree': 0.3490206330735299, 'colsample_bylevel': 0.7697611745253312, 'num_leaves': 31296, 'lambda_l2': 21, 'lambda_l1': 79, 'min_gain_to_split': 0.38156974969244634, 'scale_pos_weight': 5.6216707312492815}. Best is trial 14 with value: 3263.4619164807455.\n"
     ]
    },
    {
     "name": "stdout",
     "output_type": "stream",
     "text": [
      "[12:26:55] WARNING: /Users/runner/work/xgboost/xgboost/python-package/build/temp.macosx-11.0-arm64-cpython-38/xgboost/src/learner.cc:627: \n",
      "Parameters: { \"num_leaves\", \"scale_pos_weight\" } might not be used.\n",
      "\n",
      "  This could be a false alarm, with some parameters getting used by language bindings but\n",
      "  then being mistakenly passed down to XGBoost core, or some parameter actually being used\n",
      "  but getting flagged wrongly here. Please open an issue if you find any such cases.\n",
      "\n",
      "\n",
      "[12:26:56] WARNING: /Users/runner/work/xgboost/xgboost/python-package/build/temp.macosx-11.0-arm64-cpython-38/xgboost/src/learner.cc:627: \n",
      "Parameters: { \"num_leaves\", \"scale_pos_weight\" } might not be used.\n",
      "\n",
      "  This could be a false alarm, with some parameters getting used by language bindings but\n",
      "  then being mistakenly passed down to XGBoost core, or some parameter actually being used\n",
      "  but getting flagged wrongly here. Please open an issue if you find any such cases.\n",
      "\n",
      "\n",
      "[12:26:56] WARNING: /Users/runner/work/xgboost/xgboost/python-package/build/temp.macosx-11.0-arm64-cpython-38/xgboost/src/learner.cc:627: \n",
      "Parameters: { \"num_leaves\", \"scale_pos_weight\" } might not be used.\n",
      "\n",
      "  This could be a false alarm, with some parameters getting used by language bindings but\n",
      "  then being mistakenly passed down to XGBoost core, or some parameter actually being used\n",
      "  but getting flagged wrongly here. Please open an issue if you find any such cases.\n",
      "\n",
      "\n"
     ]
    },
    {
     "name": "stderr",
     "output_type": "stream",
     "text": [
      "[I 2024-01-06 12:26:57,557] Trial 21 finished with value: 4351.779195234693 and parameters: {'n_estimators': 1000, 'learning_rate': 0.5147263500922189, 'min_child_weigth': 8, 'max_depth': 25, 'subsample': 0.42851264210004036, 'colsample_bytree': 0.5498754894771272, 'colsample_bylevel': 0.771558200669844, 'num_leaves': 55116, 'lambda_l2': 52, 'lambda_l1': 60, 'min_gain_to_split': 0.0710980347462863, 'scale_pos_weight': 212.8732802246448}. Best is trial 14 with value: 3263.4619164807455.\n"
     ]
    },
    {
     "name": "stdout",
     "output_type": "stream",
     "text": [
      "[12:26:57] WARNING: /Users/runner/work/xgboost/xgboost/python-package/build/temp.macosx-11.0-arm64-cpython-38/xgboost/src/learner.cc:627: \n",
      "Parameters: { \"num_leaves\", \"scale_pos_weight\" } might not be used.\n",
      "\n",
      "  This could be a false alarm, with some parameters getting used by language bindings but\n",
      "  then being mistakenly passed down to XGBoost core, or some parameter actually being used\n",
      "  but getting flagged wrongly here. Please open an issue if you find any such cases.\n",
      "\n",
      "\n",
      "[12:26:57] WARNING: /Users/runner/work/xgboost/xgboost/python-package/build/temp.macosx-11.0-arm64-cpython-38/xgboost/src/learner.cc:627: \n",
      "Parameters: { \"num_leaves\", \"scale_pos_weight\" } might not be used.\n",
      "\n",
      "  This could be a false alarm, with some parameters getting used by language bindings but\n",
      "  then being mistakenly passed down to XGBoost core, or some parameter actually being used\n",
      "  but getting flagged wrongly here. Please open an issue if you find any such cases.\n",
      "\n",
      "\n",
      "[12:26:58] WARNING: /Users/runner/work/xgboost/xgboost/python-package/build/temp.macosx-11.0-arm64-cpython-38/xgboost/src/learner.cc:627: \n",
      "Parameters: { \"num_leaves\", \"scale_pos_weight\" } might not be used.\n",
      "\n",
      "  This could be a false alarm, with some parameters getting used by language bindings but\n",
      "  then being mistakenly passed down to XGBoost core, or some parameter actually being used\n",
      "  but getting flagged wrongly here. Please open an issue if you find any such cases.\n",
      "\n",
      "\n"
     ]
    },
    {
     "name": "stderr",
     "output_type": "stream",
     "text": [
      "[I 2024-01-06 12:26:58,916] Trial 22 finished with value: 3927.541852803066 and parameters: {'n_estimators': 1000, 'learning_rate': 0.488907890477102, 'min_child_weigth': 3, 'max_depth': 19, 'subsample': 0.4673658903653491, 'colsample_bytree': 0.5326453155528503, 'colsample_bylevel': 0.7260553358657207, 'num_leaves': 50016, 'lambda_l2': 48, 'lambda_l1': 73, 'min_gain_to_split': 0.00473535341491241, 'scale_pos_weight': 124.35367802412394}. Best is trial 14 with value: 3263.4619164807455.\n"
     ]
    },
    {
     "name": "stdout",
     "output_type": "stream",
     "text": [
      "[12:26:58] WARNING: /Users/runner/work/xgboost/xgboost/python-package/build/temp.macosx-11.0-arm64-cpython-38/xgboost/src/learner.cc:627: \n",
      "Parameters: { \"num_leaves\", \"scale_pos_weight\" } might not be used.\n",
      "\n",
      "  This could be a false alarm, with some parameters getting used by language bindings but\n",
      "  then being mistakenly passed down to XGBoost core, or some parameter actually being used\n",
      "  but getting flagged wrongly here. Please open an issue if you find any such cases.\n",
      "\n",
      "\n",
      "[12:26:59] WARNING: /Users/runner/work/xgboost/xgboost/python-package/build/temp.macosx-11.0-arm64-cpython-38/xgboost/src/learner.cc:627: \n",
      "Parameters: { \"num_leaves\", \"scale_pos_weight\" } might not be used.\n",
      "\n",
      "  This could be a false alarm, with some parameters getting used by language bindings but\n",
      "  then being mistakenly passed down to XGBoost core, or some parameter actually being used\n",
      "  but getting flagged wrongly here. Please open an issue if you find any such cases.\n",
      "\n",
      "\n",
      "[12:27:00] WARNING: /Users/runner/work/xgboost/xgboost/python-package/build/temp.macosx-11.0-arm64-cpython-38/xgboost/src/learner.cc:627: \n",
      "Parameters: { \"num_leaves\", \"scale_pos_weight\" } might not be used.\n",
      "\n",
      "  This could be a false alarm, with some parameters getting used by language bindings but\n",
      "  then being mistakenly passed down to XGBoost core, or some parameter actually being used\n",
      "  but getting flagged wrongly here. Please open an issue if you find any such cases.\n",
      "\n",
      "\n"
     ]
    },
    {
     "name": "stderr",
     "output_type": "stream",
     "text": [
      "[I 2024-01-06 12:27:00,810] Trial 23 finished with value: 3426.847984961101 and parameters: {'n_estimators': 1000, 'learning_rate': 0.19632311191396024, 'min_child_weigth': 7, 'max_depth': 29, 'subsample': 0.66362396489002, 'colsample_bytree': 0.2418514931519194, 'colsample_bylevel': 0.893472055263347, 'num_leaves': 41896, 'lambda_l2': 55, 'lambda_l1': 83, 'min_gain_to_split': 0.10034456573886752, 'scale_pos_weight': 65.27806804010194}. Best is trial 14 with value: 3263.4619164807455.\n"
     ]
    },
    {
     "name": "stdout",
     "output_type": "stream",
     "text": [
      "[12:27:00] WARNING: /Users/runner/work/xgboost/xgboost/python-package/build/temp.macosx-11.0-arm64-cpython-38/xgboost/src/learner.cc:627: \n",
      "Parameters: { \"num_leaves\", \"scale_pos_weight\" } might not be used.\n",
      "\n",
      "  This could be a false alarm, with some parameters getting used by language bindings but\n",
      "  then being mistakenly passed down to XGBoost core, or some parameter actually being used\n",
      "  but getting flagged wrongly here. Please open an issue if you find any such cases.\n",
      "\n",
      "\n",
      "[12:27:01] WARNING: /Users/runner/work/xgboost/xgboost/python-package/build/temp.macosx-11.0-arm64-cpython-38/xgboost/src/learner.cc:627: \n",
      "Parameters: { \"num_leaves\", \"scale_pos_weight\" } might not be used.\n",
      "\n",
      "  This could be a false alarm, with some parameters getting used by language bindings but\n",
      "  then being mistakenly passed down to XGBoost core, or some parameter actually being used\n",
      "  but getting flagged wrongly here. Please open an issue if you find any such cases.\n",
      "\n",
      "\n",
      "[12:27:02] WARNING: /Users/runner/work/xgboost/xgboost/python-package/build/temp.macosx-11.0-arm64-cpython-38/xgboost/src/learner.cc:627: \n",
      "Parameters: { \"num_leaves\", \"scale_pos_weight\" } might not be used.\n",
      "\n",
      "  This could be a false alarm, with some parameters getting used by language bindings but\n",
      "  then being mistakenly passed down to XGBoost core, or some parameter actually being used\n",
      "  but getting flagged wrongly here. Please open an issue if you find any such cases.\n",
      "\n",
      "\n"
     ]
    },
    {
     "name": "stderr",
     "output_type": "stream",
     "text": [
      "[I 2024-01-06 12:27:03,094] Trial 24 finished with value: 3492.255094256894 and parameters: {'n_estimators': 1000, 'learning_rate': 0.32543295309752385, 'min_child_weigth': 6, 'max_depth': 35, 'subsample': 0.7628913490693927, 'colsample_bytree': 0.724852479502593, 'colsample_bylevel': 0.8214300600822242, 'num_leaves': 60396, 'lambda_l2': 68, 'lambda_l1': 60, 'min_gain_to_split': 0.040271331581204634, 'scale_pos_weight': 314.57957436387335}. Best is trial 14 with value: 3263.4619164807455.\n"
     ]
    },
    {
     "name": "stdout",
     "output_type": "stream",
     "text": [
      "[12:27:03] WARNING: /Users/runner/work/xgboost/xgboost/python-package/build/temp.macosx-11.0-arm64-cpython-38/xgboost/src/learner.cc:627: \n",
      "Parameters: { \"num_leaves\", \"scale_pos_weight\" } might not be used.\n",
      "\n",
      "  This could be a false alarm, with some parameters getting used by language bindings but\n",
      "  then being mistakenly passed down to XGBoost core, or some parameter actually being used\n",
      "  but getting flagged wrongly here. Please open an issue if you find any such cases.\n",
      "\n",
      "\n",
      "[12:27:03] WARNING: /Users/runner/work/xgboost/xgboost/python-package/build/temp.macosx-11.0-arm64-cpython-38/xgboost/src/learner.cc:627: \n",
      "Parameters: { \"num_leaves\", \"scale_pos_weight\" } might not be used.\n",
      "\n",
      "  This could be a false alarm, with some parameters getting used by language bindings but\n",
      "  then being mistakenly passed down to XGBoost core, or some parameter actually being used\n",
      "  but getting flagged wrongly here. Please open an issue if you find any such cases.\n",
      "\n",
      "\n",
      "[12:27:04] WARNING: /Users/runner/work/xgboost/xgboost/python-package/build/temp.macosx-11.0-arm64-cpython-38/xgboost/src/learner.cc:627: \n",
      "Parameters: { \"num_leaves\", \"scale_pos_weight\" } might not be used.\n",
      "\n",
      "  This could be a false alarm, with some parameters getting used by language bindings but\n",
      "  then being mistakenly passed down to XGBoost core, or some parameter actually being used\n",
      "  but getting flagged wrongly here. Please open an issue if you find any such cases.\n",
      "\n",
      "\n"
     ]
    },
    {
     "name": "stderr",
     "output_type": "stream",
     "text": [
      "[I 2024-01-06 12:27:04,625] Trial 25 finished with value: 3687.8168993160643 and parameters: {'n_estimators': 1000, 'learning_rate': 0.5634401483830088, 'min_child_weigth': 1, 'max_depth': 13, 'subsample': 0.5192630128850049, 'colsample_bytree': 0.4808245336394267, 'colsample_bylevel': 0.6135628939585938, 'num_leaves': 49276, 'lambda_l2': 43, 'lambda_l1': 100, 'min_gain_to_split': 0.1567659217097387, 'scale_pos_weight': 222.4115938239882}. Best is trial 14 with value: 3263.4619164807455.\n"
     ]
    },
    {
     "name": "stdout",
     "output_type": "stream",
     "text": [
      "[12:27:04] WARNING: /Users/runner/work/xgboost/xgboost/python-package/build/temp.macosx-11.0-arm64-cpython-38/xgboost/src/learner.cc:627: \n",
      "Parameters: { \"num_leaves\", \"scale_pos_weight\" } might not be used.\n",
      "\n",
      "  This could be a false alarm, with some parameters getting used by language bindings but\n",
      "  then being mistakenly passed down to XGBoost core, or some parameter actually being used\n",
      "  but getting flagged wrongly here. Please open an issue if you find any such cases.\n",
      "\n",
      "\n",
      "[12:27:05] WARNING: /Users/runner/work/xgboost/xgboost/python-package/build/temp.macosx-11.0-arm64-cpython-38/xgboost/src/learner.cc:627: \n",
      "Parameters: { \"num_leaves\", \"scale_pos_weight\" } might not be used.\n",
      "\n",
      "  This could be a false alarm, with some parameters getting used by language bindings but\n",
      "  then being mistakenly passed down to XGBoost core, or some parameter actually being used\n",
      "  but getting flagged wrongly here. Please open an issue if you find any such cases.\n",
      "\n",
      "\n",
      "[12:27:05] WARNING: /Users/runner/work/xgboost/xgboost/python-package/build/temp.macosx-11.0-arm64-cpython-38/xgboost/src/learner.cc:627: \n",
      "Parameters: { \"num_leaves\", \"scale_pos_weight\" } might not be used.\n",
      "\n",
      "  This could be a false alarm, with some parameters getting used by language bindings but\n",
      "  then being mistakenly passed down to XGBoost core, or some parameter actually being used\n",
      "  but getting flagged wrongly here. Please open an issue if you find any such cases.\n",
      "\n",
      "\n"
     ]
    },
    {
     "name": "stderr",
     "output_type": "stream",
     "text": [
      "[I 2024-01-06 12:27:06,141] Trial 26 finished with value: 3907.520181230136 and parameters: {'n_estimators': 1000, 'learning_rate': 0.4475775245543037, 'min_child_weigth': 9, 'max_depth': 24, 'subsample': 0.3844643939766115, 'colsample_bytree': 0.3424071296144856, 'colsample_bylevel': 0.7549780499745762, 'num_leaves': 25016, 'lambda_l2': 37, 'lambda_l1': 75, 'min_gain_to_split': 0.09102509336009655, 'scale_pos_weight': 423.9915785042169}. Best is trial 14 with value: 3263.4619164807455.\n"
     ]
    },
    {
     "name": "stdout",
     "output_type": "stream",
     "text": [
      "[12:27:06] WARNING: /Users/runner/work/xgboost/xgboost/python-package/build/temp.macosx-11.0-arm64-cpython-38/xgboost/src/learner.cc:627: \n",
      "Parameters: { \"num_leaves\", \"scale_pos_weight\" } might not be used.\n",
      "\n",
      "  This could be a false alarm, with some parameters getting used by language bindings but\n",
      "  then being mistakenly passed down to XGBoost core, or some parameter actually being used\n",
      "  but getting flagged wrongly here. Please open an issue if you find any such cases.\n",
      "\n",
      "\n",
      "[12:27:07] WARNING: /Users/runner/work/xgboost/xgboost/python-package/build/temp.macosx-11.0-arm64-cpython-38/xgboost/src/learner.cc:627: \n",
      "Parameters: { \"num_leaves\", \"scale_pos_weight\" } might not be used.\n",
      "\n",
      "  This could be a false alarm, with some parameters getting used by language bindings but\n",
      "  then being mistakenly passed down to XGBoost core, or some parameter actually being used\n",
      "  but getting flagged wrongly here. Please open an issue if you find any such cases.\n",
      "\n",
      "\n",
      "[12:27:07] WARNING: /Users/runner/work/xgboost/xgboost/python-package/build/temp.macosx-11.0-arm64-cpython-38/xgboost/src/learner.cc:627: \n",
      "Parameters: { \"num_leaves\", \"scale_pos_weight\" } might not be used.\n",
      "\n",
      "  This could be a false alarm, with some parameters getting used by language bindings but\n",
      "  then being mistakenly passed down to XGBoost core, or some parameter actually being used\n",
      "  but getting flagged wrongly here. Please open an issue if you find any such cases.\n",
      "\n",
      "\n"
     ]
    },
    {
     "name": "stderr",
     "output_type": "stream",
     "text": [
      "[I 2024-01-06 12:27:08,737] Trial 27 finished with value: 3519.8407663617813 and parameters: {'n_estimators': 1000, 'learning_rate': 0.3674918883539157, 'min_child_weigth': 10, 'max_depth': 44, 'subsample': 0.8166857956728273, 'colsample_bytree': 0.8831900164102346, 'colsample_bylevel': 0.9254014126389963, 'num_leaves': 40776, 'lambda_l2': 17, 'lambda_l1': 42, 'min_gain_to_split': 0.032019876763254976, 'scale_pos_weight': 275.7709625159203}. Best is trial 14 with value: 3263.4619164807455.\n"
     ]
    },
    {
     "name": "stdout",
     "output_type": "stream",
     "text": [
      "[12:27:08] WARNING: /Users/runner/work/xgboost/xgboost/python-package/build/temp.macosx-11.0-arm64-cpython-38/xgboost/src/learner.cc:627: \n",
      "Parameters: { \"num_leaves\", \"scale_pos_weight\" } might not be used.\n",
      "\n",
      "  This could be a false alarm, with some parameters getting used by language bindings but\n",
      "  then being mistakenly passed down to XGBoost core, or some parameter actually being used\n",
      "  but getting flagged wrongly here. Please open an issue if you find any such cases.\n",
      "\n",
      "\n",
      "[12:27:09] WARNING: /Users/runner/work/xgboost/xgboost/python-package/build/temp.macosx-11.0-arm64-cpython-38/xgboost/src/learner.cc:627: \n",
      "Parameters: { \"num_leaves\", \"scale_pos_weight\" } might not be used.\n",
      "\n",
      "  This could be a false alarm, with some parameters getting used by language bindings but\n",
      "  then being mistakenly passed down to XGBoost core, or some parameter actually being used\n",
      "  but getting flagged wrongly here. Please open an issue if you find any such cases.\n",
      "\n",
      "\n",
      "[12:27:09] WARNING: /Users/runner/work/xgboost/xgboost/python-package/build/temp.macosx-11.0-arm64-cpython-38/xgboost/src/learner.cc:627: \n",
      "Parameters: { \"num_leaves\", \"scale_pos_weight\" } might not be used.\n",
      "\n",
      "  This could be a false alarm, with some parameters getting used by language bindings but\n",
      "  then being mistakenly passed down to XGBoost core, or some parameter actually being used\n",
      "  but getting flagged wrongly here. Please open an issue if you find any such cases.\n",
      "\n",
      "\n"
     ]
    },
    {
     "name": "stderr",
     "output_type": "stream",
     "text": [
      "[I 2024-01-06 12:27:10,611] Trial 28 finished with value: 3687.1446367502213 and parameters: {'n_estimators': 1000, 'learning_rate': 0.2525266516578867, 'min_child_weigth': 8, 'max_depth': 32, 'subsample': 0.6363865663949526, 'colsample_bytree': 0.27145661174528246, 'colsample_bylevel': 0.9910344536640707, 'num_leaves': 34416, 'lambda_l2': 51, 'lambda_l1': 87, 'min_gain_to_split': 0.1079592602845971, 'scale_pos_weight': 68.81979300885956}. Best is trial 14 with value: 3263.4619164807455.\n"
     ]
    },
    {
     "name": "stdout",
     "output_type": "stream",
     "text": [
      "[12:27:10] WARNING: /Users/runner/work/xgboost/xgboost/python-package/build/temp.macosx-11.0-arm64-cpython-38/xgboost/src/learner.cc:627: \n",
      "Parameters: { \"num_leaves\", \"scale_pos_weight\" } might not be used.\n",
      "\n",
      "  This could be a false alarm, with some parameters getting used by language bindings but\n",
      "  then being mistakenly passed down to XGBoost core, or some parameter actually being used\n",
      "  but getting flagged wrongly here. Please open an issue if you find any such cases.\n",
      "\n",
      "\n",
      "[12:27:11] WARNING: /Users/runner/work/xgboost/xgboost/python-package/build/temp.macosx-11.0-arm64-cpython-38/xgboost/src/learner.cc:627: \n",
      "Parameters: { \"num_leaves\", \"scale_pos_weight\" } might not be used.\n",
      "\n",
      "  This could be a false alarm, with some parameters getting used by language bindings but\n",
      "  then being mistakenly passed down to XGBoost core, or some parameter actually being used\n",
      "  but getting flagged wrongly here. Please open an issue if you find any such cases.\n",
      "\n",
      "\n",
      "[12:27:11] WARNING: /Users/runner/work/xgboost/xgboost/python-package/build/temp.macosx-11.0-arm64-cpython-38/xgboost/src/learner.cc:627: \n",
      "Parameters: { \"num_leaves\", \"scale_pos_weight\" } might not be used.\n",
      "\n",
      "  This could be a false alarm, with some parameters getting used by language bindings but\n",
      "  then being mistakenly passed down to XGBoost core, or some parameter actually being used\n",
      "  but getting flagged wrongly here. Please open an issue if you find any such cases.\n",
      "\n",
      "\n"
     ]
    },
    {
     "name": "stderr",
     "output_type": "stream",
     "text": [
      "[I 2024-01-06 12:27:11,836] Trial 29 finished with value: 5235.407493672201 and parameters: {'n_estimators': 1000, 'learning_rate': 0.6870303252401927, 'min_child_weigth': 4, 'max_depth': 37, 'subsample': 0.20597994292651833, 'colsample_bytree': 0.7065406151448099, 'colsample_bylevel': 0.8321019737558849, 'num_leaves': 16376, 'lambda_l2': 67, 'lambda_l1': 60, 'min_gain_to_split': 0.1720144225129469, 'scale_pos_weight': 296.2563455901603}. Best is trial 14 with value: 3263.4619164807455.\n"
     ]
    },
    {
     "name": "stdout",
     "output_type": "stream",
     "text": [
      "[12:27:11] WARNING: /Users/runner/work/xgboost/xgboost/python-package/build/temp.macosx-11.0-arm64-cpython-38/xgboost/src/learner.cc:627: \n",
      "Parameters: { \"num_leaves\", \"scale_pos_weight\" } might not be used.\n",
      "\n",
      "  This could be a false alarm, with some parameters getting used by language bindings but\n",
      "  then being mistakenly passed down to XGBoost core, or some parameter actually being used\n",
      "  but getting flagged wrongly here. Please open an issue if you find any such cases.\n",
      "\n",
      "\n",
      "[12:27:12] WARNING: /Users/runner/work/xgboost/xgboost/python-package/build/temp.macosx-11.0-arm64-cpython-38/xgboost/src/learner.cc:627: \n",
      "Parameters: { \"num_leaves\", \"scale_pos_weight\" } might not be used.\n",
      "\n",
      "  This could be a false alarm, with some parameters getting used by language bindings but\n",
      "  then being mistakenly passed down to XGBoost core, or some parameter actually being used\n",
      "  but getting flagged wrongly here. Please open an issue if you find any such cases.\n",
      "\n",
      "\n",
      "[12:27:13] WARNING: /Users/runner/work/xgboost/xgboost/python-package/build/temp.macosx-11.0-arm64-cpython-38/xgboost/src/learner.cc:627: \n",
      "Parameters: { \"num_leaves\", \"scale_pos_weight\" } might not be used.\n",
      "\n",
      "  This could be a false alarm, with some parameters getting used by language bindings but\n",
      "  then being mistakenly passed down to XGBoost core, or some parameter actually being used\n",
      "  but getting flagged wrongly here. Please open an issue if you find any such cases.\n",
      "\n",
      "\n"
     ]
    },
    {
     "name": "stderr",
     "output_type": "stream",
     "text": [
      "[I 2024-01-06 12:27:14,353] Trial 30 finished with value: 3498.6686527112433 and parameters: {'n_estimators': 1000, 'learning_rate': 0.8390726352404526, 'min_child_weigth': 6, 'max_depth': 27, 'subsample': 0.9925920044019283, 'colsample_bytree': 0.5609641954954931, 'colsample_bylevel': 0.4953932191982989, 'num_leaves': 45556, 'lambda_l2': 37, 'lambda_l1': 17, 'min_gain_to_split': 0.21719727104466513, 'scale_pos_weight': 170.6690786824855}. Best is trial 14 with value: 3263.4619164807455.\n"
     ]
    },
    {
     "name": "stdout",
     "output_type": "stream",
     "text": [
      "[12:27:14] WARNING: /Users/runner/work/xgboost/xgboost/python-package/build/temp.macosx-11.0-arm64-cpython-38/xgboost/src/learner.cc:627: \n",
      "Parameters: { \"num_leaves\", \"scale_pos_weight\" } might not be used.\n",
      "\n",
      "  This could be a false alarm, with some parameters getting used by language bindings but\n",
      "  then being mistakenly passed down to XGBoost core, or some parameter actually being used\n",
      "  but getting flagged wrongly here. Please open an issue if you find any such cases.\n",
      "\n",
      "\n",
      "[12:27:14] WARNING: /Users/runner/work/xgboost/xgboost/python-package/build/temp.macosx-11.0-arm64-cpython-38/xgboost/src/learner.cc:627: \n",
      "Parameters: { \"num_leaves\", \"scale_pos_weight\" } might not be used.\n",
      "\n",
      "  This could be a false alarm, with some parameters getting used by language bindings but\n",
      "  then being mistakenly passed down to XGBoost core, or some parameter actually being used\n",
      "  but getting flagged wrongly here. Please open an issue if you find any such cases.\n",
      "\n",
      "\n",
      "[12:27:15] WARNING: /Users/runner/work/xgboost/xgboost/python-package/build/temp.macosx-11.0-arm64-cpython-38/xgboost/src/learner.cc:627: \n",
      "Parameters: { \"num_leaves\", \"scale_pos_weight\" } might not be used.\n",
      "\n",
      "  This could be a false alarm, with some parameters getting used by language bindings but\n",
      "  then being mistakenly passed down to XGBoost core, or some parameter actually being used\n",
      "  but getting flagged wrongly here. Please open an issue if you find any such cases.\n",
      "\n",
      "\n"
     ]
    },
    {
     "name": "stderr",
     "output_type": "stream",
     "text": [
      "[I 2024-01-06 12:27:16,176] Trial 31 finished with value: 3151.9427515098027 and parameters: {'n_estimators': 1000, 'learning_rate': 0.01325764689971859, 'min_child_weigth': 10, 'max_depth': 32, 'subsample': 0.6041796412576702, 'colsample_bytree': 0.8445812301185116, 'colsample_bylevel': 0.6893451676758633, 'num_leaves': 25576, 'lambda_l2': 42, 'lambda_l1': 67, 'min_gain_to_split': 0.009054274582836606, 'scale_pos_weight': 483.0526300092115}. Best is trial 31 with value: 3151.9427515098027.\n"
     ]
    },
    {
     "name": "stdout",
     "output_type": "stream",
     "text": [
      "[12:27:16] WARNING: /Users/runner/work/xgboost/xgboost/python-package/build/temp.macosx-11.0-arm64-cpython-38/xgboost/src/learner.cc:627: \n",
      "Parameters: { \"num_leaves\", \"scale_pos_weight\" } might not be used.\n",
      "\n",
      "  This could be a false alarm, with some parameters getting used by language bindings but\n",
      "  then being mistakenly passed down to XGBoost core, or some parameter actually being used\n",
      "  but getting flagged wrongly here. Please open an issue if you find any such cases.\n",
      "\n",
      "\n",
      "[12:27:16] WARNING: /Users/runner/work/xgboost/xgboost/python-package/build/temp.macosx-11.0-arm64-cpython-38/xgboost/src/learner.cc:627: \n",
      "Parameters: { \"num_leaves\", \"scale_pos_weight\" } might not be used.\n",
      "\n",
      "  This could be a false alarm, with some parameters getting used by language bindings but\n",
      "  then being mistakenly passed down to XGBoost core, or some parameter actually being used\n",
      "  but getting flagged wrongly here. Please open an issue if you find any such cases.\n",
      "\n",
      "\n",
      "[12:27:17] WARNING: /Users/runner/work/xgboost/xgboost/python-package/build/temp.macosx-11.0-arm64-cpython-38/xgboost/src/learner.cc:627: \n",
      "Parameters: { \"num_leaves\", \"scale_pos_weight\" } might not be used.\n",
      "\n",
      "  This could be a false alarm, with some parameters getting used by language bindings but\n",
      "  then being mistakenly passed down to XGBoost core, or some parameter actually being used\n",
      "  but getting flagged wrongly here. Please open an issue if you find any such cases.\n",
      "\n",
      "\n"
     ]
    },
    {
     "name": "stderr",
     "output_type": "stream",
     "text": [
      "[I 2024-01-06 12:27:18,475] Trial 32 finished with value: 3538.2616152763367 and parameters: {'n_estimators': 1000, 'learning_rate': 0.12428916060591304, 'min_child_weigth': 9, 'max_depth': 21, 'subsample': 0.5305588124781925, 'colsample_bytree': 0.8407685666714471, 'colsample_bylevel': 0.6301512240073754, 'num_leaves': 21276, 'lambda_l2': 46, 'lambda_l1': 73, 'min_gain_to_split': 0.07629484116704231, 'scale_pos_weight': 447.124069172572}. Best is trial 31 with value: 3151.9427515098027.\n"
     ]
    },
    {
     "name": "stdout",
     "output_type": "stream",
     "text": [
      "[12:27:18] WARNING: /Users/runner/work/xgboost/xgboost/python-package/build/temp.macosx-11.0-arm64-cpython-38/xgboost/src/learner.cc:627: \n",
      "Parameters: { \"num_leaves\", \"scale_pos_weight\" } might not be used.\n",
      "\n",
      "  This could be a false alarm, with some parameters getting used by language bindings but\n",
      "  then being mistakenly passed down to XGBoost core, or some parameter actually being used\n",
      "  but getting flagged wrongly here. Please open an issue if you find any such cases.\n",
      "\n",
      "\n",
      "[12:27:19] WARNING: /Users/runner/work/xgboost/xgboost/python-package/build/temp.macosx-11.0-arm64-cpython-38/xgboost/src/learner.cc:627: \n",
      "Parameters: { \"num_leaves\", \"scale_pos_weight\" } might not be used.\n",
      "\n",
      "  This could be a false alarm, with some parameters getting used by language bindings but\n",
      "  then being mistakenly passed down to XGBoost core, or some parameter actually being used\n",
      "  but getting flagged wrongly here. Please open an issue if you find any such cases.\n",
      "\n",
      "\n",
      "[12:27:20] WARNING: /Users/runner/work/xgboost/xgboost/python-package/build/temp.macosx-11.0-arm64-cpython-38/xgboost/src/learner.cc:627: \n",
      "Parameters: { \"num_leaves\", \"scale_pos_weight\" } might not be used.\n",
      "\n",
      "  This could be a false alarm, with some parameters getting used by language bindings but\n",
      "  then being mistakenly passed down to XGBoost core, or some parameter actually being used\n",
      "  but getting flagged wrongly here. Please open an issue if you find any such cases.\n",
      "\n",
      "\n"
     ]
    },
    {
     "name": "stderr",
     "output_type": "stream",
     "text": [
      "[I 2024-01-06 12:27:21,407] Trial 33 finished with value: 3316.5824696606605 and parameters: {'n_estimators': 1000, 'learning_rate': 0.05138117295458955, 'min_child_weigth': 10, 'max_depth': 29, 'subsample': 0.5968552250243969, 'colsample_bytree': 0.995483143967213, 'colsample_bylevel': 0.6951865197245236, 'num_leaves': 22236, 'lambda_l2': 56, 'lambda_l1': 64, 'min_gain_to_split': 0.01345283794207668, 'scale_pos_weight': 357.2086151283513}. Best is trial 31 with value: 3151.9427515098027.\n"
     ]
    },
    {
     "name": "stdout",
     "output_type": "stream",
     "text": [
      "[12:27:21] WARNING: /Users/runner/work/xgboost/xgboost/python-package/build/temp.macosx-11.0-arm64-cpython-38/xgboost/src/learner.cc:627: \n",
      "Parameters: { \"num_leaves\", \"scale_pos_weight\" } might not be used.\n",
      "\n",
      "  This could be a false alarm, with some parameters getting used by language bindings but\n",
      "  then being mistakenly passed down to XGBoost core, or some parameter actually being used\n",
      "  but getting flagged wrongly here. Please open an issue if you find any such cases.\n",
      "\n",
      "\n",
      "[12:27:22] WARNING: /Users/runner/work/xgboost/xgboost/python-package/build/temp.macosx-11.0-arm64-cpython-38/xgboost/src/learner.cc:627: \n",
      "Parameters: { \"num_leaves\", \"scale_pos_weight\" } might not be used.\n",
      "\n",
      "  This could be a false alarm, with some parameters getting used by language bindings but\n",
      "  then being mistakenly passed down to XGBoost core, or some parameter actually being used\n",
      "  but getting flagged wrongly here. Please open an issue if you find any such cases.\n",
      "\n",
      "\n",
      "[12:27:23] WARNING: /Users/runner/work/xgboost/xgboost/python-package/build/temp.macosx-11.0-arm64-cpython-38/xgboost/src/learner.cc:627: \n",
      "Parameters: { \"num_leaves\", \"scale_pos_weight\" } might not be used.\n",
      "\n",
      "  This could be a false alarm, with some parameters getting used by language bindings but\n",
      "  then being mistakenly passed down to XGBoost core, or some parameter actually being used\n",
      "  but getting flagged wrongly here. Please open an issue if you find any such cases.\n",
      "\n",
      "\n"
     ]
    },
    {
     "name": "stderr",
     "output_type": "stream",
     "text": [
      "[I 2024-01-06 12:27:24,076] Trial 34 finished with value: 3477.783685684204 and parameters: {'n_estimators': 1000, 'learning_rate': 0.03677906038983776, 'min_child_weigth': 10, 'max_depth': 30, 'subsample': 0.5895642347792609, 'colsample_bytree': 0.9938984252465706, 'colsample_bylevel': 0.412914504546693, 'num_leaves': 14756, 'lambda_l2': 56, 'lambda_l1': 47, 'min_gain_to_split': 0.027334687653841238, 'scale_pos_weight': 351.85170605380176}. Best is trial 31 with value: 3151.9427515098027.\n"
     ]
    },
    {
     "name": "stdout",
     "output_type": "stream",
     "text": [
      "[12:27:24] WARNING: /Users/runner/work/xgboost/xgboost/python-package/build/temp.macosx-11.0-arm64-cpython-38/xgboost/src/learner.cc:627: \n",
      "Parameters: { \"num_leaves\", \"scale_pos_weight\" } might not be used.\n",
      "\n",
      "  This could be a false alarm, with some parameters getting used by language bindings but\n",
      "  then being mistakenly passed down to XGBoost core, or some parameter actually being used\n",
      "  but getting flagged wrongly here. Please open an issue if you find any such cases.\n",
      "\n",
      "\n",
      "[12:27:24] WARNING: /Users/runner/work/xgboost/xgboost/python-package/build/temp.macosx-11.0-arm64-cpython-38/xgboost/src/learner.cc:627: \n",
      "Parameters: { \"num_leaves\", \"scale_pos_weight\" } might not be used.\n",
      "\n",
      "  This could be a false alarm, with some parameters getting used by language bindings but\n",
      "  then being mistakenly passed down to XGBoost core, or some parameter actually being used\n",
      "  but getting flagged wrongly here. Please open an issue if you find any such cases.\n",
      "\n",
      "\n",
      "[12:27:25] WARNING: /Users/runner/work/xgboost/xgboost/python-package/build/temp.macosx-11.0-arm64-cpython-38/xgboost/src/learner.cc:627: \n",
      "Parameters: { \"num_leaves\", \"scale_pos_weight\" } might not be used.\n",
      "\n",
      "  This could be a false alarm, with some parameters getting used by language bindings but\n",
      "  then being mistakenly passed down to XGBoost core, or some parameter actually being used\n",
      "  but getting flagged wrongly here. Please open an issue if you find any such cases.\n",
      "\n",
      "\n"
     ]
    },
    {
     "name": "stderr",
     "output_type": "stream",
     "text": [
      "[I 2024-01-06 12:27:26,546] Trial 35 finished with value: 3472.724191359111 and parameters: {'n_estimators': 1000, 'learning_rate': 0.0991891576308163, 'min_child_weigth': 10, 'max_depth': 36, 'subsample': 0.7028870534916477, 'colsample_bytree': 0.9419506929911827, 'colsample_bylevel': 0.5543874839552186, 'num_leaves': 24856, 'lambda_l2': 70, 'lambda_l1': 61, 'min_gain_to_split': 0.00029967514559956984, 'scale_pos_weight': 499.55304382422213}. Best is trial 31 with value: 3151.9427515098027.\n"
     ]
    },
    {
     "name": "stdout",
     "output_type": "stream",
     "text": [
      "[12:27:26] WARNING: /Users/runner/work/xgboost/xgboost/python-package/build/temp.macosx-11.0-arm64-cpython-38/xgboost/src/learner.cc:627: \n",
      "Parameters: { \"num_leaves\", \"scale_pos_weight\" } might not be used.\n",
      "\n",
      "  This could be a false alarm, with some parameters getting used by language bindings but\n",
      "  then being mistakenly passed down to XGBoost core, or some parameter actually being used\n",
      "  but getting flagged wrongly here. Please open an issue if you find any such cases.\n",
      "\n",
      "\n",
      "[12:27:27] WARNING: /Users/runner/work/xgboost/xgboost/python-package/build/temp.macosx-11.0-arm64-cpython-38/xgboost/src/learner.cc:627: \n",
      "Parameters: { \"num_leaves\", \"scale_pos_weight\" } might not be used.\n",
      "\n",
      "  This could be a false alarm, with some parameters getting used by language bindings but\n",
      "  then being mistakenly passed down to XGBoost core, or some parameter actually being used\n",
      "  but getting flagged wrongly here. Please open an issue if you find any such cases.\n",
      "\n",
      "\n",
      "[12:27:28] WARNING: /Users/runner/work/xgboost/xgboost/python-package/build/temp.macosx-11.0-arm64-cpython-38/xgboost/src/learner.cc:627: \n",
      "Parameters: { \"num_leaves\", \"scale_pos_weight\" } might not be used.\n",
      "\n",
      "  This could be a false alarm, with some parameters getting used by language bindings but\n",
      "  then being mistakenly passed down to XGBoost core, or some parameter actually being used\n",
      "  but getting flagged wrongly here. Please open an issue if you find any such cases.\n",
      "\n",
      "\n"
     ]
    },
    {
     "name": "stderr",
     "output_type": "stream",
     "text": [
      "[I 2024-01-06 12:27:29,455] Trial 36 finished with value: 3320.5716278042114 and parameters: {'n_estimators': 1000, 'learning_rate': 0.16862612169637117, 'min_child_weigth': 9, 'max_depth': 40, 'subsample': 0.8091066508615689, 'colsample_bytree': 0.9424547868894495, 'colsample_bylevel': 0.7038493600840483, 'num_leaves': 20896, 'lambda_l2': 75, 'lambda_l1': 56, 'min_gain_to_split': 0.05860310591795386, 'scale_pos_weight': 462.61472815686363}. Best is trial 31 with value: 3151.9427515098027.\n"
     ]
    },
    {
     "name": "stdout",
     "output_type": "stream",
     "text": [
      "[12:27:29] WARNING: /Users/runner/work/xgboost/xgboost/python-package/build/temp.macosx-11.0-arm64-cpython-38/xgboost/src/learner.cc:627: \n",
      "Parameters: { \"num_leaves\", \"scale_pos_weight\" } might not be used.\n",
      "\n",
      "  This could be a false alarm, with some parameters getting used by language bindings but\n",
      "  then being mistakenly passed down to XGBoost core, or some parameter actually being used\n",
      "  but getting flagged wrongly here. Please open an issue if you find any such cases.\n",
      "\n",
      "\n",
      "[12:27:30] WARNING: /Users/runner/work/xgboost/xgboost/python-package/build/temp.macosx-11.0-arm64-cpython-38/xgboost/src/learner.cc:627: \n",
      "Parameters: { \"num_leaves\", \"scale_pos_weight\" } might not be used.\n",
      "\n",
      "  This could be a false alarm, with some parameters getting used by language bindings but\n",
      "  then being mistakenly passed down to XGBoost core, or some parameter actually being used\n",
      "  but getting flagged wrongly here. Please open an issue if you find any such cases.\n",
      "\n",
      "\n",
      "[12:27:31] WARNING: /Users/runner/work/xgboost/xgboost/python-package/build/temp.macosx-11.0-arm64-cpython-38/xgboost/src/learner.cc:627: \n",
      "Parameters: { \"num_leaves\", \"scale_pos_weight\" } might not be used.\n",
      "\n",
      "  This could be a false alarm, with some parameters getting used by language bindings but\n",
      "  then being mistakenly passed down to XGBoost core, or some parameter actually being used\n",
      "  but getting flagged wrongly here. Please open an issue if you find any such cases.\n",
      "\n",
      "\n"
     ]
    },
    {
     "name": "stderr",
     "output_type": "stream",
     "text": [
      "[I 2024-01-06 12:27:32,211] Trial 37 finished with value: 3437.832703930991 and parameters: {'n_estimators': 1000, 'learning_rate': 0.07947334653717492, 'min_child_weigth': 8, 'max_depth': 26, 'subsample': 0.6356242208489563, 'colsample_bytree': 0.8694207952494202, 'colsample_bylevel': 0.6709899779617171, 'num_leaves': 12356, 'lambda_l2': 64, 'lambda_l1': 46, 'min_gain_to_split': 0.13332830446151378, 'scale_pos_weight': 416.9157723232471}. Best is trial 31 with value: 3151.9427515098027.\n"
     ]
    },
    {
     "name": "stdout",
     "output_type": "stream",
     "text": [
      "[12:27:32] WARNING: /Users/runner/work/xgboost/xgboost/python-package/build/temp.macosx-11.0-arm64-cpython-38/xgboost/src/learner.cc:627: \n",
      "Parameters: { \"num_leaves\", \"scale_pos_weight\" } might not be used.\n",
      "\n",
      "  This could be a false alarm, with some parameters getting used by language bindings but\n",
      "  then being mistakenly passed down to XGBoost core, or some parameter actually being used\n",
      "  but getting flagged wrongly here. Please open an issue if you find any such cases.\n",
      "\n",
      "\n",
      "[12:27:32] WARNING: /Users/runner/work/xgboost/xgboost/python-package/build/temp.macosx-11.0-arm64-cpython-38/xgboost/src/learner.cc:627: \n",
      "Parameters: { \"num_leaves\", \"scale_pos_weight\" } might not be used.\n",
      "\n",
      "  This could be a false alarm, with some parameters getting used by language bindings but\n",
      "  then being mistakenly passed down to XGBoost core, or some parameter actually being used\n",
      "  but getting flagged wrongly here. Please open an issue if you find any such cases.\n",
      "\n",
      "\n",
      "[12:27:33] WARNING: /Users/runner/work/xgboost/xgboost/python-package/build/temp.macosx-11.0-arm64-cpython-38/xgboost/src/learner.cc:627: \n",
      "Parameters: { \"num_leaves\", \"scale_pos_weight\" } might not be used.\n",
      "\n",
      "  This could be a false alarm, with some parameters getting used by language bindings but\n",
      "  then being mistakenly passed down to XGBoost core, or some parameter actually being used\n",
      "  but getting flagged wrongly here. Please open an issue if you find any such cases.\n",
      "\n",
      "\n"
     ]
    },
    {
     "name": "stderr",
     "output_type": "stream",
     "text": [
      "[I 2024-01-06 12:27:34,411] Trial 38 finished with value: 3634.091488690212 and parameters: {'n_estimators': 1000, 'learning_rate': 0.25823409959950566, 'min_child_weigth': 10, 'max_depth': 28, 'subsample': 0.5630882653890991, 'colsample_bytree': 0.7018587145135934, 'colsample_bylevel': 0.5078348581652795, 'num_leaves': 30816, 'lambda_l2': 32, 'lambda_l1': 66, 'min_gain_to_split': 0.02611742813141301, 'scale_pos_weight': 396.3718990110983}. Best is trial 31 with value: 3151.9427515098027.\n"
     ]
    },
    {
     "name": "stdout",
     "output_type": "stream",
     "text": [
      "[12:27:34] WARNING: /Users/runner/work/xgboost/xgboost/python-package/build/temp.macosx-11.0-arm64-cpython-38/xgboost/src/learner.cc:627: \n",
      "Parameters: { \"num_leaves\", \"scale_pos_weight\" } might not be used.\n",
      "\n",
      "  This could be a false alarm, with some parameters getting used by language bindings but\n",
      "  then being mistakenly passed down to XGBoost core, or some parameter actually being used\n",
      "  but getting flagged wrongly here. Please open an issue if you find any such cases.\n",
      "\n",
      "\n",
      "[12:27:35] WARNING: /Users/runner/work/xgboost/xgboost/python-package/build/temp.macosx-11.0-arm64-cpython-38/xgboost/src/learner.cc:627: \n",
      "Parameters: { \"num_leaves\", \"scale_pos_weight\" } might not be used.\n",
      "\n",
      "  This could be a false alarm, with some parameters getting used by language bindings but\n",
      "  then being mistakenly passed down to XGBoost core, or some parameter actually being used\n",
      "  but getting flagged wrongly here. Please open an issue if you find any such cases.\n",
      "\n",
      "\n",
      "[12:27:36] WARNING: /Users/runner/work/xgboost/xgboost/python-package/build/temp.macosx-11.0-arm64-cpython-38/xgboost/src/learner.cc:627: \n",
      "Parameters: { \"num_leaves\", \"scale_pos_weight\" } might not be used.\n",
      "\n",
      "  This could be a false alarm, with some parameters getting used by language bindings but\n",
      "  then being mistakenly passed down to XGBoost core, or some parameter actually being used\n",
      "  but getting flagged wrongly here. Please open an issue if you find any such cases.\n",
      "\n",
      "\n"
     ]
    },
    {
     "name": "stderr",
     "output_type": "stream",
     "text": [
      "[I 2024-01-06 12:27:37,396] Trial 39 finished with value: 3427.3769072209084 and parameters: {'n_estimators': 1000, 'learning_rate': 0.15365563229420504, 'min_child_weigth': 9, 'max_depth': 32, 'subsample': 0.9335063983091394, 'colsample_bytree': 0.7924729059029147, 'colsample_bylevel': 0.5762247335701858, 'num_leaves': 28536, 'lambda_l2': 85, 'lambda_l1': 37, 'min_gain_to_split': 0.12069676474480734, 'scale_pos_weight': 361.7772182113255}. Best is trial 31 with value: 3151.9427515098027.\n"
     ]
    },
    {
     "name": "stdout",
     "output_type": "stream",
     "text": [
      "[12:27:37] WARNING: /Users/runner/work/xgboost/xgboost/python-package/build/temp.macosx-11.0-arm64-cpython-38/xgboost/src/learner.cc:627: \n",
      "Parameters: { \"num_leaves\", \"scale_pos_weight\" } might not be used.\n",
      "\n",
      "  This could be a false alarm, with some parameters getting used by language bindings but\n",
      "  then being mistakenly passed down to XGBoost core, or some parameter actually being used\n",
      "  but getting flagged wrongly here. Please open an issue if you find any such cases.\n",
      "\n",
      "\n",
      "[12:27:37] WARNING: /Users/runner/work/xgboost/xgboost/python-package/build/temp.macosx-11.0-arm64-cpython-38/xgboost/src/learner.cc:627: \n",
      "Parameters: { \"num_leaves\", \"scale_pos_weight\" } might not be used.\n",
      "\n",
      "  This could be a false alarm, with some parameters getting used by language bindings but\n",
      "  then being mistakenly passed down to XGBoost core, or some parameter actually being used\n",
      "  but getting flagged wrongly here. Please open an issue if you find any such cases.\n",
      "\n",
      "\n",
      "[12:27:38] WARNING: /Users/runner/work/xgboost/xgboost/python-package/build/temp.macosx-11.0-arm64-cpython-38/xgboost/src/learner.cc:627: \n",
      "Parameters: { \"num_leaves\", \"scale_pos_weight\" } might not be used.\n",
      "\n",
      "  This could be a false alarm, with some parameters getting used by language bindings but\n",
      "  then being mistakenly passed down to XGBoost core, or some parameter actually being used\n",
      "  but getting flagged wrongly here. Please open an issue if you find any such cases.\n",
      "\n",
      "\n"
     ]
    },
    {
     "name": "stderr",
     "output_type": "stream",
     "text": [
      "[I 2024-01-06 12:27:38,808] Trial 40 finished with value: 3236.2340678402356 and parameters: {'n_estimators': 1000, 'learning_rate': 0.01064105812516896, 'min_child_weigth': 7, 'max_depth': 22, 'subsample': 0.8676013089190209, 'colsample_bytree': 0.9956771869303411, 'colsample_bylevel': 0.10766223841785905, 'num_leaves': 36096, 'lambda_l2': 55, 'lambda_l1': 54, 'min_gain_to_split': 0.2585533040074701, 'scale_pos_weight': 469.2688531760298}. Best is trial 31 with value: 3151.9427515098027.\n"
     ]
    },
    {
     "name": "stdout",
     "output_type": "stream",
     "text": [
      "[12:27:38] WARNING: /Users/runner/work/xgboost/xgboost/python-package/build/temp.macosx-11.0-arm64-cpython-38/xgboost/src/learner.cc:627: \n",
      "Parameters: { \"num_leaves\", \"scale_pos_weight\" } might not be used.\n",
      "\n",
      "  This could be a false alarm, with some parameters getting used by language bindings but\n",
      "  then being mistakenly passed down to XGBoost core, or some parameter actually being used\n",
      "  but getting flagged wrongly here. Please open an issue if you find any such cases.\n",
      "\n",
      "\n",
      "[12:27:39] WARNING: /Users/runner/work/xgboost/xgboost/python-package/build/temp.macosx-11.0-arm64-cpython-38/xgboost/src/learner.cc:627: \n",
      "Parameters: { \"num_leaves\", \"scale_pos_weight\" } might not be used.\n",
      "\n",
      "  This could be a false alarm, with some parameters getting used by language bindings but\n",
      "  then being mistakenly passed down to XGBoost core, or some parameter actually being used\n",
      "  but getting flagged wrongly here. Please open an issue if you find any such cases.\n",
      "\n",
      "\n",
      "[12:27:40] WARNING: /Users/runner/work/xgboost/xgboost/python-package/build/temp.macosx-11.0-arm64-cpython-38/xgboost/src/learner.cc:627: \n",
      "Parameters: { \"num_leaves\", \"scale_pos_weight\" } might not be used.\n",
      "\n",
      "  This could be a false alarm, with some parameters getting used by language bindings but\n",
      "  then being mistakenly passed down to XGBoost core, or some parameter actually being used\n",
      "  but getting flagged wrongly here. Please open an issue if you find any such cases.\n",
      "\n",
      "\n"
     ]
    },
    {
     "name": "stderr",
     "output_type": "stream",
     "text": [
      "[I 2024-01-06 12:27:41,152] Trial 41 finished with value: 3432.9287771156855 and parameters: {'n_estimators': 1000, 'learning_rate': 0.0203661802721591, 'min_child_weigth': 7, 'max_depth': 23, 'subsample': 0.7828853108203344, 'colsample_bytree': 0.9986644411756762, 'colsample_bylevel': 0.11638851534224037, 'num_leaves': 36436, 'lambda_l2': 56, 'lambda_l1': 56, 'min_gain_to_split': 0.26816443271262885, 'scale_pos_weight': 460.03799707931074}. Best is trial 31 with value: 3151.9427515098027.\n"
     ]
    },
    {
     "name": "stdout",
     "output_type": "stream",
     "text": [
      "[12:27:41] WARNING: /Users/runner/work/xgboost/xgboost/python-package/build/temp.macosx-11.0-arm64-cpython-38/xgboost/src/learner.cc:627: \n",
      "Parameters: { \"num_leaves\", \"scale_pos_weight\" } might not be used.\n",
      "\n",
      "  This could be a false alarm, with some parameters getting used by language bindings but\n",
      "  then being mistakenly passed down to XGBoost core, or some parameter actually being used\n",
      "  but getting flagged wrongly here. Please open an issue if you find any such cases.\n",
      "\n",
      "\n",
      "[12:27:42] WARNING: /Users/runner/work/xgboost/xgboost/python-package/build/temp.macosx-11.0-arm64-cpython-38/xgboost/src/learner.cc:627: \n",
      "Parameters: { \"num_leaves\", \"scale_pos_weight\" } might not be used.\n",
      "\n",
      "  This could be a false alarm, with some parameters getting used by language bindings but\n",
      "  then being mistakenly passed down to XGBoost core, or some parameter actually being used\n",
      "  but getting flagged wrongly here. Please open an issue if you find any such cases.\n",
      "\n",
      "\n",
      "[12:27:42] WARNING: /Users/runner/work/xgboost/xgboost/python-package/build/temp.macosx-11.0-arm64-cpython-38/xgboost/src/learner.cc:627: \n",
      "Parameters: { \"num_leaves\", \"scale_pos_weight\" } might not be used.\n",
      "\n",
      "  This could be a false alarm, with some parameters getting used by language bindings but\n",
      "  then being mistakenly passed down to XGBoost core, or some parameter actually being used\n",
      "  but getting flagged wrongly here. Please open an issue if you find any such cases.\n",
      "\n",
      "\n"
     ]
    },
    {
     "name": "stderr",
     "output_type": "stream",
     "text": [
      "[I 2024-01-06 12:27:43,637] Trial 42 finished with value: 3344.1438929055416 and parameters: {'n_estimators': 1000, 'learning_rate': 0.0736819085739518, 'min_child_weigth': 5, 'max_depth': 16, 'subsample': 0.862008278023413, 'colsample_bytree': 0.9416997535866598, 'colsample_bylevel': 0.2673273655247108, 'num_leaves': 25416, 'lambda_l2': 100, 'lambda_l1': 64, 'min_gain_to_split': 0.24716503569382828, 'scale_pos_weight': 469.10020336507057}. Best is trial 31 with value: 3151.9427515098027.\n"
     ]
    },
    {
     "name": "stdout",
     "output_type": "stream",
     "text": [
      "[12:27:43] WARNING: /Users/runner/work/xgboost/xgboost/python-package/build/temp.macosx-11.0-arm64-cpython-38/xgboost/src/learner.cc:627: \n",
      "Parameters: { \"num_leaves\", \"scale_pos_weight\" } might not be used.\n",
      "\n",
      "  This could be a false alarm, with some parameters getting used by language bindings but\n",
      "  then being mistakenly passed down to XGBoost core, or some parameter actually being used\n",
      "  but getting flagged wrongly here. Please open an issue if you find any such cases.\n",
      "\n",
      "\n",
      "[12:27:44] WARNING: /Users/runner/work/xgboost/xgboost/python-package/build/temp.macosx-11.0-arm64-cpython-38/xgboost/src/learner.cc:627: \n",
      "Parameters: { \"num_leaves\", \"scale_pos_weight\" } might not be used.\n",
      "\n",
      "  This could be a false alarm, with some parameters getting used by language bindings but\n",
      "  then being mistakenly passed down to XGBoost core, or some parameter actually being used\n",
      "  but getting flagged wrongly here. Please open an issue if you find any such cases.\n",
      "\n",
      "\n",
      "[12:27:45] WARNING: /Users/runner/work/xgboost/xgboost/python-package/build/temp.macosx-11.0-arm64-cpython-38/xgboost/src/learner.cc:627: \n",
      "Parameters: { \"num_leaves\", \"scale_pos_weight\" } might not be used.\n",
      "\n",
      "  This could be a false alarm, with some parameters getting used by language bindings but\n",
      "  then being mistakenly passed down to XGBoost core, or some parameter actually being used\n",
      "  but getting flagged wrongly here. Please open an issue if you find any such cases.\n",
      "\n",
      "\n"
     ]
    },
    {
     "name": "stderr",
     "output_type": "stream",
     "text": [
      "[I 2024-01-06 12:27:46,081] Trial 43 finished with value: 3301.540789774486 and parameters: {'n_estimators': 1000, 'learning_rate': 0.05648378289079175, 'min_child_weigth': 8, 'max_depth': 20, 'subsample': 0.7017207938096699, 'colsample_bytree': 0.9057656733477913, 'colsample_bylevel': 0.23510650129017618, 'num_leaves': 22276, 'lambda_l2': 48, 'lambda_l1': 69, 'min_gain_to_split': 0.3241819072720606, 'scale_pos_weight': 496.1959201863312}. Best is trial 31 with value: 3151.9427515098027.\n"
     ]
    },
    {
     "name": "stdout",
     "output_type": "stream",
     "text": [
      "[12:27:46] WARNING: /Users/runner/work/xgboost/xgboost/python-package/build/temp.macosx-11.0-arm64-cpython-38/xgboost/src/learner.cc:627: \n",
      "Parameters: { \"num_leaves\", \"scale_pos_weight\" } might not be used.\n",
      "\n",
      "  This could be a false alarm, with some parameters getting used by language bindings but\n",
      "  then being mistakenly passed down to XGBoost core, or some parameter actually being used\n",
      "  but getting flagged wrongly here. Please open an issue if you find any such cases.\n",
      "\n",
      "\n",
      "[12:27:46] WARNING: /Users/runner/work/xgboost/xgboost/python-package/build/temp.macosx-11.0-arm64-cpython-38/xgboost/src/learner.cc:627: \n",
      "Parameters: { \"num_leaves\", \"scale_pos_weight\" } might not be used.\n",
      "\n",
      "  This could be a false alarm, with some parameters getting used by language bindings but\n",
      "  then being mistakenly passed down to XGBoost core, or some parameter actually being used\n",
      "  but getting flagged wrongly here. Please open an issue if you find any such cases.\n",
      "\n",
      "\n",
      "[12:27:47] WARNING: /Users/runner/work/xgboost/xgboost/python-package/build/temp.macosx-11.0-arm64-cpython-38/xgboost/src/learner.cc:627: \n",
      "Parameters: { \"num_leaves\", \"scale_pos_weight\" } might not be used.\n",
      "\n",
      "  This could be a false alarm, with some parameters getting used by language bindings but\n",
      "  then being mistakenly passed down to XGBoost core, or some parameter actually being used\n",
      "  but getting flagged wrongly here. Please open an issue if you find any such cases.\n",
      "\n",
      "\n"
     ]
    },
    {
     "name": "stderr",
     "output_type": "stream",
     "text": [
      "[I 2024-01-06 12:27:48,322] Trial 44 finished with value: 3489.3998483760015 and parameters: {'n_estimators': 1000, 'learning_rate': 0.13518681520121348, 'min_child_weigth': 7, 'max_depth': 13, 'subsample': 0.7140233951944626, 'colsample_bytree': 0.8936932831812173, 'colsample_bylevel': 0.19456254170612752, 'num_leaves': 35076, 'lambda_l2': 41, 'lambda_l1': 70, 'min_gain_to_split': 0.3069536684454537, 'scale_pos_weight': 499.4730115398949}. Best is trial 31 with value: 3151.9427515098027.\n"
     ]
    },
    {
     "name": "stdout",
     "output_type": "stream",
     "text": [
      "[12:27:48] WARNING: /Users/runner/work/xgboost/xgboost/python-package/build/temp.macosx-11.0-arm64-cpython-38/xgboost/src/learner.cc:627: \n",
      "Parameters: { \"num_leaves\", \"scale_pos_weight\" } might not be used.\n",
      "\n",
      "  This could be a false alarm, with some parameters getting used by language bindings but\n",
      "  then being mistakenly passed down to XGBoost core, or some parameter actually being used\n",
      "  but getting flagged wrongly here. Please open an issue if you find any such cases.\n",
      "\n",
      "\n",
      "[12:27:49] WARNING: /Users/runner/work/xgboost/xgboost/python-package/build/temp.macosx-11.0-arm64-cpython-38/xgboost/src/learner.cc:627: \n",
      "Parameters: { \"num_leaves\", \"scale_pos_weight\" } might not be used.\n",
      "\n",
      "  This could be a false alarm, with some parameters getting used by language bindings but\n",
      "  then being mistakenly passed down to XGBoost core, or some parameter actually being used\n",
      "  but getting flagged wrongly here. Please open an issue if you find any such cases.\n",
      "\n",
      "\n",
      "[12:27:50] WARNING: /Users/runner/work/xgboost/xgboost/python-package/build/temp.macosx-11.0-arm64-cpython-38/xgboost/src/learner.cc:627: \n",
      "Parameters: { \"num_leaves\", \"scale_pos_weight\" } might not be used.\n",
      "\n",
      "  This could be a false alarm, with some parameters getting used by language bindings but\n",
      "  then being mistakenly passed down to XGBoost core, or some parameter actually being used\n",
      "  but getting flagged wrongly here. Please open an issue if you find any such cases.\n",
      "\n",
      "\n"
     ]
    },
    {
     "name": "stderr",
     "output_type": "stream",
     "text": [
      "[I 2024-01-06 12:27:52,368] Trial 45 finished with value: 3378.310782977513 and parameters: {'n_estimators': 1000, 'learning_rate': 0.21733789934555803, 'min_child_weigth': 8, 'max_depth': 22, 'subsample': 0.9115581387405074, 'colsample_bytree': 0.8463030900022053, 'colsample_bylevel': 0.18160916977779365, 'num_leaves': 28776, 'lambda_l2': 48, 'lambda_l1': 1, 'min_gain_to_split': 0.3456052995316564, 'scale_pos_weight': 434.98141028937385}. Best is trial 31 with value: 3151.9427515098027.\n"
     ]
    },
    {
     "name": "stdout",
     "output_type": "stream",
     "text": [
      "[12:27:52] WARNING: /Users/runner/work/xgboost/xgboost/python-package/build/temp.macosx-11.0-arm64-cpython-38/xgboost/src/learner.cc:627: \n",
      "Parameters: { \"num_leaves\", \"scale_pos_weight\" } might not be used.\n",
      "\n",
      "  This could be a false alarm, with some parameters getting used by language bindings but\n",
      "  then being mistakenly passed down to XGBoost core, or some parameter actually being used\n",
      "  but getting flagged wrongly here. Please open an issue if you find any such cases.\n",
      "\n",
      "\n",
      "[12:27:52] WARNING: /Users/runner/work/xgboost/xgboost/python-package/build/temp.macosx-11.0-arm64-cpython-38/xgboost/src/learner.cc:627: \n",
      "Parameters: { \"num_leaves\", \"scale_pos_weight\" } might not be used.\n",
      "\n",
      "  This could be a false alarm, with some parameters getting used by language bindings but\n",
      "  then being mistakenly passed down to XGBoost core, or some parameter actually being used\n",
      "  but getting flagged wrongly here. Please open an issue if you find any such cases.\n",
      "\n",
      "\n",
      "[12:27:53] WARNING: /Users/runner/work/xgboost/xgboost/python-package/build/temp.macosx-11.0-arm64-cpython-38/xgboost/src/learner.cc:627: \n",
      "Parameters: { \"num_leaves\", \"scale_pos_weight\" } might not be used.\n",
      "\n",
      "  This could be a false alarm, with some parameters getting used by language bindings but\n",
      "  then being mistakenly passed down to XGBoost core, or some parameter actually being used\n",
      "  but getting flagged wrongly here. Please open an issue if you find any such cases.\n",
      "\n",
      "\n"
     ]
    },
    {
     "name": "stderr",
     "output_type": "stream",
     "text": [
      "[I 2024-01-06 12:27:53,711] Trial 46 finished with value: 3303.328186546053 and parameters: {'n_estimators': 1000, 'learning_rate': 0.01008106375005569, 'min_child_weigth': 6, 'max_depth': 19, 'subsample': 0.674751226758165, 'colsample_bytree': 0.9208350970141133, 'colsample_bylevel': 0.1636372210055662, 'num_leaves': 39996, 'lambda_l2': 39, 'lambda_l1': 77, 'min_gain_to_split': 0.4188416018099397, 'scale_pos_weight': 396.3504126639118}. Best is trial 31 with value: 3151.9427515098027.\n"
     ]
    },
    {
     "name": "stdout",
     "output_type": "stream",
     "text": [
      "[12:27:53] WARNING: /Users/runner/work/xgboost/xgboost/python-package/build/temp.macosx-11.0-arm64-cpython-38/xgboost/src/learner.cc:627: \n",
      "Parameters: { \"num_leaves\", \"scale_pos_weight\" } might not be used.\n",
      "\n",
      "  This could be a false alarm, with some parameters getting used by language bindings but\n",
      "  then being mistakenly passed down to XGBoost core, or some parameter actually being used\n",
      "  but getting flagged wrongly here. Please open an issue if you find any such cases.\n",
      "\n",
      "\n",
      "[12:27:54] WARNING: /Users/runner/work/xgboost/xgboost/python-package/build/temp.macosx-11.0-arm64-cpython-38/xgboost/src/learner.cc:627: \n",
      "Parameters: { \"num_leaves\", \"scale_pos_weight\" } might not be used.\n",
      "\n",
      "  This could be a false alarm, with some parameters getting used by language bindings but\n",
      "  then being mistakenly passed down to XGBoost core, or some parameter actually being used\n",
      "  but getting flagged wrongly here. Please open an issue if you find any such cases.\n",
      "\n",
      "\n",
      "[12:27:54] WARNING: /Users/runner/work/xgboost/xgboost/python-package/build/temp.macosx-11.0-arm64-cpython-38/xgboost/src/learner.cc:627: \n",
      "Parameters: { \"num_leaves\", \"scale_pos_weight\" } might not be used.\n",
      "\n",
      "  This could be a false alarm, with some parameters getting used by language bindings but\n",
      "  then being mistakenly passed down to XGBoost core, or some parameter actually being used\n",
      "  but getting flagged wrongly here. Please open an issue if you find any such cases.\n",
      "\n",
      "\n"
     ]
    },
    {
     "name": "stderr",
     "output_type": "stream",
     "text": [
      "[I 2024-01-06 12:27:55,099] Trial 47 finished with value: 3254.9262791190827 and parameters: {'n_estimators': 1000, 'learning_rate': 0.010369727783246295, 'min_child_weigth': 5, 'max_depth': 19, 'subsample': 0.8565325583957363, 'colsample_bytree': 0.9215047409730066, 'colsample_bylevel': 0.1666976171614789, 'num_leaves': 39916, 'lambda_l2': 27, 'lambda_l1': 92, 'min_gain_to_split': 0.4855724775114277, 'scale_pos_weight': 406.4992996851986}. Best is trial 31 with value: 3151.9427515098027.\n"
     ]
    },
    {
     "name": "stdout",
     "output_type": "stream",
     "text": [
      "[12:27:55] WARNING: /Users/runner/work/xgboost/xgboost/python-package/build/temp.macosx-11.0-arm64-cpython-38/xgboost/src/learner.cc:627: \n",
      "Parameters: { \"num_leaves\", \"scale_pos_weight\" } might not be used.\n",
      "\n",
      "  This could be a false alarm, with some parameters getting used by language bindings but\n",
      "  then being mistakenly passed down to XGBoost core, or some parameter actually being used\n",
      "  but getting flagged wrongly here. Please open an issue if you find any such cases.\n",
      "\n",
      "\n",
      "[12:27:56] WARNING: /Users/runner/work/xgboost/xgboost/python-package/build/temp.macosx-11.0-arm64-cpython-38/xgboost/src/learner.cc:627: \n",
      "Parameters: { \"num_leaves\", \"scale_pos_weight\" } might not be used.\n",
      "\n",
      "  This could be a false alarm, with some parameters getting used by language bindings but\n",
      "  then being mistakenly passed down to XGBoost core, or some parameter actually being used\n",
      "  but getting flagged wrongly here. Please open an issue if you find any such cases.\n",
      "\n",
      "\n",
      "[12:27:56] WARNING: /Users/runner/work/xgboost/xgboost/python-package/build/temp.macosx-11.0-arm64-cpython-38/xgboost/src/learner.cc:627: \n",
      "Parameters: { \"num_leaves\", \"scale_pos_weight\" } might not be used.\n",
      "\n",
      "  This could be a false alarm, with some parameters getting used by language bindings but\n",
      "  then being mistakenly passed down to XGBoost core, or some parameter actually being used\n",
      "  but getting flagged wrongly here. Please open an issue if you find any such cases.\n",
      "\n",
      "\n"
     ]
    },
    {
     "name": "stderr",
     "output_type": "stream",
     "text": [
      "[I 2024-01-06 12:27:57,716] Trial 48 finished with value: 3412.978374012879 and parameters: {'n_estimators': 1000, 'learning_rate': 0.11630973076590659, 'min_child_weigth': 5, 'max_depth': 19, 'subsample': 0.9408336456321826, 'colsample_bytree': 0.949238450274242, 'colsample_bylevel': 0.2805057561617365, 'num_leaves': 44756, 'lambda_l2': 25, 'lambda_l1': 31, 'min_gain_to_split': 0.44296608855449116, 'scale_pos_weight': 473.88467799205665}. Best is trial 31 with value: 3151.9427515098027.\n"
     ]
    },
    {
     "name": "stdout",
     "output_type": "stream",
     "text": [
      "[12:27:57] WARNING: /Users/runner/work/xgboost/xgboost/python-package/build/temp.macosx-11.0-arm64-cpython-38/xgboost/src/learner.cc:627: \n",
      "Parameters: { \"num_leaves\", \"scale_pos_weight\" } might not be used.\n",
      "\n",
      "  This could be a false alarm, with some parameters getting used by language bindings but\n",
      "  then being mistakenly passed down to XGBoost core, or some parameter actually being used\n",
      "  but getting flagged wrongly here. Please open an issue if you find any such cases.\n",
      "\n",
      "\n",
      "[12:27:58] WARNING: /Users/runner/work/xgboost/xgboost/python-package/build/temp.macosx-11.0-arm64-cpython-38/xgboost/src/learner.cc:627: \n",
      "Parameters: { \"num_leaves\", \"scale_pos_weight\" } might not be used.\n",
      "\n",
      "  This could be a false alarm, with some parameters getting used by language bindings but\n",
      "  then being mistakenly passed down to XGBoost core, or some parameter actually being used\n",
      "  but getting flagged wrongly here. Please open an issue if you find any such cases.\n",
      "\n",
      "\n",
      "[12:27:59] WARNING: /Users/runner/work/xgboost/xgboost/python-package/build/temp.macosx-11.0-arm64-cpython-38/xgboost/src/learner.cc:627: \n",
      "Parameters: { \"num_leaves\", \"scale_pos_weight\" } might not be used.\n",
      "\n",
      "  This could be a false alarm, with some parameters getting used by language bindings but\n",
      "  then being mistakenly passed down to XGBoost core, or some parameter actually being used\n",
      "  but getting flagged wrongly here. Please open an issue if you find any such cases.\n",
      "\n",
      "\n"
     ]
    },
    {
     "name": "stderr",
     "output_type": "stream",
     "text": [
      "[I 2024-01-06 12:28:00,015] Trial 49 finished with value: 3329.561848487173 and parameters: {'n_estimators': 1000, 'learning_rate': 0.07161606766420271, 'min_child_weigth': 6, 'max_depth': 13, 'subsample': 0.849396621327758, 'colsample_bytree': 0.5856997893516803, 'colsample_bylevel': 0.35215205041831116, 'num_leaves': 43616, 'lambda_l2': 13, 'lambda_l1': 88, 'min_gain_to_split': 0.49893111881863006, 'scale_pos_weight': 239.70359235339043}. Best is trial 31 with value: 3151.9427515098027.\n"
     ]
    }
   ],
   "source": [
    "RANDOM = 42\n",
    "\n",
    "def objective_xgb(trial, X, y):\n",
    "\n",
    "    param_grid = {\n",
    "        \"n_estimators\": trial.suggest_categorical(\"n_estimators\", [1000]),\n",
    "        \"learning_rate\": trial.suggest_float(\"learning_rate\", 0.01, 1),\n",
    "        \"min_child_weight\": trial.suggest_int(\"min_child_weigth\", 1, 10),\n",
    "        \"max_depth\": trial.suggest_int(\"max_depth\", 1, 50),\n",
    "        \"subsample\": trial.suggest_float(\"subsample\", .1, 1),\n",
    "        \"colsample_bytree\": trial.suggest_float(\"colsample_bytree\", .1, 1),\n",
    "        \"colsample_bylevel\": trial.suggest_float(\"colsample_bylevel\", .1, 1),\n",
    "        \"num_leaves\": trial.suggest_int(\"num_leaves\", 2**12, 2**16, step=20), \n",
    "        \"reg_lambda\": trial.suggest_int(\"lambda_l2\", 1e-9, 100),\n",
    "        \"reg_alpha\": trial.suggest_int(\"lambda_l1\", 1e-9, 100),\n",
    "        \"gamma\": trial.suggest_float(\"min_gain_to_split\", 1e-9, .5),\n",
    "        \"scale_pos_weight\": trial.suggest_float(\"scale_pos_weight\", 1e-6, 500),\n",
    "        \"random_state\": RANDOM\n",
    "        }\n",
    "\n",
    "    cv = KFold(n_splits=3, random_state=RANDOM, shuffle=True)\n",
    "    cv_scores = []\n",
    "\n",
    "    xgb = xgboost.XGBRegressor(**param_grid, objective=\"count:poisson\")\n",
    "\n",
    "    poly = PolynomialFeatures(degree=2, include_bias=False)\n",
    "\n",
    "    poly_reg = Pipeline([\n",
    "        (\"poly\", poly),\n",
    "        (\"regressor\", xgb)\n",
    "    ])\n",
    "\n",
    "    \n",
    "    for (train_index, val_index) in cv.split(X, y):\n",
    "        X_train, X_val = X.iloc[train_index], X.iloc[val_index]\n",
    "        y_train, y_val = y.iloc[train_index], y.iloc[val_index]    \n",
    "\n",
    "        poly_reg.fit(\n",
    "            X_train,\n",
    "            y_train\n",
    "        )\n",
    "\n",
    "        preds = poly_reg.predict(X_val)\n",
    "        cv_scores.append(mean_absolute_error(preds, y_val))\n",
    "    \n",
    "    return np.median(cv_scores)\n",
    "\n",
    "study_xgb = optuna.create_study(direction=\"minimize\", study_name=\"XGBoost Regression\")\n",
    "func_xgb = lambda trial: objective_xgb(trial, X_train, y_train)\n",
    "study_xgb.optimize(func_xgb, n_trials=50)"
   ]
  },
  {
   "cell_type": "code",
   "execution_count": 33,
   "metadata": {},
   "outputs": [
    {
     "data": {
      "application/vnd.plotly.v1+json": {
       "config": {
        "plotlyServerURL": "https://plot.ly"
       },
       "data": [
        {
         "mode": "markers",
         "name": "Objective Value",
         "type": "scatter",
         "x": [
          0,
          1,
          2,
          3,
          4,
          5,
          6,
          7,
          8,
          9,
          10,
          11,
          12,
          13,
          14,
          15,
          16,
          17,
          18,
          19,
          20,
          21,
          22,
          23,
          24,
          25,
          26,
          27,
          28,
          29,
          30,
          31,
          32,
          33,
          34,
          35,
          36,
          37,
          38,
          39,
          40,
          41,
          42,
          43,
          44,
          45,
          46,
          47,
          48,
          49
         ],
         "y": [
          46552.383831891326,
          3336.4196327371255,
          3706.039267391994,
          4131.76614745732,
          3489.6549930380925,
          3415.544207810291,
          4925.435748534544,
          6564.919052651951,
          5246.812061523569,
          3798.0212612833297,
          3349.748554655484,
          3371.9223365017347,
          3306.2597261071205,
          3453.1559153260855,
          3263.4619164807455,
          3576.7766442980087,
          3401.771777536188,
          3405.963493692464,
          3704.830049070819,
          3556.434988087621,
          3516.5604829703057,
          4351.779195234693,
          3927.541852803066,
          3426.847984961101,
          3492.255094256894,
          3687.8168993160643,
          3907.520181230136,
          3519.8407663617813,
          3687.1446367502213,
          5235.407493672201,
          3498.6686527112433,
          3151.9427515098027,
          3538.2616152763367,
          3316.5824696606605,
          3477.783685684204,
          3472.724191359111,
          3320.5716278042114,
          3437.832703930991,
          3634.091488690212,
          3427.3769072209084,
          3236.2340678402356,
          3432.9287771156855,
          3344.1438929055416,
          3301.540789774486,
          3489.3998483760015,
          3378.310782977513,
          3303.328186546053,
          3254.9262791190827,
          3412.978374012879,
          3329.561848487173
         ]
        },
        {
         "mode": "lines",
         "name": "Best Value",
         "type": "scatter",
         "x": [
          0,
          1,
          2,
          3,
          4,
          5,
          6,
          7,
          8,
          9,
          10,
          11,
          12,
          13,
          14,
          15,
          16,
          17,
          18,
          19,
          20,
          21,
          22,
          23,
          24,
          25,
          26,
          27,
          28,
          29,
          30,
          31,
          32,
          33,
          34,
          35,
          36,
          37,
          38,
          39,
          40,
          41,
          42,
          43,
          44,
          45,
          46,
          47,
          48,
          49
         ],
         "y": [
          46552.383831891326,
          3336.4196327371255,
          3336.4196327371255,
          3336.4196327371255,
          3336.4196327371255,
          3336.4196327371255,
          3336.4196327371255,
          3336.4196327371255,
          3336.4196327371255,
          3336.4196327371255,
          3336.4196327371255,
          3336.4196327371255,
          3306.2597261071205,
          3306.2597261071205,
          3263.4619164807455,
          3263.4619164807455,
          3263.4619164807455,
          3263.4619164807455,
          3263.4619164807455,
          3263.4619164807455,
          3263.4619164807455,
          3263.4619164807455,
          3263.4619164807455,
          3263.4619164807455,
          3263.4619164807455,
          3263.4619164807455,
          3263.4619164807455,
          3263.4619164807455,
          3263.4619164807455,
          3263.4619164807455,
          3263.4619164807455,
          3151.9427515098027,
          3151.9427515098027,
          3151.9427515098027,
          3151.9427515098027,
          3151.9427515098027,
          3151.9427515098027,
          3151.9427515098027,
          3151.9427515098027,
          3151.9427515098027,
          3151.9427515098027,
          3151.9427515098027,
          3151.9427515098027,
          3151.9427515098027,
          3151.9427515098027,
          3151.9427515098027,
          3151.9427515098027,
          3151.9427515098027,
          3151.9427515098027,
          3151.9427515098027
         ]
        },
        {
         "marker": {
          "color": "#cccccc"
         },
         "mode": "markers",
         "name": "Infeasible Trial",
         "showlegend": false,
         "type": "scatter",
         "x": [],
         "y": []
        }
       ],
       "layout": {
        "template": {
         "data": {
          "bar": [
           {
            "error_x": {
             "color": "#2a3f5f"
            },
            "error_y": {
             "color": "#2a3f5f"
            },
            "marker": {
             "line": {
              "color": "#E5ECF6",
              "width": 0.5
             },
             "pattern": {
              "fillmode": "overlay",
              "size": 10,
              "solidity": 0.2
             }
            },
            "type": "bar"
           }
          ],
          "barpolar": [
           {
            "marker": {
             "line": {
              "color": "#E5ECF6",
              "width": 0.5
             },
             "pattern": {
              "fillmode": "overlay",
              "size": 10,
              "solidity": 0.2
             }
            },
            "type": "barpolar"
           }
          ],
          "carpet": [
           {
            "aaxis": {
             "endlinecolor": "#2a3f5f",
             "gridcolor": "white",
             "linecolor": "white",
             "minorgridcolor": "white",
             "startlinecolor": "#2a3f5f"
            },
            "baxis": {
             "endlinecolor": "#2a3f5f",
             "gridcolor": "white",
             "linecolor": "white",
             "minorgridcolor": "white",
             "startlinecolor": "#2a3f5f"
            },
            "type": "carpet"
           }
          ],
          "choropleth": [
           {
            "colorbar": {
             "outlinewidth": 0,
             "ticks": ""
            },
            "type": "choropleth"
           }
          ],
          "contour": [
           {
            "colorbar": {
             "outlinewidth": 0,
             "ticks": ""
            },
            "colorscale": [
             [
              0,
              "#0d0887"
             ],
             [
              0.1111111111111111,
              "#46039f"
             ],
             [
              0.2222222222222222,
              "#7201a8"
             ],
             [
              0.3333333333333333,
              "#9c179e"
             ],
             [
              0.4444444444444444,
              "#bd3786"
             ],
             [
              0.5555555555555556,
              "#d8576b"
             ],
             [
              0.6666666666666666,
              "#ed7953"
             ],
             [
              0.7777777777777778,
              "#fb9f3a"
             ],
             [
              0.8888888888888888,
              "#fdca26"
             ],
             [
              1,
              "#f0f921"
             ]
            ],
            "type": "contour"
           }
          ],
          "contourcarpet": [
           {
            "colorbar": {
             "outlinewidth": 0,
             "ticks": ""
            },
            "type": "contourcarpet"
           }
          ],
          "heatmap": [
           {
            "colorbar": {
             "outlinewidth": 0,
             "ticks": ""
            },
            "colorscale": [
             [
              0,
              "#0d0887"
             ],
             [
              0.1111111111111111,
              "#46039f"
             ],
             [
              0.2222222222222222,
              "#7201a8"
             ],
             [
              0.3333333333333333,
              "#9c179e"
             ],
             [
              0.4444444444444444,
              "#bd3786"
             ],
             [
              0.5555555555555556,
              "#d8576b"
             ],
             [
              0.6666666666666666,
              "#ed7953"
             ],
             [
              0.7777777777777778,
              "#fb9f3a"
             ],
             [
              0.8888888888888888,
              "#fdca26"
             ],
             [
              1,
              "#f0f921"
             ]
            ],
            "type": "heatmap"
           }
          ],
          "heatmapgl": [
           {
            "colorbar": {
             "outlinewidth": 0,
             "ticks": ""
            },
            "colorscale": [
             [
              0,
              "#0d0887"
             ],
             [
              0.1111111111111111,
              "#46039f"
             ],
             [
              0.2222222222222222,
              "#7201a8"
             ],
             [
              0.3333333333333333,
              "#9c179e"
             ],
             [
              0.4444444444444444,
              "#bd3786"
             ],
             [
              0.5555555555555556,
              "#d8576b"
             ],
             [
              0.6666666666666666,
              "#ed7953"
             ],
             [
              0.7777777777777778,
              "#fb9f3a"
             ],
             [
              0.8888888888888888,
              "#fdca26"
             ],
             [
              1,
              "#f0f921"
             ]
            ],
            "type": "heatmapgl"
           }
          ],
          "histogram": [
           {
            "marker": {
             "pattern": {
              "fillmode": "overlay",
              "size": 10,
              "solidity": 0.2
             }
            },
            "type": "histogram"
           }
          ],
          "histogram2d": [
           {
            "colorbar": {
             "outlinewidth": 0,
             "ticks": ""
            },
            "colorscale": [
             [
              0,
              "#0d0887"
             ],
             [
              0.1111111111111111,
              "#46039f"
             ],
             [
              0.2222222222222222,
              "#7201a8"
             ],
             [
              0.3333333333333333,
              "#9c179e"
             ],
             [
              0.4444444444444444,
              "#bd3786"
             ],
             [
              0.5555555555555556,
              "#d8576b"
             ],
             [
              0.6666666666666666,
              "#ed7953"
             ],
             [
              0.7777777777777778,
              "#fb9f3a"
             ],
             [
              0.8888888888888888,
              "#fdca26"
             ],
             [
              1,
              "#f0f921"
             ]
            ],
            "type": "histogram2d"
           }
          ],
          "histogram2dcontour": [
           {
            "colorbar": {
             "outlinewidth": 0,
             "ticks": ""
            },
            "colorscale": [
             [
              0,
              "#0d0887"
             ],
             [
              0.1111111111111111,
              "#46039f"
             ],
             [
              0.2222222222222222,
              "#7201a8"
             ],
             [
              0.3333333333333333,
              "#9c179e"
             ],
             [
              0.4444444444444444,
              "#bd3786"
             ],
             [
              0.5555555555555556,
              "#d8576b"
             ],
             [
              0.6666666666666666,
              "#ed7953"
             ],
             [
              0.7777777777777778,
              "#fb9f3a"
             ],
             [
              0.8888888888888888,
              "#fdca26"
             ],
             [
              1,
              "#f0f921"
             ]
            ],
            "type": "histogram2dcontour"
           }
          ],
          "mesh3d": [
           {
            "colorbar": {
             "outlinewidth": 0,
             "ticks": ""
            },
            "type": "mesh3d"
           }
          ],
          "parcoords": [
           {
            "line": {
             "colorbar": {
              "outlinewidth": 0,
              "ticks": ""
             }
            },
            "type": "parcoords"
           }
          ],
          "pie": [
           {
            "automargin": true,
            "type": "pie"
           }
          ],
          "scatter": [
           {
            "fillpattern": {
             "fillmode": "overlay",
             "size": 10,
             "solidity": 0.2
            },
            "type": "scatter"
           }
          ],
          "scatter3d": [
           {
            "line": {
             "colorbar": {
              "outlinewidth": 0,
              "ticks": ""
             }
            },
            "marker": {
             "colorbar": {
              "outlinewidth": 0,
              "ticks": ""
             }
            },
            "type": "scatter3d"
           }
          ],
          "scattercarpet": [
           {
            "marker": {
             "colorbar": {
              "outlinewidth": 0,
              "ticks": ""
             }
            },
            "type": "scattercarpet"
           }
          ],
          "scattergeo": [
           {
            "marker": {
             "colorbar": {
              "outlinewidth": 0,
              "ticks": ""
             }
            },
            "type": "scattergeo"
           }
          ],
          "scattergl": [
           {
            "marker": {
             "colorbar": {
              "outlinewidth": 0,
              "ticks": ""
             }
            },
            "type": "scattergl"
           }
          ],
          "scattermapbox": [
           {
            "marker": {
             "colorbar": {
              "outlinewidth": 0,
              "ticks": ""
             }
            },
            "type": "scattermapbox"
           }
          ],
          "scatterpolar": [
           {
            "marker": {
             "colorbar": {
              "outlinewidth": 0,
              "ticks": ""
             }
            },
            "type": "scatterpolar"
           }
          ],
          "scatterpolargl": [
           {
            "marker": {
             "colorbar": {
              "outlinewidth": 0,
              "ticks": ""
             }
            },
            "type": "scatterpolargl"
           }
          ],
          "scatterternary": [
           {
            "marker": {
             "colorbar": {
              "outlinewidth": 0,
              "ticks": ""
             }
            },
            "type": "scatterternary"
           }
          ],
          "surface": [
           {
            "colorbar": {
             "outlinewidth": 0,
             "ticks": ""
            },
            "colorscale": [
             [
              0,
              "#0d0887"
             ],
             [
              0.1111111111111111,
              "#46039f"
             ],
             [
              0.2222222222222222,
              "#7201a8"
             ],
             [
              0.3333333333333333,
              "#9c179e"
             ],
             [
              0.4444444444444444,
              "#bd3786"
             ],
             [
              0.5555555555555556,
              "#d8576b"
             ],
             [
              0.6666666666666666,
              "#ed7953"
             ],
             [
              0.7777777777777778,
              "#fb9f3a"
             ],
             [
              0.8888888888888888,
              "#fdca26"
             ],
             [
              1,
              "#f0f921"
             ]
            ],
            "type": "surface"
           }
          ],
          "table": [
           {
            "cells": {
             "fill": {
              "color": "#EBF0F8"
             },
             "line": {
              "color": "white"
             }
            },
            "header": {
             "fill": {
              "color": "#C8D4E3"
             },
             "line": {
              "color": "white"
             }
            },
            "type": "table"
           }
          ]
         },
         "layout": {
          "annotationdefaults": {
           "arrowcolor": "#2a3f5f",
           "arrowhead": 0,
           "arrowwidth": 1
          },
          "autotypenumbers": "strict",
          "coloraxis": {
           "colorbar": {
            "outlinewidth": 0,
            "ticks": ""
           }
          },
          "colorscale": {
           "diverging": [
            [
             0,
             "#8e0152"
            ],
            [
             0.1,
             "#c51b7d"
            ],
            [
             0.2,
             "#de77ae"
            ],
            [
             0.3,
             "#f1b6da"
            ],
            [
             0.4,
             "#fde0ef"
            ],
            [
             0.5,
             "#f7f7f7"
            ],
            [
             0.6,
             "#e6f5d0"
            ],
            [
             0.7,
             "#b8e186"
            ],
            [
             0.8,
             "#7fbc41"
            ],
            [
             0.9,
             "#4d9221"
            ],
            [
             1,
             "#276419"
            ]
           ],
           "sequential": [
            [
             0,
             "#0d0887"
            ],
            [
             0.1111111111111111,
             "#46039f"
            ],
            [
             0.2222222222222222,
             "#7201a8"
            ],
            [
             0.3333333333333333,
             "#9c179e"
            ],
            [
             0.4444444444444444,
             "#bd3786"
            ],
            [
             0.5555555555555556,
             "#d8576b"
            ],
            [
             0.6666666666666666,
             "#ed7953"
            ],
            [
             0.7777777777777778,
             "#fb9f3a"
            ],
            [
             0.8888888888888888,
             "#fdca26"
            ],
            [
             1,
             "#f0f921"
            ]
           ],
           "sequentialminus": [
            [
             0,
             "#0d0887"
            ],
            [
             0.1111111111111111,
             "#46039f"
            ],
            [
             0.2222222222222222,
             "#7201a8"
            ],
            [
             0.3333333333333333,
             "#9c179e"
            ],
            [
             0.4444444444444444,
             "#bd3786"
            ],
            [
             0.5555555555555556,
             "#d8576b"
            ],
            [
             0.6666666666666666,
             "#ed7953"
            ],
            [
             0.7777777777777778,
             "#fb9f3a"
            ],
            [
             0.8888888888888888,
             "#fdca26"
            ],
            [
             1,
             "#f0f921"
            ]
           ]
          },
          "colorway": [
           "#636efa",
           "#EF553B",
           "#00cc96",
           "#ab63fa",
           "#FFA15A",
           "#19d3f3",
           "#FF6692",
           "#B6E880",
           "#FF97FF",
           "#FECB52"
          ],
          "font": {
           "color": "#2a3f5f"
          },
          "geo": {
           "bgcolor": "white",
           "lakecolor": "white",
           "landcolor": "#E5ECF6",
           "showlakes": true,
           "showland": true,
           "subunitcolor": "white"
          },
          "hoverlabel": {
           "align": "left"
          },
          "hovermode": "closest",
          "mapbox": {
           "style": "light"
          },
          "paper_bgcolor": "white",
          "plot_bgcolor": "#E5ECF6",
          "polar": {
           "angularaxis": {
            "gridcolor": "white",
            "linecolor": "white",
            "ticks": ""
           },
           "bgcolor": "#E5ECF6",
           "radialaxis": {
            "gridcolor": "white",
            "linecolor": "white",
            "ticks": ""
           }
          },
          "scene": {
           "xaxis": {
            "backgroundcolor": "#E5ECF6",
            "gridcolor": "white",
            "gridwidth": 2,
            "linecolor": "white",
            "showbackground": true,
            "ticks": "",
            "zerolinecolor": "white"
           },
           "yaxis": {
            "backgroundcolor": "#E5ECF6",
            "gridcolor": "white",
            "gridwidth": 2,
            "linecolor": "white",
            "showbackground": true,
            "ticks": "",
            "zerolinecolor": "white"
           },
           "zaxis": {
            "backgroundcolor": "#E5ECF6",
            "gridcolor": "white",
            "gridwidth": 2,
            "linecolor": "white",
            "showbackground": true,
            "ticks": "",
            "zerolinecolor": "white"
           }
          },
          "shapedefaults": {
           "line": {
            "color": "#2a3f5f"
           }
          },
          "ternary": {
           "aaxis": {
            "gridcolor": "white",
            "linecolor": "white",
            "ticks": ""
           },
           "baxis": {
            "gridcolor": "white",
            "linecolor": "white",
            "ticks": ""
           },
           "bgcolor": "#E5ECF6",
           "caxis": {
            "gridcolor": "white",
            "linecolor": "white",
            "ticks": ""
           }
          },
          "title": {
           "x": 0.05
          },
          "xaxis": {
           "automargin": true,
           "gridcolor": "white",
           "linecolor": "white",
           "ticks": "",
           "title": {
            "standoff": 15
           },
           "zerolinecolor": "white",
           "zerolinewidth": 2
          },
          "yaxis": {
           "automargin": true,
           "gridcolor": "white",
           "linecolor": "white",
           "ticks": "",
           "title": {
            "standoff": 15
           },
           "zerolinecolor": "white",
           "zerolinewidth": 2
          }
         }
        },
        "title": {
         "text": "Optimization History Plot"
        },
        "xaxis": {
         "title": {
          "text": "Trial"
         }
        },
        "yaxis": {
         "title": {
          "text": "Objective Value"
         }
        }
       }
      }
     },
     "metadata": {},
     "output_type": "display_data"
    }
   ],
   "source": [
    "plot_optimization_history(study_xgb)"
   ]
  },
  {
   "cell_type": "code",
   "execution_count": 34,
   "metadata": {},
   "outputs": [
    {
     "data": {
      "application/vnd.plotly.v1+json": {
       "config": {
        "plotlyServerURL": "https://plot.ly"
       },
       "data": [
        {
         "cliponaxis": false,
         "hovertemplate": [
          "n_estimators (CategoricalDistribution): 0.0<extra></extra>",
          "lambda_l1 (IntDistribution): 0.00042054319552594055<extra></extra>",
          "min_gain_to_split (FloatDistribution): 0.0004220692054016453<extra></extra>",
          "learning_rate (FloatDistribution): 0.000475616770051613<extra></extra>",
          "min_child_weigth (IntDistribution): 0.000492149769394515<extra></extra>",
          "colsample_bytree (FloatDistribution): 0.0007524531970761279<extra></extra>",
          "lambda_l2 (IntDistribution): 0.0008537437940923169<extra></extra>",
          "colsample_bylevel (FloatDistribution): 0.002060383985063219<extra></extra>",
          "scale_pos_weight (FloatDistribution): 0.009957474956887449<extra></extra>",
          "num_leaves (IntDistribution): 0.021245294019124738<extra></extra>",
          "max_depth (IntDistribution): 0.21207528094600936<extra></extra>",
          "subsample (FloatDistribution): 0.7512449901613728<extra></extra>"
         ],
         "name": "Objective Value",
         "orientation": "h",
         "text": [
          "<0.01",
          "<0.01",
          "<0.01",
          "<0.01",
          "<0.01",
          "<0.01",
          "<0.01",
          "<0.01",
          "<0.01",
          "0.02",
          "0.21",
          "0.75"
         ],
         "textposition": "outside",
         "type": "bar",
         "x": [
          0,
          0.00042054319552594055,
          0.0004220692054016453,
          0.000475616770051613,
          0.000492149769394515,
          0.0007524531970761279,
          0.0008537437940923169,
          0.002060383985063219,
          0.009957474956887449,
          0.021245294019124738,
          0.21207528094600936,
          0.7512449901613728
         ],
         "y": [
          "n_estimators",
          "lambda_l1",
          "min_gain_to_split",
          "learning_rate",
          "min_child_weigth",
          "colsample_bytree",
          "lambda_l2",
          "colsample_bylevel",
          "scale_pos_weight",
          "num_leaves",
          "max_depth",
          "subsample"
         ]
        }
       ],
       "layout": {
        "template": {
         "data": {
          "bar": [
           {
            "error_x": {
             "color": "#2a3f5f"
            },
            "error_y": {
             "color": "#2a3f5f"
            },
            "marker": {
             "line": {
              "color": "#E5ECF6",
              "width": 0.5
             },
             "pattern": {
              "fillmode": "overlay",
              "size": 10,
              "solidity": 0.2
             }
            },
            "type": "bar"
           }
          ],
          "barpolar": [
           {
            "marker": {
             "line": {
              "color": "#E5ECF6",
              "width": 0.5
             },
             "pattern": {
              "fillmode": "overlay",
              "size": 10,
              "solidity": 0.2
             }
            },
            "type": "barpolar"
           }
          ],
          "carpet": [
           {
            "aaxis": {
             "endlinecolor": "#2a3f5f",
             "gridcolor": "white",
             "linecolor": "white",
             "minorgridcolor": "white",
             "startlinecolor": "#2a3f5f"
            },
            "baxis": {
             "endlinecolor": "#2a3f5f",
             "gridcolor": "white",
             "linecolor": "white",
             "minorgridcolor": "white",
             "startlinecolor": "#2a3f5f"
            },
            "type": "carpet"
           }
          ],
          "choropleth": [
           {
            "colorbar": {
             "outlinewidth": 0,
             "ticks": ""
            },
            "type": "choropleth"
           }
          ],
          "contour": [
           {
            "colorbar": {
             "outlinewidth": 0,
             "ticks": ""
            },
            "colorscale": [
             [
              0,
              "#0d0887"
             ],
             [
              0.1111111111111111,
              "#46039f"
             ],
             [
              0.2222222222222222,
              "#7201a8"
             ],
             [
              0.3333333333333333,
              "#9c179e"
             ],
             [
              0.4444444444444444,
              "#bd3786"
             ],
             [
              0.5555555555555556,
              "#d8576b"
             ],
             [
              0.6666666666666666,
              "#ed7953"
             ],
             [
              0.7777777777777778,
              "#fb9f3a"
             ],
             [
              0.8888888888888888,
              "#fdca26"
             ],
             [
              1,
              "#f0f921"
             ]
            ],
            "type": "contour"
           }
          ],
          "contourcarpet": [
           {
            "colorbar": {
             "outlinewidth": 0,
             "ticks": ""
            },
            "type": "contourcarpet"
           }
          ],
          "heatmap": [
           {
            "colorbar": {
             "outlinewidth": 0,
             "ticks": ""
            },
            "colorscale": [
             [
              0,
              "#0d0887"
             ],
             [
              0.1111111111111111,
              "#46039f"
             ],
             [
              0.2222222222222222,
              "#7201a8"
             ],
             [
              0.3333333333333333,
              "#9c179e"
             ],
             [
              0.4444444444444444,
              "#bd3786"
             ],
             [
              0.5555555555555556,
              "#d8576b"
             ],
             [
              0.6666666666666666,
              "#ed7953"
             ],
             [
              0.7777777777777778,
              "#fb9f3a"
             ],
             [
              0.8888888888888888,
              "#fdca26"
             ],
             [
              1,
              "#f0f921"
             ]
            ],
            "type": "heatmap"
           }
          ],
          "heatmapgl": [
           {
            "colorbar": {
             "outlinewidth": 0,
             "ticks": ""
            },
            "colorscale": [
             [
              0,
              "#0d0887"
             ],
             [
              0.1111111111111111,
              "#46039f"
             ],
             [
              0.2222222222222222,
              "#7201a8"
             ],
             [
              0.3333333333333333,
              "#9c179e"
             ],
             [
              0.4444444444444444,
              "#bd3786"
             ],
             [
              0.5555555555555556,
              "#d8576b"
             ],
             [
              0.6666666666666666,
              "#ed7953"
             ],
             [
              0.7777777777777778,
              "#fb9f3a"
             ],
             [
              0.8888888888888888,
              "#fdca26"
             ],
             [
              1,
              "#f0f921"
             ]
            ],
            "type": "heatmapgl"
           }
          ],
          "histogram": [
           {
            "marker": {
             "pattern": {
              "fillmode": "overlay",
              "size": 10,
              "solidity": 0.2
             }
            },
            "type": "histogram"
           }
          ],
          "histogram2d": [
           {
            "colorbar": {
             "outlinewidth": 0,
             "ticks": ""
            },
            "colorscale": [
             [
              0,
              "#0d0887"
             ],
             [
              0.1111111111111111,
              "#46039f"
             ],
             [
              0.2222222222222222,
              "#7201a8"
             ],
             [
              0.3333333333333333,
              "#9c179e"
             ],
             [
              0.4444444444444444,
              "#bd3786"
             ],
             [
              0.5555555555555556,
              "#d8576b"
             ],
             [
              0.6666666666666666,
              "#ed7953"
             ],
             [
              0.7777777777777778,
              "#fb9f3a"
             ],
             [
              0.8888888888888888,
              "#fdca26"
             ],
             [
              1,
              "#f0f921"
             ]
            ],
            "type": "histogram2d"
           }
          ],
          "histogram2dcontour": [
           {
            "colorbar": {
             "outlinewidth": 0,
             "ticks": ""
            },
            "colorscale": [
             [
              0,
              "#0d0887"
             ],
             [
              0.1111111111111111,
              "#46039f"
             ],
             [
              0.2222222222222222,
              "#7201a8"
             ],
             [
              0.3333333333333333,
              "#9c179e"
             ],
             [
              0.4444444444444444,
              "#bd3786"
             ],
             [
              0.5555555555555556,
              "#d8576b"
             ],
             [
              0.6666666666666666,
              "#ed7953"
             ],
             [
              0.7777777777777778,
              "#fb9f3a"
             ],
             [
              0.8888888888888888,
              "#fdca26"
             ],
             [
              1,
              "#f0f921"
             ]
            ],
            "type": "histogram2dcontour"
           }
          ],
          "mesh3d": [
           {
            "colorbar": {
             "outlinewidth": 0,
             "ticks": ""
            },
            "type": "mesh3d"
           }
          ],
          "parcoords": [
           {
            "line": {
             "colorbar": {
              "outlinewidth": 0,
              "ticks": ""
             }
            },
            "type": "parcoords"
           }
          ],
          "pie": [
           {
            "automargin": true,
            "type": "pie"
           }
          ],
          "scatter": [
           {
            "fillpattern": {
             "fillmode": "overlay",
             "size": 10,
             "solidity": 0.2
            },
            "type": "scatter"
           }
          ],
          "scatter3d": [
           {
            "line": {
             "colorbar": {
              "outlinewidth": 0,
              "ticks": ""
             }
            },
            "marker": {
             "colorbar": {
              "outlinewidth": 0,
              "ticks": ""
             }
            },
            "type": "scatter3d"
           }
          ],
          "scattercarpet": [
           {
            "marker": {
             "colorbar": {
              "outlinewidth": 0,
              "ticks": ""
             }
            },
            "type": "scattercarpet"
           }
          ],
          "scattergeo": [
           {
            "marker": {
             "colorbar": {
              "outlinewidth": 0,
              "ticks": ""
             }
            },
            "type": "scattergeo"
           }
          ],
          "scattergl": [
           {
            "marker": {
             "colorbar": {
              "outlinewidth": 0,
              "ticks": ""
             }
            },
            "type": "scattergl"
           }
          ],
          "scattermapbox": [
           {
            "marker": {
             "colorbar": {
              "outlinewidth": 0,
              "ticks": ""
             }
            },
            "type": "scattermapbox"
           }
          ],
          "scatterpolar": [
           {
            "marker": {
             "colorbar": {
              "outlinewidth": 0,
              "ticks": ""
             }
            },
            "type": "scatterpolar"
           }
          ],
          "scatterpolargl": [
           {
            "marker": {
             "colorbar": {
              "outlinewidth": 0,
              "ticks": ""
             }
            },
            "type": "scatterpolargl"
           }
          ],
          "scatterternary": [
           {
            "marker": {
             "colorbar": {
              "outlinewidth": 0,
              "ticks": ""
             }
            },
            "type": "scatterternary"
           }
          ],
          "surface": [
           {
            "colorbar": {
             "outlinewidth": 0,
             "ticks": ""
            },
            "colorscale": [
             [
              0,
              "#0d0887"
             ],
             [
              0.1111111111111111,
              "#46039f"
             ],
             [
              0.2222222222222222,
              "#7201a8"
             ],
             [
              0.3333333333333333,
              "#9c179e"
             ],
             [
              0.4444444444444444,
              "#bd3786"
             ],
             [
              0.5555555555555556,
              "#d8576b"
             ],
             [
              0.6666666666666666,
              "#ed7953"
             ],
             [
              0.7777777777777778,
              "#fb9f3a"
             ],
             [
              0.8888888888888888,
              "#fdca26"
             ],
             [
              1,
              "#f0f921"
             ]
            ],
            "type": "surface"
           }
          ],
          "table": [
           {
            "cells": {
             "fill": {
              "color": "#EBF0F8"
             },
             "line": {
              "color": "white"
             }
            },
            "header": {
             "fill": {
              "color": "#C8D4E3"
             },
             "line": {
              "color": "white"
             }
            },
            "type": "table"
           }
          ]
         },
         "layout": {
          "annotationdefaults": {
           "arrowcolor": "#2a3f5f",
           "arrowhead": 0,
           "arrowwidth": 1
          },
          "autotypenumbers": "strict",
          "coloraxis": {
           "colorbar": {
            "outlinewidth": 0,
            "ticks": ""
           }
          },
          "colorscale": {
           "diverging": [
            [
             0,
             "#8e0152"
            ],
            [
             0.1,
             "#c51b7d"
            ],
            [
             0.2,
             "#de77ae"
            ],
            [
             0.3,
             "#f1b6da"
            ],
            [
             0.4,
             "#fde0ef"
            ],
            [
             0.5,
             "#f7f7f7"
            ],
            [
             0.6,
             "#e6f5d0"
            ],
            [
             0.7,
             "#b8e186"
            ],
            [
             0.8,
             "#7fbc41"
            ],
            [
             0.9,
             "#4d9221"
            ],
            [
             1,
             "#276419"
            ]
           ],
           "sequential": [
            [
             0,
             "#0d0887"
            ],
            [
             0.1111111111111111,
             "#46039f"
            ],
            [
             0.2222222222222222,
             "#7201a8"
            ],
            [
             0.3333333333333333,
             "#9c179e"
            ],
            [
             0.4444444444444444,
             "#bd3786"
            ],
            [
             0.5555555555555556,
             "#d8576b"
            ],
            [
             0.6666666666666666,
             "#ed7953"
            ],
            [
             0.7777777777777778,
             "#fb9f3a"
            ],
            [
             0.8888888888888888,
             "#fdca26"
            ],
            [
             1,
             "#f0f921"
            ]
           ],
           "sequentialminus": [
            [
             0,
             "#0d0887"
            ],
            [
             0.1111111111111111,
             "#46039f"
            ],
            [
             0.2222222222222222,
             "#7201a8"
            ],
            [
             0.3333333333333333,
             "#9c179e"
            ],
            [
             0.4444444444444444,
             "#bd3786"
            ],
            [
             0.5555555555555556,
             "#d8576b"
            ],
            [
             0.6666666666666666,
             "#ed7953"
            ],
            [
             0.7777777777777778,
             "#fb9f3a"
            ],
            [
             0.8888888888888888,
             "#fdca26"
            ],
            [
             1,
             "#f0f921"
            ]
           ]
          },
          "colorway": [
           "#636efa",
           "#EF553B",
           "#00cc96",
           "#ab63fa",
           "#FFA15A",
           "#19d3f3",
           "#FF6692",
           "#B6E880",
           "#FF97FF",
           "#FECB52"
          ],
          "font": {
           "color": "#2a3f5f"
          },
          "geo": {
           "bgcolor": "white",
           "lakecolor": "white",
           "landcolor": "#E5ECF6",
           "showlakes": true,
           "showland": true,
           "subunitcolor": "white"
          },
          "hoverlabel": {
           "align": "left"
          },
          "hovermode": "closest",
          "mapbox": {
           "style": "light"
          },
          "paper_bgcolor": "white",
          "plot_bgcolor": "#E5ECF6",
          "polar": {
           "angularaxis": {
            "gridcolor": "white",
            "linecolor": "white",
            "ticks": ""
           },
           "bgcolor": "#E5ECF6",
           "radialaxis": {
            "gridcolor": "white",
            "linecolor": "white",
            "ticks": ""
           }
          },
          "scene": {
           "xaxis": {
            "backgroundcolor": "#E5ECF6",
            "gridcolor": "white",
            "gridwidth": 2,
            "linecolor": "white",
            "showbackground": true,
            "ticks": "",
            "zerolinecolor": "white"
           },
           "yaxis": {
            "backgroundcolor": "#E5ECF6",
            "gridcolor": "white",
            "gridwidth": 2,
            "linecolor": "white",
            "showbackground": true,
            "ticks": "",
            "zerolinecolor": "white"
           },
           "zaxis": {
            "backgroundcolor": "#E5ECF6",
            "gridcolor": "white",
            "gridwidth": 2,
            "linecolor": "white",
            "showbackground": true,
            "ticks": "",
            "zerolinecolor": "white"
           }
          },
          "shapedefaults": {
           "line": {
            "color": "#2a3f5f"
           }
          },
          "ternary": {
           "aaxis": {
            "gridcolor": "white",
            "linecolor": "white",
            "ticks": ""
           },
           "baxis": {
            "gridcolor": "white",
            "linecolor": "white",
            "ticks": ""
           },
           "bgcolor": "#E5ECF6",
           "caxis": {
            "gridcolor": "white",
            "linecolor": "white",
            "ticks": ""
           }
          },
          "title": {
           "x": 0.05
          },
          "xaxis": {
           "automargin": true,
           "gridcolor": "white",
           "linecolor": "white",
           "ticks": "",
           "title": {
            "standoff": 15
           },
           "zerolinecolor": "white",
           "zerolinewidth": 2
          },
          "yaxis": {
           "automargin": true,
           "gridcolor": "white",
           "linecolor": "white",
           "ticks": "",
           "title": {
            "standoff": 15
           },
           "zerolinecolor": "white",
           "zerolinewidth": 2
          }
         }
        },
        "title": {
         "text": "Hyperparameter Importances"
        },
        "xaxis": {
         "title": {
          "text": "Hyperparameter Importance"
         }
        },
        "yaxis": {
         "title": {
          "text": "Hyperparameter"
         }
        }
       }
      }
     },
     "metadata": {},
     "output_type": "display_data"
    }
   ],
   "source": [
    "plot_param_importances(study_xgb)"
   ]
  },
  {
   "cell_type": "code",
   "execution_count": 35,
   "metadata": {},
   "outputs": [
    {
     "data": {
      "text/plain": [
       "{'n_estimators': 1000,\n",
       " 'learning_rate': 0.01325764689971859,\n",
       " 'min_child_weigth': 10,\n",
       " 'max_depth': 32,\n",
       " 'subsample': 0.6041796412576702,\n",
       " 'colsample_bytree': 0.8445812301185116,\n",
       " 'colsample_bylevel': 0.6893451676758633,\n",
       " 'num_leaves': 25576,\n",
       " 'lambda_l2': 42,\n",
       " 'lambda_l1': 67,\n",
       " 'min_gain_to_split': 0.009054274582836606,\n",
       " 'scale_pos_weight': 483.0526300092115}"
      ]
     },
     "execution_count": 35,
     "metadata": {},
     "output_type": "execute_result"
    }
   ],
   "source": [
    "study_xgb.best_params"
   ]
  },
  {
   "cell_type": "code",
   "execution_count": 36,
   "metadata": {},
   "outputs": [
    {
     "name": "stdout",
     "output_type": "stream",
     "text": [
      "[12:29:18] WARNING: /Users/runner/work/xgboost/xgboost/python-package/build/temp.macosx-11.0-arm64-cpython-38/xgboost/src/learner.cc:627: \n",
      "Parameters: { \"lambda_l1\", \"lambda_l2\", \"min_child_weigth\", \"min_gain_to_split\", \"num_leaves\", \"scale_pos_weight\" } might not be used.\n",
      "\n",
      "  This could be a false alarm, with some parameters getting used by language bindings but\n",
      "  then being mistakenly passed down to XGBoost core, or some parameter actually being used\n",
      "  but getting flagged wrongly here. Please open an issue if you find any such cases.\n",
      "\n",
      "\n",
      "[12:29:19] WARNING: /Users/runner/work/xgboost/xgboost/python-package/build/temp.macosx-11.0-arm64-cpython-38/xgboost/src/learner.cc:627: \n",
      "Parameters: { \"lambda_l1\", \"lambda_l2\", \"min_child_weigth\", \"min_gain_to_split\", \"num_leaves\", \"scale_pos_weight\" } might not be used.\n",
      "\n",
      "  This could be a false alarm, with some parameters getting used by language bindings but\n",
      "  then being mistakenly passed down to XGBoost core, or some parameter actually being used\n",
      "  but getting flagged wrongly here. Please open an issue if you find any such cases.\n",
      "\n",
      "\n",
      "[12:29:20] WARNING: /Users/runner/work/xgboost/xgboost/python-package/build/temp.macosx-11.0-arm64-cpython-38/xgboost/src/learner.cc:627: \n",
      "Parameters: { \"lambda_l1\", \"lambda_l2\", \"min_child_weigth\", \"min_gain_to_split\", \"num_leaves\", \"scale_pos_weight\" } might not be used.\n",
      "\n",
      "  This could be a false alarm, with some parameters getting used by language bindings but\n",
      "  then being mistakenly passed down to XGBoost core, or some parameter actually being used\n",
      "  but getting flagged wrongly here. Please open an issue if you find any such cases.\n",
      "\n",
      "\n"
     ]
    },
    {
     "data": {
      "text/plain": [
       "array([ -699.81444419, -3123.59235589, -5433.21269491])"
      ]
     },
     "execution_count": 36,
     "metadata": {},
     "output_type": "execute_result"
    }
   ],
   "source": [
    "poly = PolynomialFeatures(degree=2, include_bias=False)\n",
    "\n",
    "reg = xgboost.XGBRegressor(**study_xgb.best_params, objective=\"count:poisson\")\n",
    "\n",
    "poly_reg = Pipeline([\n",
    "        (\"poly\", poly),\n",
    "        (\"regressor\", reg)\n",
    "    ])\n",
    "\n",
    "cross_val_score(poly_reg, X_train, y_train, cv=3, scoring=\"neg_mean_absolute_error\")"
   ]
  },
  {
   "cell_type": "code",
   "execution_count": 38,
   "metadata": {},
   "outputs": [
    {
     "name": "stdout",
     "output_type": "stream",
     "text": [
      "[12:31:04] WARNING: /Users/runner/work/xgboost/xgboost/python-package/build/temp.macosx-11.0-arm64-cpython-38/xgboost/src/learner.cc:627: \n",
      "Parameters: { \"lambda_l1\", \"lambda_l2\", \"min_child_weigth\", \"min_gain_to_split\", \"num_leaves\", \"scale_pos_weight\" } might not be used.\n",
      "\n",
      "  This could be a false alarm, with some parameters getting used by language bindings but\n",
      "  then being mistakenly passed down to XGBoost core, or some parameter actually being used\n",
      "  but getting flagged wrongly here. Please open an issue if you find any such cases.\n",
      "\n",
      "\n"
     ]
    },
    {
     "data": {
      "application/vnd.plotly.v1+json": {
       "config": {
        "plotlyServerURL": "https://plot.ly"
       },
       "data": [
        {
         "hovertemplate": "y_pred=%{x}<br>y_true=%{y}<extra></extra>",
         "legendgroup": "",
         "marker": {
          "color": "#636efa",
          "symbol": "circle"
         },
         "mode": "markers",
         "name": "",
         "orientation": "v",
         "showlegend": false,
         "type": "scatter",
         "x": [
          72.3167953491211,
          0.7644750475883484,
          771.1599731445312,
          775.21142578125,
          834.6752319335938,
          3578.01953125,
          452.9608154296875,
          257.10797119140625,
          2741.994873046875,
          2431.8271484375,
          3221.6875,
          3308.596923828125,
          328.36993408203125,
          632.1602783203125,
          133.44273376464844,
          167.50083923339844,
          141.91839599609375,
          138.71278381347656,
          247.7194061279297,
          50.11296081542969,
          249.54803466796875,
          25.770769119262695,
          42.8586540222168,
          23.50420570373535,
          50.97020721435547
         ],
         "xaxis": "x",
         "y": [
          2756,
          1314,
          4305,
          2616,
          13389,
          16137,
          2306,
          1656,
          2306,
          1656,
          2306,
          1656,
          2306,
          1656,
          2481,
          1272,
          174,
          2760,
          2178,
          1604,
          1604,
          131,
          2715,
          2715,
          23
         ],
         "yaxis": "y"
        }
       ],
       "layout": {
        "legend": {
         "tracegroupgap": 0
        },
        "margin": {
         "t": 60
        },
        "template": {
         "data": {
          "bar": [
           {
            "error_x": {
             "color": "#2a3f5f"
            },
            "error_y": {
             "color": "#2a3f5f"
            },
            "marker": {
             "line": {
              "color": "#E5ECF6",
              "width": 0.5
             },
             "pattern": {
              "fillmode": "overlay",
              "size": 10,
              "solidity": 0.2
             }
            },
            "type": "bar"
           }
          ],
          "barpolar": [
           {
            "marker": {
             "line": {
              "color": "#E5ECF6",
              "width": 0.5
             },
             "pattern": {
              "fillmode": "overlay",
              "size": 10,
              "solidity": 0.2
             }
            },
            "type": "barpolar"
           }
          ],
          "carpet": [
           {
            "aaxis": {
             "endlinecolor": "#2a3f5f",
             "gridcolor": "white",
             "linecolor": "white",
             "minorgridcolor": "white",
             "startlinecolor": "#2a3f5f"
            },
            "baxis": {
             "endlinecolor": "#2a3f5f",
             "gridcolor": "white",
             "linecolor": "white",
             "minorgridcolor": "white",
             "startlinecolor": "#2a3f5f"
            },
            "type": "carpet"
           }
          ],
          "choropleth": [
           {
            "colorbar": {
             "outlinewidth": 0,
             "ticks": ""
            },
            "type": "choropleth"
           }
          ],
          "contour": [
           {
            "colorbar": {
             "outlinewidth": 0,
             "ticks": ""
            },
            "colorscale": [
             [
              0,
              "#0d0887"
             ],
             [
              0.1111111111111111,
              "#46039f"
             ],
             [
              0.2222222222222222,
              "#7201a8"
             ],
             [
              0.3333333333333333,
              "#9c179e"
             ],
             [
              0.4444444444444444,
              "#bd3786"
             ],
             [
              0.5555555555555556,
              "#d8576b"
             ],
             [
              0.6666666666666666,
              "#ed7953"
             ],
             [
              0.7777777777777778,
              "#fb9f3a"
             ],
             [
              0.8888888888888888,
              "#fdca26"
             ],
             [
              1,
              "#f0f921"
             ]
            ],
            "type": "contour"
           }
          ],
          "contourcarpet": [
           {
            "colorbar": {
             "outlinewidth": 0,
             "ticks": ""
            },
            "type": "contourcarpet"
           }
          ],
          "heatmap": [
           {
            "colorbar": {
             "outlinewidth": 0,
             "ticks": ""
            },
            "colorscale": [
             [
              0,
              "#0d0887"
             ],
             [
              0.1111111111111111,
              "#46039f"
             ],
             [
              0.2222222222222222,
              "#7201a8"
             ],
             [
              0.3333333333333333,
              "#9c179e"
             ],
             [
              0.4444444444444444,
              "#bd3786"
             ],
             [
              0.5555555555555556,
              "#d8576b"
             ],
             [
              0.6666666666666666,
              "#ed7953"
             ],
             [
              0.7777777777777778,
              "#fb9f3a"
             ],
             [
              0.8888888888888888,
              "#fdca26"
             ],
             [
              1,
              "#f0f921"
             ]
            ],
            "type": "heatmap"
           }
          ],
          "heatmapgl": [
           {
            "colorbar": {
             "outlinewidth": 0,
             "ticks": ""
            },
            "colorscale": [
             [
              0,
              "#0d0887"
             ],
             [
              0.1111111111111111,
              "#46039f"
             ],
             [
              0.2222222222222222,
              "#7201a8"
             ],
             [
              0.3333333333333333,
              "#9c179e"
             ],
             [
              0.4444444444444444,
              "#bd3786"
             ],
             [
              0.5555555555555556,
              "#d8576b"
             ],
             [
              0.6666666666666666,
              "#ed7953"
             ],
             [
              0.7777777777777778,
              "#fb9f3a"
             ],
             [
              0.8888888888888888,
              "#fdca26"
             ],
             [
              1,
              "#f0f921"
             ]
            ],
            "type": "heatmapgl"
           }
          ],
          "histogram": [
           {
            "marker": {
             "pattern": {
              "fillmode": "overlay",
              "size": 10,
              "solidity": 0.2
             }
            },
            "type": "histogram"
           }
          ],
          "histogram2d": [
           {
            "colorbar": {
             "outlinewidth": 0,
             "ticks": ""
            },
            "colorscale": [
             [
              0,
              "#0d0887"
             ],
             [
              0.1111111111111111,
              "#46039f"
             ],
             [
              0.2222222222222222,
              "#7201a8"
             ],
             [
              0.3333333333333333,
              "#9c179e"
             ],
             [
              0.4444444444444444,
              "#bd3786"
             ],
             [
              0.5555555555555556,
              "#d8576b"
             ],
             [
              0.6666666666666666,
              "#ed7953"
             ],
             [
              0.7777777777777778,
              "#fb9f3a"
             ],
             [
              0.8888888888888888,
              "#fdca26"
             ],
             [
              1,
              "#f0f921"
             ]
            ],
            "type": "histogram2d"
           }
          ],
          "histogram2dcontour": [
           {
            "colorbar": {
             "outlinewidth": 0,
             "ticks": ""
            },
            "colorscale": [
             [
              0,
              "#0d0887"
             ],
             [
              0.1111111111111111,
              "#46039f"
             ],
             [
              0.2222222222222222,
              "#7201a8"
             ],
             [
              0.3333333333333333,
              "#9c179e"
             ],
             [
              0.4444444444444444,
              "#bd3786"
             ],
             [
              0.5555555555555556,
              "#d8576b"
             ],
             [
              0.6666666666666666,
              "#ed7953"
             ],
             [
              0.7777777777777778,
              "#fb9f3a"
             ],
             [
              0.8888888888888888,
              "#fdca26"
             ],
             [
              1,
              "#f0f921"
             ]
            ],
            "type": "histogram2dcontour"
           }
          ],
          "mesh3d": [
           {
            "colorbar": {
             "outlinewidth": 0,
             "ticks": ""
            },
            "type": "mesh3d"
           }
          ],
          "parcoords": [
           {
            "line": {
             "colorbar": {
              "outlinewidth": 0,
              "ticks": ""
             }
            },
            "type": "parcoords"
           }
          ],
          "pie": [
           {
            "automargin": true,
            "type": "pie"
           }
          ],
          "scatter": [
           {
            "fillpattern": {
             "fillmode": "overlay",
             "size": 10,
             "solidity": 0.2
            },
            "type": "scatter"
           }
          ],
          "scatter3d": [
           {
            "line": {
             "colorbar": {
              "outlinewidth": 0,
              "ticks": ""
             }
            },
            "marker": {
             "colorbar": {
              "outlinewidth": 0,
              "ticks": ""
             }
            },
            "type": "scatter3d"
           }
          ],
          "scattercarpet": [
           {
            "marker": {
             "colorbar": {
              "outlinewidth": 0,
              "ticks": ""
             }
            },
            "type": "scattercarpet"
           }
          ],
          "scattergeo": [
           {
            "marker": {
             "colorbar": {
              "outlinewidth": 0,
              "ticks": ""
             }
            },
            "type": "scattergeo"
           }
          ],
          "scattergl": [
           {
            "marker": {
             "colorbar": {
              "outlinewidth": 0,
              "ticks": ""
             }
            },
            "type": "scattergl"
           }
          ],
          "scattermapbox": [
           {
            "marker": {
             "colorbar": {
              "outlinewidth": 0,
              "ticks": ""
             }
            },
            "type": "scattermapbox"
           }
          ],
          "scatterpolar": [
           {
            "marker": {
             "colorbar": {
              "outlinewidth": 0,
              "ticks": ""
             }
            },
            "type": "scatterpolar"
           }
          ],
          "scatterpolargl": [
           {
            "marker": {
             "colorbar": {
              "outlinewidth": 0,
              "ticks": ""
             }
            },
            "type": "scatterpolargl"
           }
          ],
          "scatterternary": [
           {
            "marker": {
             "colorbar": {
              "outlinewidth": 0,
              "ticks": ""
             }
            },
            "type": "scatterternary"
           }
          ],
          "surface": [
           {
            "colorbar": {
             "outlinewidth": 0,
             "ticks": ""
            },
            "colorscale": [
             [
              0,
              "#0d0887"
             ],
             [
              0.1111111111111111,
              "#46039f"
             ],
             [
              0.2222222222222222,
              "#7201a8"
             ],
             [
              0.3333333333333333,
              "#9c179e"
             ],
             [
              0.4444444444444444,
              "#bd3786"
             ],
             [
              0.5555555555555556,
              "#d8576b"
             ],
             [
              0.6666666666666666,
              "#ed7953"
             ],
             [
              0.7777777777777778,
              "#fb9f3a"
             ],
             [
              0.8888888888888888,
              "#fdca26"
             ],
             [
              1,
              "#f0f921"
             ]
            ],
            "type": "surface"
           }
          ],
          "table": [
           {
            "cells": {
             "fill": {
              "color": "#EBF0F8"
             },
             "line": {
              "color": "white"
             }
            },
            "header": {
             "fill": {
              "color": "#C8D4E3"
             },
             "line": {
              "color": "white"
             }
            },
            "type": "table"
           }
          ]
         },
         "layout": {
          "annotationdefaults": {
           "arrowcolor": "#2a3f5f",
           "arrowhead": 0,
           "arrowwidth": 1
          },
          "autotypenumbers": "strict",
          "coloraxis": {
           "colorbar": {
            "outlinewidth": 0,
            "ticks": ""
           }
          },
          "colorscale": {
           "diverging": [
            [
             0,
             "#8e0152"
            ],
            [
             0.1,
             "#c51b7d"
            ],
            [
             0.2,
             "#de77ae"
            ],
            [
             0.3,
             "#f1b6da"
            ],
            [
             0.4,
             "#fde0ef"
            ],
            [
             0.5,
             "#f7f7f7"
            ],
            [
             0.6,
             "#e6f5d0"
            ],
            [
             0.7,
             "#b8e186"
            ],
            [
             0.8,
             "#7fbc41"
            ],
            [
             0.9,
             "#4d9221"
            ],
            [
             1,
             "#276419"
            ]
           ],
           "sequential": [
            [
             0,
             "#0d0887"
            ],
            [
             0.1111111111111111,
             "#46039f"
            ],
            [
             0.2222222222222222,
             "#7201a8"
            ],
            [
             0.3333333333333333,
             "#9c179e"
            ],
            [
             0.4444444444444444,
             "#bd3786"
            ],
            [
             0.5555555555555556,
             "#d8576b"
            ],
            [
             0.6666666666666666,
             "#ed7953"
            ],
            [
             0.7777777777777778,
             "#fb9f3a"
            ],
            [
             0.8888888888888888,
             "#fdca26"
            ],
            [
             1,
             "#f0f921"
            ]
           ],
           "sequentialminus": [
            [
             0,
             "#0d0887"
            ],
            [
             0.1111111111111111,
             "#46039f"
            ],
            [
             0.2222222222222222,
             "#7201a8"
            ],
            [
             0.3333333333333333,
             "#9c179e"
            ],
            [
             0.4444444444444444,
             "#bd3786"
            ],
            [
             0.5555555555555556,
             "#d8576b"
            ],
            [
             0.6666666666666666,
             "#ed7953"
            ],
            [
             0.7777777777777778,
             "#fb9f3a"
            ],
            [
             0.8888888888888888,
             "#fdca26"
            ],
            [
             1,
             "#f0f921"
            ]
           ]
          },
          "colorway": [
           "#636efa",
           "#EF553B",
           "#00cc96",
           "#ab63fa",
           "#FFA15A",
           "#19d3f3",
           "#FF6692",
           "#B6E880",
           "#FF97FF",
           "#FECB52"
          ],
          "font": {
           "color": "#2a3f5f"
          },
          "geo": {
           "bgcolor": "white",
           "lakecolor": "white",
           "landcolor": "#E5ECF6",
           "showlakes": true,
           "showland": true,
           "subunitcolor": "white"
          },
          "hoverlabel": {
           "align": "left"
          },
          "hovermode": "closest",
          "mapbox": {
           "style": "light"
          },
          "paper_bgcolor": "white",
          "plot_bgcolor": "#E5ECF6",
          "polar": {
           "angularaxis": {
            "gridcolor": "white",
            "linecolor": "white",
            "ticks": ""
           },
           "bgcolor": "#E5ECF6",
           "radialaxis": {
            "gridcolor": "white",
            "linecolor": "white",
            "ticks": ""
           }
          },
          "scene": {
           "xaxis": {
            "backgroundcolor": "#E5ECF6",
            "gridcolor": "white",
            "gridwidth": 2,
            "linecolor": "white",
            "showbackground": true,
            "ticks": "",
            "zerolinecolor": "white"
           },
           "yaxis": {
            "backgroundcolor": "#E5ECF6",
            "gridcolor": "white",
            "gridwidth": 2,
            "linecolor": "white",
            "showbackground": true,
            "ticks": "",
            "zerolinecolor": "white"
           },
           "zaxis": {
            "backgroundcolor": "#E5ECF6",
            "gridcolor": "white",
            "gridwidth": 2,
            "linecolor": "white",
            "showbackground": true,
            "ticks": "",
            "zerolinecolor": "white"
           }
          },
          "shapedefaults": {
           "line": {
            "color": "#2a3f5f"
           }
          },
          "ternary": {
           "aaxis": {
            "gridcolor": "white",
            "linecolor": "white",
            "ticks": ""
           },
           "baxis": {
            "gridcolor": "white",
            "linecolor": "white",
            "ticks": ""
           },
           "bgcolor": "#E5ECF6",
           "caxis": {
            "gridcolor": "white",
            "linecolor": "white",
            "ticks": ""
           }
          },
          "title": {
           "x": 0.05
          },
          "xaxis": {
           "automargin": true,
           "gridcolor": "white",
           "linecolor": "white",
           "ticks": "",
           "title": {
            "standoff": 15
           },
           "zerolinecolor": "white",
           "zerolinewidth": 2
          },
          "yaxis": {
           "automargin": true,
           "gridcolor": "white",
           "linecolor": "white",
           "ticks": "",
           "title": {
            "standoff": 15
           },
           "zerolinecolor": "white",
           "zerolinewidth": 2
          }
         }
        },
        "xaxis": {
         "anchor": "y",
         "domain": [
          0,
          1
         ],
         "title": {
          "text": "y_pred"
         }
        },
        "yaxis": {
         "anchor": "x",
         "domain": [
          0,
          1
         ],
         "title": {
          "text": "y_true"
         }
        }
       }
      }
     },
     "metadata": {},
     "output_type": "display_data"
    }
   ],
   "source": [
    "poly_reg.fit(X_train, y_train)\n",
    "y_pred = poly_reg.predict(X_test)\n",
    "\n",
    "px.scatter(\n",
    "    pd.DataFrame(dict(\n",
    "        y_true=y_test,\n",
    "        y_pred=y_pred\n",
    "    )),\n",
    "    y=\"y_true\",\n",
    "    x=\"y_pred\"\n",
    ")"
   ]
  },
  {
   "cell_type": "code",
   "execution_count": 39,
   "metadata": {},
   "outputs": [
    {
     "name": "stderr",
     "output_type": "stream",
     "text": [
      "[I 2024-01-06 12:31:47,495] A new study created in memory with name: Random Forest Regression\n"
     ]
    },
    {
     "name": "stderr",
     "output_type": "stream",
     "text": [
      "[I 2024-01-06 12:31:48,047] Trial 0 finished with value: 3188.8955997220014 and parameters: {'max_features': 'log2', 'min_samples_leaf': 10, 'n_estimators': 311}. Best is trial 0 with value: 3188.8955997220014.\n",
      "[I 2024-01-06 12:32:26,842] Trial 1 finished with value: 3150.7190487945113 and parameters: {'max_features': None, 'min_samples_leaf': 5, 'n_estimators': 684}. Best is trial 1 with value: 3150.7190487945113.\n",
      "[I 2024-01-06 12:32:30,667] Trial 2 finished with value: 3182.768436520332 and parameters: {'max_features': 'sqrt', 'min_samples_leaf': 7, 'n_estimators': 1311}. Best is trial 1 with value: 3150.7190487945113.\n",
      "[I 2024-01-06 12:32:32,113] Trial 3 finished with value: 3183.0913403740874 and parameters: {'max_features': 'sqrt', 'min_samples_leaf': 7, 'n_estimators': 506}. Best is trial 1 with value: 3150.7190487945113.\n",
      "[I 2024-01-06 12:34:16,934] Trial 4 finished with value: 3154.098174894318 and parameters: {'max_features': None, 'min_samples_leaf': 2, 'n_estimators': 1296}. Best is trial 1 with value: 3150.7190487945113.\n",
      "[I 2024-01-06 12:34:53,383] Trial 5 finished with value: 3184.8473858895136 and parameters: {'max_features': None, 'min_samples_leaf': 10, 'n_estimators': 1073}. Best is trial 1 with value: 3150.7190487945113.\n",
      "[I 2024-01-06 12:34:54,847] Trial 6 finished with value: 3163.9367368049134 and parameters: {'max_features': 'sqrt', 'min_samples_leaf': 6, 'n_estimators': 478}. Best is trial 1 with value: 3150.7190487945113.\n",
      "[I 2024-01-06 12:35:00,119] Trial 7 finished with value: 3148.638237722644 and parameters: {'max_features': 'sqrt', 'min_samples_leaf': 3, 'n_estimators': 1407}. Best is trial 7 with value: 3148.638237722644.\n",
      "[I 2024-01-06 12:35:01,424] Trial 8 finished with value: 3185.1433332358074 and parameters: {'max_features': 'sqrt', 'min_samples_leaf': 7, 'n_estimators': 461}. Best is trial 7 with value: 3148.638237722644.\n",
      "[I 2024-01-06 12:35:07,652] Trial 9 finished with value: 3140.889471518735 and parameters: {'max_features': 'sqrt', 'min_samples_leaf': 4, 'n_estimators': 1773}. Best is trial 9 with value: 3140.889471518735.\n",
      "[I 2024-01-06 12:35:13,240] Trial 10 finished with value: 3186.0357712051605 and parameters: {'max_features': 'log2', 'min_samples_leaf': 1, 'n_estimators': 1972}. Best is trial 9 with value: 3140.889471518735.\n",
      "[I 2024-01-06 12:35:20,196] Trial 11 finished with value: 3158.363458161189 and parameters: {'max_features': 'sqrt', 'min_samples_leaf': 3, 'n_estimators': 1845}. Best is trial 9 with value: 3140.889471518735.\n",
      "[I 2024-01-06 12:35:25,713] Trial 12 finished with value: 3141.918933130506 and parameters: {'max_features': 'sqrt', 'min_samples_leaf': 4, 'n_estimators': 1601}. Best is trial 9 with value: 3140.889471518735.\n",
      "[I 2024-01-06 12:35:31,380] Trial 13 finished with value: 3149.819072760713 and parameters: {'max_features': 'sqrt', 'min_samples_leaf': 4, 'n_estimators': 1616}. Best is trial 9 with value: 3140.889471518735.\n",
      "[I 2024-01-06 12:35:36,872] Trial 14 finished with value: 3160.675169362855 and parameters: {'max_features': 'sqrt', 'min_samples_leaf': 5, 'n_estimators': 1713}. Best is trial 9 with value: 3140.889471518735.\n",
      "[I 2024-01-06 12:35:40,032] Trial 15 finished with value: 3136.245989846931 and parameters: {'max_features': 'log2', 'min_samples_leaf': 4, 'n_estimators': 1550}. Best is trial 15 with value: 3136.245989846931.\n",
      "[I 2024-01-06 12:35:42,676] Trial 16 finished with value: 3184.547645835293 and parameters: {'max_features': 'log2', 'min_samples_leaf': 1, 'n_estimators': 961}. Best is trial 15 with value: 3136.245989846931.\n",
      "[I 2024-01-06 12:35:47,049] Trial 17 finished with value: 3146.3763248340633 and parameters: {'max_features': 'log2', 'min_samples_leaf': 3, 'n_estimators': 1998}. Best is trial 15 with value: 3136.245989846931.\n",
      "[I 2024-01-06 12:35:48,948] Trial 18 finished with value: 3169.3343010599865 and parameters: {'max_features': 'log2', 'min_samples_leaf': 8, 'n_estimators': 1062}. Best is trial 15 with value: 3136.245989846931.\n",
      "[I 2024-01-06 12:35:52,009] Trial 19 finished with value: 3133.974248611562 and parameters: {'max_features': 'log2', 'min_samples_leaf': 4, 'n_estimators': 1494}. Best is trial 19 with value: 3133.974248611562.\n",
      "[I 2024-01-06 12:35:54,846] Trial 20 finished with value: 3169.420274356767 and parameters: {'max_features': 'log2', 'min_samples_leaf': 6, 'n_estimators': 1486}. Best is trial 19 with value: 3133.974248611562.\n",
      "[I 2024-01-06 12:35:58,533] Trial 21 finished with value: 3139.4313180162358 and parameters: {'max_features': 'log2', 'min_samples_leaf': 4, 'n_estimators': 1788}. Best is trial 19 with value: 3133.974248611562.\n",
      "[I 2024-01-06 12:36:01,338] Trial 22 finished with value: 3152.2736325365818 and parameters: {'max_features': 'log2', 'min_samples_leaf': 2, 'n_estimators': 1204}. Best is trial 19 with value: 3133.974248611562.\n",
      "[I 2024-01-06 12:36:04,361] Trial 23 finished with value: 3146.9176574534386 and parameters: {'max_features': 'log2', 'min_samples_leaf': 5, 'n_estimators': 1504}. Best is trial 19 with value: 3133.974248611562.\n",
      "[I 2024-01-06 12:36:07,882] Trial 24 finished with value: 3125.9489630185467 and parameters: {'max_features': 'log2', 'min_samples_leaf': 4, 'n_estimators': 1683}. Best is trial 24 with value: 3125.9489630185467.\n",
      "[I 2024-01-06 12:36:11,612] Trial 25 finished with value: 3156.956775169073 and parameters: {'max_features': 'log2', 'min_samples_leaf': 2, 'n_estimators': 1622}. Best is trial 24 with value: 3125.9489630185467.\n",
      "[I 2024-01-06 12:36:13,287] Trial 26 finished with value: 3142.7908803083633 and parameters: {'max_features': 'log2', 'min_samples_leaf': 3, 'n_estimators': 760}. Best is trial 24 with value: 3125.9489630185467.\n",
      "[I 2024-01-06 12:36:15,673] Trial 27 finished with value: 3159.2839951916794 and parameters: {'max_features': 'log2', 'min_samples_leaf': 5, 'n_estimators': 1193}. Best is trial 24 with value: 3125.9489630185467.\n",
      "[I 2024-01-06 12:36:18,553] Trial 28 finished with value: 3158.223329257509 and parameters: {'max_features': 'log2', 'min_samples_leaf': 6, 'n_estimators': 1439}. Best is trial 24 with value: 3125.9489630185467.\n",
      "[I 2024-01-06 12:36:22,560] Trial 29 finished with value: 3139.575698137109 and parameters: {'max_features': 'log2', 'min_samples_leaf': 4, 'n_estimators': 1920}. Best is trial 24 with value: 3125.9489630185467.\n",
      "[I 2024-01-06 12:36:29,888] Trial 30 finished with value: 3194.302864397729 and parameters: {'max_features': None, 'min_samples_leaf': 9, 'n_estimators': 193}. Best is trial 24 with value: 3125.9489630185467.\n",
      "[I 2024-01-06 12:36:33,541] Trial 31 finished with value: 3125.679418964105 and parameters: {'max_features': 'log2', 'min_samples_leaf': 4, 'n_estimators': 1746}. Best is trial 31 with value: 3125.679418964105.\n",
      "[I 2024-01-06 12:36:36,922] Trial 32 finished with value: 3154.3877281767805 and parameters: {'max_features': 'log2', 'min_samples_leaf': 5, 'n_estimators': 1689}. Best is trial 31 with value: 3125.679418964105.\n",
      "[I 2024-01-06 12:36:41,029] Trial 33 finished with value: 3140.1317439892514 and parameters: {'max_features': 'log2', 'min_samples_leaf': 3, 'n_estimators': 1856}. Best is trial 31 with value: 3125.679418964105.\n",
      "[I 2024-01-06 12:36:44,287] Trial 34 finished with value: 3139.129647946276 and parameters: {'max_features': 'log2', 'min_samples_leaf': 4, 'n_estimators': 1563}. Best is trial 31 with value: 3125.679418964105.\n",
      "[I 2024-01-06 12:37:59,448] Trial 35 finished with value: 3151.84178889255 and parameters: {'max_features': None, 'min_samples_leaf': 5, 'n_estimators': 1317}. Best is trial 31 with value: 3125.679418964105.\n",
      "[I 2024-01-06 12:38:02,600] Trial 36 finished with value: 3165.5405396289502 and parameters: {'max_features': 'log2', 'min_samples_leaf': 2, 'n_estimators': 1359}. Best is trial 31 with value: 3125.679418964105.\n",
      "[I 2024-01-06 12:38:05,914] Trial 37 finished with value: 3161.52447354565 and parameters: {'max_features': 'log2', 'min_samples_leaf': 6, 'n_estimators': 1713}. Best is trial 31 with value: 3125.679418964105.\n",
      "[I 2024-01-06 12:39:32,535] Trial 38 finished with value: 3169.401652040692 and parameters: {'max_features': None, 'min_samples_leaf': 3, 'n_estimators': 1229}. Best is trial 31 with value: 3125.679418964105.\n",
      "[I 2024-01-06 12:39:34,361] Trial 39 finished with value: 3126.0958576550047 and parameters: {'max_features': 'log2', 'min_samples_leaf': 4, 'n_estimators': 890}. Best is trial 31 with value: 3125.679418964105.\n",
      "[I 2024-01-06 12:39:36,006] Trial 40 finished with value: 3172.449770499365 and parameters: {'max_features': 'log2', 'min_samples_leaf': 7, 'n_estimators': 889}. Best is trial 31 with value: 3125.679418964105.\n",
      "[I 2024-01-06 12:39:37,656] Trial 41 finished with value: 3127.228265882421 and parameters: {'max_features': 'log2', 'min_samples_leaf': 4, 'n_estimators': 803}. Best is trial 31 with value: 3125.679418964105.\n",
      "[I 2024-01-06 12:39:38,923] Trial 42 finished with value: 3148.4596153963976 and parameters: {'max_features': 'log2', 'min_samples_leaf': 5, 'n_estimators': 639}. Best is trial 31 with value: 3125.679418964105.\n",
      "[I 2024-01-06 12:39:40,565] Trial 43 finished with value: 3139.4010783886524 and parameters: {'max_features': 'log2', 'min_samples_leaf': 4, 'n_estimators': 801}. Best is trial 31 with value: 3125.679418964105.\n",
      "[I 2024-01-06 12:39:41,964] Trial 44 finished with value: 3157.1658201414534 and parameters: {'max_features': 'log2', 'min_samples_leaf': 3, 'n_estimators': 647}. Best is trial 31 with value: 3125.679418964105.\n",
      "[I 2024-01-06 12:45:55,868] Trial 45 finished with value: 3162.179690465479 and parameters: {'max_features': None, 'min_samples_leaf': 4, 'n_estimators': 994}. Best is trial 31 with value: 3125.679418964105.\n",
      "[I 2024-01-06 12:45:57,814] Trial 46 finished with value: 3139.4390730366617 and parameters: {'max_features': 'log2', 'min_samples_leaf': 2, 'n_estimators': 866}. Best is trial 31 with value: 3125.679418964105.\n",
      "[I 2024-01-06 12:45:58,558] Trial 47 finished with value: 3160.450773555173 and parameters: {'max_features': 'log2', 'min_samples_leaf': 5, 'n_estimators': 379}. Best is trial 31 with value: 3125.679418964105.\n",
      "[I 2024-01-06 12:45:59,759] Trial 48 finished with value: 3131.922358664237 and parameters: {'max_features': 'log2', 'min_samples_leaf': 3, 'n_estimators': 563}. Best is trial 31 with value: 3125.679418964105.\n",
      "[I 2024-01-06 12:46:00,923] Trial 49 finished with value: 3142.3380064025077 and parameters: {'max_features': 'log2', 'min_samples_leaf': 3, 'n_estimators': 548}. Best is trial 31 with value: 3125.679418964105.\n"
     ]
    }
   ],
   "source": [
    "def objective_rf(trial, X, y):\n",
    "\n",
    "    param_grid = {\n",
    "        \"max_features\": trial.suggest_categorical(\"max_features\", [\"sqrt\", \"log2\", None]),\n",
    "        \"min_samples_leaf\": trial.suggest_int(\"min_samples_leaf\", 1, 10),\n",
    "        \"n_estimators\": trial.suggest_int(\"n_estimators\", 100, 2000)\n",
    "        }\n",
    "\n",
    "    cv = KFold(n_splits=3, random_state=42, shuffle=True)\n",
    "    cv_scores = []\n",
    "\n",
    "    rf = RandomForestRegressor(**param_grid, criterion=\"absolute_error\")\n",
    "\n",
    "    poly = PolynomialFeatures(degree=3, include_bias=False)\n",
    "\n",
    "    poly_reg = Pipeline([\n",
    "        (\"poly\", poly),\n",
    "        (\"regressor\", rf)\n",
    "    ])\n",
    "\n",
    "    model = TransformedTargetRegressor(\n",
    "        regressor = poly_reg,\n",
    "        transformer=PowerTransformer(method=\"yeo-johnson\")\n",
    "        )\n",
    "    \n",
    "    for (train_index, val_index) in cv.split(X, y):\n",
    "        X_train, X_val = X.iloc[train_index], X.iloc[val_index]\n",
    "        y_train, y_val = y.iloc[train_index], y.iloc[val_index]    \n",
    "\n",
    "        model.fit(\n",
    "            X_train,\n",
    "            y_train\n",
    "        )\n",
    "\n",
    "        preds = model.predict(X_val)\n",
    "        cv_scores.append(mean_absolute_error(preds, y_val))\n",
    "    \n",
    "    return np.median(cv_scores)\n",
    "\n",
    "study_rf = optuna.create_study(direction=\"minimize\", study_name=\"Random Forest Regression\")\n",
    "func_rf = lambda trial: objective_rf(trial, X_train, y_train)\n",
    "study_rf.optimize(func_rf, n_trials=50)"
   ]
  },
  {
   "cell_type": "code",
   "execution_count": 40,
   "metadata": {},
   "outputs": [
    {
     "data": {
      "text/plain": [
       "{'max_features': 'log2', 'min_samples_leaf': 4, 'n_estimators': 1746}"
      ]
     },
     "execution_count": 40,
     "metadata": {},
     "output_type": "execute_result"
    }
   ],
   "source": [
    "study_rf.best_params"
   ]
  },
  {
   "cell_type": "code",
   "execution_count": 41,
   "metadata": {},
   "outputs": [
    {
     "data": {
      "text/plain": [
       "array([ -955.63160102, -2900.45524273, -5383.49802035])"
      ]
     },
     "execution_count": 41,
     "metadata": {},
     "output_type": "execute_result"
    }
   ],
   "source": [
    "poly = PolynomialFeatures(degree=3, include_bias=False)\n",
    "\n",
    "rf_best_params = study_rf.best_params\n",
    "\n",
    "\n",
    "reg = RandomForestRegressor(**rf_best_params, criterion=\"absolute_error\")\n",
    "\n",
    "poly_reg = Pipeline([\n",
    "        (\"poly\", poly),\n",
    "        (\"regressor\", reg)\n",
    "    ])\n",
    "\n",
    "model = TransformedTargetRegressor(\n",
    "    regressor = poly_reg,\n",
    "    transformer=PowerTransformer(method=\"yeo-johnson\")\n",
    ")\n",
    "\n",
    "cross_val_score(model, X_train, y_train, cv=3, scoring=\"neg_mean_absolute_error\")"
   ]
  },
  {
   "cell_type": "code",
   "execution_count": null,
   "metadata": {},
   "outputs": [],
   "source": [
    "study"
   ]
  },
  {
   "cell_type": "code",
   "execution_count": 42,
   "metadata": {},
   "outputs": [],
   "source": [
    "with open(\"params.yaml\") as config_file:\n",
    "        config = yaml.safe_load(config_file)\n",
    "\n",
    "poly = PolynomialFeatures(2, include_bias=False)\n",
    "\n",
    "xgb_params = study_xgb.best_params\n",
    "rf_params = study_rf.best_params\n",
    "ridge_params = {\"alpha\": 50}\n",
    "\n",
    "xgb_reg = xgboost.XGBRegressor(**xgb_params)\n",
    "rf_reg = RandomForestRegressor(**rf_params)\n",
    "ridge_reg = Ridge(**ridge_params)\n",
    "\n",
    "def create_model(reg):\n",
    "    poly_reg = Pipeline([\n",
    "            (\"poly\", poly),\n",
    "            (\"regressor\", reg)\n",
    "        ])\n",
    "\n",
    "    model = TransformedTargetRegressor(\n",
    "        regressor = poly_reg,\n",
    "        transformer=PowerTransformer(method=\"yeo-johnson\")\n",
    "    )\n",
    "\n",
    "    return model\n",
    "\n",
    "xgb_model = create_model(xgb_reg)\n",
    "rf_model = create_model(rf_reg)\n",
    "ridge_reg = create_model(ridge_reg)"
   ]
  },
  {
   "cell_type": "code",
   "execution_count": 43,
   "metadata": {},
   "outputs": [
    {
     "name": "stdout",
     "output_type": "stream",
     "text": [
      "[12:54:37] WARNING: /Users/runner/work/xgboost/xgboost/python-package/build/temp.macosx-11.0-arm64-cpython-38/xgboost/src/learner.cc:627: \n",
      "Parameters: { \"lambda_l1\", \"lambda_l2\", \"min_child_weigth\", \"min_gain_to_split\", \"num_leaves\" } might not be used.\n",
      "\n",
      "  This could be a false alarm, with some parameters getting used by language bindings but\n",
      "  then being mistakenly passed down to XGBoost core, or some parameter actually being used\n",
      "  but getting flagged wrongly here. Please open an issue if you find any such cases.\n",
      "\n",
      "\n"
     ]
    },
    {
     "data": {
      "text/html": [
       "<style>#sk-container-id-3 {color: black;background-color: white;}#sk-container-id-3 pre{padding: 0;}#sk-container-id-3 div.sk-toggleable {background-color: white;}#sk-container-id-3 label.sk-toggleable__label {cursor: pointer;display: block;width: 100%;margin-bottom: 0;padding: 0.3em;box-sizing: border-box;text-align: center;}#sk-container-id-3 label.sk-toggleable__label-arrow:before {content: \"▸\";float: left;margin-right: 0.25em;color: #696969;}#sk-container-id-3 label.sk-toggleable__label-arrow:hover:before {color: black;}#sk-container-id-3 div.sk-estimator:hover label.sk-toggleable__label-arrow:before {color: black;}#sk-container-id-3 div.sk-toggleable__content {max-height: 0;max-width: 0;overflow: hidden;text-align: left;background-color: #f0f8ff;}#sk-container-id-3 div.sk-toggleable__content pre {margin: 0.2em;color: black;border-radius: 0.25em;background-color: #f0f8ff;}#sk-container-id-3 input.sk-toggleable__control:checked~div.sk-toggleable__content {max-height: 200px;max-width: 100%;overflow: auto;}#sk-container-id-3 input.sk-toggleable__control:checked~label.sk-toggleable__label-arrow:before {content: \"▾\";}#sk-container-id-3 div.sk-estimator input.sk-toggleable__control:checked~label.sk-toggleable__label {background-color: #d4ebff;}#sk-container-id-3 div.sk-label input.sk-toggleable__control:checked~label.sk-toggleable__label {background-color: #d4ebff;}#sk-container-id-3 input.sk-hidden--visually {border: 0;clip: rect(1px 1px 1px 1px);clip: rect(1px, 1px, 1px, 1px);height: 1px;margin: -1px;overflow: hidden;padding: 0;position: absolute;width: 1px;}#sk-container-id-3 div.sk-estimator {font-family: monospace;background-color: #f0f8ff;border: 1px dotted black;border-radius: 0.25em;box-sizing: border-box;margin-bottom: 0.5em;}#sk-container-id-3 div.sk-estimator:hover {background-color: #d4ebff;}#sk-container-id-3 div.sk-parallel-item::after {content: \"\";width: 100%;border-bottom: 1px solid gray;flex-grow: 1;}#sk-container-id-3 div.sk-label:hover label.sk-toggleable__label {background-color: #d4ebff;}#sk-container-id-3 div.sk-serial::before {content: \"\";position: absolute;border-left: 1px solid gray;box-sizing: border-box;top: 0;bottom: 0;left: 50%;z-index: 0;}#sk-container-id-3 div.sk-serial {display: flex;flex-direction: column;align-items: center;background-color: white;padding-right: 0.2em;padding-left: 0.2em;position: relative;}#sk-container-id-3 div.sk-item {position: relative;z-index: 1;}#sk-container-id-3 div.sk-parallel {display: flex;align-items: stretch;justify-content: center;background-color: white;position: relative;}#sk-container-id-3 div.sk-item::before, #sk-container-id-3 div.sk-parallel-item::before {content: \"\";position: absolute;border-left: 1px solid gray;box-sizing: border-box;top: 0;bottom: 0;left: 50%;z-index: -1;}#sk-container-id-3 div.sk-parallel-item {display: flex;flex-direction: column;z-index: 1;position: relative;background-color: white;}#sk-container-id-3 div.sk-parallel-item:first-child::after {align-self: flex-end;width: 50%;}#sk-container-id-3 div.sk-parallel-item:last-child::after {align-self: flex-start;width: 50%;}#sk-container-id-3 div.sk-parallel-item:only-child::after {width: 0;}#sk-container-id-3 div.sk-dashed-wrapped {border: 1px dashed gray;margin: 0 0.4em 0.5em 0.4em;box-sizing: border-box;padding-bottom: 0.4em;background-color: white;}#sk-container-id-3 div.sk-label label {font-family: monospace;font-weight: bold;display: inline-block;line-height: 1.2em;}#sk-container-id-3 div.sk-label-container {text-align: center;}#sk-container-id-3 div.sk-container {/* jupyter's `normalize.less` sets `[hidden] { display: none; }` but bootstrap.min.css set `[hidden] { display: none !important; }` so we also need the `!important` here to be able to override the default hidden behavior on the sphinx rendered scikit-learn.org. See: https://github.com/scikit-learn/scikit-learn/issues/21755 */display: inline-block !important;position: relative;}#sk-container-id-3 div.sk-text-repr-fallback {display: none;}</style><div id=\"sk-container-id-3\" class=\"sk-top-container\"><div class=\"sk-text-repr-fallback\"><pre>TransformedTargetRegressor(regressor=Pipeline(steps=[(&#x27;poly&#x27;,\n",
       "                                                      PolynomialFeatures(include_bias=False)),\n",
       "                                                     (&#x27;regressor&#x27;,\n",
       "                                                      Ridge(alpha=50))]),\n",
       "                           transformer=PowerTransformer())</pre><b>In a Jupyter environment, please rerun this cell to show the HTML representation or trust the notebook. <br />On GitHub, the HTML representation is unable to render, please try loading this page with nbviewer.org.</b></div><div class=\"sk-container\" hidden><div class=\"sk-item sk-dashed-wrapped\"><div class=\"sk-label-container\"><div class=\"sk-label sk-toggleable\"><input class=\"sk-toggleable__control sk-hidden--visually\" id=\"sk-estimator-id-13\" type=\"checkbox\" ><label for=\"sk-estimator-id-13\" class=\"sk-toggleable__label sk-toggleable__label-arrow\">TransformedTargetRegressor</label><div class=\"sk-toggleable__content\"><pre>TransformedTargetRegressor(regressor=Pipeline(steps=[(&#x27;poly&#x27;,\n",
       "                                                      PolynomialFeatures(include_bias=False)),\n",
       "                                                     (&#x27;regressor&#x27;,\n",
       "                                                      Ridge(alpha=50))]),\n",
       "                           transformer=PowerTransformer())</pre></div></div></div><div class=\"sk-parallel\"><div class=\"sk-parallel-item\"><div class=\"sk-item\"><div class=\"sk-label-container\"><div class=\"sk-label sk-toggleable\"><input class=\"sk-toggleable__control sk-hidden--visually\" id=\"sk-estimator-id-14\" type=\"checkbox\" ><label for=\"sk-estimator-id-14\" class=\"sk-toggleable__label sk-toggleable__label-arrow\">regressor: Pipeline</label><div class=\"sk-toggleable__content\"><pre>Pipeline(steps=[(&#x27;poly&#x27;, PolynomialFeatures(include_bias=False)),\n",
       "                (&#x27;regressor&#x27;, Ridge(alpha=50))])</pre></div></div></div><div class=\"sk-serial\"><div class=\"sk-item\"><div class=\"sk-serial\"><div class=\"sk-item\"><div class=\"sk-estimator sk-toggleable\"><input class=\"sk-toggleable__control sk-hidden--visually\" id=\"sk-estimator-id-15\" type=\"checkbox\" ><label for=\"sk-estimator-id-15\" class=\"sk-toggleable__label sk-toggleable__label-arrow\">PolynomialFeatures</label><div class=\"sk-toggleable__content\"><pre>PolynomialFeatures(include_bias=False)</pre></div></div></div><div class=\"sk-item\"><div class=\"sk-estimator sk-toggleable\"><input class=\"sk-toggleable__control sk-hidden--visually\" id=\"sk-estimator-id-16\" type=\"checkbox\" ><label for=\"sk-estimator-id-16\" class=\"sk-toggleable__label sk-toggleable__label-arrow\">Ridge</label><div class=\"sk-toggleable__content\"><pre>Ridge(alpha=50)</pre></div></div></div></div></div></div></div></div><div class=\"sk-parallel-item\"><div class=\"sk-item\"><div class=\"sk-label-container\"><div class=\"sk-label sk-toggleable\"><input class=\"sk-toggleable__control sk-hidden--visually\" id=\"sk-estimator-id-17\" type=\"checkbox\" ><label for=\"sk-estimator-id-17\" class=\"sk-toggleable__label sk-toggleable__label-arrow\">transformer: PowerTransformer</label><div class=\"sk-toggleable__content\"><pre>PowerTransformer()</pre></div></div></div><div class=\"sk-serial\"><div class=\"sk-item\"><div class=\"sk-estimator sk-toggleable\"><input class=\"sk-toggleable__control sk-hidden--visually\" id=\"sk-estimator-id-18\" type=\"checkbox\" ><label for=\"sk-estimator-id-18\" class=\"sk-toggleable__label sk-toggleable__label-arrow\">PowerTransformer</label><div class=\"sk-toggleable__content\"><pre>PowerTransformer()</pre></div></div></div></div></div></div></div></div></div></div>"
      ],
      "text/plain": [
       "TransformedTargetRegressor(regressor=Pipeline(steps=[('poly',\n",
       "                                                      PolynomialFeatures(include_bias=False)),\n",
       "                                                     ('regressor',\n",
       "                                                      Ridge(alpha=50))]),\n",
       "                           transformer=PowerTransformer())"
      ]
     },
     "execution_count": 43,
     "metadata": {},
     "output_type": "execute_result"
    }
   ],
   "source": [
    "xgb_model.fit(X_train, y_train)\n",
    "rf_model.fit(X_train, y_train)\n",
    "ridge_reg.fit(X_train, y_train)"
   ]
  },
  {
   "cell_type": "code",
   "execution_count": 44,
   "metadata": {},
   "outputs": [],
   "source": [
    "y_pred_xgb = xgb_model.predict(X_test)\n",
    "y_pred_rf = rf_model.predict(X_test)\n",
    "y_pred_ridge = ridge_reg.predict(X_test)"
   ]
  },
  {
   "cell_type": "code",
   "execution_count": 45,
   "metadata": {},
   "outputs": [
    {
     "data": {
      "text/plain": [
       "2331.4862870407105"
      ]
     },
     "execution_count": 45,
     "metadata": {},
     "output_type": "execute_result"
    }
   ],
   "source": [
    "mean_absolute_error(y_test, y_pred_xgb)"
   ]
  },
  {
   "cell_type": "code",
   "execution_count": 46,
   "metadata": {},
   "outputs": [
    {
     "data": {
      "application/vnd.plotly.v1+json": {
       "config": {
        "plotlyServerURL": "https://plot.ly"
       },
       "data": [
        {
         "hovertemplate": "x=%{x}<br>y=%{y}<extra></extra>",
         "legendgroup": "",
         "marker": {
          "color": "#636efa",
          "symbol": "circle"
         },
         "mode": "markers",
         "name": "",
         "orientation": "v",
         "showlegend": false,
         "type": "scatter",
         "x": [
          122.03308137061534,
          148.8253418184267,
          270.67273851803947,
          1634.319983754199,
          3504.6679927061555,
          2316.2739859828202,
          1945.852205572004,
          2900.076600568706,
          1428.0045565824075,
          2277.642551841228,
          1128.0728367939532,
          1279.9665921063886,
          1991.740449424632,
          1601.8177470768833,
          68.35795341171793,
          401.54536131846464,
          54.03081827303758,
          74.11015827936612,
          78.31146040538941,
          994.5966102795013,
          166.0493903211746,
          32.5827390950045,
          79.98493915614849,
          112.817817195635,
          139.04889887104784
         ],
         "xaxis": "x",
         "y": [
          2756,
          1314,
          4305,
          2616,
          13389,
          16137,
          2306,
          1656,
          2306,
          1656,
          2306,
          1656,
          2306,
          1656,
          2481,
          1272,
          174,
          2760,
          2178,
          1604,
          1604,
          131,
          2715,
          2715,
          23
         ],
         "yaxis": "y"
        }
       ],
       "layout": {
        "legend": {
         "tracegroupgap": 0
        },
        "margin": {
         "t": 60
        },
        "shapes": [
         {
          "type": "line",
          "x0": 0,
          "x1": 3504.6679927061555,
          "y0": 0,
          "y1": 3504.6679927061555
         }
        ],
        "template": {
         "data": {
          "bar": [
           {
            "error_x": {
             "color": "#2a3f5f"
            },
            "error_y": {
             "color": "#2a3f5f"
            },
            "marker": {
             "line": {
              "color": "#E5ECF6",
              "width": 0.5
             },
             "pattern": {
              "fillmode": "overlay",
              "size": 10,
              "solidity": 0.2
             }
            },
            "type": "bar"
           }
          ],
          "barpolar": [
           {
            "marker": {
             "line": {
              "color": "#E5ECF6",
              "width": 0.5
             },
             "pattern": {
              "fillmode": "overlay",
              "size": 10,
              "solidity": 0.2
             }
            },
            "type": "barpolar"
           }
          ],
          "carpet": [
           {
            "aaxis": {
             "endlinecolor": "#2a3f5f",
             "gridcolor": "white",
             "linecolor": "white",
             "minorgridcolor": "white",
             "startlinecolor": "#2a3f5f"
            },
            "baxis": {
             "endlinecolor": "#2a3f5f",
             "gridcolor": "white",
             "linecolor": "white",
             "minorgridcolor": "white",
             "startlinecolor": "#2a3f5f"
            },
            "type": "carpet"
           }
          ],
          "choropleth": [
           {
            "colorbar": {
             "outlinewidth": 0,
             "ticks": ""
            },
            "type": "choropleth"
           }
          ],
          "contour": [
           {
            "colorbar": {
             "outlinewidth": 0,
             "ticks": ""
            },
            "colorscale": [
             [
              0,
              "#0d0887"
             ],
             [
              0.1111111111111111,
              "#46039f"
             ],
             [
              0.2222222222222222,
              "#7201a8"
             ],
             [
              0.3333333333333333,
              "#9c179e"
             ],
             [
              0.4444444444444444,
              "#bd3786"
             ],
             [
              0.5555555555555556,
              "#d8576b"
             ],
             [
              0.6666666666666666,
              "#ed7953"
             ],
             [
              0.7777777777777778,
              "#fb9f3a"
             ],
             [
              0.8888888888888888,
              "#fdca26"
             ],
             [
              1,
              "#f0f921"
             ]
            ],
            "type": "contour"
           }
          ],
          "contourcarpet": [
           {
            "colorbar": {
             "outlinewidth": 0,
             "ticks": ""
            },
            "type": "contourcarpet"
           }
          ],
          "heatmap": [
           {
            "colorbar": {
             "outlinewidth": 0,
             "ticks": ""
            },
            "colorscale": [
             [
              0,
              "#0d0887"
             ],
             [
              0.1111111111111111,
              "#46039f"
             ],
             [
              0.2222222222222222,
              "#7201a8"
             ],
             [
              0.3333333333333333,
              "#9c179e"
             ],
             [
              0.4444444444444444,
              "#bd3786"
             ],
             [
              0.5555555555555556,
              "#d8576b"
             ],
             [
              0.6666666666666666,
              "#ed7953"
             ],
             [
              0.7777777777777778,
              "#fb9f3a"
             ],
             [
              0.8888888888888888,
              "#fdca26"
             ],
             [
              1,
              "#f0f921"
             ]
            ],
            "type": "heatmap"
           }
          ],
          "heatmapgl": [
           {
            "colorbar": {
             "outlinewidth": 0,
             "ticks": ""
            },
            "colorscale": [
             [
              0,
              "#0d0887"
             ],
             [
              0.1111111111111111,
              "#46039f"
             ],
             [
              0.2222222222222222,
              "#7201a8"
             ],
             [
              0.3333333333333333,
              "#9c179e"
             ],
             [
              0.4444444444444444,
              "#bd3786"
             ],
             [
              0.5555555555555556,
              "#d8576b"
             ],
             [
              0.6666666666666666,
              "#ed7953"
             ],
             [
              0.7777777777777778,
              "#fb9f3a"
             ],
             [
              0.8888888888888888,
              "#fdca26"
             ],
             [
              1,
              "#f0f921"
             ]
            ],
            "type": "heatmapgl"
           }
          ],
          "histogram": [
           {
            "marker": {
             "pattern": {
              "fillmode": "overlay",
              "size": 10,
              "solidity": 0.2
             }
            },
            "type": "histogram"
           }
          ],
          "histogram2d": [
           {
            "colorbar": {
             "outlinewidth": 0,
             "ticks": ""
            },
            "colorscale": [
             [
              0,
              "#0d0887"
             ],
             [
              0.1111111111111111,
              "#46039f"
             ],
             [
              0.2222222222222222,
              "#7201a8"
             ],
             [
              0.3333333333333333,
              "#9c179e"
             ],
             [
              0.4444444444444444,
              "#bd3786"
             ],
             [
              0.5555555555555556,
              "#d8576b"
             ],
             [
              0.6666666666666666,
              "#ed7953"
             ],
             [
              0.7777777777777778,
              "#fb9f3a"
             ],
             [
              0.8888888888888888,
              "#fdca26"
             ],
             [
              1,
              "#f0f921"
             ]
            ],
            "type": "histogram2d"
           }
          ],
          "histogram2dcontour": [
           {
            "colorbar": {
             "outlinewidth": 0,
             "ticks": ""
            },
            "colorscale": [
             [
              0,
              "#0d0887"
             ],
             [
              0.1111111111111111,
              "#46039f"
             ],
             [
              0.2222222222222222,
              "#7201a8"
             ],
             [
              0.3333333333333333,
              "#9c179e"
             ],
             [
              0.4444444444444444,
              "#bd3786"
             ],
             [
              0.5555555555555556,
              "#d8576b"
             ],
             [
              0.6666666666666666,
              "#ed7953"
             ],
             [
              0.7777777777777778,
              "#fb9f3a"
             ],
             [
              0.8888888888888888,
              "#fdca26"
             ],
             [
              1,
              "#f0f921"
             ]
            ],
            "type": "histogram2dcontour"
           }
          ],
          "mesh3d": [
           {
            "colorbar": {
             "outlinewidth": 0,
             "ticks": ""
            },
            "type": "mesh3d"
           }
          ],
          "parcoords": [
           {
            "line": {
             "colorbar": {
              "outlinewidth": 0,
              "ticks": ""
             }
            },
            "type": "parcoords"
           }
          ],
          "pie": [
           {
            "automargin": true,
            "type": "pie"
           }
          ],
          "scatter": [
           {
            "fillpattern": {
             "fillmode": "overlay",
             "size": 10,
             "solidity": 0.2
            },
            "type": "scatter"
           }
          ],
          "scatter3d": [
           {
            "line": {
             "colorbar": {
              "outlinewidth": 0,
              "ticks": ""
             }
            },
            "marker": {
             "colorbar": {
              "outlinewidth": 0,
              "ticks": ""
             }
            },
            "type": "scatter3d"
           }
          ],
          "scattercarpet": [
           {
            "marker": {
             "colorbar": {
              "outlinewidth": 0,
              "ticks": ""
             }
            },
            "type": "scattercarpet"
           }
          ],
          "scattergeo": [
           {
            "marker": {
             "colorbar": {
              "outlinewidth": 0,
              "ticks": ""
             }
            },
            "type": "scattergeo"
           }
          ],
          "scattergl": [
           {
            "marker": {
             "colorbar": {
              "outlinewidth": 0,
              "ticks": ""
             }
            },
            "type": "scattergl"
           }
          ],
          "scattermapbox": [
           {
            "marker": {
             "colorbar": {
              "outlinewidth": 0,
              "ticks": ""
             }
            },
            "type": "scattermapbox"
           }
          ],
          "scatterpolar": [
           {
            "marker": {
             "colorbar": {
              "outlinewidth": 0,
              "ticks": ""
             }
            },
            "type": "scatterpolar"
           }
          ],
          "scatterpolargl": [
           {
            "marker": {
             "colorbar": {
              "outlinewidth": 0,
              "ticks": ""
             }
            },
            "type": "scatterpolargl"
           }
          ],
          "scatterternary": [
           {
            "marker": {
             "colorbar": {
              "outlinewidth": 0,
              "ticks": ""
             }
            },
            "type": "scatterternary"
           }
          ],
          "surface": [
           {
            "colorbar": {
             "outlinewidth": 0,
             "ticks": ""
            },
            "colorscale": [
             [
              0,
              "#0d0887"
             ],
             [
              0.1111111111111111,
              "#46039f"
             ],
             [
              0.2222222222222222,
              "#7201a8"
             ],
             [
              0.3333333333333333,
              "#9c179e"
             ],
             [
              0.4444444444444444,
              "#bd3786"
             ],
             [
              0.5555555555555556,
              "#d8576b"
             ],
             [
              0.6666666666666666,
              "#ed7953"
             ],
             [
              0.7777777777777778,
              "#fb9f3a"
             ],
             [
              0.8888888888888888,
              "#fdca26"
             ],
             [
              1,
              "#f0f921"
             ]
            ],
            "type": "surface"
           }
          ],
          "table": [
           {
            "cells": {
             "fill": {
              "color": "#EBF0F8"
             },
             "line": {
              "color": "white"
             }
            },
            "header": {
             "fill": {
              "color": "#C8D4E3"
             },
             "line": {
              "color": "white"
             }
            },
            "type": "table"
           }
          ]
         },
         "layout": {
          "annotationdefaults": {
           "arrowcolor": "#2a3f5f",
           "arrowhead": 0,
           "arrowwidth": 1
          },
          "autotypenumbers": "strict",
          "coloraxis": {
           "colorbar": {
            "outlinewidth": 0,
            "ticks": ""
           }
          },
          "colorscale": {
           "diverging": [
            [
             0,
             "#8e0152"
            ],
            [
             0.1,
             "#c51b7d"
            ],
            [
             0.2,
             "#de77ae"
            ],
            [
             0.3,
             "#f1b6da"
            ],
            [
             0.4,
             "#fde0ef"
            ],
            [
             0.5,
             "#f7f7f7"
            ],
            [
             0.6,
             "#e6f5d0"
            ],
            [
             0.7,
             "#b8e186"
            ],
            [
             0.8,
             "#7fbc41"
            ],
            [
             0.9,
             "#4d9221"
            ],
            [
             1,
             "#276419"
            ]
           ],
           "sequential": [
            [
             0,
             "#0d0887"
            ],
            [
             0.1111111111111111,
             "#46039f"
            ],
            [
             0.2222222222222222,
             "#7201a8"
            ],
            [
             0.3333333333333333,
             "#9c179e"
            ],
            [
             0.4444444444444444,
             "#bd3786"
            ],
            [
             0.5555555555555556,
             "#d8576b"
            ],
            [
             0.6666666666666666,
             "#ed7953"
            ],
            [
             0.7777777777777778,
             "#fb9f3a"
            ],
            [
             0.8888888888888888,
             "#fdca26"
            ],
            [
             1,
             "#f0f921"
            ]
           ],
           "sequentialminus": [
            [
             0,
             "#0d0887"
            ],
            [
             0.1111111111111111,
             "#46039f"
            ],
            [
             0.2222222222222222,
             "#7201a8"
            ],
            [
             0.3333333333333333,
             "#9c179e"
            ],
            [
             0.4444444444444444,
             "#bd3786"
            ],
            [
             0.5555555555555556,
             "#d8576b"
            ],
            [
             0.6666666666666666,
             "#ed7953"
            ],
            [
             0.7777777777777778,
             "#fb9f3a"
            ],
            [
             0.8888888888888888,
             "#fdca26"
            ],
            [
             1,
             "#f0f921"
            ]
           ]
          },
          "colorway": [
           "#636efa",
           "#EF553B",
           "#00cc96",
           "#ab63fa",
           "#FFA15A",
           "#19d3f3",
           "#FF6692",
           "#B6E880",
           "#FF97FF",
           "#FECB52"
          ],
          "font": {
           "color": "#2a3f5f"
          },
          "geo": {
           "bgcolor": "white",
           "lakecolor": "white",
           "landcolor": "#E5ECF6",
           "showlakes": true,
           "showland": true,
           "subunitcolor": "white"
          },
          "hoverlabel": {
           "align": "left"
          },
          "hovermode": "closest",
          "mapbox": {
           "style": "light"
          },
          "paper_bgcolor": "white",
          "plot_bgcolor": "#E5ECF6",
          "polar": {
           "angularaxis": {
            "gridcolor": "white",
            "linecolor": "white",
            "ticks": ""
           },
           "bgcolor": "#E5ECF6",
           "radialaxis": {
            "gridcolor": "white",
            "linecolor": "white",
            "ticks": ""
           }
          },
          "scene": {
           "xaxis": {
            "backgroundcolor": "#E5ECF6",
            "gridcolor": "white",
            "gridwidth": 2,
            "linecolor": "white",
            "showbackground": true,
            "ticks": "",
            "zerolinecolor": "white"
           },
           "yaxis": {
            "backgroundcolor": "#E5ECF6",
            "gridcolor": "white",
            "gridwidth": 2,
            "linecolor": "white",
            "showbackground": true,
            "ticks": "",
            "zerolinecolor": "white"
           },
           "zaxis": {
            "backgroundcolor": "#E5ECF6",
            "gridcolor": "white",
            "gridwidth": 2,
            "linecolor": "white",
            "showbackground": true,
            "ticks": "",
            "zerolinecolor": "white"
           }
          },
          "shapedefaults": {
           "line": {
            "color": "#2a3f5f"
           }
          },
          "ternary": {
           "aaxis": {
            "gridcolor": "white",
            "linecolor": "white",
            "ticks": ""
           },
           "baxis": {
            "gridcolor": "white",
            "linecolor": "white",
            "ticks": ""
           },
           "bgcolor": "#E5ECF6",
           "caxis": {
            "gridcolor": "white",
            "linecolor": "white",
            "ticks": ""
           }
          },
          "title": {
           "x": 0.05
          },
          "xaxis": {
           "automargin": true,
           "gridcolor": "white",
           "linecolor": "white",
           "ticks": "",
           "title": {
            "standoff": 15
           },
           "zerolinecolor": "white",
           "zerolinewidth": 2
          },
          "yaxis": {
           "automargin": true,
           "gridcolor": "white",
           "linecolor": "white",
           "ticks": "",
           "title": {
            "standoff": 15
           },
           "zerolinecolor": "white",
           "zerolinewidth": 2
          }
         }
        },
        "xaxis": {
         "anchor": "y",
         "domain": [
          0,
          1
         ],
         "title": {
          "text": "x"
         }
        },
        "yaxis": {
         "anchor": "x",
         "domain": [
          0,
          1
         ],
         "title": {
          "text": "y"
         }
        }
       }
      }
     },
     "metadata": {},
     "output_type": "display_data"
    }
   ],
   "source": [
    "y_pred = y_pred_ridge\n",
    "\n",
    "fig = px.scatter(x = y_pred, y = y_test)\n",
    "fig.update_layout(shapes=[{\"type\": \"line\", \"y0\":0, \"y1\":max(y_pred), \"x0\":0, \"x1\": max(y_pred)}])"
   ]
  },
  {
   "cell_type": "code",
   "execution_count": 47,
   "metadata": {},
   "outputs": [
    {
     "name": "stdout",
     "output_type": "stream",
     "text": [
      "[12:55:50] WARNING: /Users/runner/work/xgboost/xgboost/python-package/build/temp.macosx-11.0-arm64-cpython-38/xgboost/src/learner.cc:627: \n",
      "Parameters: { \"lambda_l1\", \"lambda_l2\", \"min_child_weigth\", \"min_gain_to_split\", \"num_leaves\" } might not be used.\n",
      "\n",
      "  This could be a false alarm, with some parameters getting used by language bindings but\n",
      "  then being mistakenly passed down to XGBoost core, or some parameter actually being used\n",
      "  but getting flagged wrongly here. Please open an issue if you find any such cases.\n",
      "\n",
      "\n",
      "[12:55:51] WARNING: /Users/runner/work/xgboost/xgboost/python-package/build/temp.macosx-11.0-arm64-cpython-38/xgboost/src/learner.cc:627: \n",
      "Parameters: { \"lambda_l1\", \"lambda_l2\", \"min_child_weigth\", \"min_gain_to_split\", \"num_leaves\" } might not be used.\n",
      "\n",
      "  This could be a false alarm, with some parameters getting used by language bindings but\n",
      "  then being mistakenly passed down to XGBoost core, or some parameter actually being used\n",
      "  but getting flagged wrongly here. Please open an issue if you find any such cases.\n",
      "\n",
      "\n",
      "[12:55:52] WARNING: /Users/runner/work/xgboost/xgboost/python-package/build/temp.macosx-11.0-arm64-cpython-38/xgboost/src/learner.cc:627: \n",
      "Parameters: { \"lambda_l1\", \"lambda_l2\", \"min_child_weigth\", \"min_gain_to_split\", \"num_leaves\" } might not be used.\n",
      "\n",
      "  This could be a false alarm, with some parameters getting used by language bindings but\n",
      "  then being mistakenly passed down to XGBoost core, or some parameter actually being used\n",
      "  but getting flagged wrongly here. Please open an issue if you find any such cases.\n",
      "\n",
      "\n",
      "[12:55:53] WARNING: /Users/runner/work/xgboost/xgboost/python-package/build/temp.macosx-11.0-arm64-cpython-38/xgboost/src/learner.cc:627: \n",
      "Parameters: { \"lambda_l1\", \"lambda_l2\", \"min_child_weigth\", \"min_gain_to_split\", \"num_leaves\" } might not be used.\n",
      "\n",
      "  This could be a false alarm, with some parameters getting used by language bindings but\n",
      "  then being mistakenly passed down to XGBoost core, or some parameter actually being used\n",
      "  but getting flagged wrongly here. Please open an issue if you find any such cases.\n",
      "\n",
      "\n",
      "[12:55:54] WARNING: /Users/runner/work/xgboost/xgboost/python-package/build/temp.macosx-11.0-arm64-cpython-38/xgboost/src/learner.cc:627: \n",
      "Parameters: { \"lambda_l1\", \"lambda_l2\", \"min_child_weigth\", \"min_gain_to_split\", \"num_leaves\" } might not be used.\n",
      "\n",
      "  This could be a false alarm, with some parameters getting used by language bindings but\n",
      "  then being mistakenly passed down to XGBoost core, or some parameter actually being used\n",
      "  but getting flagged wrongly here. Please open an issue if you find any such cases.\n",
      "\n",
      "\n",
      "[12:55:55] WARNING: /Users/runner/work/xgboost/xgboost/python-package/build/temp.macosx-11.0-arm64-cpython-38/xgboost/src/learner.cc:627: \n",
      "Parameters: { \"lambda_l1\", \"lambda_l2\", \"min_child_weigth\", \"min_gain_to_split\", \"num_leaves\" } might not be used.\n",
      "\n",
      "  This could be a false alarm, with some parameters getting used by language bindings but\n",
      "  then being mistakenly passed down to XGBoost core, or some parameter actually being used\n",
      "  but getting flagged wrongly here. Please open an issue if you find any such cases.\n",
      "\n",
      "\n",
      "[12:55:57] WARNING: /Users/runner/work/xgboost/xgboost/python-package/build/temp.macosx-11.0-arm64-cpython-38/xgboost/src/learner.cc:627: \n",
      "Parameters: { \"lambda_l1\", \"lambda_l2\", \"min_child_weigth\", \"min_gain_to_split\", \"num_leaves\" } might not be used.\n",
      "\n",
      "  This could be a false alarm, with some parameters getting used by language bindings but\n",
      "  then being mistakenly passed down to XGBoost core, or some parameter actually being used\n",
      "  but getting flagged wrongly here. Please open an issue if you find any such cases.\n",
      "\n",
      "\n",
      "[12:55:58] WARNING: /Users/runner/work/xgboost/xgboost/python-package/build/temp.macosx-11.0-arm64-cpython-38/xgboost/src/learner.cc:627: \n",
      "Parameters: { \"lambda_l1\", \"lambda_l2\", \"min_child_weigth\", \"min_gain_to_split\", \"num_leaves\" } might not be used.\n",
      "\n",
      "  This could be a false alarm, with some parameters getting used by language bindings but\n",
      "  then being mistakenly passed down to XGBoost core, or some parameter actually being used\n",
      "  but getting flagged wrongly here. Please open an issue if you find any such cases.\n",
      "\n",
      "\n",
      "[12:55:59] WARNING: /Users/runner/work/xgboost/xgboost/python-package/build/temp.macosx-11.0-arm64-cpython-38/xgboost/src/learner.cc:627: \n",
      "Parameters: { \"lambda_l1\", \"lambda_l2\", \"min_child_weigth\", \"min_gain_to_split\", \"num_leaves\" } might not be used.\n",
      "\n",
      "  This could be a false alarm, with some parameters getting used by language bindings but\n",
      "  then being mistakenly passed down to XGBoost core, or some parameter actually being used\n",
      "  but getting flagged wrongly here. Please open an issue if you find any such cases.\n",
      "\n",
      "\n",
      "[12:56:00] WARNING: /Users/runner/work/xgboost/xgboost/python-package/build/temp.macosx-11.0-arm64-cpython-38/xgboost/src/learner.cc:627: \n",
      "Parameters: { \"lambda_l1\", \"lambda_l2\", \"min_child_weigth\", \"min_gain_to_split\", \"num_leaves\" } might not be used.\n",
      "\n",
      "  This could be a false alarm, with some parameters getting used by language bindings but\n",
      "  then being mistakenly passed down to XGBoost core, or some parameter actually being used\n",
      "  but getting flagged wrongly here. Please open an issue if you find any such cases.\n",
      "\n",
      "\n",
      "[12:56:02] WARNING: /Users/runner/work/xgboost/xgboost/python-package/build/temp.macosx-11.0-arm64-cpython-38/xgboost/src/learner.cc:627: \n",
      "Parameters: { \"lambda_l1\", \"lambda_l2\", \"min_child_weigth\", \"min_gain_to_split\", \"num_leaves\" } might not be used.\n",
      "\n",
      "  This could be a false alarm, with some parameters getting used by language bindings but\n",
      "  then being mistakenly passed down to XGBoost core, or some parameter actually being used\n",
      "  but getting flagged wrongly here. Please open an issue if you find any such cases.\n",
      "\n",
      "\n",
      "[12:56:02] WARNING: /Users/runner/work/xgboost/xgboost/python-package/build/temp.macosx-11.0-arm64-cpython-38/xgboost/src/learner.cc:627: \n",
      "Parameters: { \"lambda_l1\", \"lambda_l2\", \"min_child_weigth\", \"min_gain_to_split\", \"num_leaves\" } might not be used.\n",
      "\n",
      "  This could be a false alarm, with some parameters getting used by language bindings but\n",
      "  then being mistakenly passed down to XGBoost core, or some parameter actually being used\n",
      "  but getting flagged wrongly here. Please open an issue if you find any such cases.\n",
      "\n",
      "\n",
      "[12:56:03] WARNING: /Users/runner/work/xgboost/xgboost/python-package/build/temp.macosx-11.0-arm64-cpython-38/xgboost/src/learner.cc:627: \n",
      "Parameters: { \"lambda_l1\", \"lambda_l2\", \"min_child_weigth\", \"min_gain_to_split\", \"num_leaves\" } might not be used.\n",
      "\n",
      "  This could be a false alarm, with some parameters getting used by language bindings but\n",
      "  then being mistakenly passed down to XGBoost core, or some parameter actually being used\n",
      "  but getting flagged wrongly here. Please open an issue if you find any such cases.\n",
      "\n",
      "\n",
      "[12:56:05] WARNING: /Users/runner/work/xgboost/xgboost/python-package/build/temp.macosx-11.0-arm64-cpython-38/xgboost/src/learner.cc:627: \n",
      "Parameters: { \"lambda_l1\", \"lambda_l2\", \"min_child_weigth\", \"min_gain_to_split\", \"num_leaves\" } might not be used.\n",
      "\n",
      "  This could be a false alarm, with some parameters getting used by language bindings but\n",
      "  then being mistakenly passed down to XGBoost core, or some parameter actually being used\n",
      "  but getting flagged wrongly here. Please open an issue if you find any such cases.\n",
      "\n",
      "\n",
      "[12:56:06] WARNING: /Users/runner/work/xgboost/xgboost/python-package/build/temp.macosx-11.0-arm64-cpython-38/xgboost/src/learner.cc:627: \n",
      "Parameters: { \"lambda_l1\", \"lambda_l2\", \"min_child_weigth\", \"min_gain_to_split\", \"num_leaves\" } might not be used.\n",
      "\n",
      "  This could be a false alarm, with some parameters getting used by language bindings but\n",
      "  then being mistakenly passed down to XGBoost core, or some parameter actually being used\n",
      "  but getting flagged wrongly here. Please open an issue if you find any such cases.\n",
      "\n",
      "\n",
      "[12:56:07] WARNING: /Users/runner/work/xgboost/xgboost/python-package/build/temp.macosx-11.0-arm64-cpython-38/xgboost/src/learner.cc:627: \n",
      "Parameters: { \"lambda_l1\", \"lambda_l2\", \"min_child_weigth\", \"min_gain_to_split\", \"num_leaves\" } might not be used.\n",
      "\n",
      "  This could be a false alarm, with some parameters getting used by language bindings but\n",
      "  then being mistakenly passed down to XGBoost core, or some parameter actually being used\n",
      "  but getting flagged wrongly here. Please open an issue if you find any such cases.\n",
      "\n",
      "\n",
      "[12:56:08] WARNING: /Users/runner/work/xgboost/xgboost/python-package/build/temp.macosx-11.0-arm64-cpython-38/xgboost/src/learner.cc:627: \n",
      "Parameters: { \"lambda_l1\", \"lambda_l2\", \"min_child_weigth\", \"min_gain_to_split\", \"num_leaves\" } might not be used.\n",
      "\n",
      "  This could be a false alarm, with some parameters getting used by language bindings but\n",
      "  then being mistakenly passed down to XGBoost core, or some parameter actually being used\n",
      "  but getting flagged wrongly here. Please open an issue if you find any such cases.\n",
      "\n",
      "\n",
      "[12:56:09] WARNING: /Users/runner/work/xgboost/xgboost/python-package/build/temp.macosx-11.0-arm64-cpython-38/xgboost/src/learner.cc:627: \n",
      "Parameters: { \"lambda_l1\", \"lambda_l2\", \"min_child_weigth\", \"min_gain_to_split\", \"num_leaves\" } might not be used.\n",
      "\n",
      "  This could be a false alarm, with some parameters getting used by language bindings but\n",
      "  then being mistakenly passed down to XGBoost core, or some parameter actually being used\n",
      "  but getting flagged wrongly here. Please open an issue if you find any such cases.\n",
      "\n",
      "\n"
     ]
    },
    {
     "data": {
      "text/plain": [
       "array([-1939.60670665, -2768.78202828, -5475.82208912])"
      ]
     },
     "execution_count": 47,
     "metadata": {},
     "output_type": "execute_result"
    }
   ],
   "source": [
    "from sklearn.ensemble import StackingRegressor\n",
    "from sklearn.linear_model import RidgeCV\n",
    "from sklearn.neighbors import KNeighborsRegressor\n",
    "from sklearn.linear_model import Lasso\n",
    "\n",
    "estimators = [\n",
    "    ('ridge', ridge_reg),\n",
    "    ('xgboost', xgb_reg),\n",
    "    #('lasso', Lasso())\n",
    "    #('knr', KNeighborsRegressor(n_neighbors=4, metric='minkowski'))\n",
    "    ]\n",
    "\n",
    "stack_reg = StackingRegressor(\n",
    "    estimators = estimators,\n",
    "    final_estimator=RidgeCV()\n",
    ")\n",
    "\n",
    "stack_model = create_model(stack_reg)\n",
    "\n",
    "cross_val_score(stack_model, X_train, y_train, cv=3, scoring=\"neg_mean_absolute_error\")"
   ]
  },
  {
   "cell_type": "code",
   "execution_count": 48,
   "metadata": {},
   "outputs": [
    {
     "name": "stdout",
     "output_type": "stream",
     "text": [
      "[12:56:15] WARNING: /Users/runner/work/xgboost/xgboost/python-package/build/temp.macosx-11.0-arm64-cpython-38/xgboost/src/learner.cc:627: \n",
      "Parameters: { \"lambda_l1\", \"lambda_l2\", \"min_child_weigth\", \"min_gain_to_split\", \"num_leaves\" } might not be used.\n",
      "\n",
      "  This could be a false alarm, with some parameters getting used by language bindings but\n",
      "  then being mistakenly passed down to XGBoost core, or some parameter actually being used\n",
      "  but getting flagged wrongly here. Please open an issue if you find any such cases.\n",
      "\n",
      "\n",
      "[12:56:17] WARNING: /Users/runner/work/xgboost/xgboost/python-package/build/temp.macosx-11.0-arm64-cpython-38/xgboost/src/learner.cc:627: \n",
      "Parameters: { \"lambda_l1\", \"lambda_l2\", \"min_child_weigth\", \"min_gain_to_split\", \"num_leaves\" } might not be used.\n",
      "\n",
      "  This could be a false alarm, with some parameters getting used by language bindings but\n",
      "  then being mistakenly passed down to XGBoost core, or some parameter actually being used\n",
      "  but getting flagged wrongly here. Please open an issue if you find any such cases.\n",
      "\n",
      "\n",
      "[12:56:19] WARNING: /Users/runner/work/xgboost/xgboost/python-package/build/temp.macosx-11.0-arm64-cpython-38/xgboost/src/learner.cc:627: \n",
      "Parameters: { \"lambda_l1\", \"lambda_l2\", \"min_child_weigth\", \"min_gain_to_split\", \"num_leaves\" } might not be used.\n",
      "\n",
      "  This could be a false alarm, with some parameters getting used by language bindings but\n",
      "  then being mistakenly passed down to XGBoost core, or some parameter actually being used\n",
      "  but getting flagged wrongly here. Please open an issue if you find any such cases.\n",
      "\n",
      "\n",
      "[12:56:20] WARNING: /Users/runner/work/xgboost/xgboost/python-package/build/temp.macosx-11.0-arm64-cpython-38/xgboost/src/learner.cc:627: \n",
      "Parameters: { \"lambda_l1\", \"lambda_l2\", \"min_child_weigth\", \"min_gain_to_split\", \"num_leaves\" } might not be used.\n",
      "\n",
      "  This could be a false alarm, with some parameters getting used by language bindings but\n",
      "  then being mistakenly passed down to XGBoost core, or some parameter actually being used\n",
      "  but getting flagged wrongly here. Please open an issue if you find any such cases.\n",
      "\n",
      "\n",
      "[12:56:21] WARNING: /Users/runner/work/xgboost/xgboost/python-package/build/temp.macosx-11.0-arm64-cpython-38/xgboost/src/learner.cc:627: \n",
      "Parameters: { \"lambda_l1\", \"lambda_l2\", \"min_child_weigth\", \"min_gain_to_split\", \"num_leaves\" } might not be used.\n",
      "\n",
      "  This could be a false alarm, with some parameters getting used by language bindings but\n",
      "  then being mistakenly passed down to XGBoost core, or some parameter actually being used\n",
      "  but getting flagged wrongly here. Please open an issue if you find any such cases.\n",
      "\n",
      "\n",
      "[12:56:23] WARNING: /Users/runner/work/xgboost/xgboost/python-package/build/temp.macosx-11.0-arm64-cpython-38/xgboost/src/learner.cc:627: \n",
      "Parameters: { \"lambda_l1\", \"lambda_l2\", \"min_child_weigth\", \"min_gain_to_split\", \"num_leaves\" } might not be used.\n",
      "\n",
      "  This could be a false alarm, with some parameters getting used by language bindings but\n",
      "  then being mistakenly passed down to XGBoost core, or some parameter actually being used\n",
      "  but getting flagged wrongly here. Please open an issue if you find any such cases.\n",
      "\n",
      "\n"
     ]
    },
    {
     "data": {
      "text/plain": [
       "2644.9508489010577"
      ]
     },
     "execution_count": 48,
     "metadata": {},
     "output_type": "execute_result"
    }
   ],
   "source": [
    "stack_model.fit(X_train, y_train)\n",
    "y_stack = stack_model.predict(X_test)\n",
    "mean_absolute_error(y_test, y_stack)"
   ]
  },
  {
   "cell_type": "code",
   "execution_count": 49,
   "metadata": {},
   "outputs": [
    {
     "data": {
      "application/vnd.plotly.v1+json": {
       "config": {
        "plotlyServerURL": "https://plot.ly"
       },
       "data": [
        {
         "hovertemplate": "x=%{x}<br>y=%{y}<extra></extra>",
         "legendgroup": "",
         "marker": {
          "color": "#636efa",
          "symbol": "circle"
         },
         "mode": "markers",
         "name": "",
         "orientation": "v",
         "showlegend": false,
         "type": "scatter",
         "x": [
          603.9616996807553,
          370.7416910760735,
          341.05056295153304,
          325.2007876192789,
          413.8738964785664,
          460.4294978679976,
          373.39357980254704,
          94.26025776406007,
          324.270546452483,
          298.28701628364115,
          412.53599544238057,
          332.51159148753993,
          358.6611417964535,
          405.93158491035376,
          345.909218749876,
          251.02056151967037,
          117.06272345619435,
          168.59617087562611,
          385.4030004001605,
          24.054381526458215,
          426.25709268715246,
          221.2987710298326,
          467.35746794355435,
          782.6014811364497,
          271.84439940541586
         ],
         "xaxis": "x",
         "y": [
          2756,
          1314,
          4305,
          2616,
          13389,
          16137,
          2306,
          1656,
          2306,
          1656,
          2306,
          1656,
          2306,
          1656,
          2481,
          1272,
          174,
          2760,
          2178,
          1604,
          1604,
          131,
          2715,
          2715,
          23
         ],
         "yaxis": "y"
        }
       ],
       "layout": {
        "legend": {
         "tracegroupgap": 0
        },
        "margin": {
         "t": 60
        },
        "shapes": [
         {
          "type": "line",
          "x0": 0,
          "x1": 782.6014811364497,
          "y0": 0,
          "y1": 782.6014811364497
         }
        ],
        "template": {
         "data": {
          "bar": [
           {
            "error_x": {
             "color": "#2a3f5f"
            },
            "error_y": {
             "color": "#2a3f5f"
            },
            "marker": {
             "line": {
              "color": "#E5ECF6",
              "width": 0.5
             },
             "pattern": {
              "fillmode": "overlay",
              "size": 10,
              "solidity": 0.2
             }
            },
            "type": "bar"
           }
          ],
          "barpolar": [
           {
            "marker": {
             "line": {
              "color": "#E5ECF6",
              "width": 0.5
             },
             "pattern": {
              "fillmode": "overlay",
              "size": 10,
              "solidity": 0.2
             }
            },
            "type": "barpolar"
           }
          ],
          "carpet": [
           {
            "aaxis": {
             "endlinecolor": "#2a3f5f",
             "gridcolor": "white",
             "linecolor": "white",
             "minorgridcolor": "white",
             "startlinecolor": "#2a3f5f"
            },
            "baxis": {
             "endlinecolor": "#2a3f5f",
             "gridcolor": "white",
             "linecolor": "white",
             "minorgridcolor": "white",
             "startlinecolor": "#2a3f5f"
            },
            "type": "carpet"
           }
          ],
          "choropleth": [
           {
            "colorbar": {
             "outlinewidth": 0,
             "ticks": ""
            },
            "type": "choropleth"
           }
          ],
          "contour": [
           {
            "colorbar": {
             "outlinewidth": 0,
             "ticks": ""
            },
            "colorscale": [
             [
              0,
              "#0d0887"
             ],
             [
              0.1111111111111111,
              "#46039f"
             ],
             [
              0.2222222222222222,
              "#7201a8"
             ],
             [
              0.3333333333333333,
              "#9c179e"
             ],
             [
              0.4444444444444444,
              "#bd3786"
             ],
             [
              0.5555555555555556,
              "#d8576b"
             ],
             [
              0.6666666666666666,
              "#ed7953"
             ],
             [
              0.7777777777777778,
              "#fb9f3a"
             ],
             [
              0.8888888888888888,
              "#fdca26"
             ],
             [
              1,
              "#f0f921"
             ]
            ],
            "type": "contour"
           }
          ],
          "contourcarpet": [
           {
            "colorbar": {
             "outlinewidth": 0,
             "ticks": ""
            },
            "type": "contourcarpet"
           }
          ],
          "heatmap": [
           {
            "colorbar": {
             "outlinewidth": 0,
             "ticks": ""
            },
            "colorscale": [
             [
              0,
              "#0d0887"
             ],
             [
              0.1111111111111111,
              "#46039f"
             ],
             [
              0.2222222222222222,
              "#7201a8"
             ],
             [
              0.3333333333333333,
              "#9c179e"
             ],
             [
              0.4444444444444444,
              "#bd3786"
             ],
             [
              0.5555555555555556,
              "#d8576b"
             ],
             [
              0.6666666666666666,
              "#ed7953"
             ],
             [
              0.7777777777777778,
              "#fb9f3a"
             ],
             [
              0.8888888888888888,
              "#fdca26"
             ],
             [
              1,
              "#f0f921"
             ]
            ],
            "type": "heatmap"
           }
          ],
          "heatmapgl": [
           {
            "colorbar": {
             "outlinewidth": 0,
             "ticks": ""
            },
            "colorscale": [
             [
              0,
              "#0d0887"
             ],
             [
              0.1111111111111111,
              "#46039f"
             ],
             [
              0.2222222222222222,
              "#7201a8"
             ],
             [
              0.3333333333333333,
              "#9c179e"
             ],
             [
              0.4444444444444444,
              "#bd3786"
             ],
             [
              0.5555555555555556,
              "#d8576b"
             ],
             [
              0.6666666666666666,
              "#ed7953"
             ],
             [
              0.7777777777777778,
              "#fb9f3a"
             ],
             [
              0.8888888888888888,
              "#fdca26"
             ],
             [
              1,
              "#f0f921"
             ]
            ],
            "type": "heatmapgl"
           }
          ],
          "histogram": [
           {
            "marker": {
             "pattern": {
              "fillmode": "overlay",
              "size": 10,
              "solidity": 0.2
             }
            },
            "type": "histogram"
           }
          ],
          "histogram2d": [
           {
            "colorbar": {
             "outlinewidth": 0,
             "ticks": ""
            },
            "colorscale": [
             [
              0,
              "#0d0887"
             ],
             [
              0.1111111111111111,
              "#46039f"
             ],
             [
              0.2222222222222222,
              "#7201a8"
             ],
             [
              0.3333333333333333,
              "#9c179e"
             ],
             [
              0.4444444444444444,
              "#bd3786"
             ],
             [
              0.5555555555555556,
              "#d8576b"
             ],
             [
              0.6666666666666666,
              "#ed7953"
             ],
             [
              0.7777777777777778,
              "#fb9f3a"
             ],
             [
              0.8888888888888888,
              "#fdca26"
             ],
             [
              1,
              "#f0f921"
             ]
            ],
            "type": "histogram2d"
           }
          ],
          "histogram2dcontour": [
           {
            "colorbar": {
             "outlinewidth": 0,
             "ticks": ""
            },
            "colorscale": [
             [
              0,
              "#0d0887"
             ],
             [
              0.1111111111111111,
              "#46039f"
             ],
             [
              0.2222222222222222,
              "#7201a8"
             ],
             [
              0.3333333333333333,
              "#9c179e"
             ],
             [
              0.4444444444444444,
              "#bd3786"
             ],
             [
              0.5555555555555556,
              "#d8576b"
             ],
             [
              0.6666666666666666,
              "#ed7953"
             ],
             [
              0.7777777777777778,
              "#fb9f3a"
             ],
             [
              0.8888888888888888,
              "#fdca26"
             ],
             [
              1,
              "#f0f921"
             ]
            ],
            "type": "histogram2dcontour"
           }
          ],
          "mesh3d": [
           {
            "colorbar": {
             "outlinewidth": 0,
             "ticks": ""
            },
            "type": "mesh3d"
           }
          ],
          "parcoords": [
           {
            "line": {
             "colorbar": {
              "outlinewidth": 0,
              "ticks": ""
             }
            },
            "type": "parcoords"
           }
          ],
          "pie": [
           {
            "automargin": true,
            "type": "pie"
           }
          ],
          "scatter": [
           {
            "fillpattern": {
             "fillmode": "overlay",
             "size": 10,
             "solidity": 0.2
            },
            "type": "scatter"
           }
          ],
          "scatter3d": [
           {
            "line": {
             "colorbar": {
              "outlinewidth": 0,
              "ticks": ""
             }
            },
            "marker": {
             "colorbar": {
              "outlinewidth": 0,
              "ticks": ""
             }
            },
            "type": "scatter3d"
           }
          ],
          "scattercarpet": [
           {
            "marker": {
             "colorbar": {
              "outlinewidth": 0,
              "ticks": ""
             }
            },
            "type": "scattercarpet"
           }
          ],
          "scattergeo": [
           {
            "marker": {
             "colorbar": {
              "outlinewidth": 0,
              "ticks": ""
             }
            },
            "type": "scattergeo"
           }
          ],
          "scattergl": [
           {
            "marker": {
             "colorbar": {
              "outlinewidth": 0,
              "ticks": ""
             }
            },
            "type": "scattergl"
           }
          ],
          "scattermapbox": [
           {
            "marker": {
             "colorbar": {
              "outlinewidth": 0,
              "ticks": ""
             }
            },
            "type": "scattermapbox"
           }
          ],
          "scatterpolar": [
           {
            "marker": {
             "colorbar": {
              "outlinewidth": 0,
              "ticks": ""
             }
            },
            "type": "scatterpolar"
           }
          ],
          "scatterpolargl": [
           {
            "marker": {
             "colorbar": {
              "outlinewidth": 0,
              "ticks": ""
             }
            },
            "type": "scatterpolargl"
           }
          ],
          "scatterternary": [
           {
            "marker": {
             "colorbar": {
              "outlinewidth": 0,
              "ticks": ""
             }
            },
            "type": "scatterternary"
           }
          ],
          "surface": [
           {
            "colorbar": {
             "outlinewidth": 0,
             "ticks": ""
            },
            "colorscale": [
             [
              0,
              "#0d0887"
             ],
             [
              0.1111111111111111,
              "#46039f"
             ],
             [
              0.2222222222222222,
              "#7201a8"
             ],
             [
              0.3333333333333333,
              "#9c179e"
             ],
             [
              0.4444444444444444,
              "#bd3786"
             ],
             [
              0.5555555555555556,
              "#d8576b"
             ],
             [
              0.6666666666666666,
              "#ed7953"
             ],
             [
              0.7777777777777778,
              "#fb9f3a"
             ],
             [
              0.8888888888888888,
              "#fdca26"
             ],
             [
              1,
              "#f0f921"
             ]
            ],
            "type": "surface"
           }
          ],
          "table": [
           {
            "cells": {
             "fill": {
              "color": "#EBF0F8"
             },
             "line": {
              "color": "white"
             }
            },
            "header": {
             "fill": {
              "color": "#C8D4E3"
             },
             "line": {
              "color": "white"
             }
            },
            "type": "table"
           }
          ]
         },
         "layout": {
          "annotationdefaults": {
           "arrowcolor": "#2a3f5f",
           "arrowhead": 0,
           "arrowwidth": 1
          },
          "autotypenumbers": "strict",
          "coloraxis": {
           "colorbar": {
            "outlinewidth": 0,
            "ticks": ""
           }
          },
          "colorscale": {
           "diverging": [
            [
             0,
             "#8e0152"
            ],
            [
             0.1,
             "#c51b7d"
            ],
            [
             0.2,
             "#de77ae"
            ],
            [
             0.3,
             "#f1b6da"
            ],
            [
             0.4,
             "#fde0ef"
            ],
            [
             0.5,
             "#f7f7f7"
            ],
            [
             0.6,
             "#e6f5d0"
            ],
            [
             0.7,
             "#b8e186"
            ],
            [
             0.8,
             "#7fbc41"
            ],
            [
             0.9,
             "#4d9221"
            ],
            [
             1,
             "#276419"
            ]
           ],
           "sequential": [
            [
             0,
             "#0d0887"
            ],
            [
             0.1111111111111111,
             "#46039f"
            ],
            [
             0.2222222222222222,
             "#7201a8"
            ],
            [
             0.3333333333333333,
             "#9c179e"
            ],
            [
             0.4444444444444444,
             "#bd3786"
            ],
            [
             0.5555555555555556,
             "#d8576b"
            ],
            [
             0.6666666666666666,
             "#ed7953"
            ],
            [
             0.7777777777777778,
             "#fb9f3a"
            ],
            [
             0.8888888888888888,
             "#fdca26"
            ],
            [
             1,
             "#f0f921"
            ]
           ],
           "sequentialminus": [
            [
             0,
             "#0d0887"
            ],
            [
             0.1111111111111111,
             "#46039f"
            ],
            [
             0.2222222222222222,
             "#7201a8"
            ],
            [
             0.3333333333333333,
             "#9c179e"
            ],
            [
             0.4444444444444444,
             "#bd3786"
            ],
            [
             0.5555555555555556,
             "#d8576b"
            ],
            [
             0.6666666666666666,
             "#ed7953"
            ],
            [
             0.7777777777777778,
             "#fb9f3a"
            ],
            [
             0.8888888888888888,
             "#fdca26"
            ],
            [
             1,
             "#f0f921"
            ]
           ]
          },
          "colorway": [
           "#636efa",
           "#EF553B",
           "#00cc96",
           "#ab63fa",
           "#FFA15A",
           "#19d3f3",
           "#FF6692",
           "#B6E880",
           "#FF97FF",
           "#FECB52"
          ],
          "font": {
           "color": "#2a3f5f"
          },
          "geo": {
           "bgcolor": "white",
           "lakecolor": "white",
           "landcolor": "#E5ECF6",
           "showlakes": true,
           "showland": true,
           "subunitcolor": "white"
          },
          "hoverlabel": {
           "align": "left"
          },
          "hovermode": "closest",
          "mapbox": {
           "style": "light"
          },
          "paper_bgcolor": "white",
          "plot_bgcolor": "#E5ECF6",
          "polar": {
           "angularaxis": {
            "gridcolor": "white",
            "linecolor": "white",
            "ticks": ""
           },
           "bgcolor": "#E5ECF6",
           "radialaxis": {
            "gridcolor": "white",
            "linecolor": "white",
            "ticks": ""
           }
          },
          "scene": {
           "xaxis": {
            "backgroundcolor": "#E5ECF6",
            "gridcolor": "white",
            "gridwidth": 2,
            "linecolor": "white",
            "showbackground": true,
            "ticks": "",
            "zerolinecolor": "white"
           },
           "yaxis": {
            "backgroundcolor": "#E5ECF6",
            "gridcolor": "white",
            "gridwidth": 2,
            "linecolor": "white",
            "showbackground": true,
            "ticks": "",
            "zerolinecolor": "white"
           },
           "zaxis": {
            "backgroundcolor": "#E5ECF6",
            "gridcolor": "white",
            "gridwidth": 2,
            "linecolor": "white",
            "showbackground": true,
            "ticks": "",
            "zerolinecolor": "white"
           }
          },
          "shapedefaults": {
           "line": {
            "color": "#2a3f5f"
           }
          },
          "ternary": {
           "aaxis": {
            "gridcolor": "white",
            "linecolor": "white",
            "ticks": ""
           },
           "baxis": {
            "gridcolor": "white",
            "linecolor": "white",
            "ticks": ""
           },
           "bgcolor": "#E5ECF6",
           "caxis": {
            "gridcolor": "white",
            "linecolor": "white",
            "ticks": ""
           }
          },
          "title": {
           "x": 0.05
          },
          "xaxis": {
           "automargin": true,
           "gridcolor": "white",
           "linecolor": "white",
           "ticks": "",
           "title": {
            "standoff": 15
           },
           "zerolinecolor": "white",
           "zerolinewidth": 2
          },
          "yaxis": {
           "automargin": true,
           "gridcolor": "white",
           "linecolor": "white",
           "ticks": "",
           "title": {
            "standoff": 15
           },
           "zerolinecolor": "white",
           "zerolinewidth": 2
          }
         }
        },
        "xaxis": {
         "anchor": "y",
         "domain": [
          0,
          1
         ],
         "title": {
          "text": "x"
         }
        },
        "yaxis": {
         "anchor": "x",
         "domain": [
          0,
          1
         ],
         "title": {
          "text": "y"
         }
        }
       }
      }
     },
     "metadata": {},
     "output_type": "display_data"
    }
   ],
   "source": [
    "y_pred = y_stack\n",
    "\n",
    "fig = px.scatter(x = y_pred, y = y_test)\n",
    "fig.update_layout(shapes=[{\"type\": \"line\", \"y0\":0, \"y1\":max(y_pred), \"x0\":0, \"x1\": max(y_pred)}])"
   ]
  },
  {
   "cell_type": "code",
   "execution_count": 50,
   "metadata": {},
   "outputs": [
    {
     "name": "stdout",
     "output_type": "stream",
     "text": [
      "[12:56:46] WARNING: /Users/runner/work/xgboost/xgboost/python-package/build/temp.macosx-11.0-arm64-cpython-38/xgboost/src/learner.cc:627: \n",
      "Parameters: { \"lambda_l1\", \"lambda_l2\", \"min_child_weigth\", \"min_gain_to_split\", \"num_leaves\" } might not be used.\n",
      "\n",
      "  This could be a false alarm, with some parameters getting used by language bindings but\n",
      "  then being mistakenly passed down to XGBoost core, or some parameter actually being used\n",
      "  but getting flagged wrongly here. Please open an issue if you find any such cases.\n",
      "\n",
      "\n",
      "[12:56:47] WARNING: /Users/runner/work/xgboost/xgboost/python-package/build/temp.macosx-11.0-arm64-cpython-38/xgboost/src/learner.cc:627: \n",
      "Parameters: { \"lambda_l1\", \"lambda_l2\", \"min_child_weigth\", \"min_gain_to_split\", \"num_leaves\" } might not be used.\n",
      "\n",
      "  This could be a false alarm, with some parameters getting used by language bindings but\n",
      "  then being mistakenly passed down to XGBoost core, or some parameter actually being used\n",
      "  but getting flagged wrongly here. Please open an issue if you find any such cases.\n",
      "\n",
      "\n",
      "[12:56:49] WARNING: /Users/runner/work/xgboost/xgboost/python-package/build/temp.macosx-11.0-arm64-cpython-38/xgboost/src/learner.cc:627: \n",
      "Parameters: { \"lambda_l1\", \"lambda_l2\", \"min_child_weigth\", \"min_gain_to_split\", \"num_leaves\" } might not be used.\n",
      "\n",
      "  This could be a false alarm, with some parameters getting used by language bindings but\n",
      "  then being mistakenly passed down to XGBoost core, or some parameter actually being used\n",
      "  but getting flagged wrongly here. Please open an issue if you find any such cases.\n",
      "\n",
      "\n"
     ]
    },
    {
     "data": {
      "text/plain": [
       "array([-1088604.03271592,   -10788.65317568,    -5711.83958714])"
      ]
     },
     "execution_count": 50,
     "metadata": {},
     "output_type": "execute_result"
    }
   ],
   "source": [
    "from sklearn.ensemble import VotingRegressor\n",
    "\n",
    "vr = VotingRegressor(estimators=estimators)\n",
    "\n",
    "voting_model = create_model(vr)\n",
    "\n",
    "cross_val_score(voting_model, X_train, y_train, cv=3, scoring=\"neg_mean_absolute_error\")"
   ]
  },
  {
   "cell_type": "code",
   "execution_count": 51,
   "metadata": {},
   "outputs": [
    {
     "name": "stdout",
     "output_type": "stream",
     "text": [
      "[12:56:52] WARNING: /Users/runner/work/xgboost/xgboost/python-package/build/temp.macosx-11.0-arm64-cpython-38/xgboost/src/learner.cc:627: \n",
      "Parameters: { \"lambda_l1\", \"lambda_l2\", \"min_child_weigth\", \"min_gain_to_split\", \"num_leaves\" } might not be used.\n",
      "\n",
      "  This could be a false alarm, with some parameters getting used by language bindings but\n",
      "  then being mistakenly passed down to XGBoost core, or some parameter actually being used\n",
      "  but getting flagged wrongly here. Please open an issue if you find any such cases.\n",
      "\n",
      "\n",
      "2644.9508489010577\n"
     ]
    },
    {
     "data": {
      "application/vnd.plotly.v1+json": {
       "config": {
        "plotlyServerURL": "https://plot.ly"
       },
       "data": [
        {
         "hovertemplate": "x=%{x}<br>y=%{y}<extra></extra>",
         "legendgroup": "",
         "marker": {
          "color": "#636efa",
          "symbol": "circle"
         },
         "mode": "markers",
         "name": "",
         "orientation": "v",
         "showlegend": false,
         "type": "scatter",
         "x": [
          603.9616996807553,
          370.7416910760735,
          341.05056295153304,
          325.2007876192789,
          413.8738964785664,
          460.4294978679976,
          373.39357980254704,
          94.26025776406007,
          324.270546452483,
          298.28701628364115,
          412.53599544238057,
          332.51159148753993,
          358.6611417964535,
          405.93158491035376,
          345.909218749876,
          251.02056151967037,
          117.06272345619435,
          168.59617087562611,
          385.4030004001605,
          24.054381526458215,
          426.25709268715246,
          221.2987710298326,
          467.35746794355435,
          782.6014811364497,
          271.84439940541586
         ],
         "xaxis": "x",
         "y": [
          2756,
          1314,
          4305,
          2616,
          13389,
          16137,
          2306,
          1656,
          2306,
          1656,
          2306,
          1656,
          2306,
          1656,
          2481,
          1272,
          174,
          2760,
          2178,
          1604,
          1604,
          131,
          2715,
          2715,
          23
         ],
         "yaxis": "y"
        }
       ],
       "layout": {
        "legend": {
         "tracegroupgap": 0
        },
        "margin": {
         "t": 60
        },
        "shapes": [
         {
          "type": "line",
          "x0": 0,
          "x1": 782.6014811364497,
          "y0": 0,
          "y1": 782.6014811364497
         }
        ],
        "template": {
         "data": {
          "bar": [
           {
            "error_x": {
             "color": "#2a3f5f"
            },
            "error_y": {
             "color": "#2a3f5f"
            },
            "marker": {
             "line": {
              "color": "#E5ECF6",
              "width": 0.5
             },
             "pattern": {
              "fillmode": "overlay",
              "size": 10,
              "solidity": 0.2
             }
            },
            "type": "bar"
           }
          ],
          "barpolar": [
           {
            "marker": {
             "line": {
              "color": "#E5ECF6",
              "width": 0.5
             },
             "pattern": {
              "fillmode": "overlay",
              "size": 10,
              "solidity": 0.2
             }
            },
            "type": "barpolar"
           }
          ],
          "carpet": [
           {
            "aaxis": {
             "endlinecolor": "#2a3f5f",
             "gridcolor": "white",
             "linecolor": "white",
             "minorgridcolor": "white",
             "startlinecolor": "#2a3f5f"
            },
            "baxis": {
             "endlinecolor": "#2a3f5f",
             "gridcolor": "white",
             "linecolor": "white",
             "minorgridcolor": "white",
             "startlinecolor": "#2a3f5f"
            },
            "type": "carpet"
           }
          ],
          "choropleth": [
           {
            "colorbar": {
             "outlinewidth": 0,
             "ticks": ""
            },
            "type": "choropleth"
           }
          ],
          "contour": [
           {
            "colorbar": {
             "outlinewidth": 0,
             "ticks": ""
            },
            "colorscale": [
             [
              0,
              "#0d0887"
             ],
             [
              0.1111111111111111,
              "#46039f"
             ],
             [
              0.2222222222222222,
              "#7201a8"
             ],
             [
              0.3333333333333333,
              "#9c179e"
             ],
             [
              0.4444444444444444,
              "#bd3786"
             ],
             [
              0.5555555555555556,
              "#d8576b"
             ],
             [
              0.6666666666666666,
              "#ed7953"
             ],
             [
              0.7777777777777778,
              "#fb9f3a"
             ],
             [
              0.8888888888888888,
              "#fdca26"
             ],
             [
              1,
              "#f0f921"
             ]
            ],
            "type": "contour"
           }
          ],
          "contourcarpet": [
           {
            "colorbar": {
             "outlinewidth": 0,
             "ticks": ""
            },
            "type": "contourcarpet"
           }
          ],
          "heatmap": [
           {
            "colorbar": {
             "outlinewidth": 0,
             "ticks": ""
            },
            "colorscale": [
             [
              0,
              "#0d0887"
             ],
             [
              0.1111111111111111,
              "#46039f"
             ],
             [
              0.2222222222222222,
              "#7201a8"
             ],
             [
              0.3333333333333333,
              "#9c179e"
             ],
             [
              0.4444444444444444,
              "#bd3786"
             ],
             [
              0.5555555555555556,
              "#d8576b"
             ],
             [
              0.6666666666666666,
              "#ed7953"
             ],
             [
              0.7777777777777778,
              "#fb9f3a"
             ],
             [
              0.8888888888888888,
              "#fdca26"
             ],
             [
              1,
              "#f0f921"
             ]
            ],
            "type": "heatmap"
           }
          ],
          "heatmapgl": [
           {
            "colorbar": {
             "outlinewidth": 0,
             "ticks": ""
            },
            "colorscale": [
             [
              0,
              "#0d0887"
             ],
             [
              0.1111111111111111,
              "#46039f"
             ],
             [
              0.2222222222222222,
              "#7201a8"
             ],
             [
              0.3333333333333333,
              "#9c179e"
             ],
             [
              0.4444444444444444,
              "#bd3786"
             ],
             [
              0.5555555555555556,
              "#d8576b"
             ],
             [
              0.6666666666666666,
              "#ed7953"
             ],
             [
              0.7777777777777778,
              "#fb9f3a"
             ],
             [
              0.8888888888888888,
              "#fdca26"
             ],
             [
              1,
              "#f0f921"
             ]
            ],
            "type": "heatmapgl"
           }
          ],
          "histogram": [
           {
            "marker": {
             "pattern": {
              "fillmode": "overlay",
              "size": 10,
              "solidity": 0.2
             }
            },
            "type": "histogram"
           }
          ],
          "histogram2d": [
           {
            "colorbar": {
             "outlinewidth": 0,
             "ticks": ""
            },
            "colorscale": [
             [
              0,
              "#0d0887"
             ],
             [
              0.1111111111111111,
              "#46039f"
             ],
             [
              0.2222222222222222,
              "#7201a8"
             ],
             [
              0.3333333333333333,
              "#9c179e"
             ],
             [
              0.4444444444444444,
              "#bd3786"
             ],
             [
              0.5555555555555556,
              "#d8576b"
             ],
             [
              0.6666666666666666,
              "#ed7953"
             ],
             [
              0.7777777777777778,
              "#fb9f3a"
             ],
             [
              0.8888888888888888,
              "#fdca26"
             ],
             [
              1,
              "#f0f921"
             ]
            ],
            "type": "histogram2d"
           }
          ],
          "histogram2dcontour": [
           {
            "colorbar": {
             "outlinewidth": 0,
             "ticks": ""
            },
            "colorscale": [
             [
              0,
              "#0d0887"
             ],
             [
              0.1111111111111111,
              "#46039f"
             ],
             [
              0.2222222222222222,
              "#7201a8"
             ],
             [
              0.3333333333333333,
              "#9c179e"
             ],
             [
              0.4444444444444444,
              "#bd3786"
             ],
             [
              0.5555555555555556,
              "#d8576b"
             ],
             [
              0.6666666666666666,
              "#ed7953"
             ],
             [
              0.7777777777777778,
              "#fb9f3a"
             ],
             [
              0.8888888888888888,
              "#fdca26"
             ],
             [
              1,
              "#f0f921"
             ]
            ],
            "type": "histogram2dcontour"
           }
          ],
          "mesh3d": [
           {
            "colorbar": {
             "outlinewidth": 0,
             "ticks": ""
            },
            "type": "mesh3d"
           }
          ],
          "parcoords": [
           {
            "line": {
             "colorbar": {
              "outlinewidth": 0,
              "ticks": ""
             }
            },
            "type": "parcoords"
           }
          ],
          "pie": [
           {
            "automargin": true,
            "type": "pie"
           }
          ],
          "scatter": [
           {
            "fillpattern": {
             "fillmode": "overlay",
             "size": 10,
             "solidity": 0.2
            },
            "type": "scatter"
           }
          ],
          "scatter3d": [
           {
            "line": {
             "colorbar": {
              "outlinewidth": 0,
              "ticks": ""
             }
            },
            "marker": {
             "colorbar": {
              "outlinewidth": 0,
              "ticks": ""
             }
            },
            "type": "scatter3d"
           }
          ],
          "scattercarpet": [
           {
            "marker": {
             "colorbar": {
              "outlinewidth": 0,
              "ticks": ""
             }
            },
            "type": "scattercarpet"
           }
          ],
          "scattergeo": [
           {
            "marker": {
             "colorbar": {
              "outlinewidth": 0,
              "ticks": ""
             }
            },
            "type": "scattergeo"
           }
          ],
          "scattergl": [
           {
            "marker": {
             "colorbar": {
              "outlinewidth": 0,
              "ticks": ""
             }
            },
            "type": "scattergl"
           }
          ],
          "scattermapbox": [
           {
            "marker": {
             "colorbar": {
              "outlinewidth": 0,
              "ticks": ""
             }
            },
            "type": "scattermapbox"
           }
          ],
          "scatterpolar": [
           {
            "marker": {
             "colorbar": {
              "outlinewidth": 0,
              "ticks": ""
             }
            },
            "type": "scatterpolar"
           }
          ],
          "scatterpolargl": [
           {
            "marker": {
             "colorbar": {
              "outlinewidth": 0,
              "ticks": ""
             }
            },
            "type": "scatterpolargl"
           }
          ],
          "scatterternary": [
           {
            "marker": {
             "colorbar": {
              "outlinewidth": 0,
              "ticks": ""
             }
            },
            "type": "scatterternary"
           }
          ],
          "surface": [
           {
            "colorbar": {
             "outlinewidth": 0,
             "ticks": ""
            },
            "colorscale": [
             [
              0,
              "#0d0887"
             ],
             [
              0.1111111111111111,
              "#46039f"
             ],
             [
              0.2222222222222222,
              "#7201a8"
             ],
             [
              0.3333333333333333,
              "#9c179e"
             ],
             [
              0.4444444444444444,
              "#bd3786"
             ],
             [
              0.5555555555555556,
              "#d8576b"
             ],
             [
              0.6666666666666666,
              "#ed7953"
             ],
             [
              0.7777777777777778,
              "#fb9f3a"
             ],
             [
              0.8888888888888888,
              "#fdca26"
             ],
             [
              1,
              "#f0f921"
             ]
            ],
            "type": "surface"
           }
          ],
          "table": [
           {
            "cells": {
             "fill": {
              "color": "#EBF0F8"
             },
             "line": {
              "color": "white"
             }
            },
            "header": {
             "fill": {
              "color": "#C8D4E3"
             },
             "line": {
              "color": "white"
             }
            },
            "type": "table"
           }
          ]
         },
         "layout": {
          "annotationdefaults": {
           "arrowcolor": "#2a3f5f",
           "arrowhead": 0,
           "arrowwidth": 1
          },
          "autotypenumbers": "strict",
          "coloraxis": {
           "colorbar": {
            "outlinewidth": 0,
            "ticks": ""
           }
          },
          "colorscale": {
           "diverging": [
            [
             0,
             "#8e0152"
            ],
            [
             0.1,
             "#c51b7d"
            ],
            [
             0.2,
             "#de77ae"
            ],
            [
             0.3,
             "#f1b6da"
            ],
            [
             0.4,
             "#fde0ef"
            ],
            [
             0.5,
             "#f7f7f7"
            ],
            [
             0.6,
             "#e6f5d0"
            ],
            [
             0.7,
             "#b8e186"
            ],
            [
             0.8,
             "#7fbc41"
            ],
            [
             0.9,
             "#4d9221"
            ],
            [
             1,
             "#276419"
            ]
           ],
           "sequential": [
            [
             0,
             "#0d0887"
            ],
            [
             0.1111111111111111,
             "#46039f"
            ],
            [
             0.2222222222222222,
             "#7201a8"
            ],
            [
             0.3333333333333333,
             "#9c179e"
            ],
            [
             0.4444444444444444,
             "#bd3786"
            ],
            [
             0.5555555555555556,
             "#d8576b"
            ],
            [
             0.6666666666666666,
             "#ed7953"
            ],
            [
             0.7777777777777778,
             "#fb9f3a"
            ],
            [
             0.8888888888888888,
             "#fdca26"
            ],
            [
             1,
             "#f0f921"
            ]
           ],
           "sequentialminus": [
            [
             0,
             "#0d0887"
            ],
            [
             0.1111111111111111,
             "#46039f"
            ],
            [
             0.2222222222222222,
             "#7201a8"
            ],
            [
             0.3333333333333333,
             "#9c179e"
            ],
            [
             0.4444444444444444,
             "#bd3786"
            ],
            [
             0.5555555555555556,
             "#d8576b"
            ],
            [
             0.6666666666666666,
             "#ed7953"
            ],
            [
             0.7777777777777778,
             "#fb9f3a"
            ],
            [
             0.8888888888888888,
             "#fdca26"
            ],
            [
             1,
             "#f0f921"
            ]
           ]
          },
          "colorway": [
           "#636efa",
           "#EF553B",
           "#00cc96",
           "#ab63fa",
           "#FFA15A",
           "#19d3f3",
           "#FF6692",
           "#B6E880",
           "#FF97FF",
           "#FECB52"
          ],
          "font": {
           "color": "#2a3f5f"
          },
          "geo": {
           "bgcolor": "white",
           "lakecolor": "white",
           "landcolor": "#E5ECF6",
           "showlakes": true,
           "showland": true,
           "subunitcolor": "white"
          },
          "hoverlabel": {
           "align": "left"
          },
          "hovermode": "closest",
          "mapbox": {
           "style": "light"
          },
          "paper_bgcolor": "white",
          "plot_bgcolor": "#E5ECF6",
          "polar": {
           "angularaxis": {
            "gridcolor": "white",
            "linecolor": "white",
            "ticks": ""
           },
           "bgcolor": "#E5ECF6",
           "radialaxis": {
            "gridcolor": "white",
            "linecolor": "white",
            "ticks": ""
           }
          },
          "scene": {
           "xaxis": {
            "backgroundcolor": "#E5ECF6",
            "gridcolor": "white",
            "gridwidth": 2,
            "linecolor": "white",
            "showbackground": true,
            "ticks": "",
            "zerolinecolor": "white"
           },
           "yaxis": {
            "backgroundcolor": "#E5ECF6",
            "gridcolor": "white",
            "gridwidth": 2,
            "linecolor": "white",
            "showbackground": true,
            "ticks": "",
            "zerolinecolor": "white"
           },
           "zaxis": {
            "backgroundcolor": "#E5ECF6",
            "gridcolor": "white",
            "gridwidth": 2,
            "linecolor": "white",
            "showbackground": true,
            "ticks": "",
            "zerolinecolor": "white"
           }
          },
          "shapedefaults": {
           "line": {
            "color": "#2a3f5f"
           }
          },
          "ternary": {
           "aaxis": {
            "gridcolor": "white",
            "linecolor": "white",
            "ticks": ""
           },
           "baxis": {
            "gridcolor": "white",
            "linecolor": "white",
            "ticks": ""
           },
           "bgcolor": "#E5ECF6",
           "caxis": {
            "gridcolor": "white",
            "linecolor": "white",
            "ticks": ""
           }
          },
          "title": {
           "x": 0.05
          },
          "xaxis": {
           "automargin": true,
           "gridcolor": "white",
           "linecolor": "white",
           "ticks": "",
           "title": {
            "standoff": 15
           },
           "zerolinecolor": "white",
           "zerolinewidth": 2
          },
          "yaxis": {
           "automargin": true,
           "gridcolor": "white",
           "linecolor": "white",
           "ticks": "",
           "title": {
            "standoff": 15
           },
           "zerolinecolor": "white",
           "zerolinewidth": 2
          }
         }
        },
        "xaxis": {
         "anchor": "y",
         "domain": [
          0,
          1
         ],
         "title": {
          "text": "x"
         }
        },
        "yaxis": {
         "anchor": "x",
         "domain": [
          0,
          1
         ],
         "title": {
          "text": "y"
         }
        }
       }
      }
     },
     "metadata": {},
     "output_type": "display_data"
    }
   ],
   "source": [
    "voting_model.fit(X_train, y_train)\n",
    "y_voting = stack_model.predict(X_test)\n",
    "print(mean_absolute_error(y_test, y_voting))\n",
    "\n",
    "y_pred = y_voting\n",
    "\n",
    "fig = px.scatter(x = y_pred, y = y_test)\n",
    "fig.update_layout(shapes=[{\"type\": \"line\", \"y0\":0, \"y1\":max(y_pred), \"x0\":0, \"x1\": max(y_pred)}])"
   ]
  },
  {
   "cell_type": "code",
   "execution_count": 116,
   "metadata": {},
   "outputs": [
    {
     "data": {
      "text/html": [
       "<div>\n",
       "<style scoped>\n",
       "    .dataframe tbody tr th:only-of-type {\n",
       "        vertical-align: middle;\n",
       "    }\n",
       "\n",
       "    .dataframe tbody tr th {\n",
       "        vertical-align: top;\n",
       "    }\n",
       "\n",
       "    .dataframe thead th {\n",
       "        text-align: right;\n",
       "    }\n",
       "</style>\n",
       "<table border=\"1\" class=\"dataframe\">\n",
       "  <thead>\n",
       "    <tr style=\"text-align: right;\">\n",
       "      <th></th>\n",
       "      <th>date</th>\n",
       "      <th>y_pred</th>\n",
       "    </tr>\n",
       "  </thead>\n",
       "  <tbody>\n",
       "    <tr>\n",
       "      <th>0</th>\n",
       "      <td>2018-12-24 13:40:42</td>\n",
       "      <td>316.016800</td>\n",
       "    </tr>\n",
       "    <tr>\n",
       "      <th>1</th>\n",
       "      <td>2018-12-26 13:30:43</td>\n",
       "      <td>47.188125</td>\n",
       "    </tr>\n",
       "    <tr>\n",
       "      <th>2</th>\n",
       "      <td>2018-12-29 13:40:40</td>\n",
       "      <td>311.473424</td>\n",
       "    </tr>\n",
       "    <tr>\n",
       "      <th>3</th>\n",
       "      <td>2019-01-25 13:30:47</td>\n",
       "      <td>72.442495</td>\n",
       "    </tr>\n",
       "    <tr>\n",
       "      <th>4</th>\n",
       "      <td>2019-01-28 13:40:43</td>\n",
       "      <td>220.278946</td>\n",
       "    </tr>\n",
       "  </tbody>\n",
       "</table>\n",
       "</div>"
      ],
      "text/plain": [
       "                  date      y_pred\n",
       "0  2018-12-24 13:40:42  316.016800\n",
       "1  2018-12-26 13:30:43   47.188125\n",
       "2  2018-12-29 13:40:40  311.473424\n",
       "3  2019-01-25 13:30:47   72.442495\n",
       "4  2019-01-28 13:40:43  220.278946"
      ]
     },
     "execution_count": 116,
     "metadata": {},
     "output_type": "execute_result"
    }
   ],
   "source": [
    "with open(\"params.yaml\") as config_file:\n",
    "    config = yaml.safe_load(config_file)\n",
    "\n",
    "pred = pd.read_csv(config[\"evaluate\"][\"final_predictions_file\"])\n",
    "\n",
    "pred.head()"
   ]
  },
  {
   "cell_type": "code",
   "execution_count": 123,
   "metadata": {},
   "outputs": [
    {
     "name": "stdout",
     "output_type": "stream",
     "text": [
      "2022-08-27 13:50:41,454 — DATA_LABEL — INFO — Reading data\n",
      "2022-08-27 13:50:41,505 — DATA_LABEL — INFO — Filtering data\n"
     ]
    },
    {
     "name": "stderr",
     "output_type": "stream",
     "text": [
      "c:\\Users\\Daniel\\cyanobacteria-monitoring\\src\\data\\label_gee.py:30: SettingWithCopyWarning:\n",
      "\n",
      "\n",
      "A value is trying to be set on a copy of a slice from a DataFrame.\n",
      "Try using .loc[row_indexer,col_indexer] = value instead\n",
      "\n",
      "See the caveats in the documentation: https://pandas.pydata.org/pandas-docs/stable/user_guide/indexing.html#returning-a-view-versus-a-copy\n",
      "\n",
      "c:\\Users\\Daniel\\cyanobacteria-monitoring\\src\\data\\label_gee.py:31: SettingWithCopyWarning:\n",
      "\n",
      "\n",
      "A value is trying to be set on a copy of a slice from a DataFrame.\n",
      "Try using .loc[row_indexer,col_indexer] = value instead\n",
      "\n",
      "See the caveats in the documentation: https://pandas.pydata.org/pandas-docs/stable/user_guide/indexing.html#returning-a-view-versus-a-copy\n",
      "\n"
     ]
    }
   ],
   "source": [
    "from src.data.label_gee import load_data\n",
    "\n",
    "_, ciano = load_data(\"params.yaml\")"
   ]
  },
  {
   "cell_type": "code",
   "execution_count": 126,
   "metadata": {},
   "outputs": [
    {
     "data": {
      "text/html": [
       "<div>\n",
       "<style scoped>\n",
       "    .dataframe tbody tr th:only-of-type {\n",
       "        vertical-align: middle;\n",
       "    }\n",
       "\n",
       "    .dataframe tbody tr th {\n",
       "        vertical-align: top;\n",
       "    }\n",
       "\n",
       "    .dataframe thead th {\n",
       "        text-align: right;\n",
       "    }\n",
       "</style>\n",
       "<table border=\"1\" class=\"dataframe\">\n",
       "  <thead>\n",
       "    <tr style=\"text-align: right;\">\n",
       "      <th></th>\n",
       "      <th>Data da coleta</th>\n",
       "      <th>Resultado</th>\n",
       "    </tr>\n",
       "  </thead>\n",
       "  <tbody>\n",
       "    <tr>\n",
       "      <th>4873</th>\n",
       "      <td>2018-12-19</td>\n",
       "      <td>719</td>\n",
       "    </tr>\n",
       "    <tr>\n",
       "      <th>2949</th>\n",
       "      <td>2019-01-18</td>\n",
       "      <td>0</td>\n",
       "    </tr>\n",
       "    <tr>\n",
       "      <th>2538</th>\n",
       "      <td>2019-01-28</td>\n",
       "      <td>251</td>\n",
       "    </tr>\n",
       "    <tr>\n",
       "      <th>4881</th>\n",
       "      <td>2019-02-11</td>\n",
       "      <td>335</td>\n",
       "    </tr>\n",
       "    <tr>\n",
       "      <th>3723</th>\n",
       "      <td>2019-02-25</td>\n",
       "      <td>298</td>\n",
       "    </tr>\n",
       "  </tbody>\n",
       "</table>\n",
       "</div>"
      ],
      "text/plain": [
       "     Data da coleta  Resultado\n",
       "4873     2018-12-19        719\n",
       "2949     2019-01-18          0\n",
       "2538     2019-01-28        251\n",
       "4881     2019-02-11        335\n",
       "3723     2019-02-25        298"
      ]
     },
     "execution_count": 126,
     "metadata": {},
     "output_type": "execute_result"
    }
   ],
   "source": [
    "ciano.head()"
   ]
  },
  {
   "cell_type": "code",
   "execution_count": 52,
   "metadata": {},
   "outputs": [
    {
     "data": {
      "text/html": [
       "<style>#sk-container-id-4 {color: black;background-color: white;}#sk-container-id-4 pre{padding: 0;}#sk-container-id-4 div.sk-toggleable {background-color: white;}#sk-container-id-4 label.sk-toggleable__label {cursor: pointer;display: block;width: 100%;margin-bottom: 0;padding: 0.3em;box-sizing: border-box;text-align: center;}#sk-container-id-4 label.sk-toggleable__label-arrow:before {content: \"▸\";float: left;margin-right: 0.25em;color: #696969;}#sk-container-id-4 label.sk-toggleable__label-arrow:hover:before {color: black;}#sk-container-id-4 div.sk-estimator:hover label.sk-toggleable__label-arrow:before {color: black;}#sk-container-id-4 div.sk-toggleable__content {max-height: 0;max-width: 0;overflow: hidden;text-align: left;background-color: #f0f8ff;}#sk-container-id-4 div.sk-toggleable__content pre {margin: 0.2em;color: black;border-radius: 0.25em;background-color: #f0f8ff;}#sk-container-id-4 input.sk-toggleable__control:checked~div.sk-toggleable__content {max-height: 200px;max-width: 100%;overflow: auto;}#sk-container-id-4 input.sk-toggleable__control:checked~label.sk-toggleable__label-arrow:before {content: \"▾\";}#sk-container-id-4 div.sk-estimator input.sk-toggleable__control:checked~label.sk-toggleable__label {background-color: #d4ebff;}#sk-container-id-4 div.sk-label input.sk-toggleable__control:checked~label.sk-toggleable__label {background-color: #d4ebff;}#sk-container-id-4 input.sk-hidden--visually {border: 0;clip: rect(1px 1px 1px 1px);clip: rect(1px, 1px, 1px, 1px);height: 1px;margin: -1px;overflow: hidden;padding: 0;position: absolute;width: 1px;}#sk-container-id-4 div.sk-estimator {font-family: monospace;background-color: #f0f8ff;border: 1px dotted black;border-radius: 0.25em;box-sizing: border-box;margin-bottom: 0.5em;}#sk-container-id-4 div.sk-estimator:hover {background-color: #d4ebff;}#sk-container-id-4 div.sk-parallel-item::after {content: \"\";width: 100%;border-bottom: 1px solid gray;flex-grow: 1;}#sk-container-id-4 div.sk-label:hover label.sk-toggleable__label {background-color: #d4ebff;}#sk-container-id-4 div.sk-serial::before {content: \"\";position: absolute;border-left: 1px solid gray;box-sizing: border-box;top: 0;bottom: 0;left: 50%;z-index: 0;}#sk-container-id-4 div.sk-serial {display: flex;flex-direction: column;align-items: center;background-color: white;padding-right: 0.2em;padding-left: 0.2em;position: relative;}#sk-container-id-4 div.sk-item {position: relative;z-index: 1;}#sk-container-id-4 div.sk-parallel {display: flex;align-items: stretch;justify-content: center;background-color: white;position: relative;}#sk-container-id-4 div.sk-item::before, #sk-container-id-4 div.sk-parallel-item::before {content: \"\";position: absolute;border-left: 1px solid gray;box-sizing: border-box;top: 0;bottom: 0;left: 50%;z-index: -1;}#sk-container-id-4 div.sk-parallel-item {display: flex;flex-direction: column;z-index: 1;position: relative;background-color: white;}#sk-container-id-4 div.sk-parallel-item:first-child::after {align-self: flex-end;width: 50%;}#sk-container-id-4 div.sk-parallel-item:last-child::after {align-self: flex-start;width: 50%;}#sk-container-id-4 div.sk-parallel-item:only-child::after {width: 0;}#sk-container-id-4 div.sk-dashed-wrapped {border: 1px dashed gray;margin: 0 0.4em 0.5em 0.4em;box-sizing: border-box;padding-bottom: 0.4em;background-color: white;}#sk-container-id-4 div.sk-label label {font-family: monospace;font-weight: bold;display: inline-block;line-height: 1.2em;}#sk-container-id-4 div.sk-label-container {text-align: center;}#sk-container-id-4 div.sk-container {/* jupyter's `normalize.less` sets `[hidden] { display: none; }` but bootstrap.min.css set `[hidden] { display: none !important; }` so we also need the `!important` here to be able to override the default hidden behavior on the sphinx rendered scikit-learn.org. See: https://github.com/scikit-learn/scikit-learn/issues/21755 */display: inline-block !important;position: relative;}#sk-container-id-4 div.sk-text-repr-fallback {display: none;}</style><div id=\"sk-container-id-4\" class=\"sk-top-container\"><div class=\"sk-text-repr-fallback\"><pre>TransformedTargetRegressor(regressor=Pipeline(steps=[(&#x27;poly&#x27;,\n",
       "                                                      PolynomialFeatures(include_bias=False)),\n",
       "                                                     (&#x27;regressor&#x27;,\n",
       "                                                      Ridge(alpha=50))]),\n",
       "                           transformer=PowerTransformer())</pre><b>In a Jupyter environment, please rerun this cell to show the HTML representation or trust the notebook. <br />On GitHub, the HTML representation is unable to render, please try loading this page with nbviewer.org.</b></div><div class=\"sk-container\" hidden><div class=\"sk-item sk-dashed-wrapped\"><div class=\"sk-label-container\"><div class=\"sk-label sk-toggleable\"><input class=\"sk-toggleable__control sk-hidden--visually\" id=\"sk-estimator-id-19\" type=\"checkbox\" ><label for=\"sk-estimator-id-19\" class=\"sk-toggleable__label sk-toggleable__label-arrow\">TransformedTargetRegressor</label><div class=\"sk-toggleable__content\"><pre>TransformedTargetRegressor(regressor=Pipeline(steps=[(&#x27;poly&#x27;,\n",
       "                                                      PolynomialFeatures(include_bias=False)),\n",
       "                                                     (&#x27;regressor&#x27;,\n",
       "                                                      Ridge(alpha=50))]),\n",
       "                           transformer=PowerTransformer())</pre></div></div></div><div class=\"sk-parallel\"><div class=\"sk-parallel-item\"><div class=\"sk-item\"><div class=\"sk-label-container\"><div class=\"sk-label sk-toggleable\"><input class=\"sk-toggleable__control sk-hidden--visually\" id=\"sk-estimator-id-20\" type=\"checkbox\" ><label for=\"sk-estimator-id-20\" class=\"sk-toggleable__label sk-toggleable__label-arrow\">regressor: Pipeline</label><div class=\"sk-toggleable__content\"><pre>Pipeline(steps=[(&#x27;poly&#x27;, PolynomialFeatures(include_bias=False)),\n",
       "                (&#x27;regressor&#x27;, Ridge(alpha=50))])</pre></div></div></div><div class=\"sk-serial\"><div class=\"sk-item\"><div class=\"sk-serial\"><div class=\"sk-item\"><div class=\"sk-estimator sk-toggleable\"><input class=\"sk-toggleable__control sk-hidden--visually\" id=\"sk-estimator-id-21\" type=\"checkbox\" ><label for=\"sk-estimator-id-21\" class=\"sk-toggleable__label sk-toggleable__label-arrow\">PolynomialFeatures</label><div class=\"sk-toggleable__content\"><pre>PolynomialFeatures(include_bias=False)</pre></div></div></div><div class=\"sk-item\"><div class=\"sk-estimator sk-toggleable\"><input class=\"sk-toggleable__control sk-hidden--visually\" id=\"sk-estimator-id-22\" type=\"checkbox\" ><label for=\"sk-estimator-id-22\" class=\"sk-toggleable__label sk-toggleable__label-arrow\">Ridge</label><div class=\"sk-toggleable__content\"><pre>Ridge(alpha=50)</pre></div></div></div></div></div></div></div></div><div class=\"sk-parallel-item\"><div class=\"sk-item\"><div class=\"sk-label-container\"><div class=\"sk-label sk-toggleable\"><input class=\"sk-toggleable__control sk-hidden--visually\" id=\"sk-estimator-id-23\" type=\"checkbox\" ><label for=\"sk-estimator-id-23\" class=\"sk-toggleable__label sk-toggleable__label-arrow\">transformer: PowerTransformer</label><div class=\"sk-toggleable__content\"><pre>PowerTransformer()</pre></div></div></div><div class=\"sk-serial\"><div class=\"sk-item\"><div class=\"sk-estimator sk-toggleable\"><input class=\"sk-toggleable__control sk-hidden--visually\" id=\"sk-estimator-id-24\" type=\"checkbox\" ><label for=\"sk-estimator-id-24\" class=\"sk-toggleable__label sk-toggleable__label-arrow\">PowerTransformer</label><div class=\"sk-toggleable__content\"><pre>PowerTransformer()</pre></div></div></div></div></div></div></div></div></div></div>"
      ],
      "text/plain": [
       "TransformedTargetRegressor(regressor=Pipeline(steps=[('poly',\n",
       "                                                      PolynomialFeatures(include_bias=False)),\n",
       "                                                     ('regressor',\n",
       "                                                      Ridge(alpha=50))]),\n",
       "                           transformer=PowerTransformer())"
      ]
     },
     "execution_count": 52,
     "metadata": {},
     "output_type": "execute_result"
    }
   ],
   "source": [
    "ridge_reg.fit(X_train, y_train)"
   ]
  },
  {
   "cell_type": "code",
   "execution_count": 154,
   "metadata": {},
   "outputs": [
    {
     "data": {
      "application/vnd.plotly.v1+json": {
       "config": {
        "plotlyServerURL": "https://plot.ly"
       },
       "data": [
        {
         "name": "Predicted values",
         "type": "scatter",
         "x": [
          "2018-12-24 13:40:42",
          "2018-12-26 13:30:43",
          "2018-12-29 13:40:40",
          "2019-01-25 13:30:47",
          "2019-01-28 13:40:43",
          "2019-01-30 13:30:51",
          "2019-02-04 13:30:48",
          "2019-02-07 13:40:43",
          "2019-02-09 13:30:51",
          "2019-02-14 13:30:47",
          "2019-02-19 13:30:50",
          "2019-02-22 13:40:45",
          "2019-03-01 13:30:49",
          "2019-03-04 13:40:44",
          "2019-03-14 13:40:44",
          "2019-03-16 13:30:47",
          "2019-03-21 13:30:50",
          "2019-03-24 13:40:47",
          "2019-03-26 13:30:50",
          "2019-04-03 13:40:49",
          "2019-04-10 13:30:55",
          "2019-04-13 13:40:51",
          "2019-04-30 13:30:58",
          "2019-05-03 13:40:53",
          "2019-05-05 13:30:54",
          "2019-05-18 13:40:50",
          "2019-05-25 13:30:54",
          "2019-06-09 13:30:58",
          "2019-06-17 13:40:50",
          "2019-07-04 13:30:56",
          "2019-07-07 13:40:51",
          "2019-07-09 13:30:59",
          "2019-07-12 13:40:55",
          "2019-07-17 13:40:51",
          "2019-07-29 13:30:59",
          "2019-08-03 13:30:55",
          "2019-08-06 13:40:50",
          "2019-08-08 13:30:58",
          "2019-08-11 13:40:53",
          "2019-08-26 13:40:48",
          "2019-08-28 13:30:55",
          "2019-09-02 13:30:51",
          "2019-09-15 13:40:45",
          "2019-09-22 13:30:51",
          "2019-09-25 13:40:47",
          "2019-09-27 13:30:51",
          "2019-09-30 13:40:47",
          "2019-10-07 13:30:52",
          "2019-10-10 13:40:47",
          "2019-10-12 13:30:53",
          "2019-11-06 13:30:51",
          "2019-11-19 13:40:44",
          "2019-11-21 13:30:52",
          "2019-11-29 13:40:42",
          "2019-12-01 13:30:49",
          "2019-12-04 13:40:44",
          "2019-12-06 13:30:45",
          "2019-12-09 13:40:40",
          "2019-12-11 13:30:47",
          "2019-12-14 13:40:41",
          "2019-12-19 13:40:41",
          "2019-12-24 13:40:40",
          "2019-12-26 13:30:46",
          "2020-01-05 13:30:46",
          "2020-01-10 13:30:45",
          "2020-01-13 13:40:40",
          "2020-01-18 13:40:40",
          "2020-01-23 13:40:40",
          "2020-01-25 13:30:44",
          "2020-02-02 13:40:38",
          "2020-02-07 13:40:40",
          "2020-02-09 13:30:43",
          "2020-02-12 13:40:39",
          "2020-02-19 13:30:45",
          "2020-02-24 13:30:47",
          "2020-02-27 13:40:43",
          "2020-02-29 13:30:46",
          "2020-03-03 13:40:42",
          "2020-03-05 13:30:48",
          "2020-03-08 13:40:44",
          "2020-03-10 13:30:47",
          "2020-03-13 13:40:42",
          "2020-03-20 13:30:47",
          "2020-03-23 13:40:42",
          "2020-03-25 13:30:48",
          "2020-03-30 13:30:47",
          "2020-04-04 13:30:42",
          "2020-04-04 13:30:49",
          "2020-04-07 13:40:43",
          "2020-04-09 13:30:49",
          "2020-04-12 13:40:45",
          "2020-04-14 13:30:46",
          "2020-04-19 13:30:51",
          "2020-04-22 13:40:47",
          "2020-05-02 13:40:49",
          "2020-05-04 13:30:48",
          "2020-05-07 13:40:44",
          "2020-05-09 13:30:55",
          "2020-05-14 13:30:50",
          "2020-05-17 13:40:46",
          "2020-05-19 13:30:56",
          "2020-05-27 13:40:47",
          "2020-05-29 13:30:57",
          "2020-06-01 13:40:52",
          "2020-06-03 13:30:52",
          "2020-06-16 13:40:49",
          "2020-06-21 13:40:52",
          "2020-06-23 13:30:53",
          "2020-06-28 13:30:56",
          "2020-07-03 13:30:53",
          "2020-07-13 13:30:52",
          "2020-07-18 13:30:56",
          "2020-07-26 13:40:49",
          "2020-07-31 13:40:52",
          "2020-08-02 13:30:54",
          "2020-08-05 13:40:49",
          "2020-08-07 13:30:57",
          "2020-08-10 13:40:52",
          "2020-08-17 13:30:56",
          "2020-08-20 13:40:52",
          "2020-08-22 13:30:54",
          "2020-08-27 13:30:56",
          "2020-09-09 13:40:50",
          "2020-09-11 13:30:53",
          "2020-09-21 13:30:53",
          "2020-09-24 13:40:49",
          "2020-09-29 13:40:52",
          "2020-10-06 13:30:56",
          "2020-10-09 13:40:52",
          "2020-10-11 13:30:54",
          "2020-10-14 13:40:50",
          "2020-10-19 13:40:52",
          "2020-10-21 13:30:54",
          "2020-11-10 13:30:52",
          "2020-11-23 13:40:46",
          "2020-11-25 13:30:52",
          "2020-12-03 13:40:45",
          "2020-12-08 13:40:43",
          "2020-12-10 13:30:48",
          "2020-12-15 13:30:48",
          "2020-12-18 13:40:44",
          "2020-12-20 13:30:47",
          "2020-12-23 13:40:43",
          "2020-12-28 13:40:46",
          "2020-12-30 13:30:49",
          "2021-01-02 13:40:45",
          "2021-01-04 13:30:51",
          "2021-01-07 13:40:47",
          "2021-01-09 13:30:50",
          "2021-01-14 13:30:51",
          "2021-01-19 13:30:50",
          "2021-01-22 13:40:46",
          "2021-01-24 13:30:51",
          "2021-02-01 13:40:46",
          "2021-02-06 13:40:45",
          "2021-02-08 13:30:50",
          "2021-02-13 13:30:49",
          "2021-02-21 13:40:44",
          "2021-02-26 13:40:46",
          "2021-03-08 13:40:46",
          "2021-03-10 13:30:50",
          "2021-03-13 13:40:45",
          "2021-03-20 13:30:50",
          "2021-03-25 13:30:49",
          "2021-04-04 13:30:47",
          "2021-04-07 13:40:42",
          "2021-04-09 13:30:48",
          "2021-04-14 13:30:45",
          "2021-04-19 13:30:46",
          "2021-04-22 13:40:40",
          "2021-04-27 13:40:43",
          "2021-04-29 13:30:46",
          "2021-05-02 13:40:43",
          "2021-05-09 13:30:49",
          "2021-05-12 13:40:45",
          "2021-05-22 13:40:46",
          "2021-05-24 13:30:51",
          "2021-05-27 13:40:47",
          "2021-05-29 13:30:51",
          "2021-06-01 13:40:47",
          "2021-06-03 13:30:51",
          "2021-06-11 13:40:47",
          "2021-06-13 13:30:51",
          "2021-06-16 13:40:46",
          "2021-07-03 13:30:53",
          "2021-07-08 13:30:52",
          "2021-07-11 13:40:48",
          "2021-07-16 13:40:49",
          "2021-07-18 13:30:53",
          "2021-07-21 13:40:48",
          "2021-07-23 13:30:54",
          "2021-07-31 13:40:48",
          "2021-08-02 13:30:54",
          "2021-08-07 13:30:52",
          "2021-08-15 13:40:49",
          "2021-08-17 13:30:50",
          "2021-08-22 13:30:53",
          "2021-08-30 13:40:43",
          "2021-09-01 13:30:52",
          "2021-09-09 13:40:43",
          "2021-09-26 13:30:49",
          "2021-10-06 13:30:51",
          "2021-10-14 13:40:45",
          "2021-10-14 13:40:52",
          "2021-10-21 13:30:56",
          "2021-10-24 13:40:51",
          "2021-10-26 13:30:52",
          "2021-10-29 13:40:47",
          "2021-10-31 13:30:55",
          "2021-11-08 13:40:46",
          "2021-11-13 13:40:48",
          "2021-11-20 13:30:51",
          "2021-11-30 13:30:50",
          "2021-12-03 13:40:46",
          "2021-12-10 13:30:49",
          "2021-12-20 13:30:52",
          "2021-12-25 13:30:46",
          "2021-12-28 13:40:42",
          "2021-12-30 13:30:52",
          "2022-01-07 13:40:42",
          "2022-01-12 13:40:47",
          "2022-01-14 13:30:46",
          "2022-01-17 13:40:42",
          "2022-01-19 13:30:51",
          "2022-01-24 13:30:45",
          "2022-01-29 13:30:51",
          "2022-02-11 13:40:45",
          "2022-02-16 13:40:40",
          "2022-02-18 13:30:52",
          "2022-02-26 13:40:42",
          "2022-03-03 13:40:50",
          "2022-03-05 13:30:48",
          "2022-03-18 13:40:44",
          "2022-03-28 13:40:43",
          "2022-04-02 13:40:48",
          "2022-04-14 13:30:47",
          "2022-04-19 13:30:55",
          "2022-04-22 13:40:51",
          "2022-04-24 13:30:45",
          "2022-04-27 13:40:39",
          "2022-04-29 13:30:56",
          "2022-05-07 13:40:43",
          "2022-05-09 13:30:55",
          "2022-05-12 13:40:49",
          "2022-05-24 13:30:51",
          "2022-06-03 13:30:50",
          "2022-06-11 13:40:56",
          "2022-06-16 13:40:50",
          "2022-06-18 13:31:02",
          "2022-06-26 13:40:51",
          "2022-06-28 13:31:03",
          "2022-07-01 13:40:59",
          "2022-07-11 13:40:59",
          "2022-07-13 13:30:55",
          "2022-07-18 13:31:03",
          "2022-08-07 13:31:02",
          "2022-08-12 13:30:52",
          "2022-08-17 13:31:03",
          "2022-08-20 13:40:59"
         ],
         "y": [
          316.0168004533882,
          47.18812450914589,
          311.4734243709799,
          72.44249453648912,
          220.2789457117689,
          177.7818557823399,
          314.3124560416472,
          617.5472539976926,
          495.6284889699065,
          486.1888628971913,
          487.5013358683077,
          853.8435217377987,
          552.1558904182389,
          1737.5530437086609,
          163.9135553984055,
          191.6842406386945,
          233.4822049894381,
          216.73503321579128,
          379.9374311734924,
          850.2267277201034,
          341.34088237485105,
          709.0220127516845,
          317.4709861994335,
          32.54149522280347,
          -2.839656926111129,
          26.634558521253936,
          129.96265885829794,
          310.7533365711016,
          121.12523349234066,
          261.4068620202426,
          127.38088627157428,
          181.6739230771664,
          160.99384145078997,
          323.4952435807775,
          170.89292302892346,
          13.175205549013215,
          80.88124889743703,
          151.6479418914787,
          94.6353669778096,
          76.13847646329029,
          126.22750997560144,
          235.35924097526703,
          1431.7941227422489,
          95.55110436149803,
          112.29858492089328,
          180.784512182622,
          188.07467762820724,
          6.028616092934021,
          128.56187380160696,
          126.91007658300194,
          1.425091078942259,
          285.30334641548507,
          199.92095611748428,
          205.14965448126992,
          368.5155617249494,
          435.0068646817989,
          481.5968877598337,
          567.7178516325523,
          1072.3883621629232,
          405.1513905620235,
          464.718722897329,
          600.9793743162259,
          2840.0963548482027,
          1170.4628124320302,
          9611.887411886695,
          981.1032327081442,
          733.1016647388126,
          455.647315913253,
          634.9397671066057,
          867.1555984534106,
          838.5054374312646,
          474.14695977516345,
          993.0973084320592,
          1138.1200990810048,
          1452.1437740853946,
          2604.778055676842,
          4611.631988791395,
          2519.314338883855,
          614.366105446935,
          1864.426658996059,
          4369.856830606638,
          2345.416689274693,
          882.8694022017493,
          1625.9924442751285,
          1155.852724268819,
          3058.2219728355785,
          834.8728389107846,
          819.530149950073,
          989.3103264234992,
          1171.6031291027746,
          2767.584938739128,
          591.7762522714247,
          1055.1074689009938,
          1234.3526857276058,
          1027.2260252187723,
          879.3129337844438,
          837.8180305245331,
          1371.5762589078006,
          1727.889893768392,
          1725.2437107915766,
          2514.03861165208,
          759.3126157198244,
          1019.145127050151,
          355.29423374724684,
          303.31343500784413,
          365.23631001950696,
          308.9623121332265,
          187.6793663907308,
          261.83074389871973,
          -0.2478993318074394,
          5.349462605271848,
          83.16828957860953,
          115.81127305713238,
          35.881277866130105,
          164.47167672058544,
          96.02255363327453,
          216.25165218281484,
          145.33081754018383,
          73.61475989172067,
          356.7917511273656,
          98.12154185247113,
          405.9173815932378,
          523.3505525787706,
          376.44993965690463,
          83.8450443292066,
          76.99588307069833,
          232.9197915838244,
          200.69624877865704,
          300.1613392755448,
          93.27875124781532,
          251.76596324641235,
          200.2151402532721,
          372.5301453817608,
          459.2570654964341,
          521.442108353576,
          872.3002567096972,
          509.2065218316381,
          530.34054716875,
          2095.8194329085754,
          10284.621957271533,
          976.6143081915128,
          1679.1572639501517,
          763.8799114668236,
          607.6984473757481,
          3331.165298760075,
          695.3841410625765,
          2859.4691273291805,
          5986.134967257064,
          1154.5667383432765,
          567.6807978186248,
          1296.770654517407,
          658.7553791606565,
          1515.3035569415752,
          322.71847019756177,
          205.66295619405437,
          76.55910575152299,
          338.08432198512145,
          424.3213850758784,
          574.15698263001,
          1256.780394699896,
          802.1242720209935,
          2578.0442660360554,
          560.7759825615735,
          1162.565592311992,
          1447.0886183182631,
          2719.7447999490923,
          1063.5919786614008,
          941.9131599195772,
          775.3464974647012,
          566.4574416597266,
          819.5941802153122,
          311.0110619238073,
          405.1723977620465,
          764.9544078203548,
          1108.73193980315,
          633.3004021646817,
          316.13535517484314,
          325.0763977041653,
          274.8513816400123,
          -2.3638319412473456,
          173.8197152978411,
          117.53112687418763,
          88.64993713568478,
          148.20889220591744,
          47.36572123311583,
          67.63214593308935,
          287.5596537284094,
          175.1107291491597,
          88.20935184540906,
          84.14102778009757,
          196.72021305030745,
          192.37841512226427,
          253.87928165931987,
          191.15588740702293,
          390.63030560651487,
          289.68085008224483,
          428.3792286481783,
          50.057098681382726,
          32.94666783014112,
          154.13099174903124,
          124.06346793584704,
          117.21477363450364,
          191.37015392194496,
          197.46613680883488,
          151.29176134385696,
          220.4625389378733,
          108.425966149896,
          259.31060025529774,
          192.58386745545727,
          449.4620764971783,
          379.3522165535388,
          628.5628811315045,
          452.3103560414388,
          501.9641505778496,
          726.121355651514,
          931.7990679610932,
          653.2755942595223,
          478.6734108713056,
          1511.92619603928,
          747.819542008378,
          1011.923269739751,
          6581.055431226017,
          962.2931039846871,
          6251.162554770757,
          2012.32775521303,
          430.2733495345888,
          2006.793197760292,
          901.853150694686,
          762.3308926837738,
          1316.6336063407914,
          975.4081688220872,
          1619.7079804269663,
          1416.724050991846,
          78.2574846239843,
          418.81105168033525,
          134.47116284099843,
          252.65062888759132,
          487.2852030118736,
          229.99325240733097,
          450.88163536573177,
          281.53304589187206,
          148.89356535652044,
          50.76283112505618,
          133.5715995784842,
          130.5049499509752,
          55.16477129350626,
          35.13383018771365,
          120.94818497354592,
          93.26951651404188,
          201.1144295154174,
          186.85484936681056,
          108.04277308326996,
          450.0777591260972,
          103.83135462184666,
          52.49361976264802,
          314.256464675758,
          20.246347792212443,
          221.07081581587133,
          81.8895347917059
         ]
        },
        {
         "mode": "markers",
         "name": "SISAGUA",
         "type": "scatter",
         "x": [
          "2018-12-19",
          "2019-01-18",
          "2019-01-28",
          "2019-02-11",
          "2019-02-25",
          "2019-03-18",
          "2019-03-26",
          "2019-04-09",
          "2019-04-23",
          "2019-05-13",
          "2019-05-20",
          "2019-06-03",
          "2019-06-17",
          "2019-07-01",
          "2019-07-15",
          "2019-07-29",
          "2019-08-19",
          "2019-09-02",
          "2019-09-23",
          "2019-09-30",
          "2019-10-14",
          "2019-11-04",
          "2019-11-18",
          "2019-12-02",
          "2019-12-20",
          "2020-01-06",
          "2020-01-21",
          "2020-02-26",
          "2020-03-16",
          "2020-04-29",
          "2020-05-26",
          "2020-06-23",
          "2020-07-21",
          "2020-08-06",
          "2020-09-24",
          "2020-10-06",
          "2020-12-09",
          "2020-12-23",
          "2020-12-30",
          "2021-01-26",
          "2021-02-25",
          "2021-03-10",
          "2021-04-12",
          "2021-04-14",
          "2021-05-13",
          "2021-06-10",
          "2021-07-14",
          "2021-08-19",
          "2021-09-15",
          "2021-10-06",
          "2021-11-15",
          "2021-12-09",
          "2021-12-13",
          "2021-12-17",
          "2021-12-29",
          "2022-01-05",
          "2022-01-11",
          "2022-01-20",
          "2022-01-26",
          "2022-02-10",
          "2022-02-16",
          "2022-02-23",
          "2022-03-03",
          "2022-03-09",
          "2022-03-16",
          "2022-03-23",
          "2022-04-01",
          "2022-04-13",
          "2022-05-26",
          "2022-06-08"
         ],
         "y": [
          719,
          0,
          251,
          335,
          298,
          76,
          186,
          26,
          0,
          12,
          374,
          102,
          134,
          600,
          20,
          70,
          65,
          0,
          8,
          0,
          0,
          0,
          0,
          0,
          0,
          1404,
          150,
          360,
          40,
          386,
          1897,
          556,
          129,
          364,
          0,
          216,
          1486,
          25659,
          1766,
          364,
          612,
          10387,
          0,
          2228,
          6997,
          1529,
          0,
          1664,
          1716,
          594,
          1836,
          8323,
          13889,
          9667,
          2772,
          1783,
          28508,
          10674,
          6142,
          10557,
          1793,
          4915,
          3077,
          9023,
          614,
          3446,
          1436,
          3083,
          1409,
          1179
         ]
        }
       ],
       "layout": {
        "template": {
         "data": {
          "bar": [
           {
            "error_x": {
             "color": "#2a3f5f"
            },
            "error_y": {
             "color": "#2a3f5f"
            },
            "marker": {
             "line": {
              "color": "#E5ECF6",
              "width": 0.5
             },
             "pattern": {
              "fillmode": "overlay",
              "size": 10,
              "solidity": 0.2
             }
            },
            "type": "bar"
           }
          ],
          "barpolar": [
           {
            "marker": {
             "line": {
              "color": "#E5ECF6",
              "width": 0.5
             },
             "pattern": {
              "fillmode": "overlay",
              "size": 10,
              "solidity": 0.2
             }
            },
            "type": "barpolar"
           }
          ],
          "carpet": [
           {
            "aaxis": {
             "endlinecolor": "#2a3f5f",
             "gridcolor": "white",
             "linecolor": "white",
             "minorgridcolor": "white",
             "startlinecolor": "#2a3f5f"
            },
            "baxis": {
             "endlinecolor": "#2a3f5f",
             "gridcolor": "white",
             "linecolor": "white",
             "minorgridcolor": "white",
             "startlinecolor": "#2a3f5f"
            },
            "type": "carpet"
           }
          ],
          "choropleth": [
           {
            "colorbar": {
             "outlinewidth": 0,
             "ticks": ""
            },
            "type": "choropleth"
           }
          ],
          "contour": [
           {
            "colorbar": {
             "outlinewidth": 0,
             "ticks": ""
            },
            "colorscale": [
             [
              0,
              "#0d0887"
             ],
             [
              0.1111111111111111,
              "#46039f"
             ],
             [
              0.2222222222222222,
              "#7201a8"
             ],
             [
              0.3333333333333333,
              "#9c179e"
             ],
             [
              0.4444444444444444,
              "#bd3786"
             ],
             [
              0.5555555555555556,
              "#d8576b"
             ],
             [
              0.6666666666666666,
              "#ed7953"
             ],
             [
              0.7777777777777778,
              "#fb9f3a"
             ],
             [
              0.8888888888888888,
              "#fdca26"
             ],
             [
              1,
              "#f0f921"
             ]
            ],
            "type": "contour"
           }
          ],
          "contourcarpet": [
           {
            "colorbar": {
             "outlinewidth": 0,
             "ticks": ""
            },
            "type": "contourcarpet"
           }
          ],
          "heatmap": [
           {
            "colorbar": {
             "outlinewidth": 0,
             "ticks": ""
            },
            "colorscale": [
             [
              0,
              "#0d0887"
             ],
             [
              0.1111111111111111,
              "#46039f"
             ],
             [
              0.2222222222222222,
              "#7201a8"
             ],
             [
              0.3333333333333333,
              "#9c179e"
             ],
             [
              0.4444444444444444,
              "#bd3786"
             ],
             [
              0.5555555555555556,
              "#d8576b"
             ],
             [
              0.6666666666666666,
              "#ed7953"
             ],
             [
              0.7777777777777778,
              "#fb9f3a"
             ],
             [
              0.8888888888888888,
              "#fdca26"
             ],
             [
              1,
              "#f0f921"
             ]
            ],
            "type": "heatmap"
           }
          ],
          "heatmapgl": [
           {
            "colorbar": {
             "outlinewidth": 0,
             "ticks": ""
            },
            "colorscale": [
             [
              0,
              "#0d0887"
             ],
             [
              0.1111111111111111,
              "#46039f"
             ],
             [
              0.2222222222222222,
              "#7201a8"
             ],
             [
              0.3333333333333333,
              "#9c179e"
             ],
             [
              0.4444444444444444,
              "#bd3786"
             ],
             [
              0.5555555555555556,
              "#d8576b"
             ],
             [
              0.6666666666666666,
              "#ed7953"
             ],
             [
              0.7777777777777778,
              "#fb9f3a"
             ],
             [
              0.8888888888888888,
              "#fdca26"
             ],
             [
              1,
              "#f0f921"
             ]
            ],
            "type": "heatmapgl"
           }
          ],
          "histogram": [
           {
            "marker": {
             "pattern": {
              "fillmode": "overlay",
              "size": 10,
              "solidity": 0.2
             }
            },
            "type": "histogram"
           }
          ],
          "histogram2d": [
           {
            "colorbar": {
             "outlinewidth": 0,
             "ticks": ""
            },
            "colorscale": [
             [
              0,
              "#0d0887"
             ],
             [
              0.1111111111111111,
              "#46039f"
             ],
             [
              0.2222222222222222,
              "#7201a8"
             ],
             [
              0.3333333333333333,
              "#9c179e"
             ],
             [
              0.4444444444444444,
              "#bd3786"
             ],
             [
              0.5555555555555556,
              "#d8576b"
             ],
             [
              0.6666666666666666,
              "#ed7953"
             ],
             [
              0.7777777777777778,
              "#fb9f3a"
             ],
             [
              0.8888888888888888,
              "#fdca26"
             ],
             [
              1,
              "#f0f921"
             ]
            ],
            "type": "histogram2d"
           }
          ],
          "histogram2dcontour": [
           {
            "colorbar": {
             "outlinewidth": 0,
             "ticks": ""
            },
            "colorscale": [
             [
              0,
              "#0d0887"
             ],
             [
              0.1111111111111111,
              "#46039f"
             ],
             [
              0.2222222222222222,
              "#7201a8"
             ],
             [
              0.3333333333333333,
              "#9c179e"
             ],
             [
              0.4444444444444444,
              "#bd3786"
             ],
             [
              0.5555555555555556,
              "#d8576b"
             ],
             [
              0.6666666666666666,
              "#ed7953"
             ],
             [
              0.7777777777777778,
              "#fb9f3a"
             ],
             [
              0.8888888888888888,
              "#fdca26"
             ],
             [
              1,
              "#f0f921"
             ]
            ],
            "type": "histogram2dcontour"
           }
          ],
          "mesh3d": [
           {
            "colorbar": {
             "outlinewidth": 0,
             "ticks": ""
            },
            "type": "mesh3d"
           }
          ],
          "parcoords": [
           {
            "line": {
             "colorbar": {
              "outlinewidth": 0,
              "ticks": ""
             }
            },
            "type": "parcoords"
           }
          ],
          "pie": [
           {
            "automargin": true,
            "type": "pie"
           }
          ],
          "scatter": [
           {
            "fillpattern": {
             "fillmode": "overlay",
             "size": 10,
             "solidity": 0.2
            },
            "type": "scatter"
           }
          ],
          "scatter3d": [
           {
            "line": {
             "colorbar": {
              "outlinewidth": 0,
              "ticks": ""
             }
            },
            "marker": {
             "colorbar": {
              "outlinewidth": 0,
              "ticks": ""
             }
            },
            "type": "scatter3d"
           }
          ],
          "scattercarpet": [
           {
            "marker": {
             "colorbar": {
              "outlinewidth": 0,
              "ticks": ""
             }
            },
            "type": "scattercarpet"
           }
          ],
          "scattergeo": [
           {
            "marker": {
             "colorbar": {
              "outlinewidth": 0,
              "ticks": ""
             }
            },
            "type": "scattergeo"
           }
          ],
          "scattergl": [
           {
            "marker": {
             "colorbar": {
              "outlinewidth": 0,
              "ticks": ""
             }
            },
            "type": "scattergl"
           }
          ],
          "scattermapbox": [
           {
            "marker": {
             "colorbar": {
              "outlinewidth": 0,
              "ticks": ""
             }
            },
            "type": "scattermapbox"
           }
          ],
          "scatterpolar": [
           {
            "marker": {
             "colorbar": {
              "outlinewidth": 0,
              "ticks": ""
             }
            },
            "type": "scatterpolar"
           }
          ],
          "scatterpolargl": [
           {
            "marker": {
             "colorbar": {
              "outlinewidth": 0,
              "ticks": ""
             }
            },
            "type": "scatterpolargl"
           }
          ],
          "scatterternary": [
           {
            "marker": {
             "colorbar": {
              "outlinewidth": 0,
              "ticks": ""
             }
            },
            "type": "scatterternary"
           }
          ],
          "surface": [
           {
            "colorbar": {
             "outlinewidth": 0,
             "ticks": ""
            },
            "colorscale": [
             [
              0,
              "#0d0887"
             ],
             [
              0.1111111111111111,
              "#46039f"
             ],
             [
              0.2222222222222222,
              "#7201a8"
             ],
             [
              0.3333333333333333,
              "#9c179e"
             ],
             [
              0.4444444444444444,
              "#bd3786"
             ],
             [
              0.5555555555555556,
              "#d8576b"
             ],
             [
              0.6666666666666666,
              "#ed7953"
             ],
             [
              0.7777777777777778,
              "#fb9f3a"
             ],
             [
              0.8888888888888888,
              "#fdca26"
             ],
             [
              1,
              "#f0f921"
             ]
            ],
            "type": "surface"
           }
          ],
          "table": [
           {
            "cells": {
             "fill": {
              "color": "#EBF0F8"
             },
             "line": {
              "color": "white"
             }
            },
            "header": {
             "fill": {
              "color": "#C8D4E3"
             },
             "line": {
              "color": "white"
             }
            },
            "type": "table"
           }
          ]
         },
         "layout": {
          "annotationdefaults": {
           "arrowcolor": "#2a3f5f",
           "arrowhead": 0,
           "arrowwidth": 1
          },
          "autotypenumbers": "strict",
          "coloraxis": {
           "colorbar": {
            "outlinewidth": 0,
            "ticks": ""
           }
          },
          "colorscale": {
           "diverging": [
            [
             0,
             "#8e0152"
            ],
            [
             0.1,
             "#c51b7d"
            ],
            [
             0.2,
             "#de77ae"
            ],
            [
             0.3,
             "#f1b6da"
            ],
            [
             0.4,
             "#fde0ef"
            ],
            [
             0.5,
             "#f7f7f7"
            ],
            [
             0.6,
             "#e6f5d0"
            ],
            [
             0.7,
             "#b8e186"
            ],
            [
             0.8,
             "#7fbc41"
            ],
            [
             0.9,
             "#4d9221"
            ],
            [
             1,
             "#276419"
            ]
           ],
           "sequential": [
            [
             0,
             "#0d0887"
            ],
            [
             0.1111111111111111,
             "#46039f"
            ],
            [
             0.2222222222222222,
             "#7201a8"
            ],
            [
             0.3333333333333333,
             "#9c179e"
            ],
            [
             0.4444444444444444,
             "#bd3786"
            ],
            [
             0.5555555555555556,
             "#d8576b"
            ],
            [
             0.6666666666666666,
             "#ed7953"
            ],
            [
             0.7777777777777778,
             "#fb9f3a"
            ],
            [
             0.8888888888888888,
             "#fdca26"
            ],
            [
             1,
             "#f0f921"
            ]
           ],
           "sequentialminus": [
            [
             0,
             "#0d0887"
            ],
            [
             0.1111111111111111,
             "#46039f"
            ],
            [
             0.2222222222222222,
             "#7201a8"
            ],
            [
             0.3333333333333333,
             "#9c179e"
            ],
            [
             0.4444444444444444,
             "#bd3786"
            ],
            [
             0.5555555555555556,
             "#d8576b"
            ],
            [
             0.6666666666666666,
             "#ed7953"
            ],
            [
             0.7777777777777778,
             "#fb9f3a"
            ],
            [
             0.8888888888888888,
             "#fdca26"
            ],
            [
             1,
             "#f0f921"
            ]
           ]
          },
          "colorway": [
           "#636efa",
           "#EF553B",
           "#00cc96",
           "#ab63fa",
           "#FFA15A",
           "#19d3f3",
           "#FF6692",
           "#B6E880",
           "#FF97FF",
           "#FECB52"
          ],
          "font": {
           "color": "#2a3f5f"
          },
          "geo": {
           "bgcolor": "white",
           "lakecolor": "white",
           "landcolor": "#E5ECF6",
           "showlakes": true,
           "showland": true,
           "subunitcolor": "white"
          },
          "hoverlabel": {
           "align": "left"
          },
          "hovermode": "closest",
          "mapbox": {
           "style": "light"
          },
          "paper_bgcolor": "white",
          "plot_bgcolor": "#E5ECF6",
          "polar": {
           "angularaxis": {
            "gridcolor": "white",
            "linecolor": "white",
            "ticks": ""
           },
           "bgcolor": "#E5ECF6",
           "radialaxis": {
            "gridcolor": "white",
            "linecolor": "white",
            "ticks": ""
           }
          },
          "scene": {
           "xaxis": {
            "backgroundcolor": "#E5ECF6",
            "gridcolor": "white",
            "gridwidth": 2,
            "linecolor": "white",
            "showbackground": true,
            "ticks": "",
            "zerolinecolor": "white"
           },
           "yaxis": {
            "backgroundcolor": "#E5ECF6",
            "gridcolor": "white",
            "gridwidth": 2,
            "linecolor": "white",
            "showbackground": true,
            "ticks": "",
            "zerolinecolor": "white"
           },
           "zaxis": {
            "backgroundcolor": "#E5ECF6",
            "gridcolor": "white",
            "gridwidth": 2,
            "linecolor": "white",
            "showbackground": true,
            "ticks": "",
            "zerolinecolor": "white"
           }
          },
          "shapedefaults": {
           "line": {
            "color": "#2a3f5f"
           }
          },
          "ternary": {
           "aaxis": {
            "gridcolor": "white",
            "linecolor": "white",
            "ticks": ""
           },
           "baxis": {
            "gridcolor": "white",
            "linecolor": "white",
            "ticks": ""
           },
           "bgcolor": "#E5ECF6",
           "caxis": {
            "gridcolor": "white",
            "linecolor": "white",
            "ticks": ""
           }
          },
          "title": {
           "x": 0.05
          },
          "xaxis": {
           "automargin": true,
           "gridcolor": "white",
           "linecolor": "white",
           "ticks": "",
           "title": {
            "standoff": 15
           },
           "zerolinecolor": "white",
           "zerolinewidth": 2
          },
          "yaxis": {
           "automargin": true,
           "gridcolor": "white",
           "linecolor": "white",
           "ticks": "",
           "title": {
            "standoff": 15
           },
           "zerolinecolor": "white",
           "zerolinewidth": 2
          }
         }
        },
        "xaxis": {
         "anchor": "y",
         "domain": [
          0,
          1
         ]
        },
        "yaxis": {
         "anchor": "x",
         "domain": [
          0,
          1
         ]
        }
       }
      }
     },
     "metadata": {},
     "output_type": "display_data"
    }
   ],
   "source": [
    "#https://stackoverflow.com/questions/62287001/how-to-overlay-two-plots-in-same-figure-in-plotly-create-pareto-chart-in-plotl\n",
    "\n",
    "\n",
    "import plotly.graph_objects as go\n",
    "from plotly.subplots import make_subplots\n",
    "\n",
    "gee_plot = go.Scatter(\n",
    "    x=pred[\"date\"],\n",
    "    y=pred[\"y_pred\"],\n",
    "    name=\"Predicted values\")\n",
    "\n",
    "vigi_plot = go.Scatter(\n",
    "    x=ciano[\"Data da coleta\"],\n",
    "    y=ciano[\"Resultado\"],\n",
    "    mode=\"markers\",\n",
    "    name = \"SISAGUA\")\n",
    "\n",
    "fig = make_subplots()\n",
    "fig.add_trace(gee_plot)\n",
    "fig.add_trace(vigi_plot)\n",
    "\n",
    "#fig.add_trace(px.scatter(ciano, x=\"Data da coleta\", y = \"Resultado\"))"
   ]
  },
  {
   "cell_type": "code",
   "execution_count": 156,
   "metadata": {},
   "outputs": [
    {
     "name": "stdout",
     "output_type": "stream",
     "text": [
      "2022-08-27 18:46:35,583 — DATA_LABEL — INFO — Reading data\n",
      "2022-08-27 18:46:35,643 — DATA_LABEL — INFO — Filtering data\n"
     ]
    },
    {
     "name": "stderr",
     "output_type": "stream",
     "text": [
      "c:\\Users\\Daniel\\cyanobacteria-monitoring\\src\\data\\label_gee.py:30: SettingWithCopyWarning:\n",
      "\n",
      "\n",
      "A value is trying to be set on a copy of a slice from a DataFrame.\n",
      "Try using .loc[row_indexer,col_indexer] = value instead\n",
      "\n",
      "See the caveats in the documentation: https://pandas.pydata.org/pandas-docs/stable/user_guide/indexing.html#returning-a-view-versus-a-copy\n",
      "\n",
      "c:\\Users\\Daniel\\cyanobacteria-monitoring\\src\\data\\label_gee.py:31: SettingWithCopyWarning:\n",
      "\n",
      "\n",
      "A value is trying to be set on a copy of a slice from a DataFrame.\n",
      "Try using .loc[row_indexer,col_indexer] = value instead\n",
      "\n",
      "See the caveats in the documentation: https://pandas.pydata.org/pandas-docs/stable/user_guide/indexing.html#returning-a-view-versus-a-copy\n",
      "\n"
     ]
    },
    {
     "data": {
      "application/vnd.plotly.v1+json": {
       "config": {
        "plotlyServerURL": "https://plot.ly"
       },
       "data": [
        {
         "name": "Predicted values",
         "type": "scatter",
         "x": [
          "2018-12-24 13:40:42",
          "2018-12-26 13:30:43",
          "2018-12-29 13:40:40",
          "2019-01-25 13:30:47",
          "2019-01-28 13:40:43",
          "2019-01-30 13:30:51",
          "2019-02-04 13:30:48",
          "2019-02-07 13:40:43",
          "2019-02-09 13:30:51",
          "2019-02-14 13:30:47",
          "2019-02-19 13:30:50",
          "2019-02-22 13:40:45",
          "2019-03-01 13:30:49",
          "2019-03-04 13:40:44",
          "2019-03-14 13:40:44",
          "2019-03-16 13:30:47",
          "2019-03-21 13:30:50",
          "2019-03-24 13:40:47",
          "2019-03-26 13:30:50",
          "2019-04-03 13:40:49",
          "2019-04-10 13:30:55",
          "2019-04-13 13:40:51",
          "2019-04-30 13:30:58",
          "2019-05-03 13:40:53",
          "2019-05-05 13:30:54",
          "2019-05-18 13:40:50",
          "2019-05-25 13:30:54",
          "2019-06-09 13:30:58",
          "2019-06-17 13:40:50",
          "2019-07-04 13:30:56",
          "2019-07-07 13:40:51",
          "2019-07-09 13:30:59",
          "2019-07-12 13:40:55",
          "2019-07-17 13:40:51",
          "2019-07-29 13:30:59",
          "2019-08-03 13:30:55",
          "2019-08-06 13:40:50",
          "2019-08-08 13:30:58",
          "2019-08-11 13:40:53",
          "2019-08-26 13:40:48",
          "2019-08-28 13:30:55",
          "2019-09-02 13:30:51",
          "2019-09-15 13:40:45",
          "2019-09-22 13:30:51",
          "2019-09-25 13:40:47",
          "2019-09-27 13:30:51",
          "2019-09-30 13:40:47",
          "2019-10-07 13:30:52",
          "2019-10-10 13:40:47",
          "2019-10-12 13:30:53",
          "2019-11-06 13:30:51",
          "2019-11-19 13:40:44",
          "2019-11-21 13:30:52",
          "2019-11-29 13:40:42",
          "2019-12-01 13:30:49",
          "2019-12-04 13:40:44",
          "2019-12-06 13:30:45",
          "2019-12-09 13:40:40",
          "2019-12-11 13:30:47",
          "2019-12-14 13:40:41",
          "2019-12-19 13:40:41",
          "2019-12-24 13:40:40",
          "2019-12-26 13:30:46",
          "2020-01-05 13:30:46",
          "2020-01-10 13:30:45",
          "2020-01-13 13:40:40",
          "2020-01-18 13:40:40",
          "2020-01-23 13:40:40",
          "2020-01-25 13:30:44",
          "2020-02-02 13:40:38",
          "2020-02-07 13:40:40",
          "2020-02-09 13:30:43",
          "2020-02-12 13:40:39",
          "2020-02-19 13:30:45",
          "2020-02-24 13:30:47",
          "2020-02-27 13:40:43",
          "2020-02-29 13:30:46",
          "2020-03-03 13:40:42",
          "2020-03-05 13:30:48",
          "2020-03-08 13:40:44",
          "2020-03-10 13:30:47",
          "2020-03-13 13:40:42",
          "2020-03-20 13:30:47",
          "2020-03-23 13:40:42",
          "2020-03-25 13:30:48",
          "2020-03-30 13:30:47",
          "2020-04-04 13:30:42",
          "2020-04-04 13:30:49",
          "2020-04-07 13:40:43",
          "2020-04-09 13:30:49",
          "2020-04-12 13:40:45",
          "2020-04-14 13:30:46",
          "2020-04-19 13:30:51",
          "2020-04-22 13:40:47",
          "2020-05-02 13:40:49",
          "2020-05-04 13:30:48",
          "2020-05-07 13:40:44",
          "2020-05-09 13:30:55",
          "2020-05-14 13:30:50",
          "2020-05-17 13:40:46",
          "2020-05-19 13:30:56",
          "2020-05-27 13:40:47",
          "2020-05-29 13:30:57",
          "2020-06-01 13:40:52",
          "2020-06-03 13:30:52",
          "2020-06-16 13:40:49",
          "2020-06-21 13:40:52",
          "2020-06-23 13:30:53",
          "2020-06-28 13:30:56",
          "2020-07-03 13:30:53",
          "2020-07-13 13:30:52",
          "2020-07-18 13:30:56",
          "2020-07-26 13:40:49",
          "2020-07-31 13:40:52",
          "2020-08-02 13:30:54",
          "2020-08-05 13:40:49",
          "2020-08-07 13:30:57",
          "2020-08-10 13:40:52",
          "2020-08-17 13:30:56",
          "2020-08-20 13:40:52",
          "2020-08-22 13:30:54",
          "2020-08-27 13:30:56",
          "2020-09-09 13:40:50",
          "2020-09-11 13:30:53",
          "2020-09-21 13:30:53",
          "2020-09-24 13:40:49",
          "2020-09-29 13:40:52",
          "2020-10-06 13:30:56",
          "2020-10-09 13:40:52",
          "2020-10-11 13:30:54",
          "2020-10-14 13:40:50",
          "2020-10-19 13:40:52",
          "2020-10-21 13:30:54",
          "2020-11-10 13:30:52",
          "2020-11-23 13:40:46",
          "2020-11-25 13:30:52",
          "2020-12-03 13:40:45",
          "2020-12-08 13:40:43",
          "2020-12-10 13:30:48",
          "2020-12-15 13:30:48",
          "2020-12-18 13:40:44",
          "2020-12-20 13:30:47",
          "2020-12-23 13:40:43",
          "2020-12-28 13:40:46",
          "2020-12-30 13:30:49",
          "2021-01-02 13:40:45",
          "2021-01-04 13:30:51",
          "2021-01-07 13:40:47",
          "2021-01-09 13:30:50",
          "2021-01-14 13:30:51",
          "2021-01-19 13:30:50",
          "2021-01-22 13:40:46",
          "2021-01-24 13:30:51",
          "2021-02-01 13:40:46",
          "2021-02-06 13:40:45",
          "2021-02-08 13:30:50",
          "2021-02-13 13:30:49",
          "2021-02-21 13:40:44",
          "2021-02-26 13:40:46",
          "2021-03-08 13:40:46",
          "2021-03-10 13:30:50",
          "2021-03-13 13:40:45",
          "2021-03-20 13:30:50",
          "2021-03-25 13:30:49",
          "2021-04-04 13:30:47",
          "2021-04-07 13:40:42",
          "2021-04-09 13:30:48",
          "2021-04-14 13:30:45",
          "2021-04-19 13:30:46",
          "2021-04-22 13:40:40",
          "2021-04-27 13:40:43",
          "2021-04-29 13:30:46",
          "2021-05-02 13:40:43",
          "2021-05-09 13:30:49",
          "2021-05-12 13:40:45",
          "2021-05-22 13:40:46",
          "2021-05-24 13:30:51",
          "2021-05-27 13:40:47",
          "2021-05-29 13:30:51",
          "2021-06-01 13:40:47",
          "2021-06-03 13:30:51",
          "2021-06-11 13:40:47",
          "2021-06-13 13:30:51",
          "2021-06-16 13:40:46",
          "2021-07-03 13:30:53",
          "2021-07-08 13:30:52",
          "2021-07-11 13:40:48",
          "2021-07-16 13:40:49",
          "2021-07-18 13:30:53",
          "2021-07-21 13:40:48",
          "2021-07-23 13:30:54",
          "2021-07-31 13:40:48",
          "2021-08-02 13:30:54",
          "2021-08-07 13:30:52",
          "2021-08-15 13:40:49",
          "2021-08-17 13:30:50",
          "2021-08-22 13:30:53",
          "2021-08-30 13:40:43",
          "2021-09-01 13:30:52",
          "2021-09-09 13:40:43",
          "2021-09-26 13:30:49",
          "2021-10-06 13:30:51",
          "2021-10-14 13:40:45",
          "2021-10-14 13:40:52",
          "2021-10-21 13:30:56",
          "2021-10-24 13:40:51",
          "2021-10-26 13:30:52",
          "2021-10-29 13:40:47",
          "2021-10-31 13:30:55",
          "2021-11-08 13:40:46",
          "2021-11-13 13:40:48",
          "2021-11-20 13:30:51",
          "2021-11-30 13:30:50",
          "2021-12-03 13:40:46",
          "2021-12-10 13:30:49",
          "2021-12-20 13:30:52",
          "2021-12-25 13:30:46",
          "2021-12-28 13:40:42",
          "2021-12-30 13:30:52",
          "2022-01-07 13:40:42",
          "2022-01-12 13:40:47",
          "2022-01-14 13:30:46",
          "2022-01-17 13:40:42",
          "2022-01-19 13:30:51",
          "2022-01-24 13:30:45",
          "2022-01-29 13:30:51",
          "2022-02-11 13:40:45",
          "2022-02-16 13:40:40",
          "2022-02-18 13:30:52",
          "2022-02-26 13:40:42",
          "2022-03-03 13:40:50",
          "2022-03-05 13:30:48",
          "2022-03-18 13:40:44",
          "2022-03-28 13:40:43",
          "2022-04-02 13:40:48",
          "2022-04-14 13:30:47",
          "2022-04-19 13:30:55",
          "2022-04-22 13:40:51",
          "2022-04-24 13:30:45",
          "2022-04-27 13:40:39",
          "2022-04-29 13:30:56",
          "2022-05-07 13:40:43",
          "2022-05-09 13:30:55",
          "2022-05-12 13:40:49",
          "2022-05-24 13:30:51",
          "2022-06-03 13:30:50",
          "2022-06-11 13:40:56",
          "2022-06-16 13:40:50",
          "2022-06-18 13:31:02",
          "2022-06-26 13:40:51",
          "2022-06-28 13:31:03",
          "2022-07-01 13:40:59",
          "2022-07-11 13:40:59",
          "2022-07-13 13:30:55",
          "2022-07-18 13:31:03",
          "2022-08-07 13:31:02",
          "2022-08-12 13:30:52",
          "2022-08-17 13:31:03",
          "2022-08-20 13:40:59"
         ],
         "y": [
          316.0168004533882,
          47.18812450914589,
          311.4734243709799,
          72.44249453648912,
          220.2789457117689,
          177.7818557823399,
          314.3124560416472,
          617.5472539976926,
          495.6284889699065,
          486.1888628971913,
          487.5013358683077,
          853.8435217377987,
          552.1558904182389,
          1737.5530437086609,
          163.9135553984055,
          191.6842406386945,
          233.4822049894381,
          216.73503321579128,
          379.9374311734924,
          850.2267277201034,
          341.34088237485105,
          709.0220127516845,
          317.4709861994335,
          32.54149522280347,
          -2.839656926111129,
          26.634558521253936,
          129.96265885829794,
          310.7533365711016,
          121.12523349234066,
          261.4068620202426,
          127.38088627157428,
          181.6739230771664,
          160.99384145078997,
          323.4952435807775,
          170.89292302892346,
          13.175205549013215,
          80.88124889743703,
          151.6479418914787,
          94.6353669778096,
          76.13847646329029,
          126.22750997560144,
          235.35924097526703,
          1431.7941227422489,
          95.55110436149803,
          112.29858492089328,
          180.784512182622,
          188.07467762820724,
          6.028616092934021,
          128.56187380160696,
          126.91007658300194,
          1.425091078942259,
          285.30334641548507,
          199.92095611748428,
          205.14965448126992,
          368.5155617249494,
          435.0068646817989,
          481.5968877598337,
          567.7178516325523,
          1072.3883621629232,
          405.1513905620235,
          464.718722897329,
          600.9793743162259,
          2840.0963548482027,
          1170.4628124320302,
          9611.887411886695,
          981.1032327081442,
          733.1016647388126,
          455.647315913253,
          634.9397671066057,
          867.1555984534106,
          838.5054374312646,
          474.14695977516345,
          993.0973084320592,
          1138.1200990810048,
          1452.1437740853946,
          2604.778055676842,
          4611.631988791395,
          2519.314338883855,
          614.366105446935,
          1864.426658996059,
          4369.856830606638,
          2345.416689274693,
          882.8694022017493,
          1625.9924442751285,
          1155.852724268819,
          3058.2219728355785,
          834.8728389107846,
          819.530149950073,
          989.3103264234992,
          1171.6031291027746,
          2767.584938739128,
          591.7762522714247,
          1055.1074689009938,
          1234.3526857276058,
          1027.2260252187723,
          879.3129337844438,
          837.8180305245331,
          1371.5762589078006,
          1727.889893768392,
          1725.2437107915766,
          2514.03861165208,
          759.3126157198244,
          1019.145127050151,
          355.29423374724684,
          303.31343500784413,
          365.23631001950696,
          308.9623121332265,
          187.6793663907308,
          261.83074389871973,
          -0.2478993318074394,
          5.349462605271848,
          83.16828957860953,
          115.81127305713238,
          35.881277866130105,
          164.47167672058544,
          96.02255363327453,
          216.25165218281484,
          145.33081754018383,
          73.61475989172067,
          356.7917511273656,
          98.12154185247113,
          405.9173815932378,
          523.3505525787706,
          376.44993965690463,
          83.8450443292066,
          76.99588307069833,
          232.9197915838244,
          200.69624877865704,
          300.1613392755448,
          93.27875124781532,
          251.76596324641235,
          200.2151402532721,
          372.5301453817608,
          459.2570654964341,
          521.442108353576,
          872.3002567096972,
          509.2065218316381,
          530.34054716875,
          2095.8194329085754,
          10284.621957271533,
          976.6143081915128,
          1679.1572639501517,
          763.8799114668236,
          607.6984473757481,
          3331.165298760075,
          695.3841410625765,
          2859.4691273291805,
          5986.134967257064,
          1154.5667383432765,
          567.6807978186248,
          1296.770654517407,
          658.7553791606565,
          1515.3035569415752,
          322.71847019756177,
          205.66295619405437,
          76.55910575152299,
          338.08432198512145,
          424.3213850758784,
          574.15698263001,
          1256.780394699896,
          802.1242720209935,
          2578.0442660360554,
          560.7759825615735,
          1162.565592311992,
          1447.0886183182631,
          2719.7447999490923,
          1063.5919786614008,
          941.9131599195772,
          775.3464974647012,
          566.4574416597266,
          819.5941802153122,
          311.0110619238073,
          405.1723977620465,
          764.9544078203548,
          1108.73193980315,
          633.3004021646817,
          316.13535517484314,
          325.0763977041653,
          274.8513816400123,
          -2.3638319412473456,
          173.8197152978411,
          117.53112687418763,
          88.64993713568478,
          148.20889220591744,
          47.36572123311583,
          67.63214593308935,
          287.5596537284094,
          175.1107291491597,
          88.20935184540906,
          84.14102778009757,
          196.72021305030745,
          192.37841512226427,
          253.87928165931987,
          191.15588740702293,
          390.63030560651487,
          289.68085008224483,
          428.3792286481783,
          50.057098681382726,
          32.94666783014112,
          154.13099174903124,
          124.06346793584704,
          117.21477363450364,
          191.37015392194496,
          197.46613680883488,
          151.29176134385696,
          220.4625389378733,
          108.425966149896,
          259.31060025529774,
          192.58386745545727,
          449.4620764971783,
          379.3522165535388,
          628.5628811315045,
          452.3103560414388,
          501.9641505778496,
          726.121355651514,
          931.7990679610932,
          653.2755942595223,
          478.6734108713056,
          1511.92619603928,
          747.819542008378,
          1011.923269739751,
          6581.055431226017,
          962.2931039846871,
          6251.162554770757,
          2012.32775521303,
          430.2733495345888,
          2006.793197760292,
          901.853150694686,
          762.3308926837738,
          1316.6336063407914,
          975.4081688220872,
          1619.7079804269663,
          1416.724050991846,
          78.2574846239843,
          418.81105168033525,
          134.47116284099843,
          252.65062888759132,
          487.2852030118736,
          229.99325240733097,
          450.88163536573177,
          281.53304589187206,
          148.89356535652044,
          50.76283112505618,
          133.5715995784842,
          130.5049499509752,
          55.16477129350626,
          35.13383018771365,
          120.94818497354592,
          93.26951651404188,
          201.1144295154174,
          186.85484936681056,
          108.04277308326996,
          450.0777591260972,
          103.83135462184666,
          52.49361976264802,
          314.256464675758,
          20.246347792212443,
          221.07081581587133,
          81.8895347917059
         ]
        },
        {
         "mode": "markers",
         "name": "SISAGUA",
         "type": "scatter",
         "x": [
          "2018-12-19",
          "2019-01-18",
          "2019-01-28",
          "2019-02-11",
          "2019-02-25",
          "2019-03-18",
          "2019-03-26",
          "2019-04-09",
          "2019-04-23",
          "2019-05-13",
          "2019-05-20",
          "2019-06-03",
          "2019-06-17",
          "2019-07-01",
          "2019-07-15",
          "2019-07-29",
          "2019-08-19",
          "2019-09-02",
          "2019-09-23",
          "2019-09-30",
          "2019-10-14",
          "2019-11-04",
          "2019-11-18",
          "2019-12-02",
          "2019-12-20",
          "2020-01-06",
          "2020-01-21",
          "2020-02-26",
          "2020-03-16",
          "2020-04-29",
          "2020-05-26",
          "2020-06-23",
          "2020-07-21",
          "2020-08-06",
          "2020-09-24",
          "2020-10-06",
          "2020-12-09",
          "2020-12-23",
          "2020-12-30",
          "2021-01-26",
          "2021-02-25",
          "2021-03-10",
          "2021-04-12",
          "2021-04-14",
          "2021-05-13",
          "2021-06-10",
          "2021-07-14",
          "2021-08-19",
          "2021-09-15",
          "2021-10-06",
          "2021-11-15",
          "2021-12-09",
          "2021-12-13",
          "2021-12-17",
          "2021-12-29",
          "2022-01-05",
          "2022-01-11",
          "2022-01-20",
          "2022-01-26",
          "2022-02-10",
          "2022-02-16",
          "2022-02-23",
          "2022-03-03",
          "2022-03-09",
          "2022-03-16",
          "2022-03-23",
          "2022-04-01",
          "2022-04-13",
          "2022-05-26",
          "2022-06-08"
         ],
         "y": [
          719,
          0,
          251,
          335,
          298,
          76,
          186,
          26,
          0,
          12,
          374,
          102,
          134,
          600,
          20,
          70,
          65,
          0,
          8,
          0,
          0,
          0,
          0,
          0,
          0,
          1404,
          150,
          360,
          40,
          386,
          1897,
          556,
          129,
          364,
          0,
          216,
          1486,
          25659,
          1766,
          364,
          612,
          10387,
          0,
          2228,
          6997,
          1529,
          0,
          1664,
          1716,
          594,
          1836,
          8323,
          13889,
          9667,
          2772,
          1783,
          28508,
          10674,
          6142,
          10557,
          1793,
          4915,
          3077,
          9023,
          614,
          3446,
          1436,
          3083,
          1409,
          1179
         ]
        }
       ],
       "layout": {
        "template": {
         "data": {
          "bar": [
           {
            "error_x": {
             "color": "#2a3f5f"
            },
            "error_y": {
             "color": "#2a3f5f"
            },
            "marker": {
             "line": {
              "color": "white",
              "width": 0.5
             },
             "pattern": {
              "fillmode": "overlay",
              "size": 10,
              "solidity": 0.2
             }
            },
            "type": "bar"
           }
          ],
          "barpolar": [
           {
            "marker": {
             "line": {
              "color": "white",
              "width": 0.5
             },
             "pattern": {
              "fillmode": "overlay",
              "size": 10,
              "solidity": 0.2
             }
            },
            "type": "barpolar"
           }
          ],
          "carpet": [
           {
            "aaxis": {
             "endlinecolor": "#2a3f5f",
             "gridcolor": "#C8D4E3",
             "linecolor": "#C8D4E3",
             "minorgridcolor": "#C8D4E3",
             "startlinecolor": "#2a3f5f"
            },
            "baxis": {
             "endlinecolor": "#2a3f5f",
             "gridcolor": "#C8D4E3",
             "linecolor": "#C8D4E3",
             "minorgridcolor": "#C8D4E3",
             "startlinecolor": "#2a3f5f"
            },
            "type": "carpet"
           }
          ],
          "choropleth": [
           {
            "colorbar": {
             "outlinewidth": 0,
             "ticks": ""
            },
            "type": "choropleth"
           }
          ],
          "contour": [
           {
            "colorbar": {
             "outlinewidth": 0,
             "ticks": ""
            },
            "colorscale": [
             [
              0,
              "#0d0887"
             ],
             [
              0.1111111111111111,
              "#46039f"
             ],
             [
              0.2222222222222222,
              "#7201a8"
             ],
             [
              0.3333333333333333,
              "#9c179e"
             ],
             [
              0.4444444444444444,
              "#bd3786"
             ],
             [
              0.5555555555555556,
              "#d8576b"
             ],
             [
              0.6666666666666666,
              "#ed7953"
             ],
             [
              0.7777777777777778,
              "#fb9f3a"
             ],
             [
              0.8888888888888888,
              "#fdca26"
             ],
             [
              1,
              "#f0f921"
             ]
            ],
            "type": "contour"
           }
          ],
          "contourcarpet": [
           {
            "colorbar": {
             "outlinewidth": 0,
             "ticks": ""
            },
            "type": "contourcarpet"
           }
          ],
          "heatmap": [
           {
            "colorbar": {
             "outlinewidth": 0,
             "ticks": ""
            },
            "colorscale": [
             [
              0,
              "#0d0887"
             ],
             [
              0.1111111111111111,
              "#46039f"
             ],
             [
              0.2222222222222222,
              "#7201a8"
             ],
             [
              0.3333333333333333,
              "#9c179e"
             ],
             [
              0.4444444444444444,
              "#bd3786"
             ],
             [
              0.5555555555555556,
              "#d8576b"
             ],
             [
              0.6666666666666666,
              "#ed7953"
             ],
             [
              0.7777777777777778,
              "#fb9f3a"
             ],
             [
              0.8888888888888888,
              "#fdca26"
             ],
             [
              1,
              "#f0f921"
             ]
            ],
            "type": "heatmap"
           }
          ],
          "heatmapgl": [
           {
            "colorbar": {
             "outlinewidth": 0,
             "ticks": ""
            },
            "colorscale": [
             [
              0,
              "#0d0887"
             ],
             [
              0.1111111111111111,
              "#46039f"
             ],
             [
              0.2222222222222222,
              "#7201a8"
             ],
             [
              0.3333333333333333,
              "#9c179e"
             ],
             [
              0.4444444444444444,
              "#bd3786"
             ],
             [
              0.5555555555555556,
              "#d8576b"
             ],
             [
              0.6666666666666666,
              "#ed7953"
             ],
             [
              0.7777777777777778,
              "#fb9f3a"
             ],
             [
              0.8888888888888888,
              "#fdca26"
             ],
             [
              1,
              "#f0f921"
             ]
            ],
            "type": "heatmapgl"
           }
          ],
          "histogram": [
           {
            "marker": {
             "pattern": {
              "fillmode": "overlay",
              "size": 10,
              "solidity": 0.2
             }
            },
            "type": "histogram"
           }
          ],
          "histogram2d": [
           {
            "colorbar": {
             "outlinewidth": 0,
             "ticks": ""
            },
            "colorscale": [
             [
              0,
              "#0d0887"
             ],
             [
              0.1111111111111111,
              "#46039f"
             ],
             [
              0.2222222222222222,
              "#7201a8"
             ],
             [
              0.3333333333333333,
              "#9c179e"
             ],
             [
              0.4444444444444444,
              "#bd3786"
             ],
             [
              0.5555555555555556,
              "#d8576b"
             ],
             [
              0.6666666666666666,
              "#ed7953"
             ],
             [
              0.7777777777777778,
              "#fb9f3a"
             ],
             [
              0.8888888888888888,
              "#fdca26"
             ],
             [
              1,
              "#f0f921"
             ]
            ],
            "type": "histogram2d"
           }
          ],
          "histogram2dcontour": [
           {
            "colorbar": {
             "outlinewidth": 0,
             "ticks": ""
            },
            "colorscale": [
             [
              0,
              "#0d0887"
             ],
             [
              0.1111111111111111,
              "#46039f"
             ],
             [
              0.2222222222222222,
              "#7201a8"
             ],
             [
              0.3333333333333333,
              "#9c179e"
             ],
             [
              0.4444444444444444,
              "#bd3786"
             ],
             [
              0.5555555555555556,
              "#d8576b"
             ],
             [
              0.6666666666666666,
              "#ed7953"
             ],
             [
              0.7777777777777778,
              "#fb9f3a"
             ],
             [
              0.8888888888888888,
              "#fdca26"
             ],
             [
              1,
              "#f0f921"
             ]
            ],
            "type": "histogram2dcontour"
           }
          ],
          "mesh3d": [
           {
            "colorbar": {
             "outlinewidth": 0,
             "ticks": ""
            },
            "type": "mesh3d"
           }
          ],
          "parcoords": [
           {
            "line": {
             "colorbar": {
              "outlinewidth": 0,
              "ticks": ""
             }
            },
            "type": "parcoords"
           }
          ],
          "pie": [
           {
            "automargin": true,
            "type": "pie"
           }
          ],
          "scatter": [
           {
            "fillpattern": {
             "fillmode": "overlay",
             "size": 10,
             "solidity": 0.2
            },
            "type": "scatter"
           }
          ],
          "scatter3d": [
           {
            "line": {
             "colorbar": {
              "outlinewidth": 0,
              "ticks": ""
             }
            },
            "marker": {
             "colorbar": {
              "outlinewidth": 0,
              "ticks": ""
             }
            },
            "type": "scatter3d"
           }
          ],
          "scattercarpet": [
           {
            "marker": {
             "colorbar": {
              "outlinewidth": 0,
              "ticks": ""
             }
            },
            "type": "scattercarpet"
           }
          ],
          "scattergeo": [
           {
            "marker": {
             "colorbar": {
              "outlinewidth": 0,
              "ticks": ""
             }
            },
            "type": "scattergeo"
           }
          ],
          "scattergl": [
           {
            "marker": {
             "colorbar": {
              "outlinewidth": 0,
              "ticks": ""
             }
            },
            "type": "scattergl"
           }
          ],
          "scattermapbox": [
           {
            "marker": {
             "colorbar": {
              "outlinewidth": 0,
              "ticks": ""
             }
            },
            "type": "scattermapbox"
           }
          ],
          "scatterpolar": [
           {
            "marker": {
             "colorbar": {
              "outlinewidth": 0,
              "ticks": ""
             }
            },
            "type": "scatterpolar"
           }
          ],
          "scatterpolargl": [
           {
            "marker": {
             "colorbar": {
              "outlinewidth": 0,
              "ticks": ""
             }
            },
            "type": "scatterpolargl"
           }
          ],
          "scatterternary": [
           {
            "marker": {
             "colorbar": {
              "outlinewidth": 0,
              "ticks": ""
             }
            },
            "type": "scatterternary"
           }
          ],
          "surface": [
           {
            "colorbar": {
             "outlinewidth": 0,
             "ticks": ""
            },
            "colorscale": [
             [
              0,
              "#0d0887"
             ],
             [
              0.1111111111111111,
              "#46039f"
             ],
             [
              0.2222222222222222,
              "#7201a8"
             ],
             [
              0.3333333333333333,
              "#9c179e"
             ],
             [
              0.4444444444444444,
              "#bd3786"
             ],
             [
              0.5555555555555556,
              "#d8576b"
             ],
             [
              0.6666666666666666,
              "#ed7953"
             ],
             [
              0.7777777777777778,
              "#fb9f3a"
             ],
             [
              0.8888888888888888,
              "#fdca26"
             ],
             [
              1,
              "#f0f921"
             ]
            ],
            "type": "surface"
           }
          ],
          "table": [
           {
            "cells": {
             "fill": {
              "color": "#EBF0F8"
             },
             "line": {
              "color": "white"
             }
            },
            "header": {
             "fill": {
              "color": "#C8D4E3"
             },
             "line": {
              "color": "white"
             }
            },
            "type": "table"
           }
          ]
         },
         "layout": {
          "annotationdefaults": {
           "arrowcolor": "#2a3f5f",
           "arrowhead": 0,
           "arrowwidth": 1
          },
          "autotypenumbers": "strict",
          "coloraxis": {
           "colorbar": {
            "outlinewidth": 0,
            "ticks": ""
           }
          },
          "colorscale": {
           "diverging": [
            [
             0,
             "#8e0152"
            ],
            [
             0.1,
             "#c51b7d"
            ],
            [
             0.2,
             "#de77ae"
            ],
            [
             0.3,
             "#f1b6da"
            ],
            [
             0.4,
             "#fde0ef"
            ],
            [
             0.5,
             "#f7f7f7"
            ],
            [
             0.6,
             "#e6f5d0"
            ],
            [
             0.7,
             "#b8e186"
            ],
            [
             0.8,
             "#7fbc41"
            ],
            [
             0.9,
             "#4d9221"
            ],
            [
             1,
             "#276419"
            ]
           ],
           "sequential": [
            [
             0,
             "#0d0887"
            ],
            [
             0.1111111111111111,
             "#46039f"
            ],
            [
             0.2222222222222222,
             "#7201a8"
            ],
            [
             0.3333333333333333,
             "#9c179e"
            ],
            [
             0.4444444444444444,
             "#bd3786"
            ],
            [
             0.5555555555555556,
             "#d8576b"
            ],
            [
             0.6666666666666666,
             "#ed7953"
            ],
            [
             0.7777777777777778,
             "#fb9f3a"
            ],
            [
             0.8888888888888888,
             "#fdca26"
            ],
            [
             1,
             "#f0f921"
            ]
           ],
           "sequentialminus": [
            [
             0,
             "#0d0887"
            ],
            [
             0.1111111111111111,
             "#46039f"
            ],
            [
             0.2222222222222222,
             "#7201a8"
            ],
            [
             0.3333333333333333,
             "#9c179e"
            ],
            [
             0.4444444444444444,
             "#bd3786"
            ],
            [
             0.5555555555555556,
             "#d8576b"
            ],
            [
             0.6666666666666666,
             "#ed7953"
            ],
            [
             0.7777777777777778,
             "#fb9f3a"
            ],
            [
             0.8888888888888888,
             "#fdca26"
            ],
            [
             1,
             "#f0f921"
            ]
           ]
          },
          "colorway": [
           "#636efa",
           "#EF553B",
           "#00cc96",
           "#ab63fa",
           "#FFA15A",
           "#19d3f3",
           "#FF6692",
           "#B6E880",
           "#FF97FF",
           "#FECB52"
          ],
          "font": {
           "color": "#2a3f5f"
          },
          "geo": {
           "bgcolor": "white",
           "lakecolor": "white",
           "landcolor": "white",
           "showlakes": true,
           "showland": true,
           "subunitcolor": "#C8D4E3"
          },
          "hoverlabel": {
           "align": "left"
          },
          "hovermode": "closest",
          "mapbox": {
           "style": "light"
          },
          "paper_bgcolor": "white",
          "plot_bgcolor": "white",
          "polar": {
           "angularaxis": {
            "gridcolor": "#EBF0F8",
            "linecolor": "#EBF0F8",
            "ticks": ""
           },
           "bgcolor": "white",
           "radialaxis": {
            "gridcolor": "#EBF0F8",
            "linecolor": "#EBF0F8",
            "ticks": ""
           }
          },
          "scene": {
           "xaxis": {
            "backgroundcolor": "white",
            "gridcolor": "#DFE8F3",
            "gridwidth": 2,
            "linecolor": "#EBF0F8",
            "showbackground": true,
            "ticks": "",
            "zerolinecolor": "#EBF0F8"
           },
           "yaxis": {
            "backgroundcolor": "white",
            "gridcolor": "#DFE8F3",
            "gridwidth": 2,
            "linecolor": "#EBF0F8",
            "showbackground": true,
            "ticks": "",
            "zerolinecolor": "#EBF0F8"
           },
           "zaxis": {
            "backgroundcolor": "white",
            "gridcolor": "#DFE8F3",
            "gridwidth": 2,
            "linecolor": "#EBF0F8",
            "showbackground": true,
            "ticks": "",
            "zerolinecolor": "#EBF0F8"
           }
          },
          "shapedefaults": {
           "line": {
            "color": "#2a3f5f"
           }
          },
          "ternary": {
           "aaxis": {
            "gridcolor": "#DFE8F3",
            "linecolor": "#A2B1C6",
            "ticks": ""
           },
           "baxis": {
            "gridcolor": "#DFE8F3",
            "linecolor": "#A2B1C6",
            "ticks": ""
           },
           "bgcolor": "white",
           "caxis": {
            "gridcolor": "#DFE8F3",
            "linecolor": "#A2B1C6",
            "ticks": ""
           }
          },
          "title": {
           "x": 0.05
          },
          "xaxis": {
           "automargin": true,
           "gridcolor": "#EBF0F8",
           "linecolor": "#EBF0F8",
           "ticks": "",
           "title": {
            "standoff": 15
           },
           "zerolinecolor": "#EBF0F8",
           "zerolinewidth": 2
          },
          "yaxis": {
           "automargin": true,
           "gridcolor": "#EBF0F8",
           "linecolor": "#EBF0F8",
           "ticks": "",
           "title": {
            "standoff": 15
           },
           "zerolinecolor": "#EBF0F8",
           "zerolinewidth": 2
          }
         }
        },
        "title": {
         "text": "GUAIBA - WTP MOINHOS DE VENTO<br>Cyanobacteria monitoring"
        },
        "xaxis": {
         "anchor": "y",
         "domain": [
          0,
          1
         ],
         "title": {
          "text": "Date"
         }
        },
        "yaxis": {
         "anchor": "x",
         "domain": [
          0,
          1
         ],
         "title": {
          "text": "Cyanobacteria (cells mL−1)"
         }
        }
       }
      }
     },
     "metadata": {},
     "output_type": "display_data"
    }
   ],
   "source": [
    "from src.report.plot_predicted_values import plot_predicted_values\n",
    "\n",
    "plot_predicted_values(\"params.yaml\")"
   ]
  },
  {
   "cell_type": "code",
   "execution_count": 12,
   "metadata": {},
   "outputs": [],
   "source": [
    "import yaml\n",
    "\n",
    "with open(\"params.yaml\") as config_file:\n",
    "    config = yaml.safe_load(config_file)"
   ]
  },
  {
   "cell_type": "code",
   "execution_count": 9,
   "metadata": {},
   "outputs": [
    {
     "data": {
      "text/plain": [
       "['date',\n",
       " 'NDVI_median',\n",
       " 'NDCI_median',\n",
       " 'B1_median',\n",
       " 'B2_median',\n",
       " 'B3_median',\n",
       " 'B4_median',\n",
       " 'B5_median',\n",
       " 'B6_median',\n",
       " 'B7_median',\n",
       " 'B8_median',\n",
       " 'B8A_median',\n",
       " 'B9_median',\n",
       " 'B11_median',\n",
       " 'B12_median',\n",
       " ['Resultado', 'Data da coleta', 'interval'],\n",
       " ['Resultado', 'Data da coleta', 'interval'],\n",
       " ['Resultado', 'Data da coleta', 'interval'],\n",
       " 'Resultado',\n",
       " 'Data da coleta',\n",
       " 'interval']"
      ]
     },
     "execution_count": 9,
     "metadata": {},
     "output_type": "execute_result"
    }
   ],
   "source": [
    "x = config[\"featurize\"][\"selected_clean_columns\"]\n",
    "\n",
    "x + ['Resultado', 'Data da coleta', 'interval']"
   ]
  },
  {
   "cell_type": "code",
   "execution_count": 14,
   "metadata": {},
   "outputs": [
    {
     "data": {
      "text/plain": [
       "['date',\n",
       " 'NDVI_median',\n",
       " 'NDCI_median',\n",
       " 'B1_median',\n",
       " 'B2_median',\n",
       " 'B3_median',\n",
       " 'B4_median',\n",
       " 'B5_median',\n",
       " 'B6_median',\n",
       " 'B7_median',\n",
       " 'B8_median',\n",
       " 'B8A_median',\n",
       " 'B9_median',\n",
       " 'B11_median',\n",
       " 'B12_median',\n",
       " 'Resultado',\n",
       " 'Data da coleta',\n",
       " 'interval',\n",
       " 'Resultado',\n",
       " 'Data da coleta',\n",
       " 'interval']"
      ]
     },
     "execution_count": 14,
     "metadata": {},
     "output_type": "execute_result"
    }
   ],
   "source": [
    "selected_columns = config[\"featurize\"][\"selected_clean_columns\"] \n",
    "selected_columns"
   ]
  },
  {
   "cell_type": "code",
   "execution_count": 70,
   "metadata": {},
   "outputs": [
    {
     "data": {
      "text/plain": [
       "1970.1362617961097"
      ]
     },
     "execution_count": 70,
     "metadata": {},
     "output_type": "execute_result"
    }
   ],
   "source": [
    "from sklearn.linear_model import PoissonRegressor"
   ]
  },
  {
   "cell_type": "code",
   "execution_count": 74,
   "metadata": {},
   "outputs": [
    {
     "name": "stderr",
     "output_type": "stream",
     "text": [
      "[I 2024-01-06 16:46:28,096] A new study created in memory with name: Poisson\n"
     ]
    },
    {
     "name": "stderr",
     "output_type": "stream",
     "text": [
      "[I 2024-01-06 16:46:28,817] Trial 0 finished with value: 3217.009093788988 and parameters: {'alpha': 0.30065974100680615}. Best is trial 0 with value: 3217.009093788988.\n",
      "[I 2024-01-06 16:46:29,543] Trial 1 finished with value: 3238.1971786681975 and parameters: {'alpha': 0.39259029829124414}. Best is trial 0 with value: 3217.009093788988.\n",
      "[I 2024-01-06 16:46:29,979] Trial 2 finished with value: 3329.333484034722 and parameters: {'alpha': 0.9950221112178053}. Best is trial 0 with value: 3217.009093788988.\n",
      "[I 2024-01-06 16:46:30,620] Trial 3 finished with value: 3278.4675846100426 and parameters: {'alpha': 0.6135661585406824}. Best is trial 0 with value: 3217.009093788988.\n",
      "[I 2024-01-06 16:46:31,205] Trial 4 finished with value: 3292.837672744864 and parameters: {'alpha': 0.7082706651515595}. Best is trial 0 with value: 3217.009093788988.\n",
      "[I 2024-01-06 16:46:31,734] Trial 5 finished with value: 3314.461608629376 and parameters: {'alpha': 0.869572687762948}. Best is trial 0 with value: 3217.009093788988.\n",
      "[I 2024-01-06 16:46:32,513] Trial 6 finished with value: 3235.3153495522743 and parameters: {'alpha': 0.37896229386604663}. Best is trial 0 with value: 3217.009093788988.\n",
      "[I 2024-01-06 16:46:33,172] Trial 7 finished with value: 3261.5216007972804 and parameters: {'alpha': 0.5130203013560358}. Best is trial 0 with value: 3217.009093788988.\n",
      "[I 2024-01-06 16:46:34,172] Trial 8 finished with value: 3184.4803781936707 and parameters: {'alpha': 0.18735562443205578}. Best is trial 8 with value: 3184.4803781936707.\n",
      "[I 2024-01-06 16:46:34,743] Trial 9 finished with value: 3317.194367312246 and parameters: {'alpha': 0.8915060405549099}. Best is trial 8 with value: 3184.4803781936707.\n",
      "[I 2024-01-06 16:46:36,001] Trial 10 finished with value: 3151.1151842620907 and parameters: {'alpha': 0.09472638814292848}. Best is trial 10 with value: 3151.1151842620907.\n",
      "[I 2024-01-06 16:46:37,391] Trial 11 finished with value: 3140.687176800164 and parameters: {'alpha': 0.06370547053583042}. Best is trial 11 with value: 3140.687176800164.\n",
      "[I 2024-01-06 16:46:39,275] Trial 12 finished with value: 3252.0657964427387 and parameters: {'alpha': 0.018969275906522684}. Best is trial 11 with value: 3140.687176800164.\n",
      "[I 2024-01-06 16:46:42,094] Trial 13 finished with value: 3377.1702982860124 and parameters: {'alpha': 0.008578475046538067}. Best is trial 11 with value: 3140.687176800164.\n",
      "[I 2024-01-06 16:46:42,969] Trial 14 finished with value: 3179.6894318995546 and parameters: {'alpha': 0.17285895482916938}. Best is trial 11 with value: 3140.687176800164.\n",
      "[I 2024-01-06 16:46:43,919] Trial 15 finished with value: 3169.9678292059334 and parameters: {'alpha': 0.1449576685623721}. Best is trial 11 with value: 3140.687176800164.\n",
      "[I 2024-01-06 16:46:44,672] Trial 16 finished with value: 3210.245524807685 and parameters: {'alpha': 0.27445393128202517}. Best is trial 11 with value: 3140.687176800164.\n",
      "[I 2024-01-06 16:46:45,785] Trial 17 finished with value: 3151.791763860676 and parameters: {'alpha': 0.0963517284789299}. Best is trial 11 with value: 3140.687176800164.\n",
      "[I 2024-01-06 16:46:46,532] Trial 18 finished with value: 3213.0631829313797 and parameters: {'alpha': 0.28544630746344307}. Best is trial 11 with value: 3140.687176800164.\n",
      "[I 2024-01-06 16:46:47,130] Trial 19 finished with value: 3260.662637960276 and parameters: {'alpha': 0.5078419378510436}. Best is trial 11 with value: 3140.687176800164.\n",
      "[I 2024-01-06 16:46:48,338] Trial 20 finished with value: 3143.109323853826 and parameters: {'alpha': 0.0716287799708817}. Best is trial 11 with value: 3140.687176800164.\n",
      "[I 2024-01-06 16:46:49,456] Trial 21 finished with value: 3144.0476169686317 and parameters: {'alpha': 0.074481001743357}. Best is trial 11 with value: 3140.687176800164.\n",
      "[I 2024-01-06 16:46:51,389] Trial 22 finished with value: 3234.2408116177353 and parameters: {'alpha': 0.021064422728750393}. Best is trial 11 with value: 3140.687176800164.\n",
      "[I 2024-01-06 16:46:52,218] Trial 23 finished with value: 3195.1276812722895 and parameters: {'alpha': 0.22111190920822363}. Best is trial 11 with value: 3140.687176800164.\n",
      "[I 2024-01-06 16:46:53,407] Trial 24 finished with value: 3150.876380416872 and parameters: {'alpha': 0.09347919513746542}. Best is trial 11 with value: 3140.687176800164.\n",
      "[I 2024-01-06 16:46:54,021] Trial 25 finished with value: 3237.500408508944 and parameters: {'alpha': 0.38911357559483895}. Best is trial 11 with value: 3140.687176800164.\n",
      "[I 2024-01-06 16:46:55,201] Trial 26 finished with value: 3150.6530790824827 and parameters: {'alpha': 0.0932320682663383}. Best is trial 11 with value: 3140.687176800164.\n",
      "[I 2024-01-06 16:46:56,076] Trial 27 finished with value: 3199.504609475517 and parameters: {'alpha': 0.2360786158797836}. Best is trial 11 with value: 3140.687176800164.\n",
      "[I 2024-01-06 16:46:57,058] Trial 28 finished with value: 3226.8225008804507 and parameters: {'alpha': 0.34140681712547466}. Best is trial 11 with value: 3140.687176800164.\n",
      "[I 2024-01-06 16:46:58,077] Trial 29 finished with value: 3175.1953906676017 and parameters: {'alpha': 0.15975785839751427}. Best is trial 11 with value: 3140.687176800164.\n",
      "/Users/danieloliveiradebrito/Projetos/cyanobacteria-monitoring/venv/lib/python3.9/site-packages/sklearn/linear_model/_glm/glm.py:294: ConvergenceWarning:\n",
      "\n",
      "lbfgs failed to converge (status=1):\n",
      "STOP: TOTAL NO. of ITERATIONS REACHED LIMIT.\n",
      "\n",
      "Increase the number of iterations (max_iter) or scale the data as shown in:\n",
      "    https://scikit-learn.org/stable/modules/preprocessing.html\n",
      "\n",
      "[I 2024-01-06 16:47:03,846] Trial 30 finished with value: 3523.693202362329 and parameters: {'alpha': 0.0019341209663329834}. Best is trial 11 with value: 3140.687176800164.\n",
      "[I 2024-01-06 16:47:05,504] Trial 31 finished with value: 3145.7767537739364 and parameters: {'alpha': 0.07961139927915922}. Best is trial 11 with value: 3140.687176800164.\n",
      "[I 2024-01-06 16:47:06,834] Trial 32 finished with value: 3142.5937520788702 and parameters: {'alpha': 0.07015951301795087}. Best is trial 11 with value: 3140.687176800164.\n",
      "[I 2024-01-06 16:47:07,763] Trial 33 finished with value: 3199.6859618446097 and parameters: {'alpha': 0.23687702926380522}. Best is trial 11 with value: 3140.687176800164.\n",
      "[I 2024-01-06 16:47:08,674] Trial 34 finished with value: 3168.396309521834 and parameters: {'alpha': 0.14081228878537044}. Best is trial 11 with value: 3140.687176800164.\n",
      "[I 2024-01-06 16:47:10,067] Trial 35 finished with value: 3137.8674152991925 and parameters: {'alpha': 0.04945309584456749}. Best is trial 35 with value: 3137.8674152991925.\n",
      "[I 2024-01-06 16:47:10,773] Trial 36 finished with value: 3226.198419009721 and parameters: {'alpha': 0.33898370493150154}. Best is trial 35 with value: 3137.8674152991925.\n",
      "[I 2024-01-06 16:47:11,419] Trial 37 finished with value: 3282.6037889691206 and parameters: {'alpha': 0.6394364021382113}. Best is trial 35 with value: 3137.8674152991925.\n",
      "[I 2024-01-06 16:47:12,001] Trial 38 finished with value: 3245.8374288067107 and parameters: {'alpha': 0.4293683109997016}. Best is trial 35 with value: 3137.8674152991925.\n",
      "[I 2024-01-06 16:47:13,389] Trial 39 finished with value: 3137.6525280812566 and parameters: {'alpha': 0.04597668971126505}. Best is trial 39 with value: 3137.6525280812566.\n",
      "[I 2024-01-06 16:47:14,283] Trial 40 finished with value: 3183.289051833899 and parameters: {'alpha': 0.18384822648227317}. Best is trial 39 with value: 3137.6525280812566.\n",
      "[I 2024-01-06 16:47:15,733] Trial 41 finished with value: 3137.6516625465138 and parameters: {'alpha': 0.0472607587356381}. Best is trial 41 with value: 3137.6516625465138.\n",
      "[I 2024-01-06 16:47:17,260] Trial 42 finished with value: 3137.6547684824327 and parameters: {'alpha': 0.047316985855654914}. Best is trial 41 with value: 3137.6516625465138.\n",
      "[I 2024-01-06 16:47:18,755] Trial 43 finished with value: 3138.0894251334184 and parameters: {'alpha': 0.04238211760231096}. Best is trial 41 with value: 3137.6516625465138.\n",
      "[I 2024-01-06 16:47:19,740] Trial 44 finished with value: 3168.652421942639 and parameters: {'alpha': 0.1415445554602843}. Best is trial 41 with value: 3137.6516625465138.\n",
      "[I 2024-01-06 16:47:20,307] Trial 45 finished with value: 3303.496962625845 and parameters: {'alpha': 0.784241018600203}. Best is trial 41 with value: 3137.6516625465138.\n",
      "[I 2024-01-06 16:47:22,014] Trial 46 finished with value: 3175.459693292971 and parameters: {'alpha': 0.029828579016344545}. Best is trial 41 with value: 3137.6516625465138.\n",
      "[I 2024-01-06 16:47:23,047] Trial 47 finished with value: 3163.111440975885 and parameters: {'alpha': 0.12640055371555986}. Best is trial 41 with value: 3137.6516625465138.\n",
      "[I 2024-01-06 16:47:23,706] Trial 48 finished with value: 3251.3732461229615 and parameters: {'alpha': 0.45782058742515847}. Best is trial 41 with value: 3137.6516625465138.\n",
      "[I 2024-01-06 16:47:24,526] Trial 49 finished with value: 3190.976699109694 and parameters: {'alpha': 0.2075129546615363}. Best is trial 41 with value: 3137.6516625465138.\n"
     ]
    }
   ],
   "source": [
    "# Poly Ridge\n",
    "RANDOM = config[\"base\"][\"random_state\"]\n",
    "\n",
    "\n",
    "\n",
    "def objective(trial, X, y):\n",
    "\n",
    "    param_grid = {\n",
    "        \"alpha\": trial.suggest_float(\"alpha\", 0, 1),\n",
    "    }\n",
    "\n",
    "    model = PoissonRegressor(max_iter=10_000, alpha=param_grid[\"alpha\"])\n",
    "    \n",
    "    cv = RepeatedKFold(n_repeats=2, n_splits=3, random_state=RANDOM)\n",
    "\n",
    "    cv_scores = []\n",
    "    for (train_index, val_index) in cv.split(X, y):\n",
    "    #print(train_index, val_index)\n",
    "        X_train, X_val = X.iloc[train_index], X.iloc[val_index]\n",
    "        y_train, y_val = y.iloc[train_index], y.iloc[val_index]\n",
    "        \n",
    "        model.fit(X_train, y_train)\n",
    "                \n",
    "        preds = model.predict(X_val)\n",
    "        cv_scores.append(mean_absolute_error(preds, y_val))\n",
    "    \n",
    "    return np.median(cv_scores)\n",
    "\n",
    "study = optuna.create_study(direction=\"minimize\", study_name=\"Poisson\")\n",
    "func = lambda trial: objective(trial, X_train, y_train)\n",
    "study.optimize(func, n_trials=50)"
   ]
  },
  {
   "cell_type": "code",
   "execution_count": 75,
   "metadata": {},
   "outputs": [
    {
     "data": {
      "text/plain": [
       "{'alpha': 0.0472607587356381}"
      ]
     },
     "execution_count": 75,
     "metadata": {},
     "output_type": "execute_result"
    }
   ],
   "source": [
    "study.best_params"
   ]
  },
  {
   "cell_type": "code",
   "execution_count": 78,
   "metadata": {},
   "outputs": [
    {
     "name": "stdout",
     "output_type": "stream",
     "text": [
      "1970.1362617961097\n"
     ]
    },
    {
     "data": {
      "application/vnd.plotly.v1+json": {
       "config": {
        "plotlyServerURL": "https://plot.ly"
       },
       "data": [
        {
         "hovertemplate": "y_pred=%{x}<br>y_true=%{y}<extra></extra>",
         "legendgroup": "",
         "marker": {
          "color": "#636efa",
          "symbol": "circle"
         },
         "mode": "markers",
         "name": "",
         "orientation": "v",
         "showlegend": false,
         "type": "scatter",
         "x": [
          1566.9919760878115,
          3018.6259691729215,
          1460.4560770055114,
          4353.393728552754,
          9626.694510290006,
          8200.005757233348,
          3075.380161809985,
          3016.607186884664,
          6881.938015725162,
          6750.418675300678,
          3634.5321689214616,
          3565.0733518679126,
          3022.21749577559,
          2964.4605019236374,
          835.1351047917019,
          1208.1521567433158,
          78.96976841520201,
          78.58974011434204,
          193.21468517652352,
          640.551134759251,
          1231.4236768011126,
          163.45214946657458,
          535.9869462323364,
          195.45737854314865,
          500.93605169501376
         ],
         "xaxis": "x",
         "y": [
          2756,
          1314,
          4305,
          2616,
          13389,
          16137,
          2306,
          1656,
          2306,
          1656,
          2306,
          1656,
          2306,
          1656,
          2481,
          1272,
          174,
          2760,
          2178,
          1604,
          1604,
          131,
          2715,
          2715,
          23
         ],
         "yaxis": "y"
        }
       ],
       "layout": {
        "legend": {
         "tracegroupgap": 0
        },
        "margin": {
         "t": 60
        },
        "template": {
         "data": {
          "bar": [
           {
            "error_x": {
             "color": "#2a3f5f"
            },
            "error_y": {
             "color": "#2a3f5f"
            },
            "marker": {
             "line": {
              "color": "#E5ECF6",
              "width": 0.5
             },
             "pattern": {
              "fillmode": "overlay",
              "size": 10,
              "solidity": 0.2
             }
            },
            "type": "bar"
           }
          ],
          "barpolar": [
           {
            "marker": {
             "line": {
              "color": "#E5ECF6",
              "width": 0.5
             },
             "pattern": {
              "fillmode": "overlay",
              "size": 10,
              "solidity": 0.2
             }
            },
            "type": "barpolar"
           }
          ],
          "carpet": [
           {
            "aaxis": {
             "endlinecolor": "#2a3f5f",
             "gridcolor": "white",
             "linecolor": "white",
             "minorgridcolor": "white",
             "startlinecolor": "#2a3f5f"
            },
            "baxis": {
             "endlinecolor": "#2a3f5f",
             "gridcolor": "white",
             "linecolor": "white",
             "minorgridcolor": "white",
             "startlinecolor": "#2a3f5f"
            },
            "type": "carpet"
           }
          ],
          "choropleth": [
           {
            "colorbar": {
             "outlinewidth": 0,
             "ticks": ""
            },
            "type": "choropleth"
           }
          ],
          "contour": [
           {
            "colorbar": {
             "outlinewidth": 0,
             "ticks": ""
            },
            "colorscale": [
             [
              0,
              "#0d0887"
             ],
             [
              0.1111111111111111,
              "#46039f"
             ],
             [
              0.2222222222222222,
              "#7201a8"
             ],
             [
              0.3333333333333333,
              "#9c179e"
             ],
             [
              0.4444444444444444,
              "#bd3786"
             ],
             [
              0.5555555555555556,
              "#d8576b"
             ],
             [
              0.6666666666666666,
              "#ed7953"
             ],
             [
              0.7777777777777778,
              "#fb9f3a"
             ],
             [
              0.8888888888888888,
              "#fdca26"
             ],
             [
              1,
              "#f0f921"
             ]
            ],
            "type": "contour"
           }
          ],
          "contourcarpet": [
           {
            "colorbar": {
             "outlinewidth": 0,
             "ticks": ""
            },
            "type": "contourcarpet"
           }
          ],
          "heatmap": [
           {
            "colorbar": {
             "outlinewidth": 0,
             "ticks": ""
            },
            "colorscale": [
             [
              0,
              "#0d0887"
             ],
             [
              0.1111111111111111,
              "#46039f"
             ],
             [
              0.2222222222222222,
              "#7201a8"
             ],
             [
              0.3333333333333333,
              "#9c179e"
             ],
             [
              0.4444444444444444,
              "#bd3786"
             ],
             [
              0.5555555555555556,
              "#d8576b"
             ],
             [
              0.6666666666666666,
              "#ed7953"
             ],
             [
              0.7777777777777778,
              "#fb9f3a"
             ],
             [
              0.8888888888888888,
              "#fdca26"
             ],
             [
              1,
              "#f0f921"
             ]
            ],
            "type": "heatmap"
           }
          ],
          "heatmapgl": [
           {
            "colorbar": {
             "outlinewidth": 0,
             "ticks": ""
            },
            "colorscale": [
             [
              0,
              "#0d0887"
             ],
             [
              0.1111111111111111,
              "#46039f"
             ],
             [
              0.2222222222222222,
              "#7201a8"
             ],
             [
              0.3333333333333333,
              "#9c179e"
             ],
             [
              0.4444444444444444,
              "#bd3786"
             ],
             [
              0.5555555555555556,
              "#d8576b"
             ],
             [
              0.6666666666666666,
              "#ed7953"
             ],
             [
              0.7777777777777778,
              "#fb9f3a"
             ],
             [
              0.8888888888888888,
              "#fdca26"
             ],
             [
              1,
              "#f0f921"
             ]
            ],
            "type": "heatmapgl"
           }
          ],
          "histogram": [
           {
            "marker": {
             "pattern": {
              "fillmode": "overlay",
              "size": 10,
              "solidity": 0.2
             }
            },
            "type": "histogram"
           }
          ],
          "histogram2d": [
           {
            "colorbar": {
             "outlinewidth": 0,
             "ticks": ""
            },
            "colorscale": [
             [
              0,
              "#0d0887"
             ],
             [
              0.1111111111111111,
              "#46039f"
             ],
             [
              0.2222222222222222,
              "#7201a8"
             ],
             [
              0.3333333333333333,
              "#9c179e"
             ],
             [
              0.4444444444444444,
              "#bd3786"
             ],
             [
              0.5555555555555556,
              "#d8576b"
             ],
             [
              0.6666666666666666,
              "#ed7953"
             ],
             [
              0.7777777777777778,
              "#fb9f3a"
             ],
             [
              0.8888888888888888,
              "#fdca26"
             ],
             [
              1,
              "#f0f921"
             ]
            ],
            "type": "histogram2d"
           }
          ],
          "histogram2dcontour": [
           {
            "colorbar": {
             "outlinewidth": 0,
             "ticks": ""
            },
            "colorscale": [
             [
              0,
              "#0d0887"
             ],
             [
              0.1111111111111111,
              "#46039f"
             ],
             [
              0.2222222222222222,
              "#7201a8"
             ],
             [
              0.3333333333333333,
              "#9c179e"
             ],
             [
              0.4444444444444444,
              "#bd3786"
             ],
             [
              0.5555555555555556,
              "#d8576b"
             ],
             [
              0.6666666666666666,
              "#ed7953"
             ],
             [
              0.7777777777777778,
              "#fb9f3a"
             ],
             [
              0.8888888888888888,
              "#fdca26"
             ],
             [
              1,
              "#f0f921"
             ]
            ],
            "type": "histogram2dcontour"
           }
          ],
          "mesh3d": [
           {
            "colorbar": {
             "outlinewidth": 0,
             "ticks": ""
            },
            "type": "mesh3d"
           }
          ],
          "parcoords": [
           {
            "line": {
             "colorbar": {
              "outlinewidth": 0,
              "ticks": ""
             }
            },
            "type": "parcoords"
           }
          ],
          "pie": [
           {
            "automargin": true,
            "type": "pie"
           }
          ],
          "scatter": [
           {
            "fillpattern": {
             "fillmode": "overlay",
             "size": 10,
             "solidity": 0.2
            },
            "type": "scatter"
           }
          ],
          "scatter3d": [
           {
            "line": {
             "colorbar": {
              "outlinewidth": 0,
              "ticks": ""
             }
            },
            "marker": {
             "colorbar": {
              "outlinewidth": 0,
              "ticks": ""
             }
            },
            "type": "scatter3d"
           }
          ],
          "scattercarpet": [
           {
            "marker": {
             "colorbar": {
              "outlinewidth": 0,
              "ticks": ""
             }
            },
            "type": "scattercarpet"
           }
          ],
          "scattergeo": [
           {
            "marker": {
             "colorbar": {
              "outlinewidth": 0,
              "ticks": ""
             }
            },
            "type": "scattergeo"
           }
          ],
          "scattergl": [
           {
            "marker": {
             "colorbar": {
              "outlinewidth": 0,
              "ticks": ""
             }
            },
            "type": "scattergl"
           }
          ],
          "scattermapbox": [
           {
            "marker": {
             "colorbar": {
              "outlinewidth": 0,
              "ticks": ""
             }
            },
            "type": "scattermapbox"
           }
          ],
          "scatterpolar": [
           {
            "marker": {
             "colorbar": {
              "outlinewidth": 0,
              "ticks": ""
             }
            },
            "type": "scatterpolar"
           }
          ],
          "scatterpolargl": [
           {
            "marker": {
             "colorbar": {
              "outlinewidth": 0,
              "ticks": ""
             }
            },
            "type": "scatterpolargl"
           }
          ],
          "scatterternary": [
           {
            "marker": {
             "colorbar": {
              "outlinewidth": 0,
              "ticks": ""
             }
            },
            "type": "scatterternary"
           }
          ],
          "surface": [
           {
            "colorbar": {
             "outlinewidth": 0,
             "ticks": ""
            },
            "colorscale": [
             [
              0,
              "#0d0887"
             ],
             [
              0.1111111111111111,
              "#46039f"
             ],
             [
              0.2222222222222222,
              "#7201a8"
             ],
             [
              0.3333333333333333,
              "#9c179e"
             ],
             [
              0.4444444444444444,
              "#bd3786"
             ],
             [
              0.5555555555555556,
              "#d8576b"
             ],
             [
              0.6666666666666666,
              "#ed7953"
             ],
             [
              0.7777777777777778,
              "#fb9f3a"
             ],
             [
              0.8888888888888888,
              "#fdca26"
             ],
             [
              1,
              "#f0f921"
             ]
            ],
            "type": "surface"
           }
          ],
          "table": [
           {
            "cells": {
             "fill": {
              "color": "#EBF0F8"
             },
             "line": {
              "color": "white"
             }
            },
            "header": {
             "fill": {
              "color": "#C8D4E3"
             },
             "line": {
              "color": "white"
             }
            },
            "type": "table"
           }
          ]
         },
         "layout": {
          "annotationdefaults": {
           "arrowcolor": "#2a3f5f",
           "arrowhead": 0,
           "arrowwidth": 1
          },
          "autotypenumbers": "strict",
          "coloraxis": {
           "colorbar": {
            "outlinewidth": 0,
            "ticks": ""
           }
          },
          "colorscale": {
           "diverging": [
            [
             0,
             "#8e0152"
            ],
            [
             0.1,
             "#c51b7d"
            ],
            [
             0.2,
             "#de77ae"
            ],
            [
             0.3,
             "#f1b6da"
            ],
            [
             0.4,
             "#fde0ef"
            ],
            [
             0.5,
             "#f7f7f7"
            ],
            [
             0.6,
             "#e6f5d0"
            ],
            [
             0.7,
             "#b8e186"
            ],
            [
             0.8,
             "#7fbc41"
            ],
            [
             0.9,
             "#4d9221"
            ],
            [
             1,
             "#276419"
            ]
           ],
           "sequential": [
            [
             0,
             "#0d0887"
            ],
            [
             0.1111111111111111,
             "#46039f"
            ],
            [
             0.2222222222222222,
             "#7201a8"
            ],
            [
             0.3333333333333333,
             "#9c179e"
            ],
            [
             0.4444444444444444,
             "#bd3786"
            ],
            [
             0.5555555555555556,
             "#d8576b"
            ],
            [
             0.6666666666666666,
             "#ed7953"
            ],
            [
             0.7777777777777778,
             "#fb9f3a"
            ],
            [
             0.8888888888888888,
             "#fdca26"
            ],
            [
             1,
             "#f0f921"
            ]
           ],
           "sequentialminus": [
            [
             0,
             "#0d0887"
            ],
            [
             0.1111111111111111,
             "#46039f"
            ],
            [
             0.2222222222222222,
             "#7201a8"
            ],
            [
             0.3333333333333333,
             "#9c179e"
            ],
            [
             0.4444444444444444,
             "#bd3786"
            ],
            [
             0.5555555555555556,
             "#d8576b"
            ],
            [
             0.6666666666666666,
             "#ed7953"
            ],
            [
             0.7777777777777778,
             "#fb9f3a"
            ],
            [
             0.8888888888888888,
             "#fdca26"
            ],
            [
             1,
             "#f0f921"
            ]
           ]
          },
          "colorway": [
           "#636efa",
           "#EF553B",
           "#00cc96",
           "#ab63fa",
           "#FFA15A",
           "#19d3f3",
           "#FF6692",
           "#B6E880",
           "#FF97FF",
           "#FECB52"
          ],
          "font": {
           "color": "#2a3f5f"
          },
          "geo": {
           "bgcolor": "white",
           "lakecolor": "white",
           "landcolor": "#E5ECF6",
           "showlakes": true,
           "showland": true,
           "subunitcolor": "white"
          },
          "hoverlabel": {
           "align": "left"
          },
          "hovermode": "closest",
          "mapbox": {
           "style": "light"
          },
          "paper_bgcolor": "white",
          "plot_bgcolor": "#E5ECF6",
          "polar": {
           "angularaxis": {
            "gridcolor": "white",
            "linecolor": "white",
            "ticks": ""
           },
           "bgcolor": "#E5ECF6",
           "radialaxis": {
            "gridcolor": "white",
            "linecolor": "white",
            "ticks": ""
           }
          },
          "scene": {
           "xaxis": {
            "backgroundcolor": "#E5ECF6",
            "gridcolor": "white",
            "gridwidth": 2,
            "linecolor": "white",
            "showbackground": true,
            "ticks": "",
            "zerolinecolor": "white"
           },
           "yaxis": {
            "backgroundcolor": "#E5ECF6",
            "gridcolor": "white",
            "gridwidth": 2,
            "linecolor": "white",
            "showbackground": true,
            "ticks": "",
            "zerolinecolor": "white"
           },
           "zaxis": {
            "backgroundcolor": "#E5ECF6",
            "gridcolor": "white",
            "gridwidth": 2,
            "linecolor": "white",
            "showbackground": true,
            "ticks": "",
            "zerolinecolor": "white"
           }
          },
          "shapedefaults": {
           "line": {
            "color": "#2a3f5f"
           }
          },
          "ternary": {
           "aaxis": {
            "gridcolor": "white",
            "linecolor": "white",
            "ticks": ""
           },
           "baxis": {
            "gridcolor": "white",
            "linecolor": "white",
            "ticks": ""
           },
           "bgcolor": "#E5ECF6",
           "caxis": {
            "gridcolor": "white",
            "linecolor": "white",
            "ticks": ""
           }
          },
          "title": {
           "x": 0.05
          },
          "xaxis": {
           "automargin": true,
           "gridcolor": "white",
           "linecolor": "white",
           "ticks": "",
           "title": {
            "standoff": 15
           },
           "zerolinecolor": "white",
           "zerolinewidth": 2
          },
          "yaxis": {
           "automargin": true,
           "gridcolor": "white",
           "linecolor": "white",
           "ticks": "",
           "title": {
            "standoff": 15
           },
           "zerolinecolor": "white",
           "zerolinewidth": 2
          }
         }
        },
        "xaxis": {
         "anchor": "y",
         "domain": [
          0,
          1
         ],
         "title": {
          "text": "y_pred"
         }
        },
        "yaxis": {
         "anchor": "x",
         "domain": [
          0,
          1
         ],
         "title": {
          "text": "y_true"
         }
        }
       }
      }
     },
     "metadata": {},
     "output_type": "display_data"
    }
   ],
   "source": [
    "pois_reg = PoissonRegressor(max_iter=10_000, alpha=.5)\n",
    "pois_reg.fit(X_train, y_train)\n",
    "print(mean_absolute_error(y_test, pois_reg.predict(X_test)))\n",
    "\n",
    "px.scatter(\n",
    "    pd.DataFrame(\n",
    "        dict(\n",
    "            y_pred=pois_reg.predict(X_test),\n",
    "            y_true=y_test\n",
    "        )\n",
    "    ),\n",
    "    x=\"y_pred\",\n",
    "    y=\"y_true\"\n",
    ")"
   ]
  },
  {
   "cell_type": "code",
   "execution_count": 82,
   "metadata": {},
   "outputs": [],
   "source": [
    "with open(\"params.yaml\") as f:\n",
    "    config = yaml.safe_load(f)"
   ]
  },
  {
   "cell_type": "code",
   "execution_count": 83,
   "metadata": {},
   "outputs": [
    {
     "data": {
      "text/plain": [
       "'f\"s3://cyano-guaiba/data/prediction_20230101.gzip\"'"
      ]
     },
     "execution_count": 83,
     "metadata": {},
     "output_type": "execute_result"
    }
   ],
   "source": [
    "today_ = \"20230101\"\n",
    "config[\"evaluate\"][\"final_predictions_file\"].format(dt=today_)"
   ]
  },
  {
   "cell_type": "code",
   "execution_count": 89,
   "metadata": {},
   "outputs": [],
   "source": [
    "with open(\"params.yaml\") as f:\n",
    "    config = yaml.safe_load(f)"
   ]
  },
  {
   "cell_type": "code",
   "execution_count": 105,
   "metadata": {},
   "outputs": [],
   "source": []
  },
  {
   "cell_type": "code",
   "execution_count": 98,
   "metadata": {},
   "outputs": [
    {
     "data": {
      "text/plain": [
       "array(['cyano-guaiba/data/prediction_20240109.gzip',\n",
       "       'cyano-guaiba/data/prediction_20240115.gzip'], dtype='<U42')"
      ]
     },
     "execution_count": 98,
     "metadata": {},
     "output_type": "execute_result"
    }
   ],
   "source": [
    "np.sort(['cyano-guaiba/data/prediction_20240109.gzip', 'cyano-guaiba/data/prediction_20240115.gzip'])"
   ]
  },
  {
   "cell_type": "code",
   "execution_count": 108,
   "metadata": {},
   "outputs": [],
   "source": [
    "import json\n",
    "mae_file = open(config[\"evaluate\"][\"metrics_file\"])\n",
    "mae = json.load(mae_file)"
   ]
  },
  {
   "cell_type": "code",
   "execution_count": 109,
   "metadata": {},
   "outputs": [
    {
     "data": {
      "text/plain": [
       "{'mae': 2570.087376356467, 'mlse': 5.997943771372978}"
      ]
     },
     "execution_count": 109,
     "metadata": {},
     "output_type": "execute_result"
    }
   ],
   "source": [
    "mae"
   ]
  },
  {
   "cell_type": "code",
   "execution_count": null,
   "metadata": {},
   "outputs": [],
   "source": []
  }
 ],
 "metadata": {
  "kernelspec": {
   "display_name": "Python 3.8.5 ('base')",
   "language": "python",
   "name": "python3"
  },
  "language_info": {
   "codemirror_mode": {
    "name": "ipython",
    "version": 3
   },
   "file_extension": ".py",
   "mimetype": "text/x-python",
   "name": "python",
   "nbconvert_exporter": "python",
   "pygments_lexer": "ipython3",
   "version": "3.9.6"
  },
  "orig_nbformat": 4,
  "vscode": {
   "interpreter": {
    "hash": "92d1c8824dd9ed58f2e2fe7d35df9188f2132fcf69312c535170a29d4fbf29a8"
   }
  }
 },
 "nbformat": 4,
 "nbformat_minor": 2
}
