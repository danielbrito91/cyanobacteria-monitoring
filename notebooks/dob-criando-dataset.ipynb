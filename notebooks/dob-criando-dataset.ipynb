{
 "cells": [
  {
   "cell_type": "markdown",
   "id": "handled-beach",
   "metadata": {},
   "source": [
    "Obtenção dos dados"
   ]
  },
  {
   "cell_type": "code",
   "execution_count": 18,
   "id": "textile-knife",
   "metadata": {},
   "outputs": [],
   "source": [
    "import ee\n",
    "\n",
    "ee.Initialize()\n",
    "ee.Authenticate()"
   ]
  },
  {
   "cell_type": "code",
   "execution_count": 82,
   "id": "relative-filling",
   "metadata": {},
   "outputs": [],
   "source": [
    "import sys\n",
    "\n",
    "sys.path.append(\"../src\") \n",
    "\n",
    "from data.make_ndci_ndvi import add_s2a_ndci_ndvi\n",
    "from data.make_ndci_ndvi import add_id_date\n",
    "from data.make_ndci_ndvi import mask_s2a_clouds\n",
    "import pandas as pd"
   ]
  },
  {
   "cell_type": "code",
   "execution_count": 83,
   "id": "republican-chemical",
   "metadata": {},
   "outputs": [],
   "source": [
    "region = ee.Geometry.Polygon(\n",
    "[[[-51.21646818059103,-30.013957938688517],\n",
    " [-51.21572789090292,-30.013855747123724],\n",
    " [-51.21486958401815,-30.013298336735033],\n",
    " [-51.214097107821864,-30.011923377716094],\n",
    " [-51.21371086972372,-30.011217310272695],\n",
    " [-51.214086378985805,-30.01047407595533],\n",
    " [-51.215556229525966,-30.009888775010992],\n",
    " [-51.21617850201742,-30.01054839963767],\n",
    " [-51.21665057080404,-30.010920017214005],\n",
    " [-51.21725138562338,-30.012257828961395],\n",
    " [-51.2176161660494,-30.01333549752507],\n",
    " [-51.21691879170553,-30.013744265296616],\n",
    " [-51.21646818059103,-30.013957938688517]]])\n",
    "\n",
    "def clp_region(img):\n",
    "    return img.clip(region)"
   ]
  },
  {
   "cell_type": "code",
   "execution_count": 84,
   "id": "hazardous-people",
   "metadata": {},
   "outputs": [],
   "source": [
    "def reduce(img):\n",
    "    \"\"\"Extrai média, mediana, mínimo, máximo e desvio padrão de uma banda\"\"\"\n",
    "    \n",
    "    serie_reduce = img.reduceRegions(**{\n",
    "        \"collection\":region,\n",
    "        \"reducer\": ee.Reducer.mean().combine(**{\n",
    "            \"reducer2\": ee.Reducer.min(),\n",
    "                \"sharedInputs\": True}).combine(**{\n",
    "            \"reducer2\": ee.Reducer.max(),\n",
    "                \"sharedInputs\": True}).combine(**{\n",
    "            \"reducer2\": ee.Reducer.median(),\n",
    "                \"sharedInputs\": True}).combine(**{\n",
    "            \"reducer2\": ee.Reducer.stdDev(),\n",
    "                \"sharedInputs\":True}),\n",
    "        \"scale\": 20\n",
    "    })\n",
    "    \n",
    "    serie_reduce = serie_reduce.map(lambda f: f.set({\"millis\": img.get(\"millis\")}))\\\n",
    "        .map(lambda f: f.set({\"date\": img.get(\"date\")}))\n",
    "    \n",
    "    return serie_reduce.copyProperties(img, [\"system:time_start\"])\n",
    "\n",
    "def create_df(img, band):\n",
    "    \"\"\"Cria um dataframe para dados extraidos de imageCollection\"\"\"\n",
    "    \n",
    "    reduced_img = img.select(band).map(reduce)\\\n",
    "        .flatten()\\\n",
    "        .sort(\"date\", True)\\\n",
    "        .select([\"millis\", \"date\", \"min\", \"max\",\"mean\", \"median\", \"stdDev\"])\n",
    "\n",
    "    lista_df = reduced_img.reduceColumns(\n",
    "        ee.Reducer.toList(7),\n",
    "        [\"millis\", \"date\", \"min\", \"max\",\"mean\", \"median\", \"stdDev\"])\\\n",
    "        .values().get(0)\n",
    "\n",
    "    df = pd.DataFrame(\n",
    "        lista_df.getInfo(),\n",
    "        columns=[\"millis\",\n",
    "                 \"date\"] +\n",
    "        [band + \"_\" + stat for stat in [\"min\", \"max\", \"mean\", \"median\", \"stdDev\"]])\n",
    "    \n",
    "    df[\"date\"] = pd.to_datetime(df[\"date\"], format=\"%Y-%m-%d\")\n",
    "    \n",
    "    return df"
   ]
  },
  {
   "cell_type": "code",
   "execution_count": 87,
   "id": "medium-desert",
   "metadata": {},
   "outputs": [],
   "source": [
    "s2a_amostragem = ee.ImageCollection(\"COPERNICUS/S2_SR\")\\\n",
    "    .filterBounds(region)\\\n",
    "    .filter(ee.Filter.lte(\"CLOUDY_PIXEL_PERCENTAGE\", 30))\\\n",
    "    .map(mask_s2a_clouds)\\\n",
    "    .map(clp_region)\\\n",
    "    .map(add_s2a_ndci_ndvi).map(add_id_date)\n",
    "\n",
    "df_ndvi = create_df(s2a_amostragem, \"NDVI\")\n",
    "df_ndci = create_df(s2a_amostragem, \"NDCI\")\n",
    "df_gee = df_ndvi.merge(df_ndci, on=[\"millis\", \"date\"])"
   ]
  },
  {
   "cell_type": "code",
   "execution_count": 106,
   "id": "considered-referral",
   "metadata": {},
   "outputs": [],
   "source": [
    "import urllib\n",
    "\n",
    "VIGILANCIA_URL = \"https://sage.saude.gov.br/dados/sisagua/controle_mensal_demais_parametros.zip\"\n",
    "DOWNLOAD_DIR = os.path.join(\"..\", \"data\", \"external\", \"vigilancia\")\n",
    "MUNICIPIO = \"PORTO ALEGRE\"\n",
    "MANANCIAL = \"GUAIBA\"\n",
    "\n",
    "def read_vigilancia(download_dir=DOWNLOAD_DIR, municipio=MUNICIPIO, manancial=MANANCIAL, url=VIGILANCIA_URL):\n",
    "    \"\"\"Realiza a leitura de dados baixados da Vigilancia (controle mensal demais parametros)\"\"\"\n",
    "    \n",
    "    filename = os.path.join(DOWNLOAD_DIR, \"controle_mensal_demais_parametros.zip\")\n",
    "    \n",
    "    if not os.path.isfile(filename):\n",
    "        urllib.request.urlretrieve(url, filename)\n",
    "        \n",
    "    vigilancia = pd.read_csv(filename,\n",
    "           compression=\"zip\",\n",
    "            sep=\";\",\n",
    "            decimal=\",\",\n",
    "            encoding=\"latin-1\", low_memory=False,\n",
    "            parse_dates=[\"Data de preenchimento do relatório mensal\",\n",
    "                        \"Data da coleta\"])\n",
    "    \n",
    "    vigilancia =  vigilancia.loc[( vigilancia[\"Município\"] == municipio) &\n",
    "          (vigilancia[\"Nome do manancial superficial\"] == manancial), :]\n",
    "    \n",
    "    return vigilancia"
   ]
  },
  {
   "cell_type": "code",
   "execution_count": 107,
   "id": "structured-absence",
   "metadata": {},
   "outputs": [],
   "source": [
    "df_vigi = read_vigilancia()"
   ]
  },
  {
   "cell_type": "code",
   "execution_count": 110,
   "id": "sudden-spanish",
   "metadata": {},
   "outputs": [],
   "source": [
    "ciano_vigi = df_vigi.loc[(df_vigi[\"Parâmetro\"]==\"Cianobactérias\") &\n",
    "                         (df_vigi[\"Unidade\"]==\"Total de cianobactérias\")]"
   ]
  },
  {
   "cell_type": "code",
   "execution_count": 113,
   "id": "authorized-sigma",
   "metadata": {},
   "outputs": [],
   "source": [
    "df_gee.to_csv(\"../data/processed/gee_coleta.csv\", index=False)\n",
    "ciano_vigi.to_csv(\"../data/processed/ciano_vigi.csv\", index=False)"
   ]
  }
 ],
 "metadata": {
  "kernelspec": {
   "display_name": "venv",
   "language": "python",
   "name": "python3"
  },
  "language_info": {
   "codemirror_mode": {
    "name": "ipython",
    "version": 3
   },
   "file_extension": ".py",
   "mimetype": "text/x-python",
   "name": "python",
   "nbconvert_exporter": "python",
   "pygments_lexer": "ipython3",
   "version": "3.10.0 (tags/v3.10.0:b494f59, Oct  4 2021, 19:00:18) [MSC v.1929 64 bit (AMD64)]"
  },
  "vscode": {
   "interpreter": {
    "hash": "bea6f214db0c84ba1d605d7831ff73fdd276b23b770cc907ce79b7d66bebf2cb"
   }
  }
 },
 "nbformat": 4,
 "nbformat_minor": 5
}
