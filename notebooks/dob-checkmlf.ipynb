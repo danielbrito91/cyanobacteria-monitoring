{
 "cells": [
  {
   "cell_type": "code",
   "execution_count": 1,
   "metadata": {},
   "outputs": [
    {
     "name": "stdout",
     "output_type": "stream",
     "text": [
      "c:\\Users\\Daniel\\cyanobacteria-monitoring\n"
     ]
    }
   ],
   "source": [
    "%cd .."
   ]
  },
  {
   "cell_type": "code",
   "execution_count": 2,
   "metadata": {},
   "outputs": [],
   "source": [
    "import mlflow\n",
    "import yaml"
   ]
  },
  {
   "cell_type": "code",
   "execution_count": 3,
   "metadata": {},
   "outputs": [],
   "source": [
    "with open(\"params.yaml\") as config_file:\n",
    "    config = yaml.safe_load(config_file)"
   ]
  },
  {
   "cell_type": "code",
   "execution_count": 12,
   "metadata": {},
   "outputs": [
    {
     "data": {
      "text/html": [
       "<div>\n",
       "<style scoped>\n",
       "    .dataframe tbody tr th:only-of-type {\n",
       "        vertical-align: middle;\n",
       "    }\n",
       "\n",
       "    .dataframe tbody tr th {\n",
       "        vertical-align: top;\n",
       "    }\n",
       "\n",
       "    .dataframe thead th {\n",
       "        text-align: right;\n",
       "    }\n",
       "</style>\n",
       "<table border=\"1\" class=\"dataframe\">\n",
       "  <thead>\n",
       "    <tr style=\"text-align: right;\">\n",
       "      <th></th>\n",
       "      <th>run_id</th>\n",
       "      <th>experiment_id</th>\n",
       "      <th>status</th>\n",
       "      <th>artifact_uri</th>\n",
       "      <th>start_time</th>\n",
       "      <th>end_time</th>\n",
       "      <th>metrics.mae</th>\n",
       "      <th>metrics.mlse</th>\n",
       "      <th>params.max_depth</th>\n",
       "      <th>params.n_estimators</th>\n",
       "      <th>params.scale_pos_weight</th>\n",
       "      <th>params.learning_rate</th>\n",
       "      <th>params.colsample_bytree</th>\n",
       "      <th>params.colsample_bylevel</th>\n",
       "      <th>params.subsample</th>\n",
       "      <th>tags.mlflow.source.git.commit</th>\n",
       "      <th>tags.mlflow.source.type</th>\n",
       "      <th>tags.mlflow.user</th>\n",
       "      <th>tags.mlflow.source.name</th>\n",
       "      <th>tags.mlflow.runName</th>\n",
       "    </tr>\n",
       "  </thead>\n",
       "  <tbody>\n",
       "    <tr>\n",
       "      <th>0</th>\n",
       "      <td>d288f49697cd464091eca38a8e02bee7</td>\n",
       "      <td>1</td>\n",
       "      <td>FINISHED</td>\n",
       "      <td>file:///C:/Users/Daniel/cyanobacteria-monitori...</td>\n",
       "      <td>2022-09-27 20:17:58.115000+00:00</td>\n",
       "      <td>2022-09-27 20:18:08.794000+00:00</td>\n",
       "      <td>5002.675278</td>\n",
       "      <td>9.867404</td>\n",
       "      <td>16</td>\n",
       "      <td>1000</td>\n",
       "      <td>85</td>\n",
       "      <td>0.5</td>\n",
       "      <td>0.9</td>\n",
       "      <td>0.4</td>\n",
       "      <td>0.8</td>\n",
       "      <td>e338a8cf6571085ed1157a15147c6365498af93a</td>\n",
       "      <td>LOCAL</td>\n",
       "      <td>Daniel</td>\n",
       "      <td>src/stages/train.py</td>\n",
       "      <td>xgboost</td>\n",
       "    </tr>\n",
       "  </tbody>\n",
       "</table>\n",
       "</div>"
      ],
      "text/plain": [
       "                             run_id experiment_id    status  \\\n",
       "0  d288f49697cd464091eca38a8e02bee7             1  FINISHED   \n",
       "\n",
       "                                        artifact_uri  \\\n",
       "0  file:///C:/Users/Daniel/cyanobacteria-monitori...   \n",
       "\n",
       "                        start_time                         end_time  \\\n",
       "0 2022-09-27 20:17:58.115000+00:00 2022-09-27 20:18:08.794000+00:00   \n",
       "\n",
       "   metrics.mae  metrics.mlse params.max_depth params.n_estimators  \\\n",
       "0  5002.675278      9.867404               16                1000   \n",
       "\n",
       "  params.scale_pos_weight params.learning_rate params.colsample_bytree  \\\n",
       "0                      85                  0.5                     0.9   \n",
       "\n",
       "  params.colsample_bylevel params.subsample  \\\n",
       "0                      0.4              0.8   \n",
       "\n",
       "              tags.mlflow.source.git.commit tags.mlflow.source.type  \\\n",
       "0  e338a8cf6571085ed1157a15147c6365498af93a                   LOCAL   \n",
       "\n",
       "  tags.mlflow.user tags.mlflow.source.name tags.mlflow.runName  \n",
       "0           Daniel     src/stages/train.py             xgboost  "
      ]
     },
     "execution_count": 12,
     "metadata": {},
     "output_type": "execute_result"
    }
   ],
   "source": [
    "eid = mlflow.get_experiment_by_name(config[\"mlflow_config\"][\"experiment_name\"]).experiment_id\n",
    "mlflow.search_runs(experiment_ids=eid, order_by=[\"metrics.mae\"])"
   ]
  },
  {
   "cell_type": "code",
   "execution_count": null,
   "metadata": {},
   "outputs": [],
   "source": []
  }
 ],
 "metadata": {
  "kernelspec": {
   "display_name": "Python 3.10.0 ('venv': venv)",
   "language": "python",
   "name": "python3"
  },
  "language_info": {
   "codemirror_mode": {
    "name": "ipython",
    "version": 3
   },
   "file_extension": ".py",
   "mimetype": "text/x-python",
   "name": "python",
   "nbconvert_exporter": "python",
   "pygments_lexer": "ipython3",
   "version": "3.10.0"
  },
  "orig_nbformat": 4,
  "vscode": {
   "interpreter": {
    "hash": "bea6f214db0c84ba1d605d7831ff73fdd276b23b770cc907ce79b7d66bebf2cb"
   }
  }
 },
 "nbformat": 4,
 "nbformat_minor": 2
}
